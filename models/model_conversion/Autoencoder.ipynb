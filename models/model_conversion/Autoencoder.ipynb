{
  "cells": [
    {
      "cell_type": "markdown",
      "metadata": {
        "id": "u62qDYRGlrdH"
      },
      "source": [
        "# Floating point model"
      ]
    },
    {
      "cell_type": "markdown",
      "metadata": {
        "id": "A_YnOdjslpiM"
      },
      "source": [
        "https://towardsdatascience.com/how-autoencoders-outperform-pca-in-dimensionality-reduction-1ae44c68b42f"
      ]
    },
    {
      "cell_type": "markdown",
      "metadata": {
        "id": "DobjXb5m0oHu"
      },
      "source": [
        "## training model"
      ]
    },
    {
      "cell_type": "code",
      "execution_count": null,
      "metadata": {
        "id": "cuyloHzZPr-0"
      },
      "outputs": [],
      "source": [
        "# Acquire MNIST data\n",
        "from tensorflow.keras.datasets import mnist\n",
        "\n",
        "# Load MNIST dataset\n",
        "(train_images, train_labels), (test_images, test_labels) = mnist.load_data()\n",
        "\n"
      ]
    },
    {
      "cell_type": "code",
      "execution_count": null,
      "metadata": {
        "colab": {
          "base_uri": "https://localhost:8080/"
        },
        "id": "NukOc-AZ1Pr1",
        "outputId": "5488a6e7-247c-477b-e2fd-4f8ff997d011"
      },
      "outputs": [
        {
          "data": {
            "text/plain": [
              "60000"
            ]
          },
          "execution_count": 25,
          "metadata": {},
          "output_type": "execute_result"
        }
      ],
      "source": [
        "len(train_images)"
      ]
    },
    {
      "cell_type": "code",
      "execution_count": null,
      "metadata": {
        "id": "dksvKowV1PIa"
      },
      "outputs": [],
      "source": [
        "# Normalize the input image so that each pixel value is between 0 to 1.\n",
        "# train_images = train_images / 255.0\n",
        "# test_images = test_images / 255.0\n",
        "\n",
        "# Reshape data\n",
        "import numpy as np\n",
        "\n",
        "train_images = np.reshape(train_images, (-1, 784))\n",
        "test_images = np.reshape(test_images, (-1, 784))"
      ]
    },
    {
      "cell_type": "code",
      "execution_count": null,
      "metadata": {
        "colab": {
          "base_uri": "https://localhost:8080/"
        },
        "id": "JriYtVCf1Yjg",
        "outputId": "3ea6c24c-73de-4f1d-aa63-6b5651e72ba0"
      },
      "outputs": [
        {
          "data": {
            "text/plain": [
              "60000"
            ]
          },
          "execution_count": 28,
          "metadata": {},
          "output_type": "execute_result"
        }
      ],
      "source": [
        "len(train_images)"
      ]
    },
    {
      "cell_type": "code",
      "execution_count": null,
      "metadata": {
        "colab": {
          "base_uri": "https://localhost:8080/"
        },
        "id": "S23bdM6k1UHh",
        "outputId": "9febe1a6-a365-4b16-bfc7-220260eaf363"
      },
      "outputs": [
        {
          "data": {
            "text/plain": [
              "array([[0, 0, 0, ..., 0, 0, 0],\n",
              "       [0, 0, 0, ..., 0, 0, 0],\n",
              "       [0, 0, 0, ..., 0, 0, 0],\n",
              "       ...,\n",
              "       [0, 0, 0, ..., 0, 0, 0],\n",
              "       [0, 0, 0, ..., 0, 0, 0],\n",
              "       [0, 0, 0, ..., 0, 0, 0]], dtype=uint8)"
            ]
          },
          "execution_count": 29,
          "metadata": {},
          "output_type": "execute_result"
        }
      ],
      "source": [
        "train_images"
      ]
    },
    {
      "cell_type": "code",
      "execution_count": null,
      "metadata": {
        "id": "tE8WpZwt1SnJ"
      },
      "outputs": [],
      "source": [
        "# Normalize data\n",
        "train_images = train_images.astype('float32') / 255\n",
        "test_images = test_images.astype('float32') / 255"
      ]
    },
    {
      "cell_type": "code",
      "execution_count": null,
      "metadata": {
        "colab": {
          "base_uri": "https://localhost:8080/"
        },
        "id": "Jrd8ELXe1Eqh",
        "outputId": "78dc707a-a253-4102-8e0f-a6fef73a2f38"
      },
      "outputs": [
        {
          "data": {
            "text/plain": [
              "array([[0., 0., 0., ..., 0., 0., 0.],\n",
              "       [0., 0., 0., ..., 0., 0., 0.],\n",
              "       [0., 0., 0., ..., 0., 0., 0.],\n",
              "       ...,\n",
              "       [0., 0., 0., ..., 0., 0., 0.],\n",
              "       [0., 0., 0., ..., 0., 0., 0.],\n",
              "       [0., 0., 0., ..., 0., 0., 0.]], dtype=float32)"
            ]
          },
          "execution_count": 31,
          "metadata": {},
          "output_type": "execute_result"
        }
      ],
      "source": [
        "train_images"
      ]
    },
    {
      "cell_type": "code",
      "execution_count": null,
      "metadata": {
        "id": "-SOV8oY4PVSf"
      },
      "outputs": [],
      "source": [
        "# from tensorflow.keras import Model, Input\n",
        "# from tensorflow.keras.layers import Dense\n",
        "\n",
        "# input_dim = 28*28\n",
        "# latent_vec_dim = 2\n",
        "\n",
        "# input_layer = Input(shape=(input_dim,))\n",
        "\n",
        "# # Define the autoencoder architecture\n",
        "# # First build the encoder\n",
        "# enc_layer_1 = Dense(500, activation='sigmoid')(input_layer)\n",
        "# enc_layer_2 = Dense(300, activation='sigmoid')(enc_layer_1)\n",
        "# enc_layer_3 = Dense(100, activation='sigmoid')(enc_layer_2)\n",
        "# enc_layer_4 = Dense(latent_vec_dim, activation='tanh')(enc_layer_3)\n",
        "# encoder = enc_layer_4\n",
        "\n",
        "# # Then build the decoder\n",
        "# dec_layer_1 = Dense(100, activation='sigmoid')(encoder)\n",
        "# dec_layer_2 = Dense(300, activation='sigmoid')(dec_layer_1)\n",
        "# dec_layer_3 = Dense(500, activation='sigmoid')(dec_layer_2)\n",
        "# dec_layer_4 = Dense(input_dim, activation='sigmoid')(dec_layer_3)\n",
        "# decoder = dec_layer_4\n",
        "\n",
        "# # Connect both encoder and decoder\n",
        "# autoencoder = Model(input_layer, decoder, name=\"Deep_Autoencoder\")\n",
        "\n",
        "# # Latent representation (Optional)\n",
        "# latent_model = Model(input_layer, encoder)\n",
        "\n",
        "# # Get summary\n",
        "# model.summary()"
      ]
    },
    {
      "cell_type": "code",
      "execution_count": null,
      "metadata": {
        "colab": {
          "base_uri": "https://localhost:8080/"
        },
        "id": "17VkNLfWM03f",
        "outputId": "e33ac6d2-e3f2-4957-c4f4-c3e122f833ec"
      },
      "outputs": [
        {
          "name": "stdout",
          "output_type": "stream",
          "text": [
            "Model: \"Deep_Autoencoder\"\n",
            "_________________________________________________________________\n",
            " Layer (type)                Output Shape              Param #   \n",
            "=================================================================\n",
            " input_2 (InputLayer)        [(None, 784)]             0         \n",
            "                                                                 \n",
            " dense_8 (Dense)             (None, 500)               392500    \n",
            "                                                                 \n",
            " dense_9 (Dense)             (None, 300)               150300    \n",
            "                                                                 \n",
            " dense_10 (Dense)            (None, 100)               30100     \n",
            "                                                                 \n",
            " dense_11 (Dense)            (None, 2)                 202       \n",
            "                                                                 \n",
            " dense_12 (Dense)            (None, 100)               300       \n",
            "                                                                 \n",
            " dense_13 (Dense)            (None, 300)               30300     \n",
            "                                                                 \n",
            " dense_14 (Dense)            (None, 500)               150500    \n",
            "                                                                 \n",
            " dense_15 (Dense)            (None, 784)               392784    \n",
            "                                                                 \n",
            "=================================================================\n",
            "Total params: 1,146,986\n",
            "Trainable params: 1,146,986\n",
            "Non-trainable params: 0\n",
            "_________________________________________________________________\n"
          ]
        }
      ],
      "source": [
        "from tensorflow.keras import Model, Input\n",
        "from tensorflow.keras.layers import Dense\n",
        "\n",
        "input_dim = 28*28\n",
        "latent_vec_dim = 2\n",
        "\n",
        "input_layer = Input(shape=(input_dim,))\n",
        "\n",
        "# Define the autoencoder architecture\n",
        "# First build the encoder\n",
        "enc_layer_1 = Dense(500, activation='relu')(input_layer)\n",
        "enc_layer_2 = Dense(300, activation='relu')(enc_layer_1)\n",
        "enc_layer_3 = Dense(100, activation='relu')(enc_layer_2)\n",
        "enc_layer_4 = Dense(latent_vec_dim, activation='sigmoid')(enc_layer_3)\n",
        "encoder = enc_layer_4\n",
        "\n",
        "# Then build the decoder\n",
        "dec_layer_1 = Dense(100, activation='relu')(encoder)\n",
        "dec_layer_2 = Dense(300, activation='relu')(dec_layer_1)\n",
        "dec_layer_3 = Dense(500, activation='relu')(dec_layer_2)\n",
        "dec_layer_4 = Dense(input_dim, activation='sigmoid')(dec_layer_3)\n",
        "decoder = dec_layer_4\n",
        "\n",
        "# Connect both encoder and decoder\n",
        "autoencoder = Model(input_layer, decoder, name=\"Deep_Autoencoder\")\n",
        "model = autoencoder\n",
        "# Latent representation (Optional)\n",
        "latent_model = Model(input_layer, encoder)\n",
        "\n",
        "# Get summary\n",
        "model.summary()"
      ]
    },
    {
      "cell_type": "code",
      "execution_count": null,
      "metadata": {
        "colab": {
          "base_uri": "https://localhost:8080/",
          "height": 1000
        },
        "id": "m0DytRyqPbCY",
        "outputId": "eb30c49f-2cc4-41a4-b31a-b97dc4687206"
      },
      "outputs": [
        {
          "name": "stdout",
          "output_type": "stream",
          "text": [
            "Epoch 1/20\n",
            "469/469 [==============================] - 12s 22ms/step - loss: 0.2745 - val_loss: 0.2631\n",
            "Epoch 2/20\n",
            "469/469 [==============================] - 11s 23ms/step - loss: 0.2634 - val_loss: 0.2632\n",
            "Epoch 3/20\n",
            "469/469 [==============================] - 12s 25ms/step - loss: 0.2633 - val_loss: 0.2632\n",
            "Epoch 4/20\n",
            "469/469 [==============================] - 10s 21ms/step - loss: 0.2632 - val_loss: 0.2628\n",
            "Epoch 5/20\n",
            "469/469 [==============================] - 10s 21ms/step - loss: 0.2632 - val_loss: 0.2631\n",
            "Epoch 6/20\n",
            "469/469 [==============================] - 10s 22ms/step - loss: 0.2631 - val_loss: 0.2628\n",
            "Epoch 7/20\n",
            "469/469 [==============================] - 10s 21ms/step - loss: 0.2631 - val_loss: 0.2627\n",
            "Epoch 8/20\n",
            "469/469 [==============================] - 11s 23ms/step - loss: 0.2631 - val_loss: 0.2628\n",
            "Epoch 9/20\n",
            "469/469 [==============================] - 10s 22ms/step - loss: 0.2631 - val_loss: 0.2627\n",
            "Epoch 10/20\n",
            "469/469 [==============================] - 10s 22ms/step - loss: 0.2631 - val_loss: 0.2627\n",
            "Epoch 11/20\n",
            "469/469 [==============================] - 9s 20ms/step - loss: 0.2630 - val_loss: 0.2629\n",
            "Epoch 12/20\n",
            "469/469 [==============================] - 10s 22ms/step - loss: 0.2630 - val_loss: 0.2628\n",
            "Epoch 13/20\n",
            "469/469 [==============================] - 10s 22ms/step - loss: 0.2630 - val_loss: 0.2628\n",
            "Epoch 14/20\n",
            "469/469 [==============================] - 10s 21ms/step - loss: 0.2630 - val_loss: 0.2628\n",
            "Epoch 15/20\n",
            "469/469 [==============================] - 10s 22ms/step - loss: 0.2630 - val_loss: 0.2628\n",
            "Epoch 16/20\n",
            "469/469 [==============================] - 10s 22ms/step - loss: 0.2630 - val_loss: 0.2628\n",
            "Epoch 17/20\n",
            "469/469 [==============================] - 11s 22ms/step - loss: 0.2630 - val_loss: 0.2626\n",
            "Epoch 18/20\n",
            "469/469 [==============================] - 10s 20ms/step - loss: 0.2630 - val_loss: 0.2625\n",
            "Epoch 19/20\n",
            "469/469 [==============================] - 10s 22ms/step - loss: 0.2630 - val_loss: 0.2628\n",
            "Epoch 20/20\n",
            "469/469 [==============================] - 10s 22ms/step - loss: 0.2630 - val_loss: 0.2627\n"
          ]
        },
        {
          "data": {
            "text/plain": [
              "<matplotlib.legend.Legend at 0x7f3fc6a4b310>"
            ]
          },
          "execution_count": 33,
          "metadata": {},
          "output_type": "execute_result"
        },
        {
          "data": {
            "image/png": "[encoded data removed]",
            "text/plain": [
              "<Figure size 432x288 with 1 Axes>"
            ]
          },
          "metadata": {
            "needs_background": "light"
          },
          "output_type": "display_data"
        }
      ],
      "source": [
        "# Compile the autoencoder model\n",
        "model.compile(loss='binary_crossentropy', optimizer='adam')\n",
        "\n",
        "# Train the autoencoder with MNIST data\n",
        "history = model.fit(train_images, train_images, epochs=20, batch_size=128,\n",
        "                          shuffle=True, validation_data=(test_images, test_images))\n",
        "\n",
        "# Plot training and validation loss scores\n",
        "# against the number of epochs.\n",
        "import matplotlib.pyplot as plt\n",
        "plt.plot(history.history['loss'], label='Train')\n",
        "plt.plot(history.history['val_loss'], label='Validation')\n",
        "plt.ylabel('Binary Cross Entropy Loss')\n",
        "plt.xlabel('Epoch')\n",
        "plt.title('Autoencoder Reconstruction Loss', pad=13)\n",
        "plt.legend(loc='upper right')"
      ]
    },
    {
      "cell_type": "markdown",
      "metadata": {
        "id": "GcPI3dbG0sUa"
      },
      "source": [
        "## plot"
      ]
    },
    {
      "cell_type": "markdown",
      "metadata": {
        "id": "xtSoTXbh0Rq-"
      },
      "source": [
        "Step 2: Apply PCA with only two components. The original dimensionality of the input data is 784.\n"
      ]
    },
    {
      "cell_type": "code",
      "execution_count": null,
      "metadata": {
        "id": "-3lLHqZ90TNq"
      },
      "outputs": [],
      "source": [
        "from sklearn.decomposition import PCA\n",
        "\n",
        "pca = PCA(n_components=2)\n",
        "pca.fit(train_images)\n",
        "compressed_images = pca.transform(test_images)\n",
        "recovered_images = pca.inverse_transform(compressed_images)"
      ]
    },
    {
      "cell_type": "markdown",
      "metadata": {
        "id": "bZzafsg70I96"
      },
      "source": [
        "Step 3: Visualize compressed MNIST digits after PCA."
      ]
    },
    {
      "cell_type": "code",
      "execution_count": null,
      "metadata": {
        "colab": {
          "base_uri": "https://localhost:8080/",
          "height": 73
        },
        "id": "zpQLV2N80GRm",
        "outputId": "feb1d7cc-daeb-4083-c17f-1172c32f13f1"
      },
      "outputs": [
        {
          "data": {
            "image/png": "[encoded data removed]",
            "text/plain": [
              "<Figure size 648x144 with 10 Axes>"
            ]
          },
          "metadata": {
            "needs_background": "light"
          },
          "output_type": "display_data"
        }
      ],
      "source": [
        "# Visualize compressed MNIST digits after PCA\n",
        "n = 10\n",
        "plt.figure(figsize=(9, 2))\n",
        "for i in range(n):\n",
        "  ax = plt.subplot(1, n, i+1)\n",
        "  plt.imshow(recovered_images[i].reshape(28, 28), cmap=\"gray\")\n",
        "  ax.axis('off')\n",
        "\n",
        "plt.show()"
      ]
    },
    {
      "cell_type": "markdown",
      "metadata": {
        "id": "01Wa_aAvm9wA"
      },
      "source": [
        "Step 4: Visualize compressed MNIST digits after autoencoding.\n"
      ]
    },
    {
      "cell_type": "code",
      "execution_count": null,
      "metadata": {
        "colab": {
          "base_uri": "https://localhost:8080/",
          "height": 90
        },
        "id": "g5tqwTVLl-JP",
        "outputId": "7ec88135-0f13-4c16-df60-fbba4973a15a"
      },
      "outputs": [
        {
          "name": "stdout",
          "output_type": "stream",
          "text": [
            "313/313 [==============================] - 1s 4ms/step\n"
          ]
        },
        {
          "data": {
            "image/png": "[encoded data removed]",
            "text/plain": [
              "<Figure size 648x144 with 10 Axes>"
            ]
          },
          "metadata": {
            "needs_background": "light"
          },
          "output_type": "display_data"
        }
      ],
      "source": [
        "# Prediçao\n",
        "compressed_images = model.predict(test_images)\n",
        "n = 10\n",
        "plt.figure(figsize=(9, 2))\n",
        "for i in range(n):\n",
        "  ax = plt.subplot(1, n, i+1)\n",
        "  plt.imshow(compressed_images[i].reshape(28, 28), cmap=\"gray\")\n",
        "  ax.axis('off')\n",
        "\n",
        "plt.show()"
      ]
    },
    {
      "cell_type": "markdown",
      "metadata": {
        "id": "iBPMZOalm_2C"
      },
      "source": [
        "Step 5: Visualize test data in the latent space to see how the autoencoder model is capable of distinguishing between the nine digits in the test data.\n"
      ]
    },
    {
      "cell_type": "code",
      "execution_count": null,
      "metadata": {
        "colab": {
          "base_uri": "https://localhost:8080/",
          "height": 488
        },
        "id": "B0g2as4pnAXx",
        "outputId": "8520f1ca-ae2d-4c98-f8e4-1dbdf414ca17"
      },
      "outputs": [
        {
          "name": "stdout",
          "output_type": "stream",
          "text": [
            "313/313 [==============================] - 1s 3ms/step\n"
          ]
        },
        {
          "data": {
            "text/plain": [
              "<matplotlib.legend.Legend at 0x7f3fb2bf5280>"
            ]
          },
          "execution_count": 19,
          "metadata": {},
          "output_type": "execute_result"
        },
        {
          "data": {
            "image/png": "[encoded data removed]",
            "text/plain": [
              "<Figure size 720x504 with 1 Axes>"
            ]
          },
          "metadata": {
            "needs_background": "light"
          },
          "output_type": "display_data"
        }
      ],
      "source": [
        "latent_representation = latent_model.predict(test_images)\n",
        "\n",
        "import seaborn as sns\n",
        "\n",
        "plt.figure(figsize=(10, 7))\n",
        "\n",
        "sns.scatterplot(x=latent_representation[:,0],\n",
        "                y=latent_representation[:,1],\n",
        "                hue=test_labels, palette='tab10')\n",
        "\n",
        "plt.xlabel(\"Encoder first dimension\")\n",
        "plt.ylabel(\"Encoder second dimension\")\n",
        "\n",
        "plt.legend(bbox_to_anchor=(1.01, 1),\n",
        "           borderaxespad=0)"
      ]
    },
    {
      "cell_type": "markdown",
      "metadata": {
        "id": "9ZEjjhGz2_HI"
      },
      "source": [
        "# Salvando modelo"
      ]
    },
    {
      "cell_type": "code",
      "execution_count": null,
      "metadata": {
        "colab": {
          "base_uri": "https://localhost:8080/"
        },
        "id": "dC3b-oYH2_uC",
        "outputId": "c966d0c6-d04f-49f1-9057-c88a7d5a8159"
      },
      "outputs": [
        {
          "data": {
            "text/plain": [
              "0.26271089911460876"
            ]
          },
          "execution_count": 7,
          "metadata": {},
          "output_type": "execute_result"
        }
      ],
      "source": [
        "model_accuracy = history.history['val_loss'][-1]\n",
        "model_accuracy"
      ]
    },
    {
      "cell_type": "code",
      "execution_count": null,
      "metadata": {
        "colab": {
          "base_uri": "https://localhost:8080/",
          "height": 35
        },
        "id": "qMHGX5FL3Bic",
        "outputId": "c5970718-c937-488e-92d3-1d8d01f7484e"
      },
      "outputs": [
        {
          "data": {
            "application/vnd.google.colaboratory.intrinsic+json": {
              "type": "string"
            },
            "text/plain": [
              "'model_500_autoencoder_acc0.26271 2023-03-21 15:33:29.353677'"
            ]
          },
          "execution_count": 8,
          "metadata": {},
          "output_type": "execute_result"
        }
      ],
      "source": [
        "import datetime\n",
        "model_name = f\"model_500_autoencoder_acc{str(model_accuracy)[0:7]} {datetime.datetime.now()}\"\n",
        "model_name"
      ]
    },
    {
      "cell_type": "code",
      "execution_count": null,
      "metadata": {
        "colab": {
          "base_uri": "https://localhost:8080/",
          "height": 35
        },
        "id": "-_ZH8moI4eGw",
        "outputId": "1a51aa60-4afc-4959-f60b-b28481add011"
      },
      "outputs": [
        {
          "data": {
            "application/vnd.google.colaboratory.intrinsic+json": {
              "type": "string"
            },
            "text/plain": [
              "'/content/drive/MyDrive/UFSC/Autoencoder/model_500_autoencoder_acc0.26271 2023-03-21 15:33:29.353677'"
            ]
          },
          "execution_count": 10,
          "metadata": {},
          "output_type": "execute_result"
        }
      ],
      "source": [
        "import os\n",
        "dir_to_save = '/content/drive/MyDrive/UFSC/Autoencoder/'\n",
        "# foldername = 'nome_pasta'\n",
        "# model_folder = os.path.join(dir_to_save, foldername)\n",
        "model_folder = dir_to_save\n",
        "\n",
        "model_path = os.path.join(model_folder, model_name)\n",
        "model_path"
      ]
    },
    {
      "cell_type": "code",
      "execution_count": null,
      "metadata": {
        "colab": {
          "base_uri": "https://localhost:8080/"
        },
        "id": "yhph6TBP3BoY",
        "outputId": "52c6b58c-914e-4f95-f926-f096ea833139"
      },
      "outputs": [
        {
          "name": "stderr",
          "output_type": "stream",
          "text": [
            "WARNING:absl:Found untraced functions such as _update_step_xla while saving (showing 1 of 1). These functions will not be directly callable after loading.\n"
          ]
        }
      ],
      "source": [
        "import os\n",
        "model.save(model_path) # layer_config = serialize_layer_fn(layer)"
      ]
    },
    {
      "cell_type": "code",
      "execution_count": null,
      "metadata": {
        "id": "gPsKnVoX3BrJ"
      },
      "outputs": [],
      "source": [
        "# !pip install pyyaml h5py  # Required to save models in HDF5 format\n",
        "\n",
        "# # Save the entire model to a HDF5 file.\n",
        "# # The '.h5' extension indicates that the model should be saved to HDF5.\n",
        "# model.save(f'{model_name}.h5') "
      ]
    },
    {
      "cell_type": "code",
      "execution_count": null,
      "metadata": {
        "id": "YfnHtrPR5OH8"
      },
      "outputs": [],
      "source": [
        "# import shutil\n",
        "# shutil.copy(model_colab_path, os.path.join(model_folder, f\"{model_name}.h5\"))"
      ]
    },
    {
      "cell_type": "markdown",
      "metadata": {
        "id": "oMp5VtsK5Qvt"
      },
      "source": [
        "# Load model"
      ]
    },
    {
      "cell_type": "markdown",
      "metadata": {
        "id": "cvPxMitA5UDd"
      },
      "source": [
        "https://www.youtube.com/watch?v=HxtBIwfy0kM"
      ]
    },
    {
      "cell_type": "code",
      "execution_count": null,
      "metadata": {
        "id": "k7qOvfOu5SnR"
      },
      "outputs": [],
      "source": [
        "# from google.colab import drive\n",
        "# drive.mount('/content/drive')"
      ]
    },
    {
      "cell_type": "code",
      "execution_count": null,
      "metadata": {
        "id": "XpjrWRHV5VbA"
      },
      "outputs": [],
      "source": [
        "from tensorflow.keras.models import load_model"
      ]
    },
    {
      "cell_type": "code",
      "execution_count": null,
      "metadata": {
        "id": "hHPWGTa75Vjv"
      },
      "outputs": [],
      "source": [
        "# model_path = os.path.join(model_folder,model_name)\n",
        "# model_path = r'/content/drive/MyDrive/Projeto-TCC/Dataset/datasets-colab/models-arroz-açúcar-cafe-leite-óleo/Proprio-leakyrelu-l1l2-models-arroz-açúcar-cafe-leite-óleo1-acc0.91620 2022-03-30 00:02:51'\n",
        "\n",
        "# model_path = r'/content/drive/MyDrive/UFSC/Autoencoder/model_500_autoencoder_acc'\n",
        "# model_path = os.path.join(model_folder, model_name)\n",
        "# model_path"
      ]
    },
    {
      "cell_type": "code",
      "execution_count": null,
      "metadata": {
        "id": "HKjpE0ia5Vmc"
      },
      "outputs": [],
      "source": [
        "# new_model = load_model(f\"{model_path}.h5\")\n",
        "new_model = load_model(model_path)\n",
        "\n",
        "new_model.summary()"
      ]
    },
    {
      "cell_type": "code",
      "execution_count": null,
      "metadata": {
        "id": "5rsxW_H85rRZ"
      },
      "outputs": [],
      "source": []
    },
    {
      "cell_type": "markdown",
      "metadata": {
        "id": "Ff0BOLzQRp7l"
      },
      "source": [
        "# Quantizing"
      ]
    },
    {
      "cell_type": "markdown",
      "metadata": {
        "id": "OLFpS3wcRsFe"
      },
      "source": [
        "https://www.tensorflow.org/model_optimization/guide/quantization/training_example"
      ]
    },
    {
      "cell_type": "markdown",
      "metadata": {
        "id": "xieWFCmwRcDC"
      },
      "source": [
        "Clone and fine-tune pre-trained model with quantization aware training"
      ]
    },
    {
      "cell_type": "code",
      "execution_count": null,
      "metadata": {
        "id": "AF24SX9zR_BS"
      },
      "outputs": [],
      "source": [
        "model = autoencoder"
      ]
    },
    {
      "cell_type": "code",
      "execution_count": null,
      "metadata": {
        "id": "-T_wJ9lTSM4i"
      },
      "outputs": [],
      "source": [
        "!pip install -q tensorflow\n",
        "!pip install -q tensorflow-model-optimization"
      ]
    },
    {
      "cell_type": "code",
      "execution_count": null,
      "metadata": {
        "id": "0bXxuIC6RbeL"
      },
      "outputs": [],
      "source": [
        "import tempfile\n",
        "import os\n",
        "\n",
        "import tensorflow as tf\n",
        "\n",
        "from tensorflow import keras\n",
        "import tensorflow_model_optimization as tfmot\n",
        "\n",
        "quantize_model = tfmot.quantization.keras.quantize_model\n",
        "\n",
        "# q_aware stands for for quantization aware.\n",
        "q_aware_model = quantize_model(model)\n",
        "\n",
        "# `quantize_model` requires a recompile.\n",
        "# q_aware_model.compile(optimizer='adam',\n",
        "#               loss=tf.keras.losses.SparseCategoricalCrossentropy(from_logits=True),\n",
        "#               metrics=['accuracy'])\n",
        "q_aware_model.compile(loss='binary_crossentropy', optimizer='adam')\n",
        "\n",
        "\n",
        "q_aware_model.summary()"
      ]
    },
    {
      "cell_type": "markdown",
      "metadata": {
        "id": "Pr1M5I7fRhKR"
      },
      "source": [
        "Train and evaluate the model against baseline"
      ]
    },
    {
      "cell_type": "code",
      "execution_count": null,
      "metadata": {
        "id": "YDo1pgncRegx"
      },
      "outputs": [],
      "source": [
        "train_images_subset = train_images[0:1000] # out of 60000\n",
        "train_labels_subset = train_labels[0:1000]\n",
        "test_images_subset = test_images[0:1000]\n",
        "\n",
        "# q_aware_model.fit(train_images_subset, train_labels_subset,\n",
        "#                   batch_size=500, epochs=1, validation_split=0.1)\n",
        "\n",
        "history_quant = q_aware_model.fit(x = train_images, y = train_images, epochs=2, batch_size=128, \n",
        "                  shuffle=True, validation_data=(test_images, test_images))\n",
        "# Plot training and validation loss scores\n",
        "# against the number of epochs.\n",
        "import matplotlib.pyplot as plt\n",
        "plt.plot(history_quant.history['loss'], label='Train')\n",
        "plt.plot(history_quant.history['val_loss'], label='Validation')\n",
        "plt.ylabel('Binary Cross Entropy Loss')\n",
        "plt.xlabel('Epoch')\n",
        "plt.title('Autoencoder Reconstruction Loss', pad=13)\n",
        "plt.legend(loc='upper right')"
      ]
    },
    {
      "cell_type": "code",
      "execution_count": null,
      "metadata": {
        "id": "QCtNsOufrObv"
      },
      "outputs": [],
      "source": [
        "# Prediçao Autoendoder Floating Point\n",
        "compressed_images = model.predict(test_images)\n",
        "n = 5\n",
        "plt.figure(figsize=(9, 2))\n",
        "for i in range(n):\n",
        "  ax = plt.subplot(1, n, i+1)\n",
        "  plt.imshow(compressed_images[i].reshape(28, 28), cmap=\"gray\")\n",
        "  ax.axis('off')\n",
        "\n",
        "plt.show()"
      ]
    },
    {
      "cell_type": "code",
      "execution_count": null,
      "metadata": {
        "id": "KCnFYpR-p15B"
      },
      "outputs": [],
      "source": [
        "# Prediçao Autoendoder Quantizado\n",
        "compressed_images_q_aware = q_aware_model.predict(test_images)\n",
        "n = 5\n",
        "plt.figure(figsize=(9, 2))\n",
        "for i in range(n):\n",
        "  ax = plt.subplot(1, n, i+1)\n",
        "  plt.imshow(compressed_images_q_aware[i].reshape(28, 28), cmap=\"gray\")\n",
        "  ax.axis('off')\n",
        "\n",
        "plt.show()"
      ]
    },
    {
      "cell_type": "code",
      "execution_count": null,
      "metadata": {
        "id": "pIk5ajtJLRfE"
      },
      "outputs": [],
      "source": [
        "# _, baseline_model_accuracy = model.evaluate(\n",
        "#     test_images, test_images, verbose=0)\n",
        "\n",
        "# _, q_aware_model_accuracy = q_aware_model.evaluate(\n",
        "#    test_images, test_images, verbose=0)\n",
        "\n",
        "# print('Baseline test accuracy:', baseline_model_accuracy)\n",
        "# print('Quant test accuracy:', q_aware_model_accuracy)"
      ]
    },
    {
      "cell_type": "markdown",
      "metadata": {
        "id": "vvJuLGzNRn4d"
      },
      "source": [
        "Create quantized model for TFLite backend"
      ]
    },
    {
      "cell_type": "code",
      "execution_count": null,
      "metadata": {
        "id": "79E0Ya0IRndh"
      },
      "outputs": [],
      "source": [
        "converter = tf.lite.TFLiteConverter.from_keras_model(q_aware_model)\n",
        "converter.optimizations = [tf.lite.Optimize.DEFAULT]\n",
        "\n",
        "quantized_tflite_model = converter.convert()"
      ]
    },
    {
      "cell_type": "markdown",
      "metadata": {
        "id": "GmZ_5z0tRys_"
      },
      "source": [
        "See persistence of accuracy from TF to TFLite"
      ]
    },
    {
      "cell_type": "code",
      "execution_count": null,
      "metadata": {
        "id": "O0aHRvKXRzFw"
      },
      "outputs": [],
      "source": [
        "import numpy as np\n",
        "\n",
        "def evaluate_model(interpreter):\n",
        "  input_index = interpreter.get_input_details()[0][\"index\"]\n",
        "  output_index = interpreter.get_output_details()[0][\"index\"]\n",
        "\n",
        "  # Run predictions on every image in the \"test\" dataset.\n",
        "  prediction_digits = []\n",
        "  for i, test_image in enumerate(test_images):\n",
        "    if i % 1000 == 0:\n",
        "      print('Evaluated on {n} results so far.'.format(n=i))\n",
        "    # Pre-processing: add batch dimension and convert to float32 to match with\n",
        "    # the model's input data format.\n",
        "    test_image = np.expand_dims(test_image, axis=0).astype(np.float32)\n",
        "    interpreter.set_tensor(input_index, test_image)\n",
        "\n",
        "    # Run inference.\n",
        "    interpreter.invoke()\n",
        "\n",
        "    # Post-processing: remove batch dimension and find the digit with highest\n",
        "    # probability.\n",
        "    output = interpreter.tensor(output_index)\n",
        "    digit = np.argmax(output()[0])\n",
        "    prediction_digits.append(digit)\n",
        "\n",
        "  print('\\n')\n",
        "  # Compare prediction results with ground truth labels to calculate accuracy.\n",
        "  prediction_digits = np.array(prediction_digits)\n",
        "  accuracy = (prediction_digits == test_labels).mean()\n",
        "  return accuracy"
      ]
    },
    {
      "cell_type": "markdown",
      "metadata": {
        "id": "c3s_drXgR2Av"
      },
      "source": [
        "You evaluate the quantized model and see that the accuracy from TensorFlow persists to the TFLite backend.\n",
        "\n"
      ]
    },
    {
      "cell_type": "code",
      "execution_count": null,
      "metadata": {
        "id": "lK4xoUuUR1Ef"
      },
      "outputs": [],
      "source": [
        "# interpreter = tf.lite.Interpreter(model_content=quantized_tflite_model)\n",
        "# interpreter.allocate_tensors()\n",
        "\n",
        "# test_accuracy = evaluate_model(interpreter)\n",
        "\n",
        "# print('Quant TFLite test_accuracy:', test_accuracy)\n",
        "# print('Quant TF test accuracy:', q_aware_model_accuracy)"
      ]
    },
    {
      "cell_type": "markdown",
      "metadata": {
        "id": "h7rc6FikR4c3"
      },
      "source": [
        "See 4x smaller model from quantization"
      ]
    },
    {
      "cell_type": "code",
      "execution_count": null,
      "metadata": {
        "id": "OPz7VF75R4yt"
      },
      "outputs": [],
      "source": [
        "# Create float TFLite model.\n",
        "float_converter = tf.lite.TFLiteConverter.from_keras_model(model)\n",
        "float_tflite_model = float_converter.convert()\n",
        "\n",
        "# Measure sizes of models.\n",
        "_, float_file = tempfile.mkstemp('.tflite')\n",
        "_, quant_file = tempfile.mkstemp('.tflite')\n",
        "\n",
        "with open(quant_file, 'wb') as f:\n",
        "  f.write(quantized_tflite_model)\n",
        "\n",
        "with open(float_file, 'wb') as f:\n",
        "  f.write(float_tflite_model)\n",
        "\n",
        "print(\"Float model in Mb:\", os.path.getsize(float_file) / float(2**20))\n",
        "print(\"Quantized model in Mb:\", os.path.getsize(quant_file) / float(2**20))"
      ]
    },
    {
      "cell_type": "markdown",
      "metadata": {
        "id": "qP4-il6ruSzN"
      },
      "source": [
        "https://www.tensorflow.org/tutorials/generative/autoencoder"
      ]
    },
    {
      "cell_type": "markdown",
      "metadata": {
        "id": "bCSgaAEYzAwA"
      },
      "source": [
        "# pegando pesos"
      ]
    },
    {
      "cell_type": "markdown",
      "metadata": {
        "id": "IJ4qR4yezEFC"
      },
      "source": [
        "https://github.com/tensorflow/model-optimization/issues/626"
      ]
    },
    {
      "cell_type": "code",
      "execution_count": null,
      "metadata": {
        "id": "a1xff2GDuSkz"
      },
      "outputs": [],
      "source": [
        "# for layer in quantized_tflite_model.layers:\n",
        "#   if hasattr(layer, 'quantize_config'):\n",
        "#     for weight, quantizer, quantizer_vars in layer._weight_vars:\n",
        "#         quantized_and_dequantized = quantizer(weight, training=False, weights=quantizer_vars)\n",
        "#         min_var = quantizer_vars['min_var']\n",
        "#         max_var = quantizer_vars['max_var']\n",
        "#         quantized = dequantize(quantize_and_dequantized, min_var, max_var, quantizer)"
      ]
    },
    {
      "cell_type": "markdown",
      "metadata": {
        "id": "1lkevZim0XSp"
      },
      "source": [
        "https://stackoverflow.com/questions/69676392/how-to-access-weights-of-4-bit-qat-model"
      ]
    },
    {
      "cell_type": "code",
      "execution_count": null,
      "metadata": {
        "id": "nhB6S3SUzvW3"
      },
      "outputs": [],
      "source": [
        "weights = []\n",
        "for layer in q_aware_model.layers:\n",
        "  weights.append(layer.get_weights())\n"
      ]
    },
    {
      "cell_type": "code",
      "execution_count": null,
      "metadata": {
        "id": "M7v7pgMBz7Jf"
      },
      "outputs": [],
      "source": [
        "weights[2]*256"
      ]
    },
    {
      "cell_type": "code",
      "execution_count": null,
      "metadata": {
        "id": "xyQ82-F70FIc"
      },
      "outputs": [],
      "source": []
    },
    {
      "cell_type": "markdown",
      "metadata": {
        "id": "y0n2D4ffJbTm"
      },
      "source": [
        "# Creating quantized model"
      ]
    },
    {
      "cell_type": "code",
      "execution_count": null,
      "metadata": {
        "id": "F019_ZUTPCwC"
      },
      "outputs": [],
      "source": [
        "# import tempfile\n",
        "# import os\n",
        "\n",
        "# import tensorflow as tf\n",
        "\n",
        "# from tensorflow import keras\n",
        "# import tensorflow_model_optimization as tfmot\n",
        "\n",
        "# # quantize_model = tfmot.quantization.keras.quantize_model\n",
        "\n",
        "# # quantiza o modelo (as camadas escolhidas).\n",
        "# # autoencoder_quant = tfmot.quantization.keras.quantize_apply(autoencoder_quant)\n",
        "# # latent_model_quant = tfmot.quantization.keras.quantize_apply(latent_model_quant)\n"
      ]
    },
    {
      "cell_type": "code",
      "execution_count": null,
      "metadata": {
        "id": "ZyPro6QCKoFp"
      },
      "outputs": [],
      "source": [
        "# # Compile the autoencoder model\n",
        "# autoencoder_quant.compile(loss='binary_crossentropy', optimizer='adam')\n",
        "\n",
        "# # Train the autoencoder with MNIST data\n",
        "# history_quant = autoencoder_quant.fit(train_images, train_images, epochs=70, batch_size=128,\n",
        "#                           shuffle=True, validation_data=(test_images, test_images))\n",
        "\n",
        "# # Plot training and validation loss scores\n",
        "# # against the number of epochs.\n",
        "# import matplotlib.pyplot as plt\n",
        "# plt.plot(history_quant.history['loss'], label='Train')\n",
        "# plt.plot(history_quant.history['val_loss'], label='Validation')\n",
        "# plt.ylabel('Binary Cross Entropy Loss')\n",
        "# plt.xlabel('Epoch')\n",
        "# plt.title('autoencoder_quant Reconstruction Loss', pad=13)\n",
        "# plt.legend(loc='upper right')"
      ]
    },
    {
      "cell_type": "code",
      "execution_count": null,
      "metadata": {
        "id": "bplVgp_wPSj_"
      },
      "outputs": [],
      "source": [
        "from tensorflow.keras.models import Model, Sequential\n",
        "from tensorflow.keras.layers import Input, Dense, Flatten\n",
        "import tensorflow_model_optimization as tfmot"
      ]
    },
    {
      "cell_type": "code",
      "execution_count": null,
      "metadata": {
        "id": "g8uALHSFJd8e"
      },
      "outputs": [],
      "source": [
        "\n",
        "\n",
        "\n",
        "quantize_annotate_layer = tfmot.quantization.keras.quantize_annotate_layer\n",
        "\n",
        "# inputs = x_train.shape[1] \n",
        "# n_classes = len(np.unique(y_train)) \n",
        "\n",
        "input_dim = 28*28\n",
        "latent_vec_dim = 2\n",
        "\n",
        "# def make_qnt_model():\n",
        "  # model = Sequential(\n",
        "  # [\n",
        "input_layer = Input(shape=(input_dim,)) # Camada de entrada com numero de unidades igual ao numero de entradas, somente aplica reshape.\n",
        "\n",
        "# quantize_annotate_layer(Flatten()),\n",
        "  \n",
        "# Define the autoencoder architecture\n",
        "# First build the encoder\n",
        "enc_layer_1_quant = quantize_annotate_layer(Dense(500, activation='relu')(input_layer))\n",
        "enc_layer_2_quant = quantize_annotate_layer(Dense(300, activation='sigmoid')(enc_layer_1_quant))\n",
        "enc_layer_3_quant = quantize_annotate_layer(Dense(100, activation='sigmoid')(enc_layer_2_quant))\n",
        "enc_layer_4_quant = quantize_annotate_layer(Dense(latent_vec_dim, activation='tanh')(enc_layer_3_quant))\n",
        "encoder_quant = enc_layer_4_quant\n",
        "\n",
        "# Then build the decoder\n",
        "dec_layer_1_quant = quantize_annotate_layer(Dense(100, activation='sigmoid')(encoder_quant))\n",
        "dec_layer_2_quant = quantize_annotate_layer(Dense(300, activation='sigmoid')(dec_layer_1_quant))\n",
        "dec_layer_3_quant = quantize_annotate_layer(Dense(500, activation='sigmoid')(dec_layer_2_quant))\n",
        "dec_layer_4_quant = quantize_annotate_layer(Dense(input_dim, activation='sigmoid')(dec_layer_3_quant))\n",
        "decoder_quant = dec_layer_4_quant\n",
        "\n",
        "# quantize_annotate_layer(Dense(3, activation= 'relu'), quantize_config=None), # Camada oculta com x unidades e ativação Relu (QUANTIZADO).\n",
        "\n",
        "# quantize_annotate_layer(Dense(n_classes, activation=\"softmax\"), quantize_config=None) # Camada de saida com uma unidade para cada classe (QUANTIZADO).\n",
        "\n",
        "  # ]\n",
        "  # )\n",
        "  # return model\n",
        "\n",
        "# Connect both encoder and decoder\n",
        "autoencoder_quant = Model(input_layer, decoder_quant, name=\"Deep_Autoencoder\")\n",
        "\n",
        "# Latent representation (Optional)\n",
        "# latent_model_quant = Model(input_layer, encoder_quant)\n",
        "\n",
        "# make_qnt_model().summary()\n",
        "     "
      ]
    },
    {
      "cell_type": "code",
      "execution_count": null,
      "metadata": {
        "id": "NNrRXFV7PiWF"
      },
      "outputs": [],
      "source": [
        "for layer in autoencoder_quant.layers:\n",
        "  print(layer.name, layer)\n"
      ]
    },
    {
      "cell_type": "code",
      "execution_count": null,
      "metadata": {
        "id": "2bz9uYK8Pu_N"
      },
      "outputs": [],
      "source": [
        "print(model.layers[1].weights)\n",
        "#print(model.layers[1].bias.numpy())\n",
        "\n",
        "print(\" \")\n",
        "print(\" \")\n",
        "print(\" \")\n",
        "\n",
        "print(model.layers[2].weights) # model.layers[3].weights[1]\n",
        "#print(model.layers[2].bias.numpy())"
      ]
    },
    {
      "cell_type": "code",
      "execution_count": null,
      "metadata": {
        "id": "AdczduftP-JR"
      },
      "outputs": [],
      "source": [
        "# aqui é feita a quantização\n",
        "for layer in model.layers:\n",
        "  if hasattr(layer, 'quantize_config'):\n",
        "    for weight, quantizer, quantizer_vars in layer._weight_vars:\n",
        "        quantized_and_dequantized = quantizer(weight, training=False, weights=quantizer_vars)\n",
        "        min_var = quantizer_vars['min_var']\n",
        "        max_var = quantizer_vars['max_var']\n",
        "        #quantized = dequantize(quantize_and_dequantized, min_var, max_var, quantizer)\n",
        "        print(min_var, max_var)\n",
        "        print(\" \")\n",
        "        print(quantized_and_dequantized)\n",
        "        print(\" \")\n",
        "        print(tf.cast(quantized_and_dequantized, tf.int8, name=None))\n",
        "        print(\" \")"
      ]
    },
    {
      "cell_type": "code",
      "execution_count": null,
      "metadata": {
        "id": "eD7vgLwjQCzl"
      },
      "outputs": [],
      "source": [
        "%pip install fxpmath # A python library for fractional fixed-point (base 2) arithmetic and binary manipulation with Numpy compatibility.\n",
        "from fxpmath import Fxp\n",
        "\n",
        "fxp_ref = Fxp(val=None, signed=None, n_word=8, n_frac=5, n_int=2, like=None, dtype=None)\n",
        "\n",
        "# n_word : int, optional, defualt=None, Number of the bits for binary word (sign + integer part + fractional part).\n",
        "\n",
        "# n_frac : int, optional, default=None, Number of bits for fractional part.\n",
        "\n",
        "# n_int : int, optional, default=None, Number of bits for integer part.\n"
      ]
    },
    {
      "cell_type": "code",
      "execution_count": null,
      "metadata": {
        "id": "en0Sf6JHQQj5"
      },
      "outputs": [],
      "source": [
        "# Convert all weights to fixed-point:\n",
        "\n",
        "w_fxp_dict = {}\n",
        "\n",
        "for layer in w_dict.keys():\n",
        "  try:\n",
        "    w_fxp_dict[layer] = [\n",
        "          Fxp(w_dict[layer][0], like=fxp_ref), \n",
        "          Fxp(w_dict[layer][1], like=fxp_ref),\n",
        "        ]\n",
        "  except:\n",
        "    pass"
      ]
    },
    {
      "cell_type": "code",
      "execution_count": null,
      "metadata": {
        "id": "GHpTzTPTQSyS"
      },
      "outputs": [],
      "source": [
        "for layer in w_fxp_dict:\n",
        "  print(layer)\n",
        "  print(\"------------------------------------\")\n",
        "  print('weights: ')\n",
        "  print(w_fxp_dict[layer][0])\n",
        "  print(\" \")\n",
        "  print('bias: ')\n",
        "  print(w_fxp_dict[layer][1])\n",
        "  print(\"------------------------------------\")\n",
        "  print(\" \")\n",
        "\n",
        "print(\"###########################################\")\n",
        "print(\" \")\n",
        "\n",
        "for i, layer in enumerate(model.layers[2:]):\n",
        "  try:\n",
        "    print(layer)\n",
        "    print(\"------------------------------------\")\n",
        "    print('weights: ')\n",
        "    print(layer.get_weights()[0])\n",
        "    print(\" \")\n",
        "    print('bias: ')  \n",
        "    print(layer.get_weights()[1])\n",
        "    print(\"------------------------------------\")\n",
        "    print(\" \")\n",
        "  except:\n",
        "    pass"
      ]
    },
    {
      "cell_type": "code",
      "execution_count": null,
      "metadata": {
        "id": "NcFHr5F9QU0l"
      },
      "outputs": [],
      "source": [
        "unquantized_weight, quantizer, quantizer_vars = model.layers[2]._weight_vars[0]\n",
        "\n",
        "model.layers[1]._weight_vars"
      ]
    },
    {
      "cell_type": "code",
      "execution_count": null,
      "metadata": {
        "id": "U0_6zrQBQV98"
      },
      "outputs": [],
      "source": [
        "\n",
        "print(unquantized_weight)\n",
        "print(\" \")\n",
        "print(quantizer)\n",
        "print(\" \")\n",
        "print(quantizer_vars)"
      ]
    },
    {
      "cell_type": "code",
      "execution_count": null,
      "metadata": {
        "id": "0VzB-P8OQakG"
      },
      "outputs": [],
      "source": [
        "\n",
        "float_converter = tf.lite.TFLiteConverter.from_keras_model(model)\n",
        "float_converter.optimizations = [tf.lite.Optimize.DEFAULT]\n",
        "float_converter.target_spec.supported_types = [tf.uint8]\n",
        "float_tflite_model = float_converter.convert()"
      ]
    },
    {
      "cell_type": "code",
      "execution_count": null,
      "metadata": {
        "id": "a3jCpPfFQb0l"
      },
      "outputs": [],
      "source": [
        "float_tflite_model\n"
      ]
    },
    {
      "cell_type": "markdown",
      "metadata": {
        "id": "MEwe1CsCzJUv"
      },
      "source": [
        "# sdsd"
      ]
    },
    {
      "cell_type": "code",
      "execution_count": null,
      "metadata": {
        "id": "5tcCMo3kzL7A"
      },
      "outputs": [],
      "source": [
        "import tensorflow as tf\n",
        "\n",
        "def retrain_with_quantization(model_path, bit_width):\n",
        "    \"\"\"\n",
        "    Retrains a Tensorflow model with quantization-aware training\n",
        "\n",
        "    Parameters:\n",
        "        model_path (str): The path to the model file\n",
        "        bit_width (int): The bit width to use for quantization\n",
        "    \n",
        "    Returns:\n",
        "        tf.keras.Model: The retrained model with quantization-aware training\n",
        "\n",
        "    \"\"\"\n",
        "    # Load the model\n",
        "    model = tf.keras.models.load_model(model_path)\n",
        "\n",
        "    # Create a quantization-aware model\n",
        "    q_aware_model = tf.quantization.quantize_model(model, quantization_bits=bit_width)\n",
        "\n",
        "    # Compile the quantization-aware model\n",
        "    q_aware_model.compile(optimizer='adam', loss='binary_crossentropy')\n",
        "\n",
        "    # Train the quantization-aware model\n",
        "    q_aware_model.fit(x_train, y_train, epochs=10, batch_size=32)\n",
        "\n",
        "    return q_aware_model\n",
        "\n",
        "# path to the model file\n",
        "model_path = \"model.h5\"\n",
        "# bit width to use for quantization\n",
        "bit_width = 8\n",
        "\n",
        "retrained_model = retrain_with_quantization(model_path, bit_width)"
      ]
    }
  ],
  "metadata": {
    "colab": {
      "collapsed_sections": [
        "bCSgaAEYzAwA",
        "y0n2D4ffJbTm"
      ],
      "provenance": []
    },
    "kernelspec": {
      "display_name": "Python 3",
      "language": "python",
      "name": "python3"
    },
    "language_info": {
      "name": "python",
      "version": "3.9.5"
    },
    "vscode": {
      "interpreter": {
        "hash": "d1b75f63a51ab1e44c10e89cf3b718812d9c5e2447d39cb402b946ba7653bfcd"
      }
    }
  },
  "nbformat": 4,
  "nbformat_minor": 0
}

{
  "cells": [
    {
      "cell_type": "markdown",
      "metadata": {},
      "source": [
        "# Dependencias"
      ]
    },
    {
      "cell_type": "code",
      "execution_count": 1,
      "metadata": {},
      "outputs": [],
      "source": [
        "from utils import *\n",
        "from layer_generator import *\n",
        "from dict_utils import *\n",
        "from list_utils import *\n",
        "from txt_utils import *\n",
        "from PORT_MAP_utils import *\n",
        "from io_utils import *\n",
        "from vhd_txt_utils import *\n",
        "from tree_utils import *\n",
        "from layer_utils import *\n",
        "import pandas as pd\n",
        "import numpy as np"
      ]
    },
    {
      "cell_type": "markdown",
      "metadata": {
        "id": "M3-sGim4iR6j"
      },
      "source": [
        "### <font color=green>  **Parâmetros Gerais**  </font>"
      ]
    },
    {
      "cell_type": "code",
      "execution_count": 2,
      "metadata": {
        "id": "OkIe7hxiYD0h"
      },
      "outputs": [],
      "source": [
        "gera_automatico = 0                # 1 = gera | 0 = não gera\n",
        "\n",
        "bits_list_gen = [4,6,8,10]          #lista de bits para versões\n",
        "inputs_list_gen = [4,8,16,32,64]    #lista de inputs ...\n",
        "\n",
        "\n",
        "print_cells_result = 1              # 1 = mostra outputs no jupyter| 0 = não mostra\n",
        "\n",
        "\n",
        "if (gera_automatico == 1):\n",
        "\n",
        "  \n",
        "  #-------------------- Loop listas ------------------------------#\n",
        "  if (inputs_list_index >= len(inputs_list_gen) -1): #Quando chega no final da lista de 'inputs'\n",
        "    inputs_list_index = 0\n",
        "    bits_list_index += 1      # Quando ainda não é o final da lista de 'bits'\n",
        "    \n",
        "  else: # Quando ainda não é o final da lista de 'inputs'\n",
        "    inputs_list_index += 1\n",
        "    \n",
        "  if ( bits_list_index >= len(bits_list_gen)): #Quando chega no final da lista de 'bits'\n",
        "    bits_list_index = 0\n",
        "    \n",
        "  bits = bits_list_gen[bits_list_index]                #define o número de bits para as entradas e pesos\n",
        "  num_inputs = inputs_list_gen[inputs_list_index]      #define número de inputs      \n",
        "\n",
        "  #------------------------- Sem Loop ----------------------------#\n",
        "else:  \n",
        "  bits = 8                #define o número de bits para as entradas e pesos\n",
        "  num_inputs = 3          #número de entradas e pesos do perceptron\n",
        "  \n",
        "#-------------------------------------------------------------------------------------------------#\n",
        "  \n",
        "saidas_debug = 0        #1= para colocar saidas nos .vhd || 0= para não colocar saídas de debug\n",
        "IO_type = 1             #1= signed || 0= unsigned\n",
        "memory_mux= 0           #1= ter mux no somatório para não buscar na memória sempre || 0= não ter -> busca sempre na memória\n",
        "\n",
        "leaky_attenuation = 2   #número de vezes que divide por 2 a ReLU (shift right)\n",
        "# activ_fx_middle = 1     # 1= ReLU | 2 = Leaky_Relu\n",
        "\n",
        "\n",
        "MAC_type = 0            #0 = combinational(tree:árvore) | 1 = Sequential\n",
        "Include_MAC_type = 1    #0 = don't incluce | 1 = include 'seq' or 'tree' on vhd_names\n",
        "Barriers = 0            #0 = no Barriers | 1 = with register Barriers (pipeline)\n",
        "\n",
        "bits_mem = 8\n",
        "input_mem_bits = bits_mem\n",
        "output_mem_bits = bits_mem\n",
        "\n",
        "n_bin = bits # 'n' binary digits are the fractional part of `x`; = MANTISSA\n",
        "\n",
        "download_vhd =  0       #1= para baixar || 0= não baixar\n",
        "download_txt =  0       #1= para baixar || 0= não baixar\n",
        "\n",
        "download_files =  (download_vhd or download_txt)     #1= para baixar || 0= não baixar\n"
      ]
    },
    {
      "cell_type": "code",
      "execution_count": 3,
      "metadata": {},
      "outputs": [],
      "source": [
        "if (IO_type == 1):      #versão com sinal\n",
        "  IO_type = 'signed'\n",
        "  std_logic_conversion = IO_type\n",
        "else:                     #versão sem sinal\n",
        "  IO_type = 'STD_LOGIC_VECTOR'\n",
        "  std_logic_conversion = 'unsigned'"
      ]
    },
    {
      "cell_type": "code",
      "execution_count": 4,
      "metadata": {},
      "outputs": [],
      "source": [
        "# gera_automatico = 0\n",
        "\n",
        "if (gera_automatico == 1):\n",
        "      print(\" bits: \"+  str(bits_list_gen[bits_list_index]),\n",
        "            \"\\n inputs: \"+ str(inputs_list_gen[inputs_list_index ]),\n",
        "            \"\\n bits_index: \"+ str(bits_list_index),\n",
        "            \"\\n inputs_index: \"+ str(inputs_list_index + 1))"
      ]
    },
    {
      "cell_type": "code",
      "execution_count": 5,
      "metadata": {
        "id": "Q0dD8z8xa-aQ"
      },
      "outputs": [],
      "source": [
        "# https://colab.research.google.com/drive/12xCU8oNStmXCekDzL-P9hx7ro-obPTUu#scrollTo=GDrWC4BP0gIu\n",
        "m_bin = bits - n_bin # `m` binary digits are the integer part\n",
        "# m_bin = 5 # `m` binary digits are the integer part\n",
        "# n_bin = n_bits - m_bin # 'n' binary digits are the fractional part of `x`;\n",
        "n_bin_sigmoid = n_bin *2 \n",
        "\n",
        "sup_threshold= 2**m_bin\n",
        "inf_threshold= 0"
      ]
    },
    {
      "cell_type": "markdown",
      "metadata": {},
      "source": [
        "### <font color=green>    **Criando Pasta**   </font>"
      ]
    },
    {
      "cell_type": "code",
      "execution_count": 6,
      "metadata": {},
      "outputs": [
        {
          "name": "stdout",
          "output_type": "stream",
          "text": [
            "Created Folders!!\n",
            "Relu: /home/murillo/ecl/redes_neurais/NN_generator/Neuron/HiddenLayer/Tree/NObarriers/ReLU/8bit/3n\n",
            "----------------------\n",
            "Leaky Relu: /home/murillo/ecl/redes_neurais/NN_generator/Neuron/HiddenLayer/Tree/NObarriers/Leaky_ReLU/8bit/3n\n",
            "----------------------\n",
            "Softmax: /home/murillo/ecl/redes_neurais/NN_generator/Neuron/SoftmaxLayer/Tree/NObarriers/Sigmoid/8bit/3n\n"
          ]
        }
      ],
      "source": [
        "Neurons_hidden = ['ReLU','Leaky_ReLU']\n",
        "Neurons_softmax = ['Sigmoid']\n",
        "\n",
        "path, path_soft = create_folder_neuron(bits, num_inputs, Neurons_hidden,Neurons_softmax,MAC_type,Barriers,1,1)\n",
        "# create_folder_neuron(Neurons_hidden,Neurons_softmax,MAC_type,Barriers,1,download_files)\n",
        "# (hidden,softmax,MAC_type,Barriers,path_level,create)\n",
        "  # MAC_type:     0 = combinacional         | 1 = Sequential\n",
        "  # has_pipe:     0 = no Barriers           | 1 = with register Barriers (pipeline)\n",
        "  # path_level:   0 = Same level path            | 1 = Above path\n",
        "  # create:       0 = Don't Create Folders  | 1 = Create Folders \n",
        "\n",
        "path_soft = path_soft[0]\n",
        "path_ReLU = path[0]\n",
        "path_LeakyReLU = path[1]\n",
        "\n",
        "if (print_cells_result == 1 ):\n",
        "  print(f\"Relu: {path[0]}\")\n",
        "  print('----------------------')\n",
        "  print(f\"Leaky Relu: {path[1]}\")\n",
        "  print('----------------------')\n",
        "  print(f\"Softmax: {path_soft}\")"
      ]
    },
    {
      "cell_type": "code",
      "execution_count": 7,
      "metadata": {},
      "outputs": [],
      "source": [
        "# import os\n",
        "# for i in range(0,len(Neurons_softmax)):    \n",
        "#   os.makedirs(f\"{path_soft[i]}\", exist_ok=True) # softmax layer\n",
        "#   print(path_soft[i])\n",
        "# # for i in range(0,len(hidden_layer_neurons)):\n",
        "# #   os.makedirs(f\"{path[i]}\", exist_ok=True)   # hidden layer"
      ]
    },
    {
      "cell_type": "code",
      "execution_count": 8,
      "metadata": {},
      "outputs": [],
      "source": [
        "# Pasta testbench\n",
        "project_folder_path = (r'''\"C:/Users/luisa/Documents/Materias/UFSC/20201/Lab_EBD_ECL/Perpeptron/NN_Neuron_unsigned_no_components_generic_inputs_python_ROM_2\"''')"
      ]
    },
    {
      "cell_type": "markdown",
      "metadata": {},
      "source": [
        "# Dicionários"
      ]
    },
    {
      "cell_type": "markdown",
      "metadata": {},
      "source": [
        "## <font color=green>    **Neuron**    </font>"
      ]
    },
    {
      "cell_type": "code",
      "execution_count": 9,
      "metadata": {},
      "outputs": [],
      "source": [
        "prefix_neuron = 'neuron_'\n",
        "neurons_dict = {\n",
        "  'ReLU' : f'{prefix_neuron}ReLU',\n",
        "  'Leaky ReLU': f'{prefix_neuron}LeakyReLU',\n",
        "  'Sigmoid' : f'{prefix_neuron}Sigmoid'\n",
        "}\n",
        "\n",
        "dict_list = dict_to_list(target_dict = neurons_dict, key_or_value = True) # fazendo uma lista do dicionário\n",
        "# ['ReLU', 'Leaky ReLU', 'Sigmoid']\n",
        "\n",
        "Neuron_arch_dict = {  \n",
        "  'Inputs_number': 3, #número de entradas e pesos do perceptron\n",
        "  'Bit_WIDTH': 8,     #define o número de bits para as entradas e pesos\n",
        "  'IO_type': True,    # True= signed || 0= unsigned\n",
        "  \n",
        "  # --------------------------\n",
        "  'IO':{ # INPUT & OUTPUT\n",
        "    'IN': { # ENTRADAS\n",
        "      'STD_LOGIC': ['clk', 'rst'],\n",
        "      'STD_LOGIC_VECTOR': None,\n",
        "      'SIGNED': ['bias'],\n",
        "      # depende do número de entradas = número de neurônios da camada anterior\n",
        "      'STD_LOGIC_num_inputs': None,\n",
        "      'STD_LOGIC_VECTOR_num_inputs': None,\n",
        "      'SIGNED_num_inputs': ['x']\n",
        "      },\n",
        "    'OUT': { #SAÍDAS\n",
        "      'STD_LOGIC': None,\n",
        "      'STD_LOGIC_VECTOR': None,\n",
        "      'SIGNED': ['y'],\n",
        "      # depende do número de entradas\n",
        "      'STD_LOGIC_VECTOR_num_inputs': None,\n",
        "      'STD_LOGIC_num_inputs': None,\n",
        "      'SIGNED_num_inputs': None,\n",
        "      # depende do número de neurônios\n",
        "      'STD_LOGIC_VECTOR_num_neurons': None,\n",
        "      'STD_LOGIC_num_neurons': None,\n",
        "      'SIGNED_num_neurons': None\n",
        "      }\n",
        "  },\n",
        "  \n",
        "  # -------------\n",
        "  'MAC_type':{\n",
        "    'Combinational': True,\n",
        "    'Sequential': False\n",
        "  },\n",
        "  \n",
        "  # -------------\n",
        "  'Barriers': False,  # True = com barreiras de registradores\n",
        "  \n",
        "  # ------------- Versões de multiplicador\n",
        "  'Multiplier':{\n",
        "    'Operator': True, # *\n",
        "    'Baugh_Wooley': {\n",
        "      'Alexandre': False,\n",
        "      'Luis': False\n",
        "      },\n",
        "    'Booth': False,\n",
        "    'Shift': False,\n",
        "    'Quantized_shift': False\n",
        "    },\n",
        "  \n",
        "  # -------------\n",
        "  'Adder':{\n",
        "    'Operator': True # +\n",
        "    },\n",
        "  \n",
        "  # -------------\n",
        "  'Activation_function':{\n",
        "    'ReLU': True,\n",
        "    'Leaky_ReLU': {\n",
        "      'Using': False,        # True = usar versão Leaky_ReLU\n",
        "      'Leaky_attenuation': 2 #número de vezes que divide por 2 a ReLU (shift right)\n",
        "    },\n",
        "    'Sigmoid': {\n",
        "      'Using': False,        # True = usar versão Sigmoid (Look Up Table)\n",
        "      'Memory': {\n",
        "        'bits_mem': 8,\n",
        "        'input_mem_bits': lambda:Neuron_arch_dict['Sigmoid']['Memory']['bits_mem'],  # 'n' binary digits are the fractional part of `x`; = MANTISSA\n",
        "      }\n",
        "    }\n",
        "  },\n",
        "  \n",
        "  # ------------- dict_list 0: ReLU, 1: Leaky ReLU, 2: Sigmoid\n",
        "  'neuron_name': vhd_name(dict_list[0], bits, IO_type, num_inputs, Barriers, MAC_type, Include_MAC_type,\n",
        "                          mult_number = 0,\n",
        "                          mult_version = 0,\n",
        "                          adder_number = 0,\n",
        "                          adder_version = 0)\n",
        "}\n"
      ]
    },
    {
      "cell_type": "code",
      "execution_count": 10,
      "metadata": {},
      "outputs": [],
      "source": [
        "Neuron_IO_dict = {\n",
        "  'IN': { # ENTRADAS\n",
        "    'STD_LOGIC': ['clk', 'rst'],\n",
        "    'STD_LOGIC_VECTOR': None,\n",
        "    'STD_LOGIC_num_inputs': None,\n",
        "    'STD_LOGIC_VECTOR_num_inputs': None,\n",
        "    'SIGNED': ['bias'],\n",
        "    'SIGNED_num_inputs': ['x']\n",
        "    },\n",
        " 'OUT': { #SAÍDAS\n",
        "   'STD_LOGIC': None,\n",
        "    'STD_LOGIC_VECTOR': None,\n",
        "    'STD_LOGIC_num_inputs': None,\n",
        "    'STD_LOGIC_VECTOR_num_inputs': None,\n",
        "    'SIGNED': ['y'],\n",
        "    'SIGNED_num_inputs': None\n",
        "    }\n",
        " }\n",
        "# Neuron_IO_dict"
      ]
    },
    {
      "cell_type": "code",
      "execution_count": 11,
      "metadata": {},
      "outputs": [
        {
          "data": {
            "text/plain": [
              "{'IN': {'STD_LOGIC': ['clk', 'rst'],\n",
              "  'STD_LOGIC_VECTOR': ['A', 'B'],\n",
              "  'STD_LOGIC_num_inputs': ['C', 'D'],\n",
              "  'STD_LOGIC_VECTOR_num_inputs': ['E', 'X'],\n",
              "  'SIGNED': ['bias'],\n",
              "  'SIGNED_num_inputs': ['x', 'w']},\n",
              " 'OUT': {'STD_LOGIC': ['F', 'G'],\n",
              "  'STD_LOGIC_VECTOR': ['G', 'H'],\n",
              "  'STD_LOGIC_num_inputs': ['I', 'J'],\n",
              "  'STD_LOGIC_VECTOR_num_inputs': ['K', 'L'],\n",
              "  'SIGNED': ['y'],\n",
              "  'SIGNED_num_inputs': ['M', 'N']}}"
            ]
          },
          "execution_count": 11,
          "metadata": {},
          "output_type": "execute_result"
        }
      ],
      "source": [
        "dict_test = Neuron_IO_dict\n",
        "# dict_test['IN']['STD_LOGIC'] = ['ABC']  OK\n",
        "dict_test['IN']['STD_LOGIC_VECTOR'] = ['A','B'] # OK\n",
        "dict_test['IN']['STD_LOGIC_num_inputs'] = ['C','D'] # OK\n",
        "dict_test['IN']['STD_LOGIC_VECTOR_num_inputs'] = ['E','X'] # OK\n",
        "# dict_test['IN']['SIGNED'] = ['E'] # OK\n",
        "\n",
        "dict_test['IN']['SIGNED_num_inputs'] = ['x','w'] # OK\n",
        "# ----------------------------\n",
        "dict_test['OUT']['STD_LOGIC'] = ['F','G'] # OK\n",
        "dict_test['OUT']['STD_LOGIC_VECTOR'] = ['G','H'] # OK\n",
        "dict_test['OUT']['STD_LOGIC_num_inputs'] = ['I','J'] # OK\n",
        "dict_test['OUT']['STD_LOGIC_VECTOR_num_inputs'] = ['K','L'] # OK\n",
        "# dict_test['OUT']['SIGNED'] = ['K'] #OK\n",
        "dict_test['OUT']['SIGNED_num_inputs'] = ['M','N'] # OK\n",
        "\n",
        "dict_test"
      ]
    },
    {
      "cell_type": "code",
      "execution_count": 12,
      "metadata": {},
      "outputs": [],
      "source": [
        "# Neuron_IN_port_map, Neuron_OUT_port_map, _, __ = Neuron_port_map_IO_unique(neuron_dict_list= dict_test, i = 2,\n",
        "#                           num_inputs = 3,\n",
        "#                           ID_camada = 'c1')"
      ]
    },
    {
      "cell_type": "markdown",
      "metadata": {},
      "source": [
        "## <font color=green>    **NN**    </font>"
      ]
    },
    {
      "cell_type": "markdown",
      "metadata": {},
      "source": [
        "### port map"
      ]
    },
    {
      "cell_type": "code",
<<<<<<< HEAD
      "execution_count": 14,
      "metadata": {},
      "outputs": [
        {
          "data": {
            "text/plain": [
              "{'IN': {'STD_LOGIC': ['clk', 'rst'],\n",
              "  'STD_LOGIC_VECTOR': ['A', 'B'],\n",
              "  'STD_LOGIC_num_inputs': ['C', 'D'],\n",
              "  'STD_LOGIC_VECTOR_num_inputs': ['E', 'X'],\n",
              "  'SIGNED': ['bias'],\n",
              "  'SIGNED_num_inputs': ['x', 'w']},\n",
              " 'OUT': {'STD_LOGIC': ['F', 'G'],\n",
              "  'STD_LOGIC_VECTOR': ['G', 'H'],\n",
              "  'STD_LOGIC_num_inputs': ['I', 'J'],\n",
              "  'STD_LOGIC_VECTOR_num_inputs': ['K', 'L'],\n",
              "  'SIGNED': ['y'],\n",
              "  'SIGNED_num_inputs': ['M', 'N']}}"
            ]
          },
          "execution_count": 14,
          "metadata": {},
          "output_type": "execute_result"
        }
      ],
      "source": [
        "Neuron_IO_dict"
      ]
    },
    {
      "cell_type": "code",
      "execution_count": 15,
=======
      "execution_count": 13,
>>>>>>> 944c8341fef03c81f00e5fd82ff42415f098b593
      "metadata": {},
      "outputs": [
        {
          "data": {
            "text/plain": [
              "6"
            ]
          },
          "execution_count": 15,
          "metadata": {},
          "output_type": "execute_result"
        }
      ],
      "source": [
        "len(Neuron_IO_dict['IN'].keys())"
      ]
    },
    {
      "cell_type": "code",
      "execution_count": 16,
      "metadata": {},
      "outputs": [],
      "source": [
        "# port_map_txt, camada_inputs, camada_outputs = layer_neurons_port_map_ALL(neuron_dict_list = [Neuron_IO_dict],\n",
        "#                                ID_camada= 'c0', \n",
        "#                                number_of_neurons = 2, \n",
        "#                                num_inputs = 3,\n",
        "#                                vhd_name = 'neuron_tree_ReLU_8bit_3n_signed')\n",
        "# print(port_map_txt)"
      ]
    },
    {
      "cell_type": "markdown",
      "metadata": {},
      "source": [
        "### NN dict"
      ]
    },
    {
      "cell_type": "code",
<<<<<<< HEAD
      "execution_count": 17,
=======
      "execution_count": 14,
>>>>>>> 944c8341fef03c81f00e5fd82ff42415f098b593
      "metadata": {},
      "outputs": [
        {
          "data": {
            "text/plain": [
              "'neuron_comb_ReLU_3n_8bit_signed_mul1a_v0_add0_v0'"
            ]
          },
<<<<<<< HEAD
          "execution_count": 17,
=======
          "execution_count": 14,
>>>>>>> 944c8341fef03c81f00e5fd82ff42415f098b593
          "metadata": {},
          "output_type": "execute_result"
        }
      ],
      "source": [
        "# fazendo uma lista do dicionário\n",
        "dict_list = dict_to_list(target_dict = neurons_dict, key_or_value = True) \n",
        "# ['ReLU', 'Leaky ReLU', 'Sigmoid']\n",
        "\n",
        "layer_dict = {\n",
        "  # ========================== Parâmetros da camada ===========================\n",
        "  'Inputs_number': 3,   #número de eWntradas da camada\n",
        "  'bits': 8,\n",
        "  'IO_type': True,     # 1= signed || 0= unsigned\n",
        "  'Neurons_number': 2,  #número de neurônios da camada\n",
        "  # --------------------------\n",
        "  # DEVE SE ALTERAR AUTOMATICAMENTE COM BASE NA CONFIG DO NEURÔNIO\n",
        "  'IO':{ # INPUT & OUTPUT\n",
        "    'IN': { # ENTRADAS\n",
        "      'STD_LOGIC': lambda:layer_dict['Neuron_arch']['IO']['IN']['STD_LOGIC'],\n",
        "      'STD_LOGIC_VECTOR': lambda:layer_dict['Neuron_arch']['IO']['IN']['STD_LOGIC_VECTOR'],\n",
        "      'SIGNED': ['bias'], # n_neurons\n",
        "      # muda com o número de entradas = número de neurônios da camada anterior\n",
        "      'STD_LOGIC_num_inputs': None,   # n_neurons\n",
        "      'STD_LOGIC_VECTOR_num_inputs': None, # **\n",
        "      'SIGNED_num_inputs': ['x'] # **\n",
        "      # ** GERAÇÃO COM BASE NO NÚMERO DE NEURÔNIOS E ÍNDICE DA CAMADA:\n",
        "      #   Supondo uma camada com 3 inputs e  4 neurônios:\n",
        "      #   Entrada em comum para todos os neurônios: x1,x2,x3\n",
        "      #   Neurônio 1: c2_n1_w1, c2_n1_w2, c2_n1_w3, c2_n1_bias\n",
        "      #   Neurônio 2: c2_n2_w1, c2_n2_w2, c2_n2_w3, c2_n2_bias\n",
        "      #   Neurônio 3: c2_n3_w1, c2_n3_w2, c2_n3_w3, c2_n3_bias\n",
        "      #   Neurônio 3: c2_n4_w1, c2_n4_w2, c2_n4_w4, c2_n4_bias\n",
        "      },\n",
        "    'OUT': { #SAÍDAS\n",
        "      'STD_LOGIC': None,\n",
        "      'STD_LOGIC_VECTOR': None,\n",
        "      'SIGNED': ['y'],\n",
        "      # muda com o número de entradas\n",
        "      'STD_LOGIC_VECTOR_num_inputs': None,\n",
        "      'STD_LOGIC_num_inputs': None,\n",
        "      'SIGNED_num_inputs': None,\n",
        "      # muda com o número de neurônios\n",
        "      'STD_LOGIC_VECTOR_num_neurons': None, # ***\n",
        "      'STD_LOGIC_num_neurons': None,        # ***\n",
        "      'SIGNED_num_neurons': None            # ***\n",
        "      # *** GERAÇÃO COM BASE NO NÚMERO DE NEURÔNIOS E ÍNDICE DA CAMADA:\n",
        "      #   Supondo uma camada com 3 inputs e  4 neurônios:\n",
        "      #   Neurônio 1: out1\n",
        "      #   Neurônio 2: out2\n",
        "      #   Neurônio 3: out3\n",
        "      #   Neurônio 3: out4\n",
        "      }\n",
        "  },\n",
        "  \n",
        "  # ======================= Parâmetros do neurônio ============================ \n",
        "  \n",
        "  # --------- Configurações da arquitetura do neurônio --------- \n",
        "  'Neuron_arch': {  \n",
        "    'Inputs_number': lambda:layer_dict['Inputs_number'], #número de entradas e pesos do perceptron\n",
        "    'Bit_WIDTH': lambda:layer_dict['bits'],     #define o número de bits para as entradas e pesos\n",
        "    'IO_type': lambda:layer_dict['IO_type'],    # True= signed || 0= unsigned\n",
        "\n",
        "    # -------------------------\n",
        "    # O dicionário de entradas e saídas deverá ser gerado automaticamente, com base nos parâmetros:\n",
        "    #  - IO_type\n",
        "    #  - por enquanto creio que é só \"\"\"\n",
        "    # -------------------------\n",
        "    \n",
        "    # --------- Geração do nome do neurônio --------- \n",
        "    'neuron_name': '', \n",
        "    'Include_MAC_type': True,                   # 0 = don't include | 1 = include 'seq' or 'comb' on vhd_names\n",
        "    \n",
        "    # -------------------------\n",
        "    'IO':{ # INPUT & OUTPUT\n",
        "      'shared_IO':{ # Entradas & saídas compartilhadas\n",
        "        'IN': { # ENTRADAS\n",
        "          'STD_LOGIC': ['clk', 'rst'],\n",
        "          'STD_LOGIC_VECTOR': None,\n",
        "          'SIGNED': None,\n",
        "          'STD_LOGIC_num_inputs': None,\n",
        "          'STD_LOGIC_VECTOR_num_inputs': None,\n",
        "          'SIGNED_num_inputs': ['x']\n",
        "          },\n",
        "        'OUT': { #SAÍDAS\n",
        "          'STD_LOGIC': None,\n",
        "          'STD_LOGIC_VECTOR': None,\n",
        "          'SIGNED': None,\n",
        "          'STD_LOGIC_VECTOR_num_inputs': None,\n",
        "          'STD_LOGIC_num_inputs': None,\n",
        "          'SIGNED_num_inputs': None\n",
        "          }\n",
        "        },\n",
        "      'unique_IO':{ # Entradas únicas ao neurônio\n",
        "      # 'IO':{ # INPUT & OUTPUT\n",
        "        'IN': { # ENTRADAS\n",
        "          'STD_LOGIC': None,\n",
        "          'STD_LOGIC_VECTOR': None,\n",
        "          'SIGNED': ['bias'],\n",
        "          'STD_LOGIC_num_inputs': None,\n",
        "          'STD_LOGIC_VECTOR_num_inputs': None,\n",
        "          'SIGNED_num_inputs': ['w']\n",
        "          },\n",
        "        'OUT': { #SAÍDAS\n",
        "          'STD_LOGIC': None,\n",
        "          'STD_LOGIC_VECTOR': None,\n",
        "          'SIGNED': ['y'],\n",
        "          'STD_LOGIC_VECTOR_num_inputs': None,\n",
        "          'STD_LOGIC_num_inputs': None,\n",
        "          'SIGNED_num_inputs': None         \n",
        "          }\n",
        "          # }\n",
        "        }\n",
        "    },\n",
        "    \n",
        "    # -------------\n",
        "    'MAC_type': False,  # False = combinational(árvore) | True = Sequential\n",
        "    \n",
        "    # -------------\n",
        "    'Barriers': False,  # True = com barreiras de registradores\n",
        "    \n",
        "    # ------------- Versões de multiplicador\n",
        "    'Multiplier':{\n",
        "      '0-Operator': False, # *\n",
        "      '1-Baugh_Wooley': {\n",
        "        '1a-Alexandre': True,\n",
        "        '1b-Luis': False\n",
        "        },\n",
        "      '2-Booth': False,\n",
        "      '3-Shift': False,\n",
        "      '4-Quantized_shift': False\n",
        "      },\n",
        "    \n",
        "    # -------------\n",
        "    'Adder':{\n",
        "      '0-Operator': True # +\n",
        "      },\n",
        "    \n",
        "    # -------------\n",
        "    'Activation_function':{\n",
        "      'ReLU': True,\n",
        "      'Leaky_ReLU': {\n",
        "        'Using': False,        # True = usar versão Leaky_ReLU\n",
        "        'Leaky_attenuation': 2 #número de vezes que divide por 2 a ReLU (shift right)\n",
        "      },\n",
        "      'Sigmoid': {\n",
        "        'Using': False,        # True = usar versão Sigmoid (Look Up Table)\n",
        "        'Memory': {\n",
        "          'bits_mem': 8,\n",
        "          'input_mem_bits': lambda:Neuron_arch_dict['Sigmoid']['Memory']['bits_mem'],  # 'n' binary digits are the fractional part of `x`; = MANTISSA\n",
        "         }\n",
        "        }\n",
        "      }\n",
        "    }\n",
        "   \n",
        "  \n",
        "  }\n",
        "# Definindo nome do neurônio\n",
        "layer_dict['Neuron_arch']['neuron_name'] = vhd_name(\n",
        "  vhd_name = f\"neuron_{dict_list[0]}\",                              # modelo de função de ativação \n",
        "  # Obs: dict_list 0: ReLU, 1: Leaky ReLU, 2: Sigmoid\n",
        "  bits = layer_dict['bits'],                                        # Quantidade de bits para representação\n",
        "  IO_type = layer_dict['IO_type'],                                  # 1= signed || 0= unsigned\n",
        "  num_inputs = layer_dict['Inputs_number'],                         # Quantidade de entradas\n",
        "  Barriers = layer_dict['Neuron_arch']['Barriers'],                 # 0 = no Barriers | 1 = with register Barriers\n",
        "  MAC_type = layer_dict['Neuron_arch']['MAC_type'],                 # 0 = combinational(árvore) | 1 = Sequential\n",
        "  Include_MAC_type = layer_dict['Neuron_arch']['Include_MAC_type'], # 0 = don't inluce | 1 = include 'seq' or 'tree' on vhd_names\n",
        "  mult_number = find_True_dict_split(split_str = '-', dict = layer_dict['Neuron_arch']['Multiplier'], position= 0), # Número do modelo de multiplicador. Exemplo: mult_number = 1 (multiplicador do tipo 1) --> mul1\n",
        "  mult_version = 0,                                                 # Versão do modelo de multiplicador (pois podem existir melhorias em um modelo). Exemplo: mult_version = 4 --> v4\n",
        "  adder_number = find_True_dict_split(split_str = '-', dict = layer_dict['Neuron_arch']['Adder'], position= 0),     # análogo ao 'mult_number'\n",
        "  adder_version = 0) \n",
        "layer_dict['Neuron_arch']['neuron_name']"
      ]
    },
    {
      "cell_type": "markdown",
      "metadata": {},
      "source": [
        "## <font color=green>    **test func**    </font>"
      ]
    },
    {
      "cell_type": "markdown",
      "metadata": {},
      "source": [
        "### Neuron_port_map_IO_shared"
      ]
    },
    {
      "cell_type": "code",
      "execution_count": 18,
      "metadata": {},
      "outputs": [],
      "source": [
        "# def Neuron_port_map_IO(neuron_dict_list: list,\n",
        "#                        num_inputs: int,\n",
        "#                        i: int,\n",
        "#                        ID_camada: str):\n",
        "#     \"\"\"Função para gerar o texto de todas as ATRIBUIÇÕES das entradas e saídas de um componente. Ou seja, serve para ser utilizado quando instanciamos um componente. Será utilizada quando queremos dentro de uma camada, instanciar múltiplos neurônios. \n",
        "\n",
        "#     Exemplo:\n",
        "#       Neuron_port_map_ports(neuron_dict_list= neuron_dict_list,   # dicionário de entradas e saídas (exemplo abaixo em 'Args')\n",
        "#                             num_inputs = 3,         # 3 entradas no neurônio\n",
        "#                             ID_camada = 'c1_n1')    # identificador do neurônio e camada\n",
        "\n",
        "#       Output: \n",
        "#       #esta função só entrega  umas linhas que possuírem '-- OK'\n",
        "#       inst1: PORT MAP neuronio_vhd (\n",
        "#         a => a, -- OK\n",
        "#         b => b  -- OK\n",
        "#       )\n",
        "#       (faça o teste utilizando a função utilizando as entradas acima, e o 'neuron_dict_list' exemplificado abaixo)\n",
        "\n",
        "#     Args:\n",
        "#         neuron_dict_list (dict): lista com 1 dicionário com descrições dos elementos. Exemplo:\n",
        "#           {'IN': {'STD_LOGIC': ['clk', 'rst'],\n",
        "#             'STD_LOGIC_VECTOR': ['A', 'B'],\n",
        "#             'STD_LOGIC_num_inputs': ['C', 'D'],\n",
        "#             'STD_LOGIC_VECTOR_num_inputs': ['E', 'X'],\n",
        "#             'SIGNED': ['bias'],\n",
        "#             'SIGNED_num_inputs': ['x', 'w']},\n",
        "#           'OUT': {'STD_LOGIC': ['F', 'G'],\n",
        "#             'STD_LOGIC_VECTOR': ['G', 'H'],\n",
        "#             'STD_LOGIC_num_inputs': ['I', 'J'],\n",
        "#             'STD_LOGIC_VECTOR_num_inputs': ['K', 'L'],\n",
        "#             'SIGNED': ['y'],\n",
        "#             'SIGNED_num_inputs': ['M', 'N']}}\n",
        "\n",
        "#         num_inputs (int): número de entradas de um neurônio.\n",
        "#         ID_camada (str): string (texto) que identifica o número do neurônio na camada e o número da camada. Exemplo: ID_camada = 'c1_n1' --> 1º neurônio (n1) da 1ª camada (c1).\n",
        "\n",
        "#     Returns:\n",
        "#         Neuron_IN_port_map(str), Neuron_OUT_port_map(str), lista_camada_inputs(list), lista_camada_outputs(list): retorna 2 variáveis armazenando strings (texto) das entradas e saídas e 2 variáveis armazenando lista das entradas e saídas referentes à camada respectiva (ID_camada)\n",
        "#     \"\"\"\n",
        "#     Neuron_IN_port_map = ''\n",
        "#     Neuron_OUT_port_map = ''\n",
        "#     # string para adicionar no inicio de cada elemento da lista\n",
        "#     ID_camada = f\" {ID_camada}_n{i}_\"\n",
        "#     lista_camada_inputs = []\n",
        "#     lista_camada_outputs = []\n",
        "\n",
        "#     # for i in range(0,len(neuron_dict_list)):\n",
        "#     # ========================= IN =================================\n",
        "#     Neuron_IN_port_map = \"-- ['IN']['STD_LOGIC'] \\n\"\n",
        "\n",
        "#     for i in range(0, len(neuron_dict_list)):\n",
        "\n",
        "#         Neuron_IN_port_map = Neuron_IN_port_map + input_sequences_number_choice(\n",
        "#             neuron_dict_list[i]['IN']['STD_LOGIC'], neuron_dict_list[i]['IN']['STD_LOGIC'], False, 1, 'list', 1, 1, False)\n",
        "\n",
        "#         # pega lista do dicionario (elementos wi)\n",
        "#         lista = neuron_dict_list[i]['IN']['STD_LOGIC_VECTOR']\n",
        "#         # conseguindo lidar com lista mesmo quando é 'None'\n",
        "#         s = dict_list_exceptNone(dict_slice=lista)\n",
        "#         # unindo var_vamada com cada elemento da lista\n",
        "#         lista_var = [ID_camada + item for item in s]\n",
        "#         lista_camada_inputs.append(lista_var)\n",
        "\n",
        "#     Neuron_IN_port_map = Neuron_IN_port_map + \\\n",
        "#         \"-- ['IN']['STD_LOGIC_VECTOR'] \\n\"\n",
        "\n",
        "#     Neuron_IN_port_map = Neuron_IN_port_map + \\\n",
        "#         input_sequences_number_choice(\n",
        "#             lista, lista_var, False, 1, 'list', 1, 1, False)\n",
        "\n",
        "#     for i in range(0, len(neuron_dict_list)):\n",
        "#         lista = neuron_dict_list[i]['IN']['STD_LOGIC_num_inputs']\n",
        "#         # conseguindo lidar com lista mesmo quando é 'None'\n",
        "#         s = dict_list_exceptNone(dict_slice=lista)\n",
        "#         # unindo var_vamada com cada elemento da lista\n",
        "#         lista_var = [ID_camada + item for item in s]\n",
        "#         lista_camada_inputs.append(lista_var)\n",
        "\n",
        "#     Neuron_IN_port_map = Neuron_IN_port_map + \\\n",
        "#         \"-- ['IN']['STD_LOGIC_num_inputs'] \\n\"\n",
        "#     Neuron_IN_port_map = Neuron_IN_port_map + \\\n",
        "#         input_sequences_number_choice(\n",
        "#             lista, lista_var, False, num_inputs, 'list', 1, 1, True)\n",
        "\n",
        "#     for i in range(0, len(neuron_dict_list)):\n",
        "#         lista = neuron_dict_list[i]['IN']['STD_LOGIC_VECTOR_num_inputs']\n",
        "#         # conseguindo lidar com lista mesmo quando é 'None'\n",
        "#         s = dict_list_exceptNone(dict_slice=lista)\n",
        "#         # unindo var_vamada com cada elemento da lista\n",
        "#         lista_var = [ID_camada + item for item in s]\n",
        "#         lista_camada_inputs.append(lista_var)\n",
        "\n",
        "#     Neuron_IN_port_map = Neuron_IN_port_map + \\\n",
        "#         \"-- ['IN']['STD_LOGIC_VECTOR_num_inputs'] \\n\"\n",
        "#     Neuron_IN_port_map = Neuron_IN_port_map + \\\n",
        "#         input_sequences_number_choice(\n",
        "#             lista, lista_var, False, num_inputs, 'list', 1, 1, True)\n",
        "\n",
        "#     Neuron_IN_port_map = Neuron_IN_port_map + \\\n",
        "#         \"-- ['IN']['SIGNED_num_inputs'] \\n\"\n",
        "\n",
        "#     for i in range(0, len(neuron_dict_list)):\n",
        "#         Neuron_IN_port_map = Neuron_IN_port_map + input_sequences_number_choice(\n",
        "#             neuron_dict_list[i]['IN']['SIGNED_num_inputs'][0], neuron_dict_list[i]['IN']['SIGNED_num_inputs'][0], False, num_inputs, 'list', 1, 1, True)\n",
        "\n",
        "#         lista = neuron_dict_list[i]['IN']['SIGNED']\n",
        "#         # conseguindo lidar com lista mesmo quando é 'None'\n",
        "#         s = dict_list_exceptNone(dict_slice=lista)\n",
        "#         # unindo var_vamada com cada elemento da lista\n",
        "#         lista_var = [ID_camada + item for item in s]\n",
        "#         lista_camada_inputs.append(lista_var)\n",
        "\n",
        "#     Neuron_IN_port_map = Neuron_IN_port_map + \"-- ['IN']['SIGNED'] \\n\"\n",
        "#     Neuron_IN_port_map = Neuron_IN_port_map + \\\n",
        "#         input_sequences_number_choice(\n",
        "#             lista, lista_var, False, 1, 'list', 1, 1, False)\n",
        "\n",
        "#     # ============================ OUT ===============================\n",
        "#     for i in range(0, len(neuron_dict_list)):\n",
        "#         lista = neuron_dict_list[i]['OUT']['STD_LOGIC']\n",
        "#         # conseguindo lidar com lista mesmo quando é 'None'\n",
        "#         s = dict_list_exceptNone(dict_slice=lista)\n",
        "#         # unindo var_vamada com cada elemento da lista\n",
        "#         lista_var = [ID_camada + item for item in s]\n",
        "#         lista_camada_outputs.append(lista_var)\n",
        "\n",
        "#     Neuron_OUT_port_map = Neuron_OUT_port_map + \"-- ['OUT']['STD_LOGIC'] \\n\"\n",
        "#     Neuron_OUT_port_map = Neuron_OUT_port_map + \\\n",
        "#         input_sequences_number_choice(\n",
        "#             lista, lista_var, False, 1, 'list', 1, 1, False)\n",
        "\n",
        "#     for i in range(0, len(neuron_dict_list)):\n",
        "#         lista = neuron_dict_list[i]['OUT']['STD_LOGIC_VECTOR']\n",
        "#         # conseguindo lidar com lista mesmo quando é 'None'\n",
        "#         s = dict_list_exceptNone(dict_slice=lista)\n",
        "#         # unindo var_vamada com cada elemento da lista\n",
        "#         lista_var = [ID_camada + item for item in s]\n",
        "#         lista_camada_outputs.append(lista_var)\n",
        "\n",
        "#     Neuron_OUT_port_map = Neuron_OUT_port_map + \\\n",
        "#         \"-- ['OUT']['STD_LOGIC_VECTOR'] \\n\"\n",
        "#     Neuron_OUT_port_map = Neuron_OUT_port_map + \\\n",
        "#         input_sequences_number_choice(\n",
        "#             lista, lista_var, False, 1, 'list', 1, 1, False)\n",
        "\n",
        "#     for i in range(0, len(neuron_dict_list)):\n",
        "#         lista = neuron_dict_list[i]['OUT']['STD_LOGIC_num_inputs']\n",
        "#         # conseguindo lidar com lista mesmo quando é 'None'\n",
        "#         s = dict_list_exceptNone(dict_slice=lista)\n",
        "#         # unindo var_vamada com cada elemento da lista\n",
        "#         lista_var = [ID_camada + item for item in s]\n",
        "#         lista_camada_outputs.append(lista_var)\n",
        "\n",
        "#     Neuron_OUT_port_map = Neuron_OUT_port_map + \\\n",
        "#         \"-- ['OUT']['STD_LOGIC_num_inputs'] \\n\"\n",
        "#     Neuron_OUT_port_map = Neuron_OUT_port_map + \\\n",
        "#         input_sequences_number_choice(\n",
        "#             lista, lista_var, False, num_inputs, 'list', 1, 1, True)\n",
        "\n",
        "#     for i in range(0, len(neuron_dict_list)):\n",
        "#         lista = neuron_dict_list[i]['OUT']['STD_LOGIC_VECTOR_num_inputs']\n",
        "#         # conseguindo lidar com lista mesmo quando é 'None'\n",
        "#         s = dict_list_exceptNone(dict_slice=lista)\n",
        "#         # unindo var_vamada com cada elemento da lista\n",
        "#         lista_var = [ID_camada + item for item in s]\n",
        "#         lista_camada_outputs.append(lista_var)\n",
        "\n",
        "#     Neuron_OUT_port_map = Neuron_OUT_port_map + \\\n",
        "#         \"-- ['OUT']['STD_LOGIC_VECTOR_num_inputs'] \\n\"\n",
        "#     Neuron_OUT_port_map = Neuron_OUT_port_map + \\\n",
        "#         input_sequences_number_choice(\n",
        "#             lista, lista_var, False, num_inputs, 'list', 1, 1, True)\n",
        "\n",
        "#     for i in range(0, len(neuron_dict_list)):\n",
        "#         lista = neuron_dict_list[i]['OUT']['SIGNED']\n",
        "#         # conseguindo lidar com lista mesmo quando é 'None'\n",
        "#         s = dict_list_exceptNone(dict_slice=lista)\n",
        "#         # unindo var_vamada com cada elemento da lista\n",
        "#         lista_var = [ID_camada + item for item in s]\n",
        "#         lista_camada_outputs.append(lista_var)\n",
        "\n",
        "#     Neuron_OUT_port_map = Neuron_OUT_port_map + \"-- ['OUT']['SIGNED'] \\n\"\n",
        "#     Neuron_OUT_port_map = Neuron_OUT_port_map + \\\n",
        "#         input_sequences_number_choice(\n",
        "#             lista, lista_var, False, 1, 'list', 1, 1, False)\n",
        "\n",
        "#     for i in range(0, len(neuron_dict_list)):\n",
        "#         lista = neuron_dict_list[i]['OUT']['SIGNED_num_inputs']\n",
        "#         # conseguindo lidar com lista mesmo quando é 'None'\n",
        "#         s = dict_list_exceptNone(dict_slice=lista)\n",
        "#         # unindo var_vamada com cada elemento da lista\n",
        "#         lista_var = [ID_camada + item for item in s]\n",
        "#         lista_camada_outputs.append(lista_var)\n",
        "\n",
        "#     Neuron_OUT_port_map = Neuron_OUT_port_map + \\\n",
        "#         \"-- ['OUT']['SIGNED_num_inputs'] \\n\"\n",
        "#     Neuron_OUT_port_map = Neuron_OUT_port_map + \\\n",
        "#         input_sequences_number_choice(\n",
        "#             lista, lista_var, False, num_inputs, 'list', 1, 1, True)\n",
        "\n",
        "#     return Neuron_IN_port_map, Neuron_OUT_port_map, lista_camada_inputs, lista_camada_outputs\n",
        "# # Neuron_IN_port_map, Neuron_OUT_port_map = Neuron_port_map_IO(neuron_dict_list= neuron_dict_list, i = 2, num_inputs = 3, ID_camada = 'c1')"
      ]
    },
    {
      "cell_type": "markdown",
      "metadata": {},
      "source": [
        "### Neuron_port_map_IO_unique"
      ]
    },
    {
      "cell_type": "markdown",
      "metadata": {},
      "source": [
        "## <font color=green>    **Test**    </font>"
      ]
    },
    {
      "cell_type": "code",
<<<<<<< HEAD
      "execution_count": 19,
=======
      "execution_count": 15,
>>>>>>> 944c8341fef03c81f00e5fd82ff42415f098b593
      "metadata": {},
      "outputs": [
        {
          "name": "stdout",
          "output_type": "stream",
          "text": [
            "['x1=>x1', 'x2=>x2', 'x3=>x3', 'w1=>w1', 'w2=>w2', 'w3=>w3']\n",
            "x1=>x1, \n",
            "x2=>x2, \n",
            "x3=>x3, \n",
            "w1=>w1, \n",
            "w2=>w2, \n",
            "w3=>w3, \n",
            "\n"
          ]
        }
      ],
      "source": [
        "# EXEMPLOS:\n",
        "# print(input_sequences('x',num_inputs,'string',1,1)) # (sequence_inputs,'string',0,0)) # (sequence_id ,num_inputs, list_or_string, port_map, new_line)\n",
        "# print(input_sequences(['x','w'] ,num_inputs,'list',0,0)) # (sequence_id ,num_inputs, list_or_string, port_map, new_line)\n",
        "# print(input_sequences('x' ,num_inputs,'string',1,0)) # (sequence_id ,num_inputs, list_or_string, port_map, new_line)\n",
        "# print(input_sequences('x' _id ,num_inputs, list_or_string, port_map, new_line)\n",
        "\n",
        "# print(input_sequences('sx' ,num_inputs,'string',0,0)) # (sequence_id ,num_inputs, list_or_string, port_map, new_line)\n",
        "# print(input_sequences('sw' ,num_inputs,'string',0,0)) # (sequence_id ,num_inputs, list_or_string, port_map, new_line)\n",
        "# print(input_sequences('val_x' ,num_inputs,'string',0,0)) # (sequence_id ,num_inputs, list_or_string, port_map, new_line)\n",
        "# print(input_sequences('val_w' ,num_inputs,'string',0,0)) # (sequence_id ,num_inputs, list_or_string, port_map, new_line)\n",
        "print(input_sequences(['x','w'] ,num_inputs,'list',1,0)) # (sequence_id ,num_inputs, list_or_string, port_map, new_line))\n",
        "print(input_sequences(['x','w'] ,num_inputs,'list',1,1)) # (sequence_id ,num_inputs, list_or_string, port_map, new_line))"
      ]
    },
    {
      "cell_type": "code",
<<<<<<< HEAD
      "execution_count": 20,
=======
      "execution_count": 16,
>>>>>>> 944c8341fef03c81f00e5fd82ff42415f098b593
      "metadata": {},
      "outputs": [
        {
          "data": {
            "text/plain": [
              "{'IN': {'STD_LOGIC': ['clk', 'rst'],\n",
              "  'STD_LOGIC_VECTOR': ['A', 'B'],\n",
              "  'STD_LOGIC_num_inputs': ['C', 'D'],\n",
              "  'STD_LOGIC_VECTOR_num_inputs': ['E', 'X'],\n",
              "  'SIGNED': ['bias'],\n",
              "  'SIGNED_num_inputs': ['x', 'w']},\n",
              " 'OUT': {'STD_LOGIC': ['F', 'G'],\n",
              "  'STD_LOGIC_VECTOR': ['G', 'H'],\n",
              "  'STD_LOGIC_num_inputs': ['I', 'J'],\n",
              "  'STD_LOGIC_VECTOR_num_inputs': ['K', 'L'],\n",
              "  'SIGNED': ['y'],\n",
              "  'SIGNED_num_inputs': ['M', 'N']}}"
            ]
          },
<<<<<<< HEAD
          "execution_count": 20,
          "metadata": {},
          "output_type": "execute_result"
        }
      ],
      "source": [
        "Neuron_IO_dict"
      ]
    },
    {
      "cell_type": "code",
      "execution_count": null,
      "metadata": {},
      "outputs": [],
      "source": []
    },
    {
      "cell_type": "code",
      "execution_count": 21,
      "metadata": {},
      "outputs": [
        {
          "name": "stdout",
          "output_type": "stream",
          "text": [
            "('clk=> clk, \\nrst=> rst, \\n', ['clk', 'rst'])\n"
          ]
        }
      ],
      "source": [
        "# \n",
        "print(input_sequences_number_choice(sequence_id = dict_test['IN']['STD_LOGIC'],\n",
        "                                    port_map_list = dict_test['IN']['STD_LOGIC'],\n",
        "                                    port_map_is_str = False,\n",
        "                                    num_inputs = 1,\n",
        "                                    list_or_string = 'list',\n",
        "                                    port_map = 1,\n",
        "                                    new_line = 1, \n",
        "                                    com_numero = False))"
      ]
    },
    {
      "cell_type": "code",
      "execution_count": 22,
      "metadata": {},
      "outputs": [
        {
          "name": "stdout",
          "output_type": "stream",
          "text": [
            "('A=>  c1_n1_A, \\nB=>  c1_n1_B, \\n', [' c1_n1_A', ' c1_n1_B'])\n"
          ]
        }
      ],
      "source": [
        "ID_camada= ' c1_n1_'\n",
        "lista = dict_test['IN']['STD_LOGIC_VECTOR']\n",
        "lista_var = [ID_camada + s for s in lista]\n",
        "# lista_var\n",
        "print(input_sequences_number_choice(lista,lista_var,False,1,'list',1,1, False))"
      ]
    },
    {
      "cell_type": "code",
      "execution_count": 23,
      "metadata": {},
      "outputs": [
        {
          "name": "stdout",
          "output_type": "stream",
          "text": [
            "('IN', {'STD_LOGIC': ['clk', 'rst'], 'STD_LOGIC_VECTOR': ['A', 'B'], 'STD_LOGIC_num_inputs': ['C', 'D'], 'STD_LOGIC_VECTOR_num_inputs': ['E', 'X'], 'SIGNED': ['bias'], 'SIGNED_num_inputs': ['x', 'w']})\n",
            "('OUT', {'STD_LOGIC': ['F', 'G'], 'STD_LOGIC_VECTOR': ['G', 'H'], 'STD_LOGIC_num_inputs': ['I', 'J'], 'STD_LOGIC_VECTOR_num_inputs': ['K', 'L'], 'SIGNED': ['y'], 'SIGNED_num_inputs': ['M', 'N']})\n"
          ]
        }
      ],
      "source": [
        "for i in dict_test.items():\n",
        "  print(i)"
      ]
    },
    {
      "cell_type": "code",
      "execution_count": 24,
      "metadata": {},
      "outputs": [
        {
          "name": "stdout",
          "output_type": "stream",
          "text": [
            "('C1=>  c1_n1_C1, \\nC2=>  c1_n1_C2, \\nC3=>  c1_n1_C3, \\nD1=>  c1_n1_D1, \\nD2=>  c1_n1_D2, \\nD3=>  c1_n1_D3, \\n', [' c1_n1_C1', ' c1_n1_C2', ' c1_n1_C3', ' c1_n1_D1', ' c1_n1_D2', ' c1_n1_D3'])\n"
          ]
        }
      ],
      "source": [
        "ID_camada = ' c1_n1_'\n",
        "lista = dict_test['IN']['STD_LOGIC_num_inputs']\n",
        "lista_var = [ID_camada + s for s in lista]\n",
        "print(input_sequences_number_choice(lista,lista_var,False,num_inputs,'list',1,1, True))"
      ]
    },
    {
      "cell_type": "code",
      "execution_count": 25,
      "metadata": {},
      "outputs": [
        {
          "name": "stdout",
          "output_type": "stream",
          "text": [
            "('E1=>  c1_n1_E1, \\nE2=>  c1_n1_E2, \\nE3=>  c1_n1_E3, \\nX1=>  c1_n1_X1, \\nX2=>  c1_n1_X2, \\nX3=>  c1_n1_X3, \\n', [' c1_n1_E1', ' c1_n1_E2', ' c1_n1_E3', ' c1_n1_X1', ' c1_n1_X2', ' c1_n1_X3'])\n"
          ]
        }
      ],
      "source": [
        "ID_camada = ' c1_n1_'\n",
        "lista = dict_test['IN']['STD_LOGIC_VECTOR_num_inputs']\n",
        "lista_var = [ID_camada + s for s in lista]\n",
        "print(input_sequences_number_choice(lista,lista_var,False,num_inputs,'list',1,1, True))"
      ]
    },
    {
      "cell_type": "code",
      "execution_count": 26,
      "metadata": {},
      "outputs": [
        {
          "name": "stdout",
          "output_type": "stream",
          "text": [
            "('x1=> x1, \\nx2=> x2, \\nx3=> x3, \\n', ['x1', 'x2', 'x3'])\n"
          ]
        }
      ],
      "source": [
        "# print(input_sequences(dict_test['IN']['SIGNED_num_inputs'][0],num_inputs,'list',1,1))\n",
        "print(input_sequences_number_choice(dict_test['IN']['SIGNED_num_inputs'][0],dict_test['IN']['SIGNED_num_inputs'][0],False,num_inputs,'list',1,1, True))"
      ]
    },
    {
      "cell_type": "code",
      "execution_count": 27,
      "metadata": {},
      "outputs": [
        {
          "name": "stdout",
          "output_type": "stream",
          "text": [
            "('w1=>  c1_n1_w1, \\nw2=>  c1_n1_w2, \\nw3=>  c1_n1_w3, \\n', [' c1_n1_w1', ' c1_n1_w2', ' c1_n1_w3'])\n"
          ]
        }
      ],
      "source": [
        "ID_camada= ' c1_n1_'        #string para adicionar no inicio de cada elemento da lista\n",
        "lista = dict_test['IN']['SIGNED_num_inputs'][1]  # pega lista do dicionario (elementos wi)\n",
        "lista_var = [ID_camada + s for s in lista] # unindo var_vamada com cada elemento da lista\n",
        "\n",
        "print(input_sequences_number_choice(lista,lista_var,False,num_inputs,'list',1,1, True))"
      ]
    },
    {
      "cell_type": "code",
      "execution_count": null,
      "metadata": {},
      "outputs": [],
      "source": []
    },
    {
      "cell_type": "markdown",
      "metadata": {},
      "source": [
        "# sdfds"
      ]
    },
    {
      "cell_type": "code",
      "execution_count": 28,
      "metadata": {},
      "outputs": [
        {
          "name": "stdout",
          "output_type": "stream",
          "text": [
            "('clk1=> clk1, \\nrst1=> rst1, \\n', [['clk1', 'rst1'], ''])\n"
          ]
        }
      ],
      "source": [
        "print(port_map_dict(\n",
        "        neuron_dict=layer_dict['Neuron_arch']['IO'],\n",
        "        ID_camada=ID_camada,\n",
        "        lista_camada_IO=[],\n",
        "        IO_type='IN',\n",
        "        port_type='STD_LOGIC'))"
      ]
    },
    {
      "cell_type": "code",
      "execution_count": 68,
      "metadata": {},
      "outputs": [
        {
          "name": "stdout",
          "output_type": "stream",
          "text": [
            "\n",
            "neuron_inst_0: ENTITY work.neuron_comb_ReLU_3n_8bit_signed_mul1a_v0_add0_v0\n",
            "   PORT MAP (\n",
            "            ---------- Entradas ----------\n",
            "            -- ['IN']['STD_LOGIC'] \n",
            "            clk=> clk, \n",
            "            rst=> rst, \n",
            "            -- ['IN']['SIGNED'] \n",
            "            bias=>  c1_n0_bias, \n",
            "            -- ['IN']['SIGNED_num_inputs'] \n",
            "            x1=> x1, \n",
            "            x2=> x2, \n",
            "            x3=> x3, \n",
            "            w1=>  c1_n0_w1, \n",
            "            w2=>  c1_n0_w2, \n",
            "            w3=>  c1_n0_w3, \n",
            "            ---------- Saidas ---------- \n",
            "            -- ['OUT']['SIGNED'] \n",
            "            y=>  c1_n0_y, \n",
            "   );           \n",
            "            \n",
            "neuron_inst_1: ENTITY work.neuron_comb_ReLU_3n_8bit_signed_mul1a_v0_add0_v0\n",
            "   PORT MAP (\n",
            "            ---------- Entradas ----------\n",
            "            -- ['IN']['STD_LOGIC'] \n",
            "            clk=> clk, \n",
            "            rst=> rst, \n",
            "            -- ['IN']['SIGNED'] \n",
            "            bias=>  c1_n1_bias, \n",
            "            -- ['IN']['SIGNED_num_inputs'] \n",
            "            x1=> x1, \n",
            "            x2=> x2, \n",
            "            x3=> x3, \n",
            "            w1=>  c1_n1_w1, \n",
            "            w2=>  c1_n1_w2, \n",
            "            w3=>  c1_n1_w3, \n",
            "            ---------- Saidas ---------- \n",
            "            -- ['OUT']['SIGNED'] \n",
            "            y=>  c1_n1_y, \n",
            "   );           \n",
            "            \n"
          ]
        }
      ],
      "source": [
        "port_map_txt, camada_inputs, camada_outputs = layer_neurons_port_map_ALL(\n",
        "  neuron_dict = layer_dict['Neuron_arch']['IO'],\n",
        "  ID_camada = 'c1',\n",
        "  number_of_neurons= layer_dict['Neurons_number'],\n",
        "  num_inputs = layer_dict['Inputs_number'],\n",
        "  # num_inputs = 3,  \n",
        "  vhd_name = layer_dict['Neuron_arch']['neuron_name'])\n",
        "print(port_map_txt)"
      ]
    },
    {
      "cell_type": "code",
      "execution_count": 69,
      "metadata": {},
      "outputs": [
        {
          "name": "stdout",
          "output_type": "stream",
          "text": [
            "[[[['clk', 'rst'], ''], ['', ''], ['', [' c1_n0_bias']], ['', ''], ['', ''], [['x1', 'x2', 'x3'], [' c1_n0_w1', ' c1_n0_w2', ' c1_n0_w3']]], [[['clk', 'rst'], ''], ['', ''], ['', [' c1_n1_bias']], ['', ''], ['', ''], [['x1', 'x2', 'x3'], [' c1_n1_w1', ' c1_n1_w2', ' c1_n1_w3']]]]\n"
          ]
        }
      ],
      "source": [
        "print(camada_inputs)"
      ]
    },
    {
      "cell_type": "code",
      "execution_count": 70,
      "metadata": {},
      "outputs": [
        {
          "data": {
            "text/plain": [
              "[[[['clk', 'rst'], ''],\n",
              "  ['', ''],\n",
              "  ['', [' c1_n0_bias']],\n",
              "  ['', ''],\n",
              "  ['', ''],\n",
              "  [['x1', 'x2', 'x3'], [' c1_n0_w1', ' c1_n0_w2', ' c1_n0_w3']]],\n",
              " [[['clk', 'rst'], ''],\n",
              "  ['', ''],\n",
              "  ['', [' c1_n1_bias']],\n",
              "  ['', ''],\n",
              "  ['', ''],\n",
              "  [['x1', 'x2', 'x3'], [' c1_n1_w1', ' c1_n1_w2', ' c1_n1_w3']]]]"
            ]
          },
          "execution_count": 70,
          "metadata": {},
          "output_type": "execute_result"
        }
      ],
      "source": [
        "camada_inputs"
      ]
    },
    {
      "cell_type": "code",
      "execution_count": 71,
      "metadata": {},
      "outputs": [
        {
          "data": {
            "text/plain": [
              "[[['clk', 'rst'], ''],\n",
              " ['', ''],\n",
              " ['', [' c1_n0_bias']],\n",
              " ['', ''],\n",
              " ['', ''],\n",
              " [['x1', 'x2', 'x3'], [' c1_n0_w1', ' c1_n0_w2', ' c1_n0_w3']]]"
            ]
          },
          "execution_count": 71,
          "metadata": {},
          "output_type": "execute_result"
        }
      ],
      "source": [
        "camada_inputs[0]"
      ]
    },
    {
      "cell_type": "code",
      "execution_count": 81,
      "metadata": {},
      "outputs": [
        {
          "data": {
            "text/plain": [
              "[[['clk', 'rst'], ''],\n",
              " ['', ''],\n",
              " ['', [' c1_n1_bias']],\n",
              " ['', ''],\n",
              " ['', ''],\n",
              " [['x1', 'x2', 'x3'], [' c1_n1_w1', ' c1_n1_w2', ' c1_n1_w3']]]"
            ]
          },
          "execution_count": 81,
          "metadata": {},
          "output_type": "execute_result"
        }
      ],
      "source": [
        "camada_inputs[1]"
      ]
    },
    {
      "cell_type": "code",
      "execution_count": 72,
      "metadata": {},
      "outputs": [
        {
          "data": {
            "text/plain": [
              "[['clk', 'rst'], '']"
            ]
          },
          "execution_count": 72,
          "metadata": {},
          "output_type": "execute_result"
        }
      ],
      "source": [
        "camada_inputs[0][0]"
      ]
    },
    {
      "cell_type": "code",
      "execution_count": 77,
      "metadata": {},
      "outputs": [
        {
          "data": {
            "text/plain": [
              "['', '']"
            ]
          },
          "execution_count": 77,
          "metadata": {},
          "output_type": "execute_result"
        }
      ],
      "source": [
        "camada_inputs[0][1]"
      ]
    },
    {
      "cell_type": "code",
      "execution_count": 73,
      "metadata": {},
      "outputs": [
        {
          "data": {
            "text/plain": [
              "6"
            ]
          },
          "execution_count": 73,
          "metadata": {},
          "output_type": "execute_result"
        }
      ],
      "source": [
        "len(camada_inputs[0])"
      ]
    },
    {
      "cell_type": "code",
      "execution_count": 125,
      "metadata": {},
      "outputs": [
        {
          "data": {
            "text/plain": [
              "[['clk', 'rst'],\n",
              " ['', ''],\n",
              " [' c1_n0_bias'],\n",
              " ['', ''],\n",
              " ['', ''],\n",
              " ['x1', 'x2', 'x3', ' c1_n0_w1', ' c1_n0_w2', ' c1_n0_w3']]"
            ]
          },
          "execution_count": 125,
          "metadata": {},
          "output_type": "execute_result"
        }
      ],
      "source": [
        "mylist = []\n",
        "for i in range(0, len(camada_inputs[0])):\n",
        "  mylist.append(list_concatenation_all_sublists(\n",
        "        camada_inputs[0][i]))\n",
        "# camada_inputs = camada_inputs[0]\n",
        "mylist"
      ]
    },
    {
      "cell_type": "code",
      "execution_count": 126,
      "metadata": {},
      "outputs": [
        {
          "data": {
            "text/plain": [
              "[['clk', 'rst'],\n",
              " ['', ''],\n",
              " [' c1_n1_bias'],\n",
              " ['', ''],\n",
              " ['', ''],\n",
              " ['x1', 'x2', 'x3', ' c1_n1_w1', ' c1_n1_w2', ' c1_n1_w3']]"
            ]
          },
          "execution_count": 126,
          "metadata": {},
          "output_type": "execute_result"
        }
      ],
      "source": [
        "mylist2 = []\n",
        "for i in range(0, len(camada_inputs[1])):\n",
        "  mylist2.append(list_concatenation_all_sublists(\n",
        "        camada_inputs[1][i]))\n",
        "# camada_inputs = camada_inputs[0]\n",
        "mylist2"
      ]
    },
    {
      "cell_type": "code",
      "execution_count": 144,
      "metadata": {},
      "outputs": [],
      "source": [
        "mylistf = []\n",
        "mylist = []\n",
        "\n",
        "for i in range(0, len(camada_inputs)):\n",
        "  for j in range(0, len(camada_inputs[i])):\n",
        "    mylist.append(list_concatenation_all_sublists(\n",
        "          camada_inputs[i][j]))\n",
        "    # print(camada_inputs[i][j])\n",
        "  mylistf = mylistf + [mylist]\n",
        "# mylistf  \n",
        "# mylistf = []\n",
        " "
      ]
    },
    {
      "cell_type": "code",
      "execution_count": 151,
      "metadata": {},
      "outputs": [
        {
          "data": {
            "text/plain": [
              "[['clk', 'rst'],\n",
              " ['', ''],\n",
              " [' c1_n0_bias'],\n",
              " ['', ''],\n",
              " ['', ''],\n",
              " ['x1', 'x2', 'x3', ' c1_n0_w1', ' c1_n0_w2', ' c1_n0_w3'],\n",
              " ['clk', 'rst'],\n",
              " ['', ''],\n",
              " [' c1_n1_bias'],\n",
              " ['', ''],\n",
              " ['', ''],\n",
              " ['x1', 'x2', 'x3', ' c1_n1_w1', ' c1_n1_w2', ' c1_n1_w3']]"
            ]
          },
          "execution_count": 151,
          "metadata": {},
          "output_type": "execute_result"
        }
      ],
      "source": [
        "mylist"
      ]
    },
    {
      "cell_type": "code",
      "execution_count": 150,
      "metadata": {},
      "outputs": [
        {
          "data": {
            "text/plain": [
              "[['clk', 'rst'],\n",
              " ['', ''],\n",
              " [' c1_n0_bias'],\n",
              " ['', ''],\n",
              " ['', ''],\n",
              " ['x1', 'x2', 'x3', ' c1_n0_w1', ' c1_n0_w2', ' c1_n0_w3'],\n",
              " ['clk', 'rst'],\n",
              " ['', ''],\n",
              " [' c1_n1_bias'],\n",
              " ['', ''],\n",
              " ['', ''],\n",
              " ['x1', 'x2', 'x3', ' c1_n1_w1', ' c1_n1_w2', ' c1_n1_w3']]"
            ]
          },
          "execution_count": 150,
          "metadata": {},
          "output_type": "execute_result"
        }
      ],
      "source": [
        "mylistf[0]"
      ]
    },
    {
      "cell_type": "code",
      "execution_count": 149,
      "metadata": {},
      "outputs": [
        {
          "data": {
            "text/plain": [
              "2"
            ]
          },
          "execution_count": 149,
          "metadata": {},
          "output_type": "execute_result"
        }
      ],
      "source": [
        "len(mylistf)"
      ]
    },
    {
      "cell_type": "code",
      "execution_count": 140,
      "metadata": {},
      "outputs": [
        {
          "data": {
            "text/plain": [
              "[['clk', 'rst'],\n",
              " ['', ''],\n",
              " [' c1_n0_bias'],\n",
              " ['', ''],\n",
              " ['', ''],\n",
              " ['x1', 'x2', 'x3', ' c1_n0_w1', ' c1_n0_w2', ' c1_n0_w3'],\n",
              " ['clk', 'rst'],\n",
              " ['', ''],\n",
              " [' c1_n1_bias'],\n",
              " ['', ''],\n",
              " ['', ''],\n",
              " ['x1', 'x2', 'x3', ' c1_n1_w1', ' c1_n1_w2', ' c1_n1_w3']]"
            ]
          },
          "execution_count": 140,
          "metadata": {},
          "output_type": "execute_result"
        }
      ],
      "source": [
        "mylistf[0]"
      ]
    },
    {
      "cell_type": "code",
      "execution_count": 137,
      "metadata": {},
      "outputs": [
        {
          "data": {
            "text/plain": [
              "[[['clk', 'rst'],\n",
              "  ['', ''],\n",
              "  [' c1_n0_bias'],\n",
              "  ['', ''],\n",
              "  ['', ''],\n",
              "  ['x1', 'x2', 'x3', ' c1_n0_w1', ' c1_n0_w2', ' c1_n0_w3'],\n",
              "  ['clk', 'rst'],\n",
              "  ['', ''],\n",
              "  [' c1_n1_bias'],\n",
              "  ['', ''],\n",
              "  ['', ''],\n",
              "  ['x1', 'x2', 'x3', ' c1_n1_w1', ' c1_n1_w2', ' c1_n1_w3'],\n",
              "  ['clk', 'rst'],\n",
              "  ['', ''],\n",
              "  [' c1_n0_bias'],\n",
              "  ['', ''],\n",
              "  ['', ''],\n",
              "  ['x1', 'x2', 'x3', ' c1_n0_w1', ' c1_n0_w2', ' c1_n0_w3'],\n",
              "  ['clk', 'rst'],\n",
              "  ['', ''],\n",
              "  [' c1_n1_bias'],\n",
              "  ['', ''],\n",
              "  ['', ''],\n",
              "  ['x1', 'x2', 'x3', ' c1_n1_w1', ' c1_n1_w2', ' c1_n1_w3']],\n",
              " ['clk', 'rst', 'clk', 'rst'],\n",
              " ['', '', '', ''],\n",
              " [' c1_n0_bias', ' c1_n0_bias'],\n",
              " ['', '', '', ''],\n",
              " ['', '', '', ''],\n",
              " ['x1',\n",
              "  'x2',\n",
              "  'x3',\n",
              "  ' c1_n0_w1',\n",
              "  ' c1_n0_w2',\n",
              "  ' c1_n0_w3',\n",
              "  'x1',\n",
              "  'x2',\n",
              "  'x3',\n",
              "  ' c1_n0_w1',\n",
              "  ' c1_n0_w2',\n",
              "  ' c1_n0_w3'],\n",
              " ['clk', 'rst', 'clk', 'rst'],\n",
              " ['', '', '', ''],\n",
              " [' c1_n1_bias', ' c1_n1_bias'],\n",
              " ['', '', '', ''],\n",
              " ['', '', '', ''],\n",
              " ['x1',\n",
              "  'x2',\n",
              "  'x3',\n",
              "  ' c1_n1_w1',\n",
              "  ' c1_n1_w2',\n",
              "  ' c1_n1_w3',\n",
              "  'x1',\n",
              "  'x2',\n",
              "  'x3',\n",
              "  ' c1_n1_w1',\n",
              "  ' c1_n1_w2',\n",
              "  ' c1_n1_w3']]"
            ]
          },
          "execution_count": 137,
          "metadata": {},
          "output_type": "execute_result"
        }
      ],
      "source": [
        "mylistf2 = []\n",
        "for i in range(1, len(mylistf)):\n",
        "  mylistf2.append(mylistf[0] + mylistf[i])\n",
        "  for j in range(0, len(mylistf[i])):\n",
        "    mylistf2.append(mylistf[0][j] + mylistf[i][j])\n",
        "  # mylistf[i] = (list(dict.fromkeys(mylistf[i])))  # remove duplicates\n",
        "mylistf2  "
      ]
    },
    {
      "cell_type": "code",
      "execution_count": 124,
      "metadata": {},
      "outputs": [
        {
          "ename": "TypeError",
          "evalue": "unhashable type: 'list'",
          "output_type": "error",
          "traceback": [
            "\u001b[1;31m---------------------------------------------------------------------------\u001b[0m",
            "\u001b[1;31mTypeError\u001b[0m                                 Traceback (most recent call last)",
            "\u001b[1;32mc:\\Users\\luisa\\Documents\\Programming\\nn_generator\\Python_script\\Python_vhd_script.ipynb Cell 57'\u001b[0m in \u001b[0;36m<cell line: 2>\u001b[1;34m()\u001b[0m\n\u001b[0;32m      <a href='vscode-notebook-cell:/c%3A/Users/luisa/Documents/Programming/nn_generator/Python_script/Python_vhd_script.ipynb#ch0000333?line=1'>2</a>\u001b[0m \u001b[39mfor\u001b[39;00m i \u001b[39min\u001b[39;00m \u001b[39mrange\u001b[39m(\u001b[39m0\u001b[39m, \u001b[39mlen\u001b[39m(mylist)):\n\u001b[0;32m      <a href='vscode-notebook-cell:/c%3A/Users/luisa/Documents/Programming/nn_generator/Python_script/Python_vhd_script.ipynb#ch0000333?line=2'>3</a>\u001b[0m   mylistf\u001b[39m.\u001b[39mappend(mylist[i] \u001b[39m+\u001b[39m mylist2[i])\n\u001b[1;32m----> <a href='vscode-notebook-cell:/c%3A/Users/luisa/Documents/Programming/nn_generator/Python_script/Python_vhd_script.ipynb#ch0000333?line=3'>4</a>\u001b[0m   mylistf[i] \u001b[39m=\u001b[39m (\u001b[39mlist\u001b[39m(\u001b[39mdict\u001b[39;49m\u001b[39m.\u001b[39;49mfromkeys(mylistf[i])))  \u001b[39m# remove duplicates\u001b[39;00m\n\u001b[0;32m      <a href='vscode-notebook-cell:/c%3A/Users/luisa/Documents/Programming/nn_generator/Python_script/Python_vhd_script.ipynb#ch0000333?line=4'>5</a>\u001b[0m mylistf\n",
            "\u001b[1;31mTypeError\u001b[0m: unhashable type: 'list'"
          ]
        }
      ],
      "source": [
        "# mylistf = []\n",
        "for i in range(0, len(mylist)):\n",
        "  mylistf.append(mylist[i] + mylist[i+1])\n",
        "  mylistf[i] = (list(dict.fromkeys(mylistf[i])))  # remove duplicates\n",
        "mylistf  "
      ]
    },
    {
      "cell_type": "code",
      "execution_count": null,
      "metadata": {},
      "outputs": [],
      "source": [
        "for i in range(0, len(mylist)):  \n",
        "  temp = list(dict.fromkeys(mylistf[i]))  # remove duplicates\n",
        "  mylistf[i] = temp\n",
        "mylistf "
      ]
    },
    {
      "cell_type": "code",
      "execution_count": 97,
      "metadata": {},
      "outputs": [
        {
          "data": {
            "text/plain": [
              "[['clk', 'rst'],\n",
              " [''],\n",
              " [' c1_n0_bias', ' c1_n1_bias'],\n",
              " [''],\n",
              " [''],\n",
              " ['x1',\n",
              "  'x2',\n",
              "  'x3',\n",
              "  ' c1_n0_w1',\n",
              "  ' c1_n0_w2',\n",
              "  ' c1_n0_w3',\n",
              "  ' c1_n1_w1',\n",
              "  ' c1_n1_w2',\n",
              "  ' c1_n1_w3']]"
            ]
          },
          "execution_count": 97,
          "metadata": {},
          "output_type": "execute_result"
        }
      ],
      "source": [
        "concat_list_in = []\n",
        "for i in range(0, len(mylistf)):\n",
        "  concat_list_in.append(list(dict.fromkeys(mylistf[i])))  # remove duplicates\n",
        "concat_list_in"
      ]
    },
    {
      "cell_type": "code",
      "execution_count": 64,
      "metadata": {},
      "outputs": [
        {
          "data": {
            "text/plain": [
              "'clk'"
            ]
          },
          "execution_count": 64,
          "metadata": {},
          "output_type": "execute_result"
        }
      ],
      "source": [
        "camada_inputs[0][0]"
      ]
    },
    {
      "cell_type": "code",
      "execution_count": 63,
      "metadata": {},
      "outputs": [
        {
          "data": {
            "text/plain": [
              "[['clk', 'rst'],\n",
              " ['', ''],\n",
              " [' c1_n0_bias'],\n",
              " ['', ''],\n",
              " ['', ''],\n",
              " ['x1', 'x2', 'x3', ' c1_n0_w1', ' c1_n0_w2', ' c1_n0_w3']]"
            ]
          },
          "execution_count": 63,
=======
          "execution_count": 16,
>>>>>>> 944c8341fef03c81f00e5fd82ff42415f098b593
          "metadata": {},
          "output_type": "execute_result"
        }
      ],
      "source": [
        "camada_inputs = camada_inputs[0]\n",
        "camada_inputs"
      ]
    },
    {
      "cell_type": "code",
<<<<<<< HEAD
      "execution_count": 60,
=======
      "execution_count": 17,
>>>>>>> 944c8341fef03c81f00e5fd82ff42415f098b593
      "metadata": {},
      "outputs": [
        {
          "data": {
            "text/plain": [
              "['clk',\n",
              " 'rst',\n",
              " '',\n",
              " '',\n",
              " ' c1_n0_bias',\n",
              " '',\n",
              " '',\n",
              " '',\n",
              " '',\n",
              " 'x1',\n",
              " 'x2',\n",
              " 'x3',\n",
              " ' c1_n0_w1',\n",
              " ' c1_n0_w2',\n",
              " ' c1_n0_w3']"
            ]
          },
          "execution_count": 60,
          "metadata": {},
          "output_type": "execute_result"
        }
      ],
      "source": [
        "list_concatenation_all_sublists(\n",
        "        camada_inputs[0])"
      ]
    },
    {
      "cell_type": "code",
<<<<<<< HEAD
      "execution_count": 45,
=======
      "execution_count": 18,
>>>>>>> 944c8341fef03c81f00e5fd82ff42415f098b593
      "metadata": {},
      "outputs": [
        {
          "data": {
            "text/plain": [
              "['clk', 'rst']"
            ]
          },
          "execution_count": 45,
          "metadata": {},
          "output_type": "execute_result"
        }
      ],
      "source": [
        "camada_inputs[0][0] = list_concatenation_all_sublists(\n",
        "        camada_inputs[0][0])\n",
        "camada_inputs[0][0]"
      ]
    },
    {
      "cell_type": "code",
<<<<<<< HEAD
      "execution_count": 44,
=======
      "execution_count": 19,
>>>>>>> 944c8341fef03c81f00e5fd82ff42415f098b593
      "metadata": {},
      "outputs": [
        {
          "data": {
            "text/plain": [
              "['', [' c1_n0_bias']]"
            ]
          },
          "execution_count": 44,
          "metadata": {},
          "output_type": "execute_result"
        }
      ],
      "source": [
        "camada_inputs[0][2]"
      ]
    },
    {
      "cell_type": "code",
<<<<<<< HEAD
      "execution_count": 34,
=======
      "execution_count": 20,
>>>>>>> 944c8341fef03c81f00e5fd82ff42415f098b593
      "metadata": {},
      "outputs": [
        {
          "ename": "IndexError",
          "evalue": "list index out of range",
          "output_type": "error",
          "traceback": [
            "\u001b[1;31m---------------------------------------------------------------------------\u001b[0m",
            "\u001b[1;31mIndexError\u001b[0m                                Traceback (most recent call last)",
            "\u001b[1;32mc:\\Users\\luisa\\Documents\\Programming\\nn_generator\\Python_script\\Python_vhd_script.ipynb Cell 47'\u001b[0m in \u001b[0;36m<cell line: 1>\u001b[1;34m()\u001b[0m\n\u001b[0;32m      <a href='vscode-notebook-cell:/c%3A/Users/luisa/Documents/Programming/nn_generator/Python_script/Python_vhd_script.ipynb#ch0000319?line=0'>1</a>\u001b[0m list_concatenation_all_sublists(\n\u001b[1;32m----> <a href='vscode-notebook-cell:/c%3A/Users/luisa/Documents/Programming/nn_generator/Python_script/Python_vhd_script.ipynb#ch0000319?line=1'>2</a>\u001b[0m         camada_inputs[\u001b[39m5\u001b[39;49m])\n",
            "\u001b[1;31mIndexError\u001b[0m: list index out of range"
          ]
        }
      ],
      "source": [
        "list_concatenation_all_sublists(\n",
        "        camada_inputs[5])"
      ]
    },
    {
      "cell_type": "code",
<<<<<<< HEAD
      "execution_count": null,
=======
      "execution_count": 21,
>>>>>>> 944c8341fef03c81f00e5fd82ff42415f098b593
      "metadata": {},
      "outputs": [],
      "source": [
        "layer_dict['Neuron_arch']['neuron_name']"
      ]
    },
    {
      "cell_type": "code",
<<<<<<< HEAD
      "execution_count": 39,
=======
      "execution_count": 22,
>>>>>>> 944c8341fef03c81f00e5fd82ff42415f098b593
      "metadata": {},
      "outputs": [
        {
          "data": {
            "text/plain": [
              "[]"
            ]
          },
          "execution_count": 39,
          "metadata": {},
          "output_type": "execute_result"
        }
      ],
      "source": [
        "camada_inputs"
      ]
    },
    {
      "cell_type": "code",
<<<<<<< HEAD
      "execution_count": 32,
=======
      "execution_count": 23,
>>>>>>> 944c8341fef03c81f00e5fd82ff42415f098b593
      "metadata": {},
      "outputs": [
        {
          "name": "stdout",
          "output_type": "stream",
          "text": [
            "[' c1_n0_y', ' c1_n1_y']\n"
          ]
        }
      ],
      "source": [
        "print(camada_outputs)"
      ]
    },
    {
      "cell_type": "markdown",
      "metadata": {
        "id": "KYmmRVfpiNM5"
      },
      "source": [
        "# .vhd Names - ok"
      ]
    },
    {
      "cell_type": "markdown",
      "metadata": {
        "id": "0xX9ubwkzKr_"
      },
      "source": [
        "### <font color=green>    **.vhd Names > Sum (MAC)**    </font>"
      ]
    },
    {
      "cell_type": "markdown",
      "metadata": {},
      "source": [
        "#### Name"
      ]
    },
    {
      "cell_type": "code",
<<<<<<< HEAD
      "execution_count": null,
=======
      "execution_count": 24,
>>>>>>> 944c8341fef03c81f00e5fd82ff42415f098b593
      "metadata": {
        "colab": {
          "base_uri": "https://localhost:8080/",
          "height": 35
        },
        "id": "qpJMzF04zopf",
        "outputId": "54c99849-2203-4560-cc58-7e69fd2aa100"
      },
      "outputs": [],
      "source": [
        "sum_name = vhd_name('MAC', bits, IO_type, num_inputs, Barriers, MAC_type, Include_MAC_type)\n",
        "if (print_cells_result == 1):\n",
        "  print(sum_name)"
      ]
    },
    {
      "cell_type": "markdown",
      "metadata": {
        "id": "Iu7DR5BFzS7f"
      },
      "source": [
        "### <font color=green>    **.vhd Names > top_neuron**   </font>"
      ]
    },
    {
      "cell_type": "markdown",
      "metadata": {},
      "source": [
        "#### <font color=orange>    **.vhd Names > top_neuron> Name**   </font>"
      ]
    },
    {
      "cell_type": "code",
<<<<<<< HEAD
      "execution_count": null,
=======
      "execution_count": 25,
>>>>>>> 944c8341fef03c81f00e5fd82ff42415f098b593
      "metadata": {},
      "outputs": [],
      "source": [
        "prefix_neuron = 'neuron_'\n",
        "neurons_dict = {\n",
        "  'ReLU' : f'{prefix_neuron}ReLU',\n",
        "  'Leaky ReLU': f'{prefix_neuron}LeakyReLU',\n",
        "  'Sigmoid' : f'{prefix_neuron}Sigmoid'\n",
        "}"
      ]
    },
    {
      "cell_type": "code",
<<<<<<< HEAD
      "execution_count": null,
=======
      "execution_count": 26,
>>>>>>> 944c8341fef03c81f00e5fd82ff42415f098b593
      "metadata": {},
      "outputs": [],
      "source": [
        "# aqui estamos gerando o nome para cada um dos 3 tipos de neurônio e salvando em variáveis globais\n",
        "neuron_ReLU_name = vhd_name(neurons_dict['ReLU'], bits, IO_type, num_inputs, Barriers, MAC_type, Include_MAC_type  )\n",
        "neuron_Leaky_name = vhd_name(neurons_dict['Leaky ReLU'], bits, IO_type, num_inputs, Barriers, MAC_type, Include_MAC_type  )\n",
        "neuron_Sigmoid_name = vhd_name(neurons_dict['Sigmoid'], bits, IO_type, num_inputs, Barriers, MAC_type, Include_MAC_type  )\n",
        "\n",
        "if (print_cells_result == 1):\n",
        "  print(neuron_ReLU_name)\n",
        "  print(neuron_Leaky_name)\n",
        "  print(neuron_Sigmoid_name)"
      ]
    },
    {
      "cell_type": "markdown",
      "metadata": {
        "id": "WqkRU7aZzXDr"
      },
      "source": [
        "### <font color=green>    **.vhd Names > Testbench top neuron**   </font>"
      ]
    },
    {
      "cell_type": "markdown",
      "metadata": {},
      "source": [
        "#### <font color=orange>    **.vhd Names > Testbench top neuron > Name**   </font>"
      ]
    },
    {
      "cell_type": "code",
<<<<<<< HEAD
      "execution_count": null,
=======
      "execution_count": 27,
>>>>>>> 944c8341fef03c81f00e5fd82ff42415f098b593
      "metadata": {},
      "outputs": [],
      "source": [
        "# aqui estamos GERANDO OS NOMES para os arquivos de TESTBENCH para cada um dos 3 tipos de neurônio\n",
        "tb_neuron_ReLU_name = vhd_name('tb_neuron_ReLU', bits, IO_type, num_inputs, Barriers, MAC_type, Include_MAC_type  )\n",
        "tb_neuron_Leaky_name = vhd_name('tb_neuron_LeakyReLU', bits, IO_type, num_inputs, Barriers, MAC_type, Include_MAC_type  )\n",
        "tb_neuron_soft_name = vhd_name('tb_neuron_Softmax', bits, IO_type, num_inputs, Barriers, MAC_type, Include_MAC_type  )\n",
        "\n",
        "if (print_cells_result == 1):\n",
        "  print(tb_neuron_ReLU_name)\n",
        "  print(tb_neuron_Leaky_name)\n",
        "  print(tb_neuron_soft_name)"
      ]
    },
    {
      "cell_type": "markdown",
      "metadata": {
        "id": "iqT8fVXAZnEC"
      },
      "source": [
        "# Neuronio"
      ]
    },
    {
      "cell_type": "markdown",
      "metadata": {
        "id": "FxoK9YKThUT0"
      },
      "source": [
        "## <font color=green>**Sequências**</font>"
      ]
    },
    {
      "cell_type": "code",
<<<<<<< HEAD
      "execution_count": null,
=======
      "execution_count": 28,
>>>>>>> 944c8341fef03c81f00e5fd82ff42415f098b593
      "metadata": {},
      "outputs": [],
      "source": [
        "# print(input_sequences('x' ,num_inputs,'string',1,1)) #(sequence_id ,num_inputs, list_or_string, port_map, new_line)"
      ]
    },
    {
      "cell_type": "code",
<<<<<<< HEAD
      "execution_count": null,
=======
      "execution_count": 29,
>>>>>>> 944c8341fef03c81f00e5fd82ff42415f098b593
      "metadata": {},
      "outputs": [],
      "source": [
        "# print(input_sequences('x' ,\n",
        "#                       num_inputs= 2,\n",
        "#                       list_or_string = 'string',\n",
        "#                       port_map = 0, \n",
        "#                       new_line= False))"
      ]
    },
    {
      "cell_type": "code",
<<<<<<< HEAD
      "execution_count": null,
=======
      "execution_count": 30,
>>>>>>> 944c8341fef03c81f00e5fd82ff42415f098b593
      "metadata": {},
      "outputs": [],
      "source": [
        "# print(seq_input_output(x_seq = ['x1,x2,x3','w1,w2'],\n",
        "#                        type = \"IN\",\n",
        "#                        IO_type = 'signed',\n",
        "#                        bits = 8,\n",
        "#                        list_or_string = 'string',\n",
        "#                        port_position = 'begin'))"
      ]
    },
    {
      "cell_type": "code",
<<<<<<< HEAD
      "execution_count": null,
=======
      "execution_count": 31,
>>>>>>> 944c8341fef03c81f00e5fd82ff42415f098b593
      "metadata": {},
      "outputs": [],
      "source": [
        "# print(seq_input_output(x_seq = ['x1,x2,x3','w1,w2'],\n",
        "#                        type = \"IN\",\n",
        "#                        IO_type = 'signed',\n",
        "#                        bits = 8,\n",
        "#                        list_or_string = 'list',\n",
        "#                        port_position = 'begin'))"
      ]
    },
    {
      "cell_type": "code",
<<<<<<< HEAD
      "execution_count": null,
=======
      "execution_count": 32,
>>>>>>> 944c8341fef03c81f00e5fd82ff42415f098b593
      "metadata": {},
      "outputs": [],
      "source": [
        "# print(seq_signal(x_seq = ['x1,x2,x3','w1,w2'],\n",
        "#                   type = \"SIGNAL\",\n",
        "#                   IO_type = 'signed',\n",
        "#                   bits = 8))"
      ]
    },
    {
      "cell_type": "code",
<<<<<<< HEAD
      "execution_count": null,
=======
      "execution_count": 33,
>>>>>>> 944c8341fef03c81f00e5fd82ff42415f098b593
      "metadata": {},
      "outputs": [],
      "source": [
        "# inputs_vector(bits = 8,\n",
        "#               IO_type = 'signed', \n",
        "#               x_seq= ['x1, x2, x3'], \n",
        "#               sx_seq = ['sx1, sx2, sx3'], \n",
        "#               valx_seq= ['val_x1, val_x2, val_x3'],\n",
        "#               is_list= True\n",
        "#               )"
      ]
    },
    {
      "cell_type": "code",
<<<<<<< HEAD
      "execution_count": null,
=======
      "execution_count": 34,
>>>>>>> 944c8341fef03c81f00e5fd82ff42415f098b593
      "metadata": {},
      "outputs": [],
      "source": [
        "# inputs_vector(bits = 8,\n",
        "#               IO_type = 'signed', \n",
        "#               x_seq= ['x1, x2, x3','w1, w2, w3'], \n",
        "#               sx_seq = ['sx1, sx2, sx3','sw1, sw2, sw3'], \n",
        "#               valx_seq= ['val_x1, val_x2, val_x3','val_w1, val_w2, val_w3'],\n",
        "#               is_list= True\n",
        "#               )"
      ]
    },
    {
      "cell_type": "code",
<<<<<<< HEAD
      "execution_count": null,
=======
      "execution_count": 35,
>>>>>>> 944c8341fef03c81f00e5fd82ff42415f098b593
      "metadata": {},
      "outputs": [],
      "source": [
        "# inputs_vector(bits = 8,\n",
        "#               IO_type = 'signed', \n",
        "#               x_seq= ['x1, x2, x3','w1, w2, w3'], \n",
        "#               sx_seq = ['sx1, sx2, sx3','sw1, sw2, sw3'], \n",
        "#               valx_seq= ['val_x1, val_x2, val_x3','val_w1, val_w2, val_w3'],\n",
        "#               is_list= False\n",
        "#               )"
      ]
    },
    {
      "cell_type": "code",
<<<<<<< HEAD
      "execution_count": null,
      "metadata": {},
      "outputs": [],
=======
      "execution_count": 36,
      "metadata": {},
      "outputs": [
        {
          "ename": "NameError",
          "evalue": "name 'input_sequences' is not defined",
          "output_type": "error",
          "traceback": [
            "\u001b[0;31m---------------------------------------------------------------------------\u001b[0m",
            "\u001b[0;31mNameError\u001b[0m                                 Traceback (most recent call last)",
            "\u001b[0;32m<ipython-input-36-1479c71e4e0f>\u001b[0m in \u001b[0;36m<module>\u001b[0;34m\u001b[0m\n\u001b[0;32m----> 1\u001b[0;31m \u001b[0msequence_string_to_input\u001b[0m\u001b[0;34m(\u001b[0m\u001b[0;34m[\u001b[0m\u001b[0;34m'x'\u001b[0m\u001b[0;34m]\u001b[0m\u001b[0;34m,\u001b[0m \u001b[0;36m3\u001b[0m\u001b[0;34m)\u001b[0m\u001b[0;34m\u001b[0m\u001b[0;34m\u001b[0m\u001b[0m\n\u001b[0m",
            "\u001b[0;32m~/ecl/redes_neurais/NN_generator/Python_script/io_utils.py\u001b[0m in \u001b[0;36msequence_string_to_input\u001b[0;34m(input_name, num_inputs)\u001b[0m\n\u001b[1;32m     55\u001b[0m         \u001b[0;31m# (sequence_id ,num_inputs, list_or_string, port_map, new_line)\u001b[0m\u001b[0;34m\u001b[0m\u001b[0;34m\u001b[0m\u001b[0;34m\u001b[0m\u001b[0m\n\u001b[1;32m     56\u001b[0m         x_sequence_string.append(\n\u001b[0;32m---> 57\u001b[0;31m             input_sequences(i, num_inputs, 'string', 0, 0))\n\u001b[0m\u001b[1;32m     58\u001b[0m         \u001b[0;31m# (sequence_id ,num_inputs, list_or_string, port_map, new_line)\u001b[0m\u001b[0;34m\u001b[0m\u001b[0;34m\u001b[0m\u001b[0;34m\u001b[0m\u001b[0m\n\u001b[1;32m     59\u001b[0m         \u001b[0mx_map_tb\u001b[0m\u001b[0;34m.\u001b[0m\u001b[0mappend\u001b[0m\u001b[0;34m(\u001b[0m\u001b[0minput_sequences\u001b[0m\u001b[0;34m(\u001b[0m\u001b[0mi\u001b[0m\u001b[0;34m,\u001b[0m \u001b[0mnum_inputs\u001b[0m\u001b[0;34m,\u001b[0m \u001b[0;34m'string'\u001b[0m\u001b[0;34m,\u001b[0m \u001b[0;36m1\u001b[0m\u001b[0;34m,\u001b[0m \u001b[0;36m0\u001b[0m\u001b[0;34m)\u001b[0m\u001b[0;34m)\u001b[0m\u001b[0;34m\u001b[0m\u001b[0;34m\u001b[0m\u001b[0m\n",
            "\u001b[0;31mNameError\u001b[0m: name 'input_sequences' is not defined"
          ]
        }
      ],
>>>>>>> 944c8341fef03c81f00e5fd82ff42415f098b593
      "source": [
        "sequence_string_to_input(['x'], 3)"
      ]
    },
    {
      "cell_type": "code",
      "execution_count": null,
      "metadata": {},
      "outputs": [
        {
          "name": "stdout",
          "output_type": "stream",
          "text": [
            "x1, x2, x3: IN signed(7 DOWNTO 0);\n",
            "w1, w2, w3: IN signed(7 DOWNTO 0);\n",
            "SIGNAL sx1, sx2, sx3: signed(7 DOWNTO 0); \n",
            "SIGNAL sw1, sw2, sw3: signed(7 DOWNTO 0); \n",
            "SIGNAL x1, x2, x3: signed(7 DOWNTO 0); \n",
            "SIGNAL w1, w2, w3: signed(7 DOWNTO 0); \n",
            "SIGNAL val_x1, val_x2, val_x3: STD_LOGIC_VECTOR(7 DOWNTO 0); \n",
            "SIGNAL val_w1, val_w2, val_w3: STD_LOGIC_VECTOR(7 DOWNTO 0); \n",
            "VARIABLE val_x1, val_x2, val_x3: STD_LOGIC_VECTOR(7 DOWNTO 0); \n",
            "VARIABLE val_w1, val_w2, val_w3: STD_LOGIC_VECTOR(7 DOWNTO 0); \n"
          ]
        }
      ],
      "source": [
        "x,w,sx,sw,sx_tb,sw_tb,val_x,val_w,val_x_tb,val_w_tb = all_inputs_signals(['x','w'],num_inputs,bits,IO_type,0)\n",
        "print(x)\n",
        "print(w)\n",
        "print(sx)\n",
        "print(sw)\n",
        "print(sx_tb)\n",
        "print(sw_tb)\n",
        "print(val_x)\n",
        "print(val_w)\n",
        "print(val_x_tb)\n",
        "print(val_w_tb)"
      ]
    },
    {
      "cell_type": "markdown",
      "metadata": {},
      "source": [
        "## <font color=red>**ROM**</font>"
      ]
    },
    {
      "cell_type": "markdown",
      "metadata": {},
      "source": [
        "### <font color=green>    **.vhd Names > ROM**    </font>"
      ]
    },
    {
      "cell_type": "code",
      "execution_count": null,
      "metadata": {},
      "outputs": [
        {
          "name": "stdout",
          "output_type": "stream",
          "text": [
            "ROM_fx_8bitaddr_8width\n"
          ]
        }
      ],
      "source": [
        "# ROM_name = f\"ROM_fx_{2**bits}rows_{bits}bitaddr_{bits}width\"\n",
        "ROM_name = f\"ROM_fx_{bits}bitaddr_{bits}width\"\n",
        "\n",
        "if (print_cells_result == 1):\n",
        "  print(ROM_name)"
      ]
    },
    {
      "cell_type": "markdown",
      "metadata": {},
      "source": [
        "### <font color=orange>**ROM > COMPONENT**</font>"
      ]
    },
    {
      "cell_type": "code",
      "execution_count": null,
      "metadata": {},
      "outputs": [
        {
          "data": {
            "text/plain": [
              "8"
            ]
          },
          "execution_count": 39,
          "metadata": {},
          "output_type": "execute_result"
        }
      ],
      "source": [
        "input_mem_bits"
      ]
    },
    {
      "cell_type": "code",
      "execution_count": null,
      "metadata": {},
      "outputs": [
        {
          "name": "stdout",
          "output_type": "stream",
          "text": [
            "\n",
            "  -- ROM \n",
            "  COMPONENT ROM_fx_8bitaddr_8width IS\n",
            "    PORT ( \n",
            "      address : IN STD_LOGIC_VECTOR (7 DOWNTO 0);\n",
            "      ------------------------------------------\n",
            "      data_out : OUT STD_LOGIC_VECTOR (7  DOWNTO 0)\n",
            "    );\n",
            "  -- input: address (8 bits)\t\n",
            "  -- output: data_out (8 bits)\n",
            "  END COMPONENT;                     \n",
            "  \n"
          ]
        }
      ],
      "source": [
        "ROM_component = rom_component(ROM_name,input_mem_bits, output_mem_bits)\n",
        "print(ROM_component)"
      ]
    },
    {
      "cell_type": "markdown",
      "metadata": {},
      "source": [
        "### <font color=orange>**ROM > PORT MAP**</font>"
      ]
    },
    {
      "cell_type": "code",
      "execution_count": null,
      "metadata": {},
      "outputs": [
        {
          "name": "stdout",
          "output_type": "stream",
          "text": [
            "\n",
            "\tU_ROM : ROM_fx_8bitaddr_8width PORT MAP(\n",
            "\t\tSTD_LOGIC_VECTOR(out_reg_MAC), out_ROM_act\n",
            "\t\t);\n",
            "\t-- input: address (8)\n",
            "\t-- output: data_out (8)  \n",
            "\t\n"
          ]
        }
      ],
      "source": [
        "PORT_MAP_ROM = port_map_ROM(ROM_name,input_mem_bits,output_mem_bits)\n",
        "print(PORT_MAP_ROM)"
      ]
    },
    {
      "cell_type": "markdown",
      "metadata": {
        "id": "dGT1s6v8Xj5f"
      },
      "source": [
        "## <font color=red>**Sum (MAC)**</font>"
      ]
    },
    {
      "cell_type": "markdown",
      "metadata": {
        "id": "v1b7WyxyXoED"
      },
      "source": [
        "### <font color=orange> **Sum (MAC)  > tree -> Combinacional (tree: árvore)** </font>"
      ]
    },
    {
      "cell_type": "code",
      "execution_count": null,
      "metadata": {},
      "outputs": [],
      "source": [
        "spacebar_1  = \"  \"\n",
        "rst_space   = \"      \" #rst_receive (quando rst = '1')\n",
        "clk_space   = \"        \" #quando clk = '1'\n"
      ]
    },
    {
      "cell_type": "code",
      "execution_count": null,
      "metadata": {},
      "outputs": [],
      "source": [
        "\n",
        "spacebar_1  = 1\n",
        "rst_space   = 3 #rst_receive (quando rst = '1')\n",
        "clk_space   = 4 #quando clk = '1'"
      ]
    },
    {
      "cell_type": "code",
      "execution_count": null,
      "metadata": {},
      "outputs": [
        {
          "data": {
            "text/plain": [
              "8"
            ]
          },
          "execution_count": 44,
          "metadata": {},
          "output_type": "execute_result"
        }
      ],
      "source": [
        "n_bin"
      ]
    },
    {
      "cell_type": "markdown",
      "metadata": {
        "id": "l1G6yySnyqhZ"
      },
      "source": [
        "#### <font color=yellow> **Sum (MAC) > tree > Sequencias** </font>"
      ]
    },
    {
      "cell_type": "code",
      "execution_count": null,
      "metadata": {},
      "outputs": [
        {
          "data": {
            "text/plain": [
              "1.5849625007211563"
            ]
          },
          "execution_count": 45,
          "metadata": {},
          "output_type": "execute_result"
        }
      ],
      "source": [
        "import math\n",
        "from math import log\n",
        "\n",
        "log(num_inputs,2)"
      ]
    },
    {
      "cell_type": "code",
      "execution_count": null,
      "metadata": {},
      "outputs": [
        {
          "data": {
            "text/plain": [
              "'output: OUT signed(7 DOWNTO 0)'"
            ]
          },
          "execution_count": 46,
          "metadata": {},
          "output_type": "execute_result"
        }
      ],
      "source": [
        "# if (activ_fx_middle == 0): #_____________________COM LOOK UP TABLE________________________#\n",
        "#   output_sum = ('''output: out STD_LOGIC_VECTOR(bits-1 DOWNTO 0) --output signal result \\n ''')\n",
        "#   sum_all_receive = ('sum_all<= signed(zero_middle_memory);\\n')\n",
        "# else:#______________________________SEM   MEMÓRIA____________________________________________#\n",
        "#   output_sum = ('''output: out signed(bits-1 DOWNTO 0) --output signal result \\n''')\n",
        "#   sum_all_receive = (\"sum_all<= (OTHERS => '0');\\n\")\n",
        "\n",
        "output_sum = seq_input_output(['output'],'OUT',IO_type,bits,'string','end')\n",
        "output_sum"
      ]
    },
    {
      "cell_type": "markdown",
      "metadata": {},
      "source": [
        "##### <font color=#66FF00\t> **Sum (MAC) > tree > Sequencias > Árvore de soma** </font>"
      ]
    },
    {
      "cell_type": "code",
      "execution_count": null,
      "metadata": {},
      "outputs": [
        {
          "name": "stdout",
          "output_type": "stream",
          "text": [
            "  sx1 <= x1;\n",
            "  sx2 <= x2;\n",
            "  sx3 <= x3;\n",
            "  sw1 <= w1;\n",
            "  sw2 <= w2;\n",
            "  sw3 <= w3;\n"
          ]
        }
      ],
      "source": [
        "signal_receive_string = signal_receive_input(num_inputs,1)\n",
        "print(signal_receive_string)"
      ]
    },
    {
      "cell_type": "code",
      "execution_count": null,
      "metadata": {},
      "outputs": [],
      "source": [
        "# rst_receive_string = signal_receive_rst(rst_space, ['soma_1', 'soma_2', 'soma_3'],['mult_1', 'mult_2', 'mult_3'])\n",
        "# print(rst_receivea_string)"
      ]
    },
    {
      "cell_type": "code",
      "execution_count": null,
      "metadata": {},
      "outputs": [],
      "source": [
        "# clk_receive_string, clk_receive = clk_receive_logic(clk_space,IO_type,bits,n_bin,mult_sequence)\n",
        "# print(clk_receive_string)\n",
        "# print(clk_receive)   "
      ]
    },
    {
      "cell_type": "code",
      "execution_count": null,
      "metadata": {},
      "outputs": [
        {
          "name": "stdout",
          "output_type": "stream",
          "text": [
            "        output <= signed(soma_3(15 DOWNTO 8));\n",
            "        mult_1 <= (signed(sx1) * signed(sw1));\n",
            "        mult_2 <= (signed(sx2) * signed(sw2));\n",
            "        mult_3 <= (signed(sx3) * signed(sw3));\n",
            "['        output <= signed(soma_3(15 DOWNTO 8));', '        mult_1 <= (signed(sx1) * signed(sw1));', '        mult_2 <= (signed(sx2) * signed(sw2));', '        mult_3 <= (signed(sx3) * signed(sw3));']\n"
          ]
        }
      ],
      "source": [
        "clk_receive_string, clk_receive = clk_receive_logic(\n",
        "  clk_space = 4,\n",
        "  IO_type = 'signed',\n",
        "  bits = 8,\n",
        "  n_bin = 8,\n",
        "  sum_sequence= ['soma_1', 'soma_2', 'soma_3'],\n",
        "  mult_sequence = ['mult_1', 'mult_2', 'mult_3'])\n",
        "\n",
        "print(clk_receive_string)\n",
        "print(clk_receive)   "
      ]
    },
    {
      "cell_type": "code",
      "execution_count": null,
      "metadata": {},
      "outputs": [],
      "source": [
        "# sum_receive = tree_sum_algorithm(num_inputs,clk_space,sum_sequence,mult_sequence)\n",
        "\n",
        "# sum_receive"
      ]
    },
    {
      "cell_type": "code",
      "execution_count": null,
      "metadata": {},
      "outputs": [
        {
          "data": {
            "text/plain": [
              "4"
            ]
          },
          "execution_count": 52,
          "metadata": {},
          "output_type": "execute_result"
        }
      ],
      "source": [
        "clk_space"
      ]
    },
    {
      "cell_type": "code",
      "execution_count": null,
      "metadata": {},
      "outputs": [
        {
          "name": "stdout",
          "output_type": "stream",
          "text": [
            "      output <= (OTHERS => '0');\n",
            "      soma_1 <= (OTHERS => '0');\n",
            "      soma_2 <= (OTHERS => '0');\n",
            "      soma_3 <= (OTHERS => '0');\n",
            "      mult_1 <= (OTHERS => '0');\n",
            "      mult_2 <= (OTHERS => '0');\n",
            "      mult_3 <= (OTHERS => '0');\n",
            "------------------------\n",
            "        output <= signed(soma_3(15 DOWNTO 8));\n",
            "        mult_1 <= (signed(sx1) * signed(sw1));\n",
            "        mult_2 <= (signed(sx2) * signed(sw2));\n",
            "        mult_3 <= (signed(sx3) * signed(sw3));\n",
            "        soma_1 <=  mult_1 + mult_2;\n",
            "        soma_2 <=  soma_1 + mult_3;\n",
            "        soma_3 <= soma_2 + sbias; \n",
            "\n",
            "\n"
          ]
        }
      ],
      "source": [
        "s_sum,s_mult,signal_receive_string_MAC,rst_receive_string_MAC,clk_receive_string_MAC = arvore_de_soma_strings(num_inputs,bits,n_bin,IO_type,rst_space,clk_space)\n",
        "\n",
        "if (print_cells_result == 1):\n",
        "  print(rst_receive_string_MAC)\n",
        "  print('------------------------')\n",
        "  print(clk_receive_string_MAC)"
      ]
    },
    {
      "cell_type": "markdown",
      "metadata": {},
      "source": [
        "#### <font color=yellow> **Sum (MAC) > tree > Texto** </font>\n"
      ]
    },
    {
      "cell_type": "markdown",
      "metadata": {},
      "source": [
        "###### <font color=#66FF00\t> **Sum (MAC) > tree > Texto > Com barreiras temporais** </font>"
      ]
    },
    {
      "cell_type": "code",
      "execution_count": null,
      "metadata": {
        "id": "8N7JfLPjydDS"
      },
      "outputs": [
        {
          "name": "stdout",
          "output_type": "stream",
          "text": [
            "\n"
          ]
        }
      ],
      "source": [
        "TXT_MAC = ''\n",
        "if (Barriers == 1): # COM BARREIRA\n",
        "\tTXT_MAC = (f'''\n",
        "LIBRARY ieee;\n",
        "USE ieee.std_logic_1164.ALL;\n",
        "USE ieee.std_logic_unsigned.ALL;\n",
        "USE ieee.numeric_std.ALL;\n",
        "USE ieee.math_real.ALL;\n",
        "--use work.STD_DT.ALL;\n",
        "\n",
        "ENTITY  {sum_name} IS\n",
        "\t--generic (input_bit:integer:= {str(bits -1)}; output_bit:integer:= {str(bits -1)};\t n_input:integer:={str(num_inputs)}); \n",
        "\tPORT (\n",
        "\tclk, rst : IN STD_LOGIC;\n",
        "\t{x}\n",
        "\t{w}\n",
        "\tbias: IN {IO_type}({str(bits -1)} DOWNTO 0) ; -- offset\n",
        "\t------------------------------------------\n",
        "\t{output_sum}\n",
        ");\n",
        "-- clk, rst, \n",
        "-- inputs, \n",
        "-- weigths, \n",
        "-- bias, \n",
        "-- output\n",
        "end ENTITY; \n",
        "\n",
        "\n",
        "ARCHITECTURE behavior of {sum_name} is\n",
        "\tSIGNAL sbias : {IO_type}({str(bits -1)} DOWNTO 0);\n",
        "\tSIGNAL sum_all : signed( {str((2*bits) -1)} DOWNTO 0);\n",
        "\t{sx}\n",
        "\t{sw}\n",
        "\t{s_sum}\n",
        "\t{s_mult}\n",
        "\n",
        "BEGIN\n",
        "{signal_receive_string_MAC}\n",
        "\tsbias <= bias;\n",
        "\n",
        "\t--sum_all <= ((signed(sx1)*signed(sw1))+ (signed(sx2)*signed(sw2)) + (signed(sx3)*signed(sw3))+ (signed(sx4)*signed(sw4)) + signed(bias));\n",
        "\n",
        "\tPROCESS (rst, clk)\n",
        "\tBEGIN\n",
        "\t\tIF (rst = '1') THEN \n",
        "\n",
        "{rst_receive_string_MAC}\n",
        "\n",
        "\t\tELSE\n",
        "\t\t\tIF (clk'event AND clk = '1') THEN --se tem evento de clock \n",
        "\n",
        "{clk_receive_string_MAC}\n",
        "\n",
        "\t\t\tEND IF;\n",
        "\t\tEND IF;\n",
        "\tEND PROCESS;\n",
        "\n",
        "END behavior;''')\n",
        "# init_text = 0\n",
        "# print(TXT_MAC[init_text : (init_text+2000) ]) #Separa em linhas\n",
        "# print(TXT_MAC[init_text: ]) #Separa em linhas\n",
        "if (print_cells_result == 1):\n",
        "\tprint(TXT_MAC)"
      ]
    },
    {
      "cell_type": "markdown",
      "metadata": {},
      "source": [
        "#### <font color=yellow> **IO Functions** </font>\n"
      ]
    },
    {
      "cell_type": "code",
      "execution_count": null,
      "metadata": {},
      "outputs": [],
      "source": [
        "MAC_IO_dict = {\n",
        "  \n",
        "  'IN': {\n",
        "  # INPUTS\n",
        "  'STD_LOGIC': ['clk', 'rst'] , #\n",
        "  'STD_LOGIC_VECTOR': None, #['A','B'],\n",
        "  # 'STD_LOGIC_VECTOR': ['A','B'],\n",
        "  'STD_LOGIC_num_inputs': None, #['C','D'],\n",
        "  'STD_LOGIC_VECTOR_num_inputs': None,\n",
        "  'SIGNED': ['bias'],\n",
        "  'SIGNED_num_inputs': ['x','w']\n",
        "  },\n",
        "  \n",
        "  'OUT' : {\n",
        "  #  OUTPUTS\n",
        "  'STD_LOGIC': None , #\n",
        "  'STD_LOGIC_VECTOR': None, #['A','B'],\n",
        "  # 'STD_LOGIC_num_inputs': None, #['C','D'],\n",
        "  'STD_LOGIC_num_inputs': ['C','D'],\n",
        "  'STD_LOGIC_VECTOR_num_inputs': None,\n",
        "  'SIGNED': ['output'],\n",
        "  'SIGNED_num_inputs': None\n",
        "    \n",
        "  }\n",
        "  }\n",
        "\n",
        "if (print_cells_result == 1):\n",
        "  MAC_IO_dict"
      ]
    },
    {
      "cell_type": "code",
      "execution_count": null,
      "metadata": {},
      "outputs": [
        {
          "name": "stdout",
          "output_type": "stream",
          "text": [
            "clk, rst: IN STD_LOGIC;\n"
          ]
        }
      ],
      "source": [
        "# Exemplo\n",
        "if (print_cells_result == 1):\n",
        "  print(IO_STDL(MAC_IO_dict,1,'IN'))"
      ]
    },
    {
      "cell_type": "code",
      "execution_count": null,
      "metadata": {},
      "outputs": [
        {
          "name": "stdout",
          "output_type": "stream",
          "text": [
            "bias: IN signed(7 DOWNTO 0);\n"
          ]
        }
      ],
      "source": [
        "if (print_cells_result == 1):\n",
        "  print(IO_signed(MAC_IO_dict,bits,1,'IN'))"
      ]
    },
    {
      "cell_type": "code",
      "execution_count": null,
      "metadata": {},
      "outputs": [],
      "source": [
        "MAC_IO_dict['OUT']['STD_LOGIC_num_inputs'] = ['C','D']"
      ]
    },
    {
      "cell_type": "code",
      "execution_count": null,
      "metadata": {},
      "outputs": [
        {
          "name": "stdout",
          "output_type": "stream",
          "text": [
            "C1, C2, C3: OUT STD_LOGIC;\n",
            "D1, D2, D3: OUT STD_LOGIC;\n"
          ]
        }
      ],
      "source": [
        "if (print_cells_result == 1):\n",
        "  print(IO_STD_num_inputs(MAC_IO_dict,num_inputs,0,'OUT'))"
      ]
    },
    {
      "cell_type": "code",
      "execution_count": null,
      "metadata": {},
      "outputs": [],
      "source": [
        "# x_sequence_string, sx_sequence_string, valx_sequence_string,x_w_sequence_string, xw_map_tb_sequence_string =sequence_string_to_input(['x','w'], num_inputs)\n",
        "# print(x_sequence_string)"
      ]
    },
    {
      "cell_type": "code",
      "execution_count": null,
      "metadata": {},
      "outputs": [
        {
          "name": "stdout",
          "output_type": "stream",
          "text": [
            "\n"
          ]
        }
      ],
      "source": [
        "if (print_cells_result == 1):\n",
        "  print(IO_STDL_V_num_inputs(MAC_IO_dict,bits,num_inputs,0,'IN'))"
      ]
    },
    {
      "cell_type": "code",
      "execution_count": null,
      "metadata": {},
      "outputs": [
        {
          "name": "stdout",
          "output_type": "stream",
          "text": [
            "x1, x2, x3: IN signed(7 DOWNTO 0);\n",
            "w1, w2, w3: IN signed(7 DOWNTO 0);\n"
          ]
        }
      ],
      "source": [
        "if (print_cells_result == 1):\n",
        "  print(IO_signed_num_inputs(MAC_IO_dict,bits,num_inputs,0,'IN'))"
      ]
    },
    {
      "cell_type": "code",
      "execution_count": null,
      "metadata": {},
      "outputs": [
        {
          "ename": "NameError",
          "evalue": "name 'IO_STDL' is not defined",
          "output_type": "error",
          "traceback": [
            "\u001b[0;31m---------------------------------------------------------------------------\u001b[0m",
            "\u001b[0;31mNameError\u001b[0m                                 Traceback (most recent call last)",
            "\u001b[0;32m<ipython-input-63-6aab8a990134>\u001b[0m in \u001b[0;36m<module>\u001b[0;34m\u001b[0m\n\u001b[0;32m----> 1\u001b[0;31m \u001b[0mIO\u001b[0m\u001b[0;34m,\u001b[0m \u001b[0mtraco\u001b[0m \u001b[0;34m=\u001b[0m \u001b[0mIO_manager\u001b[0m\u001b[0;34m(\u001b[0m\u001b[0mMAC_IO_dict\u001b[0m\u001b[0;34m,\u001b[0m\u001b[0mbits\u001b[0m\u001b[0;34m,\u001b[0m\u001b[0mnum_inputs\u001b[0m\u001b[0;34m,\u001b[0m\u001b[0;36m1\u001b[0m\u001b[0;34m,\u001b[0m\u001b[0;36m2\u001b[0m\u001b[0;34m)\u001b[0m\u001b[0;34m\u001b[0m\u001b[0;34m\u001b[0m\u001b[0m\n\u001b[0m\u001b[1;32m      2\u001b[0m \u001b[0;34m\u001b[0m\u001b[0m\n\u001b[1;32m      3\u001b[0m \u001b[0;32mif\u001b[0m \u001b[0;34m(\u001b[0m\u001b[0mprint_cells_result\u001b[0m \u001b[0;34m==\u001b[0m \u001b[0;36m1\u001b[0m\u001b[0;34m)\u001b[0m\u001b[0;34m:\u001b[0m\u001b[0;34m\u001b[0m\u001b[0;34m\u001b[0m\u001b[0m\n\u001b[1;32m      4\u001b[0m   \u001b[0mprint\u001b[0m\u001b[0;34m(\u001b[0m\u001b[0mIO\u001b[0m\u001b[0;34m)\u001b[0m\u001b[0;34m\u001b[0m\u001b[0;34m\u001b[0m\u001b[0m\n\u001b[1;32m      5\u001b[0m   \u001b[0;31m# print(traço)\u001b[0m\u001b[0;34m\u001b[0m\u001b[0;34m\u001b[0m\u001b[0;34m\u001b[0m\u001b[0m\n",
            "\u001b[0;32m~/ecl/redes_neurais/NN_generator/Python_script/utils.py\u001b[0m in \u001b[0;36mIO_manager\u001b[0;34m(IO_dict, bits, num_inputs, onerow, tab_space)\u001b[0m\n\u001b[1;32m    452\u001b[0m \u001b[0;34m\u001b[0m\u001b[0m\n\u001b[1;32m    453\u001b[0m   \u001b[0;31m# INPUTS\u001b[0m\u001b[0;34m\u001b[0m\u001b[0;34m\u001b[0m\u001b[0;34m\u001b[0m\u001b[0m\n\u001b[0;32m--> 454\u001b[0;31m   \u001b[0mIN_stdl\u001b[0m \u001b[0;34m=\u001b[0m \u001b[0mIO_STDL\u001b[0m\u001b[0;34m(\u001b[0m\u001b[0mIO_dict\u001b[0m\u001b[0;34m,\u001b[0m\u001b[0monerow\u001b[0m\u001b[0;34m,\u001b[0m\u001b[0;34m'IN'\u001b[0m\u001b[0;34m)\u001b[0m\u001b[0;34m\u001b[0m\u001b[0;34m\u001b[0m\u001b[0m\n\u001b[0m\u001b[1;32m    455\u001b[0m   \u001b[0mIN_stdl_v\u001b[0m \u001b[0;34m=\u001b[0m \u001b[0mIO_STDL_V\u001b[0m\u001b[0;34m(\u001b[0m\u001b[0mIO_dict\u001b[0m\u001b[0;34m,\u001b[0m\u001b[0mbits\u001b[0m\u001b[0;34m,\u001b[0m\u001b[0monerow\u001b[0m\u001b[0;34m,\u001b[0m\u001b[0;34m'IN'\u001b[0m\u001b[0;34m)\u001b[0m\u001b[0;34m\u001b[0m\u001b[0;34m\u001b[0m\u001b[0m\n\u001b[1;32m    456\u001b[0m   \u001b[0mIN_stdl_num_inputs\u001b[0m \u001b[0;34m=\u001b[0m \u001b[0mIO_STD_num_inputs\u001b[0m\u001b[0;34m(\u001b[0m\u001b[0mIO_dict\u001b[0m\u001b[0;34m,\u001b[0m\u001b[0mnum_inputs\u001b[0m\u001b[0;34m,\u001b[0m\u001b[0monerow\u001b[0m\u001b[0;34m,\u001b[0m\u001b[0;34m'IN'\u001b[0m\u001b[0;34m)\u001b[0m\u001b[0;34m\u001b[0m\u001b[0;34m\u001b[0m\u001b[0m\n",
            "\u001b[0;31mNameError\u001b[0m: name 'IO_STDL' is not defined"
          ]
        }
      ],
      "source": [
<<<<<<< HEAD
        "# def IO_manager(IO_dict,bits,num_inputs,onerow,tab_space):\n",
        "#   from txt_utils import erase_empty_lines, tab_lines\n",
        "  \n",
        "#   # INPUTS\n",
        "#   IN_stdl = IO_STDL(IO_dict,onerow,'IN')\n",
        "#   IN_stdl_v = IO_STDL_V(IO_dict,bits,onerow,'IN')\n",
        "#   IN_stdl_num_inputs = IO_STD_num_inputs(IO_dict,num_inputs,onerow,'IN')\n",
        "#   IN_stdl_v_num_inputs = IO_STDL_V_num_inputs(IO_dict,bits,num_inputs,0,'IN')\n",
        "#   IN_signed = IO_signed(IO_dict,bits,onerow,'IN')\n",
        "#   IN_signed_num_inputs = IO_signed_num_inputs(IO_dict,bits,num_inputs,0,'IN')\n",
        "  \n",
        "#   # OUTPUTS\n",
        "#   OUT_stdl = IO_STDL(IO_dict,onerow,'OUT')\n",
        "#   OUT_stdl_v = IO_STDL_V(IO_dict,bits,onerow,'OUT')\n",
        "#   OUT_stdl_num_inputs = IO_STD_num_inputs(IO_dict,num_inputs,onerow,'OUT')\n",
        "#   OUT_stdl_v_num_inputs = IO_STDL_V_num_inputs(IO_dict,bits,num_inputs,0,'OUT')\n",
        "#   OUT_signed = IO_signed(IO_dict,bits,onerow,'OUT')\n",
        "#   OUT_signed_num_inputs = IO_signed_num_inputs(IO_dict,bits,num_inputs,0,'OUT')\n",
        "  \n",
        "#   text = [IN_stdl,IN_stdl_v,IN_stdl_num_inputs,IN_signed,IN_signed_num_inputs,IN_stdl_v_num_inputs,\n",
        "#           '----------------------------------------------',\n",
        "#           OUT_stdl,OUT_stdl_v,OUT_stdl_num_inputs,OUT_signed,OUT_signed_num_inputs,OUT_stdl_v_num_inputs]\n",
        "#   text = '\\n'.join(map(str, (text))) #text_list can be an splitted text or a list of texts\n",
        "#   traço = ' --'+'\\n --'.join(map(str, (IO_dict.items())))\n",
        "  \n",
        "#   text = tab_lines(text, tab_space)\n",
        "#   text = erase_empty_lines(text)[:-1]\n",
        "#   # text = text[:-1] #tira ';' e uma linha em branco\n",
        "#   return(text,traço)\n",
        "\n",
        "# IO, traço = IO_manager(MAC_IO_dict,bits,num_inputs,1,2)\n",
=======
        "IO, traco = IO_manager(MAC_IO_dict,bits,num_inputs,1,2)\n",
>>>>>>> 944c8341fef03c81f00e5fd82ff42415f098b593
        "\n",
        "# if (print_cells_result == 1):\n",
        "#   print(IO)\n",
        "#   # print(traço)"
      ]
    },
    {
      "cell_type": "code",
      "execution_count": null,
      "metadata": {},
      "outputs": [],
      "source": [
        "IO, traco = IO_manager([MAC_IO_dict],bits,num_inputs,1,2)\n",
        "\n",
        "if (print_cells_result == 1):\n",
        "  print(IO)\n",
        "  # print(traço)"
      ]
    },
    {
      "cell_type": "code",
      "execution_count": null,
      "metadata": {},
      "outputs": [],
      "source": [
        "print(entity(sum_name, bits, num_inputs,[MAC_IO_dict]))"
      ]
    },
    {
      "cell_type": "code",
      "execution_count": null,
      "metadata": {},
      "outputs": [],
      "source": [
        "MAC_signals = (f'''\n",
        "        SIGNAL sbias : {IO_type}({str(bits -1)} DOWNTO 0);\n",
        "\tSIGNAL sum_all : signed( {str((2*bits) -1)} DOWNTO 0);\n",
        "\t{sx}\n",
        "\t{sw}\n",
        "\t{s_sum}\n",
        "\t{s_mult}''')\n",
        "print(MAC_signals)"
      ]
    },
    {
      "cell_type": "code",
      "execution_count": null,
      "metadata": {},
      "outputs": [],
      "source": [
        "TXT_MAC = ''\n",
        "if (Barriers == 1): # COM BARREIRA\n",
        "\tTXT_MAC = (f'''\n",
        "LIBRARY ieee;\n",
        "USE ieee.std_logic_1164.ALL;\n",
        "USE ieee.std_logic_unsigned.ALL;\n",
        "USE ieee.numeric_std.ALL;\n",
        "USE ieee.math_real.ALL;\n",
        "--use work.STD_DT.ALL;\n",
        "\n",
        "{entity(sum_name, bits, num_inputs,MAC_IO_dict)}\n",
        "\n",
        "\n",
        "ARCHITECTURE behavior of {sum_name} is\n",
        "{MAC_signals}\n",
        "\n",
        "BEGIN\n",
        "{signal_receive_string_MAC}\n",
        "\tsbias <= bias;\n",
        "\n",
        "\t--sum_all <= ((signed(sx1)*signed(sw1))+ (signed(sx2)*signed(sw2)) + (signed(sx3)*signed(sw3))+ (signed(sx4)*signed(sw4)) + signed(bias));\n",
        "\n",
        "\tPROCESS (rst, clk)\n",
        "\tBEGIN\n",
        "\t\tIF (rst = '1') THEN \n",
        "\n",
        "{rst_receive_string_MAC}\n",
        "\n",
        "\t\tELSE\n",
        "\t\t\tIF (clk'event AND clk = '1') THEN --se tem evento de clock \n",
        "\n",
        "{clk_receive_string_MAC}\n",
        "\n",
        "\t\t\tEND IF;\n",
        "\t\tEND IF;\n",
        "\tEND PROCESS;\n",
        "\n",
        "END behavior;'''\n",
        "\t)\n",
        "  \n",
        "  \n",
        "\n",
        "# init_text = 0\n",
        "# print(TXT_MAC[init_text : (init_text+2000) ]) #Separa em linhas\n",
        "# print(TXT_MAC[init_text: ]) #Separa em linhas\n",
        "# if (print_cells_result == 1):\n",
        "# \tprint(TXT_MAC)"
      ]
    },
    {
      "cell_type": "code",
      "execution_count": null,
      "metadata": {},
      "outputs": [
        {
          "ename": "NameError",
          "evalue": "name 'rst_receive_string_MAC' is not defined",
          "output_type": "error",
          "traceback": [
            "\u001b[0;31m---------------------------------------------------------------------------\u001b[0m",
            "\u001b[0;31mNameError\u001b[0m                                 Traceback (most recent call last)",
            "\u001b[0;32m<ipython-input-7-2517f6e971fb>\u001b[0m in \u001b[0;36m<module>\u001b[0;34m\u001b[0m\n\u001b[1;32m     36\u001b[0m   \u001b[0;32mreturn\u001b[0m \u001b[0mtext\u001b[0m\u001b[0;34m\u001b[0m\u001b[0;34m\u001b[0m\u001b[0m\n\u001b[1;32m     37\u001b[0m \u001b[0;34m\u001b[0m\u001b[0m\n\u001b[0;32m---> 38\u001b[0;31m \u001b[0mprint\u001b[0m\u001b[0;34m(\u001b[0m\u001b[0mPROCCESS_IF_ELSE\u001b[0m\u001b[0;34m(\u001b[0m\u001b[0;36m1\u001b[0m\u001b[0;34m,\u001b[0m\u001b[0;36m1\u001b[0m\u001b[0;34m,\u001b[0m\u001b[0mrst_receive_string_MAC\u001b[0m\u001b[0;34m,\u001b[0m\u001b[0mclk_receive_string_MAC\u001b[0m\u001b[0;34m)\u001b[0m\u001b[0;34m)\u001b[0m\u001b[0;34m\u001b[0m\u001b[0;34m\u001b[0m\u001b[0m\n\u001b[0m",
            "\u001b[0;31mNameError\u001b[0m: name 'rst_receive_string_MAC' is not defined"
          ]
        }
      ],
      "source": [
        "print(PROCCESS_IF_ELSE(1,1,rst_receive_string_MAC,clk_receive_string_MAC))"
      ]
    },
    {
      "cell_type": "code",
      "execution_count": null,
      "metadata": {},
      "outputs": [],
      "source": [
        "print(PROCCESS_IF_ELSE(1,1,rst_receive_string_MAC,clk_receive_string_MAC))"
      ]
    },
    {
      "cell_type": "code",
      "execution_count": null,
      "metadata": {},
      "outputs": [],
      "source": [
        "# TXT_MAC = entity(sum_name, bits, num_inputs,MAC_IO_dict)"
      ]
    },
    {
      "cell_type": "markdown",
      "metadata": {},
      "source": [
        "###### <font color=#66FF00\t> **Sum (MAC) > tree > Texto > Sem barreiras** </font>"
      ]
    },
    {
      "cell_type": "code",
      "execution_count": null,
      "metadata": {},
      "outputs": [],
      "source": [
        "#SOMATÓRIO -> operação de soma ponderada no sum.vhd\n",
        "sum_all = []\n",
        "i= 0\n",
        "\n",
        "while True:\n",
        "  if (i == 0):\n",
        "    sum_all.append(\"sum_all <= ((\"+std_logic_conversion+\"(sx\"+str(i+1)+\")*\"+std_logic_conversion+\"(sw\"+str(i+1)+\"))+\")\n",
        "    i= i+1\n",
        "  \n",
        "  else:\n",
        "    if (i < num_inputs-1):\n",
        "      sum_all.append(\"(\"+std_logic_conversion+\"(sx\"+str(i+1)+\")*\"+std_logic_conversion+\"(sw\"+str(i+1)+\"))+\")\n",
        "      i= i+1\n",
        "    else:\n",
        "      sum_all.append(\"(\"+std_logic_conversion+\"(sx\"+str(i+1)+\")*\"+std_logic_conversion+\"(sw\"+str(i+1)+\"))+\"+std_logic_conversion+\"(sbias));\")\n",
        "      i= 0\n",
        "      break\n",
        "\n",
        "sum_all_string = '\\n'.join(map(str, sum_all)) \n",
        "\n",
        "if (print_cells_result == 1):\n",
        "  print(sum_all_string)"
      ]
    },
    {
      "cell_type": "code",
      "execution_count": null,
      "metadata": {},
      "outputs": [],
      "source": [
        "space = \"  \"\n",
        "signal_receive = []\n",
        "\n",
        "for i in signal_receive_string_MAC.splitlines():\n",
        "  signal_receive.append(space + i)\n",
        "  # print(space + i)\n",
        "  \n",
        "signal_receive = '\\n'.join(map(str, signal_receive)) \n",
        "signal_receive_string = signal_receive\n",
        "\n",
        "if (print_cells_result == 1):\n",
        "  print(signal_receive_string)"
      ]
    },
    {
      "cell_type": "code",
      "execution_count": null,
      "metadata": {},
      "outputs": [],
      "source": [
        "if (Barriers == 0): # SEM BARREIRA\n",
        "  TXT_MAC = ('''\n",
        "LIBRARY ieee;\n",
        "USE ieee.std_logic_1164.ALL;\n",
        "USE ieee.std_logic_unsigned.ALL;\n",
        "USE ieee.numeric_std.ALL;\n",
        "USE ieee.math_real.ALL;\n",
        "--use work.STD_DT.ALL;\n",
        "\n",
        "ENTITY  '''+sum_name+''' IS\n",
        "\t--generic (input_bit:integer:=''' +str(bits -1)+ '''; output_bit:integer:=''' +str(bits -1)+ ''';\t n_input:integer:=''' +str(num_inputs)+ '''); \n",
        "\tPORT (\n",
        "\tclk, rst : IN STD_LOGIC;\n",
        "\t'''+x+'''\n",
        "\t'''+w+'''\n",
        "\tbias: IN '''+IO_type+'''(''' +str(bits -1)+ ''' DOWNTO 0) ; -- offset\n",
        "\t------------------------------------------\n",
        "\t'''+output_sum+'''\n",
        ");\n",
        "-- clk, rst, \n",
        "-- inputs, \n",
        "-- weigths, \n",
        "-- bias, \n",
        "-- output\n",
        "end ENTITY; \n",
        "\n",
        "ARCHITECTURE behavior of '''+sum_name+''' is\n",
        "\tSIGNAL sbias : ''' + IO_type + '''(''' +str(bits -1)+ ''' DOWNTO 0);\n",
        "\tSIGNAL sum_all : signed('''+ str((2*bits) -1) + ''' DOWNTO 0);\n",
        "\t'''+sx+'''\n",
        "\t'''+sw+'''\n",
        "\n",
        "BEGIN\n",
        "''' \"\"+signal_receive_string+\"\" '''\n",
        "\tsbias <= bias;\n",
        " \n",
        "\t'''+sum_all_string+'''\n",
        "\n",
        "\t--sum_all <= ((signed(sx1) * signed(sw1)) + (signed(sx2) * signed(sw2)) + (signed(sx3) * signed(sw3)) + (signed(sx4) * signed(sw4)) + signed(bias));\n",
        "\n",
        "\tPROCESS (rst, clk)\n",
        "\tBEGIN\n",
        "\t\tIF (rst = '1') THEN\n",
        "\t\t\toutput <= (OTHERS => '0');\n",
        "\t\tELSE\n",
        "\t\t\tIF (clk'event AND clk = '1') THEN --se tem evento de clock \n",
        "\t\t\t\toutput <= sum_all('''+ str((2*n_bin) -1) + ''' DOWNTO ('''+ str(n_bin) + '''));\n",
        "\n",
        "\t\t\tEND IF;\n",
        "\t\tEND IF;\n",
        "\tEND PROCESS;\n",
        "\n",
        "END behavior;\n",
        "\n",
        "''')\n",
        "if (print_cells_result == 1):\n",
        "\tprint(TXT_MAC)"
      ]
    },
    {
      "cell_type": "markdown",
      "metadata": {},
      "source": [
        "#### <font color=yellow> **Sum (MAC) > tree > Imprimindo texto** </font>"
      ]
    },
    {
      "cell_type": "code",
      "execution_count": null,
      "metadata": {},
      "outputs": [],
      "source": [
        "# init_text = 0\n",
        "# print(TXT_MAC[init_text : (init_text+2000) ]) #Separa em linhas\n",
        "# print(TXT_MAC[init_text: ]) #Separa em linhas\n",
        "# print(TXT_MAC)"
      ]
    },
    {
      "cell_type": "code",
      "execution_count": null,
      "metadata": {},
      "outputs": [],
      "source": [
        "f\"{path_ReLU}/{sum_name}.vhd\""
      ]
    },
    {
      "cell_type": "code",
      "execution_count": null,
      "metadata": {},
      "outputs": [],
      "source": [
        "with open(f\"{path_ReLU}/{sum_name}.vhd\", \"w\") as writer :\n",
        "  writer.write(TXT_MAC)"
      ]
    },
    {
      "cell_type": "code",
      "execution_count": null,
      "metadata": {
        "id": "nw0oWt2VySdy"
      },
      "outputs": [],
      "source": [
        "# text_file = open(sum_name+\".txt\", \"w\")\n",
        "# text_file.write(sum_text)\n",
        "# text_file.close()\n",
        "\n",
        "# text_file = open(sum_name+\".vhd\", \"w\")\n",
        "# text_file.write(sum_text)\n",
        "# text_file.close()\n",
        "\n",
        "if (download_vhd == 1):   #---------------- VHD ----------------# \n",
        "  # ReLU \n",
        "  with open(f\"{path_ReLU}/{sum_name}.vhd\", \"w\") as writer :\n",
        "    writer.write(TXT_MAC)\n",
        "\n",
        "  # Leaky ReLU \n",
        "  with open(f\"{path_LeakyReLU}/{sum_name}.vhd\", \"w\") as writer :\n",
        "    writer.write(TXT_MAC)\n",
        "    \n",
        "  # SOFTMAX\n",
        "  with open(f\"{path_soft}/{sum_name}.vhd\", \"w\") as writer :\n",
        "    writer.write(TXT_MAC)    \n",
        "  \n",
        "if (download_txt == 1): #---------------- TEXTO ----------------#\n",
        "  # ReLU \n",
        "  with open(f\"{path_ReLU}/{sum_name}.txt\", \"w\") as writer :\n",
        "    writer.write(TXT_MAC)\n",
        "\n",
        "  # Leaky ReLU \n",
        "  with open(f\"{path_LeakyReLU}/{sum_name}.txt\", \"w\") as writer :\n",
        "    writer.write(TXT_MAC)\n",
        "  \n",
        "  # SOFTMAX\n",
        "  with open(f\"{path_soft}/{sum_name}.txt\", \"w\") as writer :\n",
        "    writer.write(TXT_MAC)"
      ]
    },
    {
      "cell_type": "markdown",
      "metadata": {},
      "source": [
        "#### <font color=yellow> **Sum (MAC) > tree > Component** </font>"
      ]
    },
    {
      "cell_type": "code",
      "execution_count": null,
      "metadata": {},
      "outputs": [],
      "source": [
        "MAC_component = (f'''\n",
        "\tCOMPONENT {str(sum_name)} IS\n",
        "\tPORT (\n",
        "\t\tclk, rst : IN STD_LOGIC;\n",
        "\t\t{x}\n",
        " \t\t{w}\n",
        "\t\tbias: IN {IO_type}({str(bits -1)} DOWNTO 0) ; -- offset \n",
        "\t\t------------------------------------------ \n",
        "\t\t{output_sum}\n",
        "\t); -- clk, rst, inputs, weigths, bias, output\n",
        "\tEND COMPONENT;                            \n",
        "''')\n",
        "if (print_cells_result == 1):\n",
        "\tprint(MAC_component)"
      ]
    },
    {
      "cell_type": "markdown",
      "metadata": {},
      "source": [
        "#### <font color=yellow> **Sum (MAC) > PORT MAP** </font>"
      ]
    },
    {
      "cell_type": "code",
      "execution_count": null,
      "metadata": {},
      "outputs": [],
      "source": [
        "reg_x_sequence = []\n",
        "reg_w_sequence = []\n",
        "\n",
        "reg_x_sequence_string = []\n",
        "reg_w_sequence_string = []\n",
        "\n",
        "i= 0 \n",
        "\n",
        "while True:\n",
        "  if (i < num_inputs):   \n",
        "    #reg_xi e reg_wi\n",
        "    reg_x_sequence.append(\"reg_x\"+str(i+1))\n",
        "    reg_w_sequence.append(\"reg_w\"+str(i+1))  \n",
        "    print()\n",
        "    i= i+1\n",
        "    \n",
        "  else:\n",
        "    i= 0\n",
        "    break  \n",
        "  \n",
        "reg_x_sequence_string   = ', '.join(map(str, (reg_x_sequence))) \n",
        "reg_w_sequence_string   = ', '.join(map(str, (reg_w_sequence))) \n",
        "\n",
        "reg_x_sequence_string = reg_x_sequence_string + \",\"\n",
        "reg_w_sequence_string = reg_w_sequence_string + \",\"\n",
        "\n",
        "  \n",
        "#https://stackoverflow.com/questions/15478127/remove-final-character-from-string\n",
        "##reg_xi e reg_wi\n",
        "\n",
        "s_reg_x = \"SIGNAL \"+reg_x_sequence_string[:-1]+\": \"+IO_type+\"(\"+str(bits -1)+\" DOWNTO 0); \"\n",
        "\n",
        "s_reg_w = \"SIGNAL \"+reg_w_sequence_string[:-1]+\": \"+IO_type+\"(\"+str(bits -1)+\" DOWNTO 0); \"\n",
        "\n",
        "if (print_cells_result == 1):\n",
        "  print(reg_x_sequence_string)\n",
        "  print(reg_w_sequence_string)\n",
        "  print(s_reg_x)\n",
        "  print(s_reg_w)"
      ]
    },
    {
      "cell_type": "code",
      "execution_count": null,
      "metadata": {},
      "outputs": [],
      "source": [
        "PORT_MAP_MAC = ('''\n",
        "\t-- MAC ja registra a saida \\n'''\n",
        "\"\tU_MAC : \"+ str(sum_name) + \" PORT MAP(\" '''\n",
        "\t\tclk, rst, \\n'''\n",
        "'\t    \t' + reg_x_sequence_string + '\\n'\n",
        "' \t   \t' + reg_w_sequence_string + ' \\n'\n",
        "\"\t\treg_bias, \\n\"\n",
        "\"\t\tout_reg_MAC);\"\n",
        ")\n",
        "print(PORT_MAP_MAC)"
      ]
    },
    {
      "cell_type": "code",
      "execution_count": null,
      "metadata": {},
      "outputs": [],
      "source": []
    },
    {
      "cell_type": "markdown",
      "metadata": {
        "id": "9GM7yxN2Xxkz"
      },
      "source": [
        "### <font color=orange> **Sum (MAC)  > seq -> Sequencial (multiciclo)** </font>"
      ]
    },
    {
      "cell_type": "markdown",
      "metadata": {},
      "source": [
        "#### <font color=66FF00> **Basics** </font>"
      ]
    },
    {
      "cell_type": "markdown",
      "metadata": {},
      "source": [
        "##### <font color=1ECE03> **Adder** </font>"
      ]
    },
    {
      "cell_type": "code",
      "execution_count": null,
      "metadata": {},
      "outputs": [],
      "source": [
        "name_adder = \"adder_\" + str(bits) + \"bit_\" + str(num_inputs) +\"input\"\n",
        "name_adder"
      ]
    },
    {
      "cell_type": "code",
      "execution_count": null,
      "metadata": {},
      "outputs": [],
      "source": [
        "txt_adder = ('''\n",
        "LIBRARY ieee;\n",
        "USE ieee.std_logic_1164.ALL;\n",
        "USE ieee.std_logic_signed.ALL;\n",
        "USE ieee.numeric_std.ALL;\n",
        "USE ieee.math_real.ALL;\n",
        "'''\n",
        "\"ENTITY \"+ name_adder + \" is \" '''\n",
        "port(\n",
        "\t\t'''\"a,b: IN signed(\"+ str(2*bits) + \"-1 DOWNTO 0); --inputs\"'''\n",
        "\t\toutput: OUT signed('''+ str(2*bits) + '''-1 DOWNTO 0) --output result \n",
        ");\n",
        "END ENTITY;\n",
        "'''\n",
        "\"ARCHITECTURE behavior of \"+ name_adder + \" is \\n\"\n",
        "\"SIGNAL sa,sb: signed(\"+ str(2*bits) + \"-1 DOWNTO 0); \" '''\n",
        "\n",
        "begin \n",
        "\n",
        " sa<=(a);\n",
        " sb<=(b);\n",
        "\n",
        "end behavior; \n",
        "             ''')\n",
        "# print(txt_adder)"
      ]
    },
    {
      "cell_type": "code",
      "execution_count": null,
      "metadata": {},
      "outputs": [],
      "source": [
        "# print(txt_adder)"
      ]
    },
    {
      "cell_type": "markdown",
      "metadata": {},
      "source": [
        "##### <font color=1ECE03> **Mult** </font>"
      ]
    },
    {
      "cell_type": "code",
      "execution_count": null,
      "metadata": {},
      "outputs": [],
      "source": [
        "name_mult = \"mult_\" + str(bits) + \"bit_\" + str(num_inputs) +\"input\"\n",
        "name_mult"
      ]
    },
    {
      "cell_type": "code",
      "execution_count": null,
      "metadata": {},
      "outputs": [],
      "source": [
        "txt_mult = ('''\n",
        "LIBRARY ieee;\n",
        "USE ieee.numeric_std.ALL;\n",
        "USE IEEE.STD_LOGIC_UNSIGNED.ALL;\n",
        "USE ieee.std_logic_1164.ALL;\n",
        "USE work.STD_DT.ALL;\n",
        "\n",
        "ENTITY '''+ name_mult + ''' IS\n",
        "\tPORT (\n",
        "\t\tx, w : IN signed('''+ str(bits - 1) + ''' DOWNTO 0); --inputs\n",
        "\t\toutput : OUT signed('''+ str(2*bits - 1) + ''' DOWNTO 0) -- mult_out\n",
        "\t); --x,w,resultado\n",
        "END ENTITY;\n",
        "\n",
        "ARCHITECTURE behavior OF '''+ name_mult + ''' IS\n",
        "\tSIGNAL sx, sw : signed('''+ str(bits - 1) + ''' DOWNTO 0); --SIGNAL \n",
        "\n",
        "BEGIN\n",
        "\tsx <= (x);\n",
        "\tsw <= (w);\n",
        "\n",
        "\toutput <= ((signed(sx) * signed(sw)));\n",
        "\n",
        "END behavior;\n",
        "             ''')\n",
        "print(txt_mult)"
      ]
    },
    {
      "cell_type": "code",
      "execution_count": null,
      "metadata": {},
      "outputs": [],
      "source": [
        "# print(txt_mult)"
      ]
    },
    {
      "cell_type": "markdown",
      "metadata": {},
      "source": [
        "##### <font color=1ECE03> **Mux 2 -> 1** </font>"
      ]
    },
    {
      "cell_type": "code",
      "execution_count": null,
      "metadata": {},
      "outputs": [],
      "source": [
        "name_mux_2_1 = \"mux_\" + str(bits) + \"bit_\" + str(num_inputs) +\"input\"\n",
        "name_mux_2_1"
      ]
    },
    {
      "cell_type": "code",
      "execution_count": null,
      "metadata": {},
      "outputs": [],
      "source": [
        "txt_mux_2_1 = ('''\n",
        "LIBRARY ieee;\n",
        "USE ieee.numeric_std.ALL;\n",
        "USE IEEE.STD_LOGIC_UNSIGNED.ALL;\n",
        "USE ieee.std_logic_1164.ALL;\n",
        "USE work.STD_DT.ALL;\n",
        "\n",
        "ENTITY '''+ name_mux_2_1 + ''' IS\n",
        "     PORT (\n",
        "          a, b : IN signed('''+ str(bits -1) + ''' DOWNTO 0);\n",
        "          sel : IN STD_LOGIC;\n",
        "          y : OUT signed('''+ str(bits -1) + ''' DOWNTO 0)\n",
        "     );--a,b,sel,output\n",
        "END ENTITY;\n",
        "\n",
        "ARCHITECTURE behavior OF '''+ name_mux_2_1 + ''' IS\n",
        "BEGIN\n",
        "     WITH sel SELECT\n",
        "          y <= a WHEN '0',\n",
        "          b WHEN OTHERS;\n",
        "END behavior;               \n",
        "               ''')\n",
        "# print(txt_mux_2_1)"
      ]
    },
    {
      "cell_type": "code",
      "execution_count": null,
      "metadata": {},
      "outputs": [],
      "source": [
        "# print(txt_mux_2_1)"
      ]
    },
    {
      "cell_type": "markdown",
      "metadata": {},
      "source": [
        "##### <font color=1ECE03> **Mux 2 -> 1 x2** </font>"
      ]
    },
    {
      "cell_type": "code",
      "execution_count": null,
      "metadata": {},
      "outputs": [],
      "source": [
        "name_mux_2_1_2x = \"mux_2_1_\" + str(bits) + \"bit\" #+ str(num_inputs) +\"input\"\n",
        "name_mux_2_1_2x"
      ]
    },
    {
      "cell_type": "code",
      "execution_count": null,
      "metadata": {},
      "outputs": [],
      "source": [
        "txt_mux_2_1_2x = ('''\n",
        "LIBRARY ieee;\n",
        "USE ieee.numeric_std.ALL;\n",
        "USE IEEE.STD_LOGIC_UNSIGNED.ALL;\n",
        "USE ieee.std_logic_1164.ALL;\n",
        "USE work.STD_DT.ALL;\n",
        "\n",
        "ENTITY '''+ name_mux_2_1_2x+ ''' IS\n",
        "     PORT (\n",
        "          a, b : IN signed(('''+ str(2*bits -1) + ''') DOWNTO 0);\n",
        "          sel : IN STD_LOGIC;\n",
        "          y : OUT signed(('''+ str(2*bits -1) + ''') DOWNTO 0)\n",
        "     );--a,b,sel,output\n",
        "END ENTITY;\n",
        "\n",
        "ARCHITECTURE behavior OF '''+ name_mux_2_1_2x + ''' IS\n",
        "BEGIN\n",
        "     WITH sel SELECT\n",
        "          y <= a WHEN '0',\n",
        "          b WHEN OTHERS;\n",
        "END behavior;               \n",
        "               ''')\n",
        "# print(txt_mux_2_1_2x)"
      ]
    },
    {
      "cell_type": "code",
      "execution_count": null,
      "metadata": {},
      "outputs": [],
      "source": [
        "# print(txt_mux_2_1_2x)"
      ]
    },
    {
      "cell_type": "markdown",
      "metadata": {},
      "source": [
        "##### <font color=1ECE03> **Mux 4 -> 1** </font>"
      ]
    },
    {
      "cell_type": "code",
      "execution_count": null,
      "metadata": {},
      "outputs": [],
      "source": [
        "name_mux_4_1 = \"mux_\" + str(bits) + \"bit_\" + str(num_inputs) +\"input\"\n",
        "name_mux_4_1"
      ]
    },
    {
      "cell_type": "code",
      "execution_count": null,
      "metadata": {},
      "outputs": [],
      "source": [
        "states_mux = math.ceil(log(num_inputs,2))\n",
        "states_mux"
      ]
    },
    {
      "cell_type": "code",
      "execution_count": null,
      "metadata": {},
      "outputs": [],
      "source": []
    },
    {
      "cell_type": "code",
      "execution_count": null,
      "metadata": {},
      "outputs": [],
      "source": [
        "txt_mux_4_1 = ('''\n",
        "LIBRARY ieee;\n",
        "USE ieee.numeric_std.ALL;\n",
        "USE IEEE.STD_LOGIC_UNSIGNED.ALL;\n",
        "USE ieee.std_logic_1164.ALL;\n",
        "USE work.STD_DT.ALL;\n",
        "\n",
        "ENTITY '''+ name_mult + ''' IS\n",
        "\tPORT (\n",
        "\t\ta, b, c, d : IN signed('''+ str(bits -1) + ''' DOWNTO 0);\n",
        "\t\tsel : IN STD_LOGIC_VECTOR('''+ str(states_mux -1) + ''' DOWNTO 0);\n",
        "\t\ty : OUT signed('''+ str(bits -1) + ''' DOWNTO 0)); --a,b,c,d,sel,y\n",
        "END ENTITY;\n",
        "\n",
        "ARCHITECTURE comportamento OF '''+ name_mult + ''' IS\n",
        "\tSIGNAL reg_y : signed('''+ str(bits -1) + ''' DOWNTO 0);\n",
        "BEGIN\n",
        "\t--process(rst,clk,a,b,c,d,bias) \n",
        "\tPROCESS (sel, a, b, c, d)\n",
        "\tBEGIN\n",
        "\n",
        "\t\tCASE sel IS\n",
        "\t\t\tWHEN \"00\" => --estado de rst\n",
        "\t\t\t\treg_y <= a;\n",
        "\t\t\tWHEN \"01\" => --estado de rst\n",
        "\t\t\t\treg_y <= b;\n",
        "\t\t\tWHEN \"10\" => --estado de rst\n",
        "\t\t\t\treg_y <= c;\n",
        "\t\t\tWHEN \"11\" => --estado de rst\n",
        "\t\t\t\treg_y <= d;\n",
        "\n",
        "\t\t\tWHEN OTHERS => reg_y <= (OTHERS => '0');\n",
        "\n",
        "\t\tEND CASE;\n",
        "\tEND PROCESS;\n",
        "\n",
        "\ty <= reg_y;\n",
        "END comportamento;               \n",
        "               ''')\n",
        "# print(txt_mux_4_1)"
      ]
    },
    {
      "cell_type": "code",
      "execution_count": null,
      "metadata": {},
      "outputs": [],
      "source": [
        "# print(txt_mux_4_1)"
      ]
    },
    {
      "cell_type": "markdown",
      "metadata": {},
      "source": [
        "##### NAME"
      ]
    },
    {
      "cell_type": "code",
      "execution_count": null,
      "metadata": {},
      "outputs": [],
      "source": [
        "name_NAME = \"NAME_\" + str(bits) + \"bit_\" + str(num_inputs) +\"input\"\n",
        "name_NAME"
      ]
    },
    {
      "cell_type": "code",
      "execution_count": null,
      "metadata": {},
      "outputs": [],
      "source": [
        "txt_NAME = ('''\n",
        "               \n",
        "               ''')\n",
        "print(txt_NAME)"
      ]
    },
    {
      "cell_type": "markdown",
      "metadata": {},
      "source": [
        "##### NAME"
      ]
    },
    {
      "cell_type": "code",
      "execution_count": null,
      "metadata": {},
      "outputs": [],
      "source": [
        "name_NAME = \"NAME_\" + str(bits) + \"bit_\" + str(num_inputs) +\"input\"\n",
        "name_NAME"
      ]
    },
    {
      "cell_type": "code",
      "execution_count": null,
      "metadata": {},
      "outputs": [],
      "source": [
        "txt_NAME = ('''\n",
        "               \n",
        "               ''')\n",
        "print(txt_NAME)"
      ]
    },
    {
      "cell_type": "markdown",
      "metadata": {},
      "source": [
        "##### NAME"
      ]
    },
    {
      "cell_type": "code",
      "execution_count": null,
      "metadata": {},
      "outputs": [],
      "source": [
        "name_NAME = \"NAME_\" + str(bits) + \"bit_\" + str(num_inputs) +\"input\"\n",
        "name_NAME"
      ]
    },
    {
      "cell_type": "code",
      "execution_count": null,
      "metadata": {},
      "outputs": [],
      "source": [
        "txt_NAME = ('''\n",
        "               \n",
        "               ''')\n",
        "print(txt_NAME)"
      ]
    },
    {
      "cell_type": "markdown",
      "metadata": {},
      "source": [
        "#### <font color=66FF00> **Sum (MAC)  > seq > Sequencias** </font>"
      ]
    },
    {
      "cell_type": "code",
      "execution_count": null,
      "metadata": {},
      "outputs": [],
      "source": []
    },
    {
      "cell_type": "markdown",
      "metadata": {},
      "source": [
        "##### Sum (MAC)  > seq > Texto"
      ]
    },
    {
      "cell_type": "code",
      "execution_count": null,
      "metadata": {},
      "outputs": [],
      "source": [
        "# MAC_seq_text = ('''LIBRARY ieee;\n",
        "# USE ieee.std_logic_1164.ALL;\n",
        "# USE ieee.std_logic_unsigned.ALL;\n",
        "# USE ieee.numeric_std.ALL;\n",
        "# USE ieee.math_real.ALL;\n",
        "# --use work.STD_DT.ALL;\n",
        "# '''\n",
        "# \"ENTITY  \"+sum_name+\" IS \" '''\n",
        "# \t--generic (input_bit:integer:=8; output_bit:integer:=8;\t n_input:integer:=3); \n",
        "# \tPORT (\n",
        "# \tclk, rst  : IN STD_LOGIC;'''\n",
        "# '\t\\n'\n",
        "# '\t'+x+''\n",
        "# ' \t'+w+''\n",
        "# \"\tbias: IN \"+IO_type+\"(\" +str(bits -1)+ \" DOWNTO 0) ; -- offset \\n\"\n",
        "# \"\t------------------------------------------ \\n\"\n",
        "# '\t'+output_sum+''\n",
        "# \");\"\n",
        "# ''' \n",
        "# -- clk, rst, \n",
        "# -- inputs, \n",
        "# -- weigths, \n",
        "# -- bias, \n",
        "# -- output\n",
        "# end ENTITY; \n",
        "\n",
        "# '''\n",
        "# \"ARCHITECTURE behavior of \"+sum_name+\" is\\n\"\n",
        "# \"\tSIGNAL sbias : signed(8 - 1 DOWNTO 0); \"\n",
        "# '\t'+sx+''\n",
        "# ' \t'+sw+' '\n",
        "# ' '+s_sum+''\n",
        "# ' \t'+s_mult+''\n",
        "# '''\n",
        "# BEGIN \\n'''\n",
        "# \"\"+signal_receive_string+\"\"\n",
        "# \"\\n\tsbias <= bias; \\n\"\n",
        "# '''\n",
        "#  \t--sum_all <= ((signed(sx1)*signed(sw1))+ (signed(sx2)*signed(sw2)) + (signed(sx3)*signed(sw3))+ (signed(sx4)*signed(sw4)) + signed(bias));\n",
        "\n",
        "# \tPROCESS (rst, clk)\n",
        "# \tBEGIN\n",
        "# \t\tIF (rst = '1') THEN \\n'''\n",
        "\n",
        "# \"\"+rst_receive_string+\" \\n\"\n",
        "# '''\n",
        "#  \t\tELSE\n",
        "#  \t\t\tIF (clk'event AND clk = '1') THEN --se tem evento de clock \n",
        "# '''\n",
        "# \"\"+clk_receive_string+\"\"\n",
        "\n",
        "# \t\t\t# output <= (OTHERS => '0');\n",
        "\n",
        "# \t\t\t# mult_1 <= (OTHERS => '0');\n",
        "# \t\t\t# mult_2 <= (OTHERS => '0');\n",
        "# \t\t\t# mult_3 <= (OTHERS => '0');\n",
        "# \t\t\t# mult_4 <= (OTHERS => '0');\n",
        "\n",
        "# \t\t\t# soma_1 <= (OTHERS => '0');\n",
        "# \t\t\t# soma_2 <= (OTHERS => '0');\n",
        "# \t\t\t# sum_all <= (OTHERS => '0');\n",
        "\n",
        "# # \t\tELSE\n",
        "# # \t\t\tIF (clk'event AND clk = '1') THEN --se tem evento de clock \n",
        "# # \t\t\t\toutput <= sum_all((11) - 1 DOWNTO (3));\n",
        "\n",
        "# # \t\t\t\tmult_1 <= (signed(sx1) * signed(sw1));\n",
        "# # \t\t\t\tmult_2 <= (signed(sx2) * signed(sw2));\n",
        "# # \t\t\t\tmult_3 <= (signed(sx3) * signed(sw3));\n",
        "# # \t\t\t\tmult_4 <= (signed(sx4) * signed(sw4));\n",
        "\n",
        "# # \t\t\t\tsoma_1 <= mult_1 + mult_2;\n",
        "# # \t\t\t\tsoma_2 <= mult_3 + mult_4;\n",
        "# # \t\t\t\tsum_all <= soma_1 + soma_2;\n",
        "# '''\n",
        "# \t\t\tEND IF;\n",
        "# \t\tEND IF;\n",
        "# \tEND PROCESS;\n",
        "\n",
        "# END behavior;'''\n",
        "# )\n",
        "\n",
        "# init_text = 0\n",
        "# print(MAC_seq_text[init_text : (init_text+2000) ]) #Separa em linhas\n",
        "# # print(MAC_seq_text[init_text: ]) #Separa em linhas\n",
        "# # print(MAC_seq_text)"
      ]
    },
    {
      "cell_type": "markdown",
      "metadata": {},
      "source": [
        "##### Sum (MAC)  > seq > Imprimindo texto"
      ]
    },
    {
      "cell_type": "code",
      "execution_count": null,
      "metadata": {},
      "outputs": [],
      "source": []
    },
    {
      "cell_type": "markdown",
      "metadata": {},
      "source": [
        "##### Sum (MAC)  > seq > Component"
      ]
    },
    {
      "cell_type": "code",
      "execution_count": null,
      "metadata": {},
      "outputs": [],
      "source": []
    },
    {
      "cell_type": "markdown",
      "metadata": {},
      "source": [
        "##### Sum (MAC)  > seq > PORT MAP"
      ]
    },
    {
      "cell_type": "code",
      "execution_count": null,
      "metadata": {
        "id": "mGmYAto5X4mE"
      },
      "outputs": [],
      "source": []
    },
    {
      "cell_type": "markdown",
      "metadata": {
        "id": "xnUuDxFNYHnu"
      },
      "source": [
        "## <font color=red>**Top Neuronio**</font>"
      ]
    },
    {
      "cell_type": "code",
      "execution_count": null,
      "metadata": {},
      "outputs": [],
      "source": [
        "rst_space = \"      \"    #rst_receive (quando rst = '1')\n",
        "clk_space = \"        \"  #quando clk = '1'"
      ]
    },
    {
      "cell_type": "markdown",
      "metadata": {},
      "source": [
        "### <font color=orange> **Top Neuronio > tree** </font>"
      ]
    },
    {
      "cell_type": "markdown",
      "metadata": {},
      "source": [
        "#### <font color=yellow> **Top Neuronio > tree > Sequencias** </font>"
      ]
    },
    {
      "cell_type": "code",
      "execution_count": null,
      "metadata": {},
      "outputs": [],
      "source": [
        "num_inputs"
      ]
    },
    {
      "cell_type": "code",
      "execution_count": null,
      "metadata": {},
      "outputs": [],
      "source": [
        "# reg_x_sequence = []\n",
        "# reg_w_sequence = []\n",
        "\n",
        "# reg_x_sequence_string = []\n",
        "# reg_w_sequence_string = []\n",
        "\n",
        "# i= 0 \n",
        "\n",
        "# while True:\n",
        "#   if (i < num_inputs):   \n",
        "#     #reg_xi e reg_wi\n",
        "#     reg_x_sequence.append(\"reg_x\"+str(i+1))\n",
        "#     reg_w_sequence.append(\"reg_w\"+str(i+1))  \n",
        "#     print()\n",
        "#     i= i+1\n",
        "    \n",
        "#   else:\n",
        "#     i= 0\n",
        "#     break  \n",
        "  \n",
        "# reg_x_sequence_string   = ', '.join(map(str, (reg_x_sequence))) \n",
        "# reg_w_sequence_string   = ', '.join(map(str, (reg_w_sequence))) \n",
        "  \n",
        "# #https://stackoverflow.com/questions/15478127/remove-final-character-from-string\n",
        "# ##reg_xi e reg_wi\n",
        "\n",
        "# s_reg_x = \"SIGNAL \"+reg_x_sequence_string+\": \"+IO_type+\"(\"+str(bits -1)+\" DOWNTO 0); \"\n",
        "\n",
        "# s_reg_w = \"SIGNAL \"+reg_w_sequence_string+\": \"+IO_type+\"(\"+str(bits -1)+\" DOWNTO 0); \"\n",
        "\n",
        "# print(s_reg_x,s_reg_w)"
      ]
    },
    {
      "cell_type": "code",
      "execution_count": null,
      "metadata": {},
      "outputs": [],
      "source": [
        "rst_receive = []\n",
        "rst_receive.append(rst_space + \"reg_out_ROM_act <= (OTHERS => '0');\")\n",
        "rst_receive.append(\"\")\n",
        "\n",
        "for i in range(0,len(reg_x_sequence)):\n",
        "  rst_receive.append(rst_space + reg_x_sequence[i]+\" <= (OTHERS => '0');\")\n",
        "\n",
        "rst_receive.append(\"\")\n",
        "\n",
        "for i in  range(0,len(reg_w_sequence)):\n",
        "  rst_receive.append(rst_space + reg_w_sequence[i]+\" <= (OTHERS => '0');\")\n",
        "\n",
        "rst_receive_string = '\\n'.join(map(str, (rst_receive))) \n",
        "rst_receive_string =  (rst_receive_string + \"\\n\" + \n",
        "                         rst_space + \"reg_bias <= (OTHERS => '0');\")\n",
        "# print(rst_receive_string)"
      ]
    },
    {
      "cell_type": "code",
      "execution_count": null,
      "metadata": {},
      "outputs": [],
      "source": [
        "x"
      ]
    },
    {
      "cell_type": "code",
      "execution_count": null,
      "metadata": {},
      "outputs": [],
      "source": [
        "x_sequence = input_sequences('x' ,num_inputs,'list',0,0)\n",
        "x_sequence"
      ]
    },
    {
      "cell_type": "code",
      "execution_count": null,
      "metadata": {},
      "outputs": [],
      "source": [
        "clk_receive = []\n",
        "clk_receive.append( clk_space[:-2] + \"reg_out_ROM_act <=  signed(out_ROM_act); \")\n",
        "clk_receive.append( clk_space + \"IF update_weights = '0' THEN \")\n",
        "\n",
        "\n",
        "for i in range(0,len(reg_x_sequence)):\n",
        "  clk_receive.append(clk_space + \"  \" + reg_x_sequence[i]+\" <= \" +  x_sequence[i]  + \";\")\n",
        "\n",
        "clk_receive.append(\"\")\n",
        "clk_receive.append( clk_space + \"ELSE\")\n",
        "\n",
        "\n",
        "for i in  range(0,len(reg_w_sequence)):\n",
        "  clk_receive.append(clk_space + \"  \" + reg_w_sequence[i]+\" <= \" +  x_sequence[i]  + \";\")\n",
        "clk_receive.append(\"\")\n",
        "  \n",
        "clk_receive.append( clk_space + \"END IF;\")\n",
        "\n",
        "\n",
        "clk_receive_string = '\\n'.join(map(str, (clk_receive))) \n",
        "clk_receive_string =  (clk_receive_string + \"\\n\" + \n",
        "                         clk_space + \"reg_bias <= bias;\")\n",
        "\n",
        "print(clk_receive_string)"
      ]
    },
    {
      "cell_type": "code",
      "execution_count": null,
      "metadata": {},
      "outputs": [],
      "source": [
        "# print(rst_receive_string)"
      ]
    },
    {
      "cell_type": "markdown",
      "metadata": {},
      "source": [
        "#### <font color=yellow>**Top Neuronio > tree > NEURON_SOFT_INPUT_NET**</font>"
      ]
    },
    {
      "cell_type": "code",
      "execution_count": null,
      "metadata": {},
      "outputs": [],
      "source": [
        "NEURON_SOFT_INPUT_NET = ('''\n",
        "\tPROCESS (clk, rst, update_weights)\n",
        "\tBEGIN\n",
        "\t\tIF rst = '1' THEN \\n'''\n",
        "\n",
        "\"\"+rst_receive_string+\" \\n\"\n",
        "'''\n",
        "\t\tELSIF clk'event AND clk = '1' THEN\n",
        "'''\n",
        "\"\"+clk_receive_string+\"\"\n",
        "'''\n",
        "\n",
        "\t\tEND IF;\n",
        "\tEND PROCESS;\n",
        "''')\n",
        "if (print_cells_result == 1):\n",
        "\tprint(NEURON_SOFT_INPUT_NET)"
      ]
    },
    {
      "cell_type": "markdown",
      "metadata": {},
      "source": [
        "#### <font color=yellow>**Top Neuronio > tree > NEURON_ReLU_INPUT_NET**</font>"
      ]
    },
    {
      "cell_type": "code",
      "execution_count": null,
      "metadata": {},
      "outputs": [],
      "source": [
        "rst_receive_string_middle = '\\n'.join(rst_receive_string.splitlines()[2:])\n",
        "# rst_receive_string_middle = rst_space + \"y <= (OTHERS => '0'); \\n\" + rst_receive_string_middle\n",
        "\n",
        "# print(rst_receive_string_middle)"
      ]
    },
    {
      "cell_type": "code",
      "execution_count": null,
      "metadata": {},
      "outputs": [],
      "source": [
        "clk_receive_string_middle = '\\n'.join(clk_receive_string.splitlines()[1:])\n",
        "# clk_receive_string_middle = clk_space + mux_LeakyReLU + clk_receive_string_middle\n",
        "    \n",
        "print(clk_receive_string_middle)    "
      ]
    },
    {
      "cell_type": "code",
      "execution_count": null,
      "metadata": {},
      "outputs": [],
      "source": [
        "mux_ReLU = ('''\n",
        "\t\t\tIF out_reg_MAC > 0 THEN\n",
        "\t\t\t\ty <= out_reg_MAC;\n",
        "\t\t\tELSE\n",
        "\t\t\t\ty <= (OTHERS => '0');\n",
        "\t\t\tEND IF;\n",
        "''')\n",
        "# print(mux_LeakyReLU)"
      ]
    },
    {
      "cell_type": "code",
      "execution_count": null,
      "metadata": {},
      "outputs": [],
      "source": [
        "NEURON_ReLU_INPUT_NET = ('''\n",
        "\tPROCESS (clk, rst, update_weights)\n",
        "\tBEGIN\n",
        "\t\tIF rst = '1' THEN \\n'''\n",
        "\n",
        "\"\"+rst_receive_string_middle+\" \\n\"\n",
        "'''\n",
        "\t\tELSIF clk'event AND clk = '1' THEN\n",
        "'''+ mux_ReLU + \n",
        "\"\"+clk_receive_string_middle+\"\"\n",
        "'''\n",
        "\t\tEND IF;\n",
        "\tEND PROCESS;\n",
        "''')\n",
        "\n",
        "print(NEURON_ReLU_INPUT_NET)"
      ]
    },
    {
      "cell_type": "markdown",
      "metadata": {},
      "source": [
        "#### <font color=yellow>**Top Neuronio > tree > NEURON_LeakyReLU_INPUT_NET**</font>"
      ]
    },
    {
      "cell_type": "code",
      "execution_count": null,
      "metadata": {},
      "outputs": [],
      "source": [
        "ones_leaky = str(np.ones(leaky_attenuation))\n",
        "ones_leaky= ones_leaky.replace(\".\", \"\");\n",
        "ones_leaky= ones_leaky.replace(\"[\", \"\");\n",
        "ones_leaky= ones_leaky.replace(\"]\", \"\");\n",
        "ones_leaky= ones_leaky.replace(\" \", \"\");\n",
        "ones_leaky"
      ]
    },
    {
      "cell_type": "code",
      "execution_count": null,
      "metadata": {},
      "outputs": [],
      "source": [
        "mux_LeakyReLU = (f'''\n",
        "\t\t\tIF out_reg_MAC > 0 THEN\n",
        "\t\t\t\ty <= out_reg_MAC;\n",
        "\t\t\tELSE\n",
        "\t\t\t\ty <=  {ones_leaky} & out_reg_MAC(\n",
        "     {str(bits -1)}  DOWNTO {str(leaky_attenuation)});\n",
        "\t\t\tEND IF;\n",
        "''')\n",
        "# print(mux_LeakyReLU)"
      ]
    },
    {
      "cell_type": "code",
      "execution_count": null,
      "metadata": {},
      "outputs": [],
      "source": [
        "NEURON_LeakyReLU_INPUT_NET = (f'''\n",
        "\tPROCESS (clk, rst, update_weights)\n",
        "\tBEGIN\n",
        "\t\tIF rst = '1' THEN \\n\n",
        "\n",
        "{rst_receive_string_middle}\n",
        "\n",
        "\t\tELSIF clk'event AND clk = '1' THEN\n",
        " {mux_LeakyReLU} \n",
        "{clk_receive_string_middle}\n",
        "\n",
        "\t\tEND IF;\n",
        "\tEND PROCESS;\n",
        "''')\n",
        "\n",
        "print(NEURON_LeakyReLU_INPUT_NET)"
      ]
    },
    {
      "cell_type": "markdown",
      "metadata": {},
      "source": [
        "#### <font color=yellow> **Top Neuronio > tree > Função neuronio (não foi feita)** </font>"
      ]
    },
    {
      "cell_type": "code",
      "execution_count": null,
      "metadata": {},
      "outputs": [],
      "source": [
        "# rst_space = \"     \" #rst_receive (quando rst = '1')\n",
        "# clk_space = \"      \" #quando clk = '1'\n",
        "\n",
        "# def Funcao_Neuronio (num_inputs,) {\n",
        "  \n",
        "#   #------------------------------ reg_xi e reg_wi ---------------------#\n",
        "#   reg_x_sequence = []\n",
        "#   reg_w_sequence = []\n",
        "\n",
        "#   reg_x_sequence_string = []\n",
        "#   reg_w_sequence_string = []\n",
        "\n",
        "#   i= 0 \n",
        "\n",
        "#   while True:\n",
        "#     if (i < num_inputs):   \n",
        "#       #reg_xi e reg_wi\n",
        "#       reg_x_sequence.append(\"reg_x\"+str(i+1))\n",
        "#       reg_w_sequence.append(\"reg_w\"+str(i+1))  \n",
        "#       print()\n",
        "#       i= i+1\n",
        "      \n",
        "#     else:\n",
        "#       i= 0\n",
        "#       break  \n",
        "    \n",
        "#   reg_x_sequence_string   = ', '.join(map(str, (reg_x_sequence))) \n",
        "#   reg_w_sequence_string   = ', '.join(map(str, (reg_w_sequence))) \n",
        "    \n",
        "#   #https://stackoverflow.com/questions/15478127/remove-final-character-from-string\n",
        "#   ##reg_xi e reg_wi\n",
        "\n",
        "#   s_reg_x = \"SIGNAL \"+reg_x_sequence_string+\": \"+IO_type+\"(\"+str(bits -1)+\" DOWNTO 0); \"\n",
        "\n",
        "#   s_reg_w = \"SIGNAL \"+reg_w_sequence_string+\": \"+IO_type+\"(\"+str(bits -1)+\" DOWNTO 0); \"\n",
        "  \n",
        "#   #------------------------------ rst Xi Wi SEQUENCE ---------------------#\n",
        "#   rst_receive = []\n",
        "#   rst_receive.append(rst_space + \"reg_out_rom_act <= (OTHERS => '0');\")\n",
        "#   rst_receive.append(\"\")\n",
        "\n",
        "#   for i in range(0,len(reg_x_sequence)):\n",
        "#     rst_receive.append(rst_space + reg_x_sequence[i]+\" <= (OTHERS => '0');\")\n",
        "\n",
        "#   rst_receive.append(\"\")\n",
        "\n",
        "#   for i in  range(0,len(reg_w_sequence)):\n",
        "#     rst_receive.append(rst_space + reg_w_sequence[i]+\" <= (OTHERS => '0');\")\n",
        "\n",
        "#   rst_receive_string = '\\n'.join(map(str, (rst_receive))) \n",
        "#   rst_receive_string =  (rst_receive_string + \"\\n\" + \n",
        "#                           rst_space + \"reg_bias <= (OTHERS => '0');\")\n",
        "#   #------------------------------ CLK Xi Wi SEQUENCE ---------------------#\n",
        "  \n",
        "#   clk_receive = []\n",
        "#   clk_receive.append( clk_space + \"reg_out_rom_act <=  signed(out_rom_act); \")\n",
        "#   clk_receive.append(\"\")\n",
        "\n",
        "#   for i in range(0,len(reg_x_sequence)):\n",
        "#     clk_receive.append(clk_space + reg_x_sequence[i]+\" <= \" +  x_sequence[i]  + \";\")\n",
        "\n",
        "#   clk_receive.append(\"\")\n",
        "\n",
        "#   for i in  range(0,len(reg_w_sequence)):\n",
        "#     clk_receive.append(clk_space + reg_w_sequence[i]+\" <= \" +  x_sequence[i]  + \";\")\n",
        "\n",
        "#   clk_receive_string = '\\n'.join(map(str, (clk_receive))) \n",
        "#   clk_receive_string =  (clk_receive_string + \"\\n\" + \n",
        "#                           clk_space + \"reg_bias <= bias;\")\n",
        "\n",
        "  \n",
        "#   NEURON_SOFT_INPUT_NET = ('''\n",
        "#     PROCESS (clk, rst)\n",
        "#     BEGIN\n",
        "#       IF rst = '1' THEN \\n'''\n",
        "\n",
        "#   \"\"+rst_receive_string+\" \\n\"\n",
        "#   '''\n",
        "#       ELSIF clk'event AND clk = '1' THEN\n",
        "#   '''\n",
        "#   \"\"+clk_receive_string+\"\"\n",
        "#   '''\n",
        "\n",
        "#         END IF;\n",
        "#       END PROCESS;\n",
        "#   ''')\n",
        "\n",
        "  \n",
        "#   return (NEURON_SOFT_INPUT_NET)\n",
        "# }"
      ]
    },
    {
      "cell_type": "markdown",
      "metadata": {},
      "source": [
        "#### <font color=yellow> **Top Neuronio > tree > Texto** </font>"
      ]
    },
    {
      "cell_type": "markdown",
      "metadata": {},
      "source": [
        "##### <font color=lime> **Top Neuronio > tree > Texto > Softmax** </font>"
      ]
    },
    {
      "cell_type": "code",
      "execution_count": null,
      "metadata": {},
      "outputs": [],
      "source": [
        "Neuron_IO_dict = {\n",
        "  'IN': { # ENTRADAS\n",
        "    'STD_LOGIC': ['clk', 'rst'],\n",
        "    'STD_LOGIC_VECTOR': None,\n",
        "    'STD_LOGIC_num_inputs': None,\n",
        "    'STD_LOGIC_VECTOR_num_inputs': None,\n",
        "    'SIGNED': ['bias'],\n",
        "    'SIGNED_num_inputs': ['x']\n",
        "    },\n",
        " 'OUT': { #SAÍDAS\n",
        "   'STD_LOGIC': None,\n",
        "    'STD_LOGIC_VECTOR': None,\n",
        "    'STD_LOGIC_num_inputs': None,\n",
        "    'STD_LOGIC_VECTOR_num_inputs': None,\n",
        "    'SIGNED': ['y'],\n",
        "    'SIGNED_num_inputs': None\n",
        "    }\n",
        " }\n",
        "Neuron_IO_dict"
      ]
    },
    {
      "cell_type": "code",
      "execution_count": null,
      "metadata": {},
      "outputs": [],
      "source": [
        "print(entity(neuron_Sigmoid_name, bits, num_inputs,[Neuron_IO_dict]))"
      ]
    },
    {
      "cell_type": "code",
      "execution_count": null,
      "metadata": {},
      "outputs": [],
      "source": [
        "print(entity(name = layer_dict['Neuron_arch']['neuron_name'], \n",
        "             bits = 8, \n",
        "             num_inputs = 3,\n",
        "             IO_dict_list = [layer_dict['Neuron_arch']['shared_IO']['IO'], layer_dict['Neuron_arch']['unique_IO']['IO']]\n",
        "             ))\n"
      ]
    },
    {
      "cell_type": "code",
      "execution_count": null,
      "metadata": {},
      "outputs": [],
      "source": [
        "top_neuron_soft_txt = (f'''LIBRARY ieee;\n",
        "USE ieee.std_logic_1164.ALL;\n",
        "USE ieee.std_logic_unsigned.ALL;\n",
        "USE ieee.numeric_std.ALL;\n",
        "USE ieee.math_real.ALL;\n",
        "\n",
        "{entity(neuron_Sigmoid_name, bits, num_inputs,[Neuron_IO_dict])}\n",
        "\n",
        "\n",
        "ARCHITECTURE behavior of {neuron_Sigmoid_name} is\n",
        "{MAC_component}\n",
        "{ROM_component}\n",
        "\n",
        "\tSIGNAL out_reg_MAC : {IO_type} (( {str(bits - 1)} ) DOWNTO 0);\t--reg da saida do MAC'''+\n",
        "# \"\tSIGNAL out_reg_MAC : STD_LOGIC_VECTOR((\"+ str(bits - 1) + \") DOWNTO 0);\t--reg da saida do MAC\t\\n\"\n",
        "f'''\n",
        "\tSIGNAL out_ROM_act : STD_LOGIC_VECTOR( {str(bits - 1)} DOWNTO 0); --saida da ROM\n",
        "\tSIGNAL reg_out_ROM_act : {IO_type} ( {str(bits - 1)} DOWNTO 0); --reg saida da ROM\n",
        "\n",
        "\t{s_reg_x}\n",
        " \t{s_reg_w}\n",
        "\tSIGNAL reg_bias : {IO_type} ( {str(bits - 1)} DOWNTO 0);\n",
        "\n",
        "\n",
        " BEGIN\n",
        "\t{PORT_MAP_MAC}\n",
        "\t{PORT_MAP_ROM}\n",
        "\t {NEURON_SOFT_INPUT_NET}\n",
        "  \n",
        " \ty <= {IO_type} (reg_out_ROM_act);\n",
        "\n",
        "END behavior;'''\n",
        ")\n",
        "\n",
        "# init_text = 1450\n",
        "# print(top_neuron_soft_txt[init_text : (init_text+2000) ]) #Separa em linhas\n",
        "# print(top_neuron_soft_txt[init_text: ]) #Separa em linhas\n",
        "print(top_neuron_soft_txt)"
      ]
    },
    {
      "cell_type": "markdown",
      "metadata": {},
      "source": [
        "##### <font color=lime> **Top Neuronio > tree > Texto > Middle NN** </font>"
      ]
    },
    {
      "cell_type": "markdown",
      "metadata": {},
      "source": [
        "###### <font color=00FFE6> **Top Neuronio > tree > Texto > Middle NN > ReLU** </font>"
      ]
    },
    {
      "cell_type": "code",
      "execution_count": null,
      "metadata": {},
      "outputs": [],
      "source": [
        "top_neuron_ReLU_txt = (f'''LIBRARY ieee;\n",
        "USE ieee.std_logic_1164.ALL;\n",
        "USE ieee.std_logic_unsigned.ALL;\n",
        "USE ieee.numeric_std.ALL;\n",
        "USE ieee.math_real.ALL;\n",
        "\n",
        "ENTITY  {neuron_ReLU_name} IS\n",
        "\t-- GENERIC (\n",
        " -- \tinput_bit:integer:= {str(bits)}; output_bit:integer:= {str(bits)} ;\t n_input:integer:= {str(num_inputs)}\n",
        "\t-- );\n",
        "\tPORT (\n",
        "\tclk, rst, update_weights : IN STD_LOGIC;\n",
        "\t{x}\n",
        "-- \t{w}\n",
        "\tbias: IN {IO_type}({str(bits -1)} DOWNTO 0) ; -- offset\n",
        "\t------------------------------------------\n",
        " \ty: OUT {IO_type} ({str(bits - 1)} DOWNTO 0) --output  result\n",
        ");\n",
        "-- clk, rst, \n",
        "-- inputs, \n",
        "-- weigths, \n",
        "-- bias, \n",
        "-- output\n",
        "end ENTITY; \n",
        "\n",
        "ARCHITECTURE behavior of {neuron_ReLU_name} is\n",
        "{MAC_component}''' +\n",
        "# '' + ROM_component + ''\n",
        "f'''\n",
        "\tSIGNAL out_reg_MAC : {IO_type} (({str(bits - 1)}) DOWNTO 0);\t--reg da saida do MAC\n",
        "'''+\n",
        "# \"\tSIGNAL out_reg_MAC : STD_LOGIC_VECTOR((\"+ str(bits - 1) + \") DOWNTO 0);\t--reg da saida do MAC\t\\n\"\n",
        "f'''\n",
        "\t{s_reg_x}\n",
        " \t{s_reg_w}\n",
        "\tSIGNAL reg_bias : {IO_type} ({str(bits - 1)} DOWNTO 0);\n",
        "\n",
        " BEGIN\n",
        "\t{PORT_MAP_MAC}\n",
        "\t{NEURON_ReLU_INPUT_NET} \n",
        "END behavior;'''\n",
        ")\n",
        "\n",
        "# init_text = 1450\n",
        "# print(top_neuron_ReLU_txt[init_text : (init_text+2000) ]) #Separa em linhas\n",
        "# print(top_neuron_ReLU_txt[init_text: ]) #Separa em linhas\n",
        "print(top_neuron_ReLU_txt)"
      ]
    },
    {
      "cell_type": "markdown",
      "metadata": {},
      "source": [
        "###### <font color=00FFE6> **Top Neuronio > tree > Texto > Middle NN > Leaky ReLU** </font>"
      ]
    },
    {
      "cell_type": "code",
      "execution_count": null,
      "metadata": {},
      "outputs": [],
      "source": [
        "# leaky_shift_text = ('')\n",
        "# for i in range(0,leaky_attenuation):\n",
        "#   leaky_shift_text = leaky_shift_text + \"sum_result(bits-1) & \"\n",
        "# leaky_shift_text"
      ]
    },
    {
      "cell_type": "code",
      "execution_count": null,
      "metadata": {},
      "outputs": [],
      "source": [
        "top_neuron_Leaky_txt = ('''LIBRARY ieee;\n",
        "USE ieee.std_logic_1164.ALL;\n",
        "USE ieee.std_logic_unsigned.ALL;\n",
        "USE ieee.numeric_std.ALL;\n",
        "USE ieee.math_real.ALL;\n",
        "\n",
        "'''\n",
        "\"ENTITY  \"+ neuron_Leaky_name +\" IS \\n\" \n",
        "\"\t-- GENERIC ( \\n\"\n",
        "\" -- \tinput_bit:integer:=\"+ str(bits) + \"; output_bit:integer:=\"+ str(bits) + \";\t n_input:integer:=\"+ str(num_inputs) + \"\\n\"\n",
        "\"\t-- );\"'''\n",
        "\tPORT (\n",
        "\tclk, rst, update_weights : IN STD_LOGIC;'''\n",
        "'\t\\n'\n",
        "'\t'+x+'\\n'\n",
        "'-- \t'+w+'\\n'\n",
        "\"\tbias: IN \"+IO_type+\"(\" +str(bits -1)+ \" DOWNTO 0) ; -- offset \\n\"\n",
        "\"\t------------------------------------------ \\n\"\n",
        "\" \ty: OUT \" + IO_type + \"(\"+ str(bits - 1) + \" DOWNTO 0) --output  result\" '''\n",
        ");\n",
        "-- clk, rst, \n",
        "-- inputs, \n",
        "-- weigths, \n",
        "-- bias, \n",
        "-- output\n",
        "end ENTITY; \n",
        "\n",
        "'''\n",
        "\"ARCHITECTURE behavior of \"+neuron_Leaky_name+\" is\t\t\\n\"\n",
        "'' + MAC_component + ''\n",
        "# '' + ROM_component + ''\n",
        "\"\\n\"\n",
        "\"\tSIGNAL out_reg_MAC : \" + IO_type + \"((\"+ str(bits - 1) + \") DOWNTO 0);\t--reg da saida do MAC\t\\n\"\n",
        "# \"\tSIGNAL out_reg_MAC : STD_LOGIC_VECTOR((\"+ str(bits - 1) + \") DOWNTO 0);\t--reg da saida do MAC\t\\n\"\n",
        "\n",
        "'\t' + s_reg_x + ''\n",
        "' \t' + s_reg_w + ' '\n",
        "\"\tSIGNAL reg_bias : \" + IO_type + \"(\"+ str(bits - 1) + \" DOWNTO 0); \"\n",
        "'''\n",
        "\n",
        " BEGIN \\n'''\n",
        "'\t' + PORT_MAP_MAC + '\\n' \n",
        "# '\t' + PORT_MAP_ROM + '\\n' \n",
        "'\t' + NEURON_LeakyReLU_INPUT_NET + '\\n' \n",
        "'''\n",
        "END behavior;'''\n",
        ")\n",
        "\n",
        "# init_text = 1450\n",
        "# print(top_neuron_Leaky_txt[init_text : (init_text+2000) ]) #Separa em linhas\n",
        "# print(top_neuron_Leaky_txt[init_text: ]) #Separa em linhas\n",
        "print(top_neuron_Leaky_txt)"
      ]
    },
    {
      "cell_type": "markdown",
      "metadata": {},
      "source": [
        "#### <font color=yellow> **Top Neuronio > tree > Imprimindo texto** </font>"
      ]
    },
    {
      "cell_type": "code",
      "execution_count": null,
      "metadata": {
        "id": "0ieNnUTuYGYv"
      },
      "outputs": [],
      "source": [
        "# init_text = 1450\n",
        "# print(top_neuron_soft_txt[init_text : (init_text+2000) ]) #Separa em linhas\n",
        "# print(top_neuron_soft_txt)"
      ]
    },
    {
      "cell_type": "code",
      "execution_count": null,
      "metadata": {},
      "outputs": [],
      "source": [
        "#---------------- VHD ----------------#  \n",
        "if (download_vhd == 1): \n",
        "  # ReLU\n",
        "  with open(f\"{path_ReLU}/{neuron_ReLU_name}.vhd\", \"w\") as writer :\n",
        "    writer.write(top_neuron_ReLU_txt)\n",
        "    \n",
        "  # Leaky ReLU\n",
        "  with open(f\"{path_LeakyReLU}/{neuron_Leaky_name}.vhd\", \"w\") as writer :\n",
        "    writer.write(top_neuron_Leaky_txt)  \n",
        "    \n",
        "  # SOFTMAX    \n",
        "  with open(f\"{path_soft}/{neuron_Sigmoid_name}.vhd\", \"w\") as writer :\n",
        "    writer.write(top_neuron_soft_txt)\n",
        "    \n",
        "#---------------- TEXTO ----------------#    \n",
        "if (download_txt == 1): \n",
        "  # ReLU\n",
        "  with open( f\"{path_ReLU}/{neuron_ReLU_name}.txt\", \"w\") as writer :\n",
        "    writer.write(top_neuron_ReLU_txt)\n",
        "\n",
        "  # Leaky ReLU\n",
        "  with open( f\"{path_LeakyReLU}/{neuron_Leaky_name}.txt\", \"w\") as writer :\n",
        "    writer.write(top_neuron_Leaky_txt)\n",
        "  \n",
        "  # SOFTMAX    \n",
        "  with open(f\"{path_soft}/{neuron_Sigmoid_name}.txt\", \"w\") as writer :\n",
        "    writer.write(top_neuron_soft_txt)"
      ]
    },
    {
      "cell_type": "markdown",
      "metadata": {},
      "source": [
        "### <font color=orange> **Top Neuronio > seq -> Sequencial (multiciclo)** </font>"
      ]
    },
    {
      "cell_type": "markdown",
      "metadata": {
        "id": "nGssv68egsFW"
      },
      "source": [
        "## <font color=red>**Testbench neuronio**</font>"
      ]
    },
    {
      "cell_type": "markdown",
      "metadata": {
        "id": "y5-dESzvaECu"
      },
      "source": [
        "# <font color=white>Geração de camadas</font>"
      ]
    },
    {
      "cell_type": "markdown",
      "metadata": {},
      "source": [
        "## <font color=green>**Parâmetros**</font>"
      ]
    },
    {
      "cell_type": "code",
      "execution_count": null,
      "metadata": {},
      "outputs": [],
      "source": [
        "layer_num = 2                             # Número da camada\n",
        "neuron_num = layer_dict['Neurons_number'] # Quantidade de neurônios\n",
        "bits = layer_dict['bits']                 # Quantidade de bits para representação\n",
        "num_inputs =  layer_dict['Inputs_number'] # Quantidade de entradas\n",
        "IO_type = layer_dict['IO_type']           # 1= signed || 0= unsigned\n",
        "\n",
        "# ----- MAC -----\n",
        "Barriers = layer_dict['Neuron_arch']['Barriers']  #0 = no Barriers | 1 = with register Barriers (pipeline)\n",
        "MAC_type = layer_dict['Neuron_arch']['MAC_type']            #0 = combinational(tree:árvore) | 1 = Sequential\n",
        "Include_MAC_type =  layer_dict['Neuron_arch']['Include_MAC_type']    #0 = don't inluce | 1 = include 'seq' or 'tree' on vhd_names\n",
        "\n",
        "\n",
        "\n",
        "print_cells_result = 1              # 1 = mostra outputs no jupyter| 0 = não mostra  \n",
        "write_vhd_file = 1                  # =1: cria arquivo .vhd, =0: não cria "
      ]
    },
    {
      "cell_type": "code",
      "execution_count": null,
      "metadata": {},
      "outputs": [],
      "source": [
        "num_inputs"
      ]
    },
    {
      "cell_type": "markdown",
      "metadata": {},
      "source": [
        "## <font color=green>**Lógicas**</font>"
      ]
    },
    {
      "cell_type": "markdown",
      "metadata": {},
      "source": [
        "### <font color=orange>Nomes</font>"
      ]
    },
    {
      "cell_type": "markdown",
      "metadata": {},
      "source": [
        "#### <font color=grey>Camada</font>"
      ]
    },
    {
      "cell_type": "code",
      "execution_count": null,
      "metadata": {},
      "outputs": [],
      "source": [
        "#### Nome do arquivo .vhd ####\n",
        "file_name = \"camada_\" + str(layer_num) + \"_\" + str(neuron_num) + \"neuron_\" + str(bits) + \"bits_\" + str(num_inputs) + \"n_signed\" \n",
        "\n",
        "if (print_cells_result == 1):\n",
        "  print(file_name)"
      ]
    },
    {
      "cell_type": "code",
      "execution_count": null,
      "metadata": {},
      "outputs": [],
      "source": [
        "file_name  = layer_name(layer_num =1,\n",
        "               neuron_num = layer_dict['Neurons_number'],\n",
        "               bits = layer_dict['bits'],\n",
        "               num_inputs = layer_dict['Inputs_number'],\n",
        "               IO_type = layer_dict['IO_type'])\n",
        "if (print_cells_result == 1):\n",
        "  print(file_name)"
      ]
    },
    {
      "cell_type": "markdown",
      "metadata": {},
      "source": [
        "#### <font color=grey>Neurônio</font>"
      ]
    },
    {
      "cell_type": "code",
      "execution_count": null,
      "metadata": {},
      "outputs": [],
      "source": [
        "print(neuron_ReLU_name)\n",
        "print(neuron_Leaky_name) \n",
        "print(neuron_ReLU_name)"
      ]
    },
    {
      "cell_type": "code",
      "execution_count": null,
      "metadata": {},
      "outputs": [],
      "source": [
        "# top_neuron_name   = \"top_neuron_tree_\" + str(bits) + \"bits_n\" + str(neuron_num) + \"_signed\"\n",
        "# top_neuron_name = neuron_ReLU_name\n",
        "top_neuron_name = layer_dict['Neuron_arch']['neuron_name']\n",
        "if (print_cells_result == 1):\n",
        "  print(top_neuron_name)"
      ]
    },
    {
      "cell_type": "markdown",
      "metadata": {},
      "source": [
        "### <font color=orange>Variáveis</font>"
      ]
    },
    {
      "cell_type": "code",
      "execution_count": null,
      "metadata": {},
      "outputs": [],
      "source": [
        "#### Gerando quantidade de entradas ####\n",
        "x_ = []     \n",
        "\n",
        "for i in range(1,num_inputs+1):\n",
        "\tx_.append(\"x\"+str(i))\n",
        "\n",
        "x_all = ', '.join(map(str, (x_)))\n",
        "x = f\"{x_all}: IN signed({str(bits - 1)} DOWNTO 0);\"\n",
        "\n",
        "if (print_cells_result == 1):\n",
        "\tprint(x)"
      ]
    },
    {
      "cell_type": "code",
      "execution_count": null,
      "metadata": {},
      "outputs": [],
      "source": [
        "IO_type"
      ]
    },
    {
      "cell_type": "code",
      "execution_count": null,
      "metadata": {},
      "outputs": [],
      "source": [
        "print(entity(name = layer_dict['Neuron_arch']['neuron_name'], \n",
        "             bits = 8, \n",
        "             num_inputs = 3,\n",
        "             IO_dict_list = [layer_dict['Neuron_arch']['shared_IO']['IO'], layer_dict['Neuron_arch']['unique_IO']['IO']]\n",
        "             ))"
      ]
    },
    {
      "cell_type": "code",
      "execution_count": null,
      "metadata": {},
      "outputs": [],
      "source": [
        "x,w,sx,sw,sx_tb,sw_tb,val_x,val_w,val_x_tb,val_w_tb = all_inputs_signals(\n",
        "  inputs_list = ['x','w'],\n",
        "  num_inputs = num_inputs,\n",
        "  bits = bits, \n",
        "  IO_type ='signed',\n",
        "  is_list = False)\n",
        "print(x)\n",
        "print(w)\n",
        "print(sx)\n",
        "print(sw)\n",
        "print(sx_tb)\n",
        "print(sw_tb)\n",
        "print(val_x)\n",
        "print(val_w)\n",
        "print(val_x_tb)\n",
        "print(val_w_tb)"
      ]
    },
    {
      "cell_type": "code",
      "execution_count": null,
      "metadata": {},
      "outputs": [],
      "source": [
        "#### Gerando entradas dos neurônios ####\n",
        "b_ = []\t\t# Bias\n",
        "w_ = []\t\t# Pesos\n",
        "\n",
        "for i in range(1,neuron_num+1):\n",
        "\tb_.append(\"c\"+str(layer_num)+\"_n\"+str(i)+\"_bias\")\n",
        "\n",
        "\tfor j in range(1,num_inputs+1):\n",
        "\t\tw_.append(\"c\"+str(layer_num)+\"_n\"+str(i)+\"_w\"+str(j))\n",
        "\n",
        "b_all = ', '.join(map(str, (b_)))\n",
        "w_all = ', '.join(map(str, (w_)))\n",
        "\n",
        "b = b_all + \": IN signed(\" + str(bits - 1) + \" DOWNTO 0);\"\n",
        "w = w_all + \": IN signed(\" + str(bits - 1) + \" DOWNTO 0);\"\n",
        "\n",
        "if (print_cells_result == 1):\n",
        "\tprint(b)\n",
        "\tprint(w)\t"
      ]
    },
    {
      "cell_type": "code",
      "execution_count": null,
      "metadata": {},
      "outputs": [],
      "source": [
        "#### Gerando as saídas da camada ####\n",
        "o_ = []     # Outputs\n",
        "\n",
        "for i in range(1,neuron_num+1):\n",
        "    o_.append(\"out\"+str(i))\n",
        "\n",
        "o_all = ', '.join(map(str, o_))\n",
        "o = o_all + \": OUT signed(\" + str(bits-1) + \" DOWNTO 0)\"\n",
        "\n",
        "if (print_cells_result == 1):\n",
        "    print(o)"
      ]
    },
    {
      "cell_type": "markdown",
      "metadata": {},
      "source": [
        "### <font color=orange>Neurônios</font>"
      ]
    },
    {
      "cell_type": "markdown",
      "metadata": {},
      "source": [
        "#### <font color=grey>*Mapeamento: ENTRADAS de cada neurônio*</font>"
      ]
    },
    {
      "cell_type": "code",
      "execution_count": null,
      "metadata": {},
      "outputs": [],
      "source": [
        "neuron_x = []\n",
        "\n",
        "for i in x_:\n",
        "    neuron_x.append(\"            \" + i + \" => \" + i + \",\")\n",
        "\n",
        "neuron_x_all = \"\\n\".join(map(str, neuron_x))\n",
        "\n",
        "if (print_cells_result == 1):\n",
        "    print(neuron_x_all)"
      ]
    },
    {
      "cell_type": "markdown",
      "metadata": {},
      "source": [
        "#### <font color=grey>*Mapeamento: PESOS de cada neurônio*</font>"
      ]
    },
    {
      "cell_type": "code",
      "execution_count": null,
      "metadata": {},
      "outputs": [],
      "source": [
        "ws = []\n",
        "neuron_w = []\n",
        "\n",
        "for i in range(1,num_inputs+1):\n",
        "    ws.append(\"w\" + str(i))\n",
        "\n",
        "k = 0\n",
        "for j in range(neuron_num):\n",
        "    i = 0\n",
        "    for i in range(num_inputs):\n",
        "        neuron_w.append(\"            \" + str(ws[i]) + \" => \" + str(w_[k]) + \",\")\n",
        "        k = k + 1\n",
        "\n",
        "neuron_w_all = '\\n'.join(map(str, neuron_w))\n",
        "\n",
        "if (print_cells_result == 1):\n",
        "    print(neuron_w_all)"
      ]
    },
    {
      "cell_type": "markdown",
      "metadata": {},
      "source": [
        "#### <font color=grey>*Declarando os neurônios*</font>"
      ]
    },
    {
      "cell_type": "code",
      "execution_count": null,
      "metadata": {},
      "outputs": [],
      "source": [
        "i = 1\n",
        "# print('\\n'.join(map(str, neuron_w[i*num_inputs:i*num_inputs+10])))\n",
        "neuron_w[i*num_inputs:i*num_inputs+num_inputs]"
      ]
    },
    {
      "cell_type": "code",
      "execution_count": null,
      "metadata": {},
      "outputs": [],
      "source": [
        "Neuron_IO_dict"
      ]
    },
    {
      "cell_type": "code",
      "execution_count": null,
      "metadata": {},
      "outputs": [],
      "source": [
        "a,b = IO_manager([Neuron_IO_dict],bits,num_inputs,onerow = False,tab_space = 2)\n",
        "print(a)"
      ]
    },
    {
      "cell_type": "code",
      "execution_count": null,
      "metadata": {},
      "outputs": [],
      "source": [
        "layer_dict['Neuron_arch']['IO']['unique_IO']['IN']['SIGNED_num_inputs']"
      ]
    },
    {
      "cell_type": "code",
      "execution_count": null,
      "metadata": {},
      "outputs": [],
      "source": [
        "input_sequences_number_choice(\n",
        "            layer_dict['Neuron_arch']['IO']['unique_IO']['IN']['SIGNED_num_inputs'], layer_dict['Neuron_arch']['IO']['unique_IO']['IN']['SIGNED_num_inputs'], False, 1, 'list', 1, 1, False)"
      ]
    },
    {
      "cell_type": "code",
      "execution_count": null,
      "metadata": {},
      "outputs": [],
      "source": [
        "Neuron_IN_port_map, Neuron_OUT_port_map, camada_inputs, camada_outputs = Neuron_port_map_IO(neuron_dict_list= [dict_test], i = 2, num_inputs = 3, ID_camada = 'c1')\n",
        "# print(Neuron_IN_port_map)"
      ]
    },
    {
      "cell_type": "code",
      "execution_count": null,
      "metadata": {},
      "outputs": [],
      "source": [
        "Neuron_IN_port_map, Neuron_OUT_port_map, _, __ = Neuron_port_map_IO(neuron_dict_list= [layer_dict['Neuron_arch']['IO']['shared_IO']], i = 2, num_inputs = 3, ID_camada = 'c1')\n",
        "# print(Neuron_IN_port_map)"
      ]
    },
    {
      "cell_type": "code",
      "execution_count": null,
      "metadata": {},
      "outputs": [],
      "source": [
        "Neuron_IN_port_map, Neuron_OUT_port_map, _ , __ = Neuron_port_map_IO(neuron_dict_list= [layer_dict['Neuron_arch']['IO']['shared_IO'],layer_dict['Neuron_arch']['IO']['unique_IO']], i = 2, num_inputs = 3, ID_camada = 'c1')\n",
        "# print(Neuron_IN_port_map)"
      ]
    },
    {
      "cell_type": "code",
      "execution_count": null,
      "metadata": {},
      "outputs": [],
      "source": [
        "# name = 'neuron_comb_ReLU_3n_8bit_signed_mul1a_v0_add0_v0_0'\n",
        "# f\"{name.split('_')[0]}_inst_{0}\""
      ]
    },
    {
      "cell_type": "code",
      "execution_count": null,
      "metadata": {},
      "outputs": [],
      "source": [
        "port_map_txt, camada_inputs, camada_outputs = layer_neurons_port_map_ALL(neuron_dict_list = [layer_dict['Neuron_arch']['IO']['shared_IO'],layer_dict['Neuron_arch']['IO']['unique_IO']],\n",
        "                               ID_camada = 'c1',\n",
        "                               number_of_neurons= layer_dict['Neurons_number'],\n",
        "                               num_inputs = layer_dict['Inputs_number'],\n",
        "                               vhd_name = layer_dict['Neuron_arch']['neuron_name'])\n",
        "print(port_map_txt)"
      ]
    },
    {
      "cell_type": "code",
      "execution_count": null,
      "metadata": {},
      "outputs": [],
      "source": [
        "print(camada_inputs)"
      ]
    },
    {
      "cell_type": "code",
      "execution_count": null,
      "metadata": {},
      "outputs": [],
      "source": [
        "print(camada_outputs)"
      ]
    },
    {
      "cell_type": "code",
      "execution_count": null,
      "metadata": {},
      "outputs": [],
      "source": [
        "for item in Neuron_IO_dict['IN'].items():\n",
        "  # print(item[1])\n",
        "  if (item[1] != None):\n",
        "    print(item)"
      ]
    },
    {
      "cell_type": "code",
      "execution_count": null,
      "metadata": {},
      "outputs": [],
      "source": [
        "for item in Neuron_IO_dict['OUT'].items():\n",
        "  # print(item[1])\n",
        "  if (item[1] != None):\n",
        "    print(item)"
      ]
    },
    {
      "cell_type": "code",
      "execution_count": null,
      "metadata": {},
      "outputs": [],
      "source": [
        "# def entity_work_neurons(top_neuron_name,neuron_num,num_inputs,neuron_x_all,neuron_w):\n",
        "neuron_text = []\n",
        "\n",
        "for i in range(neuron_num):    #gera mapeamento para cada um dos neuronios\n",
        "    n_text = (\n",
        "    \"neuron_\" + str(i+1) + \": ENTITY work.\" + top_neuron_name + '\\n'\n",
        "    '''   PORT MAP (\n",
        "            -- Entradas --\n",
        "            clk => clk,\n",
        "            rst => rst, \\n'''\n",
        "    + neuron_x_all + '\\n'\n",
        "    + '\\n'.join(map(str, neuron_w[i*num_inputs:i*num_inputs+num_inputs])) + '\\n'\n",
        "    #+ str(neuron_w[4*i + 1]) + '\\n'\n",
        "    #+ str(neuron_w[4*i + 2]) + '\\n'\n",
        "    #+ str(neuron_w[4*i + 3]) + '\\n'\n",
        "    + \"            bias => \" + str(b_[i]) + \", \\n\"\n",
        "    + \"             -- Saidas -- \\n\"\n",
        "    + \"            y => \" + str(o_[i]) + '\\n'\n",
        "    + \"   ); \\n\"\n",
        "    )\n",
        "    neuron_text.append(n_text)\n",
        "\n",
        "neuron_text_all = '\\n'.join(map(str,neuron_text))\n",
        "\n",
        "# return neuron_text_all\n",
        "if (print_cells_result == 1):\n",
        "    print(neuron_text_all)"
      ]
    },
    {
      "cell_type": "markdown",
      "metadata": {},
      "source": [
        "## <font color=green>**Escrita do texto**</font>"
      ]
    },
    {
      "cell_type": "code",
      "execution_count": null,
      "metadata": {},
      "outputs": [],
      "source": [
        "# Código base: camada_1_3neuron_8bits_n4_signed.vhd\n",
        "ID_camada = 'c1'\n",
        "layer_text = (f'''LIBRARY ieee;\n",
        "USE ieee.std_logic_1164.ALL;\n",
        "USE ieee.numeric_std.ALL;\n",
        "\n",
        "ENTITY {file_name} IS\n",
        "  PORT (\n",
        "    clk, rst : IN STD_LOGIC;\n",
        "    ---------------- Entradas ----------------\n",
        "    {x}\n",
        "    ----------- Pesos dos neurônios ----------\n",
        "    {w}\n",
        "    ------------ Bias dos neurônios ----------\n",
        "    {b}\n",
        "    ----------------- Outputs ----------------\n",
        "    {o}\n",
        " );\n",
        "END {file_name};\n",
        "\n",
        "ARCHITECTURE arch OF  {file_name}  IS \n",
        "BEGIN\n",
        "{(layer_neurons_port_map_ALL(neuron_dict_list = [layer_dict['Neuron_arch']['shared_IO']['IO'],layer_dict['Neuron_arch']['unique_IO']['IO']],\n",
        "                               ID_camada = 'c1',\n",
        "                               number_of_neurons= layer_dict['Neurons_number'],\n",
        "                               num_inputs = layer_dict['Inputs_number'],\n",
        "                               vhd_name = layer_dict['Neuron_arch']['neuron_name']))} \n",
        "END ARCHITECTURE;\n",
        "''')\n",
        "\n",
        "if (print_cells_result == 1):\n",
        "  print(layer_text)"
      ]
    },
    {
      "cell_type": "code",
      "execution_count": null,
      "metadata": {},
      "outputs": [],
      "source": [
        "# LIBRARY ieee;\n",
        "# USE ieee.std_logic_1164.ALL;\n",
        "# USE ieee.numeric_std.ALL; \n",
        "\n",
        "# ENTITY camada_1_3neuron_8bits_2n_signed IS \n",
        "#   PORT (\n",
        "#     clk, rst : IN STD_LOGIC; \n",
        "\n",
        "#     ------------- Entradas ------------- \n",
        "#     x1, x2: IN signed(7 DOWNTO 0);\n",
        "\n",
        "#     --------- Pesos dos neurônios ---------\n",
        "#     c1_n1_w1, c1_n1_w2, c1_n2_w1, c1_n2_w2, c1_n3_w1, c1_n3_w2: IN signed(7 DOWNTO 0);\n",
        "\n",
        "#     ---------- Bias dos neurônios ---------\n",
        "#     c1_n1_bias, c1_n2_bias, c1_n3_bias: IN signed(7 DOWNTO 0);\n",
        "\n",
        "#     --------------- Outputs --------------- \n",
        "#     out1, out2, out3: OUT signed(7 DOWNTO 0)\n",
        "# );\n",
        "# END camada_1_3neuron_8bits_2n_signed; \n",
        "\n",
        "# ARCHITECTURE arch OF camada_1_3neuron_8bits_2n_signed IS \n",
        "# BEGIN \n",
        "\n",
        "# neuron_1: ENTITY work.top_neuron_tree_8bits_n3_signed\n",
        "#    PORT MAP (\n",
        "#             clk => clk,\n",
        "#             rst => rst, \n",
        "#             x1 => x1,\n",
        "#             x2 => x2,\n",
        "#             w1 => c1_n1_w1,\n",
        "#             w2 => c1_n1_w2,\n",
        "#             w1 => c1_n2_w1,\n",
        "#             w2 => c1_n2_w2,\n",
        "#             w1 => c1_n3_w1,\n",
        "#             w2 => c1_n3_w2,\n",
        "#             bias => c1_n1_bias, \n",
        "#             y => out1\n",
        "#    ); \n",
        "\n",
        "# neuron_2: ENTITY work.top_neuron_tree_8bits_n3_signed\n",
        "#    PORT MAP (\n",
        "#             clk => clk,\n",
        "#             rst => rst, \n",
        "#             x1 => x1,\n",
        "#             x2 => x2,\n",
        "#             w1 => c1_n2_w1,\n",
        "#             w2 => c1_n2_w2,\n",
        "#             w1 => c1_n3_w1,\n",
        "#             w2 => c1_n3_w2,\n",
        "#             bias => c1_n2_bias, \n",
        "#             y => out2\n",
        "#    ); \n",
        "\n",
        "# neuron_3: ENTITY work.top_neuron_tree_8bits_n3_signed\n",
        "#    PORT MAP (\n",
        "#             clk => clk,\n",
        "#             rst => rst, \n",
        "#             x1 => x1,\n",
        "#             x2 => x2,\n",
        "#             w1 => c1_n3_w1,\n",
        "#             w2 => c1_n3_w2,\n",
        "#             bias => c1_n3_bias, \n",
        "#             y => out3\n",
        "#    ); \n",
        "\n",
        "# END ARCHITECTURE;"
      ]
    },
    {
      "cell_type": "markdown",
      "metadata": {},
      "source": [
        "## <font color=green>**Criando .vhd**</font>"
      ]
    },
    {
      "cell_type": "code",
      "execution_count": null,
      "metadata": {},
      "outputs": [],
      "source": [
        "import Create_Folders"
      ]
    },
    {
      "cell_type": "code",
      "execution_count": null,
      "metadata": {},
      "outputs": [],
      "source": [
        "path = Create_Folders.create_folder(['NNs/Camadas/'], 1, write_vhd_file) #(path_list, path_level, create)\n",
        "if (print_cells_result == 1 ):\n",
        "  print(f\"Relu: {path[0]}\")"
      ]
    },
    {
      "cell_type": "code",
      "execution_count": null,
      "metadata": {},
      "outputs": [],
      "source": [
        "if (write_vhd_file == 1):    \n",
        "  with open(f\"{path[0]}{file_name}.vhd\", \"w\") as writer :\n",
        "    writer.write(layer_text)"
      ]
    },
    {
      "cell_type": "markdown",
      "metadata": {},
      "source": [
        "# outros"
      ]
    },
    {
      "cell_type": "code",
      "execution_count": null,
      "metadata": {},
      "outputs": [],
      "source": [
        "# EXEMPLOS:\n",
        "# print(input_sequences('x',num_inputs,'string',1,1)) # (sequence_inputs,'string',0,0)) # (sequence_id ,num_inputs, list_or_string, port_map, new_line)\n",
        "# print(input_sequences(['x','w'] ,num_inputs,'list',0,0)) # (sequence_id ,num_inputs, list_or_string, port_map, new_line)\n",
        "# print(input_sequences('x' ,num_inputs,'string',1,0)) # (sequence_id ,num_inputs, list_or_string, port_map, new_line)\n",
        "# print(input_sequences('x' _id ,num_inputs, list_or_string, port_map, new_line)\n",
        "\n",
        "# print(input_sequences('sx' ,num_inputs,'string',0,0)) # (sequence_id ,num_inputs, list_or_string, port_map, new_line)\n",
        "# print(input_sequences('sw' ,num_inputs,'string',0,0)) # (sequence_id ,num_inputs, list_or_string, port_map, new_line)\n",
        "# print(input_sequences('val_x' ,num_inputs,'string',0,0)) # (sequence_id ,num_inputs, list_or_string, port_map, new_line)\n",
        "# print(input_sequences('val_w' ,num_inputs,'string',0,0)) # (sequence_id ,num_inputs, list_or_string, port_map, new_line)\n",
        "print(input_sequences(['x','w'] ,num_inputs,'list',1,0)) # (sequence_id ,num_inputs, list_or_string, port_map, new_line))\n",
        "print(input_sequences(['x','w'] ,num_inputs,'list',1,1)) # (sequence_id ,num_inputs, list_or_string, port_map, new_line))"
      ]
    },
    {
      "cell_type": "code",
      "execution_count": null,
      "metadata": {},
      "outputs": [],
      "source": [
        "Neuron_IO_dict"
      ]
    },
    {
      "cell_type": "code",
      "execution_count": null,
      "metadata": {},
      "outputs": [],
      "source": [
        "dict_test = Neuron_IO_dict\n",
        "# dict_test['IN']['STD_LOGIC'] = ['ABC']  OK\n",
        "dict_test['IN']['STD_LOGIC_VECTOR'] = ['A','B'] # OK\n",
        "dict_test['IN']['STD_LOGIC_num_inputs'] = ['C','D'] # OK\n",
        "dict_test['IN']['STD_LOGIC_VECTOR_num_inputs'] = ['E','X'] # OK\n",
        "# dict_test['IN']['SIGNED'] = ['E'] # OK\n",
        "\n",
        "dict_test['IN']['SIGNED_num_inputs'] = ['x','w'] # OK\n",
        "# ----------------------------\n",
        "dict_test['OUT']['STD_LOGIC'] = ['F','G'] # OK\n",
        "dict_test['OUT']['STD_LOGIC_VECTOR'] = ['G','H'] # OK\n",
        "dict_test['OUT']['STD_LOGIC_num_inputs'] = ['I','J'] # OK\n",
        "dict_test['OUT']['STD_LOGIC_VECTOR_num_inputs'] = ['K','L'] # OK\n",
        "# dict_test['OUT']['SIGNED'] = ['K'] #OK\n",
        "dict_test['OUT']['SIGNED_num_inputs'] = ['M','N'] # OK"
      ]
    },
    {
      "cell_type": "code",
      "execution_count": null,
      "metadata": {},
      "outputs": [],
      "source": [
        "dict_test"
      ]
    },
    {
      "cell_type": "code",
      "execution_count": null,
      "metadata": {},
      "outputs": [],
      "source": [
        "# \n",
        "print(input_sequences_number_choice(sequence_id = dict_test['IN']['STD_LOGIC'],\n",
        "                                    port_map_list = dict_test['IN']['STD_LOGIC'],\n",
        "                                    port_map_is_str = False,\n",
        "                                    num_inputs = 1,\n",
        "                                    list_or_string = 'list',\n",
        "                                    port_map = 1,\n",
        "                                    new_line = 1, \n",
        "                                    com_numero = False))"
      ]
    },
    {
      "cell_type": "code",
      "execution_count": null,
      "metadata": {},
      "outputs": [],
      "source": [
        "ID_camada= ' c1_n1_'\n",
        "lista = dict_test['IN']['STD_LOGIC_VECTOR']\n",
        "lista_var = [ID_camada + s for s in lista]\n",
        "# lista_var\n",
        "print(input_sequences_number_choice(lista,lista_var,False,1,'list',1,1, False))"
      ]
    },
    {
      "cell_type": "code",
      "execution_count": null,
      "metadata": {},
      "outputs": [],
      "source": [
        "for i in dict_test.items():\n",
        "  print(i)"
      ]
    },
    {
      "cell_type": "code",
      "execution_count": null,
      "metadata": {},
      "outputs": [],
      "source": [
        "ID_camada = ' c1_n1_'\n",
        "lista = dict_test['IN']['STD_LOGIC_num_inputs']\n",
        "lista_var = [ID_camada + s for s in lista]\n",
        "print(input_sequences_number_choice(lista,lista_var,False,num_inputs,'list',1,1, True))"
      ]
    },
    {
      "cell_type": "code",
      "execution_count": null,
      "metadata": {},
      "outputs": [],
      "source": [
        "ID_camada = ' c1_n1_'\n",
        "lista = dict_test['IN']['STD_LOGIC_VECTOR_num_inputs']\n",
        "lista_var = [ID_camada + s for s in lista]\n",
        "print(input_sequences_number_choice(lista,lista_var,False,num_inputs,'list',1,1, True))"
      ]
    },
    {
      "cell_type": "code",
      "execution_count": null,
      "metadata": {},
      "outputs": [],
      "source": [
        "# print(input_sequences(dict_test['IN']['SIGNED_num_inputs'][0],num_inputs,'list',1,1))\n",
        "print(input_sequences_number_choice(dict_test['IN']['SIGNED_num_inputs'][0],dict_test['IN']['SIGNED_num_inputs'][0],False,num_inputs,'list',1,1, True))"
      ]
    },
    {
      "cell_type": "code",
      "execution_count": null,
      "metadata": {},
      "outputs": [],
      "source": [
        "ID_camada= ' c1_n1_'        #string para adicionar no inicio de cada elemento da lista\n",
        "lista = dict_test['IN']['SIGNED_num_inputs'][1]  # pega lista do dicionario (elementos wi)\n",
        "lista_var = [ID_camada + s for s in lista] # unindo var_vamada com cada elemento da lista\n",
        "\n",
        "print(input_sequences_number_choice(lista,lista_var,False,num_inputs,'list',1,1, True))"
      ]
    },
    {
      "cell_type": "code",
      "execution_count": null,
      "metadata": {},
      "outputs": [],
      "source": [
        "# ID_camada = ' c1_n1_'\n",
        "# lista = dict_test['IN']['SIGNED']\n",
        "# lista_var = [ID_camada + s for s in lista]\n",
        "# # lista_var\n",
        "# print(input_sequences_number_choice(lista, lista_var ,False,1,'list',1,1, False))"
      ]
    },
    {
      "cell_type": "code",
      "execution_count": null,
      "metadata": {},
      "outputs": [],
      "source": [
        "# ID_camada = ' c1_n1_'\n",
        "# lista = dict_test['OUT']['STD_LOGIC']\n",
        "# lista_var = [ID_camada + s for s in lista ]\n",
        "# print(input_sequences_number_choice(lista, lista_var ,False,1,'list',1,1, False))"
      ]
    },
    {
      "cell_type": "code",
      "execution_count": null,
      "metadata": {},
      "outputs": [],
      "source": [
        "# ID_camada = ' c1_n1_'\n",
        "# lista = dict_test['OUT']['STD_LOGIC_VECTOR']\n",
        "# lista_var = [ID_camada + s for s in lista ]\n",
        "# print(input_sequences_number_choice(lista, lista_var ,False,1,'list',1,1, False))"
      ]
    },
    {
      "cell_type": "code",
      "execution_count": null,
      "metadata": {},
      "outputs": [],
      "source": [
        "# ID_camada = ' c1_n1_'\n",
        "# lista = dict_test['OUT']['STD_LOGIC_num_inputs']\n",
        "# lista_var = [ID_camada + s for s in lista ]\n",
        "# print(input_sequences_number_choice(lista, lista_var ,False,num_inputs,'list',1,1, True))"
      ]
    },
    {
      "cell_type": "code",
      "execution_count": null,
      "metadata": {},
      "outputs": [],
      "source": [
        "# ID_camada = ' c1_n1_'\n",
        "# lista = dict_test['OUT']['STD_LOGIC_VECTOR_num_inputs']\n",
        "# lista_var = [ID_camada + s for s in lista ]\n",
        "# print(input_sequences_number_choice(lista, lista_var ,False,num_inputs,'list',1,1, True))"
      ]
    },
    {
      "cell_type": "code",
      "execution_count": null,
      "metadata": {},
      "outputs": [],
      "source": [
        "# ID_camada = ' c1_n1_out1'\n",
        "# lista = dict_test['OUT']['SIGNED']\n",
        "# # lista_var = [ID_camada + s for s in lista]\n",
        "# # lista_var\n",
        "# print(input_sequences_number_choice(lista, ID_camada ,True,1,'list',1,1, False))"
      ]
    },
    {
      "cell_type": "code",
      "execution_count": null,
      "metadata": {},
      "outputs": [],
      "source": [
        "# ID_camada = ' c1_n1_'\n",
        "# lista = dict_test['OUT']['SIGNED']\n",
        "# lista_var = [ID_camada + s for s in lista]\n",
        "# lista_var\n",
        "# print(input_sequences_number_choice(lista, lista_var ,False,1,'list',1,1, False))"
      ]
    },
    {
      "cell_type": "code",
      "execution_count": null,
      "metadata": {},
      "outputs": [],
      "source": [
        "# ID_camada = ' c1_n1_'\n",
        "# lista = dict_test['OUT']['SIGNED_num_inputs']\n",
        "# lista_var = [ID_camada + s for s in lista ]\n",
        "# print(input_sequences_number_choice(lista, lista_var ,False,num_inputs,'list',1,1, True))"
      ]
    },
    {
      "cell_type": "code",
      "execution_count": null,
      "metadata": {},
      "outputs": [],
      "source": [
        "\n",
        "Neuron_IN_port_map, Neuron_OUT_port_map = Neuron_port_map_IO(dict_test= dict_test, i = 2,\n",
        "                          num_inputs = 3,\n",
        "                          ID_camada = 'c1')"
      ]
    },
    {
      "cell_type": "code",
      "execution_count": null,
      "metadata": {},
      "outputs": [],
      "source": [
        "print(Neuron_IN_port_map)"
      ]
    },
    {
      "cell_type": "code",
      "execution_count": null,
      "metadata": {},
      "outputs": [],
      "source": []
    },
    {
      "cell_type": "code",
      "execution_count": null,
      "metadata": {},
      "outputs": [],
      "source": []
    }
  ],
  "metadata": {
    "colab": {
      "collapsed_sections": [
        "M3-sGim4iR6j",
        "Iu7DR5BFzS7f",
        "WqkRU7aZzXDr",
        "FxoK9YKThUT0",
        "ACsQ001UylXP",
        "xnUuDxFNYHnu"
      ],
      "name": "Organized NN vhds.ipynb",
      "provenance": []
    },
    "interpreter": {
      "hash": "cee4c9f1f295d5a8314cca0fe07e3356bdea97e0eba7b56f59d97abb27fbb11d"
    },
    "kernelspec": {
      "display_name": "Python 3.8.6 32-bit",
      "name": "python3"
    },
    "language_info": {
      "codemirror_mode": {
        "name": "ipython",
        "version": 3
      },
      "file_extension": ".py",
      "mimetype": "text/x-python",
      "name": "python",
      "nbconvert_exporter": "python",
      "pygments_lexer": "ipython3",
      "version": "3.8.8"
    }
  },
  "nbformat": 4,
  "nbformat_minor": 0
}
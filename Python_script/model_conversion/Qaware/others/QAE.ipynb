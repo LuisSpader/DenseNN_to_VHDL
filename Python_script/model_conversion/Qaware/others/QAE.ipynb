{
 "cells": [
  {
   "attachments": {},
   "cell_type": "markdown",
   "metadata": {},
   "source": [
    "### Import the QAutoencoder class & MNIST data class and call it"
   ]
  },
  {
   "cell_type": "code",
   "execution_count": 6,
   "metadata": {},
   "outputs": [],
   "source": [
    "# file class_QAutoencoder.py\n",
    "# from class_QAutoencoder import *\n",
    "from class_QAutoencoder_mini import *\n",
    "import MNIST_database as mnist\n"
   ]
  },
  {
   "cell_type": "markdown",
   "metadata": {},
   "source": [
    "Original dataset and modified dataset with modifiable resolution is shown below."
   ]
  },
  {
   "cell_type": "code",
   "execution_count": 7,
   "metadata": {},
   "outputs": [],
   "source": [
    "# import MNIST_dataset as mnist\n",
    "# size_final = 28\n",
    "\n",
    "# data = mnist.MNISTData(size_initial=28, size_final=size_final, color_depth=8)\n",
    "# train= data.x_train\n",
    "# ax = plt.subplot(1, 1 , 1)\n",
    "\n",
    "# plt.imshow(train[0].reshape(size_final,size_final), cmap='gray_r')\n",
    "# ax.get_xaxis().set_visible(False)\n",
    "# ax.get_yaxis().set_visible(False)\n"
   ]
  },
  {
   "cell_type": "code",
   "execution_count": 19,
   "metadata": {},
   "outputs": [
    {
     "data": {
      "text/plain": [
       "(60000, 64)"
      ]
     },
     "execution_count": 19,
     "metadata": {},
     "output_type": "execute_result"
    }
   ],
   "source": [
    "data_zoom.x_train.shape"
   ]
  },
  {
   "cell_type": "code",
   "execution_count": 18,
   "metadata": {},
   "outputs": [
    {
     "data": {
      "text/plain": [
       "(60000, 10)"
      ]
     },
     "execution_count": 18,
     "metadata": {},
     "output_type": "execute_result"
    }
   ],
   "source": [
    "data_zoom.y_train.shape"
   ]
  },
  {
   "cell_type": "code",
   "execution_count": 8,
   "metadata": {},
   "outputs": [
    {
     "data": {
      "image/png": "[encoded data removed]",
      "text/plain": [
       "<Figure size 640x480 with 1 Axes>"
      ]
     },
     "metadata": {},
     "output_type": "display_data"
    }
   ],
   "source": [
    "#Choose the final size of your image dataset\n",
    "size_final = 8\n",
    "\n",
    "# data_zoom = mnist.MNISTData(size_initial=20, size_final=size_final, color_depth=5, flat=True)\n",
    "data_zoom = mnist.MNISTData(size_initial=20, size_final=8, color_depth=8, flat=True)\n",
    "\n",
    "train= data_zoom.x_train\n",
    "ax = plt.subplot(1, 1 , 1)\n",
    "\n",
    "plt.imshow(train[0].reshape(size_final,size_final), cmap='gray_r')\n",
    "ax.get_xaxis().set_visible(False)\n",
    "ax.get_yaxis().set_visible(False)"
   ]
  },
  {
   "cell_type": "markdown",
   "metadata": {
    "deletable": false,
    "editable": false,
    "nbgrader": {
     "cell_type": "markdown",
     "checksum": "cec58d97b4c05e29e9afdeb102569f20",
     "grade": false,
     "grade_id": "cell-6ee6a27aac2a7e5b",
     "locked": true,
     "schema_version": 3,
     "solution": false,
     "task": false
    }
   },
   "source": [
    "# Autoencoder using Keras\n",
    "The aim of this class is to implement a simple autoencoder for the MNIST data and then build an autoencoder that is\n",
    "able to classify MNIST data in its latent dimension.\n",
    "\n",
    "Code partially adapted from [Keras Documentation](https://blog.keras.io/building-autoencoders-in-keras.html)."
   ]
  },
  {
   "cell_type": "code",
   "execution_count": 9,
   "metadata": {
    "deletable": false,
    "editable": false,
    "nbgrader": {
     "cell_type": "code",
     "checksum": "8f093c3123887a615df510d5cb9d3bee",
     "grade": false,
     "grade_id": "cell-b3452809a3ed4ee3",
     "locked": true,
     "schema_version": 3,
     "solution": false,
     "task": false
    },
    "pycharm": {
     "name": "#%%\n"
    }
   },
   "outputs": [],
   "source": [
    "BIT_WIDTH = 8"
   ]
  },
  {
   "attachments": {},
   "cell_type": "markdown",
   "metadata": {},
   "source": [
    "# QAutoencoder without classifier"
   ]
  },
  {
   "cell_type": "markdown",
   "metadata": {},
   "source": [
    "It is built the standard autoencoder, *without classifier* here, and the MNIST data class called before is used. \n",
    "The model is fitted and adequate plots are reproduced, \n",
    "as well as the comparison between orginal MNIST dataset and reconstructed images."
   ]
  },
  {
   "cell_type": "code",
   "execution_count": 10,
   "metadata": {},
   "outputs": [
    {
     "name": "stdout",
     "output_type": "stream",
     "text": [
      "Model: \"autoencoder\"\n",
      "_________________________________________________________________\n",
      " Layer (type)                Output Shape              Param #   \n",
      "=================================================================\n",
      " encoder_input (InputLayer)  [(None, 64)]              0         \n",
      "                                                                 \n",
      " fc1 (QDense)                (None, 4)                 260       \n",
      "                                                                 \n",
      " relu1 (QActivation)         (None, 4)                 0         \n",
      "                                                                 \n",
      " fc2 (QDense)                (None, 3)                 15        \n",
      "                                                                 \n",
      " relu2 (QActivation)         (None, 3)                 0         \n",
      "                                                                 \n",
      " encoder_output (Dense)      (None, 2)                 8         \n",
      "                                                                 \n",
      " fc3 (QDense)                (None, 3)                 9         \n",
      "                                                                 \n",
      " relu3_dec (QActivation)     (None, 3)                 0         \n",
      "                                                                 \n",
      " fc4 (QDense)                (None, 4)                 16        \n",
      "                                                                 \n",
      " relu4 (QActivation)         (None, 4)                 0         \n",
      "                                                                 \n",
      " decoder_output (QDense)     (None, 64)                320       \n",
      "                                                                 \n",
      " relu_decoder (QActivation)  (None, 64)                0         \n",
      "                                                                 \n",
      "=================================================================\n",
      "Total params: 628\n",
      "Trainable params: 628\n",
      "Non-trainable params: 0\n",
      "_________________________________________________________________\n",
      "Epoch 1/40\n",
      "226/235 [===========================>..] - ETA: 0s - loss: 0.1426\n",
      "***callbacks***\n",
      "saving losses to model/QAE_model8bitsmini/callbacks\\losses.log\n",
      "\n",
      "Epoch 1: val_loss improved from inf to 0.12952, saving model to model/QAE_model8bitsmini/callbacks\\KERAS_check_best_model.model\n"
     ]
    },
    {
     "name": "stderr",
     "output_type": "stream",
     "text": [
      "WARNING:absl:Found untraced functions such as _update_step_xla while saving (showing 1 of 1). These functions will not be directly callable after loading.\n"
     ]
    },
    {
     "name": "stdout",
     "output_type": "stream",
     "text": [
      "\n",
      "Epoch 1: val_loss improved from inf to 0.12952, saving model to model/QAE_model8bitsmini/callbacks\\KERAS_check_best_model_weights.h5\n",
      "\n",
      "Epoch 1: saving model to model/QAE_model8bitsmini/callbacks\\KERAS_check_model_last.model\n"
     ]
    },
    {
     "name": "stderr",
     "output_type": "stream",
     "text": [
      "WARNING:absl:Found untraced functions such as _update_step_xla while saving (showing 1 of 1). These functions will not be directly callable after loading.\n"
     ]
    },
    {
     "name": "stdout",
     "output_type": "stream",
     "text": [
      "\n",
      "Epoch 1: saving model to model/QAE_model8bitsmini/callbacks\\KERAS_check_model_last_weights.h5\n",
      "\n",
      "***callbacks end***\n",
      "\n",
      "235/235 [==============================] - 20s 72ms/step - loss: 0.1421 - val_loss: 0.1295 - lr: 0.0010\n",
      "Epoch 2/40\n",
      "232/235 [============================>.] - ETA: 0s - loss: 0.1262\n",
      "***callbacks***\n",
      "saving losses to model/QAE_model8bitsmini/callbacks\\losses.log\n",
      "\n",
      "Epoch 2: val_loss improved from 0.12952 to 0.12582, saving model to model/QAE_model8bitsmini/callbacks\\KERAS_check_best_model.model\n"
     ]
    },
    {
     "name": "stderr",
     "output_type": "stream",
     "text": [
      "WARNING:absl:Found untraced functions such as _update_step_xla while saving (showing 1 of 1). These functions will not be directly callable after loading.\n"
     ]
    },
    {
     "name": "stdout",
     "output_type": "stream",
     "text": [
      "\n",
      "Epoch 2: val_loss improved from 0.12952 to 0.12582, saving model to model/QAE_model8bitsmini/callbacks\\KERAS_check_best_model_weights.h5\n",
      "\n",
      "Epoch 2: saving model to model/QAE_model8bitsmini/callbacks\\KERAS_check_model_last.model\n"
     ]
    },
    {
     "name": "stderr",
     "output_type": "stream",
     "text": [
      "WARNING:absl:Found untraced functions such as _update_step_xla while saving (showing 1 of 1). These functions will not be directly callable after loading.\n"
     ]
    },
    {
     "name": "stdout",
     "output_type": "stream",
     "text": [
      "\n",
      "Epoch 2: saving model to model/QAE_model8bitsmini/callbacks\\KERAS_check_model_last_weights.h5\n",
      "\n",
      "***callbacks end***\n",
      "\n",
      "235/235 [==============================] - 19s 82ms/step - loss: 0.1262 - val_loss: 0.1258 - lr: 0.0010\n",
      "Epoch 3/40\n",
      "232/235 [============================>.] - ETA: 0s - loss: 0.1232\n",
      "***callbacks***\n",
      "saving losses to model/QAE_model8bitsmini/callbacks\\losses.log\n",
      "\n",
      "Epoch 3: val_loss improved from 0.12582 to 0.12035, saving model to model/QAE_model8bitsmini/callbacks\\KERAS_check_best_model.model\n"
     ]
    },
    {
     "name": "stderr",
     "output_type": "stream",
     "text": [
      "WARNING:absl:Found untraced functions such as _update_step_xla while saving (showing 1 of 1). These functions will not be directly callable after loading.\n"
     ]
    },
    {
     "name": "stdout",
     "output_type": "stream",
     "text": [
      "\n",
      "Epoch 3: val_loss improved from 0.12582 to 0.12035, saving model to model/QAE_model8bitsmini/callbacks\\KERAS_check_best_model_weights.h5\n",
      "\n",
      "Epoch 3: saving model to model/QAE_model8bitsmini/callbacks\\KERAS_check_model_last.model\n"
     ]
    },
    {
     "name": "stderr",
     "output_type": "stream",
     "text": [
      "WARNING:absl:Found untraced functions such as _update_step_xla while saving (showing 1 of 1). These functions will not be directly callable after loading.\n"
     ]
    },
    {
     "name": "stdout",
     "output_type": "stream",
     "text": [
      "\n",
      "Epoch 3: saving model to model/QAE_model8bitsmini/callbacks\\KERAS_check_model_last_weights.h5\n",
      "\n",
      "***callbacks end***\n",
      "\n",
      "235/235 [==============================] - 18s 75ms/step - loss: 0.1231 - val_loss: 0.1204 - lr: 0.0010\n",
      "Epoch 4/40\n",
      "233/235 [============================>.] - ETA: 0s - loss: 0.1191\n",
      "***callbacks***\n",
      "saving losses to model/QAE_model8bitsmini/callbacks\\losses.log\n",
      "\n",
      "Epoch 4: val_loss improved from 0.12035 to 0.11958, saving model to model/QAE_model8bitsmini/callbacks\\KERAS_check_best_model.model\n"
     ]
    },
    {
     "name": "stderr",
     "output_type": "stream",
     "text": [
      "WARNING:absl:Found untraced functions such as _update_step_xla while saving (showing 1 of 1). These functions will not be directly callable after loading.\n"
     ]
    },
    {
     "name": "stdout",
     "output_type": "stream",
     "text": [
      "\n",
      "Epoch 4: val_loss improved from 0.12035 to 0.11958, saving model to model/QAE_model8bitsmini/callbacks\\KERAS_check_best_model_weights.h5\n",
      "\n",
      "Epoch 4: saving model to model/QAE_model8bitsmini/callbacks\\KERAS_check_model_last.model\n"
     ]
    },
    {
     "name": "stderr",
     "output_type": "stream",
     "text": [
      "WARNING:absl:Found untraced functions such as _update_step_xla while saving (showing 1 of 1). These functions will not be directly callable after loading.\n"
     ]
    },
    {
     "name": "stdout",
     "output_type": "stream",
     "text": [
      "\n",
      "Epoch 4: saving model to model/QAE_model8bitsmini/callbacks\\KERAS_check_model_last_weights.h5\n",
      "\n",
      "***callbacks end***\n",
      "\n",
      "235/235 [==============================] - 13s 56ms/step - loss: 0.1191 - val_loss: 0.1196 - lr: 0.0010\n",
      "Epoch 5/40\n",
      "229/235 [============================>.] - ETA: 0s - loss: 0.1186\n",
      "***callbacks***\n",
      "saving losses to model/QAE_model8bitsmini/callbacks\\losses.log\n",
      "\n",
      "Epoch 5: val_loss improved from 0.11958 to 0.11915, saving model to model/QAE_model8bitsmini/callbacks\\KERAS_check_best_model.model\n"
     ]
    },
    {
     "name": "stderr",
     "output_type": "stream",
     "text": [
      "WARNING:absl:Found untraced functions such as _update_step_xla while saving (showing 1 of 1). These functions will not be directly callable after loading.\n"
     ]
    },
    {
     "name": "stdout",
     "output_type": "stream",
     "text": [
      "\n",
      "Epoch 5: val_loss improved from 0.11958 to 0.11915, saving model to model/QAE_model8bitsmini/callbacks\\KERAS_check_best_model_weights.h5\n",
      "\n",
      "Epoch 5: saving model to model/QAE_model8bitsmini/callbacks\\KERAS_check_model_last.model\n"
     ]
    },
    {
     "name": "stderr",
     "output_type": "stream",
     "text": [
      "WARNING:absl:Found untraced functions such as _update_step_xla while saving (showing 1 of 1). These functions will not be directly callable after loading.\n"
     ]
    },
    {
     "name": "stdout",
     "output_type": "stream",
     "text": [
      "\n",
      "Epoch 5: saving model to model/QAE_model8bitsmini/callbacks\\KERAS_check_model_last_weights.h5\n",
      "\n",
      "***callbacks end***\n",
      "\n",
      "235/235 [==============================] - 12s 51ms/step - loss: 0.1186 - val_loss: 0.1192 - lr: 0.0010\n",
      "Epoch 6/40\n",
      "227/235 [===========================>..] - ETA: 0s - loss: 0.1183\n",
      "***callbacks***\n",
      "saving losses to model/QAE_model8bitsmini/callbacks\\losses.log\n",
      "\n",
      "Epoch 6: val_loss improved from 0.11915 to 0.11882, saving model to model/QAE_model8bitsmini/callbacks\\KERAS_check_best_model.model\n"
     ]
    },
    {
     "name": "stderr",
     "output_type": "stream",
     "text": [
      "WARNING:absl:Found untraced functions such as _update_step_xla while saving (showing 1 of 1). These functions will not be directly callable after loading.\n"
     ]
    },
    {
     "name": "stdout",
     "output_type": "stream",
     "text": [
      "\n",
      "Epoch 6: val_loss improved from 0.11915 to 0.11882, saving model to model/QAE_model8bitsmini/callbacks\\KERAS_check_best_model_weights.h5\n",
      "\n",
      "Epoch 6: saving model to model/QAE_model8bitsmini/callbacks\\KERAS_check_model_last.model\n"
     ]
    },
    {
     "name": "stderr",
     "output_type": "stream",
     "text": [
      "WARNING:absl:Found untraced functions such as _update_step_xla while saving (showing 1 of 1). These functions will not be directly callable after loading.\n"
     ]
    },
    {
     "name": "stdout",
     "output_type": "stream",
     "text": [
      "\n",
      "Epoch 6: saving model to model/QAE_model8bitsmini/callbacks\\KERAS_check_model_last_weights.h5\n",
      "\n",
      "***callbacks end***\n",
      "\n",
      "235/235 [==============================] - 13s 56ms/step - loss: 0.1183 - val_loss: 0.1188 - lr: 0.0010\n",
      "Epoch 7/40\n",
      "226/235 [===========================>..] - ETA: 0s - loss: 0.1180\n",
      "***callbacks***\n",
      "saving losses to model/QAE_model8bitsmini/callbacks\\losses.log\n",
      "\n",
      "Epoch 7: val_loss improved from 0.11882 to 0.11867, saving model to model/QAE_model8bitsmini/callbacks\\KERAS_check_best_model.model\n"
     ]
    },
    {
     "name": "stderr",
     "output_type": "stream",
     "text": [
      "WARNING:absl:Found untraced functions such as _update_step_xla while saving (showing 1 of 1). These functions will not be directly callable after loading.\n"
     ]
    },
    {
     "name": "stdout",
     "output_type": "stream",
     "text": [
      "\n",
      "Epoch 7: val_loss improved from 0.11882 to 0.11867, saving model to model/QAE_model8bitsmini/callbacks\\KERAS_check_best_model_weights.h5\n",
      "\n",
      "Epoch 7: saving model to model/QAE_model8bitsmini/callbacks\\KERAS_check_model_last.model\n"
     ]
    },
    {
     "name": "stderr",
     "output_type": "stream",
     "text": [
      "WARNING:absl:Found untraced functions such as _update_step_xla while saving (showing 1 of 1). These functions will not be directly callable after loading.\n"
     ]
    },
    {
     "name": "stdout",
     "output_type": "stream",
     "text": [
      "\n",
      "Epoch 7: saving model to model/QAE_model8bitsmini/callbacks\\KERAS_check_model_last_weights.h5\n",
      "\n",
      "***callbacks end***\n",
      "\n",
      "235/235 [==============================] - 13s 56ms/step - loss: 0.1180 - val_loss: 0.1187 - lr: 0.0010\n",
      "Epoch 8/40\n",
      "225/235 [===========================>..] - ETA: 0s - loss: 0.1178\n",
      "***callbacks***\n",
      "saving losses to model/QAE_model8bitsmini/callbacks\\losses.log\n",
      "\n",
      "Epoch 8: val_loss improved from 0.11867 to 0.11842, saving model to model/QAE_model8bitsmini/callbacks\\KERAS_check_best_model.model\n"
     ]
    },
    {
     "name": "stderr",
     "output_type": "stream",
     "text": [
      "WARNING:absl:Found untraced functions such as _update_step_xla while saving (showing 1 of 1). These functions will not be directly callable after loading.\n"
     ]
    },
    {
     "name": "stdout",
     "output_type": "stream",
     "text": [
      "\n",
      "Epoch 8: val_loss improved from 0.11867 to 0.11842, saving model to model/QAE_model8bitsmini/callbacks\\KERAS_check_best_model_weights.h5\n",
      "\n",
      "Epoch 8: saving model to model/QAE_model8bitsmini/callbacks\\KERAS_check_model_last.model\n"
     ]
    },
    {
     "name": "stderr",
     "output_type": "stream",
     "text": [
      "WARNING:absl:Found untraced functions such as _update_step_xla while saving (showing 1 of 1). These functions will not be directly callable after loading.\n"
     ]
    },
    {
     "name": "stdout",
     "output_type": "stream",
     "text": [
      "\n",
      "Epoch 8: saving model to model/QAE_model8bitsmini/callbacks\\KERAS_check_model_last_weights.h5\n",
      "\n",
      "***callbacks end***\n",
      "\n",
      "235/235 [==============================] - 17s 72ms/step - loss: 0.1178 - val_loss: 0.1184 - lr: 0.0010\n",
      "Epoch 9/40\n",
      "232/235 [============================>.] - ETA: 0s - loss: 0.1177\n",
      "***callbacks***\n",
      "saving losses to model/QAE_model8bitsmini/callbacks\\losses.log\n",
      "\n",
      "Epoch 9: val_loss improved from 0.11842 to 0.11828, saving model to model/QAE_model8bitsmini/callbacks\\KERAS_check_best_model.model\n"
     ]
    },
    {
     "name": "stderr",
     "output_type": "stream",
     "text": [
      "WARNING:absl:Found untraced functions such as _update_step_xla while saving (showing 1 of 1). These functions will not be directly callable after loading.\n"
     ]
    },
    {
     "name": "stdout",
     "output_type": "stream",
     "text": [
      "\n",
      "Epoch 9: val_loss improved from 0.11842 to 0.11828, saving model to model/QAE_model8bitsmini/callbacks\\KERAS_check_best_model_weights.h5\n",
      "\n",
      "Epoch 9: saving model to model/QAE_model8bitsmini/callbacks\\KERAS_check_model_last.model\n"
     ]
    },
    {
     "name": "stderr",
     "output_type": "stream",
     "text": [
      "WARNING:absl:Found untraced functions such as _update_step_xla while saving (showing 1 of 1). These functions will not be directly callable after loading.\n"
     ]
    },
    {
     "name": "stdout",
     "output_type": "stream",
     "text": [
      "\n",
      "Epoch 9: saving model to model/QAE_model8bitsmini/callbacks\\KERAS_check_model_last_weights.h5\n",
      "\n",
      "***callbacks end***\n",
      "\n",
      "235/235 [==============================] - 15s 64ms/step - loss: 0.1177 - val_loss: 0.1183 - lr: 0.0010\n",
      "Epoch 10/40\n",
      "225/235 [===========================>..] - ETA: 0s - loss: 0.1175\n",
      "***callbacks***\n",
      "saving losses to model/QAE_model8bitsmini/callbacks\\losses.log\n",
      "\n",
      "Epoch 10: val_loss improved from 0.11828 to 0.11819, saving model to model/QAE_model8bitsmini/callbacks\\KERAS_check_best_model.model\n"
     ]
    },
    {
     "name": "stderr",
     "output_type": "stream",
     "text": [
      "WARNING:absl:Found untraced functions such as _update_step_xla while saving (showing 1 of 1). These functions will not be directly callable after loading.\n"
     ]
    },
    {
     "name": "stdout",
     "output_type": "stream",
     "text": [
      "\n",
      "Epoch 10: val_loss improved from 0.11828 to 0.11819, saving model to model/QAE_model8bitsmini/callbacks\\KERAS_check_best_model_weights.h5\n",
      "\n",
      "Epoch 10: saving model to model/QAE_model8bitsmini/callbacks\\KERAS_check_model_last.model\n"
     ]
    },
    {
     "name": "stderr",
     "output_type": "stream",
     "text": [
      "WARNING:absl:Found untraced functions such as _update_step_xla while saving (showing 1 of 1). These functions will not be directly callable after loading.\n"
     ]
    },
    {
     "name": "stdout",
     "output_type": "stream",
     "text": [
      "\n",
      "Epoch 10: saving model to model/QAE_model8bitsmini/callbacks\\KERAS_check_model_last_weights.h5\n",
      "\n",
      "Epoch 10: saving model to model/QAE_model8bitsmini/callbacks\\KERAS_check_model_epoch10.h5\n",
      "\n",
      "***callbacks end***\n",
      "\n",
      "235/235 [==============================] - 14s 61ms/step - loss: 0.1175 - val_loss: 0.1182 - lr: 0.0010\n",
      "Epoch 11/40\n",
      "228/235 [============================>.] - ETA: 0s - loss: 0.1175\n",
      "***callbacks***\n",
      "saving losses to model/QAE_model8bitsmini/callbacks\\losses.log\n",
      "\n",
      "Epoch 11: val_loss improved from 0.11819 to 0.11812, saving model to model/QAE_model8bitsmini/callbacks\\KERAS_check_best_model.model\n"
     ]
    },
    {
     "name": "stderr",
     "output_type": "stream",
     "text": [
      "WARNING:absl:Found untraced functions such as _update_step_xla while saving (showing 1 of 1). These functions will not be directly callable after loading.\n"
     ]
    },
    {
     "name": "stdout",
     "output_type": "stream",
     "text": [
      "\n",
      "Epoch 11: val_loss improved from 0.11819 to 0.11812, saving model to model/QAE_model8bitsmini/callbacks\\KERAS_check_best_model_weights.h5\n",
      "\n",
      "Epoch 11: saving model to model/QAE_model8bitsmini/callbacks\\KERAS_check_model_last.model\n"
     ]
    },
    {
     "name": "stderr",
     "output_type": "stream",
     "text": [
      "WARNING:absl:Found untraced functions such as _update_step_xla while saving (showing 1 of 1). These functions will not be directly callable after loading.\n"
     ]
    },
    {
     "name": "stdout",
     "output_type": "stream",
     "text": [
      "\n",
      "Epoch 11: saving model to model/QAE_model8bitsmini/callbacks\\KERAS_check_model_last_weights.h5\n",
      "\n",
      "***callbacks end***\n",
      "\n",
      "235/235 [==============================] - 12s 53ms/step - loss: 0.1174 - val_loss: 0.1181 - lr: 0.0010\n",
      "Epoch 12/40\n",
      "233/235 [============================>.] - ETA: 0s - loss: 0.1174\n",
      "***callbacks***\n",
      "saving losses to model/QAE_model8bitsmini/callbacks\\losses.log\n",
      "\n",
      "Epoch 12: val_loss improved from 0.11812 to 0.11806, saving model to model/QAE_model8bitsmini/callbacks\\KERAS_check_best_model.model\n"
     ]
    },
    {
     "name": "stderr",
     "output_type": "stream",
     "text": [
      "WARNING:absl:Found untraced functions such as _update_step_xla while saving (showing 1 of 1). These functions will not be directly callable after loading.\n"
     ]
    },
    {
     "name": "stdout",
     "output_type": "stream",
     "text": [
      "\n",
      "Epoch 12: val_loss improved from 0.11812 to 0.11806, saving model to model/QAE_model8bitsmini/callbacks\\KERAS_check_best_model_weights.h5\n",
      "\n",
      "Epoch 12: saving model to model/QAE_model8bitsmini/callbacks\\KERAS_check_model_last.model\n"
     ]
    },
    {
     "name": "stderr",
     "output_type": "stream",
     "text": [
      "WARNING:absl:Found untraced functions such as _update_step_xla while saving (showing 1 of 1). These functions will not be directly callable after loading.\n"
     ]
    },
    {
     "name": "stdout",
     "output_type": "stream",
     "text": [
      "\n",
      "Epoch 12: saving model to model/QAE_model8bitsmini/callbacks\\KERAS_check_model_last_weights.h5\n",
      "\n",
      "***callbacks end***\n",
      "\n",
      "235/235 [==============================] - 15s 63ms/step - loss: 0.1174 - val_loss: 0.1181 - lr: 0.0010\n",
      "Epoch 13/40\n",
      "230/235 [============================>.] - ETA: 0s - loss: 0.1173\n",
      "***callbacks***\n",
      "saving losses to model/QAE_model8bitsmini/callbacks\\losses.log\n",
      "\n",
      "Epoch 13: val_loss improved from 0.11806 to 0.11802, saving model to model/QAE_model8bitsmini/callbacks\\KERAS_check_best_model.model\n"
     ]
    },
    {
     "name": "stderr",
     "output_type": "stream",
     "text": [
      "WARNING:absl:Found untraced functions such as _update_step_xla while saving (showing 1 of 1). These functions will not be directly callable after loading.\n"
     ]
    },
    {
     "name": "stdout",
     "output_type": "stream",
     "text": [
      "\n",
      "Epoch 13: val_loss improved from 0.11806 to 0.11802, saving model to model/QAE_model8bitsmini/callbacks\\KERAS_check_best_model_weights.h5\n",
      "\n",
      "Epoch 13: saving model to model/QAE_model8bitsmini/callbacks\\KERAS_check_model_last.model\n"
     ]
    },
    {
     "name": "stderr",
     "output_type": "stream",
     "text": [
      "WARNING:absl:Found untraced functions such as _update_step_xla while saving (showing 1 of 1). These functions will not be directly callable after loading.\n"
     ]
    },
    {
     "name": "stdout",
     "output_type": "stream",
     "text": [
      "\n",
      "Epoch 13: saving model to model/QAE_model8bitsmini/callbacks\\KERAS_check_model_last_weights.h5\n",
      "\n",
      "***callbacks end***\n",
      "\n",
      "235/235 [==============================] - 16s 70ms/step - loss: 0.1173 - val_loss: 0.1180 - lr: 0.0010\n",
      "Epoch 14/40\n",
      "229/235 [============================>.] - ETA: 0s - loss: 0.1173\n",
      "***callbacks***\n",
      "saving losses to model/QAE_model8bitsmini/callbacks\\losses.log\n",
      "\n",
      "Epoch 14: val_loss improved from 0.11802 to 0.11802, saving model to model/QAE_model8bitsmini/callbacks\\KERAS_check_best_model.model\n"
     ]
    },
    {
     "name": "stderr",
     "output_type": "stream",
     "text": [
      "WARNING:absl:Found untraced functions such as _update_step_xla while saving (showing 1 of 1). These functions will not be directly callable after loading.\n"
     ]
    },
    {
     "name": "stdout",
     "output_type": "stream",
     "text": [
      "\n",
      "Epoch 14: val_loss improved from 0.11802 to 0.11802, saving model to model/QAE_model8bitsmini/callbacks\\KERAS_check_best_model_weights.h5\n",
      "\n",
      "Epoch 14: saving model to model/QAE_model8bitsmini/callbacks\\KERAS_check_model_last.model\n"
     ]
    },
    {
     "name": "stderr",
     "output_type": "stream",
     "text": [
      "WARNING:absl:Found untraced functions such as _update_step_xla while saving (showing 1 of 1). These functions will not be directly callable after loading.\n"
     ]
    },
    {
     "name": "stdout",
     "output_type": "stream",
     "text": [
      "\n",
      "Epoch 14: saving model to model/QAE_model8bitsmini/callbacks\\KERAS_check_model_last_weights.h5\n",
      "\n",
      "***callbacks end***\n",
      "\n",
      "235/235 [==============================] - 23s 97ms/step - loss: 0.1173 - val_loss: 0.1180 - lr: 0.0010\n",
      "Epoch 15/40\n",
      "232/235 [============================>.] - ETA: 0s - loss: 0.1172\n",
      "***callbacks***\n",
      "saving losses to model/QAE_model8bitsmini/callbacks\\losses.log\n",
      "\n",
      "Epoch 15: val_loss improved from 0.11802 to 0.11794, saving model to model/QAE_model8bitsmini/callbacks\\KERAS_check_best_model.model\n"
     ]
    },
    {
     "name": "stderr",
     "output_type": "stream",
     "text": [
      "WARNING:absl:Found untraced functions such as _update_step_xla while saving (showing 1 of 1). These functions will not be directly callable after loading.\n"
     ]
    },
    {
     "name": "stdout",
     "output_type": "stream",
     "text": [
      "\n",
      "Epoch 15: val_loss improved from 0.11802 to 0.11794, saving model to model/QAE_model8bitsmini/callbacks\\KERAS_check_best_model_weights.h5\n",
      "\n",
      "Epoch 15: saving model to model/QAE_model8bitsmini/callbacks\\KERAS_check_model_last.model\n"
     ]
    },
    {
     "name": "stderr",
     "output_type": "stream",
     "text": [
      "WARNING:absl:Found untraced functions such as _update_step_xla while saving (showing 1 of 1). These functions will not be directly callable after loading.\n"
     ]
    },
    {
     "name": "stdout",
     "output_type": "stream",
     "text": [
      "\n",
      "Epoch 15: saving model to model/QAE_model8bitsmini/callbacks\\KERAS_check_model_last_weights.h5\n",
      "\n",
      "***callbacks end***\n",
      "\n",
      "235/235 [==============================] - 14s 60ms/step - loss: 0.1172 - val_loss: 0.1179 - lr: 0.0010\n",
      "Epoch 16/40\n",
      "228/235 [============================>.] - ETA: 0s - loss: 0.1172\n",
      "***callbacks***\n",
      "saving losses to model/QAE_model8bitsmini/callbacks\\losses.log\n",
      "\n",
      "Epoch 16: val_loss improved from 0.11794 to 0.11790, saving model to model/QAE_model8bitsmini/callbacks\\KERAS_check_best_model.model\n"
     ]
    },
    {
     "name": "stderr",
     "output_type": "stream",
     "text": [
      "WARNING:absl:Found untraced functions such as _update_step_xla while saving (showing 1 of 1). These functions will not be directly callable after loading.\n"
     ]
    },
    {
     "name": "stdout",
     "output_type": "stream",
     "text": [
      "\n",
      "Epoch 16: val_loss improved from 0.11794 to 0.11790, saving model to model/QAE_model8bitsmini/callbacks\\KERAS_check_best_model_weights.h5\n",
      "\n",
      "Epoch 16: saving model to model/QAE_model8bitsmini/callbacks\\KERAS_check_model_last.model\n"
     ]
    },
    {
     "name": "stderr",
     "output_type": "stream",
     "text": [
      "WARNING:absl:Found untraced functions such as _update_step_xla while saving (showing 1 of 1). These functions will not be directly callable after loading.\n"
     ]
    },
    {
     "name": "stdout",
     "output_type": "stream",
     "text": [
      "\n",
      "Epoch 16: saving model to model/QAE_model8bitsmini/callbacks\\KERAS_check_model_last_weights.h5\n",
      "\n",
      "***callbacks end***\n",
      "\n",
      "235/235 [==============================] - 13s 56ms/step - loss: 0.1172 - val_loss: 0.1179 - lr: 0.0010\n",
      "Epoch 17/40\n",
      "234/235 [============================>.] - ETA: 0s - loss: 0.1172\n",
      "***callbacks***\n",
      "saving losses to model/QAE_model8bitsmini/callbacks\\losses.log\n",
      "\n",
      "Epoch 17: val_loss did not improve from 0.11790\n",
      "\n",
      "Epoch 17: val_loss did not improve from 0.11790\n",
      "\n",
      "Epoch 17: saving model to model/QAE_model8bitsmini/callbacks\\KERAS_check_model_last.model\n"
     ]
    },
    {
     "name": "stderr",
     "output_type": "stream",
     "text": [
      "WARNING:absl:Found untraced functions such as _update_step_xla while saving (showing 1 of 1). These functions will not be directly callable after loading.\n"
     ]
    },
    {
     "name": "stdout",
     "output_type": "stream",
     "text": [
      "\n",
      "Epoch 17: saving model to model/QAE_model8bitsmini/callbacks\\KERAS_check_model_last_weights.h5\n",
      "\n",
      "***callbacks end***\n",
      "\n",
      "235/235 [==============================] - 8s 33ms/step - loss: 0.1172 - val_loss: 0.1179 - lr: 0.0010\n",
      "Epoch 18/40\n",
      "231/235 [============================>.] - ETA: 0s - loss: 0.1160\n",
      "***callbacks***\n",
      "saving losses to model/QAE_model8bitsmini/callbacks\\losses.log\n",
      "\n",
      "Epoch 18: val_loss improved from 0.11790 to 0.11390, saving model to model/QAE_model8bitsmini/callbacks\\KERAS_check_best_model.model\n"
     ]
    },
    {
     "name": "stderr",
     "output_type": "stream",
     "text": [
      "WARNING:absl:Found untraced functions such as _update_step_xla while saving (showing 1 of 1). These functions will not be directly callable after loading.\n"
     ]
    },
    {
     "name": "stdout",
     "output_type": "stream",
     "text": [
      "\n",
      "Epoch 18: val_loss improved from 0.11790 to 0.11390, saving model to model/QAE_model8bitsmini/callbacks\\KERAS_check_best_model_weights.h5\n",
      "\n",
      "Epoch 18: saving model to model/QAE_model8bitsmini/callbacks\\KERAS_check_model_last.model\n"
     ]
    },
    {
     "name": "stderr",
     "output_type": "stream",
     "text": [
      "WARNING:absl:Found untraced functions such as _update_step_xla while saving (showing 1 of 1). These functions will not be directly callable after loading.\n"
     ]
    },
    {
     "name": "stdout",
     "output_type": "stream",
     "text": [
      "\n",
      "Epoch 18: saving model to model/QAE_model8bitsmini/callbacks\\KERAS_check_model_last_weights.h5\n",
      "\n",
      "***callbacks end***\n",
      "\n",
      "235/235 [==============================] - 12s 53ms/step - loss: 0.1159 - val_loss: 0.1139 - lr: 0.0010\n",
      "Epoch 19/40\n",
      "229/235 [============================>.] - ETA: 0s - loss: 0.1082\n",
      "***callbacks***\n",
      "saving losses to model/QAE_model8bitsmini/callbacks\\losses.log\n",
      "\n",
      "Epoch 19: val_loss improved from 0.11390 to 0.10360, saving model to model/QAE_model8bitsmini/callbacks\\KERAS_check_best_model.model\n"
     ]
    },
    {
     "name": "stderr",
     "output_type": "stream",
     "text": [
      "WARNING:absl:Found untraced functions such as _update_step_xla while saving (showing 1 of 1). These functions will not be directly callable after loading.\n"
     ]
    },
    {
     "name": "stdout",
     "output_type": "stream",
     "text": [
      "\n",
      "Epoch 19: val_loss improved from 0.11390 to 0.10360, saving model to model/QAE_model8bitsmini/callbacks\\KERAS_check_best_model_weights.h5\n",
      "\n",
      "Epoch 19: saving model to model/QAE_model8bitsmini/callbacks\\KERAS_check_model_last.model\n"
     ]
    },
    {
     "name": "stderr",
     "output_type": "stream",
     "text": [
      "WARNING:absl:Found untraced functions such as _update_step_xla while saving (showing 1 of 1). These functions will not be directly callable after loading.\n"
     ]
    },
    {
     "name": "stdout",
     "output_type": "stream",
     "text": [
      "\n",
      "Epoch 19: saving model to model/QAE_model8bitsmini/callbacks\\KERAS_check_model_last_weights.h5\n",
      "\n",
      "***callbacks end***\n",
      "\n",
      "235/235 [==============================] - 16s 70ms/step - loss: 0.1082 - val_loss: 0.1036 - lr: 0.0010\n",
      "Epoch 20/40\n",
      "226/235 [===========================>..] - ETA: 0s - loss: 0.1027\n",
      "***callbacks***\n",
      "saving losses to model/QAE_model8bitsmini/callbacks\\losses.log\n",
      "\n",
      "Epoch 20: val_loss improved from 0.10360 to 0.10314, saving model to model/QAE_model8bitsmini/callbacks\\KERAS_check_best_model.model\n"
     ]
    },
    {
     "name": "stderr",
     "output_type": "stream",
     "text": [
      "WARNING:absl:Found untraced functions such as _update_step_xla while saving (showing 1 of 1). These functions will not be directly callable after loading.\n"
     ]
    },
    {
     "name": "stdout",
     "output_type": "stream",
     "text": [
      "\n",
      "Epoch 20: val_loss improved from 0.10360 to 0.10314, saving model to model/QAE_model8bitsmini/callbacks\\KERAS_check_best_model_weights.h5\n",
      "\n",
      "Epoch 20: saving model to model/QAE_model8bitsmini/callbacks\\KERAS_check_model_last.model\n"
     ]
    },
    {
     "name": "stderr",
     "output_type": "stream",
     "text": [
      "WARNING:absl:Found untraced functions such as _update_step_xla while saving (showing 1 of 1). These functions will not be directly callable after loading.\n"
     ]
    },
    {
     "name": "stdout",
     "output_type": "stream",
     "text": [
      "\n",
      "Epoch 20: saving model to model/QAE_model8bitsmini/callbacks\\KERAS_check_model_last_weights.h5\n",
      "\n",
      "Epoch 20: saving model to model/QAE_model8bitsmini/callbacks\\KERAS_check_model_epoch20.h5\n",
      "\n",
      "***callbacks end***\n",
      "\n",
      "235/235 [==============================] - 12s 52ms/step - loss: 0.1027 - val_loss: 0.1031 - lr: 0.0010\n",
      "Epoch 21/40\n",
      "232/235 [============================>.] - ETA: 0s - loss: 0.1023\n",
      "***callbacks***\n",
      "saving losses to model/QAE_model8bitsmini/callbacks\\losses.log\n",
      "\n",
      "Epoch 21: val_loss improved from 0.10314 to 0.10290, saving model to model/QAE_model8bitsmini/callbacks\\KERAS_check_best_model.model\n"
     ]
    },
    {
     "name": "stderr",
     "output_type": "stream",
     "text": [
      "WARNING:absl:Found untraced functions such as _update_step_xla while saving (showing 1 of 1). These functions will not be directly callable after loading.\n"
     ]
    },
    {
     "name": "stdout",
     "output_type": "stream",
     "text": [
      "\n",
      "Epoch 21: val_loss improved from 0.10314 to 0.10290, saving model to model/QAE_model8bitsmini/callbacks\\KERAS_check_best_model_weights.h5\n",
      "\n",
      "Epoch 21: saving model to model/QAE_model8bitsmini/callbacks\\KERAS_check_model_last.model\n"
     ]
    },
    {
     "name": "stderr",
     "output_type": "stream",
     "text": [
      "WARNING:absl:Found untraced functions such as _update_step_xla while saving (showing 1 of 1). These functions will not be directly callable after loading.\n"
     ]
    },
    {
     "name": "stdout",
     "output_type": "stream",
     "text": [
      "\n",
      "Epoch 21: saving model to model/QAE_model8bitsmini/callbacks\\KERAS_check_model_last_weights.h5\n",
      "\n",
      "***callbacks end***\n",
      "\n",
      "235/235 [==============================] - 15s 65ms/step - loss: 0.1023 - val_loss: 0.1029 - lr: 0.0010\n",
      "Epoch 22/40\n",
      "231/235 [============================>.] - ETA: 0s - loss: 0.1022\n",
      "***callbacks***\n",
      "saving losses to model/QAE_model8bitsmini/callbacks\\losses.log\n",
      "\n",
      "Epoch 22: val_loss improved from 0.10290 to 0.10277, saving model to model/QAE_model8bitsmini/callbacks\\KERAS_check_best_model.model\n"
     ]
    },
    {
     "name": "stderr",
     "output_type": "stream",
     "text": [
      "WARNING:absl:Found untraced functions such as _update_step_xla while saving (showing 1 of 1). These functions will not be directly callable after loading.\n"
     ]
    },
    {
     "name": "stdout",
     "output_type": "stream",
     "text": [
      "\n",
      "Epoch 22: val_loss improved from 0.10290 to 0.10277, saving model to model/QAE_model8bitsmini/callbacks\\KERAS_check_best_model_weights.h5\n",
      "\n",
      "Epoch 22: saving model to model/QAE_model8bitsmini/callbacks\\KERAS_check_model_last.model\n"
     ]
    },
    {
     "name": "stderr",
     "output_type": "stream",
     "text": [
      "WARNING:absl:Found untraced functions such as _update_step_xla while saving (showing 1 of 1). These functions will not be directly callable after loading.\n"
     ]
    },
    {
     "name": "stdout",
     "output_type": "stream",
     "text": [
      "\n",
      "Epoch 22: saving model to model/QAE_model8bitsmini/callbacks\\KERAS_check_model_last_weights.h5\n",
      "\n",
      "***callbacks end***\n",
      "\n",
      "235/235 [==============================] - 14s 62ms/step - loss: 0.1022 - val_loss: 0.1028 - lr: 0.0010\n",
      "Epoch 23/40\n",
      "225/235 [===========================>..] - ETA: 0s - loss: 0.1021\n",
      "***callbacks***\n",
      "saving losses to model/QAE_model8bitsmini/callbacks\\losses.log\n",
      "\n",
      "Epoch 23: val_loss improved from 0.10277 to 0.10264, saving model to model/QAE_model8bitsmini/callbacks\\KERAS_check_best_model.model\n"
     ]
    },
    {
     "name": "stderr",
     "output_type": "stream",
     "text": [
      "WARNING:absl:Found untraced functions such as _update_step_xla while saving (showing 1 of 1). These functions will not be directly callable after loading.\n"
     ]
    },
    {
     "name": "stdout",
     "output_type": "stream",
     "text": [
      "\n",
      "Epoch 23: val_loss improved from 0.10277 to 0.10264, saving model to model/QAE_model8bitsmini/callbacks\\KERAS_check_best_model_weights.h5\n",
      "\n",
      "Epoch 23: saving model to model/QAE_model8bitsmini/callbacks\\KERAS_check_model_last.model\n"
     ]
    },
    {
     "name": "stderr",
     "output_type": "stream",
     "text": [
      "WARNING:absl:Found untraced functions such as _update_step_xla while saving (showing 1 of 1). These functions will not be directly callable after loading.\n"
     ]
    },
    {
     "name": "stdout",
     "output_type": "stream",
     "text": [
      "\n",
      "Epoch 23: saving model to model/QAE_model8bitsmini/callbacks\\KERAS_check_model_last_weights.h5\n",
      "\n",
      "***callbacks end***\n",
      "\n",
      "235/235 [==============================] - 12s 53ms/step - loss: 0.1021 - val_loss: 0.1026 - lr: 0.0010\n",
      "Epoch 24/40\n",
      "226/235 [===========================>..] - ETA: 0s - loss: 0.1020\n",
      "***callbacks***\n",
      "saving losses to model/QAE_model8bitsmini/callbacks\\losses.log\n",
      "\n",
      "Epoch 24: val_loss did not improve from 0.10264\n",
      "\n",
      "Epoch 24: val_loss did not improve from 0.10264\n",
      "\n",
      "Epoch 24: saving model to model/QAE_model8bitsmini/callbacks\\KERAS_check_model_last.model\n"
     ]
    },
    {
     "name": "stderr",
     "output_type": "stream",
     "text": [
      "WARNING:absl:Found untraced functions such as _update_step_xla while saving (showing 1 of 1). These functions will not be directly callable after loading.\n"
     ]
    },
    {
     "name": "stdout",
     "output_type": "stream",
     "text": [
      "\n",
      "Epoch 24: saving model to model/QAE_model8bitsmini/callbacks\\KERAS_check_model_last_weights.h5\n",
      "\n",
      "***callbacks end***\n",
      "\n",
      "235/235 [==============================] - 8s 35ms/step - loss: 0.1020 - val_loss: 0.1027 - lr: 0.0010\n",
      "Epoch 25/40\n",
      "226/235 [===========================>..] - ETA: 0s - loss: 0.1019\n",
      "***callbacks***\n",
      "saving losses to model/QAE_model8bitsmini/callbacks\\losses.log\n",
      "\n",
      "Epoch 25: val_loss improved from 0.10264 to 0.10249, saving model to model/QAE_model8bitsmini/callbacks\\KERAS_check_best_model.model\n"
     ]
    },
    {
     "name": "stderr",
     "output_type": "stream",
     "text": [
      "WARNING:absl:Found untraced functions such as _update_step_xla while saving (showing 1 of 1). These functions will not be directly callable after loading.\n"
     ]
    },
    {
     "name": "stdout",
     "output_type": "stream",
     "text": [
      "\n",
      "Epoch 25: val_loss improved from 0.10264 to 0.10249, saving model to model/QAE_model8bitsmini/callbacks\\KERAS_check_best_model_weights.h5\n",
      "\n",
      "Epoch 25: saving model to model/QAE_model8bitsmini/callbacks\\KERAS_check_model_last.model\n"
     ]
    },
    {
     "name": "stderr",
     "output_type": "stream",
     "text": [
      "WARNING:absl:Found untraced functions such as _update_step_xla while saving (showing 1 of 1). These functions will not be directly callable after loading.\n"
     ]
    },
    {
     "name": "stdout",
     "output_type": "stream",
     "text": [
      "\n",
      "Epoch 25: saving model to model/QAE_model8bitsmini/callbacks\\KERAS_check_model_last_weights.h5\n",
      "\n",
      "***callbacks end***\n",
      "\n",
      "235/235 [==============================] - 22s 93ms/step - loss: 0.1019 - val_loss: 0.1025 - lr: 0.0010\n",
      "Epoch 26/40\n",
      "225/235 [===========================>..] - ETA: 0s - loss: 0.1018\n",
      "***callbacks***\n",
      "saving losses to model/QAE_model8bitsmini/callbacks\\losses.log\n",
      "\n",
      "Epoch 26: val_loss improved from 0.10249 to 0.10233, saving model to model/QAE_model8bitsmini/callbacks\\KERAS_check_best_model.model\n"
     ]
    },
    {
     "name": "stderr",
     "output_type": "stream",
     "text": [
      "WARNING:absl:Found untraced functions such as _update_step_xla while saving (showing 1 of 1). These functions will not be directly callable after loading.\n"
     ]
    },
    {
     "name": "stdout",
     "output_type": "stream",
     "text": [
      "\n",
      "Epoch 26: val_loss improved from 0.10249 to 0.10233, saving model to model/QAE_model8bitsmini/callbacks\\KERAS_check_best_model_weights.h5\n",
      "\n",
      "Epoch 26: saving model to model/QAE_model8bitsmini/callbacks\\KERAS_check_model_last.model\n"
     ]
    },
    {
     "name": "stderr",
     "output_type": "stream",
     "text": [
      "WARNING:absl:Found untraced functions such as _update_step_xla while saving (showing 1 of 1). These functions will not be directly callable after loading.\n"
     ]
    },
    {
     "name": "stdout",
     "output_type": "stream",
     "text": [
      "\n",
      "Epoch 26: saving model to model/QAE_model8bitsmini/callbacks\\KERAS_check_model_last_weights.h5\n",
      "\n",
      "***callbacks end***\n",
      "\n",
      "235/235 [==============================] - 17s 72ms/step - loss: 0.1018 - val_loss: 0.1023 - lr: 0.0010\n",
      "Epoch 27/40\n",
      "230/235 [============================>.] - ETA: 0s - loss: 0.1017\n",
      "***callbacks***\n",
      "saving losses to model/QAE_model8bitsmini/callbacks\\losses.log\n",
      "\n",
      "Epoch 27: val_loss improved from 0.10233 to 0.10229, saving model to model/QAE_model8bitsmini/callbacks\\KERAS_check_best_model.model\n"
     ]
    },
    {
     "name": "stderr",
     "output_type": "stream",
     "text": [
      "WARNING:absl:Found untraced functions such as _update_step_xla while saving (showing 1 of 1). These functions will not be directly callable after loading.\n"
     ]
    },
    {
     "name": "stdout",
     "output_type": "stream",
     "text": [
      "\n",
      "Epoch 27: val_loss improved from 0.10233 to 0.10229, saving model to model/QAE_model8bitsmini/callbacks\\KERAS_check_best_model_weights.h5\n",
      "\n",
      "Epoch 27: saving model to model/QAE_model8bitsmini/callbacks\\KERAS_check_model_last.model\n"
     ]
    },
    {
     "name": "stderr",
     "output_type": "stream",
     "text": [
      "WARNING:absl:Found untraced functions such as _update_step_xla while saving (showing 1 of 1). These functions will not be directly callable after loading.\n"
     ]
    },
    {
     "name": "stdout",
     "output_type": "stream",
     "text": [
      "\n",
      "Epoch 27: saving model to model/QAE_model8bitsmini/callbacks\\KERAS_check_model_last_weights.h5\n",
      "\n",
      "***callbacks end***\n",
      "\n",
      "235/235 [==============================] - 14s 60ms/step - loss: 0.1017 - val_loss: 0.1023 - lr: 0.0010\n",
      "Epoch 28/40\n",
      "225/235 [===========================>..] - ETA: 0s - loss: 0.1015\n",
      "***callbacks***\n",
      "saving losses to model/QAE_model8bitsmini/callbacks\\losses.log\n",
      "\n",
      "Epoch 28: val_loss improved from 0.10229 to 0.10217, saving model to model/QAE_model8bitsmini/callbacks\\KERAS_check_best_model.model\n"
     ]
    },
    {
     "name": "stderr",
     "output_type": "stream",
     "text": [
      "WARNING:absl:Found untraced functions such as _update_step_xla while saving (showing 1 of 1). These functions will not be directly callable after loading.\n"
     ]
    },
    {
     "name": "stdout",
     "output_type": "stream",
     "text": [
      "\n",
      "Epoch 28: val_loss improved from 0.10229 to 0.10217, saving model to model/QAE_model8bitsmini/callbacks\\KERAS_check_best_model_weights.h5\n",
      "\n",
      "Epoch 28: saving model to model/QAE_model8bitsmini/callbacks\\KERAS_check_model_last.model\n"
     ]
    },
    {
     "name": "stderr",
     "output_type": "stream",
     "text": [
      "WARNING:absl:Found untraced functions such as _update_step_xla while saving (showing 1 of 1). These functions will not be directly callable after loading.\n"
     ]
    },
    {
     "name": "stdout",
     "output_type": "stream",
     "text": [
      "\n",
      "Epoch 28: saving model to model/QAE_model8bitsmini/callbacks\\KERAS_check_model_last_weights.h5\n",
      "\n",
      "***callbacks end***\n",
      "\n",
      "235/235 [==============================] - 12s 52ms/step - loss: 0.1015 - val_loss: 0.1022 - lr: 0.0010\n",
      "Epoch 29/40\n",
      "235/235 [==============================] - ETA: 0s - loss: 0.1014\n",
      "***callbacks***\n",
      "saving losses to model/QAE_model8bitsmini/callbacks\\losses.log\n",
      "\n",
      "Epoch 29: val_loss improved from 0.10217 to 0.10204, saving model to model/QAE_model8bitsmini/callbacks\\KERAS_check_best_model.model\n"
     ]
    },
    {
     "name": "stderr",
     "output_type": "stream",
     "text": [
      "WARNING:absl:Found untraced functions such as _update_step_xla while saving (showing 1 of 1). These functions will not be directly callable after loading.\n"
     ]
    },
    {
     "name": "stdout",
     "output_type": "stream",
     "text": [
      "\n",
      "Epoch 29: val_loss improved from 0.10217 to 0.10204, saving model to model/QAE_model8bitsmini/callbacks\\KERAS_check_best_model_weights.h5\n",
      "\n",
      "Epoch 29: saving model to model/QAE_model8bitsmini/callbacks\\KERAS_check_model_last.model\n"
     ]
    },
    {
     "name": "stderr",
     "output_type": "stream",
     "text": [
      "WARNING:absl:Found untraced functions such as _update_step_xla while saving (showing 1 of 1). These functions will not be directly callable after loading.\n"
     ]
    },
    {
     "name": "stdout",
     "output_type": "stream",
     "text": [
      "\n",
      "Epoch 29: saving model to model/QAE_model8bitsmini/callbacks\\KERAS_check_model_last_weights.h5\n",
      "\n",
      "***callbacks end***\n",
      "\n",
      "235/235 [==============================] - 14s 61ms/step - loss: 0.1014 - val_loss: 0.1020 - lr: 0.0010\n",
      "Epoch 30/40\n",
      "228/235 [============================>.] - ETA: 0s - loss: 0.1013\n",
      "***callbacks***\n",
      "saving losses to model/QAE_model8bitsmini/callbacks\\losses.log\n",
      "\n",
      "Epoch 30: val_loss improved from 0.10204 to 0.10191, saving model to model/QAE_model8bitsmini/callbacks\\KERAS_check_best_model.model\n"
     ]
    },
    {
     "name": "stderr",
     "output_type": "stream",
     "text": [
      "WARNING:absl:Found untraced functions such as _update_step_xla while saving (showing 1 of 1). These functions will not be directly callable after loading.\n"
     ]
    },
    {
     "name": "stdout",
     "output_type": "stream",
     "text": [
      "\n",
      "Epoch 30: val_loss improved from 0.10204 to 0.10191, saving model to model/QAE_model8bitsmini/callbacks\\KERAS_check_best_model_weights.h5\n",
      "\n",
      "Epoch 30: saving model to model/QAE_model8bitsmini/callbacks\\KERAS_check_model_last.model\n"
     ]
    },
    {
     "name": "stderr",
     "output_type": "stream",
     "text": [
      "WARNING:absl:Found untraced functions such as _update_step_xla while saving (showing 1 of 1). These functions will not be directly callable after loading.\n"
     ]
    },
    {
     "name": "stdout",
     "output_type": "stream",
     "text": [
      "\n",
      "Epoch 30: saving model to model/QAE_model8bitsmini/callbacks\\KERAS_check_model_last_weights.h5\n",
      "\n",
      "Epoch 30: saving model to model/QAE_model8bitsmini/callbacks\\KERAS_check_model_epoch30.h5\n",
      "\n",
      "***callbacks end***\n",
      "\n",
      "235/235 [==============================] - 16s 67ms/step - loss: 0.1013 - val_loss: 0.1019 - lr: 0.0010\n",
      "Epoch 31/40\n",
      "234/235 [============================>.] - ETA: 0s - loss: 0.1012\n",
      "***callbacks***\n",
      "saving losses to model/QAE_model8bitsmini/callbacks\\losses.log\n",
      "\n",
      "Epoch 31: val_loss improved from 0.10191 to 0.10182, saving model to model/QAE_model8bitsmini/callbacks\\KERAS_check_best_model.model\n"
     ]
    },
    {
     "name": "stderr",
     "output_type": "stream",
     "text": [
      "WARNING:absl:Found untraced functions such as _update_step_xla while saving (showing 1 of 1). These functions will not be directly callable after loading.\n"
     ]
    },
    {
     "name": "stdout",
     "output_type": "stream",
     "text": [
      "\n",
      "Epoch 31: val_loss improved from 0.10191 to 0.10182, saving model to model/QAE_model8bitsmini/callbacks\\KERAS_check_best_model_weights.h5\n",
      "\n",
      "Epoch 31: saving model to model/QAE_model8bitsmini/callbacks\\KERAS_check_model_last.model\n"
     ]
    },
    {
     "name": "stderr",
     "output_type": "stream",
     "text": [
      "WARNING:absl:Found untraced functions such as _update_step_xla while saving (showing 1 of 1). These functions will not be directly callable after loading.\n"
     ]
    },
    {
     "name": "stdout",
     "output_type": "stream",
     "text": [
      "\n",
      "Epoch 31: saving model to model/QAE_model8bitsmini/callbacks\\KERAS_check_model_last_weights.h5\n",
      "\n",
      "***callbacks end***\n",
      "\n",
      "235/235 [==============================] - 19s 79ms/step - loss: 0.1012 - val_loss: 0.1018 - lr: 0.0010\n",
      "Epoch 32/40\n",
      "228/235 [============================>.] - ETA: 0s - loss: 0.1011\n",
      "***callbacks***\n",
      "saving losses to model/QAE_model8bitsmini/callbacks\\losses.log\n",
      "\n",
      "Epoch 32: val_loss improved from 0.10182 to 0.10174, saving model to model/QAE_model8bitsmini/callbacks\\KERAS_check_best_model.model\n"
     ]
    },
    {
     "name": "stderr",
     "output_type": "stream",
     "text": [
      "WARNING:absl:Found untraced functions such as _update_step_xla while saving (showing 1 of 1). These functions will not be directly callable after loading.\n"
     ]
    },
    {
     "name": "stdout",
     "output_type": "stream",
     "text": [
      "\n",
      "Epoch 32: val_loss improved from 0.10182 to 0.10174, saving model to model/QAE_model8bitsmini/callbacks\\KERAS_check_best_model_weights.h5\n",
      "\n",
      "Epoch 32: saving model to model/QAE_model8bitsmini/callbacks\\KERAS_check_model_last.model\n"
     ]
    },
    {
     "name": "stderr",
     "output_type": "stream",
     "text": [
      "WARNING:absl:Found untraced functions such as _update_step_xla while saving (showing 1 of 1). These functions will not be directly callable after loading.\n"
     ]
    },
    {
     "name": "stdout",
     "output_type": "stream",
     "text": [
      "\n",
      "Epoch 32: saving model to model/QAE_model8bitsmini/callbacks\\KERAS_check_model_last_weights.h5\n",
      "\n",
      "***callbacks end***\n",
      "\n",
      "235/235 [==============================] - 24s 104ms/step - loss: 0.1011 - val_loss: 0.1017 - lr: 0.0010\n",
      "Epoch 33/40\n",
      "235/235 [==============================] - ETA: 0s - loss: 0.1011\n",
      "***callbacks***\n",
      "saving losses to model/QAE_model8bitsmini/callbacks\\losses.log\n",
      "\n",
      "Epoch 33: val_loss improved from 0.10174 to 0.10165, saving model to model/QAE_model8bitsmini/callbacks\\KERAS_check_best_model.model\n"
     ]
    },
    {
     "name": "stderr",
     "output_type": "stream",
     "text": [
      "WARNING:absl:Found untraced functions such as _update_step_xla while saving (showing 1 of 1). These functions will not be directly callable after loading.\n"
     ]
    },
    {
     "name": "stdout",
     "output_type": "stream",
     "text": [
      "\n",
      "Epoch 33: val_loss improved from 0.10174 to 0.10165, saving model to model/QAE_model8bitsmini/callbacks\\KERAS_check_best_model_weights.h5\n",
      "\n",
      "Epoch 33: saving model to model/QAE_model8bitsmini/callbacks\\KERAS_check_model_last.model\n"
     ]
    },
    {
     "name": "stderr",
     "output_type": "stream",
     "text": [
      "WARNING:absl:Found untraced functions such as _update_step_xla while saving (showing 1 of 1). These functions will not be directly callable after loading.\n"
     ]
    },
    {
     "name": "stdout",
     "output_type": "stream",
     "text": [
      "\n",
      "Epoch 33: saving model to model/QAE_model8bitsmini/callbacks\\KERAS_check_model_last_weights.h5\n",
      "\n",
      "***callbacks end***\n",
      "\n",
      "235/235 [==============================] - 15s 66ms/step - loss: 0.1011 - val_loss: 0.1017 - lr: 0.0010\n",
      "Epoch 34/40\n",
      "233/235 [============================>.] - ETA: 0s - loss: 0.1010\n",
      "***callbacks***\n",
      "saving losses to model/QAE_model8bitsmini/callbacks\\losses.log\n",
      "\n",
      "Epoch 34: val_loss improved from 0.10165 to 0.10158, saving model to model/QAE_model8bitsmini/callbacks\\KERAS_check_best_model.model\n"
     ]
    },
    {
     "name": "stderr",
     "output_type": "stream",
     "text": [
      "WARNING:absl:Found untraced functions such as _update_step_xla while saving (showing 1 of 1). These functions will not be directly callable after loading.\n"
     ]
    },
    {
     "name": "stdout",
     "output_type": "stream",
     "text": [
      "\n",
      "Epoch 34: val_loss improved from 0.10165 to 0.10158, saving model to model/QAE_model8bitsmini/callbacks\\KERAS_check_best_model_weights.h5\n",
      "\n",
      "Epoch 34: saving model to model/QAE_model8bitsmini/callbacks\\KERAS_check_model_last.model\n"
     ]
    },
    {
     "name": "stderr",
     "output_type": "stream",
     "text": [
      "WARNING:absl:Found untraced functions such as _update_step_xla while saving (showing 1 of 1). These functions will not be directly callable after loading.\n"
     ]
    },
    {
     "name": "stdout",
     "output_type": "stream",
     "text": [
      "\n",
      "Epoch 34: saving model to model/QAE_model8bitsmini/callbacks\\KERAS_check_model_last_weights.h5\n",
      "\n",
      "***callbacks end***\n",
      "\n",
      "235/235 [==============================] - 13s 58ms/step - loss: 0.1010 - val_loss: 0.1016 - lr: 0.0010\n",
      "Epoch 35/40\n",
      "234/235 [============================>.] - ETA: 0s - loss: 0.1009\n",
      "***callbacks***\n",
      "saving losses to model/QAE_model8bitsmini/callbacks\\losses.log\n",
      "\n",
      "Epoch 35: val_loss improved from 0.10158 to 0.10148, saving model to model/QAE_model8bitsmini/callbacks\\KERAS_check_best_model.model\n"
     ]
    },
    {
     "name": "stderr",
     "output_type": "stream",
     "text": [
      "WARNING:absl:Found untraced functions such as _update_step_xla while saving (showing 1 of 1). These functions will not be directly callable after loading.\n"
     ]
    },
    {
     "name": "stdout",
     "output_type": "stream",
     "text": [
      "\n",
      "Epoch 35: val_loss improved from 0.10158 to 0.10148, saving model to model/QAE_model8bitsmini/callbacks\\KERAS_check_best_model_weights.h5\n",
      "\n",
      "Epoch 35: saving model to model/QAE_model8bitsmini/callbacks\\KERAS_check_model_last.model\n"
     ]
    },
    {
     "name": "stderr",
     "output_type": "stream",
     "text": [
      "WARNING:absl:Found untraced functions such as _update_step_xla while saving (showing 1 of 1). These functions will not be directly callable after loading.\n"
     ]
    },
    {
     "name": "stdout",
     "output_type": "stream",
     "text": [
      "\n",
      "Epoch 35: saving model to model/QAE_model8bitsmini/callbacks\\KERAS_check_model_last_weights.h5\n",
      "\n",
      "***callbacks end***\n",
      "\n",
      "235/235 [==============================] - 14s 61ms/step - loss: 0.1009 - val_loss: 0.1015 - lr: 0.0010\n",
      "Epoch 36/40\n",
      "229/235 [============================>.] - ETA: 0s - loss: 0.1008\n",
      "***callbacks***\n",
      "saving losses to model/QAE_model8bitsmini/callbacks\\losses.log\n",
      "\n",
      "Epoch 36: val_loss did not improve from 0.10148\n",
      "\n",
      "Epoch 36: val_loss did not improve from 0.10148\n",
      "\n",
      "Epoch 36: saving model to model/QAE_model8bitsmini/callbacks\\KERAS_check_model_last.model\n"
     ]
    },
    {
     "name": "stderr",
     "output_type": "stream",
     "text": [
      "WARNING:absl:Found untraced functions such as _update_step_xla while saving (showing 1 of 1). These functions will not be directly callable after loading.\n"
     ]
    },
    {
     "name": "stdout",
     "output_type": "stream",
     "text": [
      "\n",
      "Epoch 36: saving model to model/QAE_model8bitsmini/callbacks\\KERAS_check_model_last_weights.h5\n",
      "\n",
      "***callbacks end***\n",
      "\n",
      "235/235 [==============================] - 7s 32ms/step - loss: 0.1008 - val_loss: 0.1016 - lr: 0.0010\n",
      "Epoch 37/40\n",
      "233/235 [============================>.] - ETA: 0s - loss: 0.1008\n",
      "***callbacks***\n",
      "saving losses to model/QAE_model8bitsmini/callbacks\\losses.log\n",
      "\n",
      "Epoch 37: val_loss improved from 0.10148 to 0.10135, saving model to model/QAE_model8bitsmini/callbacks\\KERAS_check_best_model.model\n"
     ]
    },
    {
     "name": "stderr",
     "output_type": "stream",
     "text": [
      "WARNING:absl:Found untraced functions such as _update_step_xla while saving (showing 1 of 1). These functions will not be directly callable after loading.\n"
     ]
    },
    {
     "name": "stdout",
     "output_type": "stream",
     "text": [
      "\n",
      "Epoch 37: val_loss improved from 0.10148 to 0.10135, saving model to model/QAE_model8bitsmini/callbacks\\KERAS_check_best_model_weights.h5\n",
      "\n",
      "Epoch 37: saving model to model/QAE_model8bitsmini/callbacks\\KERAS_check_model_last.model\n"
     ]
    },
    {
     "name": "stderr",
     "output_type": "stream",
     "text": [
      "WARNING:absl:Found untraced functions such as _update_step_xla while saving (showing 1 of 1). These functions will not be directly callable after loading.\n"
     ]
    },
    {
     "name": "stdout",
     "output_type": "stream",
     "text": [
      "\n",
      "Epoch 37: saving model to model/QAE_model8bitsmini/callbacks\\KERAS_check_model_last_weights.h5\n",
      "\n",
      "***callbacks end***\n",
      "\n",
      "235/235 [==============================] - 14s 61ms/step - loss: 0.1008 - val_loss: 0.1014 - lr: 0.0010\n",
      "Epoch 38/40\n",
      "234/235 [============================>.] - ETA: 0s - loss: 0.1007\n",
      "***callbacks***\n",
      "saving losses to model/QAE_model8bitsmini/callbacks\\losses.log\n",
      "\n",
      "Epoch 38: val_loss improved from 0.10135 to 0.10134, saving model to model/QAE_model8bitsmini/callbacks\\KERAS_check_best_model.model\n"
     ]
    },
    {
     "name": "stderr",
     "output_type": "stream",
     "text": [
      "WARNING:absl:Found untraced functions such as _update_step_xla while saving (showing 1 of 1). These functions will not be directly callable after loading.\n"
     ]
    },
    {
     "name": "stdout",
     "output_type": "stream",
     "text": [
      "\n",
      "Epoch 38: val_loss improved from 0.10135 to 0.10134, saving model to model/QAE_model8bitsmini/callbacks\\KERAS_check_best_model_weights.h5\n",
      "\n",
      "Epoch 38: saving model to model/QAE_model8bitsmini/callbacks\\KERAS_check_model_last.model\n"
     ]
    },
    {
     "name": "stderr",
     "output_type": "stream",
     "text": [
      "WARNING:absl:Found untraced functions such as _update_step_xla while saving (showing 1 of 1). These functions will not be directly callable after loading.\n"
     ]
    },
    {
     "name": "stdout",
     "output_type": "stream",
     "text": [
      "\n",
      "Epoch 38: saving model to model/QAE_model8bitsmini/callbacks\\KERAS_check_model_last_weights.h5\n",
      "\n",
      "***callbacks end***\n",
      "\n",
      "235/235 [==============================] - 13s 56ms/step - loss: 0.1007 - val_loss: 0.1013 - lr: 0.0010\n",
      "Epoch 39/40\n",
      "230/235 [============================>.] - ETA: 0s - loss: 0.1007\n",
      "***callbacks***\n",
      "saving losses to model/QAE_model8bitsmini/callbacks\\losses.log\n",
      "\n",
      "Epoch 39: val_loss did not improve from 0.10134\n",
      "\n",
      "Epoch 39: val_loss did not improve from 0.10134\n",
      "\n",
      "Epoch 39: saving model to model/QAE_model8bitsmini/callbacks\\KERAS_check_model_last.model\n"
     ]
    },
    {
     "name": "stderr",
     "output_type": "stream",
     "text": [
      "WARNING:absl:Found untraced functions such as _update_step_xla while saving (showing 1 of 1). These functions will not be directly callable after loading.\n"
     ]
    },
    {
     "name": "stdout",
     "output_type": "stream",
     "text": [
      "\n",
      "Epoch 39: saving model to model/QAE_model8bitsmini/callbacks\\KERAS_check_model_last_weights.h5\n",
      "\n",
      "***callbacks end***\n",
      "\n",
      "235/235 [==============================] - 7s 30ms/step - loss: 0.1007 - val_loss: 0.1014 - lr: 0.0010\n",
      "Epoch 40/40\n",
      "234/235 [============================>.] - ETA: 0s - loss: 0.1006\n",
      "***callbacks***\n",
      "saving losses to model/QAE_model8bitsmini/callbacks\\losses.log\n",
      "\n",
      "Epoch 40: val_loss improved from 0.10134 to 0.10130, saving model to model/QAE_model8bitsmini/callbacks\\KERAS_check_best_model.model\n"
     ]
    },
    {
     "name": "stderr",
     "output_type": "stream",
     "text": [
      "WARNING:absl:Found untraced functions such as _update_step_xla while saving (showing 1 of 1). These functions will not be directly callable after loading.\n"
     ]
    },
    {
     "name": "stdout",
     "output_type": "stream",
     "text": [
      "\n",
      "Epoch 40: val_loss improved from 0.10134 to 0.10130, saving model to model/QAE_model8bitsmini/callbacks\\KERAS_check_best_model_weights.h5\n",
      "\n",
      "Epoch 40: saving model to model/QAE_model8bitsmini/callbacks\\KERAS_check_model_last.model\n"
     ]
    },
    {
     "name": "stderr",
     "output_type": "stream",
     "text": [
      "WARNING:absl:Found untraced functions such as _update_step_xla while saving (showing 1 of 1). These functions will not be directly callable after loading.\n"
     ]
    },
    {
     "name": "stdout",
     "output_type": "stream",
     "text": [
      "\n",
      "Epoch 40: saving model to model/QAE_model8bitsmini/callbacks\\KERAS_check_model_last_weights.h5\n",
      "\n",
      "Epoch 40: saving model to model/QAE_model8bitsmini/callbacks\\KERAS_check_model_epoch40.h5\n",
      "\n",
      "***callbacks end***\n",
      "\n",
      "235/235 [==============================] - 14s 62ms/step - loss: 0.1006 - val_loss: 0.1013 - lr: 0.0010\n"
     ]
    }
   ],
   "source": [
    "network = QAutoencoder(data_zoom, pruned=False, BIT_WIDTH = BIT_WIDTH)\n",
    "network.build_encoder()\n",
    "network.build_decoder()\n",
    "network.build_autoencoder()\n",
    "network.fit_data(epochs=40)"
   ]
  },
  {
   "cell_type": "code",
   "execution_count": 16,
   "metadata": {},
   "outputs": [
    {
     "name": "stdout",
     "output_type": "stream",
     "text": [
      "313/313 [==============================] - 1s 3ms/step\n"
     ]
    },
    {
     "data": {
      "image/png": "[encoded data removed]",
      "text/plain": [
       "<Figure size 1000x1000 with 2 Axes>"
      ]
     },
     "metadata": {},
     "output_type": "display_data"
    }
   ],
   "source": [
    "network.plot_latent_dimension(\"QAutoencoder without classifier\")"
   ]
  },
  {
   "cell_type": "code",
   "execution_count": 12,
   "metadata": {},
   "outputs": [
    {
     "name": "stdout",
     "output_type": "stream",
     "text": [
      "313/313 [==============================] - 2s 3ms/step\n"
     ]
    },
    {
     "data": {
      "image/png": "[encoded data removed]",
      "text/plain": [
       "<Figure size 1000x300 with 12 Axes>"
      ]
     },
     "metadata": {},
     "output_type": "display_data"
    }
   ],
   "source": [
    "network.plot_reco(model_name=\" complete\")\n"
   ]
  },
  {
   "cell_type": "code",
   "execution_count": 13,
   "metadata": {},
   "outputs": [
    {
     "data": {
      "image/png": "[encoded data removed]",
      "text/plain": [
       "<Figure size 640x480 with 1 Axes>"
      ]
     },
     "metadata": {},
     "output_type": "display_data"
    }
   ],
   "source": [
    "network.plot_score(use_latent_classifier=False, model_name=\"Autoencoder without classifier\")\n"
   ]
  },
  {
   "cell_type": "code",
   "execution_count": 17,
   "metadata": {},
   "outputs": [
    {
     "name": "stdout",
     "output_type": "stream",
     "text": [
      "Layer  1  Weight [0] [[-3.60624446e-03 -6.21683858e-02 -9.55021847e-03  1.51175195e-02]\n",
      " [-3.36159989e-02  7.18138739e-02  1.42083252e-02 -2.69411243e-02]\n",
      " [-3.54809947e-02  2.53938921e-02  2.10760776e-02 -4.09176946e-02]\n",
      " [-3.40237506e-02 -3.82217159e-03  2.56306492e-02 -1.05604269e-02]\n",
      " [ 4.37830435e-03 -2.72250324e-02  4.30123210e-02 -8.23423713e-02]\n",
      " [-5.36720315e-03  4.08342034e-02  1.16857262e-02 -2.77189091e-02]\n",
      " [ 1.17531111e-02  4.33453545e-03  1.05372407e-02  8.65417253e-03]\n",
      " [ 1.20755415e-02  1.26268966e-02 -5.61120396e-04  8.18397664e-03]\n",
      " [ 2.60990597e-02  1.67321712e-02  3.74282268e-03  3.89098786e-02]\n",
      " [-5.52171953e-02 -1.44801037e-02  4.50744107e-03 -9.89803392e-03]\n",
      " [-2.10415006e-01  1.65257156e-02  3.52519043e-02  3.96730378e-02]\n",
      " [-2.49254316e-01  1.52983284e-02  5.85814789e-02  4.03983928e-02]\n",
      " [-2.55211126e-02 -9.65841189e-02  3.52665596e-02 -7.08308667e-02]\n",
      " [-7.17596710e-02  3.92748825e-02  6.64258972e-02 -9.77957472e-02]\n",
      " [-9.49838534e-02 -5.09956144e-02  3.55759449e-02  2.86305379e-02]\n",
      " [-3.29541676e-02  2.29318254e-02  5.12024481e-03  3.90020274e-02]\n",
      " [ 1.36433532e-02  7.58333355e-02  2.04073563e-02 -1.52545059e-02]\n",
      " [-1.05398707e-01  1.01842536e-02  1.92045104e-02 -9.50344466e-03]\n",
      " [ 1.43591007e-02 -3.39648016e-02 -1.06769456e-02  1.65837612e-02]\n",
      " [-1.64600015e-01  2.04235986e-02  2.20804848e-03  1.53619438e-01]\n",
      " [ 2.16341496e-01  5.76861911e-02  1.18875355e-02 -1.95990816e-01]\n",
      " [-3.41859087e-02  8.09923559e-02 -2.00536996e-02  1.30682394e-01]\n",
      " [-1.81405723e-01 -2.19901791e-04  5.14400005e-02  4.82733734e-02]\n",
      " [-2.75663137e-02  1.09785823e-02  3.26783694e-02 -2.37761289e-02]\n",
      " [ 2.24510990e-02 -1.08853905e-02 -4.87981969e-03  1.39500191e-02]\n",
      " [-1.81244522e-01 -1.40895378e-02  5.77791259e-02 -7.77859762e-02]\n",
      " [-2.68619865e-01  3.72296683e-02  5.79978079e-02  2.03587431e-02]\n",
      " [-8.27350467e-02 -2.64886022e-02  2.72921240e-03  6.40746951e-02]\n",
      " [ 4.02929448e-03  5.78249060e-02  1.16323857e-02 -1.47944111e-02]\n",
      " [-1.80914477e-01 -3.03482842e-02 -2.18691733e-02  1.44140065e-01]\n",
      " [-2.56924003e-01 -3.33935097e-02  9.10121873e-02 -2.14480370e-01]\n",
      " [-1.04027232e-02  1.97845395e-03  5.44823892e-03 -1.46207456e-02]\n",
      " [-2.61475071e-02  5.08744791e-02  3.01505830e-02 -6.09819293e-02]\n",
      " [-1.73546582e-01  2.31381468e-02  9.77210104e-02 -1.44838199e-01]\n",
      " [-2.14750275e-01 -1.43645676e-02  1.49295023e-02  8.99690017e-02]\n",
      " [ 4.55946811e-02  3.14649418e-02 -4.37080748e-02  8.94477665e-02]\n",
      " [ 1.80972934e-01  1.96701422e-01 -3.53060961e-02  6.71292171e-02]\n",
      " [-2.27534115e-01 -9.98785254e-03 -4.14518267e-03  1.80948943e-01]\n",
      " [-1.70414329e-01 -1.06575884e-01  1.13743730e-01 -1.33069098e-01]\n",
      " [-2.52705929e-03 -2.35258136e-02  6.06436282e-02  3.69328377e-03]\n",
      " [-2.86263432e-02  5.12610376e-03  2.58887131e-02 -5.31646647e-02]\n",
      " [-1.70645509e-02  1.41883101e-02  4.02948214e-03 -1.37382420e-02]\n",
      " [ 3.26090716e-02 -1.14616891e-02 -3.99059104e-03  3.66182365e-02]\n",
      " [ 2.06483468e-01  1.96132362e-02 -3.88856325e-03 -1.45622790e-01]\n",
      " [ 1.75818801e-02 -1.99020766e-02 -3.98948509e-03  2.19279956e-02]\n",
      " [-2.66840458e-01 -1.94384065e-02  1.25530213e-02  1.55918717e-01]\n",
      " [-2.00870648e-01 -4.96352464e-02  1.36608019e-01 -1.69828519e-01]\n",
      " [-1.47222765e-02 -3.13950293e-02  3.18449475e-02 -4.40946873e-03]\n",
      " [-2.17535067e-02 -1.52085954e-03  2.86146213e-04 -4.81615439e-02]\n",
      " [-2.32542396e-01 -6.02298267e-02  8.57260376e-02 -1.88879818e-01]\n",
      " [-1.12591684e-01 -5.99998347e-02  5.11179306e-02 -5.85201047e-02]\n",
      " [ 7.92515948e-02  8.10323730e-02  5.06167635e-02 -1.51388243e-01]\n",
      " [-1.48995548e-01  2.31819600e-02  2.72023901e-02  7.64361396e-02]\n",
      " [-2.92369992e-01 -6.81198835e-02  6.66819364e-02 -3.70845734e-03]\n",
      " [-1.60415217e-01 -6.28556162e-02  5.03184497e-02 -1.51321754e-01]\n",
      " [ 3.07461917e-02 -6.39621317e-02 -1.39752366e-02  3.56680974e-02]\n",
      " [-8.88369828e-02  1.16988355e-02  4.47355490e-03 -9.92556214e-02]\n",
      " [-2.02690810e-02 -6.18158653e-03  1.76765230e-02  9.09287669e-03]\n",
      " [-5.05173318e-02  1.76626481e-02  5.08830249e-02 -1.08294465e-01]\n",
      " [-5.19359931e-02 -8.46244916e-02  2.72173453e-02 -1.05779774e-01]\n",
      " [-8.49080905e-02  1.03240125e-01  4.08458225e-02  3.17021422e-02]\n",
      " [ 1.01452488e-02 -2.56956089e-04 -3.89241544e-03  1.11149799e-03]\n",
      " [-7.14831203e-02  3.68110649e-02  1.03822695e-02 -1.86027475e-02]\n",
      " [-5.41211478e-02  8.62133317e-03 -6.28157798e-03 -8.64346176e-02]]  shape  (64, 4)\n",
      "Layer  1  Weight [1] [ 0.8514012   0.2557312  -0.03521017  0.7215913 ]  shape  (4,)\n",
      "Layer  3  Weight [0] [[-0.0693689  -1.         -0.5676453 ]\n",
      " [-0.02762741 -0.15021983  0.0579003 ]\n",
      " [-0.83185434  0.5451656   0.01335752]\n",
      " [-0.8181536  -0.3990584   0.63664186]]  shape  (4, 3)\n",
      "Layer  3  Weight [1] [0.         0.3789903  0.34564462]  shape  (3,)\n",
      "Layer  5  Weight [0] [[ 0.37090516 -0.15091813]\n",
      " [ 0.91121835  0.14682542]\n",
      " [ 0.5816375  -0.70368123]]  shape  (3, 2)\n",
      "Layer  5  Weight [1] [-0.00061692 -0.07785293]  shape  (2,)\n",
      "Layer  6  Weight [0] [[-0.5588751   0.9646799  -0.75801456]\n",
      " [ 0.52364004 -0.93797964 -0.9498341 ]]  shape  (2, 3)\n",
      "Layer  6  Weight [1] [0.         0.00333892 0.        ]  shape  (3,)\n",
      "Layer  8  Weight [0] [[ 0.38286734 -0.66672444 -0.92943025 -0.6529739 ]\n",
      " [ 0.95242125  1.         -0.00886226  0.75460505]\n",
      " [ 0.90953493  0.75394154 -0.29992104 -0.48948216]]  shape  (3, 4)\n",
      "Layer  8  Weight [1] [ 0.01476822 -0.55425817  0.          0.01216064]  shape  (4,)\n",
      "Layer  10  Weight [0] [[-2.78049886e-01  5.26552439e-01 -5.50421894e-01  5.71376741e-01\n",
      "   4.57166255e-01 -2.33207643e-01 -1.83499157e-01 -5.45215666e-01\n",
      "  -4.96166527e-01 -2.21390486e-01  2.83440828e-01  8.07055116e-01\n",
      "  -7.23370016e-02 -2.21029475e-01  6.81729734e-01  5.18072844e-01\n",
      "   5.81676401e-02  2.23890454e-01 -2.92680264e-02  1.17843963e-01\n",
      "  -4.31754619e-01  4.09832239e-01  4.47352797e-01  3.76890510e-01\n",
      "   5.64976037e-01  3.75549048e-01  4.37851489e-01 -2.55140334e-01\n",
      "  -6.43281162e-01  4.66119826e-01  7.66877890e-01 -2.93445706e-01\n",
      "  -1.53678596e-01  5.57386756e-01  7.13371277e-01  1.66259646e-01\n",
      "   8.78525078e-02  4.36013490e-01  9.81277049e-01  9.29777265e-01\n",
      "   4.40893114e-01 -3.10175478e-01 -8.56951773e-01 -7.35437334e-01\n",
      "  -1.32944047e-01  8.14582646e-01  6.13889575e-01 -1.41835541e-01\n",
      "  -4.77461100e-01  6.08846903e-01  3.11998278e-01 -2.76273012e-01\n",
      "   8.01374435e-01  6.23153104e-03 -3.15713525e-01 -7.26571679e-01\n",
      "  -3.66238594e-01  3.33141237e-02 -1.16793945e-01 -1.75772235e-01\n",
      "  -2.55716264e-01 -5.37226319e-01  1.14254661e-01 -1.74848422e-01]\n",
      " [-4.51660663e-01 -6.52187288e-01  1.64065287e-01  3.63272935e-01\n",
      "   9.53420162e-01 -1.78414106e-01  1.77556992e-01  4.69950408e-01\n",
      "   2.99787730e-01  8.66073519e-02 -1.11032866e-01  2.05200016e-01\n",
      "   1.00000000e+00  1.00000000e+00  4.96296078e-01 -2.83014804e-01\n",
      "   1.57521829e-01  5.34140877e-02 -8.24100137e-01 -7.77585864e-01\n",
      "   1.00000000e+00 -9.89238918e-01  2.56169021e-01  2.66226828e-01\n",
      "  -8.40684831e-01  4.04062659e-01  2.13427115e-02 -1.97269052e-01\n",
      "  -6.24700367e-01 -1.00000000e+00  8.06159675e-01 -6.22056842e-01\n",
      "   5.02038002e-01  5.58959246e-01 -4.49213386e-01 -9.59299326e-01\n",
      "  -1.00000000e+00 -1.00000000e+00  6.39690459e-01  2.93669820e-01\n",
      "  -4.29437965e-01 -2.79981375e-01 -2.69568563e-01  6.14008844e-01\n",
      "  -8.19951296e-02 -7.17230320e-01  9.39691484e-01 -1.08287334e-01\n",
      "  -1.71649754e-01  5.04792511e-01  1.00000000e+00  1.00000000e+00\n",
      "  -1.60908416e-01  6.15681171e-01  5.07753849e-01  6.89958870e-01\n",
      "  -7.40265846e-02  2.48168945e-01  9.30866539e-01  7.69322991e-01\n",
      "  -4.70159948e-03 -7.97705412e-01 -5.71480453e-01  4.23651785e-01]\n",
      " [ 5.92178404e-01 -8.24515343e-01  1.74804032e-01 -7.30496466e-01\n",
      "  -5.96869349e-01  2.98666358e-02  2.26911128e-01 -2.37406909e-01\n",
      "  -2.51409113e-01  5.85549533e-01 -3.34497988e-01 -3.11303675e-01\n",
      "  -8.47357035e-01 -3.07850301e-01  6.57394230e-01 -3.22972536e-02\n",
      "   4.09803450e-01 -3.03225458e-01  7.26848841e-02 -7.47753143e-01\n",
      "   5.07998466e-02 -4.89421666e-01 -5.33402205e-01 -2.81481028e-01\n",
      "  -8.32409382e-01 -7.07413614e-01  5.61863780e-02  7.94436634e-01\n",
      "  -8.50040615e-01 -1.50198698e-01 -3.71228099e-01  7.66893685e-01\n",
      "   2.78308451e-01  1.13953769e-01  2.44389772e-02  7.87746906e-03\n",
      "   2.98101485e-01 -3.98215830e-01 -8.14677536e-01  8.24329317e-01\n",
      "  -6.47810876e-01  6.58935845e-01  6.48347318e-01  5.23706853e-01\n",
      "   7.16873586e-01  8.27441275e-01 -7.94934690e-01 -4.86999899e-01\n",
      "  -2.43120372e-01 -3.64163280e-01  6.18408382e-01 -6.03340864e-02\n",
      "   1.42033398e-01 -4.11896139e-01  1.73960388e-01  3.40677202e-01\n",
      "  -1.45029545e-01 -8.29770803e-01  8.33230317e-01  4.93579447e-01\n",
      "  -2.80855298e-02  1.67231500e-01 -1.61496878e-01 -1.18034780e-01]\n",
      " [ 6.38050854e-01  2.24379182e-01  7.05037355e-01 -6.77949369e-01\n",
      "  -8.34344864e-01 -3.83494258e-01  1.69020876e-01  4.41097707e-01\n",
      "  -4.71154451e-02  4.05413061e-01  4.36526746e-01 -1.56190231e-01\n",
      "  -8.00631568e-02  2.00134426e-01 -5.60886741e-01 -2.77032018e-01\n",
      "   2.92678535e-01 -5.30484016e-04 -6.08376980e-01  7.92320371e-01\n",
      "  -6.56855941e-01 -3.46259028e-02  2.00814188e-01 -2.12096527e-01\n",
      "  -4.70313549e-01  1.42627373e-01  4.15019542e-01  7.02274203e-01\n",
      "  -6.81703568e-01  3.56516361e-01 -2.66667195e-02 -4.81730223e-01\n",
      "   2.69486010e-02  4.82137382e-01  1.61220338e-02 -6.00578934e-02\n",
      "  -3.80802393e-01  6.90822124e-01  8.00845325e-01 -2.46385187e-02\n",
      "   4.59132493e-01 -8.43435824e-01 -1.32511914e-01 -9.29522887e-02\n",
      "  -4.70282137e-01  2.62518436e-01  9.84376669e-01  9.79253888e-01\n",
      "  -3.74897808e-01  6.30575299e-01 -3.26407701e-01 -2.91940480e-01\n",
      "  -3.53489548e-01  8.96356344e-01  9.86561000e-01 -8.30124855e-01\n",
      "  -2.42215395e-03 -5.33064781e-03 -2.90079899e-02  1.21718556e-01\n",
      "   6.72189772e-01 -1.54872715e-01  6.01270974e-01 -2.95070380e-01]]  shape  (4, 64)\n",
      "Layer  10  Weight [1] [-0.14406835 -0.37845042  0.02555281  0.0572107   0.19862667  0.\n",
      "  0.06044112 -0.17669705 -0.02768156  0.01358714 -0.12972386  0.03038609\n",
      "  0.49652553  0.39322984  0.05368556 -0.09582946 -0.3647848  -0.00920171\n",
      "  0.          0.08016466  0.78430265  0.30735987 -0.08975301 -0.10673666\n",
      " -0.11557933 -0.17893507 -0.04697436  0.17114109  0.          0.12464601\n",
      " -0.3324539   0.          0.00656214 -0.46432325 -0.008258    0.4249907\n",
      "  0.7498841  -0.0099717  -0.8889101  -0.61933506 -0.4451906   0.\n",
      "  0.          0.7218601   0.         -0.12038689 -0.79018176 -0.3557846\n",
      "  0.         -0.57227516  0.2212765   0.625078    0.22412023 -0.11158631\n",
      " -0.20375483 -0.06321026  0.          0.04069959  0.2523956   0.3620138\n",
      "  0.15584955  0.         -0.2764318  -0.05612992]  shape  (64,)\n"
     ]
    }
   ],
   "source": [
    "for l, layer in enumerate(network.autoencoder.layers):\n",
    "    for w, weight in enumerate(layer.get_weights()):\n",
    "        print(\"Layer \", l, f\" Weight [{w}]\", weight, \" shape \", weight.shape)\n",
    "    # network.get_weights()"
   ]
  },
  {
   "cell_type": "code",
   "execution_count": null,
   "metadata": {},
   "outputs": [],
   "source": [
    "network.plot_latent()"
   ]
  },
  {
   "cell_type": "code",
   "execution_count": null,
   "metadata": {},
   "outputs": [],
   "source": []
  },
  {
   "attachments": {},
   "cell_type": "markdown",
   "metadata": {},
   "source": [
    "# Compressed QAE without classifier"
   ]
  },
  {
   "cell_type": "code",
   "execution_count": null,
   "metadata": {},
   "outputs": [],
   "source": [
    "network = QAutoencoder(data_zoom, pruned=True)\n",
    "network.build_encoder()\n",
    "network.build_decoder()\n",
    "network.build_autoencoder()\n",
    "network.fit_data(epochs=40)\n",
    "network.plot_latent_dimension(\"Compressed QAE without classifier\")\n",
    "network.plot_reco(model_name=\" compressed\")\n",
    "network.plot_score(use_latent_classifier=False,model_name=\"Compressed QAE without classifier\")\n"
   ]
  },
  {
   "attachments": {},
   "cell_type": "markdown",
   "metadata": {},
   "source": [
    "# QAutoencoder with classifier"
   ]
  },
  {
   "cell_type": "markdown",
   "metadata": {},
   "source": [
    "Repeating the same procedure for the autoencoder with classifier."
   ]
  },
  {
   "cell_type": "code",
   "execution_count": null,
   "metadata": {},
   "outputs": [],
   "source": [
    "network_with_classifier = QAutoencoder(data_zoom, pruned=False)\n",
    "network_with_classifier.build_encoder()\n",
    "#network_with_classifier.build_decoder()\n",
    "network_with_classifier.build_classifier()\n",
    "network_with_classifier.build_autoencoder(use_latent_classifier=True)\n",
    "network_with_classifier.fit_data( batch_size=256,epochs=40, use_latent_classifier=True)\n",
    "network_with_classifier.plot_latent_dimension(\"QAutoencoder with classifier\")\n",
    "network_with_classifier.plot_score(use_latent_classifier=True,model_name=\"QAutoencoder with classifier\")"
   ]
  },
  {
   "cell_type": "markdown",
   "metadata": {},
   "source": [
    "### Quantized only classifier"
   ]
  },
  {
   "cell_type": "code",
   "execution_count": null,
   "metadata": {},
   "outputs": [],
   "source": [
    "network_with_classifier = QAutoencoder(data_zoom, pruned=True)\n",
    "network_with_classifier.build_encoder()\n",
    "network_with_classifier.build_decoder()\n",
    "network_with_classifier.build_classifier()\n",
    "network_with_classifier.build_autoencoder(use_latent_classifier=True)\n",
    "network_with_classifier.fit_data(epochs=40,use_latent_classifier=True)\n",
    "network_with_classifier.plot_latent_dimension(\"Compressed QAE with classifier\")\n",
    "network_with_classifier.plot_score(use_latent_classifier=True,model_name=\"Compressed QAE with classifier\")"
   ]
  },
  {
   "cell_type": "code",
   "execution_count": null,
   "metadata": {},
   "outputs": [],
   "source": []
  }
 ],
 "metadata": {
  "kernelspec": {
   "display_name": "Python 3",
   "language": "python",
   "name": "python3"
  },
  "language_info": {
   "codemirror_mode": {
    "name": "ipython",
    "version": 3
   },
   "file_extension": ".py",
   "mimetype": "text/x-python",
   "name": "python",
   "nbconvert_exporter": "python",
   "pygments_lexer": "ipython3",
   "version": "3.9.5"
  },
  "vscode": {
   "interpreter": {
    "hash": "d1b75f63a51ab1e44c10e89cf3b718812d9c5e2447d39cb402b946ba7653bfcd"
   }
  }
 },
 "nbformat": 4,
 "nbformat_minor": 1
}

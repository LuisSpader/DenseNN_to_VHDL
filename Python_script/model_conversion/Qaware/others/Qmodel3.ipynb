{
 "cells": [
  {
   "cell_type": "code",
   "execution_count": 1,
   "metadata": {},
   "outputs": [
    {
     "data": {
      "image/png": "[encoded data removed]",
      "text/plain": [
       "<Figure size 640x480 with 1 Axes>"
      ]
     },
     "metadata": {},
     "output_type": "display_data"
    }
   ],
   "source": [
    "import MNIST_database as mnist\n",
    "from matplotlib import pyplot as plt\n",
    "\n",
    "\n",
    "#Choose the final size of your image dataset\n",
    "size_final = 8\n",
    "\n",
    "# data_zoom = mnist.MNISTData(size_initial=20, size_final=size_final, color_depth=5, flat=True)\n",
    "data_zoom = mnist.MNISTData(size_initial=20, size_final=8, color_depth=8, flat=True)\n",
    "\n",
    "x_train= data_zoom.x_train\n",
    "y_train= data_zoom.y_train\n",
    "x_test= data_zoom.x_test\n",
    "x_test= data_zoom.y_test\n",
    "\n",
    "ax = plt.subplot(1, 1 , 1)\n",
    "\n",
    "plt.imshow(x_train[0].reshape(size_final,size_final), cmap='gray_r')\n",
    "ax.get_xaxis().set_visible(False)\n",
    "ax.get_yaxis().set_visible(False)"
   ]
  },
  {
   "cell_type": "code",
   "execution_count": 2,
   "metadata": {},
   "outputs": [
    {
     "data": {
      "text/plain": [
       "10"
      ]
     },
     "execution_count": 2,
     "metadata": {},
     "output_type": "execute_result"
    }
   ],
   "source": [
    "y_train.shape[-1]"
   ]
  },
  {
   "cell_type": "code",
   "execution_count": 2,
   "metadata": {},
   "outputs": [
    {
     "name": "stdout",
     "output_type": "stream",
     "text": [
      "Epoch 1/10\n",
      "1875/1875 [==============================] - 8s 4ms/step - loss: 0.0446\n",
      "Epoch 2/10\n",
      "1875/1875 [==============================] - 8s 4ms/step - loss: 0.0111\n",
      "Epoch 3/10\n",
      "1875/1875 [==============================] - 8s 4ms/step - loss: 0.0090\n",
      "Epoch 4/10\n",
      "1875/1875 [==============================] - 8s 4ms/step - loss: 0.0079\n",
      "Epoch 5/10\n",
      "1875/1875 [==============================] - 7s 4ms/step - loss: 0.0073\n",
      "Epoch 6/10\n",
      "1875/1875 [==============================] - 7s 4ms/step - loss: 0.0066\n",
      "Epoch 7/10\n",
      "1875/1875 [==============================] - 7s 4ms/step - loss: 0.0063\n",
      "Epoch 8/10\n",
      "1875/1875 [==============================] - 7s 4ms/step - loss: 0.0059\n",
      "Epoch 9/10\n",
      "1875/1875 [==============================] - 7s 4ms/step - loss: 0.0055\n",
      "Epoch 10/10\n",
      "1875/1875 [==============================] - 7s 4ms/step - loss: 0.0052\n"
     ]
    },
    {
     "data": {
      "text/plain": [
       "<keras.callbacks.History at 0x1e84f86ee20>"
      ]
     },
     "execution_count": 2,
     "metadata": {},
     "output_type": "execute_result"
    }
   ],
   "source": [
    "import numpy as np\n",
    "import tensorflow as tf\n",
    "from tensorflow.keras.layers import Input, Dense\n",
    "from tensorflow.keras.models import Model\n",
    "\n",
    "BIT_WIDTH = 8\n",
    "\n",
    "# # Replace these with your actual data\n",
    "# x_train = np.random.random((100, 10))\n",
    "# y_train = np.random.random((100, 10))\n",
    "\n",
    "input_shape = (x_train.shape[-1],)\n",
    "\n",
    "# Encoder\n",
    "encoder_input = Input(shape=input_shape)\n",
    "encoder_l1 = Dense(64, activation='relu')(encoder_input)\n",
    "encoder_l2 = Dense(128, activation='relu')(encoder_l1)\n",
    "encoder_l3 = Dense(256, activation='relu')(encoder_l2)\n",
    "encoder_output = Dense(128, activation='relu')(encoder_l3)\n",
    "\n",
    "# Decoder\n",
    "decoder_l1 = Dense(256, activation='relu')(encoder_output)\n",
    "decoder_l2 = Dense(128, activation='relu')(decoder_l1)\n",
    "decoder_l3 = Dense(64, activation='relu')(decoder_l2)\n",
    "decoder_output = Dense(y_train.shape[-1], activation='sigmoid')(decoder_l3)\n",
    "\n",
    "# Model\n",
    "model = Model(inputs=encoder_input, outputs=decoder_output)\n",
    "model.compile(optimizer='adam', loss='mse')\n",
    "model.fit(x_train, y_train, epochs=10, batch_size=32)\n"
   ]
  },
  {
   "cell_type": "code",
   "execution_count": 3,
   "metadata": {},
   "outputs": [
    {
     "name": "stdout",
     "output_type": "stream",
     "text": [
      "INFO:tensorflow:Assets written to: C:\\Users\\luisa\\AppData\\Local\\Temp\\tmp1tb4jal9\\assets\n"
     ]
    }
   ],
   "source": [
    "def representative_dataset():\n",
    "    for data in x_train:\n",
    "        yield [np.array([data], dtype=np.float32)]\n",
    "\n",
    "converter = tf.lite.TFLiteConverter.from_keras_model(model)\n",
    "converter.optimizations = [tf.lite.Optimize.DEFAULT]\n",
    "converter.representative_dataset = representative_dataset\n",
    "converter.target_spec.supported_ops = [tf.lite.OpsSet.TFLITE_BUILTINS_INT8]\n",
    "converter.inference_input_type = tf.int8\n",
    "converter.inference_output_type = tf.int8\n",
    "\n",
    "quantized_tflite_model = converter.convert()\n"
   ]
  },
  {
   "cell_type": "code",
   "execution_count": 4,
   "metadata": {},
   "outputs": [],
   "source": [
    "# Save the quantized model\n",
    "with open('quantized_model.tflite', 'wb') as f:\n",
    "    f.write(quantized_tflite_model)\n",
    "\n",
    "model.save_weights('quantized_weights.h5')\n",
    "\n",
    "\n",
    "# Load the quantized model\n",
    "interpreter = tf.lite.Interpreter(model_path='quantized_model.tflite')\n",
    "interpreter.allocate_tensors()\n",
    "\n",
    "# Load the saved quantized weights\n",
    "model.load_weights('quantized_weights.h5')\n",
    "\n",
    "# Get input and output details\n",
    "input_details = interpreter.get_input_details()\n",
    "output_details = interpreter.get_output_details()\n"
   ]
  },
  {
   "cell_type": "code",
   "execution_count": 5,
   "metadata": {},
   "outputs": [
    {
     "name": "stdout",
     "output_type": "stream",
     "text": [
      "[[-123 -126 -117 -117 -123 -105 -117 -126   47 -105]]\n"
     ]
    }
   ],
   "source": [
    "# Prepare input data\n",
    "input_data = np.array([x_train[0]], dtype=np.int8)\n",
    "interpreter.set_tensor(input_details[0]['index'], input_data)\n",
    "\n",
    "# Run inference\n",
    "interpreter.invoke()\n",
    "\n",
    "# Get output\n",
    "output_data = interpreter.get_tensor(output_details[0]['index'])\n",
    "print(output_data)\n"
   ]
  },
  {
   "cell_type": "code",
   "execution_count": 6,
   "metadata": {},
   "outputs": [],
   "source": [
    "import numpy as np\n",
    "import tensorflow as tf\n",
    "from tensorflow.keras.layers import Input, Dense\n",
    "from tensorflow.keras.models import Model\n",
    "\n",
    "BIT_WIDTH = 8\n",
    "\n",
    "# # Replace these with your actual data\n",
    "# x_train = np.random.random((100, 10))\n",
    "# y_train = np.random.random((100, 10))\n",
    "\n",
    "input_shape = (x_train.shape[-1],)\n",
    "\n",
    "# Encoder\n",
    "encoder_input = Input(shape=input_shape)\n",
    "encoder_l1 = Dense(64, activation='relu')(encoder_input)\n",
    "encoder_l2 = Dense(128, activation='relu')(encoder_l1)\n",
    "encoder_l3 = Dense(256, activation='relu')(encoder_l2)\n",
    "encoder_output = Dense(128, activation='relu')(encoder_l3)\n",
    "\n",
    "# Decoder\n",
    "decoder_l1 = Dense(256, activation='relu')(encoder_output)\n",
    "decoder_l2 = Dense(128, activation='relu')(decoder_l1)\n",
    "decoder_l3 = Dense(64, activation='relu')(decoder_l2)\n",
    "decoder_output = Dense(y_train.shape[-1], activation='sigmoid')(decoder_l3)\n",
    "\n",
    "# Model\n",
    "model = Model(inputs=encoder_input, outputs=decoder_output)\n",
    "model.compile(optimizer='adam', loss='mse')\n",
    "\n",
    "# Load the saved quantized weights\n",
    "model.load_weights('quantized_weights.h5')\n",
    "# model.fit(x_train, y_train, epochs=10, batch_size=32)\n"
   ]
  },
  {
   "cell_type": "code",
   "execution_count": 19,
   "metadata": {},
   "outputs": [
    {
     "data": {
      "text/plain": [
       "(60000, 64)"
      ]
     },
     "execution_count": 19,
     "metadata": {},
     "output_type": "execute_result"
    }
   ],
   "source": [
    "x_train.shape"
   ]
  },
  {
   "cell_type": "code",
   "execution_count": 20,
   "metadata": {},
   "outputs": [
    {
     "data": {
      "text/plain": [
       "(10000, 10)"
      ]
     },
     "execution_count": 20,
     "metadata": {},
     "output_type": "execute_result"
    }
   ],
   "source": [
    "x_test.shape"
   ]
  },
  {
   "cell_type": "code",
   "execution_count": 16,
   "metadata": {},
   "outputs": [],
   "source": [
    "x_test = x_test.reshape(x_test.shape[0], -1)"
   ]
  },
  {
   "cell_type": "code",
   "execution_count": 21,
   "metadata": {},
   "outputs": [],
   "source": [
    "test_imgs = x_train"
   ]
  },
  {
   "cell_type": "code",
   "execution_count": 23,
   "metadata": {},
   "outputs": [
    {
     "ename": "ValueError",
     "evalue": "cannot reshape array of size 10 into shape (8,8)",
     "output_type": "error",
     "traceback": [
      "\u001b[1;31m---------------------------------------------------------------------------\u001b[0m",
      "\u001b[1;31mValueError\u001b[0m                                Traceback (most recent call last)",
      "Cell \u001b[1;32mIn[23], line 16\u001b[0m\n\u001b[0;32m     14\u001b[0m \u001b[39m# Display reconstructed MNIST\u001b[39;00m\n\u001b[0;32m     15\u001b[0m ax \u001b[39m=\u001b[39m plt\u001b[39m.\u001b[39msubplot(\u001b[39m2\u001b[39m, n, i \u001b[39m+\u001b[39m n \u001b[39m+\u001b[39m \u001b[39m1\u001b[39m)\n\u001b[1;32m---> 16\u001b[0m plt\u001b[39m.\u001b[39mimshow(reco_imgs[i]\u001b[39m.\u001b[39;49mreshape(\n\u001b[0;32m     17\u001b[0m     img_size, img_size), cmap\u001b[39m=\u001b[39m\u001b[39m'\u001b[39m\u001b[39mgray_r\u001b[39m\u001b[39m'\u001b[39m)\n\u001b[0;32m     18\u001b[0m ax\u001b[39m.\u001b[39mget_xaxis()\u001b[39m.\u001b[39mset_visible(\u001b[39mFalse\u001b[39;00m)\n\u001b[0;32m     19\u001b[0m ax\u001b[39m.\u001b[39mget_yaxis()\u001b[39m.\u001b[39mset_visible(\u001b[39mFalse\u001b[39;00m)\n",
      "\u001b[1;31mValueError\u001b[0m: cannot reshape array of size 10 into shape (8,8)"
     ]
    },
    {
     "data": {
      "image/png": "[encoded data removed]",
      "text/plain": [
       "<Figure size 1000x300 with 2 Axes>"
      ]
     },
     "metadata": {},
     "output_type": "display_data"
    }
   ],
   "source": [
    "n = 6\n",
    "plt.figure(figsize=(10, 3))\n",
    "reco_imgs = model.predict(test_imgs)\n",
    "img_size = int(np.sqrt(input_shape[0]))\n",
    "\n",
    "for i in range(n):\n",
    "    # Display original MNIST\n",
    "    ax = plt.subplot(2, n, i + 1)\n",
    "    plt.imshow(test_imgs[i].reshape(\n",
    "        img_size, img_size), cmap='gray_r')\n",
    "    ax.get_xaxis().set_visible(False)\n",
    "    ax.get_yaxis().set_visible(False)\n",
    "\n",
    "    # Display reconstructed MNIST\n",
    "    ax = plt.subplot(2, n, i + n + 1)\n",
    "    plt.imshow(reco_imgs[i].reshape(\n",
    "        img_size, img_size), cmap='gray_r')\n",
    "    ax.get_xaxis().set_visible(False)\n",
    "    ax.get_yaxis().set_visible(False)\n",
    "\n",
    "plt.savefig(\n",
    "    './images/QAE/reconstructed images{model_name}.png'.format(model_name=\" complete\"))\n",
    "plt.show()"
   ]
  },
  {
   "cell_type": "code",
   "execution_count": null,
   "metadata": {},
   "outputs": [],
   "source": []
  }
 ],
 "metadata": {
  "kernelspec": {
   "display_name": "Python 3",
   "language": "python",
   "name": "python3"
  },
  "language_info": {
   "codemirror_mode": {
    "name": "ipython",
    "version": 3
   },
   "file_extension": ".py",
   "mimetype": "text/x-python",
   "name": "python",
   "nbconvert_exporter": "python",
   "pygments_lexer": "ipython3",
   "version": "3.9.5"
  },
  "orig_nbformat": 4,
  "vscode": {
   "interpreter": {
    "hash": "d1b75f63a51ab1e44c10e89cf3b718812d9c5e2447d39cb402b946ba7653bfcd"
   }
  }
 },
 "nbformat": 4,
 "nbformat_minor": 2
}

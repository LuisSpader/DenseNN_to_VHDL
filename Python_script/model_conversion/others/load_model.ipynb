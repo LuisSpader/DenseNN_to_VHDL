{
    "cells": [
        {
            "cell_type": "code",
            "execution_count": 1,
            "metadata": {},
            "outputs": [
                {
                    "data": {
                        "image/png": "[encoded data removed]",
                        "text/plain": [
                            "<Figure size 640x480 with 1 Axes>"
                        ]
                    },
                    "metadata": {},
                    "output_type": "display_data"
                }
            ],
            "source": [
                "# from class_QAutoencoder import data_zoom, size_final\n",
                "from class_QAutoencoder import *\n",
                "import class_QAutoencoder\n",
                "# class_QAutoencoder.\n",
                "\n",
                "ax = plt.subplot(1, 1, 1)\n",
                "plt.imshow(data_zoom.x_train[0].reshape(size_final, size_final), cmap='gray_r')\n",
                "ax.get_xaxis().set_visible(False)\n",
                "ax.get_yaxis().set_visible(False)"
            ]
        },
        {
            "attachments": {},
            "cell_type": "markdown",
            "metadata": {},
            "source": [
                "# def model"
            ]
        },
        {
            "cell_type": "code",
            "execution_count": 4,
            "metadata": {},
            "outputs": [],
            "source": [
                "BIT_WIDTH = 8\n",
                "# EPOCHS = 80\n",
                "# Q_EPOCHS = 25\n",
                "EPOCHS = 1\n",
                "Q_EPOCHS = 1\n",
                "BATCH_SIZE = 256\n",
                "MODEL_NAME = 'model'\n",
                "MINI_MODEL = True\n",
                "FIT_MODEL = False\n",
                "MODEL_SIZE = 0  # 0: short, 1: medium, 2: long, 3: very long\n",
                "mini = \"mini/\" if MINI_MODEL else \"normal/\"\n",
                "\n",
                "# model_obj = QAutoencoder(data_zoom, bit_width=BIT_WIDTH,\n",
                "#                          EPOCHS=EPOCHS, Q_EPOCHS=Q_EPOCHS, model_name=MODEL_NAME)\n",
                "\n",
                "# model_obj.model.summary()"
            ]
        },
        {
            "attachments": {},
            "cell_type": "markdown",
            "metadata": {},
            "source": [
                "# fit"
            ]
        },
        {
            "cell_type": "code",
            "execution_count": 5,
            "metadata": {},
            "outputs": [],
            "source": [
                "# if FIT_MODEL:\n",
                "#     model_obj.fit_data(batch_size=BATCH_SIZE, epochs=EPOCHS)\n"
            ]
        },
        {
            "attachments": {},
            "cell_type": "markdown",
            "metadata": {},
            "source": [
                "# Load objects"
            ]
        },
        {
            "attachments": {},
            "cell_type": "markdown",
            "metadata": {},
            "source": [
                "## load it "
            ]
        },
        {
            "attachments": {},
            "cell_type": "markdown",
            "metadata": {},
            "source": [
                "### definitions"
            ]
        },
        {
            "cell_type": "code",
            "execution_count": 30,
            "metadata": {},
            "outputs": [
                {
                    "data": {
                        "text/plain": [
                            "'C:\\\\Users\\\\luisa\\\\OneDrive\\\\Documentos\\\\GitHub\\\\DenseNN_to_VHDL/models/mini/'"
                        ]
                    },
                    "execution_count": 30,
                    "metadata": {},
                    "output_type": "execute_result"
                }
            ],
            "source": [
                "# list all folders in the given directory\n",
                "import os\n",
                "\n",
                "def get_best_model_path(path):\n",
                "    if directories := [\n",
                "    d\n",
                "    for d in os.listdir(path)\n",
                "    if d.startswith('model_') and d.endswith('loss')\n",
                "]:\n",
                "    # Extract loss value from each directory name\n",
                "        losses = [float(d.split('_')[1].replace('loss', '')) for d in directories]\n",
                "\n",
                "    # Select directory with lowest loss value\n",
                "        lowest_loss_index = losses.index(min(losses))\n",
                "        lowest_loss_dir = directories[lowest_loss_index]\n",
                "        print(f\"The directory with the lowest loss is {lowest_loss_dir}\")\n",
                "        return f\"{path}{lowest_loss_dir}\"\n",
                "\n",
                "    else:\n",
                "        print(\"No directories found with name pattern 'model_*loss'\")\n",
                "        return \"\"\n",
                "\n",
                "# whole_dir = os.path.abspath(\".\")\n",
                "path = f'{whole_dir}/models/{mini}'  # Replace with the path to the directory you want to list    \n",
                "path"
            ]
        },
        {
            "cell_type": "code",
            "execution_count": 32,
            "metadata": {},
            "outputs": [
                {
                    "name": "stdout",
                    "output_type": "stream",
                    "text": [
                        "The directory with the lowest loss is model_64_0.06574loss\n",
                        "C:\\Users\\luisa\\OneDrive\\Documentos\\GitHub\\DenseNN_to_VHDL/models/mini/model_64_0.06574loss\n"
                    ]
                }
            ],
            "source": [
                "best_model_path = get_best_model_path(path)  \n",
                "print(best_model_path)"
            ]
        },
        {
            "cell_type": "code",
            "execution_count": 33,
            "metadata": {},
            "outputs": [],
            "source": [
                "def load_objects(model_dir: str):\n",
                "    \n",
                "    # model_obj.model.save('model_obj_keras_model.h5')\n",
                "    # Load the TensorFlow model\n",
                "    loaded_model = tf.keras.models.load_model(f\"{model_dir}/KERAS_check_best_model.model\")\n",
                "\n",
                "    # Load the Keras model\n",
                "    # loaded_keras_model = tf.keras.models.load_model(f'{model_dir}/model_obj_keras_model.h5')\n",
                "\n",
                "    # Load the .tflite model\n",
                "    with open(f\"{model_dir}/saved_objects/tflite_model.tflite\", \"rb\") as file:\n",
                "        loaded_tflite_model = file.read()\n",
                "\n",
                "    # Load other attributes\n",
                "    with open(f'{model_dir}/saved_objects/model_obj_attributes.pickle', 'rb') as f:\n",
                "        loaded_attributes = pickle.load(f)\n",
                "    \n",
                "    # Create a new QAutoencoder object and set the attributes\n",
                "    loaded_model_obj = QAutoencoder(data_zoom, bit_width=loaded_attributes['BIT_WIDTH'], model_name=loaded_attributes['model_name'],\n",
                "                                    EPOCHS=loaded_attributes['EPOCHS'], Q_EPOCHS=loaded_attributes['Q_EPOCHS'])\n",
                "    \n",
                "    loaded_model_obj.model = loaded_model\n",
                "    # loaded_model_obj.model = loaded_keras_model\n",
                "    loaded_model_obj.quantized_tflite_model = loaded_tflite_model\n",
                "\n",
                "    loaded_model_obj.x_train = loaded_attributes['x_train']\n",
                "    # loaded_model_obj.y_train = loaded_attributes['y_train']\n",
                "    loaded_model_obj.x_test = loaded_attributes['x_test']\n",
                "    # loaded_model_obj.y_test = loaded_attributes['y_test']\n",
                "    loaded_model_obj.input_min = loaded_attributes['input_min']\n",
                "    loaded_model_obj.input_max = loaded_attributes['input_max']\n",
                "    loaded_model_obj.input_shape = loaded_attributes['input_shape']\n",
                "    loaded_model_obj.BIT_WIDTH = loaded_attributes['BIT_WIDTH']\n",
                "    loaded_model_obj.EPOCHS = loaded_attributes['EPOCHS']\n",
                "    loaded_model_obj.Q_EPOCHS = loaded_attributes['Q_EPOCHS']\n",
                "    loaded_model_obj.model_name = loaded_attributes['model_name']\n",
                "    loaded_model_obj.history = loaded_attributes['history']\n",
                "    loaded_model_obj.loss = loaded_attributes['loss']\n",
                "    loaded_model_obj.float_model_predictions = loaded_attributes['float_model_predictions']\n",
                "    loaded_model_obj.path_to_model = loaded_attributes['path_to_model']\n",
                "\n",
                "    loaded_model_obj.path_to_quantized_model = loaded_attributes['path_to_quantized_model']\n",
                "    # loaded_model_obj.q_aware_model = loaded_attributes['q_aware_model']\n",
                "    loaded_model_obj.q_aware_loss = loaded_attributes['q_aware_loss']\n",
                "    loaded_model_obj.quantized_tflite_model = loaded_attributes['quantized_tflite_model']\n",
                "    # loaded_model_obj.interpreter = loaded_attributes['interpreter']\n",
                "    # loaded_model_obj.input_details = loaded_attributes['input_details']\n",
                "    # loaded_model_obj.output_details = loaded_attributes['output_details']\n",
                "    loaded_model_obj.quantized_model_predictions = loaded_attributes['quantized_model_predictions']\n",
                "    \n",
                "    # loaded_model_obj.interpreter = loaded_tflite_model\n",
                "    # loaded_model_obj.mse = loaded_attributes['mse']\n",
                "\n",
                "    # Recreate the TFLite interpreter\n",
                "    loaded_model_obj.interpreter = tf.lite.Interpreter(model_content=loaded_tflite_model)\n",
                "    loaded_model_obj.interpreter.allocate_tensors()\n",
                "    loaded_model_obj.input_details = loaded_model_obj.interpreter.get_input_details()\n",
                "    loaded_model_obj.output_details = loaded_model_obj.interpreter.get_output_details()\n",
                "    # loaded_model_obj.convert_to_Q_aware()\n",
                "\n",
                "    return loaded_model_obj\n"
            ]
        },
        {
            "attachments": {},
            "cell_type": "markdown",
            "metadata": {},
            "source": [
                "### loaded model"
            ]
        },
        {
            "cell_type": "code",
            "execution_count": 35,
            "metadata": {},
            "outputs": [],
            "source": [
                "# Load the objects and create a new model_obj\n",
                "loaded_model_obj = load_objects(model_dir = best_model_path)"
            ]
        },
        {
            "cell_type": "code",
            "execution_count": 36,
            "metadata": {},
            "outputs": [
                {
                    "data": {
                        "text/plain": [
                            "0.06574463844299316"
                        ]
                    },
                    "execution_count": 36,
                    "metadata": {},
                    "output_type": "execute_result"
                }
            ],
            "source": [
                "loaded_model_obj.loss"
            ]
        },
        {
            "cell_type": "code",
            "execution_count": 38,
            "metadata": {},
            "outputs": [
                {
                    "name": "stdout",
                    "output_type": "stream",
                    "text": [
                        "Model: \"model\"\n",
                        "_________________________________________________________________\n",
                        " Layer (type)                Output Shape              Param #   \n",
                        "=================================================================\n",
                        " input_1 (InputLayer)        [(None, 64)]              0         \n",
                        "                                                                 \n",
                        " dense (Dense)               (None, 64)                4160      \n",
                        "                                                                 \n",
                        "=================================================================\n",
                        "Total params: 4,160\n",
                        "Trainable params: 4,160\n",
                        "Non-trainable params: 0\n",
                        "_________________________________________________________________\n"
                    ]
                }
            ],
            "source": [
                "loaded_model_obj.model.summary()"
            ]
        },
        {
            "cell_type": "code",
            "execution_count": 39,
            "metadata": {},
            "outputs": [
                {
                    "data": {
                        "image/png": "[encoded data removed]",
                        "text/plain": [
                            "<Figure size 1000x300 with 12 Axes>"
                        ]
                    },
                    "metadata": {},
                    "output_type": "display_data"
                }
            ],
            "source": [
                "loaded_model_obj.plot_float_model()\n"
            ]
        },
        {
            "cell_type": "code",
            "execution_count": 40,
            "metadata": {},
            "outputs": [
                {
                    "data": {
                        "image/png": "[encoded data removed]",
                        "text/plain": [
                            "<Figure size 1000x300 with 40 Axes>"
                        ]
                    },
                    "metadata": {},
                    "output_type": "display_data"
                }
            ],
            "source": [
                "loaded_model_obj.quantized_predictions(n=20)\n",
                "loaded_model_obj.plot_quantized_model(n=20)"
            ]
        },
        {
            "cell_type": "code",
            "execution_count": 41,
            "metadata": {},
            "outputs": [],
            "source": [
                "# loaded_model_obj.quantized_predictions2(n=20)\n",
                "# loaded_model_obj.plot_quantized_model(n=20)"
            ]
        },
        {
            "cell_type": "code",
            "execution_count": 44,
            "metadata": {},
            "outputs": [],
            "source": [
                "from fxpmath import Fxp\n",
                "\n",
                "is_signed = True\n",
                "tb_files_dir = f'{best_model_path}/testbench_files'\n",
                "if not os.path.exists(tb_files_dir):\n",
                "    os.makedirs(tb_files_dir)"
            ]
        },
        {
            "cell_type": "code",
            "execution_count": 56,
            "metadata": {},
            "outputs": [
                {
                    "name": "stdout",
                    "output_type": "stream",
                    "text": [
                        "created: C:\\Users\\luisa\\OneDrive\\Documentos\\GitHub\\DenseNN_to_VHDL/models/mini/model_64_0.06574loss/testbench_files/tb_inputs.txt\n"
                    ]
                }
            ],
            "source": [
                "def tb_inputs_gen(loaded_model_obj: QAutoencoder, tb_files_dir:str):\n",
                "    quantized_model_predictions = []\n",
                "    pred_len = len(loaded_model_obj.quantized_model_predictions)\n",
                "\n",
                "    with open(f'{tb_files_dir}/tb_inputs.txt', 'w') as f:\n",
                "        for img in range(pred_len):\n",
                "        # Prepare input data\n",
                "            input_data = np.array([(loaded_model_obj.x_test[img] - loaded_model_obj.input_min) / (loaded_model_obj.input_max - loaded_model_obj.input_min) * (2 ** (loaded_model_obj.BIT_WIDTH))], dtype=np.int8)\n",
                "\n",
                "            for pixel in input_data[0]:\n",
                "                fxp_item = Fxp(pixel, signed=True, n_word=loaded_model_obj.BIT_WIDTH, n_frac=0)\n",
                "            # print(pixel, \" = \", fxp_item, \" : \", fxp_item.bin())\n",
                "\n",
                "                f.write(fxp_item.bin())\n",
                "            f.write(\"\\n\")\n",
                "            # print(f\"input_data: {input_data}\")\n",
                "    print(f\"created: {tb_files_dir}/tb_inputs.txt\")\n",
                "\n",
                "tb_inputs_gen(loaded_model_obj, tb_files_dir)\n",
                "\n"
            ]
        },
        {
            "cell_type": "code",
            "execution_count": 57,
            "metadata": {},
            "outputs": [
                {
                    "name": "stdout",
                    "output_type": "stream",
                    "text": [
                        "created: C:\\Users\\luisa\\OneDrive\\Documentos\\GitHub\\DenseNN_to_VHDL/models/mini/model_64_0.06574loss/testbench_files/expected_results_bin.txt\n",
                        "created: C:\\Users\\luisa\\OneDrive\\Documentos\\GitHub\\DenseNN_to_VHDL/models/mini/model_64_0.06574loss/testbench_files/expected_results_dec.txt\n"
                    ]
                }
            ],
            "source": [
                "def expected_results_gen(loaded_model_obj: QAutoencoder, tb_files_dir: str): \n",
                "    #  generating expected results for testbench: BINARY!\n",
                "    with open(f'{tb_files_dir}/expected_results_bin.txt', 'w') as f:\n",
                "        for img in loaded_model_obj.quantized_model_predictions:\n",
                "            for row in img:\n",
                "                for pixel in row:\n",
                "                    # print(pixel, \" : \", Fxp(pixel, signed=is_signed, n_word=BIT_WIDTH, n_frac=0).bin())\n",
                "                    f.write(Fxp(pixel, signed=is_signed,\n",
                "                            n_word=loaded_model_obj.BIT_WIDTH, n_frac=0).bin())\n",
                "            # print(\" \")\n",
                "            f.write('\\n')\n",
                "    print(f\"created: {tb_files_dir}/expected_results_bin.txt\")\n",
                "\n",
                "    #  generating expected results for testbench: DECIMAL!\n",
                "    with open(f'{tb_files_dir}/expected_results_dec.txt', 'w') as f:\n",
                "        for img in loaded_model_obj.quantized_model_predictions:\n",
                "            for row in img:\n",
                "                for pixel in row:\n",
                "                # print(pixel, \" : \", Fxp(pixel, signed=is_signed, n_word=BIT_WIDTH, n_frac=0).bin())\n",
                "                    f.write(f\"{str(pixel)} \")\n",
                "\n",
                "        # print(\" \")\n",
                "            f.write('\\n')\n",
                "    print(f\"created: {tb_files_dir}/expected_results_dec.txt\")\n",
                "\n",
                "expected_results_gen(loaded_model_obj, tb_files_dir)"
            ]
        },
        {
            "cell_type": "code",
            "execution_count": 49,
            "metadata": {},
            "outputs": [],
            "source": [
                "# loaded_model_obj.model.get_weights()"
            ]
        },
        {
            "cell_type": "code",
            "execution_count": 50,
            "metadata": {},
            "outputs": [],
            "source": [
                "# loaded_model_obj.quantized_tflite_model"
            ]
        },
        {
            "cell_type": "code",
            "execution_count": null,
            "metadata": {},
            "outputs": [],
            "source": []
        },
        {
            "cell_type": "code",
            "execution_count": null,
            "metadata": {},
            "outputs": [],
            "source": []
        }
    ],
    "metadata": {
        "kernelspec": {
            "display_name": "Python 3",
            "language": "python",
            "name": "python3"
        },
        "language_info": {
            "codemirror_mode": {
                "name": "ipython",
                "version": 3
            },
            "file_extension": ".py",
            "mimetype": "text/x-python",
            "name": "python",
            "nbconvert_exporter": "python",
            "pygments_lexer": "ipython3",
            "version": "3.9.5"
        },
        "orig_nbformat": 4,
        "vscode": {
            "interpreter": {
                "hash": "d1b75f63a51ab1e44c10e89cf3b718812d9c5e2447d39cb402b946ba7653bfcd"
            }
        }
    },
    "nbformat": 4,
    "nbformat_minor": 2
}
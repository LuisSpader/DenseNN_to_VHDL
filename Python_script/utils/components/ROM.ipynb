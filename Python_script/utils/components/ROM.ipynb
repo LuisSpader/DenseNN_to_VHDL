{
 "cells": [
  {
   "cell_type": "code",
   "execution_count": 1519,
   "metadata": {},
   "outputs": [],
   "source": [
    "import pandas as pd\n",
    "import numpy as np"
   ]
  },
  {
   "cell_type": "code",
   "execution_count": 1520,
   "metadata": {},
   "outputs": [],
   "source": [
    "#defining bias and input values\n",
    "BIT_WIDTH = int(8)\n",
    "num_inputs = 4           \n",
    "is_signed = True          \n",
    "is_sigmoid_signed = False \n",
    "weights_on_memory = True                #1: on memory || 0: weights = inputs\n",
    "n_integer = 1                           # 'm' binary digits are the integer part\n",
    "n_mantissa = BIT_WIDTH - n_integer      # 'x' binary digits are the fractional part of `x`;\n",
    "# n_mantissa_sigmoid = n_mantissa-1       # casas decimais\n",
    "n_mantissa_sigmoid = n_mantissa         # casas decimais\n",
    "memory_address_type = True              # 0= int(n) ; 1= float(address)|| indice da memoria int ou float\n",
    "\n",
    "integer_mult_factor = 1\n",
    "sigmoid_range = 2  #tamanho eixo x, sigmoide antes tratamento\n",
    "range_tb_df = (2**n_integer)            #tamanho do dataframe do tb\n",
    "# mult_factor = 10                         # expande sigmoide\n",
    "integer_mult_factor = 2** (BIT_WIDTH-1) # conversão para inteiros\n",
    "# integer_mult_factor = 1 # conversão para inteiros\n",
    "\n",
    "DOWNLOAD = True                         #1= para baixar || 0= não baixar\n",
    "path = \"./\"\n"
   ]
  },
  {
   "cell_type": "code",
   "execution_count": 1521,
   "metadata": {},
   "outputs": [
    {
     "data": {
      "text/plain": [
       "7"
      ]
     },
     "execution_count": 1521,
     "metadata": {},
     "output_type": "execute_result"
    }
   ],
   "source": [
    "n_mantissa"
   ]
  },
  {
   "cell_type": "code",
   "execution_count": 1522,
   "metadata": {},
   "outputs": [
    {
     "data": {
      "text/plain": [
       "1"
      ]
     },
     "execution_count": 1522,
     "metadata": {},
     "output_type": "execute_result"
    }
   ],
   "source": [
    "n_integer"
   ]
  },
  {
   "cell_type": "code",
   "execution_count": 1523,
   "metadata": {},
   "outputs": [],
   "source": [
    "range_tb_df = (2**n_integer)              #tamanho do dataframe do tb\n",
    "#DX SIGMOID\n",
    "is_signed = True           #1= signed || 0= unsigned\n",
    "if is_signed:\n",
    "  unsigned_offset = 0\n",
    "  offset_df_memory = 0\n",
    "  dx_sigmoid_final = 1/(2**(n_mantissa_sigmoid))     #dx da sigmoid na memória -> depende das casas .fixo com adicional para resolução de dx_input\n",
    "  \n",
    "else:\n",
    "  unsigned_offset = int((2**n_integer)/2)  # 128\n",
    "  offset_df_memory = unsigned_offset - ((sigmoid_range/2)*integer_mult_factor)\n",
    "  dx_sigmoid_final = 1/(2**(n_mantissa_sigmoid))     #dx da sigmoid na memória -> depende das casas .fixo com adicional para resolução de dx_input\n",
    "\n",
    "if is_sigmoid_signed: # normalizando para utilizar todos os bits\n",
    "  norm_y = 1\n",
    "else:\n",
    "  norm_y = (2**(n_integer))                   # normalização em y: 256(8bits)\n",
    "# dx_sigmoid = dx_sigmoid_final/mult_factor   #dx necessário antes da expansão\n",
    "# dx_sigmoid = dx_sigmoid_final/integer_mult_factor   #dx necessário antes da expansão\n",
    "dx_sigmoid = dx_sigmoid_final   #dx necessário antes da expansão\n",
    "\n",
    "if (dx_sigmoid == 1):\n",
    "  total_dx = range_tb_df+1\n",
    "else:\n",
    "  \n",
    "  total_dx = (1/dx_sigmoid)*sigmoid_range +1"
   ]
  },
  {
   "cell_type": "code",
   "execution_count": 1524,
   "metadata": {},
   "outputs": [],
   "source": [
    "sigmoid_dx_list = np.linspace(-(sigmoid_range/2),(sigmoid_range/2),int(total_dx)) #vai de -128 a 127, dividido em 256 pontos (8 bits)\n"
   ]
  },
  {
   "cell_type": "code",
   "execution_count": 1525,
   "metadata": {},
   "outputs": [
    {
     "data": {
      "text/html": [
       "<div>\n",
       "<style scoped>\n",
       "    .dataframe tbody tr th:only-of-type {\n",
       "        vertical-align: middle;\n",
       "    }\n",
       "\n",
       "    .dataframe tbody tr th {\n",
       "        vertical-align: top;\n",
       "    }\n",
       "\n",
       "    .dataframe thead th {\n",
       "        text-align: right;\n",
       "    }\n",
       "</style>\n",
       "<table border=\"1\" class=\"dataframe\">\n",
       "  <thead>\n",
       "    <tr style=\"text-align: right;\">\n",
       "      <th></th>\n",
       "      <th>x</th>\n",
       "      <th>x_resc</th>\n",
       "    </tr>\n",
       "  </thead>\n",
       "  <tbody>\n",
       "    <tr>\n",
       "      <th>0</th>\n",
       "      <td>-1.000000</td>\n",
       "      <td>-128.0</td>\n",
       "    </tr>\n",
       "    <tr>\n",
       "      <th>1</th>\n",
       "      <td>-0.992188</td>\n",
       "      <td>-127.0</td>\n",
       "    </tr>\n",
       "    <tr>\n",
       "      <th>2</th>\n",
       "      <td>-0.984375</td>\n",
       "      <td>-126.0</td>\n",
       "    </tr>\n",
       "    <tr>\n",
       "      <th>3</th>\n",
       "      <td>-0.976562</td>\n",
       "      <td>-125.0</td>\n",
       "    </tr>\n",
       "    <tr>\n",
       "      <th>4</th>\n",
       "      <td>-0.968750</td>\n",
       "      <td>-124.0</td>\n",
       "    </tr>\n",
       "    <tr>\n",
       "      <th>...</th>\n",
       "      <td>...</td>\n",
       "      <td>...</td>\n",
       "    </tr>\n",
       "    <tr>\n",
       "      <th>252</th>\n",
       "      <td>0.968750</td>\n",
       "      <td>124.0</td>\n",
       "    </tr>\n",
       "    <tr>\n",
       "      <th>253</th>\n",
       "      <td>0.976562</td>\n",
       "      <td>125.0</td>\n",
       "    </tr>\n",
       "    <tr>\n",
       "      <th>254</th>\n",
       "      <td>0.984375</td>\n",
       "      <td>126.0</td>\n",
       "    </tr>\n",
       "    <tr>\n",
       "      <th>255</th>\n",
       "      <td>0.992188</td>\n",
       "      <td>127.0</td>\n",
       "    </tr>\n",
       "    <tr>\n",
       "      <th>256</th>\n",
       "      <td>1.000000</td>\n",
       "      <td>128.0</td>\n",
       "    </tr>\n",
       "  </tbody>\n",
       "</table>\n",
       "<p>257 rows × 2 columns</p>\n",
       "</div>"
      ],
      "text/plain": [
       "            x  x_resc\n",
       "0   -1.000000  -128.0\n",
       "1   -0.992188  -127.0\n",
       "2   -0.984375  -126.0\n",
       "3   -0.976562  -125.0\n",
       "4   -0.968750  -124.0\n",
       "..        ...     ...\n",
       "252  0.968750   124.0\n",
       "253  0.976562   125.0\n",
       "254  0.984375   126.0\n",
       "255  0.992188   127.0\n",
       "256  1.000000   128.0\n",
       "\n",
       "[257 rows x 2 columns]"
      ]
     },
     "execution_count": 1525,
     "metadata": {},
     "output_type": "execute_result"
    }
   ],
   "source": [
    "df = pd.DataFrame(np.linspace(-(sigmoid_range/2),(sigmoid_range/2),int(total_dx))) #start, end, step\n",
    "df.columns = ['x'] # INPUTS_df\n",
    "df['x_resc'] = df*integer_mult_factor\n",
    "# df.head()\n",
    "df"
   ]
  },
  {
   "cell_type": "code",
   "execution_count": 1526,
   "metadata": {},
   "outputs": [],
   "source": [
    "import math\n",
    "exp = math.exp"
   ]
  },
  {
   "cell_type": "code",
   "execution_count": 1793,
   "metadata": {},
   "outputs": [
    {
     "data": {
      "text/plain": [
       "5.6"
      ]
     },
     "execution_count": 1793,
     "metadata": {},
     "output_type": "execute_result"
    }
   ],
   "source": [
    "# sigmoid_width_rescale = 0.8\n",
    "sigmoid_width_rescale = 0.7\n",
    "# sigmoid_width_rescale = 0.6\n",
    "# sigmoid_width_rescale = 0.5\n",
    "# sigmoid_width_rescale = 0.4\n",
    "sigmoide_rescale = (8/(sigmoid_range/2))* sigmoid_width_rescale\n",
    "\n",
    "# sigmoide_rescale = 1\n",
    "sigmoide_rescale"
   ]
  },
  {
   "cell_type": "code",
   "execution_count": 1794,
   "metadata": {},
   "outputs": [
    {
     "data": {
      "text/html": [
       "<div>\n",
       "<style scoped>\n",
       "    .dataframe tbody tr th:only-of-type {\n",
       "        vertical-align: middle;\n",
       "    }\n",
       "\n",
       "    .dataframe tbody tr th {\n",
       "        vertical-align: top;\n",
       "    }\n",
       "\n",
       "    .dataframe thead th {\n",
       "        text-align: right;\n",
       "    }\n",
       "</style>\n",
       "<table border=\"1\" class=\"dataframe\">\n",
       "  <thead>\n",
       "    <tr style=\"text-align: right;\">\n",
       "      <th></th>\n",
       "      <th>x</th>\n",
       "      <th>x_resc</th>\n",
       "      <th>sigmoid</th>\n",
       "      <th>sigmoid_resc</th>\n",
       "      <th>sig_norm</th>\n",
       "    </tr>\n",
       "  </thead>\n",
       "  <tbody>\n",
       "    <tr>\n",
       "      <th>0</th>\n",
       "      <td>-1.000000</td>\n",
       "      <td>-128.0</td>\n",
       "      <td>0.003684</td>\n",
       "      <td>0.471583</td>\n",
       "      <td>0.424653</td>\n",
       "    </tr>\n",
       "    <tr>\n",
       "      <th>1</th>\n",
       "      <td>-0.992188</td>\n",
       "      <td>-127.0</td>\n",
       "      <td>0.003848</td>\n",
       "      <td>0.492591</td>\n",
       "      <td>0.446388</td>\n",
       "    </tr>\n",
       "    <tr>\n",
       "      <th>2</th>\n",
       "      <td>-0.984375</td>\n",
       "      <td>-126.0</td>\n",
       "      <td>0.004020</td>\n",
       "      <td>0.514532</td>\n",
       "      <td>0.469232</td>\n",
       "    </tr>\n",
       "    <tr>\n",
       "      <th>3</th>\n",
       "      <td>-0.976562</td>\n",
       "      <td>-125.0</td>\n",
       "      <td>0.004199</td>\n",
       "      <td>0.537446</td>\n",
       "      <td>0.493244</td>\n",
       "    </tr>\n",
       "    <tr>\n",
       "      <th>4</th>\n",
       "      <td>-0.968750</td>\n",
       "      <td>-124.0</td>\n",
       "      <td>0.004386</td>\n",
       "      <td>0.561376</td>\n",
       "      <td>0.518482</td>\n",
       "    </tr>\n",
       "    <tr>\n",
       "      <th>...</th>\n",
       "      <td>...</td>\n",
       "      <td>...</td>\n",
       "      <td>...</td>\n",
       "      <td>...</td>\n",
       "      <td>...</td>\n",
       "    </tr>\n",
       "    <tr>\n",
       "      <th>252</th>\n",
       "      <td>0.968750</td>\n",
       "      <td>124.0</td>\n",
       "      <td>0.995614</td>\n",
       "      <td>127.438624</td>\n",
       "      <td>255.481518</td>\n",
       "    </tr>\n",
       "    <tr>\n",
       "      <th>253</th>\n",
       "      <td>0.976562</td>\n",
       "      <td>125.0</td>\n",
       "      <td>0.995801</td>\n",
       "      <td>127.462554</td>\n",
       "      <td>255.506756</td>\n",
       "    </tr>\n",
       "    <tr>\n",
       "      <th>254</th>\n",
       "      <td>0.984375</td>\n",
       "      <td>126.0</td>\n",
       "      <td>0.995980</td>\n",
       "      <td>127.485468</td>\n",
       "      <td>255.530768</td>\n",
       "    </tr>\n",
       "    <tr>\n",
       "      <th>255</th>\n",
       "      <td>0.992188</td>\n",
       "      <td>127.0</td>\n",
       "      <td>0.996152</td>\n",
       "      <td>127.507409</td>\n",
       "      <td>255.553612</td>\n",
       "    </tr>\n",
       "    <tr>\n",
       "      <th>256</th>\n",
       "      <td>1.000000</td>\n",
       "      <td>128.0</td>\n",
       "      <td>0.996316</td>\n",
       "      <td>127.528417</td>\n",
       "      <td>255.575347</td>\n",
       "    </tr>\n",
       "  </tbody>\n",
       "</table>\n",
       "<p>257 rows × 5 columns</p>\n",
       "</div>"
      ],
      "text/plain": [
       "            x  x_resc   sigmoid  sigmoid_resc    sig_norm\n",
       "0   -1.000000  -128.0  0.003684      0.471583    0.424653\n",
       "1   -0.992188  -127.0  0.003848      0.492591    0.446388\n",
       "2   -0.984375  -126.0  0.004020      0.514532    0.469232\n",
       "3   -0.976562  -125.0  0.004199      0.537446    0.493244\n",
       "4   -0.968750  -124.0  0.004386      0.561376    0.518482\n",
       "..        ...     ...       ...           ...         ...\n",
       "252  0.968750   124.0  0.995614    127.438624  255.481518\n",
       "253  0.976562   125.0  0.995801    127.462554  255.506756\n",
       "254  0.984375   126.0  0.995980    127.485468  255.530768\n",
       "255  0.992188   127.0  0.996152    127.507409  255.553612\n",
       "256  1.000000   128.0  0.996316    127.528417  255.575347\n",
       "\n",
       "[257 rows x 5 columns]"
      ]
     },
     "execution_count": 1794,
     "metadata": {},
     "output_type": "execute_result"
    }
   ],
   "source": [
    "# (1/(1+(e^(-1*(x*sigmoide_rescale)))))\n",
    "multiplied_list = [(1/(1+(exp(-1*(element*sigmoide_rescale))))) for element in sigmoid_dx_list]\n",
    "# multiplied_list = [(1/(1+(exp(-1*(element*sigmoide_rescale)))) *(1.1)) for element in sigmoid_dx_list]\n",
    "df['sigmoid']= multiplied_list\n",
    "df['sigmoid_resc']= df['sigmoid']*integer_mult_factor\n",
    "df"
   ]
  },
  {
   "attachments": {},
   "cell_type": "markdown",
   "metadata": {},
   "source": [
    "## Sigmoid expansion (change 'x' rescale)"
   ]
  },
  {
   "cell_type": "code",
   "execution_count": 1795,
   "metadata": {},
   "outputs": [
    {
     "data": {
      "text/html": [
       "<div>\n",
       "<style scoped>\n",
       "    .dataframe tbody tr th:only-of-type {\n",
       "        vertical-align: middle;\n",
       "    }\n",
       "\n",
       "    .dataframe tbody tr th {\n",
       "        vertical-align: top;\n",
       "    }\n",
       "\n",
       "    .dataframe thead th {\n",
       "        text-align: right;\n",
       "    }\n",
       "</style>\n",
       "<table border=\"1\" class=\"dataframe\">\n",
       "  <thead>\n",
       "    <tr style=\"text-align: right;\">\n",
       "      <th></th>\n",
       "      <th>x</th>\n",
       "      <th>x_resc</th>\n",
       "      <th>sigmoid</th>\n",
       "      <th>sigmoid_resc</th>\n",
       "      <th>sig_norm</th>\n",
       "    </tr>\n",
       "  </thead>\n",
       "  <tbody>\n",
       "    <tr>\n",
       "      <th>0</th>\n",
       "      <td>-1.000000</td>\n",
       "      <td>-128.0</td>\n",
       "      <td>0.003684</td>\n",
       "      <td>0.471583</td>\n",
       "      <td>0.943165</td>\n",
       "    </tr>\n",
       "    <tr>\n",
       "      <th>1</th>\n",
       "      <td>-0.992188</td>\n",
       "      <td>-127.0</td>\n",
       "      <td>0.003848</td>\n",
       "      <td>0.492591</td>\n",
       "      <td>0.985183</td>\n",
       "    </tr>\n",
       "    <tr>\n",
       "      <th>2</th>\n",
       "      <td>-0.984375</td>\n",
       "      <td>-126.0</td>\n",
       "      <td>0.004020</td>\n",
       "      <td>0.514532</td>\n",
       "      <td>1.029064</td>\n",
       "    </tr>\n",
       "    <tr>\n",
       "      <th>3</th>\n",
       "      <td>-0.976562</td>\n",
       "      <td>-125.0</td>\n",
       "      <td>0.004199</td>\n",
       "      <td>0.537446</td>\n",
       "      <td>1.074892</td>\n",
       "    </tr>\n",
       "    <tr>\n",
       "      <th>4</th>\n",
       "      <td>-0.968750</td>\n",
       "      <td>-124.0</td>\n",
       "      <td>0.004386</td>\n",
       "      <td>0.561376</td>\n",
       "      <td>1.122751</td>\n",
       "    </tr>\n",
       "    <tr>\n",
       "      <th>...</th>\n",
       "      <td>...</td>\n",
       "      <td>...</td>\n",
       "      <td>...</td>\n",
       "      <td>...</td>\n",
       "      <td>...</td>\n",
       "    </tr>\n",
       "    <tr>\n",
       "      <th>252</th>\n",
       "      <td>0.968750</td>\n",
       "      <td>124.0</td>\n",
       "      <td>0.995614</td>\n",
       "      <td>127.438624</td>\n",
       "      <td>254.877249</td>\n",
       "    </tr>\n",
       "    <tr>\n",
       "      <th>253</th>\n",
       "      <td>0.976562</td>\n",
       "      <td>125.0</td>\n",
       "      <td>0.995801</td>\n",
       "      <td>127.462554</td>\n",
       "      <td>254.925108</td>\n",
       "    </tr>\n",
       "    <tr>\n",
       "      <th>254</th>\n",
       "      <td>0.984375</td>\n",
       "      <td>126.0</td>\n",
       "      <td>0.995980</td>\n",
       "      <td>127.485468</td>\n",
       "      <td>254.970936</td>\n",
       "    </tr>\n",
       "    <tr>\n",
       "      <th>255</th>\n",
       "      <td>0.992188</td>\n",
       "      <td>127.0</td>\n",
       "      <td>0.996152</td>\n",
       "      <td>127.507409</td>\n",
       "      <td>255.014817</td>\n",
       "    </tr>\n",
       "    <tr>\n",
       "      <th>256</th>\n",
       "      <td>1.000000</td>\n",
       "      <td>128.0</td>\n",
       "      <td>0.996316</td>\n",
       "      <td>127.528417</td>\n",
       "      <td>255.056835</td>\n",
       "    </tr>\n",
       "  </tbody>\n",
       "</table>\n",
       "<p>257 rows × 5 columns</p>\n",
       "</div>"
      ],
      "text/plain": [
       "            x  x_resc   sigmoid  sigmoid_resc    sig_norm\n",
       "0   -1.000000  -128.0  0.003684      0.471583    0.943165\n",
       "1   -0.992188  -127.0  0.003848      0.492591    0.985183\n",
       "2   -0.984375  -126.0  0.004020      0.514532    1.029064\n",
       "3   -0.976562  -125.0  0.004199      0.537446    1.074892\n",
       "4   -0.968750  -124.0  0.004386      0.561376    1.122751\n",
       "..        ...     ...       ...           ...         ...\n",
       "252  0.968750   124.0  0.995614    127.438624  254.877249\n",
       "253  0.976562   125.0  0.995801    127.462554  254.925108\n",
       "254  0.984375   126.0  0.995980    127.485468  254.970936\n",
       "255  0.992188   127.0  0.996152    127.507409  255.014817\n",
       "256  1.000000   128.0  0.996316    127.528417  255.056835\n",
       "\n",
       "[257 rows x 5 columns]"
      ]
     },
     "execution_count": 1795,
     "metadata": {},
     "output_type": "execute_result"
    }
   ],
   "source": [
    "# df['x'] = n_re_scale\n",
    "# df['n_zeros'] = (df['x'] + dx_sigmoid) #zeros para serem salvos na memória\n",
    "df['sig_norm']= df['sigmoid_resc']*norm_y\n",
    "df"
   ]
  },
  {
   "attachments": {},
   "cell_type": "markdown",
   "metadata": {},
   "source": [
    "## df_bin"
   ]
  },
  {
   "cell_type": "code",
   "execution_count": 1796,
   "metadata": {},
   "outputs": [
    {
     "data": {
      "text/html": [
       "<div>\n",
       "<style scoped>\n",
       "    .dataframe tbody tr th:only-of-type {\n",
       "        vertical-align: middle;\n",
       "    }\n",
       "\n",
       "    .dataframe tbody tr th {\n",
       "        vertical-align: top;\n",
       "    }\n",
       "\n",
       "    .dataframe thead th {\n",
       "        text-align: right;\n",
       "    }\n",
       "</style>\n",
       "<table border=\"1\" class=\"dataframe\">\n",
       "  <thead>\n",
       "    <tr style=\"text-align: right;\">\n",
       "      <th></th>\n",
       "      <th>address</th>\n",
       "      <th>address_bin</th>\n",
       "      <th>address_bin_conv</th>\n",
       "    </tr>\n",
       "  </thead>\n",
       "  <tbody>\n",
       "    <tr>\n",
       "      <th>0</th>\n",
       "      <td>-128.0</td>\n",
       "      <td>10000000</td>\n",
       "      <td>-128.0</td>\n",
       "    </tr>\n",
       "    <tr>\n",
       "      <th>1</th>\n",
       "      <td>-127.0</td>\n",
       "      <td>10000001</td>\n",
       "      <td>-127.0</td>\n",
       "    </tr>\n",
       "    <tr>\n",
       "      <th>2</th>\n",
       "      <td>-126.0</td>\n",
       "      <td>10000010</td>\n",
       "      <td>-126.0</td>\n",
       "    </tr>\n",
       "    <tr>\n",
       "      <th>3</th>\n",
       "      <td>-125.0</td>\n",
       "      <td>10000011</td>\n",
       "      <td>-125.0</td>\n",
       "    </tr>\n",
       "    <tr>\n",
       "      <th>4</th>\n",
       "      <td>-124.0</td>\n",
       "      <td>10000100</td>\n",
       "      <td>-124.0</td>\n",
       "    </tr>\n",
       "    <tr>\n",
       "      <th>...</th>\n",
       "      <td>...</td>\n",
       "      <td>...</td>\n",
       "      <td>...</td>\n",
       "    </tr>\n",
       "    <tr>\n",
       "      <th>252</th>\n",
       "      <td>124.0</td>\n",
       "      <td>01111100</td>\n",
       "      <td>124.0</td>\n",
       "    </tr>\n",
       "    <tr>\n",
       "      <th>253</th>\n",
       "      <td>125.0</td>\n",
       "      <td>01111101</td>\n",
       "      <td>125.0</td>\n",
       "    </tr>\n",
       "    <tr>\n",
       "      <th>254</th>\n",
       "      <td>126.0</td>\n",
       "      <td>01111110</td>\n",
       "      <td>126.0</td>\n",
       "    </tr>\n",
       "    <tr>\n",
       "      <th>255</th>\n",
       "      <td>127.0</td>\n",
       "      <td>01111111</td>\n",
       "      <td>127.0</td>\n",
       "    </tr>\n",
       "    <tr>\n",
       "      <th>256</th>\n",
       "      <td>128.0</td>\n",
       "      <td>01111111</td>\n",
       "      <td>127.0</td>\n",
       "    </tr>\n",
       "  </tbody>\n",
       "</table>\n",
       "<p>257 rows × 3 columns</p>\n",
       "</div>"
      ],
      "text/plain": [
       "     address address_bin  address_bin_conv\n",
       "0     -128.0    10000000            -128.0\n",
       "1     -127.0    10000001            -127.0\n",
       "2     -126.0    10000010            -126.0\n",
       "3     -125.0    10000011            -125.0\n",
       "4     -124.0    10000100            -124.0\n",
       "..       ...         ...               ...\n",
       "252    124.0    01111100             124.0\n",
       "253    125.0    01111101             125.0\n",
       "254    126.0    01111110             126.0\n",
       "255    127.0    01111111             127.0\n",
       "256    128.0    01111111             127.0\n",
       "\n",
       "[257 rows x 3 columns]"
      ]
     },
     "execution_count": 1796,
     "metadata": {},
     "output_type": "execute_result"
    }
   ],
   "source": [
    "from fxpmath import Fxp\n",
    "#SIGMOID MEMORY\n",
    "df_bin = pd.DataFrame()\n",
    "\n",
    "# X\n",
    "df_bin['address'] = (df['x_resc'])\n",
    "df_bin['address_bin'] = (df_bin['address'].apply(lambda x:  Fxp(x, signed=is_signed, n_word= BIT_WIDTH, n_frac= 0).bin() ) )\n",
    "address_bin_converted = df_bin['address_bin'].apply(lambda x:  Fxp(f\"0b{x}\", signed=is_signed, n_word= BIT_WIDTH, n_frac= 0).astype(float) ) \n",
    "df_bin['address_bin_conv'] = address_bin_converted\n",
    "df_bin"
   ]
  },
  {
   "cell_type": "code",
   "execution_count": 1797,
   "metadata": {},
   "outputs": [
    {
     "data": {
      "text/html": [
       "<div>\n",
       "<style scoped>\n",
       "    .dataframe tbody tr th:only-of-type {\n",
       "        vertical-align: middle;\n",
       "    }\n",
       "\n",
       "    .dataframe tbody tr th {\n",
       "        vertical-align: top;\n",
       "    }\n",
       "\n",
       "    .dataframe thead th {\n",
       "        text-align: right;\n",
       "    }\n",
       "</style>\n",
       "<table border=\"1\" class=\"dataframe\">\n",
       "  <thead>\n",
       "    <tr style=\"text-align: right;\">\n",
       "      <th></th>\n",
       "      <th>address</th>\n",
       "      <th>address_bin</th>\n",
       "      <th>address_bin_conv</th>\n",
       "      <th>sigmoid</th>\n",
       "      <th>sigmoid_bin</th>\n",
       "      <th>sigmoid_bin_conv</th>\n",
       "    </tr>\n",
       "  </thead>\n",
       "  <tbody>\n",
       "    <tr>\n",
       "      <th>0</th>\n",
       "      <td>-128.0</td>\n",
       "      <td>10000000</td>\n",
       "      <td>-128.0</td>\n",
       "      <td>0.943165</td>\n",
       "      <td>00000000</td>\n",
       "      <td>0.0</td>\n",
       "    </tr>\n",
       "    <tr>\n",
       "      <th>1</th>\n",
       "      <td>-127.0</td>\n",
       "      <td>10000001</td>\n",
       "      <td>-127.0</td>\n",
       "      <td>0.985183</td>\n",
       "      <td>00000000</td>\n",
       "      <td>0.0</td>\n",
       "    </tr>\n",
       "    <tr>\n",
       "      <th>2</th>\n",
       "      <td>-126.0</td>\n",
       "      <td>10000010</td>\n",
       "      <td>-126.0</td>\n",
       "      <td>1.029064</td>\n",
       "      <td>00000001</td>\n",
       "      <td>1.0</td>\n",
       "    </tr>\n",
       "    <tr>\n",
       "      <th>3</th>\n",
       "      <td>-125.0</td>\n",
       "      <td>10000011</td>\n",
       "      <td>-125.0</td>\n",
       "      <td>1.074892</td>\n",
       "      <td>00000001</td>\n",
       "      <td>1.0</td>\n",
       "    </tr>\n",
       "    <tr>\n",
       "      <th>4</th>\n",
       "      <td>-124.0</td>\n",
       "      <td>10000100</td>\n",
       "      <td>-124.0</td>\n",
       "      <td>1.122751</td>\n",
       "      <td>00000001</td>\n",
       "      <td>1.0</td>\n",
       "    </tr>\n",
       "    <tr>\n",
       "      <th>...</th>\n",
       "      <td>...</td>\n",
       "      <td>...</td>\n",
       "      <td>...</td>\n",
       "      <td>...</td>\n",
       "      <td>...</td>\n",
       "      <td>...</td>\n",
       "    </tr>\n",
       "    <tr>\n",
       "      <th>252</th>\n",
       "      <td>124.0</td>\n",
       "      <td>01111100</td>\n",
       "      <td>124.0</td>\n",
       "      <td>254.877249</td>\n",
       "      <td>11111110</td>\n",
       "      <td>254.0</td>\n",
       "    </tr>\n",
       "    <tr>\n",
       "      <th>253</th>\n",
       "      <td>125.0</td>\n",
       "      <td>01111101</td>\n",
       "      <td>125.0</td>\n",
       "      <td>254.925108</td>\n",
       "      <td>11111110</td>\n",
       "      <td>254.0</td>\n",
       "    </tr>\n",
       "    <tr>\n",
       "      <th>254</th>\n",
       "      <td>126.0</td>\n",
       "      <td>01111110</td>\n",
       "      <td>126.0</td>\n",
       "      <td>254.970936</td>\n",
       "      <td>11111110</td>\n",
       "      <td>254.0</td>\n",
       "    </tr>\n",
       "    <tr>\n",
       "      <th>255</th>\n",
       "      <td>127.0</td>\n",
       "      <td>01111111</td>\n",
       "      <td>127.0</td>\n",
       "      <td>255.014817</td>\n",
       "      <td>11111111</td>\n",
       "      <td>255.0</td>\n",
       "    </tr>\n",
       "    <tr>\n",
       "      <th>256</th>\n",
       "      <td>128.0</td>\n",
       "      <td>01111111</td>\n",
       "      <td>127.0</td>\n",
       "      <td>255.056835</td>\n",
       "      <td>11111111</td>\n",
       "      <td>255.0</td>\n",
       "    </tr>\n",
       "  </tbody>\n",
       "</table>\n",
       "<p>257 rows × 6 columns</p>\n",
       "</div>"
      ],
      "text/plain": [
       "     address address_bin  address_bin_conv     sigmoid sigmoid_bin  \\\n",
       "0     -128.0    10000000            -128.0    0.943165    00000000   \n",
       "1     -127.0    10000001            -127.0    0.985183    00000000   \n",
       "2     -126.0    10000010            -126.0    1.029064    00000001   \n",
       "3     -125.0    10000011            -125.0    1.074892    00000001   \n",
       "4     -124.0    10000100            -124.0    1.122751    00000001   \n",
       "..       ...         ...               ...         ...         ...   \n",
       "252    124.0    01111100             124.0  254.877249    11111110   \n",
       "253    125.0    01111101             125.0  254.925108    11111110   \n",
       "254    126.0    01111110             126.0  254.970936    11111110   \n",
       "255    127.0    01111111             127.0  255.014817    11111111   \n",
       "256    128.0    01111111             127.0  255.056835    11111111   \n",
       "\n",
       "     sigmoid_bin_conv  \n",
       "0                 0.0  \n",
       "1                 0.0  \n",
       "2                 1.0  \n",
       "3                 1.0  \n",
       "4                 1.0  \n",
       "..                ...  \n",
       "252             254.0  \n",
       "253             254.0  \n",
       "254             254.0  \n",
       "255             255.0  \n",
       "256             255.0  \n",
       "\n",
       "[257 rows x 6 columns]"
      ]
     },
     "execution_count": 1797,
     "metadata": {},
     "output_type": "execute_result"
    }
   ],
   "source": [
    "# Y (sigmoid)\n",
    "df_bin['sigmoid'] = (df['sig_norm'])\n",
    "df_bin['sigmoid_bin'] = (df_bin['sigmoid'].apply(lambda x:  Fxp(x, signed=is_sigmoid_signed, n_word= BIT_WIDTH, n_frac= 0).bin() ) )\n",
    "df_bin['sigmoid_bin_conv'] = df_bin['sigmoid_bin'].apply(lambda x:  Fxp(f\"0b{x}\", signed=is_sigmoid_signed, n_word= BIT_WIDTH, n_frac= 0).astype(float) ) \n",
    "df_bin"
   ]
  },
  {
   "cell_type": "code",
   "execution_count": 1798,
   "metadata": {},
   "outputs": [
    {
     "data": {
      "text/html": [
       "<div>\n",
       "<style scoped>\n",
       "    .dataframe tbody tr th:only-of-type {\n",
       "        vertical-align: middle;\n",
       "    }\n",
       "\n",
       "    .dataframe tbody tr th {\n",
       "        vertical-align: top;\n",
       "    }\n",
       "\n",
       "    .dataframe thead th {\n",
       "        text-align: right;\n",
       "    }\n",
       "</style>\n",
       "<table border=\"1\" class=\"dataframe\">\n",
       "  <thead>\n",
       "    <tr style=\"text-align: right;\">\n",
       "      <th></th>\n",
       "      <th>address</th>\n",
       "      <th>address_bin</th>\n",
       "      <th>address_bin_conv</th>\n",
       "      <th>sigmoid</th>\n",
       "      <th>sigmoid_bin</th>\n",
       "      <th>sigmoid_bin_conv</th>\n",
       "    </tr>\n",
       "  </thead>\n",
       "  <tbody>\n",
       "    <tr>\n",
       "      <th>0</th>\n",
       "      <td>-128.0</td>\n",
       "      <td>10000000</td>\n",
       "      <td>-128.0</td>\n",
       "      <td>0.943165</td>\n",
       "      <td>00000000</td>\n",
       "      <td>0.0</td>\n",
       "    </tr>\n",
       "    <tr>\n",
       "      <th>1</th>\n",
       "      <td>-127.0</td>\n",
       "      <td>10000001</td>\n",
       "      <td>-127.0</td>\n",
       "      <td>0.985183</td>\n",
       "      <td>00000000</td>\n",
       "      <td>0.0</td>\n",
       "    </tr>\n",
       "    <tr>\n",
       "      <th>2</th>\n",
       "      <td>-126.0</td>\n",
       "      <td>10000010</td>\n",
       "      <td>-126.0</td>\n",
       "      <td>1.029064</td>\n",
       "      <td>00000001</td>\n",
       "      <td>1.0</td>\n",
       "    </tr>\n",
       "    <tr>\n",
       "      <th>3</th>\n",
       "      <td>-125.0</td>\n",
       "      <td>10000011</td>\n",
       "      <td>-125.0</td>\n",
       "      <td>1.074892</td>\n",
       "      <td>00000001</td>\n",
       "      <td>1.0</td>\n",
       "    </tr>\n",
       "    <tr>\n",
       "      <th>4</th>\n",
       "      <td>-124.0</td>\n",
       "      <td>10000100</td>\n",
       "      <td>-124.0</td>\n",
       "      <td>1.122751</td>\n",
       "      <td>00000001</td>\n",
       "      <td>1.0</td>\n",
       "    </tr>\n",
       "    <tr>\n",
       "      <th>...</th>\n",
       "      <td>...</td>\n",
       "      <td>...</td>\n",
       "      <td>...</td>\n",
       "      <td>...</td>\n",
       "      <td>...</td>\n",
       "      <td>...</td>\n",
       "    </tr>\n",
       "    <tr>\n",
       "      <th>251</th>\n",
       "      <td>123.0</td>\n",
       "      <td>01111011</td>\n",
       "      <td>123.0</td>\n",
       "      <td>254.827268</td>\n",
       "      <td>11111110</td>\n",
       "      <td>254.0</td>\n",
       "    </tr>\n",
       "    <tr>\n",
       "      <th>252</th>\n",
       "      <td>124.0</td>\n",
       "      <td>01111100</td>\n",
       "      <td>124.0</td>\n",
       "      <td>254.877249</td>\n",
       "      <td>11111110</td>\n",
       "      <td>254.0</td>\n",
       "    </tr>\n",
       "    <tr>\n",
       "      <th>253</th>\n",
       "      <td>125.0</td>\n",
       "      <td>01111101</td>\n",
       "      <td>125.0</td>\n",
       "      <td>254.925108</td>\n",
       "      <td>11111110</td>\n",
       "      <td>254.0</td>\n",
       "    </tr>\n",
       "    <tr>\n",
       "      <th>254</th>\n",
       "      <td>126.0</td>\n",
       "      <td>01111110</td>\n",
       "      <td>126.0</td>\n",
       "      <td>254.970936</td>\n",
       "      <td>11111110</td>\n",
       "      <td>254.0</td>\n",
       "    </tr>\n",
       "    <tr>\n",
       "      <th>255</th>\n",
       "      <td>127.0</td>\n",
       "      <td>01111111</td>\n",
       "      <td>127.0</td>\n",
       "      <td>255.014817</td>\n",
       "      <td>11111111</td>\n",
       "      <td>255.0</td>\n",
       "    </tr>\n",
       "  </tbody>\n",
       "</table>\n",
       "<p>256 rows × 6 columns</p>\n",
       "</div>"
      ],
      "text/plain": [
       "     address address_bin  address_bin_conv     sigmoid sigmoid_bin  \\\n",
       "0     -128.0    10000000            -128.0    0.943165    00000000   \n",
       "1     -127.0    10000001            -127.0    0.985183    00000000   \n",
       "2     -126.0    10000010            -126.0    1.029064    00000001   \n",
       "3     -125.0    10000011            -125.0    1.074892    00000001   \n",
       "4     -124.0    10000100            -124.0    1.122751    00000001   \n",
       "..       ...         ...               ...         ...         ...   \n",
       "251    123.0    01111011             123.0  254.827268    11111110   \n",
       "252    124.0    01111100             124.0  254.877249    11111110   \n",
       "253    125.0    01111101             125.0  254.925108    11111110   \n",
       "254    126.0    01111110             126.0  254.970936    11111110   \n",
       "255    127.0    01111111             127.0  255.014817    11111111   \n",
       "\n",
       "     sigmoid_bin_conv  \n",
       "0                 0.0  \n",
       "1                 0.0  \n",
       "2                 1.0  \n",
       "3                 1.0  \n",
       "4                 1.0  \n",
       "..                ...  \n",
       "251             254.0  \n",
       "252             254.0  \n",
       "253             254.0  \n",
       "254             254.0  \n",
       "255             255.0  \n",
       "\n",
       "[256 rows x 6 columns]"
      ]
     },
     "execution_count": 1798,
     "metadata": {},
     "output_type": "execute_result"
    }
   ],
   "source": [
    "# # AJUSTANTO DATAFRAME CONFORME LIMITES DE REPRESENTAÇÃO\n",
    "# upper_limit = (sigmoid_range/2 - (1/2**(BIT_WIDTH-1))) * (2**(BIT_WIDTH-1))\n",
    "# low_limit = -(sigmoid_range/2) * (2**(BIT_WIDTH-1))\n",
    "# print(upper_limit,low_limit)\n",
    "\n",
    "# df_bin['sigmoid'].loc[df_bin['sigmoid'] > upper_limit] = upper_limit # substituindo valores maiores que o limite superior, pelo próprio limite superior\n",
    "# df_bin['address'].loc[df_bin['address'] > upper_limit] = upper_limit # substituindo valores maiores que o limite superior, pelo próprio limite superior\n",
    "\n",
    "\n",
    "df_bin.drop(df_bin.tail(1).index,inplace=True) # drop last n rows\n",
    "df_bin"
   ]
  },
  {
   "cell_type": "code",
   "execution_count": 1799,
   "metadata": {},
   "outputs": [
    {
     "data": {
      "text/plain": [
       "0"
      ]
     },
     "execution_count": 1799,
     "metadata": {},
     "output_type": "execute_result"
    }
   ],
   "source": [
    "#conferir quantas linhas de endereço duplicadas tem\n",
    "len(df_bin['address_bin'])-len(df_bin['address_bin'].drop_duplicates())"
   ]
  },
  {
   "attachments": {},
   "cell_type": "markdown",
   "metadata": {},
   "source": [
    "# Graphs"
   ]
  },
  {
   "cell_type": "code",
   "execution_count": 1800,
   "metadata": {},
   "outputs": [],
   "source": [
    "import matplotlib.pyplot as plt\n",
    "import numpy as np\n",
    "import pandas as pd\n",
    "import seaborn as sns\n",
    "import matplotlib.pyplot as plt\n",
    "import plotly.graph_objects as go\n",
    "import plotly.offline as py"
   ]
  },
  {
   "cell_type": "code",
   "execution_count": 1801,
   "metadata": {},
   "outputs": [
    {
     "data": {
      "application/vnd.plotly.v1+json": {
       "config": {
        "linkText": "Export to plot.ly",
        "plotlyServerURL": "https://plot.ly",
        "showLink": false
       },
       "data": [
        {
         "line": {
          "shape": "spline"
         },
         "name": "sigmoid_bin",
         "opacity": 0.8,
         "type": "scatter",
         "x": [
          -128,
          -127,
          -126,
          -125,
          -124,
          -123,
          -122,
          -121,
          -120,
          -119,
          -118,
          -117,
          -116,
          -115,
          -114,
          -113,
          -112,
          -111,
          -110,
          -109,
          -108,
          -107,
          -106,
          -105,
          -104,
          -103,
          -102,
          -101,
          -100,
          -99,
          -98,
          -97,
          -96,
          -95,
          -94,
          -93,
          -92,
          -91,
          -90,
          -89,
          -88,
          -87,
          -86,
          -85,
          -84,
          -83,
          -82,
          -81,
          -80,
          -79,
          -78,
          -77,
          -76,
          -75,
          -74,
          -73,
          -72,
          -71,
          -70,
          -69,
          -68,
          -67,
          -66,
          -65,
          -64,
          -63,
          -62,
          -61,
          -60,
          -59,
          -58,
          -57,
          -56,
          -55,
          -54,
          -53,
          -52,
          -51,
          -50,
          -49,
          -48,
          -47,
          -46,
          -45,
          -44,
          -43,
          -42,
          -41,
          -40,
          -39,
          -38,
          -37,
          -36,
          -35,
          -34,
          -33,
          -32,
          -31,
          -30,
          -29,
          -28,
          -27,
          -26,
          -25,
          -24,
          -23,
          -22,
          -21,
          -20,
          -19,
          -18,
          -17,
          -16,
          -15,
          -14,
          -13,
          -12,
          -11,
          -10,
          -9,
          -8,
          -7,
          -6,
          -5,
          -4,
          -3,
          -2,
          -1,
          0,
          1,
          2,
          3,
          4,
          5,
          6,
          7,
          8,
          9,
          10,
          11,
          12,
          13,
          14,
          15,
          16,
          17,
          18,
          19,
          20,
          21,
          22,
          23,
          24,
          25,
          26,
          27,
          28,
          29,
          30,
          31,
          32,
          33,
          34,
          35,
          36,
          37,
          38,
          39,
          40,
          41,
          42,
          43,
          44,
          45,
          46,
          47,
          48,
          49,
          50,
          51,
          52,
          53,
          54,
          55,
          56,
          57,
          58,
          59,
          60,
          61,
          62,
          63,
          64,
          65,
          66,
          67,
          68,
          69,
          70,
          71,
          72,
          73,
          74,
          75,
          76,
          77,
          78,
          79,
          80,
          81,
          82,
          83,
          84,
          85,
          86,
          87,
          88,
          89,
          90,
          91,
          92,
          93,
          94,
          95,
          96,
          97,
          98,
          99,
          100,
          101,
          102,
          103,
          104,
          105,
          106,
          107,
          108,
          109,
          110,
          111,
          112,
          113,
          114,
          115,
          116,
          117,
          118,
          119,
          120,
          121,
          122,
          123,
          124,
          125,
          126,
          127
         ],
         "y": [
          0,
          0,
          1,
          1,
          1,
          1,
          1,
          1,
          1,
          1,
          1,
          1,
          1,
          1,
          1,
          1,
          1,
          1,
          2,
          2,
          2,
          2,
          2,
          2,
          2,
          2,
          2,
          3,
          3,
          3,
          3,
          3,
          3,
          3,
          4,
          4,
          4,
          4,
          4,
          5,
          5,
          5,
          5,
          6,
          6,
          6,
          6,
          7,
          7,
          7,
          8,
          8,
          8,
          9,
          9,
          10,
          10,
          10,
          11,
          11,
          12,
          12,
          13,
          14,
          14,
          15,
          15,
          16,
          17,
          18,
          18,
          19,
          20,
          21,
          22,
          22,
          23,
          24,
          25,
          26,
          27,
          29,
          30,
          31,
          32,
          33,
          35,
          36,
          37,
          39,
          40,
          42,
          43,
          45,
          47,
          48,
          50,
          52,
          54,
          56,
          58,
          60,
          62,
          64,
          66,
          68,
          70,
          73,
          75,
          77,
          80,
          82,
          84,
          87,
          89,
          92,
          95,
          97,
          100,
          103,
          105,
          108,
          111,
          114,
          116,
          119,
          122,
          125,
          128,
          130,
          133,
          136,
          139,
          141,
          144,
          147,
          150,
          152,
          155,
          158,
          160,
          163,
          166,
          168,
          171,
          173,
          175,
          178,
          180,
          182,
          185,
          187,
          189,
          191,
          193,
          195,
          197,
          199,
          201,
          203,
          205,
          207,
          208,
          210,
          212,
          213,
          215,
          216,
          218,
          219,
          220,
          222,
          223,
          224,
          225,
          226,
          228,
          229,
          230,
          231,
          232,
          233,
          233,
          234,
          235,
          236,
          237,
          237,
          238,
          239,
          240,
          240,
          241,
          241,
          242,
          243,
          243,
          244,
          244,
          245,
          245,
          245,
          246,
          246,
          247,
          247,
          247,
          248,
          248,
          248,
          249,
          249,
          249,
          249,
          250,
          250,
          250,
          250,
          251,
          251,
          251,
          251,
          251,
          252,
          252,
          252,
          252,
          252,
          252,
          252,
          253,
          253,
          253,
          253,
          253,
          253,
          253,
          253,
          253,
          254,
          254,
          254,
          254,
          254,
          254,
          254,
          254,
          254,
          254,
          254,
          254,
          254,
          254,
          254,
          254,
          255
         ]
        }
       ],
       "layout": {
        "template": {
         "data": {
          "bar": [
           {
            "error_x": {
             "color": "#2a3f5f"
            },
            "error_y": {
             "color": "#2a3f5f"
            },
            "marker": {
             "line": {
              "color": "#E5ECF6",
              "width": 0.5
             },
             "pattern": {
              "fillmode": "overlay",
              "size": 10,
              "solidity": 0.2
             }
            },
            "type": "bar"
           }
          ],
          "barpolar": [
           {
            "marker": {
             "line": {
              "color": "#E5ECF6",
              "width": 0.5
             },
             "pattern": {
              "fillmode": "overlay",
              "size": 10,
              "solidity": 0.2
             }
            },
            "type": "barpolar"
           }
          ],
          "carpet": [
           {
            "aaxis": {
             "endlinecolor": "#2a3f5f",
             "gridcolor": "white",
             "linecolor": "white",
             "minorgridcolor": "white",
             "startlinecolor": "#2a3f5f"
            },
            "baxis": {
             "endlinecolor": "#2a3f5f",
             "gridcolor": "white",
             "linecolor": "white",
             "minorgridcolor": "white",
             "startlinecolor": "#2a3f5f"
            },
            "type": "carpet"
           }
          ],
          "choropleth": [
           {
            "colorbar": {
             "outlinewidth": 0,
             "ticks": ""
            },
            "type": "choropleth"
           }
          ],
          "contour": [
           {
            "colorbar": {
             "outlinewidth": 0,
             "ticks": ""
            },
            "colorscale": [
             [
              0,
              "#0d0887"
             ],
             [
              0.1111111111111111,
              "#46039f"
             ],
             [
              0.2222222222222222,
              "#7201a8"
             ],
             [
              0.3333333333333333,
              "#9c179e"
             ],
             [
              0.4444444444444444,
              "#bd3786"
             ],
             [
              0.5555555555555556,
              "#d8576b"
             ],
             [
              0.6666666666666666,
              "#ed7953"
             ],
             [
              0.7777777777777778,
              "#fb9f3a"
             ],
             [
              0.8888888888888888,
              "#fdca26"
             ],
             [
              1,
              "#f0f921"
             ]
            ],
            "type": "contour"
           }
          ],
          "contourcarpet": [
           {
            "colorbar": {
             "outlinewidth": 0,
             "ticks": ""
            },
            "type": "contourcarpet"
           }
          ],
          "heatmap": [
           {
            "colorbar": {
             "outlinewidth": 0,
             "ticks": ""
            },
            "colorscale": [
             [
              0,
              "#0d0887"
             ],
             [
              0.1111111111111111,
              "#46039f"
             ],
             [
              0.2222222222222222,
              "#7201a8"
             ],
             [
              0.3333333333333333,
              "#9c179e"
             ],
             [
              0.4444444444444444,
              "#bd3786"
             ],
             [
              0.5555555555555556,
              "#d8576b"
             ],
             [
              0.6666666666666666,
              "#ed7953"
             ],
             [
              0.7777777777777778,
              "#fb9f3a"
             ],
             [
              0.8888888888888888,
              "#fdca26"
             ],
             [
              1,
              "#f0f921"
             ]
            ],
            "type": "heatmap"
           }
          ],
          "heatmapgl": [
           {
            "colorbar": {
             "outlinewidth": 0,
             "ticks": ""
            },
            "colorscale": [
             [
              0,
              "#0d0887"
             ],
             [
              0.1111111111111111,
              "#46039f"
             ],
             [
              0.2222222222222222,
              "#7201a8"
             ],
             [
              0.3333333333333333,
              "#9c179e"
             ],
             [
              0.4444444444444444,
              "#bd3786"
             ],
             [
              0.5555555555555556,
              "#d8576b"
             ],
             [
              0.6666666666666666,
              "#ed7953"
             ],
             [
              0.7777777777777778,
              "#fb9f3a"
             ],
             [
              0.8888888888888888,
              "#fdca26"
             ],
             [
              1,
              "#f0f921"
             ]
            ],
            "type": "heatmapgl"
           }
          ],
          "histogram": [
           {
            "marker": {
             "pattern": {
              "fillmode": "overlay",
              "size": 10,
              "solidity": 0.2
             }
            },
            "type": "histogram"
           }
          ],
          "histogram2d": [
           {
            "colorbar": {
             "outlinewidth": 0,
             "ticks": ""
            },
            "colorscale": [
             [
              0,
              "#0d0887"
             ],
             [
              0.1111111111111111,
              "#46039f"
             ],
             [
              0.2222222222222222,
              "#7201a8"
             ],
             [
              0.3333333333333333,
              "#9c179e"
             ],
             [
              0.4444444444444444,
              "#bd3786"
             ],
             [
              0.5555555555555556,
              "#d8576b"
             ],
             [
              0.6666666666666666,
              "#ed7953"
             ],
             [
              0.7777777777777778,
              "#fb9f3a"
             ],
             [
              0.8888888888888888,
              "#fdca26"
             ],
             [
              1,
              "#f0f921"
             ]
            ],
            "type": "histogram2d"
           }
          ],
          "histogram2dcontour": [
           {
            "colorbar": {
             "outlinewidth": 0,
             "ticks": ""
            },
            "colorscale": [
             [
              0,
              "#0d0887"
             ],
             [
              0.1111111111111111,
              "#46039f"
             ],
             [
              0.2222222222222222,
              "#7201a8"
             ],
             [
              0.3333333333333333,
              "#9c179e"
             ],
             [
              0.4444444444444444,
              "#bd3786"
             ],
             [
              0.5555555555555556,
              "#d8576b"
             ],
             [
              0.6666666666666666,
              "#ed7953"
             ],
             [
              0.7777777777777778,
              "#fb9f3a"
             ],
             [
              0.8888888888888888,
              "#fdca26"
             ],
             [
              1,
              "#f0f921"
             ]
            ],
            "type": "histogram2dcontour"
           }
          ],
          "mesh3d": [
           {
            "colorbar": {
             "outlinewidth": 0,
             "ticks": ""
            },
            "type": "mesh3d"
           }
          ],
          "parcoords": [
           {
            "line": {
             "colorbar": {
              "outlinewidth": 0,
              "ticks": ""
             }
            },
            "type": "parcoords"
           }
          ],
          "pie": [
           {
            "automargin": true,
            "type": "pie"
           }
          ],
          "scatter": [
           {
            "fillpattern": {
             "fillmode": "overlay",
             "size": 10,
             "solidity": 0.2
            },
            "type": "scatter"
           }
          ],
          "scatter3d": [
           {
            "line": {
             "colorbar": {
              "outlinewidth": 0,
              "ticks": ""
             }
            },
            "marker": {
             "colorbar": {
              "outlinewidth": 0,
              "ticks": ""
             }
            },
            "type": "scatter3d"
           }
          ],
          "scattercarpet": [
           {
            "marker": {
             "colorbar": {
              "outlinewidth": 0,
              "ticks": ""
             }
            },
            "type": "scattercarpet"
           }
          ],
          "scattergeo": [
           {
            "marker": {
             "colorbar": {
              "outlinewidth": 0,
              "ticks": ""
             }
            },
            "type": "scattergeo"
           }
          ],
          "scattergl": [
           {
            "marker": {
             "colorbar": {
              "outlinewidth": 0,
              "ticks": ""
             }
            },
            "type": "scattergl"
           }
          ],
          "scattermapbox": [
           {
            "marker": {
             "colorbar": {
              "outlinewidth": 0,
              "ticks": ""
             }
            },
            "type": "scattermapbox"
           }
          ],
          "scatterpolar": [
           {
            "marker": {
             "colorbar": {
              "outlinewidth": 0,
              "ticks": ""
             }
            },
            "type": "scatterpolar"
           }
          ],
          "scatterpolargl": [
           {
            "marker": {
             "colorbar": {
              "outlinewidth": 0,
              "ticks": ""
             }
            },
            "type": "scatterpolargl"
           }
          ],
          "scatterternary": [
           {
            "marker": {
             "colorbar": {
              "outlinewidth": 0,
              "ticks": ""
             }
            },
            "type": "scatterternary"
           }
          ],
          "surface": [
           {
            "colorbar": {
             "outlinewidth": 0,
             "ticks": ""
            },
            "colorscale": [
             [
              0,
              "#0d0887"
             ],
             [
              0.1111111111111111,
              "#46039f"
             ],
             [
              0.2222222222222222,
              "#7201a8"
             ],
             [
              0.3333333333333333,
              "#9c179e"
             ],
             [
              0.4444444444444444,
              "#bd3786"
             ],
             [
              0.5555555555555556,
              "#d8576b"
             ],
             [
              0.6666666666666666,
              "#ed7953"
             ],
             [
              0.7777777777777778,
              "#fb9f3a"
             ],
             [
              0.8888888888888888,
              "#fdca26"
             ],
             [
              1,
              "#f0f921"
             ]
            ],
            "type": "surface"
           }
          ],
          "table": [
           {
            "cells": {
             "fill": {
              "color": "#EBF0F8"
             },
             "line": {
              "color": "white"
             }
            },
            "header": {
             "fill": {
              "color": "#C8D4E3"
             },
             "line": {
              "color": "white"
             }
            },
            "type": "table"
           }
          ]
         },
         "layout": {
          "annotationdefaults": {
           "arrowcolor": "#2a3f5f",
           "arrowhead": 0,
           "arrowwidth": 1
          },
          "autotypenumbers": "strict",
          "coloraxis": {
           "colorbar": {
            "outlinewidth": 0,
            "ticks": ""
           }
          },
          "colorscale": {
           "diverging": [
            [
             0,
             "#8e0152"
            ],
            [
             0.1,
             "#c51b7d"
            ],
            [
             0.2,
             "#de77ae"
            ],
            [
             0.3,
             "#f1b6da"
            ],
            [
             0.4,
             "#fde0ef"
            ],
            [
             0.5,
             "#f7f7f7"
            ],
            [
             0.6,
             "#e6f5d0"
            ],
            [
             0.7,
             "#b8e186"
            ],
            [
             0.8,
             "#7fbc41"
            ],
            [
             0.9,
             "#4d9221"
            ],
            [
             1,
             "#276419"
            ]
           ],
           "sequential": [
            [
             0,
             "#0d0887"
            ],
            [
             0.1111111111111111,
             "#46039f"
            ],
            [
             0.2222222222222222,
             "#7201a8"
            ],
            [
             0.3333333333333333,
             "#9c179e"
            ],
            [
             0.4444444444444444,
             "#bd3786"
            ],
            [
             0.5555555555555556,
             "#d8576b"
            ],
            [
             0.6666666666666666,
             "#ed7953"
            ],
            [
             0.7777777777777778,
             "#fb9f3a"
            ],
            [
             0.8888888888888888,
             "#fdca26"
            ],
            [
             1,
             "#f0f921"
            ]
           ],
           "sequentialminus": [
            [
             0,
             "#0d0887"
            ],
            [
             0.1111111111111111,
             "#46039f"
            ],
            [
             0.2222222222222222,
             "#7201a8"
            ],
            [
             0.3333333333333333,
             "#9c179e"
            ],
            [
             0.4444444444444444,
             "#bd3786"
            ],
            [
             0.5555555555555556,
             "#d8576b"
            ],
            [
             0.6666666666666666,
             "#ed7953"
            ],
            [
             0.7777777777777778,
             "#fb9f3a"
            ],
            [
             0.8888888888888888,
             "#fdca26"
            ],
            [
             1,
             "#f0f921"
            ]
           ]
          },
          "colorway": [
           "#636efa",
           "#EF553B",
           "#00cc96",
           "#ab63fa",
           "#FFA15A",
           "#19d3f3",
           "#FF6692",
           "#B6E880",
           "#FF97FF",
           "#FECB52"
          ],
          "font": {
           "color": "#2a3f5f"
          },
          "geo": {
           "bgcolor": "white",
           "lakecolor": "white",
           "landcolor": "#E5ECF6",
           "showlakes": true,
           "showland": true,
           "subunitcolor": "white"
          },
          "hoverlabel": {
           "align": "left"
          },
          "hovermode": "closest",
          "mapbox": {
           "style": "light"
          },
          "paper_bgcolor": "white",
          "plot_bgcolor": "#E5ECF6",
          "polar": {
           "angularaxis": {
            "gridcolor": "white",
            "linecolor": "white",
            "ticks": ""
           },
           "bgcolor": "#E5ECF6",
           "radialaxis": {
            "gridcolor": "white",
            "linecolor": "white",
            "ticks": ""
           }
          },
          "scene": {
           "xaxis": {
            "backgroundcolor": "#E5ECF6",
            "gridcolor": "white",
            "gridwidth": 2,
            "linecolor": "white",
            "showbackground": true,
            "ticks": "",
            "zerolinecolor": "white"
           },
           "yaxis": {
            "backgroundcolor": "#E5ECF6",
            "gridcolor": "white",
            "gridwidth": 2,
            "linecolor": "white",
            "showbackground": true,
            "ticks": "",
            "zerolinecolor": "white"
           },
           "zaxis": {
            "backgroundcolor": "#E5ECF6",
            "gridcolor": "white",
            "gridwidth": 2,
            "linecolor": "white",
            "showbackground": true,
            "ticks": "",
            "zerolinecolor": "white"
           }
          },
          "shapedefaults": {
           "line": {
            "color": "#2a3f5f"
           }
          },
          "ternary": {
           "aaxis": {
            "gridcolor": "white",
            "linecolor": "white",
            "ticks": ""
           },
           "baxis": {
            "gridcolor": "white",
            "linecolor": "white",
            "ticks": ""
           },
           "bgcolor": "#E5ECF6",
           "caxis": {
            "gridcolor": "white",
            "linecolor": "white",
            "ticks": ""
           }
          },
          "title": {
           "x": 0.05
          },
          "xaxis": {
           "automargin": true,
           "gridcolor": "white",
           "linecolor": "white",
           "ticks": "",
           "title": {
            "standoff": 15
           },
           "zerolinecolor": "white",
           "zerolinewidth": 2
          },
          "yaxis": {
           "automargin": true,
           "gridcolor": "white",
           "linecolor": "white",
           "ticks": "",
           "title": {
            "standoff": 15
           },
           "zerolinecolor": "white",
           "zerolinewidth": 2
          }
         }
        }
       }
      }
     },
     "metadata": {},
     "output_type": "display_data"
    }
   ],
   "source": [
    "x_axis = df_bin['address']\n",
    "y_axis = df_bin['sigmoid_bin_conv']\n",
    "pacitydef = 0.8\n",
    "\n",
    "# sigmoid = go.Scatter(\n",
    "#     x= x_axis,\n",
    "#     y=df_bin['sigmoid'],\n",
    "#     name=\"sigmoid\",\n",
    "#     # line= dict(color='#FF8000'),\n",
    "#     opacity = 0.8,\n",
    "#     line_shape='spline')\n",
    "\n",
    "sigmoid_bin = go.Scatter(\n",
    "    x= x_axis,\n",
    "    y= y_axis,\n",
    "    name=\"sigmoid_bin\",\n",
    "    # line= dict(color='#FF8000'),\n",
    "    opacity = 0.8,\n",
    "    line_shape='spline')\n",
    "\n",
    "# dadospred = ([sigmoid,sigmoid_bin])\n",
    "dadospred = ([sigmoid_bin])\n",
    "figpred = go.Figure(data=dadospred)#, layout=layout)\n",
    "py.iplot(figpred)"
   ]
  },
  {
   "cell_type": "code",
   "execution_count": 1802,
   "metadata": {},
   "outputs": [
    {
     "data": {
      "text/html": [
       "<div>\n",
       "<style scoped>\n",
       "    .dataframe tbody tr th:only-of-type {\n",
       "        vertical-align: middle;\n",
       "    }\n",
       "\n",
       "    .dataframe tbody tr th {\n",
       "        vertical-align: top;\n",
       "    }\n",
       "\n",
       "    .dataframe thead th {\n",
       "        text-align: right;\n",
       "    }\n",
       "</style>\n",
       "<table border=\"1\" class=\"dataframe\">\n",
       "  <thead>\n",
       "    <tr style=\"text-align: right;\">\n",
       "      <th></th>\n",
       "      <th>address</th>\n",
       "      <th>address_bin</th>\n",
       "      <th>address_bin_conv</th>\n",
       "      <th>sigmoid</th>\n",
       "      <th>sigmoid_bin</th>\n",
       "      <th>sigmoid_bin_conv</th>\n",
       "    </tr>\n",
       "  </thead>\n",
       "  <tbody>\n",
       "    <tr>\n",
       "      <th>0</th>\n",
       "      <td>-128.0</td>\n",
       "      <td>10000000</td>\n",
       "      <td>-128.0</td>\n",
       "      <td>0.943165</td>\n",
       "      <td>00000000</td>\n",
       "      <td>0.0</td>\n",
       "    </tr>\n",
       "    <tr>\n",
       "      <th>1</th>\n",
       "      <td>-127.0</td>\n",
       "      <td>10000001</td>\n",
       "      <td>-127.0</td>\n",
       "      <td>0.985183</td>\n",
       "      <td>00000000</td>\n",
       "      <td>0.0</td>\n",
       "    </tr>\n",
       "    <tr>\n",
       "      <th>2</th>\n",
       "      <td>-126.0</td>\n",
       "      <td>10000010</td>\n",
       "      <td>-126.0</td>\n",
       "      <td>1.029064</td>\n",
       "      <td>00000001</td>\n",
       "      <td>1.0</td>\n",
       "    </tr>\n",
       "    <tr>\n",
       "      <th>3</th>\n",
       "      <td>-125.0</td>\n",
       "      <td>10000011</td>\n",
       "      <td>-125.0</td>\n",
       "      <td>1.074892</td>\n",
       "      <td>00000001</td>\n",
       "      <td>1.0</td>\n",
       "    </tr>\n",
       "    <tr>\n",
       "      <th>4</th>\n",
       "      <td>-124.0</td>\n",
       "      <td>10000100</td>\n",
       "      <td>-124.0</td>\n",
       "      <td>1.122751</td>\n",
       "      <td>00000001</td>\n",
       "      <td>1.0</td>\n",
       "    </tr>\n",
       "    <tr>\n",
       "      <th>...</th>\n",
       "      <td>...</td>\n",
       "      <td>...</td>\n",
       "      <td>...</td>\n",
       "      <td>...</td>\n",
       "      <td>...</td>\n",
       "      <td>...</td>\n",
       "    </tr>\n",
       "    <tr>\n",
       "      <th>251</th>\n",
       "      <td>123.0</td>\n",
       "      <td>01111011</td>\n",
       "      <td>123.0</td>\n",
       "      <td>254.827268</td>\n",
       "      <td>11111110</td>\n",
       "      <td>254.0</td>\n",
       "    </tr>\n",
       "    <tr>\n",
       "      <th>252</th>\n",
       "      <td>124.0</td>\n",
       "      <td>01111100</td>\n",
       "      <td>124.0</td>\n",
       "      <td>254.877249</td>\n",
       "      <td>11111110</td>\n",
       "      <td>254.0</td>\n",
       "    </tr>\n",
       "    <tr>\n",
       "      <th>253</th>\n",
       "      <td>125.0</td>\n",
       "      <td>01111101</td>\n",
       "      <td>125.0</td>\n",
       "      <td>254.925108</td>\n",
       "      <td>11111110</td>\n",
       "      <td>254.0</td>\n",
       "    </tr>\n",
       "    <tr>\n",
       "      <th>254</th>\n",
       "      <td>126.0</td>\n",
       "      <td>01111110</td>\n",
       "      <td>126.0</td>\n",
       "      <td>254.970936</td>\n",
       "      <td>11111110</td>\n",
       "      <td>254.0</td>\n",
       "    </tr>\n",
       "    <tr>\n",
       "      <th>255</th>\n",
       "      <td>127.0</td>\n",
       "      <td>01111111</td>\n",
       "      <td>127.0</td>\n",
       "      <td>255.014817</td>\n",
       "      <td>11111111</td>\n",
       "      <td>255.0</td>\n",
       "    </tr>\n",
       "  </tbody>\n",
       "</table>\n",
       "<p>256 rows × 6 columns</p>\n",
       "</div>"
      ],
      "text/plain": [
       "     address address_bin  address_bin_conv     sigmoid sigmoid_bin  \\\n",
       "0     -128.0    10000000            -128.0    0.943165    00000000   \n",
       "1     -127.0    10000001            -127.0    0.985183    00000000   \n",
       "2     -126.0    10000010            -126.0    1.029064    00000001   \n",
       "3     -125.0    10000011            -125.0    1.074892    00000001   \n",
       "4     -124.0    10000100            -124.0    1.122751    00000001   \n",
       "..       ...         ...               ...         ...         ...   \n",
       "251    123.0    01111011             123.0  254.827268    11111110   \n",
       "252    124.0    01111100             124.0  254.877249    11111110   \n",
       "253    125.0    01111101             125.0  254.925108    11111110   \n",
       "254    126.0    01111110             126.0  254.970936    11111110   \n",
       "255    127.0    01111111             127.0  255.014817    11111111   \n",
       "\n",
       "     sigmoid_bin_conv  \n",
       "0                 0.0  \n",
       "1                 0.0  \n",
       "2                 1.0  \n",
       "3                 1.0  \n",
       "4                 1.0  \n",
       "..                ...  \n",
       "251             254.0  \n",
       "252             254.0  \n",
       "253             254.0  \n",
       "254             254.0  \n",
       "255             255.0  \n",
       "\n",
       "[256 rows x 6 columns]"
      ]
     },
     "execution_count": 1802,
     "metadata": {},
     "output_type": "execute_result"
    }
   ],
   "source": [
    "df_bin"
   ]
  },
  {
   "cell_type": "code",
   "execution_count": 1869,
   "metadata": {},
   "outputs": [],
   "source": [
    "#colocando na memória com o Index\n",
    "df_sigmoid_first= float(df['x'].iloc[:1])\n",
    "i= 0\n",
    "text = str('')\n",
    "text_zeros = str('')\n",
    "#texto para fazer lógica 'signed' funcionar no std_logic_vector\n",
    "text_rom_to_asic = str('--\"int_f_x\",--(address)  =integer_MAC|| f(x)               = int_f_x \\n')# 0 a 1 e -1 a 0\n",
    "\n",
    "#------------------------------- ROM ASIC -------------------------------#\n",
    "#texto rom -> vhd (asic) || índice por 'x'\n",
    "for i in range(int(len(df_bin)/2), len(df_bin)): \n",
    "    text_rom_to_asic = (\n",
    "        text_rom_to_asic+'\"' \n",
    "             +str(df_bin['sigmoid_bin'][i])+  '\",-- '\n",
    "             +f\"({(df_bin['address_bin'][i])})\"\n",
    "             +f\" = {str(df_bin['address_bin_conv'][i]).ljust(9, ' ')}\"\n",
    "             +f\" || {str(df['sig_norm'][i]).ljust(18, ' ')} = {str(df_bin['sigmoid_bin_conv'][i])}\\n\")\n",
    "\n",
    "for i in range(0, int(len(df_bin)/2) ): \n",
    "    text_rom_to_asic = (\n",
    "        text_rom_to_asic+'\"' #pega o q já tem de texto\n",
    "             +str(df_bin['sigmoid_bin'][i])+  '\",-- ' #pega elemento i da sigmoide\n",
    "             +f\"({df_bin['address_bin'][i]})\"\n",
    "             +f\" = {str(df_bin['address_bin_conv'][i]).ljust(9, ' ')}\"\n",
    "             +f\" || {str(df['sig_norm'][i]).ljust(18, ' ')} = {str(df_bin['sigmoid_bin_conv'][i])}\\n\")\n",
    "    \n",
    "\n",
    "#------------------------------- ROM .mif -------------------------------#\n",
    "#define se o endereço será com 'x' ou 'address'\n",
    "if (memory_address_type == False): # 0= int(n)\n",
    "  for i in range(0, len(df_bin)): #caso seja por 'x'\n",
    "    text = (text+''+ str(df_bin.index[i]) + ':' + str(df_bin['sigmoid_bin'][i])+  ';-- '+str(offset_df_memory +df_sigmoid_first+(i*dx_sigmoid*integer_mult_factor))+' || '+str(df['sig_norm'][i]) +'\\n')\n",
    "    # )\n",
    "else: #1= float(address)\n",
    "  for i in range(0, len(df_bin)):\n",
    "    text = (text+''+ str(df_bin['address_bin'][i]) + ':' +str(df_bin['sigmoid_bin'][i])+  ';-- '+str(offset_df_memory +df_sigmoid_first+(i*dx_sigmoid*integer_mult_factor))+' || '+str(df['sig_norm'][i]) +'\\n')\n",
    "  "
   ]
  },
  {
   "attachments": {},
   "cell_type": "markdown",
   "metadata": {},
   "source": [
    "## ROM Definitions"
   ]
  },
  {
   "cell_type": "code",
   "execution_count": 1870,
   "metadata": {},
   "outputs": [],
   "source": [
    "ROM_clk = 0   #1= rom com clock || 0= sem clock\n",
    "ROM_name = f\"ROM_fixedpoint_{BIT_WIDTH}bit\"\n"
   ]
  },
  {
   "cell_type": "code",
   "execution_count": 1872,
   "metadata": {},
   "outputs": [
    {
     "data": {
      "text/plain": [
       "256"
      ]
     },
     "execution_count": 1872,
     "metadata": {},
     "output_type": "execute_result"
    }
   ],
   "source": [
    "memory_width= n_integer + n_mantissa_sigmoid\n",
    "memory_depth = len(df_bin)\n",
    "\n",
    "if memory_address_type == False : # 0= int(n)\n",
    "  memory_value_type = 'DEC' #Enter BIN, DEC, HEX, OCT, or UNS; #because memory is with (signed/unsigned) bin address\n",
    "else: #1= float(address)\n",
    "  memory_value_type = 'BIN' #Enter BIN, DEC, HEX, OCT, or UNS; #because memory is with (signed/unsigned) bin address\n",
    "\n",
    "memory_depth"
   ]
  },
  {
   "cell_type": "code",
   "execution_count": 1873,
   "metadata": {},
   "outputs": [
    {
     "name": "stdout",
     "output_type": "stream",
     "text": [
      "\n",
      "\n",
      "--https://stackoverflow.com/questions/17579716/implementing-rom-in-xilinx-vhdl\n",
      "LIBRARY ieee ;\n",
      "USE ieee.std_logic_1164.all ;\n",
      "use ieee.numeric_std.all;\n",
      "\n",
      "----------------\n",
      "\n",
      "ENTITY ROM_fixedpoint_8bit is\n",
      "generic(addr_width : integer := 256; -- store 256 elements\n",
      "\t\t\t\taddr_bits  : integer := 8; -- required bits to store 256 elements\n",
      "\t\t\t\tdata_width : integer := 8  -- each element has 8-bits\n",
      "\t\t\t\t);\n",
      "\t\t\t\n",
      "  PORT (\n",
      "    address : IN STD_LOGIC_VECTOR(addr_bits - 1 DOWNTO 0);\n",
      "    data_out : OUT STD_LOGIC_VECTOR(data_width - 1 DOWNTO 0)\n",
      "  );\n",
      "END ENTITY;\n",
      "\n",
      "------------------\n",
      "architecture arch of ROM_fixedpoint_8bit is\n",
      "\n",
      "\ttype memory is array ( 0 to addr_width-1 ) of std_logic_vector(data_width-1 downto 0 ) ;\n",
      "\tconstant myrom : memory := (\n",
      "--\"int_f_x\",--(address)  =integer_MAC|| f(x)               = int_f_x \n",
      "\"10000000\",-- (00000000) = 0.0       || 128.0              = 128.0\n",
      "\"10000010\",-- (00000001) = 1.0       || 130.79955347088494 = 130.0\n",
      "\"10000101\",-- (00000010) = 2.0       || 133.59642981673    = 133.0\n",
      "\"10001000\",-- (00000011) = 3.0       || 136.38796214291455 = 136.0\n",
      "\"10001011\",-- (00000100) = 4.0       || 139.1715039326922  = 139.0\n",
      "\"10001101\",-- (00000101) = 5.0       || 141.9444390298694  = 141.0\n",
      "\"10010000\",-- (00000110) = 6.0       || 144.70419137717758 = 144.0\n",
      "\"10010011\",-- (00000111) = 7.0       || 147.44823443416874 = 147.0\n",
      "\"10010110\",-- (00001000) = 8.0       || 150.1741002028365  = 150.0\n",
      "\"10011000\",-- (00001001) = 9.0       || 152.8793877944536  = 152.0\n",
      "\"10011011\",-- (00001010) = 10.0      || 155.56177147722028 = 155.0\n",
      "\"10011110\",-- (00001011) = 11.0      || 158.21900815110592 = 158.0\n",
      "\"10100000\",-- (00001100) = 12.0      || 160.84894420361377 = 160.0\n",
      "\"10100011\",-- (00001101) = 13.0      || 163.4495217079567  = 163.0\n",
      "\"10100110\",-- (00001110) = 14.0      || 166.01878393316375 = 166.0\n",
      "\"10101000\",-- (00001111) = 15.0      || 168.55488014379085 = 168.0\n",
      "\"10101011\",-- (00010000) = 16.0      || 171.05606967505054 = 171.0\n",
      "\"10101101\",-- (00010001) = 17.0      || 173.52072527716751 = 173.0\n",
      "\"10101111\",-- (00010010) = 18.0      || 175.94733573048427 = 175.0\n",
      "\"10110010\",-- (00010011) = 19.0      || 178.3345077401747  = 178.0\n",
      "\"10110100\",-- (00010100) = 20.0      || 180.68096712627488 = 180.0\n",
      "\"10110110\",-- (00010101) = 21.0      || 182.98555933102264 = 182.0\n",
      "\"10111001\",-- (00010110) = 22.0      || 185.24724927115267 = 185.0\n",
      "\"10111011\",-- (00010111) = 23.0      || 187.46512056776362 = 187.0\n",
      "\"10111101\",-- (00011000) = 24.0      || 189.6383741906314  = 189.0\n",
      "\"10111111\",-- (00011001) = 25.0      || 191.76632655737023 = 191.0\n",
      "\"11000001\",-- (00011010) = 26.0      || 193.84840713063423 = 193.0\n",
      "\"11000011\",-- (00011011) = 27.0      || 195.88415555862744 = 195.0\n",
      "\"11000101\",-- (00011100) = 28.0      || 197.87321840556507 = 197.0\n",
      "\"11000111\",-- (00011101) = 29.0      || 199.8153455194442  = 199.0\n",
      "\"11001001\",-- (00011110) = 30.0      || 201.71038608458105 = 201.0\n",
      "\"11001011\",-- (00011111) = 31.0      || 203.55828440590156 = 203.0\n",
      "\"11001101\",-- (00100000) = 32.0      || 205.3590754709969  = 205.0\n",
      "\"11001111\",-- (00100001) = 33.0      || 207.1128803345236  = 207.0\n",
      "\"11010000\",-- (00100010) = 34.0      || 208.819901367714   = 208.0\n",
      "\"11010010\",-- (00100011) = 35.0      || 210.48041741361928 = 210.0\n",
      "\"11010100\",-- (00100100) = 36.0      || 212.09477888629738 = 212.0\n",
      "\"11010101\",-- (00100101) = 37.0      || 213.66340284954757 = 213.0\n",
      "\"11010111\",-- (00100110) = 38.0      || 215.1867681080277  = 215.0\n",
      "\"11011000\",-- (00100111) = 39.0      || 216.66541034073072 = 216.0\n",
      "\"11011010\",-- (00101000) = 40.0      || 218.0999173038875  = 218.0\n",
      "\"11011011\",-- (00101001) = 41.0      || 219.49092412744895 = 219.0\n",
      "\"11011100\",-- (00101010) = 42.0      || 220.8391087264176  = 220.0\n",
      "\"11011110\",-- (00101011) = 43.0      || 222.1451873454842  = 222.0\n",
      "\"11011111\",-- (00101100) = 44.0      || 223.40991025270483 = 223.0\n",
      "\"11100000\",-- (00101101) = 45.0      || 224.6340575953512  = 224.0\n",
      "\"11100001\",-- (00101110) = 46.0      || 225.8184354286031  = 225.0\n",
      "\"11100010\",-- (00101111) = 47.0      || 226.96387192543793 = 226.0\n",
      "\"11100100\",-- (00110000) = 48.0      || 228.0712137739231  = 228.0\n",
      "\"11100101\",-- (00110001) = 49.0      || 229.14132276613313 = 229.0\n",
      "\"11100110\",-- (00110010) = 50.0      || 230.17507258110555 = 230.0\n",
      "\"11100111\",-- (00110011) = 51.0      || 231.17334576261152 = 231.0\n",
      "\"11101000\",-- (00110100) = 52.0      || 232.13703089105314 = 232.0\n",
      "\"11101001\",-- (00110101) = 53.0      || 233.0670199474983  = 233.0\n",
      "\"11101001\",-- (00110110) = 54.0      || 233.9642058667285  = 233.0\n",
      "\"11101010\",-- (00110111) = 55.0      || 234.82948027519006 = 234.0\n",
      "\"11101011\",-- (00111000) = 56.0      || 235.66373140890153 = 235.0\n",
      "\"11101100\",-- (00111001) = 57.0      || 236.4678422056685  = 236.0\n",
      "\"11101101\",-- (00111010) = 58.0      || 237.24268856538296 = 237.0\n",
      "\"11101101\",-- (00111011) = 59.0      || 237.9891377717278  = 237.0\n",
      "\"11101110\",-- (00111100) = 60.0      || 238.70804706825496 = 238.0\n",
      "\"11101111\",-- (00111101) = 61.0      || 239.40026238155605 = 239.0\n",
      "\"11110000\",-- (00111110) = 62.0      || 240.06661718407545 = 240.0\n",
      "\"11110000\",-- (00111111) = 63.0      || 240.7079314890315  = 240.0\n",
      "\"11110001\",-- (01000000) = 64.0      || 241.3250109698896  = 241.0\n",
      "\"11110001\",-- (01000001) = 65.0      || 241.91864619687576 = 241.0\n",
      "\"11110010\",-- (01000010) = 66.0      || 242.48961198310965 = 242.0\n",
      "\"11110011\",-- (01000011) = 67.0      || 243.03866683307706 = 243.0\n",
      "\"11110011\",-- (01000100) = 68.0      || 243.56655248633442 = 243.0\n",
      "\"11110100\",-- (01000101) = 69.0      || 244.07399354954848 = 244.0\n",
      "\"11110100\",-- (01000110) = 70.0      || 244.56169721020154 = 244.0\n",
      "\"11110101\",-- (01000111) = 71.0      || 245.03035302554926 = 245.0\n",
      "\"11110101\",-- (01001000) = 72.0      || 245.48063278068096 = 245.0\n",
      "\"11110101\",-- (01001001) = 73.0      || 245.9131904098127  = 245.0\n",
      "\"11110110\",-- (01001010) = 74.0      || 246.3286619752277  = 246.0\n",
      "\"11110110\",-- (01001011) = 75.0      || 246.72766569856648 = 246.0\n",
      "\"11110111\",-- (01001100) = 76.0      || 247.11080203946045 = 247.0\n",
      "\"11110111\",-- (01001101) = 77.0      || 247.47865381678946 = 247.0\n",
      "\"11110111\",-- (01001110) = 78.0      || 247.8317863681286  = 247.0\n",
      "\"11111000\",-- (01001111) = 79.0      || 248.17074774322967 = 248.0\n",
      "\"11111000\",-- (01010000) = 80.0      || 248.49606892765277 = 248.0\n",
      "\"11111000\",-- (01010001) = 81.0      || 248.80826409293064 = 248.0\n",
      "\"11111001\",-- (01010010) = 82.0      || 249.10783086989977 = 249.0\n",
      "\"11111001\",-- (01010011) = 83.0      || 249.3952506420807  = 249.0\n",
      "\"11111001\",-- (01010100) = 84.0      || 249.67098885622383 = 249.0\n",
      "\"11111001\",-- (01010101) = 85.0      || 249.93549534736016 = 249.0\n",
      "\"11111010\",-- (01010110) = 86.0      || 250.18920467591147 = 250.0\n",
      "\"11111010\",-- (01010111) = 87.0      || 250.4325364746162  = 250.0\n",
      "\"11111010\",-- (01011000) = 88.0      || 250.6658958032178  = 250.0\n",
      "\"11111010\",-- (01011001) = 89.0      || 250.88967350904375 = 250.0\n",
      "\"11111011\",-- (01011010) = 90.0      || 251.10424659177247 = 251.0\n",
      "\"11111011\",-- (01011011) = 91.0      || 251.30997857084472 = 251.0\n",
      "\"11111011\",-- (01011100) = 92.0      || 251.50721985412497 = 251.0\n",
      "\"11111011\",-- (01011101) = 93.0      || 251.6963081065567  = 251.0\n",
      "\"11111011\",-- (01011110) = 94.0      || 251.87756861768625 = 251.0\n",
      "\"11111100\",-- (01011111) = 95.0      || 252.05131466704864 = 252.0\n",
      "\"11111100\",-- (01100000) = 96.0      || 252.2178478865221  = 252.0\n",
      "\"11111100\",-- (01100001) = 97.0      || 252.3774586188595  = 252.0\n",
      "\"11111100\",-- (01100010) = 98.0      || 252.53042627170205 = 252.0\n",
      "\"11111100\",-- (01100011) = 99.0      || 252.6770196664673  = 252.0\n",
      "\"11111100\",-- (01100100) = 100.0     || 252.81749738158442 = 252.0\n",
      "\"11111100\",-- (01100101) = 101.0     || 252.95210808962463 = 252.0\n",
      "\"11111101\",-- (01100110) = 102.0     || 253.08109088794197 = 253.0\n",
      "\"11111101\",-- (01100111) = 103.0     || 253.20467562250147 = 253.0\n",
      "\"11111101\",-- (01101000) = 104.0     || 253.32308320462894 = 253.0\n",
      "\"11111101\",-- (01101001) = 105.0     || 253.43652592046766 = 253.0\n",
      "\"11111101\",-- (01101010) = 106.0     || 253.54520773297327 = 253.0\n",
      "\"11111101\",-- (01101011) = 107.0     || 253.64932457632193 = 253.0\n",
      "\"11111101\",-- (01101100) = 108.0     || 253.74906464264322 = 253.0\n",
      "\"11111101\",-- (01101101) = 109.0     || 253.84460866102432 = 253.0\n",
      "\"11111101\",-- (01101110) = 110.0     || 253.93613016876247 = 253.0\n",
      "\"11111110\",-- (01101111) = 111.0     || 254.0237957748705  = 254.0\n",
      "\"11111110\",-- (01110000) = 112.0     || 254.10776541586384 = 254.0\n",
      "\"11111110\",-- (01110001) = 113.0     || 254.18819260387994 = 254.0\n",
      "\"11111110\",-- (01110010) = 114.0     || 254.26522466719953 = 254.0\n",
      "\"11111110\",-- (01110011) = 115.0     || 254.3390029832559  = 254.0\n",
      "\"11111110\",-- (01110100) = 116.0     || 254.40966320423354 = 254.0\n",
      "\"11111110\",-- (01110101) = 117.0     || 254.47733547536947 = 254.0\n",
      "\"11111110\",-- (01110110) = 118.0     || 254.54214464608148 = 254.0\n",
      "\"11111110\",-- (01110111) = 119.0     || 254.60421047405794 = 254.0\n",
      "\"11111110\",-- (01111000) = 120.0     || 254.66364782244906 = 254.0\n",
      "\"11111110\",-- (01111001) = 121.0     || 254.72056685030938 = 254.0\n",
      "\"11111110\",-- (01111010) = 122.0     || 254.775073196443   = 254.0\n",
      "\"11111110\",-- (01111011) = 123.0     || 254.82726815680954 = 254.0\n",
      "\"11111110\",-- (01111100) = 124.0     || 254.87724885565115 = 254.0\n",
      "\"11111110\",-- (01111101) = 125.0     || 254.92510841050319 = 254.0\n",
      "\"11111110\",-- (01111110) = 126.0     || 254.97093609125218 = 254.0\n",
      "\"11111111\",-- (01111111) = 127.0     || 255.01481747340657 = 255.0\n",
      "\"00000000\",-- (10000000) = -128.0    || 0.9431654142556132 = 0.0\n",
      "\"00000000\",-- (10000001) = -127.0    || 0.9851825265934124 = 0.0\n",
      "\"00000001\",-- (10000010) = -126.0    || 1.0290639087477775 = 1.0\n",
      "\"00000001\",-- (10000011) = -125.0    || 1.0748915894967983 = 1.0\n",
      "\"00000001\",-- (10000100) = -124.0    || 1.1227511443488492 = 1.0\n",
      "\"00000001\",-- (10000101) = -123.0    || 1.1727318431904823 = 1.0\n",
      "\"00000001\",-- (10000110) = -122.0    || 1.2249268035570005 = 1.0\n",
      "\"00000001\",-- (10000111) = -121.0    || 1.2794331496906086 = 1.0\n",
      "\"00000001\",-- (10001000) = -120.0    || 1.3363521775509497 = 1.0\n",
      "\"00000001\",-- (10001001) = -119.0    || 1.3957895259420845 = 1.0\n",
      "\"00000001\",-- (10001010) = -118.0    || 1.457855353918504  = 1.0\n",
      "\"00000001\",-- (10001011) = -117.0    || 1.5226645246305492 = 1.0\n",
      "\"00000001\",-- (10001100) = -116.0    || 1.590336795766455  = 1.0\n",
      "\"00000001\",-- (10001101) = -115.0    || 1.6609970167441164 = 1.0\n",
      "\"00000001\",-- (10001110) = -114.0    || 1.73477533280049   = 1.0\n",
      "\"00000001\",-- (10001111) = -113.0    || 1.811807396120073  = 1.0\n",
      "\"00000001\",-- (10010000) = -112.0    || 1.892234584136186  = 1.0\n",
      "\"00000001\",-- (10010001) = -111.0    || 1.9762042251295215 = 1.0\n",
      "\"00000010\",-- (10010010) = -110.0    || 2.06386983123754   = 2.0\n",
      "\"00000010\",-- (10010011) = -109.0    || 2.155391338975693  = 2.0\n",
      "\"00000010\",-- (10010100) = -108.0    || 2.2509353573567803 = 2.0\n",
      "\"00000010\",-- (10010101) = -107.0    || 2.3506754236780787 = 2.0\n",
      "\"00000010\",-- (10010110) = -106.0    || 2.454792267026737  = 2.0\n",
      "\"00000010\",-- (10010111) = -105.0    || 2.563474079532323  = 2.0\n",
      "\"00000010\",-- (10011000) = -104.0    || 2.6769167953710262 = 2.0\n",
      "\"00000010\",-- (10011001) = -103.0    || 2.7953243774985372 = 2.0\n",
      "\"00000010\",-- (10011010) = -102.0    || 2.9189091120580306 = 2.0\n",
      "\"00000011\",-- (10011011) = -101.0    || 3.0478919103753572 = 3.0\n",
      "\"00000011\",-- (10011100) = -100.0    || 3.18250261841557   = 3.0\n",
      "\"00000011\",-- (10011101) = -99.0     || 3.3229803335326857 = 3.0\n",
      "\"00000011\",-- (10011110) = -98.0     || 3.4695737282979517 = 3.0\n",
      "\"00000011\",-- (10011111) = -97.0     || 3.6225413811405303 = 3.0\n",
      "\"00000011\",-- (10100000) = -96.0     || 3.7821521134779053 = 3.0\n",
      "\"00000011\",-- (10100001) = -95.0     || 3.948685332951331  = 3.0\n",
      "\"00000100\",-- (10100010) = -94.0     || 4.122431382313737  = 4.0\n",
      "\"00000100\",-- (10100011) = -93.0     || 4.303691893443283  = 4.0\n",
      "\"00000100\",-- (10100100) = -92.0     || 4.492780145875043  = 4.0\n",
      "\"00000100\",-- (10100101) = -91.0     || 4.690021429155295  = 4.0\n",
      "\"00000100\",-- (10100110) = -90.0     || 4.895753408227562  = 4.0\n",
      "\"00000101\",-- (10100111) = -89.0     || 5.110326490956257  = 5.0\n",
      "\"00000101\",-- (10101000) = -88.0     || 5.3341041967821905 = 5.0\n",
      "\"00000101\",-- (10101001) = -87.0     || 5.567463525383797  = 5.0\n",
      "\"00000101\",-- (10101010) = -86.0     || 5.81079532408854   = 5.0\n",
      "\"00000110\",-- (10101011) = -85.0     || 6.064504652639856  = 6.0\n",
      "\"00000110\",-- (10101100) = -84.0     || 6.3290111437761585 = 6.0\n",
      "\"00000110\",-- (10101101) = -83.0     || 6.604749357919308  = 6.0\n",
      "\"00000110\",-- (10101110) = -82.0     || 6.892169130100257  = 6.0\n",
      "\"00000111\",-- (10101111) = -81.0     || 7.191735907069339  = 7.0\n",
      "\"00000111\",-- (10110000) = -80.0     || 7.503931072347218  = 7.0\n",
      "\"00000111\",-- (10110001) = -79.0     || 7.829252256770357  = 7.0\n",
      "\"00001000\",-- (10110010) = -78.0     || 8.168213631871376  = 8.0\n",
      "\"00001000\",-- (10110011) = -77.0     || 8.521346183210536  = 8.0\n",
      "\"00001000\",-- (10110100) = -76.0     || 8.889197960539537  = 8.0\n",
      "\"00001001\",-- (10110101) = -75.0     || 9.272334301433533  = 9.0\n",
      "\"00001001\",-- (10110110) = -74.0     || 9.67133802477231   = 9.0\n",
      "\"00001010\",-- (10110111) = -73.0     || 10.086809590187293 = 10.0\n",
      "\"00001010\",-- (10111000) = -72.0     || 10.519367219319044 = 10.0\n",
      "\"00001010\",-- (10111001) = -71.0     || 10.969646974450724 = 10.0\n",
      "\"00001011\",-- (10111010) = -70.0     || 11.438302789798453 = 11.0\n",
      "\"00001011\",-- (10111011) = -69.0     || 11.926006450451535 = 11.0\n",
      "\"00001100\",-- (10111100) = -68.0     || 12.43344751366557  = 12.0\n",
      "\"00001100\",-- (10111101) = -67.0     || 12.961333166922968 = 12.0\n",
      "\"00001101\",-- (10111110) = -66.0     || 13.510388016890333 = 13.0\n",
      "\"00001110\",-- (10111111) = -65.0     || 14.08135380312426  = 14.0\n",
      "\"00001110\",-- (11000000) = -64.0     || 14.674989030110401 = 14.0\n",
      "\"00001111\",-- (11000001) = -63.0     || 15.292068510968507 = 15.0\n",
      "\"00001111\",-- (11000010) = -62.0     || 15.933382815924531 = 15.0\n",
      "\"00010000\",-- (11000011) = -61.0     || 16.59973761844398  = 16.0\n",
      "\"00010001\",-- (11000100) = -60.0     || 17.29195293174505  = 17.0\n",
      "\"00010010\",-- (11000101) = -59.0     || 18.01086222827223  = 18.0\n",
      "\"00010010\",-- (11000110) = -58.0     || 18.757311434617044 = 18.0\n",
      "\"00010011\",-- (11000111) = -57.0     || 19.532157794331532 = 19.0\n",
      "\"00010100\",-- (11001000) = -56.0     || 20.33626859109847  = 20.0\n",
      "\"00010101\",-- (11001001) = -55.0     || 21.170519724809946 = 21.0\n",
      "\"00010110\",-- (11001010) = -54.0     || 22.035794133271526 = 22.0\n",
      "\"00010110\",-- (11001011) = -53.0     || 22.93298005250171  = 22.0\n",
      "\"00010111\",-- (11001100) = -52.0     || 23.862969108946842 = 23.0\n",
      "\"00011000\",-- (11001101) = -51.0     || 24.826654237388475 = 24.0\n",
      "\"00011001\",-- (11001110) = -50.0     || 25.824927418894468 = 25.0\n",
      "\"00011010\",-- (11001111) = -49.0     || 26.858677233866867 = 26.0\n",
      "\"00011011\",-- (11010000) = -48.0     || 27.928786226076923 = 27.0\n",
      "\"00011101\",-- (11010001) = -47.0     || 29.036128074562075 = 29.0\n",
      "\"00011110\",-- (11010010) = -46.0     || 30.181564571396905 = 30.0\n",
      "\"00011111\",-- (11010011) = -45.0     || 31.36594240464876  = 31.0\n",
      "\"00100000\",-- (11010100) = -44.0     || 32.59008974729516  = 32.0\n",
      "\"00100001\",-- (11010101) = -43.0     || 33.8548126545158   = 33.0\n",
      "\"00100011\",-- (11010110) = -42.0     || 35.1608912735824   = 35.0\n",
      "\"00100100\",-- (11010111) = -41.0     || 36.509075872551044 = 36.0\n",
      "\"00100101\",-- (11011000) = -40.0     || 37.900082696112506 = 37.0\n",
      "\"00100111\",-- (11011001) = -39.0     || 39.33458965926929  = 39.0\n",
      "\"00101000\",-- (11011010) = -38.0     || 40.813231891972286 = 40.0\n",
      "\"00101010\",-- (11011011) = -37.0     || 42.336597150452434 = 42.0\n",
      "\"00101011\",-- (11011100) = -36.0     || 43.90522111370262  = 43.0\n",
      "\"00101101\",-- (11011101) = -35.0     || 45.51958258638069  = 45.0\n",
      "\"00101111\",-- (11011110) = -34.0     || 47.18009863228597  = 47.0\n",
      "\"00110000\",-- (11011111) = -33.0     || 48.88711966547641  = 48.0\n",
      "\"00110010\",-- (11100000) = -32.0     || 50.64092452900307  = 50.0\n",
      "\"00110100\",-- (11100001) = -31.0     || 52.441715594098426 = 52.0\n",
      "\"00110110\",-- (11100010) = -30.0     || 54.28961391541896  = 54.0\n",
      "\"00111000\",-- (11100011) = -29.0     || 56.184654480555785 = 56.0\n",
      "\"00111010\",-- (11100100) = -28.0     || 58.126781594434945 = 58.0\n",
      "\"00111100\",-- (11100101) = -27.0     || 60.11584444137255  = 60.0\n",
      "\"00111110\",-- (11100110) = -26.0     || 62.15159286936576  = 62.0\n",
      "\"01000000\",-- (11100111) = -25.0     || 64.23367344262975  = 64.0\n",
      "\"01000010\",-- (11101000) = -24.0     || 66.36162580936859  = 66.0\n",
      "\"01000100\",-- (11101001) = -23.0     || 68.5348794322364   = 68.0\n",
      "\"01000110\",-- (11101010) = -22.0     || 70.75275072884732  = 70.0\n",
      "\"01001001\",-- (11101011) = -21.0     || 73.01444066897737  = 73.0\n",
      "\"01001011\",-- (11101100) = -20.0     || 75.31903287372512  = 75.0\n",
      "\"01001101\",-- (11101101) = -19.0     || 77.6654922598253   = 77.0\n",
      "\"01010000\",-- (11101110) = -18.0     || 80.05266426951576  = 80.0\n",
      "\"01010010\",-- (11101111) = -17.0     || 82.47927472283249  = 82.0\n",
      "\"01010100\",-- (11110000) = -16.0     || 84.94393032494948  = 84.0\n",
      "\"01010111\",-- (11110001) = -15.0     || 87.44511985620915  = 87.0\n",
      "\"01011001\",-- (11110010) = -14.0     || 89.98121606683623  = 89.0\n",
      "\"01011100\",-- (11110011) = -13.0     || 92.55047829204331  = 92.0\n",
      "\"01011111\",-- (11110100) = -12.0     || 95.15105579638626  = 95.0\n",
      "\"01100001\",-- (11110101) = -11.0     || 97.78099184889408  = 97.0\n",
      "\"01100100\",-- (11110110) = -10.0     || 100.43822852277974 = 100.0\n",
      "\"01100111\",-- (11110111) = -9.0      || 103.12061220554642 = 103.0\n",
      "\"01101001\",-- (11111000) = -8.0      || 105.82589979716352 = 105.0\n",
      "\"01101100\",-- (11111001) = -7.0      || 108.55176556583123 = 108.0\n",
      "\"01101111\",-- (11111010) = -6.0      || 111.29580862282243 = 111.0\n",
      "\"01110010\",-- (11111011) = -5.0      || 114.05556097013061 = 114.0\n",
      "\"01110100\",-- (11111100) = -4.0      || 116.82849606730782 = 116.0\n",
      "\"01110111\",-- (11111101) = -3.0      || 119.61203785708545 = 119.0\n",
      "\"01111010\",-- (11111110) = -2.0      || 122.40357018327    = 122.0\n",
      "\"01111101\",-- (11111111) = -1.0      || 125.20044652911506 = 125.0\n",
      "\n",
      "--\t2 => \"11111111\" , --255\n",
      "--\t3 => \"11010101\" ,  \n",
      "others => \"00000000000\" \n",
      ") ;\n",
      "\n",
      "begin \n",
      "---------------\n",
      "data_out <= myrom(to_integer(unsigned(address))) ;\n",
      "end architecture ;\n",
      "\n",
      "\n"
     ]
    }
   ],
   "source": [
    "if ROM_clk:\n",
    "\trom_text_asic = ( \n",
    "f'''--https://stackoverflow.com/questions/17579716/implementing-rom-in-xilinx-vhdl\n",
    "LIBRARY ieee ;\n",
    "USE ieee.std_logic_1164.all ;\n",
    "use ieee.numeric_std.all;\n",
    "\n",
    "----------------\n",
    "\n",
    "entity {ROM_name} is\n",
    "generic(addr_width : integer := {str(memory_depth)}; -- store {str(memory_depth)} elements\n",
    "        addr_bits  : integer := {str(int(math.log2(memory_depth)))}; -- required bits to store {str(memory_depth)} elements\n",
    "        data_width : integer := {str(memory_width)}  -- each element has {str(memory_width)}-bits\n",
    "\t\t\t\t);\n",
    "\t\t\t\n",
    "port ( clk : in std_logic ;\n",
    "\t\taddress : in std_logic_vector(addr_bits-1 downto 0);\n",
    "\t\tdata_out : out std_logic_vector(data_width-1 downto 0)\n",
    "\t\t) ;\n",
    "end entity ;\n",
    "\n",
    "------------------\n",
    "architecture arch of {ROM_name} is\n",
    "\n",
    "\tsignal reg_address: std_logic_vector(addr_bits-1 downto 0);\n",
    "\ttype memory is array ( 0 to addr_width-1 ) of std_logic_vector(data_width-1 downto 0 ) ;\n",
    "\tconstant myrom : memory := (\n",
    "{text_rom_to_asic}\n",
    "--\t2 => \"11111111\" , --255\n",
    "--\t3 => \"11010101\" ,  \n",
    "others => \"00000000000\" \n",
    ") ;\n",
    "\n",
    "begin \n",
    "\tprocess(clk)\n",
    "\t\tbegin \n",
    "\t\tif( clk'event and clk = '1' ) then\n",
    "\t\t\treg_address <= address ;\n",
    "\t\tend if ;\n",
    "\tend process ;\n",
    "---------------\n",
    "data_out <= myrom(to_integer(unsigned(reg_address))) ;\n",
    "end architecture ;\n",
    "\n",
    "''')\n",
    "\n",
    "else:\n",
    "\trom_text_asic = ( f'''\n",
    "\n",
    "--https://stackoverflow.com/questions/17579716/implementing-rom-in-xilinx-vhdl\n",
    "LIBRARY ieee ;\n",
    "USE ieee.std_logic_1164.all ;\n",
    "use ieee.numeric_std.all;\n",
    "\n",
    "----------------\n",
    "\n",
    "ENTITY {ROM_name} is\n",
    "generic(addr_width : integer := {str(memory_depth)}; -- store {str(memory_depth)} elements\n",
    "\t\t\t\taddr_bits  : integer := {str(int(math.log2(memory_depth)))}; -- required bits to store {str(memory_depth)} elements\n",
    "\t\t\t\tdata_width : integer := {str(memory_width)}  -- each element has {str(memory_width)}-bits\n",
    "\t\t\t\t);\n",
    "\t\t\t\n",
    "  PORT (\n",
    "    address : IN STD_LOGIC_VECTOR(addr_bits - 1 DOWNTO 0);\n",
    "    data_out : OUT STD_LOGIC_VECTOR(data_width - 1 DOWNTO 0)\n",
    "  );\n",
    "END ENTITY;\n",
    "\n",
    "------------------\n",
    "architecture arch of {ROM_name} is\n",
    "\n",
    "\ttype memory is array ( 0 to addr_width-1 ) of std_logic_vector(data_width-1 downto 0 ) ;\n",
    "\tconstant myrom : memory := (\n",
    "{text_rom_to_asic}\n",
    "--\t2 => \"11111111\" , --255\n",
    "--\t3 => \"11010101\" ,  \n",
    "others => \"00000000000\" \n",
    ") ;\n",
    "\n",
    "begin \n",
    "---------------\n",
    "data_out <= myrom(to_integer(unsigned(address))) ;\n",
    "end architecture ;\n",
    "\n",
    "''')\n",
    "\n",
    "\n",
    "# print(rom_text_asic)"
   ]
  },
  {
   "cell_type": "code",
   "execution_count": 1874,
   "metadata": {},
   "outputs": [],
   "source": [
    "if DOWNLOAD:\n",
    "    text_file = open(f\"{path}{ROM_name}.vhd\", \"w\")\n",
    "    text_file.write(rom_text_asic)\n",
    "    text_file.close()"
   ]
  },
  {
   "cell_type": "code",
   "execution_count": null,
   "metadata": {},
   "outputs": [],
   "source": []
  }
 ],
 "metadata": {
  "kernelspec": {
   "display_name": "Python 3",
   "language": "python",
   "name": "python3"
  },
  "language_info": {
   "codemirror_mode": {
    "name": "ipython",
    "version": 3
   },
   "file_extension": ".py",
   "mimetype": "text/x-python",
   "name": "python",
   "nbconvert_exporter": "python",
   "pygments_lexer": "ipython3",
   "version": "3.9.5"
  },
  "orig_nbformat": 4,
  "vscode": {
   "interpreter": {
    "hash": "d1b75f63a51ab1e44c10e89cf3b718812d9c5e2447d39cb402b946ba7653bfcd"
   }
  }
 },
 "nbformat": 4,
 "nbformat_minor": 2
}

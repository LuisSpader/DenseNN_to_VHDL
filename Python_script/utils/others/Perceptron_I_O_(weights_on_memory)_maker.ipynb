{
  "cells": [
    {
      "cell_type": "code",
      "execution_count": 1,
      "metadata": {
        "id": "rCwIr7blsphv"
      },
      "outputs": [],
      "source": [
        "import pandas as pd\n",
        "import numpy as np\n",
        "# from google.colab import files"
      ]
    },
    {
      "cell_type": "code",
      "execution_count": 2,
      "metadata": {
        "id": "GeKDJMZKJLQu"
      },
      "outputs": [],
      "source": [
        "#defining bias and input values\n",
        "n_bits = int(8)\n",
        "n_bits_input = n_bits\n",
        "num_inputs = 4           \n",
        "is_signed = 1           #1= signed || 0= unsigned\n",
        "is_sigmoid_signed = 1   #1= signed || 0= unsigned\n",
        "weights_on_memory = 1   #1: on memory || 0: weights = inputs\n",
        "\n",
        "m_bin = 0 # 'm' binary digits are the integer part\n",
        "n_bin = n_bits - m_bin    # 'n' binary digits are the fractional part of `x`;\n",
        "n_bin_sigmoid = n_bin #+ 3 #número de casas decimais sigmoide memória\n",
        "\n",
        "download_files = 0      #1= para baixar || 0= não baixar"
      ]
    },
    {
      "cell_type": "code",
      "execution_count": 3,
      "metadata": {
        "id": "WFhk_q457Nnl"
      },
      "outputs": [],
      "source": [
        "# atenuacao_rescale = 0.95\n",
        "atenuacao_rescale = 1"
      ]
    },
    {
      "cell_type": "markdown",
      "metadata": {
        "id": "2xInTt6U2xcv"
      },
      "source": [
        "# Definitions"
      ]
    },
    {
      "cell_type": "markdown",
      "metadata": {
        "id": "RtJ9ieDuH6ie"
      },
      "source": [
        "## ROM Definitions\n"
      ]
    },
    {
      "cell_type": "code",
      "execution_count": 4,
      "metadata": {
        "id": "n4aaAefPICNf"
      },
      "outputs": [],
      "source": [
        "rom_clk = 0   #1= rom com clock || 0= sem clock\n",
        "\n",
        "# nome_rom = \"rom_fx_addwidth\"+str(memory_depth)+\"_addbit\"+str(int(math.log2(memory_depth)))+\"_datawidth\"+str(memory_width)\n",
        "nome_rom = \"ROM_fixedpoint_8bit\""
      ]
    },
    {
      "cell_type": "markdown",
      "metadata": {
        "id": "k5R2sJDsIA90"
      },
      "source": [
        "## Other Definitions"
      ]
    },
    {
      "cell_type": "code",
      "execution_count": 5,
      "metadata": {
        "id": "GDrWC4BP0gIu"
      },
      "outputs": [],
      "source": [
        "# # https://stackoverflow.com/questions/51843297/convert-real-numbers-to-binary-and-vice-versa-in-python\n",
        "# # float_to_binary(x, m_bin, n_bin)\n",
        "# # float_to_binary(x, m_bin, n_bin_sigmoid)\n",
        "# n_bin = 3 # 'n' binary digits are the fractional part of `x`;\n",
        "# m_bin = n_bits - n_bin # `m` binary digits are the integer part\n",
        "# # m_bin = 5 # `m` binary digits are the integer part\n",
        "# # n_bin = n_bits - m_bin # 'n' binary digits are the fractional part of `x`;\n",
        "# n_bin_sigmoid = n_bin *2 "
      ]
    },
    {
      "cell_type": "code",
      "execution_count": 6,
      "metadata": {
        "id": "9NaXsOVdGki4"
      },
      "outputs": [],
      "source": [
        "# https://stackoverflow.com/questions/51843297/convert-real-numbers-to-binary-and-vice-versa-in-python\n",
        "# float_to_binary(x, m_bin, n_bin)\n",
        "# float_to_binary(x, m_bin, n_bin_sigmoid)\n",
        "# m_bin = 0 # `m` binary digits are the integer part\n",
        "# n_bin = n_bits - m_bin    # 'n' binary digits are the fractional part of `x`;\n",
        "# n_bin_sigmoid = n_bin #+ 3 #número de casas decimais sigmoide memória\n",
        "\n",
        "# m_bin = 5 # `m` binary digits are the integer part\n",
        "# n_bin = n_bits - m_bin # 'n' binary digits are the fractional part of `x`;\n",
        "# n_bin_sigmoid = n_bin *2 \n",
        "# n_bin_sigmoid = 11"
      ]
    },
    {
      "cell_type": "code",
      "execution_count": 7,
      "metadata": {
        "id": "GeebSCP_cLMu"
      },
      "outputs": [
        {
          "data": {
            "text/plain": [
              "8"
            ]
          },
          "execution_count": 7,
          "metadata": {},
          "output_type": "execute_result"
        }
      ],
      "source": [
        "n_bin"
      ]
    },
    {
      "cell_type": "code",
      "execution_count": 8,
      "metadata": {
        "id": "siYE0pM4uQcB"
      },
      "outputs": [],
      "source": [
        "#general parameters\n",
        "# bias = ((2**m_bin)/2) -4             #117(8b) \n",
        "bias = 0\n",
        "w_value = 0.125\n",
        "n_inputs_wich_increase = num_inputs            #nro de inputs que crescem seu valor\n",
        "# n_inputs_wich_increase = 1            #nro de inputs que crescem seu valor\n",
        "\n",
        "\n",
        "sigmoid_range = 2                    #tamanho eixo x, sigmoide antes tratamento\n",
        "range_tb_df = (2**m_bin)              #tamanho do dataframe do tb\n",
        "\n",
        "# mult_factor = 2                       # expande sigmoide\n",
        "# mult_factor =(2**m_bin)/sigmoid_range # expande sigmoide\n",
        "mult_factor = 1\n",
        "\n",
        "\n",
        "if (is_signed ==1):\n",
        "  unsigned_offset = 0\n",
        "  offset_df_memory = 0\n",
        "  # norm_y = (2**(m_bin-1))                   # normalização em y: 256(8bits)\n",
        "  norm_y = 1\n",
        "  dx_sigmoid_final = 1/(2**(n_bin_sigmoid-1))     #dx da sigmoid na memória -> depende das casas .fixo com adicional para resolução de dx_input\n",
        "  \n",
        "else:\n",
        "  unsigned_offset = int((2**m_bin)/2)  # 128\n",
        "  offset_df_memory = unsigned_offset - ((sigmoid_range/2)*mult_factor)\n",
        "  norm_y = (2**(m_bin))                   # normalização em y: 256(8bits)\n",
        "  dx_sigmoid_final = 1/(2**(n_bin_sigmoid))     #dx da sigmoid na memória -> depende das casas .fixo com adicional para resolução de dx_input\n",
        "\n",
        "# dx_sigmoid = 1/(2**n_bin_sigmoid)     #dx da sigmoid na memória -> depende das casas .fixo com adicional para resolução de dx_input\n",
        "\n",
        "dx_sigmoid = dx_sigmoid_final/mult_factor   #dx necessário antes da expansão\n",
        "\n",
        "dx_input = 1/(2**n_bin)               #dx das entradas do tb -> depende das casas .fixo\n",
        "\n",
        "memory_address_type = 1               # 0= int(n) ; 1= float(address)|| indice da memoria int ou float\n",
        "mem_zeros = 0                         # 1= memória com endereços para valor zero || 0=memória apenas com valores"
      ]
    },
    {
      "cell_type": "code",
      "execution_count": 9,
      "metadata": {
        "id": "8Gmn5iHTdPJR"
      },
      "outputs": [
        {
          "data": {
            "text/plain": [
              "0.5"
            ]
          },
          "execution_count": 9,
          "metadata": {},
          "output_type": "execute_result"
        }
      ],
      "source": [
        "(2**(m_bin-1))     "
      ]
    },
    {
      "cell_type": "code",
      "execution_count": 10,
      "metadata": {
        "id": "fK42w64ydQuA"
      },
      "outputs": [
        {
          "data": {
            "text/plain": [
              "0"
            ]
          },
          "execution_count": 10,
          "metadata": {},
          "output_type": "execute_result"
        }
      ],
      "source": [
        "m_bin"
      ]
    },
    {
      "cell_type": "code",
      "execution_count": 11,
      "metadata": {
        "id": "ycDV58ulvEbX"
      },
      "outputs": [],
      "source": [
        "# (2**m_bin)"
      ]
    },
    {
      "cell_type": "code",
      "execution_count": 12,
      "metadata": {
        "id": "Pg4DfaNumZtt"
      },
      "outputs": [],
      "source": [
        "# n_bin = 2-> passo input = 2^2=4 -> passo = 1/4 = 0.25 || 0.25^2 = 0.0625 = 0.0001 = 0.00 |"
      ]
    },
    {
      "cell_type": "code",
      "execution_count": 13,
      "metadata": {
        "id": "hUg-WvaEDvzf"
      },
      "outputs": [],
      "source": [
        "# np.linspace(-(sigmoid_range/2),(sigmoid_range/2),int(total_dx))"
      ]
    },
    {
      "cell_type": "code",
      "execution_count": 14,
      "metadata": {
        "id": "RuS0Oe0QESLU"
      },
      "outputs": [],
      "source": [
        "# np.linspace(-(7),(7),int(total_dx))"
      ]
    },
    {
      "cell_type": "code",
      "execution_count": 15,
      "metadata": {
        "id": "_u1MOqlTooL8"
      },
      "outputs": [],
      "source": [
        "#DX SIGMOID\n",
        "if (dx_sigmoid == 1):\n",
        "  total_dx = range_tb_df+1\n",
        "else:\n",
        "  \n",
        "  total_dx = (1/dx_sigmoid)*sigmoid_range +1\n",
        "\n",
        "# total_dx = range_tb_df+1\n",
        "# total_dx"
      ]
    },
    {
      "cell_type": "code",
      "execution_count": 16,
      "metadata": {
        "id": "qa27NfsnLMyW"
      },
      "outputs": [],
      "source": [
        "#DX INPUTS TB-> define numero total de linhas dataframe inputs_tb\n",
        "if (dx_input == 1):\n",
        "  total_dx_input = range_tb_df+1\n",
        "\n",
        "else:\n",
        "  total_dx_input = (1/dx_input)*range_tb_df +1\n",
        "\n",
        "# total_dx = range_tb_df+1\n",
        "# total_dx_input"
      ]
    },
    {
      "cell_type": "code",
      "execution_count": 17,
      "metadata": {
        "id": "n9AUjf-hMY62"
      },
      "outputs": [],
      "source": [
        "# np.linspace(0,range_tb_df,int(total_dx_input))"
      ]
    },
    {
      "cell_type": "code",
      "execution_count": 18,
      "metadata": {
        "id": "PaXdNZYJ4XKW"
      },
      "outputs": [],
      "source": [
        "# 2**n_bits/2"
      ]
    },
    {
      "cell_type": "code",
      "execution_count": 19,
      "metadata": {
        "id": "Bau4UiZqZypz"
      },
      "outputs": [],
      "source": [
        "# sigmoid_dx_list = np.linspace(-7,7,15) #vai de -128 a 127, dividido em 256 pontos (8 bits)"
      ]
    },
    {
      "cell_type": "markdown",
      "metadata": {
        "id": "3uxcOGcZsQkh"
      },
      "source": [
        "# Functions Calculus"
      ]
    },
    {
      "cell_type": "code",
      "execution_count": 20,
      "metadata": {
        "id": "A0MRyKDTtmHJ"
      },
      "outputs": [],
      "source": [
        "import math\n",
        "exp = math.exp"
      ]
    },
    {
      "cell_type": "code",
      "execution_count": 21,
      "metadata": {
        "id": "BD_RPK6Es_RL"
      },
      "outputs": [
        {
          "data": {
            "text/plain": [
              "7.38905609893065"
            ]
          },
          "execution_count": 21,
          "metadata": {},
          "output_type": "execute_result"
        }
      ],
      "source": [
        "exp(2)"
      ]
    },
    {
      "cell_type": "code",
      "execution_count": 22,
      "metadata": {
        "id": "MhsQzTZdt6hl"
      },
      "outputs": [],
      "source": [
        "# x1= 1\n",
        "# x2= 2\n",
        "# x3= 3\n",
        "# w1= 4\n",
        "# w2= 5\n",
        "# w3= -6\n",
        "# sum = (x1*w1) + (x2*w2) + (x3*w3) + bias\n",
        "# sum"
      ]
    },
    {
      "cell_type": "code",
      "execution_count": 23,
      "metadata": {
        "id": "udIAEl8Ju2nm"
      },
      "outputs": [],
      "source": [
        "# sum= -12"
      ]
    },
    {
      "cell_type": "code",
      "execution_count": 24,
      "metadata": {
        "id": "RGNY3Az7uls5"
      },
      "outputs": [],
      "source": [
        "# tanh = 1-(exp(-2*sum))/(1+(exp(-2*sum)))\n",
        "# tanh"
      ]
    },
    {
      "cell_type": "code",
      "execution_count": 25,
      "metadata": {
        "id": "2BXc4fGi-kaH"
      },
      "outputs": [
        {
          "data": {
            "text/plain": [
              "0.8807970779778823"
            ]
          },
          "execution_count": 25,
          "metadata": {},
          "output_type": "execute_result"
        }
      ],
      "source": [
        "def sigmoid (x):\n",
        "  return (1/(1+(exp(-1*x))))\n",
        "sigmoid(2)"
      ]
    },
    {
      "cell_type": "code",
      "execution_count": 26,
      "metadata": {
        "id": "imqHdnegusuM"
      },
      "outputs": [],
      "source": [
        "function = sigmoid"
      ]
    },
    {
      "cell_type": "markdown",
      "metadata": {
        "id": "cOvAVhOIiEg4"
      },
      "source": [
        "## Bin | float >> functions"
      ]
    },
    {
      "cell_type": "code",
      "execution_count": 27,
      "metadata": {
        "id": "ZwODfuJZVW5W"
      },
      "outputs": [
        {
          "name": "stdout",
          "output_type": "stream",
          "text": [
            "Requirement already satisfied: bitstring in c:\\users\\luisa\\appdata\\local\\programs\\python\\python39\\lib\\site-packages (4.0.1)\n"
          ]
        },
        {
          "name": "stderr",
          "output_type": "stream",
          "text": [
            "WARNING: You are using pip version 21.1.1; however, version 23.0.1 is available.\n",
            "You should consider upgrading via the 'c:\\users\\luisa\\appdata\\local\\programs\\python\\python39\\python.exe -m pip install --upgrade pip' command.\n"
          ]
        }
      ],
      "source": [
        "from bitstring import BitArray\n",
        "\n",
        "def int2bin(a,lenght):\n",
        "  b= BitArray(int=a, lenght= lenght)\n",
        "  return b.bin"
      ]
    },
    {
      "cell_type": "code",
      "execution_count": 28,
      "metadata": {
        "id": "pnSkZspZBy22"
      },
      "outputs": [],
      "source": [
        "#INT -> BINARY conversion (with 2 complement)\n",
        "def int_to_bin(n, bits):\n",
        "    s = bin(n & int(\"1\"*bits, 2))[2:]\n",
        "    return (\"{0:0>%s}\" % (bits)).format(s)"
      ]
    },
    {
      "cell_type": "code",
      "execution_count": 29,
      "metadata": {
        "id": "yIESS3Uv4vCA"
      },
      "outputs": [],
      "source": [
        "# def float_to_binary(x, m, n):\n",
        "#     \"\"\"Convert the float value `x` to a binary string of length `m + n`\n",
        "#     where the first `m` binary digits are the integer part and the last\n",
        "#     'n' binary digits are the fractional part of `x`.\n",
        "#     \"\"\"\n",
        "#     x_scaled = round(x * 2 ** n)\n",
        "#     return '{:0{}b}'.format(x_scaled, m + n)\n",
        "\n",
        "# def binary_to_float(bstr, m, n):\n",
        "#     \"\"\"Convert a binary string in the format given above to its float\n",
        "#     value.\n",
        "#     \"\"\"\n",
        "#     return int(bstr, 2) / 2 ** n\n",
        "\n",
        "# # print(float_to_binary(10.625, 6, 5))\n",
        "# print(binary_to_float('00101010100', 6, 5))"
      ]
    },
    {
      "cell_type": "code",
      "execution_count": 30,
      "metadata": {
        "colab": {
          "base_uri": "https://localhost:8080/"
        },
        "id": "CbiReMJgjgW_",
        "outputId": "3a7f4ad6-444c-4568-dcd1-1f995e29cc5f"
      },
      "outputs": [
        {
          "data": {
            "text/plain": [
              "'10000011'"
            ]
          },
          "execution_count": 30,
          "metadata": {},
          "output_type": "execute_result"
        }
      ],
      "source": [
        "#Function used to replace zeros by ones and vice versa\n",
        "def transform(x):\n",
        "    text = ''\n",
        "    for i in x:\n",
        "        if i == '1':\n",
        "            text += \"0\"  # directly add the `.`\n",
        "        else:\n",
        "            text += \"1\"  # directly add the `_`\n",
        "    return text\n",
        "\n",
        "transform('01111100') # call the function"
      ]
    },
    {
      "cell_type": "code",
      "execution_count": 31,
      "metadata": {
        "colab": {
          "base_uri": "https://localhost:8080/"
        },
        "id": "oQXyBEwVFAm5",
        "outputId": "7b273f8c-b251-4e94-8b81-3b42400607aa"
      },
      "outputs": [
        {
          "data": {
            "text/plain": [
              "'1111111'"
            ]
          },
          "execution_count": 31,
          "metadata": {},
          "output_type": "execute_result"
        }
      ],
      "source": [
        "ones = str(np.ones(m_bin+n_bin_sigmoid-1))\n",
        "ones= ones.replace(\".\", \"\");\n",
        "ones= ones.replace(\"[\", \"\");\n",
        "ones= ones.replace(\"]\", \"\");\n",
        "ones= ones.replace(\" \", \"\");\n",
        "ones"
      ]
    },
    {
      "cell_type": "code",
      "execution_count": 32,
      "metadata": {
        "id": "BdFfRIV_yOVm"
      },
      "outputs": [],
      "source": [
        "def float_to_binary(x, m, n, signed):\n",
        "    \"\"\"Convert the float value `x` to a binary string of length `m + n`\n",
        "    where the first `m` binary digits are the integer part and the last\n",
        "    'n' binary digits are the fractional part of `x`.\n",
        "    \"\"\"\n",
        "    x_replace = ''\n",
        "    x_inv = ''\n",
        "    x_inv_float = ''\n",
        "    x_comp = ''\n",
        "    decimais = 0\n",
        "\n",
        "    if (signed == 1):\n",
        "      decimais = n-1\n",
        "    else: decimais = n\n",
        "\n",
        "    x_scaled = round(x * 2 ** (decimais))\n",
        "    out = '{:0{}b}'.format(x_scaled, m + (decimais)) # float -> bin\n",
        "    # return out\n",
        "\n",
        "    #---------------------NUMEROS NEGATIVOS---------------------#\n",
        "    #Two complement logic\n",
        "    if (str(out).find('-')== 0): #esta função é True quando == 0\n",
        "      x_replace = str(out).replace('-','') #tira o sinal negativo que fica no valor\n",
        "      \n",
        "      while (len(x_replace)< n ):\n",
        "        x_replace = '0' + x_replace # adiciona um zeros que a função bosta tira de bug\n",
        "        #pois a função está deixando com apenas 7 bits quando o valor é negativo ou até menos\n",
        "\n",
        "      x_inv = transform(x_replace) #replace ones by zeros and vice versa\n",
        "      x_inv_float = binary_to_float(x_inv, m, (decimais),0) #transforma em real\n",
        "\n",
        "      #adiciona o 1 binário do complemento de 2, depende do número de bits para fazer esta adição em float\n",
        "      # onde: (1 de 3 casas decimais) = 0.125 = 2^-3\n",
        "      #adição feita em real, pois não há operações binárias de soma no python até então, logo:\n",
        "      #transforma em binário o número inverso já somado com 1\n",
        "      x_comp = float_to_binary(x_inv_float + (2**-(decimais)), m, n,1)\n",
        "      # x_comp = x_comp[1:]\n",
        "\n",
        "      return x_comp\n",
        "      # return x_scaled,out,x_replace,x_inv,x_inv_float,x_comp,x_comp\n",
        "\n",
        "\n",
        "      # if (x_scaled < (2**decimais)):\n",
        "      #   return x_comp\n",
        "      # else:\n",
        "      #   return '{:0{}b}'.format(( 2**decimais -1), m + (decimais)) # float -> bin\n",
        "\n",
        "    #---------------------NUMEROS POSITIVOS---------------------#\n",
        "    else:\n",
        "      # out = '0' + out # adiciona um zeros que a função bosta tira de bug\n",
        "      while (len(out)< n ):\n",
        "          out = '0' + out # adiciona um zeros que a função bosta tira de bug\n",
        "      return  out\n",
        "\n",
        "      # if (x_scaled < (2**decimais)): # se x_scaled < limite: retorna valor normal\n",
        "      #   while (len(out)< n ):\n",
        "      #     out = '0' + out # adiciona um zeros que a função bosta tira de bug\n",
        "      #   return  out\n",
        "      # else: \n",
        "      #   return '{:0{}b}'.format(( 2**decimais -1), m + (decimais)) # float -> bin\n",
        "    \n",
        "  # else: #unsigned\n",
        "  #   x_scaled = round(x * 2 ** n)\n",
        "  #   return '{:0{}b}'.format(x_scaled, m + n)\n",
        "\n",
        "\n",
        "def binary_to_float(bstr, m, n, signed): # (binario, exponent, mantissa, signed)\n",
        "    \"\"\"Convert a binary string in the format given above to its float\n",
        "    value.\n",
        "    \"\"\"\n",
        "    if (signed == 1): #signed\n",
        "      if (bstr[:1]== '1'):\n",
        "        x_replace = bstr[1:]\n",
        "        # x_replace = bstr\n",
        "        return (int((x_replace), 2) / 2 ** (n-1)) -1\n",
        "      else: return int((bstr), 2) / 2 ** (n-1)\n",
        "\n",
        "    else: #unsigned\n",
        "      return int((bstr), 2) / 2 ** n\n",
        "\n",
        "# print(float_to_binary(10.625, 6, 5))\n",
        "# print(binary_to_float('00101010100', 6, 5))"
      ]
    },
    {
      "cell_type": "code",
      "execution_count": 33,
      "metadata": {
        "colab": {
          "base_uri": "https://localhost:8080/"
        },
        "id": "nErj34rE-1VB",
        "outputId": "93332728-a609-460f-c014-d4d5ac9c2f25"
      },
      "outputs": [
        {
          "name": "stdout",
          "output_type": "stream",
          "text": [
            "float:  -1 bin:  10000000\n",
            "float:  -0.992188 bin:  10000001\n",
            "float:  -0.507812 bin:  10111111\n",
            "float:  -0.5 bin:  11000000\n",
            "float:  -0.492188 bin:  11000001\n",
            "float:  -0.015625 bin:  11111110\n",
            "float:  0 bin:  00000000\n",
            "float:  0.496094 bin:  01000000\n",
            "float:  0.507812 bin:  01000001\n",
            "float:  0.992188 bin:  01111111\n"
          ]
        }
      ],
      "source": [
        "x= [-1,-0.992188,-0.507812, -0.500000,-0.492188,-0.015625,0,0.496094,0.507812,0.992188]\n",
        "for i in range(0,len(x)):\n",
        "  print('float: ', x[i],'bin: ',float_to_binary(x[i] ,m_bin,n_bin_sigmoid,is_signed))"
      ]
    },
    {
      "cell_type": "code",
      "execution_count": 34,
      "metadata": {
        "colab": {
          "base_uri": "https://localhost:8080/"
        },
        "id": "J7CJxWDOD-pi",
        "outputId": "14bd1bcd-fe91-420a-8b7f-bb6d36e30ac7"
      },
      "outputs": [
        {
          "data": {
            "text/plain": [
              "1.0"
            ]
          },
          "execution_count": 34,
          "metadata": {},
          "output_type": "execute_result"
        }
      ],
      "source": [
        "binary_to_float('100000000', m_bin, n_bin, 0)\n",
        "# 100000000"
      ]
    },
    {
      "cell_type": "code",
      "execution_count": 35,
      "metadata": {
        "colab": {
          "base_uri": "https://localhost:8080/"
        },
        "id": "ys9bpxQSEeYn",
        "outputId": "7a272ee1-3273-451e-8230-2692c4908497"
      },
      "outputs": [
        {
          "data": {
            "text/plain": [
              "127"
            ]
          },
          "execution_count": 35,
          "metadata": {},
          "output_type": "execute_result"
        }
      ],
      "source": [
        "int('1111111',2)"
      ]
    },
    {
      "cell_type": "code",
      "execution_count": 36,
      "metadata": {
        "colab": {
          "base_uri": "https://localhost:8080/"
        },
        "id": "63K8FPY0Ehil",
        "outputId": "bbd25061-4846-4428-d7db-72176c384338"
      },
      "outputs": [
        {
          "data": {
            "text/plain": [
              "256"
            ]
          },
          "execution_count": 36,
          "metadata": {},
          "output_type": "execute_result"
        }
      ],
      "source": [
        "int('100000000',2)"
      ]
    },
    {
      "cell_type": "code",
      "execution_count": 37,
      "metadata": {
        "colab": {
          "base_uri": "https://localhost:8080/"
        },
        "id": "82BLk3kLEz3P",
        "outputId": "69af73fb-37ae-4436-890b-155375b62fb2"
      },
      "outputs": [
        {
          "name": "stdout",
          "output_type": "stream",
          "text": [
            "é maior\n"
          ]
        }
      ],
      "source": [
        "if ((int('100000000',2)) > int(ones,2)):\n",
        "  print('é maior')"
      ]
    },
    {
      "cell_type": "code",
      "execution_count": 38,
      "metadata": {
        "id": "jwkuD6eJETep"
      },
      "outputs": [],
      "source": [
        "# ones_aux"
      ]
    },
    {
      "cell_type": "markdown",
      "metadata": {
        "id": "by814T6PsI5F"
      },
      "source": [
        "# Começo df_inputs"
      ]
    },
    {
      "cell_type": "code",
      "execution_count": 39,
      "metadata": {
        "id": "gsE4SxfzGmVG"
      },
      "outputs": [],
      "source": [
        "a = int(((2**n_bits)/2)-7) # 128 - 7 = 121\n",
        "b = int(((2**n_bits)/2)+7) # 128 + 7 = 135"
      ]
    },
    {
      "cell_type": "code",
      "execution_count": 40,
      "metadata": {
        "id": "ynLrB9sBIRZT"
      },
      "outputs": [],
      "source": [
        "testes_x1 = range(0,14,1) #start, end, step\n",
        "testes_x2 = range(0,14,1) #start, end, step\n",
        "testes_x3 = range(0,14,1) #start, end, step\n",
        "testes_w1 = range(0,14,1) #start, end, step\n",
        "testes_w2 = range(0,14,1) #start, end, step\n",
        "testes_w3 = range(0,14,1) #start, end, step"
      ]
    },
    {
      "cell_type": "code",
      "execution_count": 41,
      "metadata": {
        "id": "SYUj6usj1txQ"
      },
      "outputs": [],
      "source": [
        "# testes_x1 = range(a,b,1) #start, end, step\n",
        "# testes_x2 = (range(((2**n_bits)/2)-7,((2**n_bits)/2)+7,1)) #start, end, step\n",
        "# testes_x3 = (range(((2**n_bits)/2)-7,((2**n_bits)/2)+7,1)) #start, end, step\n",
        "# testes_w1 = (range(((2**n_bits)/2)-7,((2**n_bits)/2)+7,1)) #start, end, step\n",
        "# testes_w2 = (range(((2**n_bits)/2)-7,((2**n_bits)/2)+7,1)) #start, end, step\n",
        "# testes_w3 = (range(((2**n_bits)/2)-7,((2**n_bits)/2)+7,1)) #start, end, step"
      ]
    },
    {
      "cell_type": "code",
      "execution_count": 42,
      "metadata": {
        "id": "cjeSGMEdSrq8"
      },
      "outputs": [],
      "source": [
        "# testes_x= []\n",
        "# testes_w= []\n",
        "# i=0\n",
        "# while True:\n",
        "#     if (i < 2):\n",
        "#       testes_x.append(range(0,14,1)) #start, end, step\n",
        "#       testes_w.append(1)  #testes_wi\n",
        "#       i= i+1\n",
        "#     elif (i < num_inputs):\n",
        "#       testes_x.append(1)\n",
        "#       testes_w.append(1)  #testes_wi\n",
        "#       i= i+1\n",
        "#     else:\n",
        "#       i=0\n",
        "#       break"
      ]
    },
    {
      "cell_type": "code",
      "execution_count": 43,
      "metadata": {
        "id": "CmtH_EPLRNs4"
      },
      "outputs": [],
      "source": [
        "# testes_x[2]"
      ]
    },
    {
      "cell_type": "code",
      "execution_count": 44,
      "metadata": {
        "id": "MHIEMcjXCJbR"
      },
      "outputs": [],
      "source": [
        "input_increment = dx_sigmoid"
      ]
    },
    {
      "cell_type": "code",
      "execution_count": 45,
      "metadata": {
        "colab": {
          "base_uri": "https://localhost:8080/"
        },
        "id": "20TZuKo0XFrf",
        "outputId": "59a9f75a-9d77-4d41-cfec-6930fad6b17d"
      },
      "outputs": [
        {
          "data": {
            "text/plain": [
              "range(0, 0)"
            ]
          },
          "execution_count": 45,
          "metadata": {},
          "output_type": "execute_result"
        }
      ],
      "source": [
        "range(int(-range_tb_df/2),int(range_tb_df/2),1)"
      ]
    },
    {
      "cell_type": "code",
      "execution_count": 46,
      "metadata": {
        "id": "IfTfDTz1XmhZ"
      },
      "outputs": [],
      "source": [
        "dataframe_range = np.linspace((-range_tb_df/2),(range_tb_df/2),int(total_dx_input))\n",
        "# dataframe_range"
      ]
    },
    {
      "cell_type": "code",
      "execution_count": 47,
      "metadata": {
        "id": "buKExd7vUCbN"
      },
      "outputs": [],
      "source": [
        "df_inputs = pd.DataFrame()\n",
        "i=0\n",
        "#Xi\n",
        "while True:\n",
        "  if (i < n_inputs_wich_increase):\n",
        "    df_inputs[\"testes_x\"+str(i+1)] = dataframe_range\n",
        "    i= i+1\n",
        "  elif (i < num_inputs):\n",
        "    df_inputs[\"testes_x\"+str(i+1)] = 1\n",
        "    i= i+1\n",
        "  else:\n",
        "    i= 0\n",
        "    break"
      ]
    },
    {
      "cell_type": "code",
      "execution_count": 48,
      "metadata": {
        "colab": {
          "base_uri": "https://localhost:8080/"
        },
        "id": "wvp1ExpxWNUL",
        "outputId": "9cc80b32-a14e-44cf-da9c-03c3440519e8"
      },
      "outputs": [
        {
          "data": {
            "text/plain": [
              "range(0, 4)"
            ]
          },
          "execution_count": 48,
          "metadata": {},
          "output_type": "execute_result"
        }
      ],
      "source": [
        "range(0, num_inputs)"
      ]
    },
    {
      "cell_type": "code",
      "execution_count": 49,
      "metadata": {
        "colab": {
          "base_uri": "https://localhost:8080/"
        },
        "id": "ez_1BHuQWv-X",
        "outputId": "63870ffa-7634-491f-90e5-76e52e754b8f"
      },
      "outputs": [
        {
          "data": {
            "text/plain": [
              "1"
            ]
          },
          "execution_count": 49,
          "metadata": {},
          "output_type": "execute_result"
        }
      ],
      "source": [
        "weights_on_memory"
      ]
    },
    {
      "cell_type": "code",
      "execution_count": 50,
      "metadata": {
        "id": "woC0ZFFyWcy6"
      },
      "outputs": [],
      "source": [
        "#PESOS W_i\n",
        "\n",
        "while True:\n",
        "  if (i < n_inputs_wich_increase):\n",
        "    df_inputs[\"testes_w\"+str(i+1)] = w_value  #testes_w1    \n",
        "    i= i+1\n",
        "  elif (i < num_inputs):\n",
        "    df_inputs[\"testes_w\"+str(i+1)] = 1  #testes_w1\n",
        "    i= i+1\n",
        "  else:\n",
        "    df_inputs['bias'] = bias  #testes_w3\n",
        "    i= 0\n",
        "    break"
      ]
    },
    {
      "cell_type": "code",
      "execution_count": 51,
      "metadata": {
        "colab": {
          "base_uri": "https://localhost:8080/"
        },
        "id": "hiv_XUjK92xz",
        "outputId": "5db273a5-65e8-4b9c-8cc3-b123daf75d79"
      },
      "outputs": [
        {
          "data": {
            "text/html": [
              "<div>\n",
              "<style scoped>\n",
              "    .dataframe tbody tr th:only-of-type {\n",
              "        vertical-align: middle;\n",
              "    }\n",
              "\n",
              "    .dataframe tbody tr th {\n",
              "        vertical-align: top;\n",
              "    }\n",
              "\n",
              "    .dataframe thead th {\n",
              "        text-align: right;\n",
              "    }\n",
              "</style>\n",
              "<table border=\"1\" class=\"dataframe\">\n",
              "  <thead>\n",
              "    <tr style=\"text-align: right;\">\n",
              "      <th></th>\n",
              "      <th>testes_x1</th>\n",
              "      <th>testes_x2</th>\n",
              "      <th>testes_x3</th>\n",
              "      <th>testes_x4</th>\n",
              "      <th>testes_w1</th>\n",
              "      <th>testes_w2</th>\n",
              "      <th>testes_w3</th>\n",
              "      <th>testes_w4</th>\n",
              "      <th>bias</th>\n",
              "    </tr>\n",
              "  </thead>\n",
              "  <tbody>\n",
              "    <tr>\n",
              "      <th>0</th>\n",
              "      <td>-0.500000</td>\n",
              "      <td>-0.500000</td>\n",
              "      <td>-0.500000</td>\n",
              "      <td>-0.500000</td>\n",
              "      <td>0.125</td>\n",
              "      <td>0.125</td>\n",
              "      <td>0.125</td>\n",
              "      <td>0.125</td>\n",
              "      <td>0</td>\n",
              "    </tr>\n",
              "    <tr>\n",
              "      <th>1</th>\n",
              "      <td>-0.496094</td>\n",
              "      <td>-0.496094</td>\n",
              "      <td>-0.496094</td>\n",
              "      <td>-0.496094</td>\n",
              "      <td>0.125</td>\n",
              "      <td>0.125</td>\n",
              "      <td>0.125</td>\n",
              "      <td>0.125</td>\n",
              "      <td>0</td>\n",
              "    </tr>\n",
              "    <tr>\n",
              "      <th>2</th>\n",
              "      <td>-0.492188</td>\n",
              "      <td>-0.492188</td>\n",
              "      <td>-0.492188</td>\n",
              "      <td>-0.492188</td>\n",
              "      <td>0.125</td>\n",
              "      <td>0.125</td>\n",
              "      <td>0.125</td>\n",
              "      <td>0.125</td>\n",
              "      <td>0</td>\n",
              "    </tr>\n",
              "    <tr>\n",
              "      <th>3</th>\n",
              "      <td>-0.488281</td>\n",
              "      <td>-0.488281</td>\n",
              "      <td>-0.488281</td>\n",
              "      <td>-0.488281</td>\n",
              "      <td>0.125</td>\n",
              "      <td>0.125</td>\n",
              "      <td>0.125</td>\n",
              "      <td>0.125</td>\n",
              "      <td>0</td>\n",
              "    </tr>\n",
              "    <tr>\n",
              "      <th>4</th>\n",
              "      <td>-0.484375</td>\n",
              "      <td>-0.484375</td>\n",
              "      <td>-0.484375</td>\n",
              "      <td>-0.484375</td>\n",
              "      <td>0.125</td>\n",
              "      <td>0.125</td>\n",
              "      <td>0.125</td>\n",
              "      <td>0.125</td>\n",
              "      <td>0</td>\n",
              "    </tr>\n",
              "    <tr>\n",
              "      <th>...</th>\n",
              "      <td>...</td>\n",
              "      <td>...</td>\n",
              "      <td>...</td>\n",
              "      <td>...</td>\n",
              "      <td>...</td>\n",
              "      <td>...</td>\n",
              "      <td>...</td>\n",
              "      <td>...</td>\n",
              "      <td>...</td>\n",
              "    </tr>\n",
              "    <tr>\n",
              "      <th>252</th>\n",
              "      <td>0.484375</td>\n",
              "      <td>0.484375</td>\n",
              "      <td>0.484375</td>\n",
              "      <td>0.484375</td>\n",
              "      <td>0.125</td>\n",
              "      <td>0.125</td>\n",
              "      <td>0.125</td>\n",
              "      <td>0.125</td>\n",
              "      <td>0</td>\n",
              "    </tr>\n",
              "    <tr>\n",
              "      <th>253</th>\n",
              "      <td>0.488281</td>\n",
              "      <td>0.488281</td>\n",
              "      <td>0.488281</td>\n",
              "      <td>0.488281</td>\n",
              "      <td>0.125</td>\n",
              "      <td>0.125</td>\n",
              "      <td>0.125</td>\n",
              "      <td>0.125</td>\n",
              "      <td>0</td>\n",
              "    </tr>\n",
              "    <tr>\n",
              "      <th>254</th>\n",
              "      <td>0.492188</td>\n",
              "      <td>0.492188</td>\n",
              "      <td>0.492188</td>\n",
              "      <td>0.492188</td>\n",
              "      <td>0.125</td>\n",
              "      <td>0.125</td>\n",
              "      <td>0.125</td>\n",
              "      <td>0.125</td>\n",
              "      <td>0</td>\n",
              "    </tr>\n",
              "    <tr>\n",
              "      <th>255</th>\n",
              "      <td>0.496094</td>\n",
              "      <td>0.496094</td>\n",
              "      <td>0.496094</td>\n",
              "      <td>0.496094</td>\n",
              "      <td>0.125</td>\n",
              "      <td>0.125</td>\n",
              "      <td>0.125</td>\n",
              "      <td>0.125</td>\n",
              "      <td>0</td>\n",
              "    </tr>\n",
              "    <tr>\n",
              "      <th>256</th>\n",
              "      <td>0.500000</td>\n",
              "      <td>0.500000</td>\n",
              "      <td>0.500000</td>\n",
              "      <td>0.500000</td>\n",
              "      <td>0.125</td>\n",
              "      <td>0.125</td>\n",
              "      <td>0.125</td>\n",
              "      <td>0.125</td>\n",
              "      <td>0</td>\n",
              "    </tr>\n",
              "  </tbody>\n",
              "</table>\n",
              "<p>257 rows × 9 columns</p>\n",
              "</div>"
            ],
            "text/plain": [
              "     testes_x1  testes_x2  testes_x3  testes_x4  testes_w1  testes_w2  \\\n",
              "0    -0.500000  -0.500000  -0.500000  -0.500000      0.125      0.125   \n",
              "1    -0.496094  -0.496094  -0.496094  -0.496094      0.125      0.125   \n",
              "2    -0.492188  -0.492188  -0.492188  -0.492188      0.125      0.125   \n",
              "3    -0.488281  -0.488281  -0.488281  -0.488281      0.125      0.125   \n",
              "4    -0.484375  -0.484375  -0.484375  -0.484375      0.125      0.125   \n",
              "..         ...        ...        ...        ...        ...        ...   \n",
              "252   0.484375   0.484375   0.484375   0.484375      0.125      0.125   \n",
              "253   0.488281   0.488281   0.488281   0.488281      0.125      0.125   \n",
              "254   0.492188   0.492188   0.492188   0.492188      0.125      0.125   \n",
              "255   0.496094   0.496094   0.496094   0.496094      0.125      0.125   \n",
              "256   0.500000   0.500000   0.500000   0.500000      0.125      0.125   \n",
              "\n",
              "     testes_w3  testes_w4  bias  \n",
              "0        0.125      0.125     0  \n",
              "1        0.125      0.125     0  \n",
              "2        0.125      0.125     0  \n",
              "3        0.125      0.125     0  \n",
              "4        0.125      0.125     0  \n",
              "..         ...        ...   ...  \n",
              "252      0.125      0.125     0  \n",
              "253      0.125      0.125     0  \n",
              "254      0.125      0.125     0  \n",
              "255      0.125      0.125     0  \n",
              "256      0.125      0.125     0  \n",
              "\n",
              "[257 rows x 9 columns]"
            ]
          },
          "execution_count": 51,
          "metadata": {},
          "output_type": "execute_result"
        }
      ],
      "source": [
        "df_inputs"
      ]
    },
    {
      "cell_type": "code",
      "execution_count": 52,
      "metadata": {
        "id": "YoHPmMlCbU3z"
      },
      "outputs": [],
      "source": [
        "df_weights = pd.DataFrame()\n",
        "df_weights = df_inputs.iloc[:, 4:]\n",
        "if (weights_on_memory == 1): #pesos na memória\n",
        "  df_inputs.drop(df_inputs.iloc[:, 4:], axis=1, inplace=True)\n",
        "# df_inputs\n",
        "# df_weights"
      ]
    },
    {
      "cell_type": "code",
      "execution_count": 53,
      "metadata": {
        "colab": {
          "base_uri": "https://localhost:8080/"
        },
        "id": "m07U-YF29f8i",
        "outputId": "b3fa747b-6976-4abe-8e08-e22bc36a6046"
      },
      "outputs": [
        {
          "data": {
            "text/html": [
              "<div>\n",
              "<style scoped>\n",
              "    .dataframe tbody tr th:only-of-type {\n",
              "        vertical-align: middle;\n",
              "    }\n",
              "\n",
              "    .dataframe tbody tr th {\n",
              "        vertical-align: top;\n",
              "    }\n",
              "\n",
              "    .dataframe thead th {\n",
              "        text-align: right;\n",
              "    }\n",
              "</style>\n",
              "<table border=\"1\" class=\"dataframe\">\n",
              "  <thead>\n",
              "    <tr style=\"text-align: right;\">\n",
              "      <th></th>\n",
              "      <th>testes_w1</th>\n",
              "      <th>testes_w2</th>\n",
              "      <th>testes_w3</th>\n",
              "      <th>testes_w4</th>\n",
              "      <th>bias</th>\n",
              "    </tr>\n",
              "  </thead>\n",
              "  <tbody>\n",
              "    <tr>\n",
              "      <th>0</th>\n",
              "      <td>0.125</td>\n",
              "      <td>0.125</td>\n",
              "      <td>0.125</td>\n",
              "      <td>0.125</td>\n",
              "      <td>0</td>\n",
              "    </tr>\n",
              "    <tr>\n",
              "      <th>1</th>\n",
              "      <td>0.125</td>\n",
              "      <td>0.125</td>\n",
              "      <td>0.125</td>\n",
              "      <td>0.125</td>\n",
              "      <td>0</td>\n",
              "    </tr>\n",
              "    <tr>\n",
              "      <th>2</th>\n",
              "      <td>0.125</td>\n",
              "      <td>0.125</td>\n",
              "      <td>0.125</td>\n",
              "      <td>0.125</td>\n",
              "      <td>0</td>\n",
              "    </tr>\n",
              "    <tr>\n",
              "      <th>3</th>\n",
              "      <td>0.125</td>\n",
              "      <td>0.125</td>\n",
              "      <td>0.125</td>\n",
              "      <td>0.125</td>\n",
              "      <td>0</td>\n",
              "    </tr>\n",
              "    <tr>\n",
              "      <th>4</th>\n",
              "      <td>0.125</td>\n",
              "      <td>0.125</td>\n",
              "      <td>0.125</td>\n",
              "      <td>0.125</td>\n",
              "      <td>0</td>\n",
              "    </tr>\n",
              "    <tr>\n",
              "      <th>...</th>\n",
              "      <td>...</td>\n",
              "      <td>...</td>\n",
              "      <td>...</td>\n",
              "      <td>...</td>\n",
              "      <td>...</td>\n",
              "    </tr>\n",
              "    <tr>\n",
              "      <th>252</th>\n",
              "      <td>0.125</td>\n",
              "      <td>0.125</td>\n",
              "      <td>0.125</td>\n",
              "      <td>0.125</td>\n",
              "      <td>0</td>\n",
              "    </tr>\n",
              "    <tr>\n",
              "      <th>253</th>\n",
              "      <td>0.125</td>\n",
              "      <td>0.125</td>\n",
              "      <td>0.125</td>\n",
              "      <td>0.125</td>\n",
              "      <td>0</td>\n",
              "    </tr>\n",
              "    <tr>\n",
              "      <th>254</th>\n",
              "      <td>0.125</td>\n",
              "      <td>0.125</td>\n",
              "      <td>0.125</td>\n",
              "      <td>0.125</td>\n",
              "      <td>0</td>\n",
              "    </tr>\n",
              "    <tr>\n",
              "      <th>255</th>\n",
              "      <td>0.125</td>\n",
              "      <td>0.125</td>\n",
              "      <td>0.125</td>\n",
              "      <td>0.125</td>\n",
              "      <td>0</td>\n",
              "    </tr>\n",
              "    <tr>\n",
              "      <th>256</th>\n",
              "      <td>0.125</td>\n",
              "      <td>0.125</td>\n",
              "      <td>0.125</td>\n",
              "      <td>0.125</td>\n",
              "      <td>0</td>\n",
              "    </tr>\n",
              "  </tbody>\n",
              "</table>\n",
              "<p>257 rows × 5 columns</p>\n",
              "</div>"
            ],
            "text/plain": [
              "     testes_w1  testes_w2  testes_w3  testes_w4  bias\n",
              "0        0.125      0.125      0.125      0.125     0\n",
              "1        0.125      0.125      0.125      0.125     0\n",
              "2        0.125      0.125      0.125      0.125     0\n",
              "3        0.125      0.125      0.125      0.125     0\n",
              "4        0.125      0.125      0.125      0.125     0\n",
              "..         ...        ...        ...        ...   ...\n",
              "252      0.125      0.125      0.125      0.125     0\n",
              "253      0.125      0.125      0.125      0.125     0\n",
              "254      0.125      0.125      0.125      0.125     0\n",
              "255      0.125      0.125      0.125      0.125     0\n",
              "256      0.125      0.125      0.125      0.125     0\n",
              "\n",
              "[257 rows x 5 columns]"
            ]
          },
          "execution_count": 53,
          "metadata": {},
          "output_type": "execute_result"
        }
      ],
      "source": [
        "df_weights"
      ]
    },
    {
      "cell_type": "code",
      "execution_count": 54,
      "metadata": {
        "colab": {
          "base_uri": "https://localhost:8080/"
        },
        "id": "X8IY7vgd9oQj",
        "outputId": "541fb056-cc99-4af4-bad1-610d9b6480fc"
      },
      "outputs": [
        {
          "data": {
            "text/plain": [
              "4"
            ]
          },
          "execution_count": 54,
          "metadata": {},
          "output_type": "execute_result"
        }
      ],
      "source": [
        "num_inputs"
      ]
    },
    {
      "cell_type": "code",
      "execution_count": 55,
      "metadata": {
        "colab": {
          "base_uri": "https://localhost:8080/"
        },
        "id": "nKdy77u49u5y",
        "outputId": "b55049b7-4f12-4c05-9e7c-102ddc724d5f"
      },
      "outputs": [
        {
          "data": {
            "text/html": [
              "<div>\n",
              "<style scoped>\n",
              "    .dataframe tbody tr th:only-of-type {\n",
              "        vertical-align: middle;\n",
              "    }\n",
              "\n",
              "    .dataframe tbody tr th {\n",
              "        vertical-align: top;\n",
              "    }\n",
              "\n",
              "    .dataframe thead th {\n",
              "        text-align: right;\n",
              "    }\n",
              "</style>\n",
              "<table border=\"1\" class=\"dataframe\">\n",
              "  <thead>\n",
              "    <tr style=\"text-align: right;\">\n",
              "      <th></th>\n",
              "      <th>testes_x1</th>\n",
              "      <th>testes_x2</th>\n",
              "      <th>testes_x3</th>\n",
              "      <th>testes_x4</th>\n",
              "    </tr>\n",
              "  </thead>\n",
              "  <tbody>\n",
              "    <tr>\n",
              "      <th>0</th>\n",
              "      <td>-0.500000</td>\n",
              "      <td>-0.500000</td>\n",
              "      <td>-0.500000</td>\n",
              "      <td>-0.500000</td>\n",
              "    </tr>\n",
              "    <tr>\n",
              "      <th>1</th>\n",
              "      <td>-0.496094</td>\n",
              "      <td>-0.496094</td>\n",
              "      <td>-0.496094</td>\n",
              "      <td>-0.496094</td>\n",
              "    </tr>\n",
              "    <tr>\n",
              "      <th>2</th>\n",
              "      <td>-0.492188</td>\n",
              "      <td>-0.492188</td>\n",
              "      <td>-0.492188</td>\n",
              "      <td>-0.492188</td>\n",
              "    </tr>\n",
              "    <tr>\n",
              "      <th>3</th>\n",
              "      <td>-0.488281</td>\n",
              "      <td>-0.488281</td>\n",
              "      <td>-0.488281</td>\n",
              "      <td>-0.488281</td>\n",
              "    </tr>\n",
              "    <tr>\n",
              "      <th>4</th>\n",
              "      <td>-0.484375</td>\n",
              "      <td>-0.484375</td>\n",
              "      <td>-0.484375</td>\n",
              "      <td>-0.484375</td>\n",
              "    </tr>\n",
              "  </tbody>\n",
              "</table>\n",
              "</div>"
            ],
            "text/plain": [
              "   testes_x1  testes_x2  testes_x3  testes_x4\n",
              "0  -0.500000  -0.500000  -0.500000  -0.500000\n",
              "1  -0.496094  -0.496094  -0.496094  -0.496094\n",
              "2  -0.492188  -0.492188  -0.492188  -0.492188\n",
              "3  -0.488281  -0.488281  -0.488281  -0.488281\n",
              "4  -0.484375  -0.484375  -0.484375  -0.484375"
            ]
          },
          "execution_count": 55,
          "metadata": {},
          "output_type": "execute_result"
        }
      ],
      "source": [
        "df_inputs.head()"
      ]
    },
    {
      "cell_type": "code",
      "execution_count": 56,
      "metadata": {
        "id": "27zP-uZEXeGr"
      },
      "outputs": [],
      "source": [
        "#SUM\n",
        "df_inputs[\"sum\"] = 0\n",
        "while True:\n",
        "  if (weights_on_memory == 1): #pesos na memória\n",
        "    if (i < num_inputs):\n",
        "      df_inputs[\"sum\"] = df_inputs[\"sum\"] + (df_inputs[\"testes_x\"+str(i+1)] * df_weights[\"testes_w\"+str(i+1)]) #  \n",
        "      i= i+1\n",
        "    else:\n",
        "      df_inputs[\"sum\"] = df_inputs[\"sum\"] + df_weights[\"bias\"]\n",
        "      i= 0\n",
        "      break\n",
        "\n",
        "  else: #pesos na entrada\n",
        "    if (i < num_inputs):\n",
        "      df_inputs[\"sum\"] = df_inputs[\"sum\"] + (df_inputs[\"testes_x\"+str(i+1)] * df_inputs[\"testes_w\"+str(i+1)]) #  \n",
        "      i= i+1\n",
        "    else:\n",
        "      df_inputs[\"sum\"] = df_inputs[\"sum\"] + df_inputs[\"bias\"]\n",
        "      i= 0\n",
        "      break"
      ]
    },
    {
      "cell_type": "markdown",
      "metadata": {
        "id": "v59tWzKgZrP3"
      },
      "source": [
        "# Sigmoid"
      ]
    },
    {
      "cell_type": "markdown",
      "metadata": {
        "id": "nDMzRqao8Kc6"
      },
      "source": [
        "## df_sigmoid dx_sigmoid"
      ]
    },
    {
      "cell_type": "code",
      "execution_count": 57,
      "metadata": {
        "colab": {
          "base_uri": "https://localhost:8080/"
        },
        "id": "eMxQw2ibaI54",
        "outputId": "b9cb8d96-cb27-4ecd-ee28-f346670b377c"
      },
      "outputs": [
        {
          "data": {
            "text/plain": [
              "1"
            ]
          },
          "execution_count": 57,
          "metadata": {},
          "output_type": "execute_result"
        }
      ],
      "source": [
        "range_tb_df"
      ]
    },
    {
      "cell_type": "code",
      "execution_count": 58,
      "metadata": {
        "id": "2ZH1AKne1STu"
      },
      "outputs": [],
      "source": [
        "# # sigmoid_dx_list = np.linspace(-7,7,256) #vai de -7 a 7, dividido em 256 pontos (8 bits)\n",
        "# # sigmoid_dx_list= range(a,b+1,1)\n",
        "# sigmoid_dx_list = np.linspace(-(7),7,15) #vai de -128 a 127, dividido em 256 pontos (8 bits)\n",
        "# sigmoid_dx_list"
      ]
    },
    {
      "cell_type": "code",
      "execution_count": 59,
      "metadata": {
        "id": "BXLc-I9Oego5"
      },
      "outputs": [],
      "source": [
        "# # range_tb_df\n",
        "# sigmoid_dx_list = np.linspace(-7,7,range_tb_df+1) #vai de -128 a 127, dividido em 256 pontos (8 bits)\n",
        "# sigmoid_dx_list"
      ]
    },
    {
      "cell_type": "code",
      "execution_count": 60,
      "metadata": {
        "colab": {
          "base_uri": "https://localhost:8080/"
        },
        "id": "z1kOL3O1Y_uF",
        "outputId": "22b45dc6-cdc9-4715-839b-391a33cc4e77"
      },
      "outputs": [
        {
          "data": {
            "text/plain": [
              "2"
            ]
          },
          "execution_count": 60,
          "metadata": {},
          "output_type": "execute_result"
        }
      ],
      "source": [
        "sigmoid_range"
      ]
    },
    {
      "cell_type": "code",
      "execution_count": 61,
      "metadata": {
        "id": "6jea4_wRadG1"
      },
      "outputs": [],
      "source": [
        "# range_tb_df\n",
        "sigmoid_dx_list = np.linspace(-(sigmoid_range/2),(sigmoid_range/2),int(total_dx)) #vai de -128 a 127, dividido em 256 pontos (8 bits)\n",
        "# sigmoid_dx_list"
      ]
    },
    {
      "cell_type": "code",
      "execution_count": 62,
      "metadata": {
        "colab": {
          "base_uri": "https://localhost:8080/"
        },
        "id": "AUqTSvmVa9zR",
        "outputId": "96a3525c-1100-45ed-828b-7f538a78bcb1"
      },
      "outputs": [
        {
          "data": {
            "text/html": [
              "<div>\n",
              "<style scoped>\n",
              "    .dataframe tbody tr th:only-of-type {\n",
              "        vertical-align: middle;\n",
              "    }\n",
              "\n",
              "    .dataframe tbody tr th {\n",
              "        vertical-align: top;\n",
              "    }\n",
              "\n",
              "    .dataframe thead th {\n",
              "        text-align: right;\n",
              "    }\n",
              "</style>\n",
              "<table border=\"1\" class=\"dataframe\">\n",
              "  <thead>\n",
              "    <tr style=\"text-align: right;\">\n",
              "      <th></th>\n",
              "      <th>n</th>\n",
              "    </tr>\n",
              "  </thead>\n",
              "  <tbody>\n",
              "    <tr>\n",
              "      <th>0</th>\n",
              "      <td>-1.000000</td>\n",
              "    </tr>\n",
              "    <tr>\n",
              "      <th>1</th>\n",
              "      <td>-0.992188</td>\n",
              "    </tr>\n",
              "    <tr>\n",
              "      <th>2</th>\n",
              "      <td>-0.984375</td>\n",
              "    </tr>\n",
              "    <tr>\n",
              "      <th>3</th>\n",
              "      <td>-0.976562</td>\n",
              "    </tr>\n",
              "    <tr>\n",
              "      <th>4</th>\n",
              "      <td>-0.968750</td>\n",
              "    </tr>\n",
              "  </tbody>\n",
              "</table>\n",
              "</div>"
            ],
            "text/plain": [
              "          n\n",
              "0 -1.000000\n",
              "1 -0.992188\n",
              "2 -0.984375\n",
              "3 -0.976562\n",
              "4 -0.968750"
            ]
          },
          "execution_count": 62,
          "metadata": {},
          "output_type": "execute_result"
        }
      ],
      "source": [
        "# df_sigmoid = pd.DataFrame((range(-int(range_tb_df/2),int(range_tb_df/2)+1,1))) #start, end, step\n",
        "df_sigmoid = pd.DataFrame(np.linspace(-(sigmoid_range/2),(sigmoid_range/2),int(total_dx))) #start, end, step\n",
        "df_sigmoid.columns = ['n'] # INPUTS_df\n",
        "# df_sigmoid['dx'] = sigmoid_dx_list\n",
        "df_sigmoid = df_sigmoid*atenuacao_rescale\n",
        "df_sigmoid.head()"
      ]
    },
    {
      "cell_type": "code",
      "execution_count": 63,
      "metadata": {
        "id": "YoaZOGRn3IzD"
      },
      "outputs": [],
      "source": [
        "# df_sigmoid"
      ]
    },
    {
      "cell_type": "code",
      "execution_count": 64,
      "metadata": {
        "id": "LgoX7O06-K8X"
      },
      "outputs": [],
      "source": [
        "# sigmoid_dx_list"
      ]
    },
    {
      "cell_type": "code",
      "execution_count": 65,
      "metadata": {
        "colab": {
          "base_uri": "https://localhost:8080/"
        },
        "id": "r82SfwSwC9Gs",
        "outputId": "a13b2e5b-2ab2-4b86-8bc5-acd774552445"
      },
      "outputs": [
        {
          "data": {
            "text/html": [
              "<div>\n",
              "<style scoped>\n",
              "    .dataframe tbody tr th:only-of-type {\n",
              "        vertical-align: middle;\n",
              "    }\n",
              "\n",
              "    .dataframe tbody tr th {\n",
              "        vertical-align: top;\n",
              "    }\n",
              "\n",
              "    .dataframe thead th {\n",
              "        text-align: right;\n",
              "    }\n",
              "</style>\n",
              "<table border=\"1\" class=\"dataframe\">\n",
              "  <thead>\n",
              "    <tr style=\"text-align: right;\">\n",
              "      <th></th>\n",
              "      <th>n</th>\n",
              "      <th>sigmoid</th>\n",
              "    </tr>\n",
              "  </thead>\n",
              "  <tbody>\n",
              "    <tr>\n",
              "      <th>0</th>\n",
              "      <td>-1.000000</td>\n",
              "      <td>0.001659</td>\n",
              "    </tr>\n",
              "    <tr>\n",
              "      <th>1</th>\n",
              "      <td>-0.992188</td>\n",
              "      <td>0.001744</td>\n",
              "    </tr>\n",
              "    <tr>\n",
              "      <th>2</th>\n",
              "      <td>-0.984375</td>\n",
              "      <td>0.001833</td>\n",
              "    </tr>\n",
              "    <tr>\n",
              "      <th>3</th>\n",
              "      <td>-0.976562</td>\n",
              "      <td>0.001927</td>\n",
              "    </tr>\n",
              "    <tr>\n",
              "      <th>4</th>\n",
              "      <td>-0.968750</td>\n",
              "      <td>0.002025</td>\n",
              "    </tr>\n",
              "  </tbody>\n",
              "</table>\n",
              "</div>"
            ],
            "text/plain": [
              "          n   sigmoid\n",
              "0 -1.000000  0.001659\n",
              "1 -0.992188  0.001744\n",
              "2 -0.984375  0.001833\n",
              "3 -0.976562  0.001927\n",
              "4 -0.968750  0.002025"
            ]
          },
          "execution_count": 65,
          "metadata": {},
          "output_type": "execute_result"
        }
      ],
      "source": [
        "# ((1/(1+(exp(-1*(testes_x1))))).astype(float)).tolist()\n",
        "# df[0].apply(lambda x: float(x))\n",
        "sigmoide_rescale = (8/(sigmoid_range/2))*0.8\n",
        "multiplied_list = [(1/(1+(exp(-1*(element*sigmoide_rescale))))) for element in sigmoid_dx_list]\n",
        "# multiplied_list\n",
        "df_sigmoid['sigmoid']= multiplied_list\n",
        "df_sigmoid.head()\n",
        "# df_sigmoid"
      ]
    },
    {
      "cell_type": "code",
      "execution_count": 66,
      "metadata": {
        "id": "OyLJhXsN3fW9"
      },
      "outputs": [],
      "source": [
        "# df_sigmoid['n'] = (df_sigmoid['n'] + (unsigned_offset)).astype(int)\n",
        "# df_sigmoid['n'] = (df_sigmoid['n'] + (unsigned_offset))"
      ]
    },
    {
      "cell_type": "code",
      "execution_count": 67,
      "metadata": {
        "id": "yLz53pvvTRwt"
      },
      "outputs": [],
      "source": [
        "# df_sigmoid['n']*3.5"
      ]
    },
    {
      "cell_type": "code",
      "execution_count": 68,
      "metadata": {
        "colab": {
          "base_uri": "https://localhost:8080/"
        },
        "id": "Hme97An-cVCN",
        "outputId": "2a2f4132-72bd-42cf-f9e6-43bb4c2fb860"
      },
      "outputs": [
        {
          "data": {
            "text/plain": [
              "0"
            ]
          },
          "execution_count": 68,
          "metadata": {},
          "output_type": "execute_result"
        }
      ],
      "source": [
        "unsigned_offset"
      ]
    },
    {
      "cell_type": "markdown",
      "metadata": {
        "id": "bQ_wd34HZxyi"
      },
      "source": [
        "## Sigmoid expansion (change 'x' rescale)"
      ]
    },
    {
      "cell_type": "code",
      "execution_count": 69,
      "metadata": {
        "colab": {
          "base_uri": "https://localhost:8080/"
        },
        "id": "GYD9tXhCZVHe",
        "outputId": "60a7fc0f-88da-43b5-f648-2f69b0f16213"
      },
      "outputs": [
        {
          "data": {
            "text/plain": [
              "0     -1.000000\n",
              "1     -0.992188\n",
              "2     -0.984375\n",
              "3     -0.976562\n",
              "4     -0.968750\n",
              "         ...   \n",
              "252    0.968750\n",
              "253    0.976562\n",
              "254    0.984375\n",
              "255    0.992188\n",
              "256    1.000000\n",
              "Name: n, Length: 257, dtype: float64"
            ]
          },
          "execution_count": 69,
          "metadata": {},
          "output_type": "execute_result"
        }
      ],
      "source": [
        "# n_re_scale = (df_sigmoid['n'])*mult_factor\n",
        "n_re_scale = (df_sigmoid['n'])*mult_factor\n",
        "n_re_scale"
      ]
    },
    {
      "cell_type": "code",
      "execution_count": 70,
      "metadata": {
        "id": "MO5bkXL6OdXn"
      },
      "outputs": [],
      "source": [
        "# df_sigmoid['n'] = (df_sigmoid['n'] + (unsigned_offset/2))*mult_factor\n",
        "df_sigmoid['n'] = n_re_scale\n",
        "\n",
        "df_sigmoid['n_zeros'] = (df_sigmoid['n'] + dx_sigmoid) #zeros para serem salvos na memória"
      ]
    },
    {
      "cell_type": "code",
      "execution_count": 71,
      "metadata": {
        "colab": {
          "base_uri": "https://localhost:8080/"
        },
        "id": "lqS84wF5LYjV",
        "outputId": "715d9c05-5937-4888-91a6-92fc4abc8fd2"
      },
      "outputs": [
        {
          "data": {
            "text/plain": [
              "0.015625"
            ]
          },
          "execution_count": 71,
          "metadata": {},
          "output_type": "execute_result"
        }
      ],
      "source": [
        "2*dx_sigmoid"
      ]
    },
    {
      "cell_type": "code",
      "execution_count": 72,
      "metadata": {
        "colab": {
          "base_uri": "https://localhost:8080/"
        },
        "id": "YVxJV7e-3oX_",
        "outputId": "d4796af8-1bf3-4221-8887-edf9452cbf4d"
      },
      "outputs": [
        {
          "data": {
            "text/html": [
              "<div>\n",
              "<style scoped>\n",
              "    .dataframe tbody tr th:only-of-type {\n",
              "        vertical-align: middle;\n",
              "    }\n",
              "\n",
              "    .dataframe tbody tr th {\n",
              "        vertical-align: top;\n",
              "    }\n",
              "\n",
              "    .dataframe thead th {\n",
              "        text-align: right;\n",
              "    }\n",
              "</style>\n",
              "<table border=\"1\" class=\"dataframe\">\n",
              "  <thead>\n",
              "    <tr style=\"text-align: right;\">\n",
              "      <th></th>\n",
              "      <th>n</th>\n",
              "      <th>sigmoid</th>\n",
              "      <th>n_zeros</th>\n",
              "    </tr>\n",
              "  </thead>\n",
              "  <tbody>\n",
              "    <tr>\n",
              "      <th>0</th>\n",
              "      <td>-1.000000</td>\n",
              "      <td>0.001659</td>\n",
              "      <td>-0.992188</td>\n",
              "    </tr>\n",
              "    <tr>\n",
              "      <th>1</th>\n",
              "      <td>-0.992188</td>\n",
              "      <td>0.001744</td>\n",
              "      <td>-0.984375</td>\n",
              "    </tr>\n",
              "    <tr>\n",
              "      <th>2</th>\n",
              "      <td>-0.984375</td>\n",
              "      <td>0.001833</td>\n",
              "      <td>-0.976562</td>\n",
              "    </tr>\n",
              "    <tr>\n",
              "      <th>3</th>\n",
              "      <td>-0.976562</td>\n",
              "      <td>0.001927</td>\n",
              "      <td>-0.968750</td>\n",
              "    </tr>\n",
              "    <tr>\n",
              "      <th>4</th>\n",
              "      <td>-0.968750</td>\n",
              "      <td>0.002025</td>\n",
              "      <td>-0.960938</td>\n",
              "    </tr>\n",
              "    <tr>\n",
              "      <th>...</th>\n",
              "      <td>...</td>\n",
              "      <td>...</td>\n",
              "      <td>...</td>\n",
              "    </tr>\n",
              "    <tr>\n",
              "      <th>252</th>\n",
              "      <td>0.968750</td>\n",
              "      <td>0.997975</td>\n",
              "      <td>0.976562</td>\n",
              "    </tr>\n",
              "    <tr>\n",
              "      <th>253</th>\n",
              "      <td>0.976562</td>\n",
              "      <td>0.998073</td>\n",
              "      <td>0.984375</td>\n",
              "    </tr>\n",
              "    <tr>\n",
              "      <th>254</th>\n",
              "      <td>0.984375</td>\n",
              "      <td>0.998167</td>\n",
              "      <td>0.992188</td>\n",
              "    </tr>\n",
              "    <tr>\n",
              "      <th>255</th>\n",
              "      <td>0.992188</td>\n",
              "      <td>0.998256</td>\n",
              "      <td>1.000000</td>\n",
              "    </tr>\n",
              "    <tr>\n",
              "      <th>256</th>\n",
              "      <td>1.000000</td>\n",
              "      <td>0.998341</td>\n",
              "      <td>1.007812</td>\n",
              "    </tr>\n",
              "  </tbody>\n",
              "</table>\n",
              "<p>257 rows × 3 columns</p>\n",
              "</div>"
            ],
            "text/plain": [
              "            n   sigmoid   n_zeros\n",
              "0   -1.000000  0.001659 -0.992188\n",
              "1   -0.992188  0.001744 -0.984375\n",
              "2   -0.984375  0.001833 -0.976562\n",
              "3   -0.976562  0.001927 -0.968750\n",
              "4   -0.968750  0.002025 -0.960938\n",
              "..        ...       ...       ...\n",
              "252  0.968750  0.997975  0.976562\n",
              "253  0.976562  0.998073  0.984375\n",
              "254  0.984375  0.998167  0.992188\n",
              "255  0.992188  0.998256  1.000000\n",
              "256  1.000000  0.998341  1.007812\n",
              "\n",
              "[257 rows x 3 columns]"
            ]
          },
          "execution_count": 72,
          "metadata": {},
          "output_type": "execute_result"
        }
      ],
      "source": [
        "df_sigmoid"
      ]
    },
    {
      "cell_type": "code",
      "execution_count": 73,
      "metadata": {
        "id": "e0FrrISlmNtv"
      },
      "outputs": [],
      "source": [
        "# df_sigmoid[121:136]"
      ]
    },
    {
      "cell_type": "code",
      "execution_count": 74,
      "metadata": {
        "id": "tInBcpn3ywI4"
      },
      "outputs": [
        {
          "ename": "ModuleNotFoundError",
          "evalue": "No module named 'matplotlib'",
          "output_type": "error",
          "traceback": [
            "\u001b[1;31m---------------------------------------------------------------------------\u001b[0m",
            "\u001b[1;31mModuleNotFoundError\u001b[0m                       Traceback (most recent call last)",
            "Cell \u001b[1;32mIn[74], line 1\u001b[0m\n\u001b[1;32m----> 1\u001b[0m \u001b[39mimport\u001b[39;00m \u001b[39mmatplotlib\u001b[39;00m\u001b[39m.\u001b[39;00m\u001b[39mpyplot\u001b[39;00m \u001b[39mas\u001b[39;00m \u001b[39mplt\u001b[39;00m\n\u001b[0;32m      2\u001b[0m plt\u001b[39m.\u001b[39mclose(\u001b[39m\"\u001b[39m\u001b[39mall\u001b[39m\u001b[39m\"\u001b[39m)\n",
            "\u001b[1;31mModuleNotFoundError\u001b[0m: No module named 'matplotlib'"
          ]
        }
      ],
      "source": [
        "import matplotlib.pyplot as plt\n",
        "plt.close(\"all\")"
      ]
    },
    {
      "cell_type": "code",
      "execution_count": null,
      "metadata": {
        "colab": {
          "base_uri": "https://localhost:8080/"
        },
        "id": "RQwUIuUMFRZm",
        "outputId": "041ebe58-ea1b-43a7-fea2-4ec787fd7026"
      },
      "outputs": [],
      "source": [
        "# (pd.Series(sigmoid_dx)).plot()\n",
        "(pd.Series(multiplied_list)).plot()"
      ]
    },
    {
      "cell_type": "code",
      "execution_count": null,
      "metadata": {
        "id": "9Ha_VZL3mdYe"
      },
      "outputs": [],
      "source": [
        "# (pd.Series(multiplied_list[121:136])).plot()"
      ]
    },
    {
      "cell_type": "code",
      "execution_count": null,
      "metadata": {
        "colab": {
          "base_uri": "https://localhost:8080/"
        },
        "id": "ulnmOSkRaejF",
        "outputId": "77739708-5075-4724-f19a-aa5c5cbe7e94"
      },
      "outputs": [],
      "source": [
        "norm_y"
      ]
    },
    {
      "cell_type": "code",
      "execution_count": null,
      "metadata": {
        "id": "PxpVXNdkdJCh"
      },
      "outputs": [],
      "source": []
    },
    {
      "cell_type": "code",
      "execution_count": null,
      "metadata": {
        "colab": {
          "base_uri": "https://localhost:8080/"
        },
        "id": "Cs2tywO1f896",
        "outputId": "bba48c99-1dc4-4ea5-fad6-8a30861405d1"
      },
      "outputs": [],
      "source": [
        "#CONTAS Y(SAÍDA)\n",
        "# df_sigmoid['sigmoid_dx']*df_sigmoid['n']\n",
        "# df_sigmoid['sig_int'] = df_sigmoid['sigmoid'].astype(int)\n",
        "df_sigmoid['sig_norm']= df_sigmoid['sigmoid']*norm_y\n",
        "# df_sigmoid['sig_norm_int'] = df_sigmoid['sig_norm'].astype(int)#8b ->MEMORY\n",
        "\n",
        "# df_sigmoid['y']= (df_sigmoid['sigmoid']) # y = sigmoid_dx * n\n",
        "\n",
        "# df_sigmoid['y_norm_int']= (df_sigmoid['sig_norm_int']).astype(int)#16b\n",
        "# df_sigmoid['y_div']= (df_sigmoid['y_norm_int']/norm_y)\n",
        "# df_sigmoid['y_int'] = df_sigmoid['y_div'].astype(int)\n",
        "df_sigmoid"
      ]
    },
    {
      "cell_type": "code",
      "execution_count": null,
      "metadata": {
        "id": "j6LE35Bxehr7"
      },
      "outputs": [],
      "source": [
        "# float_to_binary('0.010', m_bin, n_bin_sigmoid)"
      ]
    },
    {
      "cell_type": "code",
      "execution_count": null,
      "metadata": {
        "id": "d359KQUUgBi8"
      },
      "outputs": [],
      "source": [
        "# #CONTAS Y(SAÍDA)\n",
        "# # df_sigmoid['sigmoid_dx']*df_sigmoid['n']\n",
        "\n",
        "# df_sigmoid['y']= (df_sigmoid['sigmoid']*df_sigmoid['n']) # y = sigmoid_dx * n\n",
        "\n",
        "# df_sigmoid['sig_int'] = df_sigmoid['sigmoid'].astype(int)\n",
        "# df_sigmoid['sig_norm']= df_sigmoid['sigmoid']*256\n",
        "# df_sigmoid['sig_norm_int'] = df_sigmoid['sig_norm'].astype(int)#8b ->MEMORY\n",
        "\n",
        "# df_sigmoid['y_norm_int']= (df_sigmoid['sig_norm_int']*df_sigmoid['n'])#16b\n",
        "# df_sigmoid['y_div']= (df_sigmoid['y_norm_int']/256)\n",
        "# df_sigmoid['y_int'] = df_sigmoid['y_div'].astype(int)\n",
        "# df_sigmoid"
      ]
    },
    {
      "cell_type": "code",
      "execution_count": null,
      "metadata": {
        "id": "MmAzreSeh5iC"
      },
      "outputs": [],
      "source": [
        "# plt.plot( 'n', 'sig_int', data=df_sigmoid)\n",
        "# (pd.Series(multiplied_list)).plot()"
      ]
    },
    {
      "cell_type": "markdown",
      "metadata": {
        "id": "-WRpEacS8PrJ"
      },
      "source": [
        "## df_sigmoid_bin"
      ]
    },
    {
      "cell_type": "code",
      "execution_count": null,
      "metadata": {
        "id": "6Z065j5jyg3E"
      },
      "outputs": [],
      "source": [
        "# # float_to_binary(x, m, n)\n",
        "# m_bin = 6 # `m` binary digits are the integer part\n",
        "# n_bin = 2 # 'n' binary digits are the fractional part of `x`;"
      ]
    },
    {
      "cell_type": "code",
      "execution_count": null,
      "metadata": {
        "id": "-UIOYDGv8XiS"
      },
      "outputs": [],
      "source": [
        "# df_sigmoid.head()"
      ]
    },
    {
      "cell_type": "code",
      "execution_count": null,
      "metadata": {
        "colab": {
          "base_uri": "https://localhost:8080/"
        },
        "id": "nUzX6wHwyXgp",
        "outputId": "a195b8ec-9ca2-4f89-e718-6a8fda257b2b"
      },
      "outputs": [],
      "source": [
        "pd.set_option('max_rows', 9999)\n",
        "pd.set_option('max_colwidth', 20)\n",
        "pd.describe_option('max_colwidth')\n",
        "\n",
        "#SIGMOID MEMORY\n",
        "df_sigmoid_bin = pd.DataFrame()\n",
        "\n",
        "#verification\n",
        "df_sigmoid_bin['address'] = (df_sigmoid['n'])\n",
        "df_sigmoid_bin['sigmoid'] = (df_sigmoid['sig_norm'])\n",
        "\n",
        "#AQUI QUE O 'PONTO FIXO' DEVE COMEÇAR\n",
        "# https://www.google.com/search?q=python+real+number+to+binary&oq=python+real+number+to+bin&aqs=chrome.1.69i57j0i22i30.8856j1j1&sourceid=chrome&ie=UTF-8\n",
        "# https://stackoverflow.com/questions/51843297/convert-real-numbers-to-binary-and-vice-versa-in-python\n",
        "# https://pythonhosted.org/bitstring/\n",
        "df_sigmoid_bin['address_bin'] = (df_sigmoid['n'].apply(lambda x: float_to_binary(x ,m_bin,n_bin_sigmoid,is_signed)))\n",
        "df_sigmoid_bin['address_zeros'] = (df_sigmoid['n_zeros'].apply(lambda x: float_to_binary(x ,m_bin,n_bin_sigmoid,is_signed)))\n",
        "\n",
        "# df_sigmoid_bin['n_bin'] = (df_sigmoid['n'].apply(lambda x: float_to_binary(x ,m_bin,n_bin_sigmoid)))\n",
        "\n",
        "df_sigmoid_bin['sigmoid_bin'] = (df_sigmoid['sig_norm'].apply(lambda x: float_to_binary(x ,m_bin,n_bin_sigmoid,is_sigmoid_signed)))\n",
        "# df_sigmoid_bin.head()\n",
        "df_sigmoid_bin\n",
        "#!!coluna address_zeros está repetindo endereços do address_bin!!"
      ]
    },
    {
      "cell_type": "code",
      "execution_count": null,
      "metadata": {
        "id": "lP6alB2HvSQe"
      },
      "outputs": [],
      "source": [
        "# df_sigmoid"
      ]
    },
    {
      "cell_type": "code",
      "execution_count": null,
      "metadata": {
        "id": "fYfWG1_QLQsN"
      },
      "outputs": [],
      "source": [
        "# address_bin_converted = binary_to_float(df_sigmoid_bin['address_bin'], str(m_bin), str(n_bin_sigmoid))\n",
        "address_bin_converted = df_sigmoid_bin['address_bin'].apply(lambda x: binary_to_float(x ,m_bin,n_bin_sigmoid,is_signed))\n",
        "# address_bin_converted"
      ]
    },
    {
      "cell_type": "code",
      "execution_count": null,
      "metadata": {
        "colab": {
          "base_uri": "https://localhost:8080/"
        },
        "id": "-77OiyEaLh4e",
        "outputId": "775792a1-bf19-4887-9c16-a7c5fb081e61"
      },
      "outputs": [],
      "source": [
        "# (pd.Series(sigmoid_dx)).plot()\n",
        "(pd.Series(address_bin_converted)).plot()"
      ]
    },
    {
      "cell_type": "code",
      "execution_count": null,
      "metadata": {
        "colab": {
          "base_uri": "https://localhost:8080/"
        },
        "id": "jJ6DYvn4H2Og",
        "outputId": "f708eee9-5feb-4721-a2b6-033a74ed7b4d"
      },
      "outputs": [],
      "source": [
        "#conferir quantas linhas de endereço duplicadas tem\n",
        "len(df_sigmoid_bin['address_bin'])-len(df_sigmoid_bin['address_bin'].drop_duplicates())"
      ]
    },
    {
      "cell_type": "code",
      "execution_count": null,
      "metadata": {
        "colab": {
          "base_uri": "https://localhost:8080/"
        },
        "id": "HT0ugF_JPx8r",
        "outputId": "882bb9be-3d20-45c2-be6f-6422b2f7d8dc"
      },
      "outputs": [],
      "source": [
        "len(df_sigmoid_bin['address_bin'])"
      ]
    },
    {
      "cell_type": "code",
      "execution_count": null,
      "metadata": {
        "id": "H6HV-xvEI7rN"
      },
      "outputs": [],
      "source": [
        "duplicated_addr_bin = pd.DataFrame(df_sigmoid_bin['address_bin'].duplicated())"
      ]
    },
    {
      "cell_type": "code",
      "execution_count": null,
      "metadata": {
        "colab": {
          "base_uri": "https://localhost:8080/"
        },
        "id": "i0Z8FeSRUUMG",
        "outputId": "2cbe9902-6fe3-4934-e976-37a7de54c2af"
      },
      "outputs": [],
      "source": [
        "duplicated_addr_bin.head()"
      ]
    },
    {
      "cell_type": "code",
      "execution_count": null,
      "metadata": {
        "id": "wHcU4lyUUS5a"
      },
      "outputs": [],
      "source": [
        "duplicated_addr_bin = duplicated_addr_bin[duplicated_addr_bin['address_bin'] == True]  # df will have only rows with True in c3"
      ]
    },
    {
      "cell_type": "code",
      "execution_count": null,
      "metadata": {
        "id": "mApy1ueXUcnh"
      },
      "outputs": [],
      "source": [
        "# duplicated_addr_bin.head()"
      ]
    },
    {
      "cell_type": "code",
      "execution_count": null,
      "metadata": {
        "id": "RgChOE7Ac4vJ"
      },
      "outputs": [],
      "source": [
        "# df_sigmoid"
      ]
    },
    {
      "cell_type": "markdown",
      "metadata": {
        "id": "cR4g-SeYCd1r"
      },
      "source": [
        "## Substitui máximos df_Sigmoid"
      ]
    },
    {
      "cell_type": "code",
      "execution_count": null,
      "metadata": {
        "colab": {
          "base_uri": "https://localhost:8080/"
        },
        "id": "fwDZFE3wIYMv",
        "outputId": "301c2c08-b16e-48a9-9daf-44eab81b2918"
      },
      "outputs": [],
      "source": [
        "pd.set_option('max_rows', 9999)\n",
        "pd.set_option('max_colwidth', 20)\n",
        "pd.describe_option('max_colwidth')"
      ]
    },
    {
      "cell_type": "code",
      "execution_count": null,
      "metadata": {
        "id": "20oFKGjgDNn1"
      },
      "outputs": [],
      "source": [
        "zeros_aux = str(np.zeros(m_bin+n_bin_sigmoid-1))\n",
        "zeros_aux= zeros_aux.replace(\".\", \"\");\n",
        "zeros_aux= zeros_aux.replace(\"[\", \"\");\n",
        "zeros_aux= zeros_aux.replace(\"]\", \"\");\n",
        "zeros_aux= zeros_aux.replace(\" \", \"\");\n",
        "\n",
        "ones_aux = str(np.ones(m_bin+n_bin_sigmoid-1))\n",
        "ones_aux= ones_aux.replace(\".\", \"\");\n",
        "ones_aux= ones_aux.replace(\"[\", \"\");\n",
        "ones_aux= ones_aux.replace(\"]\", \"\");\n",
        "ones_aux= ones_aux.replace(\" \", \"\");"
      ]
    },
    {
      "cell_type": "code",
      "execution_count": null,
      "metadata": {
        "colab": {
          "base_uri": "https://localhost:8080/"
        },
        "id": "gnwPnC47Aw5Q",
        "outputId": "05d2abd5-20ce-4624-898a-a092ce989e25"
      },
      "outputs": [],
      "source": [
        "##------------CORREÇÃO DE MÁXIMOS e MÍNIMOS BINÁRIOS------------##\n",
        "\n",
        "#Substituindo erros de conversão float -> bin_2complement\n",
        "#valores acima de valor x, estavam sendo convertidos com por ex, 100 sendo que\n",
        "#o máximo seria 011 (apenas exemplo)\n",
        "\n",
        "#--------------Address--------------# (signed)\n",
        "df_sigmoid_bin['address_bin'].iloc[int(len(df_sigmoid_bin)/2):].replace(\n",
        "    to_replace=['1' + zeros_aux],\n",
        "    value='0' + ones_aux,\n",
        "inplace=True)\n",
        "\n",
        "if (is_sigmoid_signed == 0):\n",
        "\n",
        "  #--------------Sigmoid--------------# (unsigned)\n",
        "  df_sigmoid_bin['sigmoid_bin'].replace(to_replace=['10' + zeros_aux],\n",
        "      value= '1' + ones_aux,\n",
        "  inplace=True)\n",
        "\n",
        "#============================================================================#\n",
        "else:\n",
        "\n",
        "    #--------------Sigmoid--------------# (signed)\n",
        "  df_sigmoid_bin['sigmoid_bin'].replace(to_replace=['1' + zeros_aux],\n",
        "      value= '0' + ones_aux,\n",
        "  inplace=True)\n",
        "\n",
        "df_sigmoid_bin"
      ]
    },
    {
      "cell_type": "code",
      "execution_count": null,
      "metadata": {
        "id": "_XvzP3qwJOSo"
      },
      "outputs": [],
      "source": [
        "#tirar linhas que contém valores binários com mais bits que o permitido\n",
        "df_sigmoid_bin.drop(df_sigmoid_bin.tail(1).index,inplace=True) # drop last n rows\n",
        "# df_sigmoid_bin.drop(df_sigmoid_bin.head(1).index,inplace=True) # drop first n rows    "
      ]
    },
    {
      "cell_type": "code",
      "execution_count": null,
      "metadata": {
        "id": "zxC3omzyHkmQ"
      },
      "outputs": [],
      "source": [
        "# float_to_binary(-15.984375, 5, 6)"
      ]
    },
    {
      "cell_type": "code",
      "execution_count": null,
      "metadata": {
        "id": "mSwICGrFLKZa"
      },
      "outputs": [],
      "source": [
        "# df_sigmoid_bin.iloc[1024:]"
      ]
    },
    {
      "cell_type": "code",
      "execution_count": null,
      "metadata": {
        "id": "HU9t5PrcB9SZ"
      },
      "outputs": [],
      "source": [
        "# df_sigmoid_bin['address_bin'][1023]"
      ]
    },
    {
      "cell_type": "code",
      "execution_count": null,
      "metadata": {
        "id": "RxR9gmwpCHBh"
      },
      "outputs": [],
      "source": [
        "# int(len(df_sigmoid_bin)/2) -1"
      ]
    },
    {
      "cell_type": "code",
      "execution_count": null,
      "metadata": {
        "id": "Yby8BQKp-J2L"
      },
      "outputs": [],
      "source": [
        "# df_sigmoid_bin['address_bin'] = df_sigmoid_bin['address_bin'].str.replace('-','')\n",
        "# df_sigmoid_bin['address_zeros'] = df_sigmoid_bin['address_zeros'].str.replace('-','')\n",
        "# # df_sigmoid_bin"
      ]
    },
    {
      "cell_type": "code",
      "execution_count": null,
      "metadata": {
        "id": "2xlf46vl9SmQ"
      },
      "outputs": [],
      "source": [
        "# '1'+ df_sigmoid_bin['address_bin'][2]"
      ]
    },
    {
      "cell_type": "code",
      "execution_count": null,
      "metadata": {
        "id": "G_XNKfj4C4s2"
      },
      "outputs": [],
      "source": [
        "# df_sigmoid_bin['address_bin'][1024]"
      ]
    },
    {
      "cell_type": "code",
      "execution_count": null,
      "metadata": {
        "id": "1O0YXQj3Bq6_"
      },
      "outputs": [],
      "source": [
        "# df_sigmoid_bin.duplicated()"
      ]
    },
    {
      "cell_type": "code",
      "execution_count": null,
      "metadata": {
        "id": "qPpdRrRqWu6t"
      },
      "outputs": [],
      "source": [
        "# #SIGMOID MEMORY\n",
        "# df_sigmoid_bin = pd.DataFrame()\n",
        "\n",
        "# #verification\n",
        "# df_sigmoid_bin['address'] = (df_sigmoid['n'][121:136])\n",
        "# df_sigmoid_bin['sig_norm_int_ver'] = (df_sigmoid['sig_norm_int'][121:136])\n",
        "\n",
        "# df_sigmoid_bin['address_bin'] = (df_sigmoid['n'][121:136].apply(lambda x: int_to_bin(x ,n_bits)))\n",
        "# df_sigmoid_bin['sig_norm_int'] = (df_sigmoid['sig_norm_int'][121:136].apply(lambda x: int_to_bin(x ,n_bits)))\n",
        "# df_sigmoid_bin.head()"
      ]
    },
    {
      "cell_type": "code",
      "execution_count": null,
      "metadata": {
        "id": "4mzbZVpq4Ok2"
      },
      "outputs": [],
      "source": [
        "# #SIGMOID MEMORY\n",
        "# df_sigmoid_bin = pd.DataFrame()\n",
        "\n",
        "# #verification\n",
        "# df_sigmoid_bin['address'] = (df_sigmoid['n'])\n",
        "# df_sigmoid_bin['sig_norm_int_ver'] = (df_sigmoid['sig_norm_int'])\n",
        "\n",
        "# #AQUI QUE O 'PONTO FIXO' DEVE COMEÇAR\n",
        "# # https://www.google.com/search?q=python+real+number+to+binary&oq=python+real+number+to+bin&aqs=chrome.1.69i57j0i22i30.8856j1j1&sourceid=chrome&ie=UTF-8\n",
        "# # https://stackoverflow.com/questions/51843297/convert-real-numbers-to-binary-and-vice-versa-in-python\n",
        "# # https://pythonhosted.org/bitstring/\n",
        "# df_sigmoid_bin['address_bin'] = (df_sigmoid['n'].apply(lambda x: int_to_bin(x ,n_bits)))\n",
        "# df_sigmoid_bin['sig_norm_int'] = (df_sigmoid['sig_norm_int'].apply(lambda x: int_to_bin(x ,n_bits)))\n",
        "# df_sigmoid_bin"
      ]
    },
    {
      "cell_type": "code",
      "execution_count": null,
      "metadata": {
        "colab": {
          "base_uri": "https://localhost:8080/"
        },
        "id": "4Ppcv7b79XB4",
        "outputId": "91e40dd3-2a93-4f1b-8faa-54b71787b179"
      },
      "outputs": [],
      "source": [
        "len(df_sigmoid_bin)"
      ]
    },
    {
      "cell_type": "markdown",
      "metadata": {
        "id": "B0kcjaEA66wY"
      },
      "source": [
        "# Graphs"
      ]
    },
    {
      "cell_type": "code",
      "execution_count": null,
      "metadata": {
        "id": "4BvjK5k0y3-s"
      },
      "outputs": [],
      "source": [
        "import matplotlib.pyplot as plt\n",
        "import numpy as np\n",
        "import pandas as pd\n",
        "import seaborn as sns\n",
        "import matplotlib.pyplot as plt\n",
        "import plotly.graph_objects as go\n",
        "import plotly.offline as py"
      ]
    },
    {
      "cell_type": "code",
      "execution_count": null,
      "metadata": {
        "colab": {
          "base_uri": "https://localhost:8080/"
        },
        "id": "DcJnhsF1ynxf",
        "outputId": "0419e6e4-8509-41db-8995-631422481cb3"
      },
      "outputs": [],
      "source": [
        "pacitydef = 0.8\n",
        "# teste = go.Scatter(\n",
        "#     # x=dftf.xs('Date', level='Stock info', axis=1)[tickers[k]],\n",
        "#     x= dftf.index,\n",
        "#     y=y_test,\n",
        "#     name=\"teste\",\n",
        "#     line= dict(color='#0080FF'),\n",
        "#     opacity = opacitydef,\n",
        "#     line_shape='spline'\n",
        "#     )\n",
        "\n",
        "sigmoid = go.Scatter(\n",
        "    # x=dftf.xs('Date', level='Stock info', axis=1)[tickers[k]],\n",
        "    x= df_sigmoid_bin['address'],\n",
        "    y=df_sigmoid_bin['sigmoid'],\n",
        "    name=\"sigmoid\",\n",
        "    line= dict(color='#FF8000'),\n",
        "    opacity = 0.8,\n",
        "    line_shape='spline')\n",
        "\n",
        "dadospred = ([sigmoid])#, pred])\n",
        "figpred = go.Figure(data=dadospred)#, layout=layout)\n",
        "py.iplot(figpred)"
      ]
    },
    {
      "cell_type": "code",
      "execution_count": null,
      "metadata": {
        "colab": {
          "base_uri": "https://localhost:8080/"
        },
        "id": "QbEn3aLi4hYx",
        "outputId": "e14d4f77-272c-45db-9948-e69c17d6d374"
      },
      "outputs": [],
      "source": [
        "#https://stackoverflow.com/questions/35067304/pandas-dataframe-step-plot-where-post\n",
        "# df_sigmoid_bin.plot(drawstyle=\"steps\", linewidth=2, data='sigmoid')\n",
        "plt.plot('address','sigmoid', drawstyle=\"steps\", linewidth=2, data=df_sigmoid_bin, color ='orange')\n",
        "# df_sigmoid_bin.plot(drawstyle=\"steps-post\", linewidth=2)"
      ]
    },
    {
      "cell_type": "code",
      "execution_count": null,
      "metadata": {
        "colab": {
          "base_uri": "https://localhost:8080/"
        },
        "id": "ud2ZKTLD2DWD",
        "outputId": "2d82f812-7694-4a41-b804-9348015efaaa"
      },
      "outputs": [],
      "source": [
        "plt.plot( 'address', 'sigmoid', data=df_sigmoid_bin, linestyle='-', marker='o')"
      ]
    },
    {
      "cell_type": "code",
      "execution_count": null,
      "metadata": {
        "id": "AVaVorZ53wy7"
      },
      "outputs": [],
      "source": [
        "# df_sigmoid_bin"
      ]
    },
    {
      "cell_type": "code",
      "execution_count": null,
      "metadata": {
        "id": "tTkdId1W2cxH"
      },
      "outputs": [],
      "source": [
        "# # https://matplotlib.org/3.3.4/api/_as_gen/matplotlib.pyplot.step.html\n",
        "# # plt.step('address', 'sig_norm_int_ver', where='post', data=df_sigmoid_bin, **kwargs)\n",
        "\n",
        "# plt.step('address', 'sig_norm_int_ver', where='post', data=df_sigmoid_bin, label='post')\n",
        "# plt.plot('address', 'sig_norm_int_ver', 'o--', color='grey', alpha=0.3)\n",
        "\n",
        "# # plt.grid(axis=df_sigmoid_bin['address'], color='0.95')\n",
        "# plt.legend(title='sigmoid memory')\n",
        "# # plt.title('plt.step(where=...)')"
      ]
    },
    {
      "cell_type": "markdown",
      "metadata": {
        "id": "yMBMr-QvZQZ1"
      },
      "source": [
        "# RAM/ROM bin -> .mif file (Activation function: sigmoid)"
      ]
    },
    {
      "cell_type": "markdown",
      "metadata": {
        "id": "kd3JEz6fTMLR"
      },
      "source": [
        "## Definições + gerador de texto"
      ]
    },
    {
      "cell_type": "code",
      "execution_count": null,
      "metadata": {
        "id": "reCbOLhme-MX"
      },
      "outputs": [],
      "source": [
        "# https://www.google.com/url?sa=t&rct=j&q=&esrc=s&source=web&cd=&ved=2ahUKEwjO-qKlubruAhWNCrkGHSCwAmsQFjAAegQIARAC&url=https%3A%2F%2Fwww.mil.ufl.edu%2F4712%2Fdocs%2Fmif_help.pdf&usg=AOvVaw1fJCvah6C5OcARNOlKEIg4"
      ]
    },
    {
      "cell_type": "code",
      "execution_count": null,
      "metadata": {
        "colab": {
          "base_uri": "https://localhost:8080/"
        },
        "id": "qe_6Cgjl0LDI",
        "outputId": "d4edecc1-e969-43f4-d368-998a130600a6"
      },
      "outputs": [],
      "source": [
        "memory_width= m_bin + n_bin_sigmoid\n",
        "if (memory_address_type == 0): # 0= int(n)\n",
        "  memory_depth = len(df_sigmoid_bin)\n",
        "  memory_value_type = 'DEC' #Enter BIN, DEC, HEX, OCT, or UNS; #because memory is with (signed/unsigned) bin address\n",
        "else: #1= float(address)\n",
        "  memory_depth = len(df_sigmoid_bin)\n",
        "  memory_value_type = 'BIN' #Enter BIN, DEC, HEX, OCT, or UNS; #because memory is with (signed/unsigned) bin address\n",
        "\n",
        "memory_depth"
      ]
    },
    {
      "cell_type": "code",
      "execution_count": null,
      "metadata": {
        "id": "6nrNP4CMbNm5"
      },
      "outputs": [],
      "source": [
        "df_sigmoid_bin_index_binary = df_sigmoid_bin.index"
      ]
    },
    {
      "cell_type": "code",
      "execution_count": null,
      "metadata": {
        "colab": {
          "base_uri": "https://localhost:8080/",
          "height": 35
        },
        "id": "bBW3n-OUIthN",
        "outputId": "fec71001-dea5-427d-9cb9-2cbe1df33093"
      },
      "outputs": [],
      "source": [
        "zeros_memory = str(np.zeros(memory_width))\n",
        "zeros_memory= zeros_memory.replace(\".\", \"\");\n",
        "zeros_memory= zeros_memory.replace(\"[\", \"\");\n",
        "zeros_memory= zeros_memory.replace(\"]\", \"\");\n",
        "zeros_memory= zeros_memory.replace(\" \", \"\");\n",
        "zeros_memory"
      ]
    },
    {
      "cell_type": "code",
      "execution_count": null,
      "metadata": {
        "id": "UigmsPWaX_iw"
      },
      "outputs": [],
      "source": [
        "# memory_width=8\n",
        "# memory_depth = 256\n",
        "# memory_value_type = 'BIN' #Enter BIN, DEC, HEX, OCT, or UNS; #because memory is with (signed/unsigned) bin address"
      ]
    },
    {
      "cell_type": "code",
      "execution_count": null,
      "metadata": {
        "id": "91k4S8CfyQmU"
      },
      "outputs": [],
      "source": [
        "df_sigmoid_first= float(df_sigmoid['n'].iloc[:1])"
      ]
    },
    {
      "cell_type": "code",
      "execution_count": null,
      "metadata": {
        "id": "LFTd6RG-OI61"
      },
      "outputs": [],
      "source": [
        "df_sigmoid.drop(df_sigmoid.tail(1).index,inplace=True) # drop last 1 rows"
      ]
    },
    {
      "cell_type": "code",
      "execution_count": null,
      "metadata": {
        "colab": {
          "base_uri": "https://localhost:8080/",
          "height": 200
        },
        "id": "mKdpHKaEGW7r",
        "outputId": "cba93ea5-71d1-4152-c3f7-e859863bdafa"
      },
      "outputs": [],
      "source": [
        "# df_sigmoid_bin.head()"
      ]
    },
    {
      "cell_type": "code",
      "execution_count": null,
      "metadata": {
        "colab": {
          "base_uri": "https://localhost:8080/"
        },
        "id": "tZCUI3gMGZCu",
        "outputId": "fc41afa2-be0e-4ed3-d56b-d7c813674014"
      },
      "outputs": [],
      "source": [
        "# df_sigmoid_bin['address_bin'].head()"
      ]
    },
    {
      "cell_type": "code",
      "execution_count": null,
      "metadata": {
        "id": "_9pH2eehapP1"
      },
      "outputs": [],
      "source": [
        "#colocando na memória com o Index\n",
        "i= 0\n",
        "text = str('')\n",
        "text_zeros = str('')\n",
        "text_rom_to_asic = str('--\"bin_address\" => \"bin_data\",- address(sum) || f(x) \\n') # -1 a 1\n",
        "#texto para fazer lógica 'signed' funcionar no std_logic_vector\n",
        "text_rom_to_asic_2 = str('--\"bin_data\",-- address(sum) || f(x) \\n')# 0 a 1 e -1 a 0\n",
        "\n",
        "#------------------------------- ROM ASIC -------------------------------#\n",
        "#texto rom -> vhd (asic) || índice por 'n'\n",
        "for i in range(int(len(df_sigmoid_bin)/2), len(df_sigmoid_bin)): \n",
        "    text_rom_to_asic_2 = (\n",
        "        text_rom_to_asic_2+'\"' \n",
        "             +str(df_sigmoid_bin['sigmoid_bin'][i])+  '\",-- '\n",
        "             +'('+df_sigmoid_bin['address_bin'][i]+')'\n",
        "             + str(offset_df_memory +df_sigmoid_first+(i*dx_sigmoid*mult_factor))\n",
        "             +' || '+str(df_sigmoid['sig_norm'][i]) +'\\n')\n",
        "\n",
        "for i in range(0, int(len(df_sigmoid_bin)/2) ): \n",
        "    text_rom_to_asic_2 = (\n",
        "        text_rom_to_asic_2+'\"' #pega o q já tem de texto\n",
        "             +str(df_sigmoid_bin['sigmoid_bin'][i])+  '\",-- ' #pega elemento i da sigmoide\n",
        "             +'('+df_sigmoid_bin['address_bin'][i]+')'\n",
        "             +str(offset_df_memory +df_sigmoid_first+((i)*dx_sigmoid*mult_factor))\n",
        "             +' || '+str(df_sigmoid['sig_norm'][i]) +'\\n')\n",
        "    \n",
        "\n",
        "#------------------------------- ROM .mif -------------------------------#\n",
        "#define se o endereço será com 'n' ou 'address'\n",
        "if (memory_address_type == 0): # 0= int(n)\n",
        "  for i in range(0, len(df_sigmoid_bin)): #caso seja por 'n'\n",
        "    text = (text+''+ str(df_sigmoid_bin.index[i]) + ':' + str(df_sigmoid_bin['sigmoid_bin'][i])+  ';-- '+str(offset_df_memory +df_sigmoid_first+(i*dx_sigmoid*mult_factor))+' || '+str(df_sigmoid['sig_norm'][i]) +'\\n')\n",
        "    # )\n",
        "else: #1= float(address)\n",
        "  for i in range(0, len(df_sigmoid_bin)):\n",
        "    text = (text+''+ str(df_sigmoid_bin['address_bin'][i]) + ':' +str(df_sigmoid_bin['sigmoid_bin'][i])+  ';-- '+str(offset_df_memory +df_sigmoid_first+(i*dx_sigmoid*mult_factor))+' || '+str(df_sigmoid['sig_norm'][i]) +'\\n')\n",
        "   \n",
        "   #essa não funciona pra compilar \n",
        "   # text_rom_to_asic = (text_rom_to_asic+'\"'+ str(df_sigmoid_bin['address_bin'][i]) + '\" => \"' +str(df_sigmoid_bin['sigmoid_bin'][i])+  '\";-- '+str(offset_df_memory +df_sigmoid_first+(i*dx_sigmoid*mult_factor))+' || '+str(df_sigmoid['sig_norm'][i]) +'\\n')\n",
        "    # )\n",
        "    # text_zeros = (text_zeros+''+ str(df_sigmoid_bin['address_zeros'][i]) + ':' +zeros_memory+  ';-- '+str(df_sigmoid['n_zeros'][i])+' || zero \\n')"
      ]
    },
    {
      "cell_type": "code",
      "execution_count": null,
      "metadata": {
        "id": "cWOzX9YipdbH"
      },
      "outputs": [],
      "source": [
        "# text_file = open(\"text_rom_to_asic_2.txt\", \"w\")\n",
        "# text_file.write(text_rom_to_asic_2)\n",
        "# text_file.close()"
      ]
    },
    {
      "cell_type": "code",
      "execution_count": null,
      "metadata": {
        "id": "-cafPyIKbLPh"
      },
      "outputs": [],
      "source": [
        "# rom_list = text_rom_to_asic.splitlines()\n",
        "# rom_list = rom_list[0:1] + rom_list[int(len(rom_list)/2)+1:] + rom_list[1:int(len(rom_list)/2)]\n",
        "# rom_list = '\\n'.join(rom_list)"
      ]
    },
    {
      "cell_type": "code",
      "execution_count": null,
      "metadata": {
        "id": "5gQW-rlhot4D"
      },
      "outputs": [],
      "source": [
        "if (mem_zeros == 0): # 0= memória sem os zeros\n",
        "  text_zeros = str('')"
      ]
    },
    {
      "cell_type": "code",
      "execution_count": null,
      "metadata": {
        "id": "C3W7431bZG8a"
      },
      "outputs": [],
      "source": [
        "# #https://stackoverflow.com/questions/19751148/quartus-initializing-ram\n",
        "# #https://stackoverflow.com/questions/10660435/pythonic-way-to-create-a-long-multi-line-string\n",
        "# rom_text_init = ('\\n'\n",
        "# 'DEPTH='+str(memory_depth)+';\\n'\n",
        "# 'WIDTH='+str(memory_width)+';\\n'\n",
        "# 'ADDRESS_RADIX='+(memory_value_type)+';\\n' #because memory is with (signed/unsigned) bin address\n",
        "# 'DATA_RADIX='+(memory_value_type)+';\\n' #because data is bin type\n",
        "# '\\n'\n",
        "# 'CONTENT BEGIN\\n'\n",
        "# '[0.. 01111000] : 00000000;\\n' #value = 0\n",
        "# '[10001000.. 11111111] : 11111111;\\n' #value = max(8bits) = 255\n",
        "\n",
        "# ''+ df_sigmoid_bin['address_bin'][0] + ':'   +df_sigmoid_bin['sig_norm_int'][0]+  ';-- 121\\n'\n",
        "# ''+ df_sigmoid_bin['address_bin'][1] + ':'   +df_sigmoid_bin['sig_norm_int'][1]+  ';-- 122\\n'   \n",
        "# ''+ df_sigmoid_bin['address_bin'][2] + ':'   +df_sigmoid_bin['sig_norm_int'][2]+  ';-- 123\\n'\n",
        "# ''+ df_sigmoid_bin['address_bin'][3] + ':'   +df_sigmoid_bin['sig_norm_int'][3]+  ';-- 124\\n'\n",
        "# ''+ df_sigmoid_bin['address_bin'][4] + ':'   +df_sigmoid_bin['sig_norm_int'][4]+  ';-- 125\\n'\n",
        "# ''+ df_sigmoid_bin['address_bin'][5] + ':'   +df_sigmoid_bin['sig_norm_int'][5]+  ';-- 126\\n'\n",
        "# ''+ df_sigmoid_bin['address_bin'][6] + ':'   +df_sigmoid_bin['sig_norm_int'][6]+  ';-- 127\\n'\n",
        "# ''+ df_sigmoid_bin['address_bin'][7] + ':'   +df_sigmoid_bin['sig_norm_int'][7]+  ';-- 128\\n'\n",
        "# ''+ df_sigmoid_bin['address_bin'][8] + ':'   +df_sigmoid_bin['sig_norm_int'][8]+  ';-- 129\\n'\n",
        "# ''+ df_sigmoid_bin['address_bin'][9] + ':'   +df_sigmoid_bin['sig_norm_int'][9]+  ';-- 130\\n'\n",
        "# ''+ df_sigmoid_bin['address_bin'][10] + ':'  +df_sigmoid_bin['sig_norm_int'][10]+ ';-- 131\\n'\n",
        "# ''+ df_sigmoid_bin['address_bin'][11] + ':'  +df_sigmoid_bin['sig_norm_int'][11]+ ';-- 132\\n'\n",
        "# ''+ df_sigmoid_bin['address_bin'][12] + ':'  +df_sigmoid_bin['sig_norm_int'][12]+ ';-- 133\\n'\n",
        "# ''+ df_sigmoid_bin['address_bin'][13] + ':'  +df_sigmoid_bin['sig_norm_int'][13]+ ';-- 134\\n'\n",
        "# ''+ df_sigmoid_bin['address_bin'][14] + ':'  +df_sigmoid_bin['sig_norm_int'][14]+ ';-- 135\\n'\n",
        "\n",
        "# #[40..7F]  :   0000000000000000;\n",
        "# 'END;\\n'\n",
        "# '')"
      ]
    },
    {
      "cell_type": "code",
      "execution_count": null,
      "metadata": {
        "id": "-1-lSMn3A8Sc"
      },
      "outputs": [],
      "source": [
        "# DEPTH=256;\n",
        "# WIDTH=8;\n",
        "# ADDRESS_RADIX=BIN;\n",
        "# DATA_RADIX=BIN;\n",
        "\n",
        "# CONTENT BEGIN\n",
        "# 0:00000000;-- 121.0 \n",
        "# 1:00000000;-- 121.25 \n",
        "# 2:00000000;-- 121.5 \n",
        "# 3:00000000;-- 121.75 \n",
        "# 4:00000000;-- 122.0 \n",
        "# 5:00000000;-- 122.25 \n",
        "# 6:00000100;-- 122.5 \n",
        "# 7:00000100;-- 122.75 \n",
        "# 8:00000100;-- 123.0 \n",
        "# 9:00001000;-- 123.25 \n",
        "# 10:00001000;-- 123.5 \n",
        "# 11:00001100;-- 123.75 \n",
        "# 12:00010000;-- 124.0 \n",
        "# 13:00010100;-- 124.25 \n",
        "# 14:00011100;-- 124.5 \n",
        "# 15:00100100;-- 124.75 \n",
        "# 16:00110000;-- 125.0 \n",
        "# 17:00111100;-- 125.25 \n",
        "# 18:01001100;-- 125.5 \n",
        "# 19:01100000;-- 125.75 \n",
        "# 20:01111000;-- 126.0 \n",
        "# 21:10010100;-- 126.25 \n",
        "# 22:10111000;-- 126.5 \n",
        "# 23:11100100;-- 126.75 \n",
        "# 24:100010000;-- 127.0 \n",
        "# 25:101001000;-- 127.25 \n",
        "# 26:110000000;-- 127.5 \n",
        "# 27:111000000;-- 127.75 \n",
        "# 28:1000000000;-- 128.0 \n",
        "# 29:1000111100;-- 128.25 \n",
        "# 30:1001111100;-- 128.5 \n",
        "# 31:1010110100;-- 128.75 \n",
        "# 32:1011101100;-- 129.0 \n",
        "# 33:1100011000;-- 129.25 \n",
        "# 34:1101000100;-- 129.5 \n",
        "# 35:1101101000;-- 129.75 \n",
        "# 36:1110000100;-- 130.0 \n",
        "# 37:1110011100;-- 130.25 \n",
        "# 38:1110110000;-- 130.5 \n",
        "# 39:1111000000;-- 130.75 \n",
        "# 40:1111001100;-- 131.0 \n",
        "# 41:1111011000;-- 131.25 \n",
        "# 42:1111100000;-- 131.5 \n",
        "# 43:1111101000;-- 131.75 \n",
        "# 44:1111101100;-- 132.0 \n",
        "# 45:1111110000;-- 132.25 \n",
        "# 46:1111110100;-- 132.5 \n",
        "# 47:1111110100;-- 132.75 \n",
        "# 48:1111111000;-- 133.0 \n",
        "# 49:1111111000;-- 133.25 \n",
        "# 50:1111111000;-- 133.5 \n",
        "# 51:1111111100;-- 133.75 \n",
        "# 52:1111111100;-- 134.0 \n",
        "# 53:1111111100;-- 134.25 \n",
        "# 54:1111111100;-- 134.5 \n",
        "# 55:1111111100;-- 134.75 \n",
        "# 56:1111111100;-- 135.0 \n",
        "# END;\n"
      ]
    },
    {
      "cell_type": "code",
      "execution_count": null,
      "metadata": {
        "id": "XMH8rUtuSfHB"
      },
      "outputs": [],
      "source": [
        "# print(text)"
      ]
    },
    {
      "cell_type": "code",
      "execution_count": null,
      "metadata": {
        "id": "_8WKOuq7akqa"
      },
      "outputs": [],
      "source": [
        "# #https://stackoverflow.com/questions/10660435/pythonic-way-to-create-a-long-multi-line-string\n",
        "# rom_text_file = (''\n",
        "# 'WIDTH='+memory_width+';'\n",
        "# 'DEPTH='+memory_depth+';'\n",
        "# 'ADDRESS_RADIX='+memory_value_type+';' #because memory is with (signed/unsigned) bin address\n",
        "# 'DATA_RADIX='+memory_value_type+';' #because data is bin type\n",
        "# ''\n",
        "# 'CONTENT BEGIN'\n",
        "# '[0.. ('01111001 - 1)] : 00000000; #value = 0\n",
        "# [(10000111 + 1).. (11111111)] : 11111111; #value = max(8bits) = 255\n",
        "\n",
        "# 01111001  :   00000000;-- 121\n",
        "# 01111010  :   00000000;-- 122    \n",
        "# 01111011  :   00000001;-- 123\n",
        "# 01111100  :   00000100;-- 124\n",
        "# 01111101  :   00001100;-- 125\n",
        "# 01111110  :   00011110;-- 126\n",
        "# 01111111  :   01000100;-- 127\n",
        "# 10000000  :   10000000;-- 128\n",
        "# 10000001  :   10111011;-- 129\n",
        "# 10000010  :   11100001;-- 130\n",
        "# 10000011  :   11110011;-- 131\n",
        "# 10000100  :   11111011;-- 132\n",
        "# 10000101  :   11111110;-- 133\n",
        "# 10000110  :   11111111;-- 134\n",
        "# 10000111  :   11111111;-- 135\n",
        "\n",
        "# #[40..7F]  :   0000000000000000;\n",
        "# END;\n",
        "# \"\"\")"
      ]
    },
    {
      "cell_type": "code",
      "execution_count": null,
      "metadata": {
        "id": "RAOKCbdhFaMs"
      },
      "outputs": [],
      "source": [
        "# import binascii\n",
        "# filename = 'test.dat'\n",
        "# with open(filename, 'rb') as f:\n",
        "#     content = f.read()\n",
        "# print(binascii.hexlify(content))"
      ]
    },
    {
      "cell_type": "markdown",
      "metadata": {
        "id": "GzHMi45uTiU2"
      },
      "source": [
        "## .mif file"
      ]
    },
    {
      "cell_type": "code",
      "execution_count": null,
      "metadata": {
        "id": "9unlPZw79N6X"
      },
      "outputs": [],
      "source": [
        "#https://stackoverflow.com/questions/19751148/quartus-initializing-ram\n",
        "#https://stackoverflow.com/questions/10660435/pythonic-way-to-create-a-long-multi-line-string\n",
        "#https://www.youtube.com/redirect?event=video_description&redir_token=QUFFLUhqbG1UYnpNQjBVempjaUVSa1FTb01hZWZhYS13Z3xBQ3Jtc0ttQ3dlblVRN0tXN2ZtUE9fZlE0TjZKMU1Icjh0Z01GT1Zmc25ucjdYcktEY2pJX0swNU9XdHdQUVBmYnVvZHBidE1uR1FOUkVtSDkxUmdudkQ1TmliV09jR1JNMkgtUTIzQ0dpMk1XTTcweEZUa0Jubw&q=https%3A%2F%2Fwww.mil.ufl.edu%2F4712%2Fdocs%2Fmif_help.pdf\n",
        "\n",
        "rom_text_init = ('\\n'\n",
        "'DEPTH='+str(memory_depth)+';\\n'\n",
        "'WIDTH='+str(memory_width)+';\\n'\n",
        "'ADDRESS_RADIX='+(memory_value_type)+';\\n' #because memory is with (signed/unsigned) bin address\n",
        "# 'DATA_RADIX='+(memory_value_type)+';\\n' #because data is bin type\n",
        "'DATA_RADIX=BIN;\\n' #because data is bin type\n",
        "'\\n'\n",
        "'CONTENT BEGIN\\n'\n",
        "# '[0.. 01111000] : 00000000;--menor que 120\\n' #value = 0\n",
        "# '[10001000.. 11111111] : 11111111; --maior que 136\\n' #value = max(8bits) = 255\n",
        "\n",
        "\n",
        "''+text+'\\n'\n",
        "''+text_zeros+'\\n'\n",
        "'10000000000:00000000000; \\n'\n",
        "'END;\\n'\n",
        "'')"
      ]
    },
    {
      "cell_type": "code",
      "execution_count": null,
      "metadata": {
        "colab": {
          "base_uri": "https://localhost:8080/"
        },
        "id": "JZSYTqF8SVdb",
        "outputId": "4a165828-1fdd-48d9-b2ab-c8322b60e21f"
      },
      "outputs": [],
      "source": [
        "print(rom_text_init)"
      ]
    },
    {
      "cell_type": "code",
      "execution_count": null,
      "metadata": {
        "id": "jicv7E1G72zF"
      },
      "outputs": [],
      "source": [
        "text_file = open(\"rom_text_init.txt\", \"w\")\n",
        "text_file.write(rom_text_init)\n",
        "text_file.close()"
      ]
    },
    {
      "cell_type": "code",
      "execution_count": null,
      "metadata": {
        "id": "JpVFtJb3njvo"
      },
      "outputs": [],
      "source": [
        "text_file = open(\"rom_text_init.mif\", \"w\")\n",
        "text_file.write(rom_text_init)\n",
        "text_file.close()"
      ]
    },
    {
      "cell_type": "markdown",
      "metadata": {
        "id": "eOmosVCyTmX3"
      },
      "source": [
        "## .vhd ROM file"
      ]
    },
    {
      "cell_type": "code",
      "execution_count": null,
      "metadata": {
        "colab": {
          "base_uri": "https://localhost:8080/"
        },
        "id": "noQbX_DHUavV",
        "outputId": "a72265eb-f459-4fe8-c076-f9b0ebac09ff"
      },
      "outputs": [],
      "source": [
        "memory_width"
      ]
    },
    {
      "cell_type": "code",
      "execution_count": null,
      "metadata": {
        "colab": {
          "base_uri": "https://localhost:8080/"
        },
        "id": "-y_QN_-aUonU",
        "outputId": "a1d2ceeb-7180-47cc-ca17-87a657d35316"
      },
      "outputs": [],
      "source": [
        "memory_depth"
      ]
    },
    {
      "cell_type": "code",
      "execution_count": null,
      "metadata": {
        "colab": {
          "base_uri": "https://localhost:8080/"
        },
        "id": "uldpe2s_Uyzu",
        "outputId": "6e426e81-5bd6-469f-dd7c-bcee0fb2f653"
      },
      "outputs": [],
      "source": [
        "int(math.log2(memory_depth-1))"
      ]
    },
    {
      "cell_type": "code",
      "execution_count": null,
      "metadata": {
        "id": "er0DIqPkzp-l"
      },
      "outputs": [],
      "source": [
        "if (rom_clk == 1):\n",
        "\trom_text_asic = ( \n",
        "'''--https://stackoverflow.com/questions/17579716/implementing-rom-in-xilinx-vhdl\n",
        "LIBRARY ieee ;\n",
        "USE ieee.std_logic_1164.all ;\n",
        "use ieee.numeric_std.all;\n",
        "\n",
        "----------------\n",
        "\n",
        "entity '''+nome_rom+''' is\n",
        "generic(addr_width : integer := '''+str(memory_depth)+'; -- store '+str(memory_depth)+' elements ''''\n",
        "\t\t\t\taddr_bits  : integer := '''+str(int(math.log2(memory_depth)))+'; -- required bits to store '+str(memory_depth)+''' elements\n",
        "\t\t\t\tdata_width : integer := '''+str(memory_width)+'  -- each element has '+str(memory_width)+'-bits''''\n",
        "\t\t\t\t);\n",
        "\t\t\t\n",
        "port ( clk : in std_logic ;\n",
        "\t\taddress : in std_logic_vector(addr_bits-1 downto 0);\n",
        "\t\tdata_out : out std_logic_vector(data_width-1 downto 0)\n",
        "\t\t) ;\n",
        "end entity ;\n",
        "\n",
        "------------------\n",
        "architecture arch of '''+nome_rom+''' is\n",
        "\n",
        "\tsignal reg_address: std_logic_vector(addr_bits-1 downto 0);\n",
        "\ttype memory is array ( 0 to addr_width-1 ) of std_logic_vector(data_width-1 downto 0 ) ;\n",
        "\tconstant myrom : memory := (\n",
        "\t\n",
        "'''+text_rom_to_asic_2+'\\n''''\n",
        "\t\n",
        "--\t2 => \"11111111\" , --255\n",
        "--\t3 => \"11010101\" ,  \n",
        "others => \"00000000000\" \n",
        ") ;\n",
        "\n",
        "begin \n",
        "\tprocess(clk)\n",
        "\t\tbegin \n",
        "\t\tif( clk'event and clk = '1' ) then\n",
        "\t\t\treg_address <= address ;\n",
        "\t\tend if ;\n",
        "\tend process ;\n",
        "---------------\n",
        "data_out <= myrom(to_integer(unsigned(reg_address))) ;\n",
        "end architecture ;\n",
        "\n",
        "''')\n",
        "\n",
        "else:\n",
        "\trom_text_asic = ( '''\n",
        "\n",
        "--https://stackoverflow.com/questions/17579716/implementing-rom-in-xilinx-vhdl\n",
        "LIBRARY ieee ;\n",
        "USE ieee.std_logic_1164.all ;\n",
        "use ieee.numeric_std.all;\n",
        "\n",
        "----------------\n",
        "\n",
        "ENTITY '''+nome_rom+''' is\n",
        "generic(addr_width : integer := '''+str(memory_depth)+'; -- store '+str(memory_depth)+' elements ''''\n",
        "\t\t\t\taddr_bits  : integer := '''+str(int(math.log2(memory_depth)))+'; -- required bits to store '+str(memory_depth)+''' elements\n",
        "\t\t\t\tdata_width : integer := '''+str(memory_width)+'  -- each element has '+str(memory_width)+'-bits''''\n",
        "\t\t\t\t);\n",
        "\t\t\t\n",
        "  PORT (\n",
        "    address : IN STD_LOGIC_VECTOR(addr_bits - 1 DOWNTO 0);\n",
        "    data_out : OUT STD_LOGIC_VECTOR(data_width - 1 DOWNTO 0)\n",
        "  );\n",
        "END ENTITY;\n",
        "\n",
        "------------------\n",
        "architecture arch of '''+nome_rom+''' is\n",
        "\n",
        "\ttype memory is array ( 0 to addr_width-1 ) of std_logic_vector(data_width-1 downto 0 ) ;\n",
        "\tconstant myrom : memory := (\n",
        "\t\n",
        "'''+text_rom_to_asic_2+'\\n''''\n",
        "\t\n",
        "--\t2 => \"11111111\" , --255\n",
        "--\t3 => \"11010101\" ,  \n",
        "others => \"00000000000\" \n",
        ") ;\n",
        "\n",
        "begin \n",
        "---------------\n",
        "data_out <= myrom(to_integer(unsigned(address))) ;\n",
        "end architecture ;\n",
        "\n",
        "''')\n",
        "\n",
        "\n",
        "print(rom_text_asic)"
      ]
    },
    {
      "cell_type": "code",
      "execution_count": null,
      "metadata": {
        "id": "wv5ZXaZTQx9E"
      },
      "outputs": [],
      "source": [
        "text_file = open(\"rom_fx_addwidth\"+str(memory_depth)+\"_addbit\"+str(int(math.log2(memory_depth)))+\"_datawidth\"+str(memory_width)+\".txt\", \"w\")\n",
        "text_file.write(rom_text_asic)\n",
        "text_file.close()"
      ]
    },
    {
      "cell_type": "code",
      "execution_count": null,
      "metadata": {
        "id": "kqtF_J86QzT2"
      },
      "outputs": [],
      "source": [
        "text_file = open(\"rom_fx_addwidth\"+str(memory_depth)+\"_addbit\"+str(int(math.log2(memory_depth)))+\"_datawidth\"+str(memory_width)+\".vhd\", \"w\")\n",
        "text_file.write(rom_text_asic)\n",
        "text_file.close()"
      ]
    },
    {
      "cell_type": "markdown",
      "metadata": {
        "id": "OZlN915x8TnV"
      },
      "source": [
        "# df_sum"
      ]
    },
    {
      "cell_type": "code",
      "execution_count": null,
      "metadata": {
        "id": "56CeZEoyek2S"
      },
      "outputs": [],
      "source": [
        "# #SUM REFERENCE\n",
        "# df_sum = pd.DataFrame()\n",
        "\n",
        "# ## verification\n",
        "# df_sum['sum_value'] = (df_sigmoid['n'][123:137])\n",
        "\n",
        "# df_sum['n'] = (df_sigmoid['n'][123:137].apply(lambda x: int_to_bin(x ,n_bits)))\n",
        "# # df_sum"
      ]
    },
    {
      "cell_type": "code",
      "execution_count": null,
      "metadata": {
        "id": "zKk2Jmxk1Vke"
      },
      "outputs": [],
      "source": [
        "# float_to_binary(x ,m_bin,n_bin)"
      ]
    },
    {
      "cell_type": "code",
      "execution_count": null,
      "metadata": {
        "colab": {
          "base_uri": "https://localhost:8080/"
        },
        "id": "N6XRIDoM1Wfy",
        "outputId": "4df7c0dc-4602-4204-9a22-d4af3f837b36"
      },
      "outputs": [],
      "source": [
        "#SUM REFERENCE\n",
        "df_sum = pd.DataFrame()\n",
        "\n",
        "## verification\n",
        "df_sum['sum_value'] = (df_sigmoid['n'])\n",
        "\n",
        "df_sum['n'] = (df_sigmoid['n'].apply(lambda x: float_to_binary(x ,m_bin,n_bin,is_signed)))\n",
        "df_sum"
      ]
    },
    {
      "cell_type": "code",
      "execution_count": null,
      "metadata": {
        "id": "5QmtO_nuosjT"
      },
      "outputs": [],
      "source": [
        "# #SUM REFERENCE\n",
        "# df_sum = pd.DataFrame()\n",
        "\n",
        "# ## verification\n",
        "# df_sum['sum_value'] = (df_sigmoid['n'])\n",
        "\n",
        "# df_sum['n'] = (df_sigmoid['n'].apply(lambda x: int_to_bin(x ,n_bits)))\n",
        "# # df_sum"
      ]
    },
    {
      "cell_type": "code",
      "execution_count": null,
      "metadata": {
        "id": "w7G9VjmVvW-n"
      },
      "outputs": [],
      "source": [
        "# df_inputs"
      ]
    },
    {
      "cell_type": "markdown",
      "metadata": {
        "id": "pU-fmBvyGEtc"
      },
      "source": [
        "# df_inputs_bin + cálculo sigmoid no dataframe"
      ]
    },
    {
      "cell_type": "code",
      "execution_count": null,
      "metadata": {
        "colab": {
          "base_uri": "https://localhost:8080/"
        },
        "id": "QWPYBvhbyoK9",
        "outputId": "1b1508e7-fa58-4f29-9da3-605e8cdf6bf9"
      },
      "outputs": [],
      "source": [
        "pd.set_option('max_rows', 20)\n",
        "pd.set_option('max_colwidth', 20)\n",
        "pd.describe_option('max_colwidth')"
      ]
    },
    {
      "cell_type": "code",
      "execution_count": null,
      "metadata": {
        "id": "gSsxmo380QE1"
      },
      "outputs": [],
      "source": [
        "df_inputs['sigmoid']= [((1/(1+(exp(-1*((element-unsigned_offset))))))*norm_y) for element in df_inputs['sum']]\n",
        "# df_inputs['sigmoid'] = df_inputs['sigmoid']#.astype(int)\n",
        "# df_inputs['mult']=df_inputs['sum']*df_inputs['sigmoid']\n",
        "# df_inputs['mult'] = df_inputs['mult'].astype(int)"
      ]
    },
    {
      "cell_type": "code",
      "execution_count": null,
      "metadata": {
        "id": "M2cnnm-n_pAX"
      },
      "outputs": [],
      "source": [
        "# df_inputs['y'] = df_inputs['sum']/256 +(df_inputs['sum']*df_inputs['sigmoid'])/256\n",
        "# df_inputs['y'] = df_inputs['y'].astype(int)"
      ]
    },
    {
      "cell_type": "code",
      "execution_count": null,
      "metadata": {
        "id": "zLNW50aw-3Ix"
      },
      "outputs": [],
      "source": [
        "# df_inputs"
      ]
    },
    {
      "cell_type": "code",
      "execution_count": null,
      "metadata": {
        "id": "zONdi7582ZTD"
      },
      "outputs": [],
      "source": [
        "df_inputs_bin = pd.DataFrame()\n",
        "i=0\n",
        "#INPUTS_DF -> Xi\n",
        "while True:\n",
        "  if (i < num_inputs):\n",
        "    df_inputs_bin[\"x\"+str(i+1)] = df_inputs[\"testes_x\"+str(i+1)].apply(lambda x: float_to_binary(x, m_bin, n_bin,is_signed))\n",
        "    i= i+1\n",
        "\n",
        "  else:\n",
        "    i= 0\n",
        "    break"
      ]
    },
    {
      "cell_type": "code",
      "execution_count": null,
      "metadata": {
        "id": "s-poCY3ehGE-"
      },
      "outputs": [],
      "source": [
        "# df_weights.head()"
      ]
    },
    {
      "cell_type": "code",
      "execution_count": null,
      "metadata": {
        "colab": {
          "base_uri": "https://localhost:8080/"
        },
        "id": "Ww_eOxm5uruH",
        "outputId": "0f80a55c-2a8d-4481-b415-0a4d58992ffe"
      },
      "outputs": [],
      "source": [
        "num_inputs"
      ]
    },
    {
      "cell_type": "code",
      "execution_count": null,
      "metadata": {
        "id": "kqy0U0Pu34KI"
      },
      "outputs": [],
      "source": [
        "#INPUTS_DF -> Wi\n",
        "if (weights_on_memory == 1): #pesos na memória\n",
        "  df_weights_bin = pd.DataFrame()\n",
        "\n",
        "  # while True:\n",
        "  for i in range(0,num_inputs+1):\n",
        "    if (i < num_inputs):\n",
        "      df_weights_bin[\"w\"+str(i+1)] = df_weights[\"testes_w\"+str(i+1)].apply(lambda x: float_to_binary(x, m_bin, n_bin,is_signed))\n",
        "      i= i+1\n",
        "\n",
        "    else:\n",
        "      df_weights_bin['bias'] = df_weights['bias'].apply(lambda x: float_to_binary(x, m_bin, n_bin,is_signed)) #coluna bias\n",
        "      df_inputs_bin[\"sum\"] = df_inputs[\"sum\"].apply(lambda x: float_to_binary(x, m_bin, n_bin,is_signed)) #coluna sum\n",
        "      df_inputs_bin[\"sigmoid_bin\"] = df_inputs[\"sigmoid\"].apply(lambda x: float_to_binary(x, m_bin, n_bin,is_signed)) #coluna sigmoid\n",
        "      i= 0\n",
        "      break\n",
        "\n",
        "else:\n",
        "  while True:\n",
        "    if (i < num_inputs):\n",
        "      df_inputs_bin[\"w\"+str(i+1)] = df_inputs[\"testes_w\"+str(i+1)].apply(lambda x: float_to_binary(x, m_bin, n_bin,is_signed))\n",
        "      i= i+1\n",
        "\n",
        "    else:\n",
        "      df_inputs_bin['bias'] = df_inputs['bias'].apply(lambda x: float_to_binary(x, m_bin, n_bin,is_signed)) #coluna bias\n",
        "      df_inputs_bin[\"sum\"] = df_inputs[\"sum\"].apply(lambda x: float_to_binary(x, m_bin, n_bin,is_signed)) #coluna sum\n",
        "      df_inputs_bin[\"sigmoid_bin\"] = df_inputs[\"sigmoid\"].apply(lambda x: float_to_binary(x, m_bin, n_bin,is_signed)) #coluna sigmoid\n",
        "      i= 0\n",
        "      break"
      ]
    },
    {
      "cell_type": "code",
      "execution_count": null,
      "metadata": {
        "id": "2InmHIWt3Kgn"
      },
      "outputs": [],
      "source": [
        "# df_weights_bin['bias'] = df_weights['bias'].apply(lambda x: float_to_binary(x, m_bin, n_bin)) #coluna bias\n"
      ]
    },
    {
      "cell_type": "code",
      "execution_count": null,
      "metadata": {
        "id": "KHnXmUEXgcu5"
      },
      "outputs": [],
      "source": [
        "# df_inputs"
      ]
    },
    {
      "cell_type": "code",
      "execution_count": null,
      "metadata": {
        "id": "Rk30IqBxK5UV"
      },
      "outputs": [],
      "source": [
        "# df_inputs_bin"
      ]
    },
    {
      "cell_type": "code",
      "execution_count": null,
      "metadata": {
        "id": "NMBDUXu9OSGg"
      },
      "outputs": [],
      "source": [
        "#remover caractere '-'\n",
        "# df_inputs_bin = df_inputs_bin.apply(lambda x: x.str.replace('-',''))\n",
        "\n",
        "# #adicionar um digito '1' nos valores negativos binários devido a falha da função\n",
        "\n",
        "# for col in df_inputs_bin.columns:\n",
        "#     if col == 'sigmoid_bin': #não fazer na coluna sigmoide\n",
        "#         pass\n",
        "#     else:\n",
        "#       for i in range(0, (int(len(df_inputs_bin)/2))):\n",
        "#         # df_inputs_bin.iloc[i:(i+1)]= '1' + df_inputs_bin.iloc[i:(i+1)]\n",
        "#         df_inputs_bin[col].iloc[i:(i+1)] = df_inputs_bin[col].iloc[i:(i+1)].apply(lambda x:'1'+ x)\n",
        "\n",
        "#tirar linhas que contém valores binários com mais bits que o permitido\n",
        "df_inputs_bin.drop(df_inputs_bin.tail(1).index,inplace=True) # drop last n rows\n",
        "df_inputs_bin.drop(df_inputs_bin.head(1).index,inplace=True) # drop first n rows    "
      ]
    },
    {
      "cell_type": "code",
      "execution_count": null,
      "metadata": {
        "colab": {
          "base_uri": "https://localhost:8080/"
        },
        "id": "BVefUB64X44_",
        "outputId": "1c002908-edfb-41ab-b530-a9ad7dae3966"
      },
      "outputs": [],
      "source": [
        "df_inputs_bin.head()"
      ]
    },
    {
      "cell_type": "code",
      "execution_count": null,
      "metadata": {
        "id": "hLObMVof5W29"
      },
      "outputs": [],
      "source": [
        "# #SUM\n",
        "# df_inputs[\"sum\"] = 0\n",
        "# while True:\n",
        "#   if (i < num_inputs):\n",
        "#     df_inputs_bin[\"sum\"] = df_inputs[\"sum\"].apply(lambda x: float_to_binary(x, m_bin, n_bin))\n",
        "#     i= i+1\n",
        "#   else:\n",
        "#     df_inputs_bin[\"sum\"] = df_inputs[\"sum\"] + df_inputs[\"bias\"]\n",
        "#     i= 0\n",
        "#     break"
      ]
    },
    {
      "cell_type": "code",
      "execution_count": null,
      "metadata": {
        "id": "frKg_CFGFKO-"
      },
      "outputs": [],
      "source": [
        "# df_inputs_bin = pd.DataFrame()\n",
        "# df_inputs_bin['x1'] = df_inputs[\"testes_x1\"+str(i+1)].apply(lambda x: int_to_bin(x ,n_bits_input))\n",
        "# df_inputs_bin['x2'] = df_inputs['testes_x2'].apply(lambda x: int_to_bin(x ,n_bits_input))\n",
        "# df_inputs_bin['x3'] = df_inputs['testes_x3'].apply(lambda x: int_to_bin(x ,n_bits_input))\n",
        "# df_inputs_bin['w1'] = df_inputs['testes_w1'].apply(lambda x: int_to_bin(x ,n_bits_input))\n",
        "# df_inputs_bin['w2'] = df_inputs['testes_w2'].apply(lambda x: int_to_bin(x ,n_bits_input))\n",
        "# df_inputs_bin['w3'] = df_inputs['testes_w3'].apply(lambda x: int_to_bin(x ,n_bits_input))\n",
        "# df_inputs_bin['bias'] = df_inputs['bias'].apply(lambda x: int_to_bin(x ,n_bits))\n",
        "# # df_inputs_bin['sum'] = df_inputs['sum'].apply(lambda x: int_to_bin(x ,n_bits))\n",
        "# # n_bits_input\n",
        "# df_inputs_bin"
      ]
    },
    {
      "cell_type": "code",
      "execution_count": null,
      "metadata": {
        "id": "UiNfL1u4rHJP"
      },
      "outputs": [],
      "source": [
        "# df_inputs_bin = pd.DataFrame()\n",
        "# df_inputs_bin['x1'] = df_inputs['testes_x1'].apply(lambda x: int_to_bin(x ,n_bits))\n",
        "# df_inputs_bin['x2'] = df_inputs['testes_x2'].apply(lambda x: int_to_bin(x ,n_bits))\n",
        "# df_inputs_bin['x3'] = df_inputs['testes_x3'].apply(lambda x: int_to_bin(x ,n_bits))\n",
        "# df_inputs_bin['w1'] = df_inputs['testes_w1'].apply(lambda x: int_to_bin(x ,n_bits))\n",
        "# df_inputs_bin['w2'] = df_inputs['testes_w2'].apply(lambda x: int_to_bin(x ,n_bits))\n",
        "# df_inputs_bin['w3'] = df_inputs['testes_w3'].apply(lambda x: int_to_bin(x ,n_bits))\n",
        "# df_inputs_bin['bias'] = df_inputs['bias'].apply(lambda x: int_to_bin(x ,n_bits))\n",
        "# # df_inputs_bin['sum'] = df_inputs['sum'].apply(lambda x: int_to_bin(x ,n_bits))\n",
        "# n_bits_input\n",
        "# # df_inputs_bin.head()\n",
        "# df_inputs_bin"
      ]
    },
    {
      "cell_type": "markdown",
      "metadata": {
        "id": "_zsnbNkIxwul"
      },
      "source": [
        "# RAM/ROM bin -> .mif file (Weights)"
      ]
    },
    {
      "cell_type": "code",
      "execution_count": null,
      "metadata": {
        "colab": {
          "base_uri": "https://localhost:8080/"
        },
        "id": "HeuecYRkzJG4",
        "outputId": "675fe148-01c6-4fec-c313-4b76725a9ea3"
      },
      "outputs": [],
      "source": [
        "len(df_weights_bin)"
      ]
    },
    {
      "cell_type": "code",
      "execution_count": null,
      "metadata": {
        "id": "M-sNb0UzxwDl"
      },
      "outputs": [],
      "source": [
        "memory_width_weights = n_bits\n",
        "if (memory_address_type == 0): # 0= int(n) para memória com inteiros\n",
        "  memory_depth_w = len(df_weights_bin)\n",
        "  memory_value_type = 'DEC' #Enter BIN, DEC, HEX, OCT, or UNS; #because memory is with (signed/unsigned) bin address\n",
        "  \n",
        "else: #1= float(address) memória com decimais\n",
        "  memory_depth_w = len(df_weights_bin)*2\n",
        "  memory_value_type = 'BIN' #Enter BIN, DEC, HEX, OCT, or UNS; #because memory is with (signed/unsigned) bin address"
      ]
    },
    {
      "cell_type": "code",
      "execution_count": null,
      "metadata": {
        "colab": {
          "base_uri": "https://localhost:8080/"
        },
        "id": "rmkIg7WTyGPW",
        "outputId": "0ef9141f-d103-40a2-ca27-05602cb898f2"
      },
      "outputs": [],
      "source": [
        "zeros_memory_w = str(np.zeros(memory_width_weights))\n",
        "zeros_memory_w= zeros_memory_w.replace(\".\", \"\");\n",
        "zeros_memory_w= zeros_memory_w.replace(\"[\", \"\");\n",
        "zeros_memory_w= zeros_memory_w.replace(\"]\", \"\");\n",
        "zeros_memory_w= zeros_memory_w.replace(\" \", \"\");\n",
        "zeros_memory_w"
      ]
    },
    {
      "cell_type": "code",
      "execution_count": null,
      "metadata": {
        "colab": {
          "base_uri": "https://localhost:8080/"
        },
        "id": "kuYQ-pPX0HHm",
        "outputId": "3f3c05b6-50c5-49e9-e797-3595a555b42c"
      },
      "outputs": [],
      "source": [
        "df_weights_bin.head()"
      ]
    },
    {
      "cell_type": "code",
      "execution_count": null,
      "metadata": {
        "id": "TLWnVZCo0s_q"
      },
      "outputs": [],
      "source": [
        "# for col in data.columns:\n",
        "#     print(col)"
      ]
    },
    {
      "cell_type": "code",
      "execution_count": null,
      "metadata": {
        "colab": {
          "base_uri": "https://localhost:8080/"
        },
        "id": "LwTi0QVu1V0Z",
        "outputId": "e110fd8e-0458-4bf7-97ac-6c900c081f26"
      },
      "outputs": [],
      "source": [
        "list(df_weights_bin.columns.values)\n"
      ]
    },
    {
      "cell_type": "code",
      "execution_count": null,
      "metadata": {
        "colab": {
          "base_uri": "https://localhost:8080/"
        },
        "id": "dwT3zBxi0deP",
        "outputId": "5b431b06-959d-461b-8240-52a0481e15a7"
      },
      "outputs": [],
      "source": [
        "str('amanha')"
      ]
    },
    {
      "cell_type": "code",
      "execution_count": null,
      "metadata": {
        "colab": {
          "base_uri": "https://localhost:8080/"
        },
        "id": "Vn-9BhWE4Xtg",
        "outputId": "b012dbcb-632c-4ce5-c531-9fc2483cbaf0"
      },
      "outputs": [],
      "source": [
        "len(df_weights_bin.columns)-1"
      ]
    },
    {
      "cell_type": "code",
      "execution_count": null,
      "metadata": {
        "colab": {
          "base_uri": "https://localhost:8080/"
        },
        "id": "gmrjvRpf0tcf",
        "outputId": "e6744c8a-f08d-4df5-8111-022c6a2ff88d"
      },
      "outputs": [],
      "source": [
        "str(df_weights_bin.iloc[:, :(len(df_weights_bin.columns)-1)].columns)"
      ]
    },
    {
      "cell_type": "code",
      "execution_count": null,
      "metadata": {
        "colab": {
          "base_uri": "https://localhost:8080/"
        },
        "id": "Z49deQSJ1pS_",
        "outputId": "47b5f7d6-381e-43dc-d7df-9f4d2bc22855"
      },
      "outputs": [],
      "source": [
        "df_weights.head()"
      ]
    },
    {
      "cell_type": "code",
      "execution_count": null,
      "metadata": {
        "colab": {
          "base_uri": "https://localhost:8080/"
        },
        "id": "xDm7xEJm5X9o",
        "outputId": "2313bcc0-2a3c-4066-e63b-b9717e080cb3"
      },
      "outputs": [],
      "source": [
        "df_sigmoid['sig_norm'][i]"
      ]
    },
    {
      "cell_type": "code",
      "execution_count": null,
      "metadata": {
        "colab": {
          "base_uri": "https://localhost:8080/"
        },
        "id": "IgwnyNDE5iyh",
        "outputId": "f29c67ab-38d3-49bf-a8e3-e6ef408e77d5"
      },
      "outputs": [],
      "source": [
        "df_weights.iloc[i:i+1, (len(df_weights.columns)-1):].values"
      ]
    },
    {
      "cell_type": "code",
      "execution_count": null,
      "metadata": {
        "colab": {
          "base_uri": "https://localhost:8080/"
        },
        "id": "N3atODjR514A",
        "outputId": "91193733-7beb-476a-da41-054fb43c34af"
      },
      "outputs": [],
      "source": [
        "df_weights.iloc[i:i+1, (len(df_weights.columns)-1):].values"
      ]
    },
    {
      "cell_type": "code",
      "execution_count": null,
      "metadata": {
        "colab": {
          "base_uri": "https://localhost:8080/"
        },
        "id": "oGQPtUHU6aDr",
        "outputId": "ed4766a0-579f-4115-c5cc-1c9931199a05"
      },
      "outputs": [],
      "source": [
        "df_sigmoid_bin.head()"
      ]
    },
    {
      "cell_type": "code",
      "execution_count": null,
      "metadata": {
        "colab": {
          "base_uri": "https://localhost:8080/"
        },
        "id": "_uryC-p8A1yN",
        "outputId": "02bf44f2-3295-4387-ffb7-215b2e875de5"
      },
      "outputs": [],
      "source": [
        "str(i) + ',' + str(i+1) + ',' + str(i+2) + ',' + str(i+3)"
      ]
    },
    {
      "cell_type": "code",
      "execution_count": null,
      "metadata": {
        "colab": {
          "base_uri": "https://localhost:8080/"
        },
        "id": "dyzQGpUmBl6x",
        "outputId": "f282ae9b-dabe-41d8-c084-b17a64f81472"
      },
      "outputs": [],
      "source": [
        "j= 0\n",
        "i=0\n",
        "w_index_text = str('')\n",
        "\n",
        "for j in range(0, len(df_weights_bin.columns)-1):\n",
        "  w_index_text = w_index_text + str(j+(i*len(df_weights_bin.columns))) \n",
        "\n",
        "  if (j < len(df_weights_bin.columns)-2):\n",
        "    w_index_text = w_index_text + ','\n",
        "\n",
        "print(w_index_text)"
      ]
    },
    {
      "cell_type": "code",
      "execution_count": null,
      "metadata": {
        "id": "ZVt3HdGvBWXC"
      },
      "outputs": [],
      "source": [
        "# str('camada ') + str(i) + ' ||' + "
      ]
    },
    {
      "cell_type": "code",
      "execution_count": null,
      "metadata": {
        "colab": {
          "base_uri": "https://localhost:8080/"
        },
        "id": "82y3tmn7CD5t",
        "outputId": "242f23af-8196-4827-e6ee-670986c0afab"
      },
      "outputs": [],
      "source": [
        "len(df_sigmoid_bin)"
      ]
    },
    {
      "cell_type": "code",
      "execution_count": null,
      "metadata": {
        "id": "OglWoGqb0jYj"
      },
      "outputs": [],
      "source": [
        "# #colocando na memória com o Index\n",
        "# i= 0\n",
        "# text_w = str('')\n",
        "# text_zeros_w = str('')\n",
        "# w_index_text = str('')\n",
        "\n",
        "# w_cols = str(df_weights_bin.iloc[:, :(len(df_weights_bin.columns)-1)].columns)\n",
        "# bias_col = str(df_weights_bin.iloc[:, (len(df_weights_bin.columns)-1):].columns)\n",
        "\n",
        "# #define se o endereço será com 'n' ou 'address'\n",
        "# memory_address_type = 0\n",
        "# if (memory_address_type == 0): # 0= int(n)\n",
        "#   for i in range(1, len(df_weights_bin)): #caso seja por 'n'\n",
        "#     for j in range(0, len(df_weights_bin.columns)):\n",
        "#       if (j == 0):\n",
        "#         w_index_text = str('')\n",
        "      \n",
        "#       else:\n",
        "#         w_index_text = w_index_text + str(j+((i-1)*(len(df_weights_bin.columns)-1))) \n",
        "\n",
        "#         if (j < len(df_weights_bin.columns)-1):\n",
        "#           w_index_text = w_index_text + ','\n",
        "\n",
        "#       # if (j == len(df_weights_bin)):\n",
        "#       #   w_index_text = w_index\n",
        "#       #   w_index = str('')\n",
        "\n",
        "#     text_w = (text_w+''+ str(df_weights_bin.index[i]) + ':' + str(df_sigmoid_bin['sigmoid_bin'][i])+  ';-- '+str('camada ')+str(i)+ '; w('+ w_index_text+')' ':'+ str(df_weights.iloc[i:i+1,:1].values )+' || '+'\\n')\n",
        "    \n",
        "# else: #1= float(address)\n",
        "#   for i in range(1, len(df_weights_bin)):\n",
        "#     text_w = (text_w+''+ \n",
        "#               str(df_sigmoid_bin['address_bin'][i]) + ':' +str(df_sigmoid_bin['sigmoid_bin'][i])+ \n",
        "#               ';-- '+str(offset_df_memory +df_sigmoid_first+(i*dx_sigmoid*mult_factor))+' || '+str(df_sigmoid['sig_norm'][i]) +'\\n')\n",
        "#     # text_zeros_w = (text_zeros_w+''+ str(df_sigmoid_bin['address_zeros'][i]) + ':' +zeros_memory+  ';-- '+str(df_sigmoid['n_zeros'][i])+' || zero \\n')"
      ]
    },
    {
      "cell_type": "code",
      "execution_count": null,
      "metadata": {
        "id": "iGhdIg6iG6tG"
      },
      "outputs": [],
      "source": [
        "# +str(bias_col + df_weights.iloc[i:i+1, (len(df_weights.columns)-1):].values) "
      ]
    },
    {
      "cell_type": "code",
      "execution_count": null,
      "metadata": {
        "id": "NuxipIqGyEmy"
      },
      "outputs": [],
      "source": [
        "#colocando na memória com o Index\n",
        "i= 0\n",
        "text_w = str('')\n",
        "text_zeros_w = str('')\n",
        "\n",
        "#define se o endereço será com 'n' ou 'address'\n",
        "\n",
        "if (memory_address_type == 0): # 0= int(n)\n",
        "  for i in range(1, len(df_sigmoid_bin)): #caso seja por 'n'\n",
        "    text_w = (text_w+''+ str(df_sigmoid_bin.index[i]) + ':' + str(df_sigmoid_bin['sigmoid_bin'][i])+  ';-- '+str(offset_df_memory +df_sigmoid_first+(i*dx_sigmoid*mult_factor))+' || '+str(df_sigmoid['sig_norm'][i]) +'\\n')\n",
        "    \n",
        "else: #1= float(address)\n",
        "  for i in range(1, len(df_sigmoid_bin)):\n",
        "    text_w = (text_w+''+ str(df_sigmoid_bin['address_bin'][i]) + ':' +str(df_sigmoid_bin['sigmoid_bin'][i])+  ';-- '+str(offset_df_memory +df_sigmoid_first+(i*dx_sigmoid*mult_factor))+' || '+str(df_sigmoid['sig_norm'][i]) +'\\n')\n",
        "    # text_zeros_w = (text_zeros_w+''+ str(df_sigmoid_bin['address_zeros'][i]) + ':' +zeros_memory+  ';-- '+str(df_sigmoid['n_zeros'][i])+' || zero \\n')"
      ]
    },
    {
      "cell_type": "code",
      "execution_count": null,
      "metadata": {
        "colab": {
          "base_uri": "https://localhost:8080/"
        },
        "id": "-RcTbtT-Owgt",
        "outputId": "2982c455-5273-456f-ecf0-a5002c9eca38"
      },
      "outputs": [],
      "source": [
        "print(text_w)"
      ]
    },
    {
      "cell_type": "code",
      "execution_count": null,
      "metadata": {
        "id": "obcoj2GzyRNv"
      },
      "outputs": [],
      "source": [
        "if (mem_zeros == 0): # 0= memória sem os zeros\n",
        "  text_zeros = str('')"
      ]
    },
    {
      "cell_type": "code",
      "execution_count": null,
      "metadata": {
        "id": "UUaxVM24yUHe"
      },
      "outputs": [],
      "source": [
        "#https://stackoverflow.com/questions/19751148/quartus-initializing-ram\n",
        "#https://stackoverflow.com/questions/10660435/pythonic-way-to-create-a-long-multi-line-string\n",
        "#https://www.youtube.com/redirect?event=video_description&redir_token=QUFFLUhqbG1UYnpNQjBVempjaUVSa1FTb01hZWZhYS13Z3xBQ3Jtc0ttQ3dlblVRN0tXN2ZtUE9fZlE0TjZKMU1Icjh0Z01GT1Zmc25ucjdYcktEY2pJX0swNU9XdHdQUVBmYnVvZHBidE1uR1FOUkVtSDkxUmdudkQ1TmliV09jR1JNMkgtUTIzQ0dpMk1XTTcweEZUa0Jubw&q=https%3A%2F%2Fwww.mil.ufl.edu%2F4712%2Fdocs%2Fmif_help.pdf\n",
        "\n",
        "rom_text_init = ('\\n'\n",
        "'DEPTH='+str(memory_depth)+';\\n'\n",
        "'WIDTH='+str(memory_width)+';\\n'\n",
        "'ADDRESS_RADIX='+(memory_value_type)+';\\n' #because memory is with (signed/unsigned) bin address\n",
        "# 'DATA_RADIX='+(memory_value_type)+';\\n' #because data is bin type\n",
        "'DATA_RADIX=BIN;\\n' #because data is bin type\n",
        "'\\n'\n",
        "'CONTENT BEGIN\\n'\n",
        "# '[0.. 01111000] : 00000000;--menor que 120\\n' #value = 0\n",
        "# '[10001000.. 11111111] : 11111111; --maior que 136\\n' #value = max(8bits) = 255\n",
        "\n",
        "\n",
        "''+text+'\\n'\n",
        "''+text_zeros+'\\n'\n",
        "'10000000000:00000000000; \\n'\n",
        "'END;\\n'\n",
        "'')"
      ]
    },
    {
      "cell_type": "code",
      "execution_count": null,
      "metadata": {
        "id": "-_UjezBJK8_V"
      },
      "outputs": [],
      "source": [
        "# print(text)"
      ]
    },
    {
      "cell_type": "code",
      "execution_count": null,
      "metadata": {
        "id": "qMRq7rnOyXY8"
      },
      "outputs": [],
      "source": [
        "text_file = open(\"weights.txt\", \"w\")\n",
        "text_file.write(text_w)\n",
        "text_file.close()"
      ]
    },
    {
      "cell_type": "code",
      "execution_count": null,
      "metadata": {
        "id": "A6M7ctSByb70"
      },
      "outputs": [],
      "source": [
        "text_file = open(\"rom_text_init.mif\", \"w\")\n",
        "text_file.write(rom_text_init)\n",
        "text_file.close()"
      ]
    },
    {
      "cell_type": "markdown",
      "metadata": {
        "id": "iGR5J3cM8WIN"
      },
      "source": [
        "# df_y_int_bin"
      ]
    },
    {
      "cell_type": "code",
      "execution_count": null,
      "metadata": {
        "id": "_GTug2tCdgQT"
      },
      "outputs": [],
      "source": [
        "# # OUTPUT REFERENCE\n",
        "# df_y_int_bin = pd.DataFrame()\n",
        "\n",
        "# ## verification\n",
        "# df_y_int_bin['sum_value'] = (df_sigmoid['n'][123:137])\n",
        "# df_y_int_bin['sum_value_bin'] = (df_sigmoid['n'][123:137].apply(lambda x: int_to_bin(x ,n_bits)))\n",
        "\n",
        "# # df_sum['n'] = (df_sigmoid['n'][123:137].apply(lambda x: int_to_bin(x ,n_bits)))\n",
        "\n",
        "# df_y_int_bin['y_int'] = (df_sigmoid['y_int'][123:137].apply(lambda x: int_to_bin(x ,n_bits)))\n",
        "# df_y_int_bin"
      ]
    },
    {
      "cell_type": "code",
      "execution_count": null,
      "metadata": {
        "id": "nO_b_1nhdS9B"
      },
      "outputs": [],
      "source": [
        "# df_sigmoid"
      ]
    },
    {
      "cell_type": "code",
      "execution_count": null,
      "metadata": {
        "colab": {
          "base_uri": "https://localhost:8080/"
        },
        "id": "HWQia4EYC1I6",
        "outputId": "ae240629-70d8-4eb1-804b-15ed5951f27a"
      },
      "outputs": [],
      "source": [
        "df_inputs"
      ]
    },
    {
      "cell_type": "code",
      "execution_count": null,
      "metadata": {
        "colab": {
          "base_uri": "https://localhost:8080/"
        },
        "id": "k8JqGWMj6MYi",
        "outputId": "c39ee398-388f-4eaa-9230-c949d01e89be"
      },
      "outputs": [],
      "source": [
        "# OUTPUT REFERENCE\n",
        "df_y = pd.DataFrame()\n",
        "\n",
        "## verification\n",
        "df_y['sum'] = (df_inputs['sum'])\n",
        "df_y['sigmoid'] = (df_inputs['sigmoid'])\n",
        "\n",
        "df_y['sum_bin'] = (df_inputs['sum'].apply(lambda x: float_to_binary(x, m_bin, n_bin,is_signed)))\n",
        "df_y['sigmoid_bin'] = (df_inputs['sigmoid'].apply(lambda x: float_to_binary(x, m_bin, n_bin,is_signed)))\n",
        "\n",
        "# df_sum['n'] = (df_sigmoid['n'][123:137].apply(lambda x: int_to_bin(x ,n_bits)))\n",
        "\n",
        "# df_y_int_bin['y'] = (df_inputs['y'])\n",
        "# df_y_int_bin['y_bin'] = (df_inputs['y'].apply(lambda x: float_to_binary(x, m_bin, n_bin)))\n",
        "df_y"
      ]
    },
    {
      "cell_type": "code",
      "execution_count": null,
      "metadata": {
        "id": "axyjc3dUkZQw"
      },
      "outputs": [],
      "source": [
        "df_y['sigmoid_bin'].replace(\n",
        "    to_replace=['100000000'],\n",
        "    value='11111111',\n",
        "    inplace=True)"
      ]
    },
    {
      "cell_type": "code",
      "execution_count": null,
      "metadata": {
        "colab": {
          "base_uri": "https://localhost:8080/"
        },
        "id": "HaHBIYINkyAM",
        "outputId": "4575d8b7-ab54-46af-db18-cb66376124a9"
      },
      "outputs": [],
      "source": [
        "df_y['sum_bin'].replace(\n",
        "    to_replace=['100000000'],\n",
        "    value='11111111',\n",
        "    inplace=True)\n",
        "df_y"
      ]
    },
    {
      "cell_type": "code",
      "execution_count": null,
      "metadata": {
        "colab": {
          "base_uri": "https://localhost:8080/"
        },
        "id": "fAJxSTl5q-Jz",
        "outputId": "23e47d64-eeca-4aa2-9671-5e72baa043e6"
      },
      "outputs": [],
      "source": [
        "pd.set_option('max_rows', 999)\n",
        "pd.set_option('max_colwidth', 20)\n",
        "pd.describe_option('max_colwidth')"
      ]
    },
    {
      "cell_type": "code",
      "execution_count": null,
      "metadata": {
        "colab": {
          "base_uri": "https://localhost:8080/"
        },
        "id": "uKauiOwfq6GR",
        "outputId": "ee7c7713-af6d-40a8-a66d-110c4a7443ec"
      },
      "outputs": [],
      "source": [
        "df_y"
      ]
    },
    {
      "cell_type": "code",
      "execution_count": null,
      "metadata": {
        "id": "kBDUPVWf6EIw"
      },
      "outputs": [],
      "source": [
        "# # OUTPUT REFERENCE\n",
        "# df_y_int_bin = pd.DataFrame()\n",
        "\n",
        "# ## verification\n",
        "# df_y_int_bin['sum'] = (df_inputs['sum'])\n",
        "# df_y_int_bin['sum_bin'] = (df_inputs['sum'].apply(lambda x: int_to_bin(x ,n_bits)))\n",
        "\n",
        "# # df_sum['n'] = (df_sigmoid['n'][123:137].apply(lambda x: int_to_bin(x ,n_bits)))\n",
        "\n",
        "# df_y_int_bin['y'] = (df_inputs['y'])\n",
        "# df_y_int_bin['y_bin'] = (df_inputs['y'].apply(lambda x: int_to_bin(x ,n_bits)))\n",
        "# df_y_int_bin"
      ]
    },
    {
      "cell_type": "code",
      "execution_count": null,
      "metadata": {
        "id": "gQnU4PlpQKhB"
      },
      "outputs": [],
      "source": [
        "# sig_sel = [(1/(1+(exp(-1*(element))))) for element in sigmoid_dx_list]"
      ]
    },
    {
      "cell_type": "code",
      "execution_count": null,
      "metadata": {
        "id": "t7AY4CbvEj_O"
      },
      "outputs": [],
      "source": [
        "# df_sigmoid['y_int'][123:137]"
      ]
    },
    {
      "cell_type": "code",
      "execution_count": null,
      "metadata": {
        "id": "I3QszxEf7f18"
      },
      "outputs": [],
      "source": [
        "# df_y_int_bin"
      ]
    },
    {
      "cell_type": "code",
      "execution_count": null,
      "metadata": {
        "id": "gKkFP1UddOfQ"
      },
      "outputs": [],
      "source": [
        "# # plt.plot( 'n', 'sig_int', data=df_sigmoid[121:150])\n",
        "# # plt.plot( 'n', 'sigmoid', data=df_sigmoid[121:150])\n",
        "# # plt.plot( 'n', 'sig_int', data=df_sigmoid) #como será com 8 bits truncando\n",
        "# # plt.plot( 'n', 'sig_norm_int', data=df_sigmoid) #8 bits * 256\n",
        "# # plt.plot( 'n', 'sig_norm_int', data=df_sigmoid[121:136])\n",
        "# # plt.plot( 'n', 'sig_norm_int', data=df_sigmoid)\n",
        "\n",
        "# plt.plot( 'n', 'y', data=df_sigmoid[123:137])\n",
        "# plt.plot( 'n', 'y_int', data=df_sigmoid[123:137])\n"
      ]
    },
    {
      "cell_type": "code",
      "execution_count": null,
      "metadata": {
        "id": "IQVLSV1ZOQgY"
      },
      "outputs": [],
      "source": [
        "# y_list = [(1/(1+(exp(-1*(element))))) for element in sigmoid_dx]\n",
        "\n",
        "# if ((element in testes_x1 >= -6) or (element in testes_x1 <= 6))\n",
        "#   y_list = []\n"
      ]
    },
    {
      "cell_type": "code",
      "execution_count": null,
      "metadata": {
        "id": "wIPFFFvQza4l"
      },
      "outputs": [],
      "source": [
        "# pd.DataFrame(np.linspace(-12,12,256))"
      ]
    },
    {
      "cell_type": "code",
      "execution_count": null,
      "metadata": {
        "id": "S68RIcKz2Uzl"
      },
      "outputs": [],
      "source": [
        "import itertools"
      ]
    },
    {
      "cell_type": "code",
      "execution_count": null,
      "metadata": {
        "id": "mDrYrSwRxoB1"
      },
      "outputs": [],
      "source": [
        "# DataFrames:\n",
        "# Inputs: df_inputs_bin\n",
        "# Sum_reference: df_sum\n",
        "# Outputs : df_y_int_bin\n",
        "# Sigmoid[-7:7]: df_sigmoid_bin"
      ]
    },
    {
      "cell_type": "code",
      "execution_count": null,
      "metadata": {
        "id": "onodWdp27DW6"
      },
      "outputs": [],
      "source": [
        "# df_inputs_bin.drop(['sum'], axis=1)\n",
        "# df.drop(['B', 'C'], axis=1)"
      ]
    },
    {
      "cell_type": "code",
      "execution_count": null,
      "metadata": {
        "colab": {
          "base_uri": "https://localhost:8080/"
        },
        "id": "kEilly6GlSYX",
        "outputId": "68021ebd-2c69-4992-f0c4-82476ea94109"
      },
      "outputs": [],
      "source": [
        "df_y_bin = pd.DataFrame()\n",
        "df_y_bin = df_y\n",
        "df_y_bin= df_y_bin.drop(['sum'], axis=1) # tira coluna sum\n",
        "df_y_bin= df_y_bin.drop(['sigmoid'], axis=1) # tira coluna sum_bin\n",
        "df_y_bin.head()"
      ]
    },
    {
      "cell_type": "code",
      "execution_count": null,
      "metadata": {
        "id": "xVA3o4SSTyIk"
      },
      "outputs": [],
      "source": [
        "#remover caractere '-'\n",
        "df_y_bin = df_y_bin.apply(lambda x: x.str.replace('-',''))\n",
        "\n",
        "#adicionar um digito '1' nos valores negativos binários devido a falha da função\n",
        "for i in range(0, (int(len(df_y_bin)/2))):\n",
        "    df_y_bin.iloc[i:(i+1)]= '1' + df_y_bin.iloc[i:(i+1)]\n",
        "\n",
        "#tirar linhas que contém valores binários com mais bits que o permitido\n",
        "df_y_bin.drop(df_y_bin.tail(1).index,inplace=True) # drop last n rows\n",
        "df_y_bin.drop(df_y_bin.head(1).index,inplace=True) # drop first n rows   "
      ]
    },
    {
      "cell_type": "code",
      "execution_count": null,
      "metadata": {
        "colab": {
          "base_uri": "https://localhost:8080/"
        },
        "id": "5_Pfj8VYT_J3",
        "outputId": "55ea114c-da91-4a57-ae95-42c5154240e3"
      },
      "outputs": [],
      "source": [
        "df_y_bin"
      ]
    },
    {
      "cell_type": "markdown",
      "metadata": {
        "id": "UdSdJqFT2OL9"
      },
      "source": [
        "# Gravando na Memória"
      ]
    },
    {
      "cell_type": "code",
      "execution_count": null,
      "metadata": {
        "id": "vouQGpq6HUz_"
      },
      "outputs": [],
      "source": [
        "# df.drop(df.tail(n).index,inplace=True) # drop last n rows\n",
        "# df_inputs_bin.drop(df_inputs_bin.tail(1).index,inplace=True) # drop last n rows\n",
        "# df_inputs_bin"
      ]
    },
    {
      "cell_type": "code",
      "execution_count": null,
      "metadata": {
        "id": "pnZ-gsydx1HW"
      },
      "outputs": [],
      "source": [
        "#INPUTS -> TEXT\n",
        "# df_inputs_bin= df_inputs_bin.drop(['sum'],axis=1) #delete colum 'sum'\n",
        "np.savetxt(r'c:\\data\\df_inputs_bin_'+str(n_bits)+'bit_'+str(num_inputs)+'.txt', df_inputs_bin.drop(['sum','sigmoid_bin'], axis=1).values, fmt='%s')\n",
        "# df.to_csv(r'c:\\data\\pandas.txt', header=None, index=None, sep=' ', mode='a')"
      ]
    },
    {
      "cell_type": "code",
      "execution_count": null,
      "metadata": {
        "id": "rctiz5qPF8JC"
      },
      "outputs": [],
      "source": [
        "# df_inputs.head()"
      ]
    },
    {
      "cell_type": "code",
      "execution_count": null,
      "metadata": {
        "id": "dv68_0ZNzXfO"
      },
      "outputs": [],
      "source": [
        "#OUTPUTS -> TEXT\n",
        "np.savetxt(r'c:\\data\\df_y_'+str(n_bits)+'bit_'+str(num_inputs)+'.txt', df_y.values, fmt='%s')\n",
        "np.savetxt(r'c:\\data\\df_y_bin_'+str(n_bits)+'bit_'+str(num_inputs)+'.txt', df_y_bin.values, fmt='%s')"
      ]
    },
    {
      "cell_type": "code",
      "execution_count": null,
      "metadata": {
        "id": "qc4nHNrfHYQQ"
      },
      "outputs": [],
      "source": [
        "# df_y_int_bin.head()\n",
        "# df_y_int_bin"
      ]
    },
    {
      "cell_type": "code",
      "execution_count": null,
      "metadata": {
        "colab": {
          "base_uri": "https://localhost:8080/",
          "height": 200
        },
        "id": "V8S6n3HfY1Se",
        "outputId": "f9888441-f364-4721-d82a-d353b2d21a37"
      },
      "outputs": [],
      "source": [
        "df_sigmoid_bin.head()"
      ]
    },
    {
      "cell_type": "code",
      "execution_count": null,
      "metadata": {
        "colab": {
          "base_uri": "https://localhost:8080/",
          "height": 361
        },
        "id": "-psqWy8hzixh",
        "outputId": "013a1257-84df-43a6-ba5a-732823d3d754"
      },
      "outputs": [],
      "source": [
        "df_sigmoid_bin= df_sigmoid_bin.drop(['address'], axis=1) # tira coluna sum\n",
        "df_sigmoid_bin= df_sigmoid_bin.drop(['sigmoid'], axis=1) # tira coluna sum"
      ]
    },
    {
      "cell_type": "code",
      "execution_count": null,
      "metadata": {
        "id": "rHISxngqVWpH"
      },
      "outputs": [],
      "source": [
        "df_sigmoid_bin.head()"
      ]
    },
    {
      "cell_type": "code",
      "execution_count": null,
      "metadata": {
        "id": "spYDiYvzTvNE"
      },
      "outputs": [],
      "source": [
        "# memory_address_type # 1 = float(address) ; 0= int(n)\n",
        "df_sigmoid_bin_to_txt = pd.DataFrame()\n",
        "\n",
        "if (memory_address_type == 0): # 0 = int(n)\n",
        "\n",
        "  df_sigmoid_bin_to_txt['n'] = np.linspace(0,(len(df_sigmoid_bin)-1),len(df_sigmoid_bin))\n",
        "  df_sigmoid_bin_to_txt['n_bin'] = (df_sigmoid_bin_to_txt['n'].apply(lambda x: float_to_binary(x ,m_bin,n_bin,is_signed))) #n para binário\n",
        "  # df_sigmoid_bin_to_txt['sig_norm_int'] = df_sigmoid_bin['sig_norm_int'] #sigmoid\n",
        "  df_sigmoid_bin_to_txt.drop('n',axis=1, inplace= True) #tira n não binário\n",
        "\n",
        "\n",
        "else: #1 = float(address)\n",
        "  df_sigmoid_bin_to_txt = df_sigmoid_bin\n",
        "  # df_sigmoid_bin_to_txt.drop('address',axis=1, inplace= True)\n",
        "  # df_sigmoid_bin_to_txt.drop('sig_norm_int_ver',axis=1, inplace= True)\n",
        "\n",
        "df_sigmoid_bin_to_txt.head()"
      ]
    },
    {
      "cell_type": "code",
      "execution_count": null,
      "metadata": {
        "id": "IbEZBJ3wasE_"
      },
      "outputs": [],
      "source": [
        "# df_ver_address = pd.DataFrame()\n",
        "# df_ver_address = df_sigmoid_bin_to_txt\n",
        "# df_ver_address['address'] = df_ver_address['address_bin'].apply(lambda x: binary_to_float(x ,m_bin,n_bin))\n",
        "# df_ver_address.head()"
      ]
    },
    {
      "cell_type": "code",
      "execution_count": null,
      "metadata": {
        "id": "-6Qiv-QdZ6km"
      },
      "outputs": [],
      "source": [
        "# df_sigmoid_bin_to_txt.drop('n',axis=1)"
      ]
    },
    {
      "cell_type": "code",
      "execution_count": null,
      "metadata": {
        "id": "RPkjyzjpWOK1"
      },
      "outputs": [],
      "source": [
        "df_sigmoid_bin.head()"
      ]
    },
    {
      "cell_type": "code",
      "execution_count": null,
      "metadata": {
        "id": "PbC9ZNNhVbNs"
      },
      "outputs": [],
      "source": [
        "# float_to_binary(x, m_bin, n_bin)"
      ]
    },
    {
      "cell_type": "code",
      "execution_count": null,
      "metadata": {
        "id": "Gn-qCdAS6h7S"
      },
      "outputs": [],
      "source": [
        "#SIGMOID -> MEMORY TXT\n",
        "np.savetxt(r'c:\\data\\df_sigmoid_bin_'+str(n_bits)+'bit_'+str(num_inputs)+'.txt', df_sigmoid_bin_to_txt.values, fmt='%s')"
      ]
    },
    {
      "cell_type": "code",
      "execution_count": null,
      "metadata": {
        "id": "7kE5aWGzxbeE"
      },
      "outputs": [],
      "source": [
        "# print(f'{bin_a} {bin_b}', file = input_f)"
      ]
    },
    {
      "cell_type": "code",
      "execution_count": null,
      "metadata": {
        "id": "u1S7sTpt4qy6"
      },
      "outputs": [],
      "source": []
    },
    {
      "cell_type": "markdown",
      "metadata": {
        "id": "C9MmnCguNk5J"
      },
      "source": [
        "# CSV"
      ]
    },
    {
      "cell_type": "code",
      "execution_count": null,
      "metadata": {
        "id": "YKxBsDsYzM5l"
      },
      "outputs": [],
      "source": [
        "# from google.colab import drive \n",
        "# drive.mount('/content/gdrive')\n",
        "# df_tb=pd.read_csv('gdrive/My Drive/saidas_tb_'+str(num_inputs)+'.txt')\n",
        "# df_tb.columns = ['sigmoid_bin']\n",
        "# df_tb['n'] = df_tb.index\n",
        "# df_tb['sigmoid'] = df_tb['sigmoid_bin'].apply(lambda x: binary_to_float(str(x) ,m_bin,n_bin_sigmoid,is_sigmoid_signed))"
      ]
    },
    {
      "cell_type": "code",
      "execution_count": null,
      "metadata": {
        "id": "HooUF0cS0yVA"
      },
      "outputs": [],
      "source": [
        "# plt.plot('n','sigmoid', drawstyle=\"steps\", linewidth=2, data=df_tb, color ='orange')"
      ]
    },
    {
      "cell_type": "code",
      "execution_count": null,
      "metadata": {
        "id": "HfGioZCqU8RK"
      },
      "outputs": [],
      "source": [
        "# df.to_csv('/drive/My Drive/folder_name/name_csv_file.csv')"
      ]
    },
    {
      "cell_type": "code",
      "execution_count": null,
      "metadata": {
        "id": "90xKPk8oQCyb"
      },
      "outputs": [],
      "source": [
        "# drive.flush_and_unmount(timeout_ms=1)"
      ]
    },
    {
      "cell_type": "code",
      "execution_count": null,
      "metadata": {
        "id": "gd_7ikWLQHDo"
      },
      "outputs": [],
      "source": [
        "# df_inputs.head()"
      ]
    },
    {
      "cell_type": "code",
      "execution_count": null,
      "metadata": {
        "id": "S3ejZp-1Lfz4"
      },
      "outputs": [],
      "source": [
        "df_inputs_junto = df_inputs\n",
        "df_inputs_junto = pd.concat([df_inputs,df_inputs_bin], axis =1 )\n",
        "# df_inputs_junto"
      ]
    },
    {
      "cell_type": "code",
      "execution_count": null,
      "metadata": {
        "id": "Uin5u63GY98E"
      },
      "outputs": [],
      "source": [
        "df_inputs_junto.head()"
      ]
    },
    {
      "cell_type": "code",
      "execution_count": null,
      "metadata": {
        "id": "Ig3bQZ3-N2HY"
      },
      "outputs": [],
      "source": [
        "# #INPUTS\n",
        "# df_inputs_junto.to_excel(\"df_inputs_junto_\"+str(n_bits)+'bit_'+str(num_inputs)+\".xlsx\")\n",
        "# # files.download('df_inputs_junto.xlsx')\n",
        "\n",
        "# # df_inputs_junto.to_csv('df_inputs_junto.csv')\n",
        "# # #INPUTS_BIN\n",
        "# # df_inputs_bin.to_csv('df_inputs_bin.csv')\n",
        "# # files.download('df_inputs_bin.csv')"
      ]
    },
    {
      "cell_type": "code",
      "execution_count": null,
      "metadata": {
        "id": "1o-isNuG_dEh"
      },
      "outputs": [],
      "source": [
        "# #SIGMOID\n",
        "# df_sigmoid.to_csv('df_sigmoid.csv')\n",
        "# files.download('df_sigmoid.csv')\n",
        "# #SIGMOID_BIN\n",
        "# df_sigmoid_bin.to_csv('df_sigmoid_bin.csv')\n",
        "# files.download('df_sigmoid_bin.csv')"
      ]
    },
    {
      "cell_type": "code",
      "execution_count": null,
      "metadata": {
        "id": "0qshA36D3fgf"
      },
      "outputs": [],
      "source": [
        "# num_inputs = 20 "
      ]
    },
    {
      "cell_type": "code",
      "execution_count": null,
      "metadata": {
        "id": "jS_5GXv7f-Pz"
      },
      "outputs": [],
      "source": [
        "# df_tb['sigmoid'] = sigmoid_conv"
      ]
    },
    {
      "cell_type": "code",
      "execution_count": null,
      "metadata": {
        "id": "VI1dPEPLgAHa"
      },
      "outputs": [],
      "source": [
        "# df_tb"
      ]
    },
    {
      "cell_type": "code",
      "execution_count": null,
      "metadata": {
        "id": "dKyvB2NZD9mz"
      },
      "outputs": [],
      "source": [
        "# df_tb.drop(df_tb.tail(164).index,inplace=True) # drop last n rows"
      ]
    },
    {
      "cell_type": "code",
      "execution_count": null,
      "metadata": {
        "id": "jMwsxmM_DzMP"
      },
      "outputs": [],
      "source": [
        "# df_tb"
      ]
    },
    {
      "cell_type": "code",
      "execution_count": null,
      "metadata": {
        "id": "UXomacTZYUcD"
      },
      "outputs": [],
      "source": [
        "# df_sigmoid"
      ]
    },
    {
      "cell_type": "code",
      "execution_count": null,
      "metadata": {
        "id": "_khJJ_X-Pl1C"
      },
      "outputs": [],
      "source": [
        "# plt.plot('n','sig_norm', drawstyle=\"steps\", linewidth=2, data=df_sigmoid, color ='orange')\n"
      ]
    },
    {
      "cell_type": "code",
      "execution_count": null,
      "metadata": {
        "id": "0cG44wR_4qGx"
      },
      "outputs": [],
      "source": [
        "# df_tb.loc[[8]]"
      ]
    },
    {
      "cell_type": "code",
      "execution_count": null,
      "metadata": {
        "id": "o_36ZRRY-Ylc"
      },
      "outputs": [],
      "source": [
        "# kx = \"00010100\""
      ]
    },
    {
      "cell_type": "code",
      "execution_count": null,
      "metadata": {
        "id": "8nQK2w9s3esX"
      },
      "outputs": [],
      "source": [
        "# df_tb.to_csv('df_tb.csv')\n",
        "# files.download('df_tb.csv')"
      ]
    },
    {
      "cell_type": "code",
      "execution_count": null,
      "metadata": {
        "id": "M98iHlCZOh5-"
      },
      "outputs": [],
      "source": [
        "# df_inputs_bin.to_csv('df_inputs_bin.csv')\n",
        "# files.download('df_inputs_bin.csv')"
      ]
    },
    {
      "cell_type": "code",
      "execution_count": null,
      "metadata": {
        "id": "N6oarevSQysY"
      },
      "outputs": [],
      "source": [
        "# df_sigmoid"
      ]
    },
    {
      "cell_type": "markdown",
      "metadata": {
        "id": "v9lTLNh69SJR"
      },
      "source": [
        "# Files Download"
      ]
    },
    {
      "cell_type": "code",
      "execution_count": null,
      "metadata": {
        "id": "pp_k1N5z9Vkz"
      },
      "outputs": [],
      "source": [
        "# download_files = 1"
      ]
    },
    {
      "cell_type": "code",
      "execution_count": null,
      "metadata": {
        "id": "La1DdS9J9Uxv"
      },
      "outputs": [],
      "source": [
        "from google.colab import files\n",
        "\n",
        "if(download_files == 1):\n",
        "    files.download('c:\\data\\df_inputs_bin_'+str(n_bits)+'bit_'+str(num_inputs)+'.txt')     #inputs em binário para testbench\n",
        "    files.download('c:\\data\\df_sigmoid_bin_'+str(n_bits)+'bit_'+str(num_inputs)+'.txt')    #sigmoid binário\n",
        "    files.download('c:\\data\\df_y_'+str(n_bits)+'bit_'+str(num_inputs)+'.txt')              #saídas float para comparar com resultados testbench\n",
        "    files.download('c:\\data\\df_y_bin_'+str(n_bits)+'bit_'+str(num_inputs)+'.txt')          #saídas binário para comparação com resultados testbench\n",
        "    # files.download('df_inputs_junto_'+str(n_bits)+'bit_'+str(num_inputs)+'.xlsx')          #inputs testbench arquivo excel\n",
        "    \n",
        "    # #os dados da memória sempre são os mesmos, então não é necessário baixar e atualizá-lo toda vez que gerar novos arquivos de inputs, weights, etc..\n",
        "    # files.download('rom_text_init.txt')     #inicialização da memória em texto\n",
        "    # files.download('rom_text_init.mif')     #arquivo de inicialização da memória\n"
      ]
    },
    {
      "cell_type": "code",
      "execution_count": null,
      "metadata": {
        "id": "x78vilWBPoA4"
      },
      "outputs": [],
      "source": [
        "# files.download('rom_text_init.txt')     #inicialização da memória em texto\n",
        "# files.download('rom_text_init.mif')     #arquivo de inicialização da memória"
      ]
    }
  ],
  "metadata": {
    "colab": {
      "collapsed_sections": [
        "k5R2sJDsIA90",
        "3uxcOGcZsQkh",
        "cOvAVhOIiEg4",
        "by814T6PsI5F",
        "v59tWzKgZrP3",
        "nDMzRqao8Kc6",
        "bQ_wd34HZxyi",
        "-WRpEacS8PrJ",
        "cR4g-SeYCd1r",
        "B0kcjaEA66wY",
        "kd3JEz6fTMLR",
        "GzHMi45uTiU2",
        "OZlN915x8TnV",
        "pU-fmBvyGEtc",
        "_zsnbNkIxwul",
        "iGR5J3cM8WIN",
        "C9MmnCguNk5J",
        "v9lTLNh69SJR"
      ],
      "name": "Perceptron I/O (weights on memory) maker.ipynb",
      "provenance": []
    },
    "kernelspec": {
      "display_name": "Python 3",
      "language": "python",
      "name": "python3"
    },
    "language_info": {
      "codemirror_mode": {
        "name": "ipython",
        "version": 3
      },
      "file_extension": ".py",
      "mimetype": "text/x-python",
      "name": "python",
      "nbconvert_exporter": "python",
      "pygments_lexer": "ipython3",
      "version": "3.9.5"
    },
    "vscode": {
      "interpreter": {
        "hash": "d1b75f63a51ab1e44c10e89cf3b718812d9c5e2447d39cb402b946ba7653bfcd"
      }
    }
  },
  "nbformat": 4,
  "nbformat_minor": 0
}

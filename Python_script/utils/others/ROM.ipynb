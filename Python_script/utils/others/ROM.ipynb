{
 "cells": [
  {
   "cell_type": "code",
   "execution_count": 1,
   "metadata": {},
   "outputs": [],
   "source": [
    "import pandas as pd\n",
    "import numpy as np\n",
    "# from google.colab import files"
   ]
  },
  {
   "cell_type": "code",
   "execution_count": 2,
   "metadata": {},
   "outputs": [],
   "source": [
    "#defining bias and input values\n",
    "n_bits = int(8)\n",
    "n_bits_input = n_bits\n",
    "num_inputs = 4           \n",
    "is_signed = 1           #1= signed || 0= unsigned\n",
    "is_sigmoid_signed = 1   #1= signed || 0= unsigned\n",
    "weights_on_memory = 1   #1: on memory || 0: weights = inputs\n",
    "\n",
    "m_bin = 0 # 'm' binary digits are the integer part\n",
    "n_bin = n_bits - m_bin    # 'n' binary digits are the fractional part of `x`;\n",
    "n_bin_sigmoid = n_bin #+ 3 #número de casas decimais sigmoide memória\n",
    "\n",
    "download_files = 0      #1= para baixar || 0= não baixar"
   ]
  },
  {
   "cell_type": "code",
   "execution_count": 3,
   "metadata": {},
   "outputs": [],
   "source": [
    "# atenuacao_rescale = 0.95\n",
    "atenuacao_rescale = 1\n",
    "sigmoid_range = 2                    #tamanho eixo x, sigmoide antes tratamento\n",
    "range_tb_df = (2**m_bin)              #tamanho do dataframe do tb\n",
    "mult_factor = 1                     # expande sigmoide\n"
   ]
  },
  {
   "cell_type": "code",
   "execution_count": 4,
   "metadata": {},
   "outputs": [],
   "source": [
    "range_tb_df = (2**m_bin)              #tamanho do dataframe do tb\n",
    "#DX SIGMOID\n",
    "is_signed = True           #1= signed || 0= unsigned\n",
    "if is_signed:\n",
    "  unsigned_offset = 0\n",
    "  offset_df_memory = 0\n",
    "  # norm_y = (2**(m_bin-1))                   # normalização em y: 256(8bits)\n",
    "  norm_y = 1\n",
    "  dx_sigmoid_final = 1/(2**(n_bin_sigmoid-1))     #dx da sigmoid na memória -> depende das casas .fixo com adicional para resolução de dx_input\n",
    "  \n",
    "else:\n",
    "  unsigned_offset = int((2**m_bin)/2)  # 128\n",
    "  offset_df_memory = unsigned_offset - ((sigmoid_range/2)*mult_factor)\n",
    "  norm_y = (2**(m_bin))                   # normalização em y: 256(8bits)\n",
    "  dx_sigmoid_final = 1/(2**(n_bin_sigmoid))     #dx da sigmoid na memória -> depende das casas .fixo com adicional para resolução de dx_input\n",
    "\n",
    "\n",
    "dx_sigmoid = dx_sigmoid_final/mult_factor   #dx necessário antes da expansão\n",
    "\n",
    "if (dx_sigmoid == 1):\n",
    "  total_dx = range_tb_df+1\n",
    "else:\n",
    "  \n",
    "  total_dx = (1/dx_sigmoid)*sigmoid_range +1\n",
    "\n"
   ]
  },
  {
   "cell_type": "code",
   "execution_count": 5,
   "metadata": {},
   "outputs": [
    {
     "data": {
      "text/plain": [
       "1"
      ]
     },
     "execution_count": 5,
     "metadata": {},
     "output_type": "execute_result"
    }
   ],
   "source": [
    "range_tb_df"
   ]
  },
  {
   "cell_type": "code",
   "execution_count": 6,
   "metadata": {},
   "outputs": [
    {
     "data": {
      "text/plain": [
       "2"
      ]
     },
     "execution_count": 6,
     "metadata": {},
     "output_type": "execute_result"
    }
   ],
   "source": [
    "sigmoid_range"
   ]
  },
  {
   "cell_type": "code",
   "execution_count": 7,
   "metadata": {},
   "outputs": [],
   "source": [
    "# range_tb_df\n",
    "sigmoid_dx_list = np.linspace(-(sigmoid_range/2),(sigmoid_range/2),int(total_dx)) #vai de -128 a 127, dividido em 256 pontos (8 bits)\n",
    "# sigmoid_dx_list"
   ]
  },
  {
   "cell_type": "code",
   "execution_count": 8,
   "metadata": {},
   "outputs": [
    {
     "data": {
      "text/html": [
       "<div>\n",
       "<style scoped>\n",
       "    .dataframe tbody tr th:only-of-type {\n",
       "        vertical-align: middle;\n",
       "    }\n",
       "\n",
       "    .dataframe tbody tr th {\n",
       "        vertical-align: top;\n",
       "    }\n",
       "\n",
       "    .dataframe thead th {\n",
       "        text-align: right;\n",
       "    }\n",
       "</style>\n",
       "<table border=\"1\" class=\"dataframe\">\n",
       "  <thead>\n",
       "    <tr style=\"text-align: right;\">\n",
       "      <th></th>\n",
       "      <th>n</th>\n",
       "    </tr>\n",
       "  </thead>\n",
       "  <tbody>\n",
       "    <tr>\n",
       "      <th>0</th>\n",
       "      <td>-1.000000</td>\n",
       "    </tr>\n",
       "    <tr>\n",
       "      <th>1</th>\n",
       "      <td>-0.992188</td>\n",
       "    </tr>\n",
       "    <tr>\n",
       "      <th>2</th>\n",
       "      <td>-0.984375</td>\n",
       "    </tr>\n",
       "    <tr>\n",
       "      <th>3</th>\n",
       "      <td>-0.976562</td>\n",
       "    </tr>\n",
       "    <tr>\n",
       "      <th>4</th>\n",
       "      <td>-0.968750</td>\n",
       "    </tr>\n",
       "  </tbody>\n",
       "</table>\n",
       "</div>"
      ],
      "text/plain": [
       "          n\n",
       "0 -1.000000\n",
       "1 -0.992188\n",
       "2 -0.984375\n",
       "3 -0.976562\n",
       "4 -0.968750"
      ]
     },
     "execution_count": 8,
     "metadata": {},
     "output_type": "execute_result"
    }
   ],
   "source": [
    "# df_sigmoid = pd.DataFrame((range(-int(range_tb_df/2),int(range_tb_df/2)+1,1))) #start, end, step\n",
    "df_sigmoid = pd.DataFrame(np.linspace(-(sigmoid_range/2),(sigmoid_range/2),int(total_dx))) #start, end, step\n",
    "df_sigmoid.columns = ['n'] # INPUTS_df\n",
    "# df_sigmoid['dx'] = sigmoid_dx_list\n",
    "df_sigmoid = df_sigmoid*atenuacao_rescale\n",
    "df_sigmoid.head()"
   ]
  },
  {
   "cell_type": "code",
   "execution_count": 9,
   "metadata": {},
   "outputs": [],
   "source": [
    "import math\n",
    "exp = math.exp"
   ]
  },
  {
   "cell_type": "code",
   "execution_count": 10,
   "metadata": {},
   "outputs": [
    {
     "data": {
      "text/html": [
       "<div>\n",
       "<style scoped>\n",
       "    .dataframe tbody tr th:only-of-type {\n",
       "        vertical-align: middle;\n",
       "    }\n",
       "\n",
       "    .dataframe tbody tr th {\n",
       "        vertical-align: top;\n",
       "    }\n",
       "\n",
       "    .dataframe thead th {\n",
       "        text-align: right;\n",
       "    }\n",
       "</style>\n",
       "<table border=\"1\" class=\"dataframe\">\n",
       "  <thead>\n",
       "    <tr style=\"text-align: right;\">\n",
       "      <th></th>\n",
       "      <th>n</th>\n",
       "      <th>sigmoid</th>\n",
       "    </tr>\n",
       "  </thead>\n",
       "  <tbody>\n",
       "    <tr>\n",
       "      <th>0</th>\n",
       "      <td>-1.000000</td>\n",
       "      <td>0.001659</td>\n",
       "    </tr>\n",
       "    <tr>\n",
       "      <th>1</th>\n",
       "      <td>-0.992188</td>\n",
       "      <td>0.001744</td>\n",
       "    </tr>\n",
       "    <tr>\n",
       "      <th>2</th>\n",
       "      <td>-0.984375</td>\n",
       "      <td>0.001833</td>\n",
       "    </tr>\n",
       "    <tr>\n",
       "      <th>3</th>\n",
       "      <td>-0.976562</td>\n",
       "      <td>0.001927</td>\n",
       "    </tr>\n",
       "    <tr>\n",
       "      <th>4</th>\n",
       "      <td>-0.968750</td>\n",
       "      <td>0.002025</td>\n",
       "    </tr>\n",
       "  </tbody>\n",
       "</table>\n",
       "</div>"
      ],
      "text/plain": [
       "          n   sigmoid\n",
       "0 -1.000000  0.001659\n",
       "1 -0.992188  0.001744\n",
       "2 -0.984375  0.001833\n",
       "3 -0.976562  0.001927\n",
       "4 -0.968750  0.002025"
      ]
     },
     "execution_count": 10,
     "metadata": {},
     "output_type": "execute_result"
    }
   ],
   "source": [
    "# ((1/(1+(exp(-1*(testes_x1))))).astype(float)).tolist()\n",
    "# df[0].apply(lambda x: float(x))\n",
    "sigmoide_rescale = (8/(sigmoid_range/2))*0.8\n",
    "multiplied_list = [(1/(1+(exp(-1*(element*sigmoide_rescale))))) for element in sigmoid_dx_list]\n",
    "# multiplied_list\n",
    "df_sigmoid['sigmoid']= multiplied_list\n",
    "df_sigmoid.head()\n",
    "# df_sigmoid"
   ]
  },
  {
   "cell_type": "code",
   "execution_count": 11,
   "metadata": {},
   "outputs": [
    {
     "data": {
      "text/plain": [
       "0"
      ]
     },
     "execution_count": 11,
     "metadata": {},
     "output_type": "execute_result"
    }
   ],
   "source": [
    "unsigned_offset"
   ]
  },
  {
   "attachments": {},
   "cell_type": "markdown",
   "metadata": {},
   "source": [
    "## Sigmoid expansion (change 'x' rescale)"
   ]
  },
  {
   "cell_type": "code",
   "execution_count": 12,
   "metadata": {},
   "outputs": [
    {
     "data": {
      "text/plain": [
       "0     -1.000000\n",
       "1     -0.992188\n",
       "2     -0.984375\n",
       "3     -0.976562\n",
       "4     -0.968750\n",
       "         ...   \n",
       "252    0.968750\n",
       "253    0.976562\n",
       "254    0.984375\n",
       "255    0.992188\n",
       "256    1.000000\n",
       "Name: n, Length: 257, dtype: float64"
      ]
     },
     "execution_count": 12,
     "metadata": {},
     "output_type": "execute_result"
    }
   ],
   "source": [
    "# n_re_scale = (df_sigmoid['n'])*mult_factor\n",
    "n_re_scale = (df_sigmoid['n'])*mult_factor\n",
    "n_re_scale"
   ]
  },
  {
   "cell_type": "code",
   "execution_count": 13,
   "metadata": {},
   "outputs": [],
   "source": [
    "# df_sigmoid['n'] = (df_sigmoid['n'] + (unsigned_offset/2))*mult_factor\n",
    "df_sigmoid['n'] = n_re_scale\n",
    "\n",
    "df_sigmoid['n_zeros'] = (df_sigmoid['n'] + dx_sigmoid) #zeros para serem salvos na memória"
   ]
  },
  {
   "cell_type": "code",
   "execution_count": 14,
   "metadata": {},
   "outputs": [
    {
     "data": {
      "text/html": [
       "<div>\n",
       "<style scoped>\n",
       "    .dataframe tbody tr th:only-of-type {\n",
       "        vertical-align: middle;\n",
       "    }\n",
       "\n",
       "    .dataframe tbody tr th {\n",
       "        vertical-align: top;\n",
       "    }\n",
       "\n",
       "    .dataframe thead th {\n",
       "        text-align: right;\n",
       "    }\n",
       "</style>\n",
       "<table border=\"1\" class=\"dataframe\">\n",
       "  <thead>\n",
       "    <tr style=\"text-align: right;\">\n",
       "      <th></th>\n",
       "      <th>n</th>\n",
       "      <th>sigmoid</th>\n",
       "      <th>n_zeros</th>\n",
       "    </tr>\n",
       "  </thead>\n",
       "  <tbody>\n",
       "    <tr>\n",
       "      <th>0</th>\n",
       "      <td>-1.000000</td>\n",
       "      <td>0.001659</td>\n",
       "      <td>-0.992188</td>\n",
       "    </tr>\n",
       "    <tr>\n",
       "      <th>1</th>\n",
       "      <td>-0.992188</td>\n",
       "      <td>0.001744</td>\n",
       "      <td>-0.984375</td>\n",
       "    </tr>\n",
       "    <tr>\n",
       "      <th>2</th>\n",
       "      <td>-0.984375</td>\n",
       "      <td>0.001833</td>\n",
       "      <td>-0.976562</td>\n",
       "    </tr>\n",
       "    <tr>\n",
       "      <th>3</th>\n",
       "      <td>-0.976562</td>\n",
       "      <td>0.001927</td>\n",
       "      <td>-0.968750</td>\n",
       "    </tr>\n",
       "    <tr>\n",
       "      <th>4</th>\n",
       "      <td>-0.968750</td>\n",
       "      <td>0.002025</td>\n",
       "      <td>-0.960938</td>\n",
       "    </tr>\n",
       "    <tr>\n",
       "      <th>...</th>\n",
       "      <td>...</td>\n",
       "      <td>...</td>\n",
       "      <td>...</td>\n",
       "    </tr>\n",
       "    <tr>\n",
       "      <th>252</th>\n",
       "      <td>0.968750</td>\n",
       "      <td>0.997975</td>\n",
       "      <td>0.976562</td>\n",
       "    </tr>\n",
       "    <tr>\n",
       "      <th>253</th>\n",
       "      <td>0.976562</td>\n",
       "      <td>0.998073</td>\n",
       "      <td>0.984375</td>\n",
       "    </tr>\n",
       "    <tr>\n",
       "      <th>254</th>\n",
       "      <td>0.984375</td>\n",
       "      <td>0.998167</td>\n",
       "      <td>0.992188</td>\n",
       "    </tr>\n",
       "    <tr>\n",
       "      <th>255</th>\n",
       "      <td>0.992188</td>\n",
       "      <td>0.998256</td>\n",
       "      <td>1.000000</td>\n",
       "    </tr>\n",
       "    <tr>\n",
       "      <th>256</th>\n",
       "      <td>1.000000</td>\n",
       "      <td>0.998341</td>\n",
       "      <td>1.007812</td>\n",
       "    </tr>\n",
       "  </tbody>\n",
       "</table>\n",
       "<p>257 rows × 3 columns</p>\n",
       "</div>"
      ],
      "text/plain": [
       "            n   sigmoid   n_zeros\n",
       "0   -1.000000  0.001659 -0.992188\n",
       "1   -0.992188  0.001744 -0.984375\n",
       "2   -0.984375  0.001833 -0.976562\n",
       "3   -0.976562  0.001927 -0.968750\n",
       "4   -0.968750  0.002025 -0.960938\n",
       "..        ...       ...       ...\n",
       "252  0.968750  0.997975  0.976562\n",
       "253  0.976562  0.998073  0.984375\n",
       "254  0.984375  0.998167  0.992188\n",
       "255  0.992188  0.998256  1.000000\n",
       "256  1.000000  0.998341  1.007812\n",
       "\n",
       "[257 rows x 3 columns]"
      ]
     },
     "execution_count": 14,
     "metadata": {},
     "output_type": "execute_result"
    }
   ],
   "source": [
    "df_sigmoid"
   ]
  },
  {
   "cell_type": "code",
   "execution_count": 15,
   "metadata": {},
   "outputs": [
    {
     "data": {
      "text/plain": [
       "<Axes: >"
      ]
     },
     "execution_count": 15,
     "metadata": {},
     "output_type": "execute_result"
    },
    {
     "data": {
      "image/png": "[encoded data removed]",
      "text/plain": [
       "<Figure size 640x480 with 1 Axes>"
      ]
     },
     "metadata": {},
     "output_type": "display_data"
    }
   ],
   "source": [
    "import matplotlib.pyplot as plt\n",
    "# plt.close(\"all\")\n",
    "# (pd.Series(sigmoid_dx)).plot()\n",
    "(pd.Series(multiplied_list)).plot()"
   ]
  },
  {
   "cell_type": "code",
   "execution_count": 16,
   "metadata": {},
   "outputs": [
    {
     "data": {
      "text/html": [
       "<div>\n",
       "<style scoped>\n",
       "    .dataframe tbody tr th:only-of-type {\n",
       "        vertical-align: middle;\n",
       "    }\n",
       "\n",
       "    .dataframe tbody tr th {\n",
       "        vertical-align: top;\n",
       "    }\n",
       "\n",
       "    .dataframe thead th {\n",
       "        text-align: right;\n",
       "    }\n",
       "</style>\n",
       "<table border=\"1\" class=\"dataframe\">\n",
       "  <thead>\n",
       "    <tr style=\"text-align: right;\">\n",
       "      <th></th>\n",
       "      <th>n</th>\n",
       "      <th>sigmoid</th>\n",
       "      <th>n_zeros</th>\n",
       "      <th>sig_norm</th>\n",
       "    </tr>\n",
       "  </thead>\n",
       "  <tbody>\n",
       "    <tr>\n",
       "      <th>0</th>\n",
       "      <td>-1.000000</td>\n",
       "      <td>0.001659</td>\n",
       "      <td>-0.992188</td>\n",
       "      <td>0.001659</td>\n",
       "    </tr>\n",
       "    <tr>\n",
       "      <th>1</th>\n",
       "      <td>-0.992188</td>\n",
       "      <td>0.001744</td>\n",
       "      <td>-0.984375</td>\n",
       "      <td>0.001744</td>\n",
       "    </tr>\n",
       "    <tr>\n",
       "      <th>2</th>\n",
       "      <td>-0.984375</td>\n",
       "      <td>0.001833</td>\n",
       "      <td>-0.976562</td>\n",
       "      <td>0.001833</td>\n",
       "    </tr>\n",
       "    <tr>\n",
       "      <th>3</th>\n",
       "      <td>-0.976562</td>\n",
       "      <td>0.001927</td>\n",
       "      <td>-0.968750</td>\n",
       "      <td>0.001927</td>\n",
       "    </tr>\n",
       "    <tr>\n",
       "      <th>4</th>\n",
       "      <td>-0.968750</td>\n",
       "      <td>0.002025</td>\n",
       "      <td>-0.960938</td>\n",
       "      <td>0.002025</td>\n",
       "    </tr>\n",
       "    <tr>\n",
       "      <th>...</th>\n",
       "      <td>...</td>\n",
       "      <td>...</td>\n",
       "      <td>...</td>\n",
       "      <td>...</td>\n",
       "    </tr>\n",
       "    <tr>\n",
       "      <th>252</th>\n",
       "      <td>0.968750</td>\n",
       "      <td>0.997975</td>\n",
       "      <td>0.976562</td>\n",
       "      <td>0.997975</td>\n",
       "    </tr>\n",
       "    <tr>\n",
       "      <th>253</th>\n",
       "      <td>0.976562</td>\n",
       "      <td>0.998073</td>\n",
       "      <td>0.984375</td>\n",
       "      <td>0.998073</td>\n",
       "    </tr>\n",
       "    <tr>\n",
       "      <th>254</th>\n",
       "      <td>0.984375</td>\n",
       "      <td>0.998167</td>\n",
       "      <td>0.992188</td>\n",
       "      <td>0.998167</td>\n",
       "    </tr>\n",
       "    <tr>\n",
       "      <th>255</th>\n",
       "      <td>0.992188</td>\n",
       "      <td>0.998256</td>\n",
       "      <td>1.000000</td>\n",
       "      <td>0.998256</td>\n",
       "    </tr>\n",
       "    <tr>\n",
       "      <th>256</th>\n",
       "      <td>1.000000</td>\n",
       "      <td>0.998341</td>\n",
       "      <td>1.007812</td>\n",
       "      <td>0.998341</td>\n",
       "    </tr>\n",
       "  </tbody>\n",
       "</table>\n",
       "<p>257 rows × 4 columns</p>\n",
       "</div>"
      ],
      "text/plain": [
       "            n   sigmoid   n_zeros  sig_norm\n",
       "0   -1.000000  0.001659 -0.992188  0.001659\n",
       "1   -0.992188  0.001744 -0.984375  0.001744\n",
       "2   -0.984375  0.001833 -0.976562  0.001833\n",
       "3   -0.976562  0.001927 -0.968750  0.001927\n",
       "4   -0.968750  0.002025 -0.960938  0.002025\n",
       "..        ...       ...       ...       ...\n",
       "252  0.968750  0.997975  0.976562  0.997975\n",
       "253  0.976562  0.998073  0.984375  0.998073\n",
       "254  0.984375  0.998167  0.992188  0.998167\n",
       "255  0.992188  0.998256  1.000000  0.998256\n",
       "256  1.000000  0.998341  1.007812  0.998341\n",
       "\n",
       "[257 rows x 4 columns]"
      ]
     },
     "execution_count": 16,
     "metadata": {},
     "output_type": "execute_result"
    }
   ],
   "source": [
    "df_sigmoid['sig_norm']= df_sigmoid['sigmoid']*norm_y\n",
    "df_sigmoid"
   ]
  },
  {
   "attachments": {},
   "cell_type": "markdown",
   "metadata": {},
   "source": [
    "## df_sigmoid_bin"
   ]
  },
  {
   "cell_type": "code",
   "execution_count": null,
   "metadata": {},
   "outputs": [],
   "source": [
    "# PEGAR FUNÇÕES FXP_MATH PARA CONVERSÃO FLOAT BIN"
   ]
  },
  {
   "cell_type": "code",
   "execution_count": 17,
   "metadata": {},
   "outputs": [
    {
     "ename": "NameError",
     "evalue": "name 'float_to_binary' is not defined",
     "output_type": "error",
     "traceback": [
      "\u001b[1;31m---------------------------------------------------------------------------\u001b[0m",
      "\u001b[1;31mNameError\u001b[0m                                 Traceback (most recent call last)",
      "Cell \u001b[1;32mIn[17], line 12\u001b[0m\n\u001b[0;32m      6\u001b[0m df_sigmoid_bin[\u001b[39m'\u001b[39m\u001b[39msigmoid\u001b[39m\u001b[39m'\u001b[39m] \u001b[39m=\u001b[39m (df_sigmoid[\u001b[39m'\u001b[39m\u001b[39msig_norm\u001b[39m\u001b[39m'\u001b[39m])\n\u001b[0;32m      8\u001b[0m \u001b[39m#AQUI QUE O 'PONTO FIXO' DEVE COMEÇAR\u001b[39;00m\n\u001b[0;32m      9\u001b[0m \u001b[39m# https://www.google.com/search?q=python+real+number+to+binary&oq=python+real+number+to+bin&aqs=chrome.1.69i57j0i22i30.8856j1j1&sourceid=chrome&ie=UTF-8\u001b[39;00m\n\u001b[0;32m     10\u001b[0m \u001b[39m# https://stackoverflow.com/questions/51843297/convert-real-numbers-to-binary-and-vice-versa-in-python\u001b[39;00m\n\u001b[0;32m     11\u001b[0m \u001b[39m# https://pythonhosted.org/bitstring/\u001b[39;00m\n\u001b[1;32m---> 12\u001b[0m df_sigmoid_bin[\u001b[39m'\u001b[39m\u001b[39maddress_bin\u001b[39m\u001b[39m'\u001b[39m] \u001b[39m=\u001b[39m (df_sigmoid[\u001b[39m'\u001b[39;49m\u001b[39mn\u001b[39;49m\u001b[39m'\u001b[39;49m]\u001b[39m.\u001b[39;49mapply(\u001b[39mlambda\u001b[39;49;00m x: float_to_binary(x ,m_bin,n_bin_sigmoid,is_signed)))\n\u001b[0;32m     13\u001b[0m df_sigmoid_bin[\u001b[39m'\u001b[39m\u001b[39maddress_zeros\u001b[39m\u001b[39m'\u001b[39m] \u001b[39m=\u001b[39m (df_sigmoid[\u001b[39m'\u001b[39m\u001b[39mn_zeros\u001b[39m\u001b[39m'\u001b[39m]\u001b[39m.\u001b[39mapply(\u001b[39mlambda\u001b[39;00m x: float_to_binary(x ,m_bin,n_bin_sigmoid,is_signed)))\n\u001b[0;32m     15\u001b[0m \u001b[39m# df_sigmoid_bin['n_bin'] = (df_sigmoid['n'].apply(lambda x: float_to_binary(x ,m_bin,n_bin_sigmoid)))\u001b[39;00m\n",
      "File \u001b[1;32mc:\\Users\\luisa\\AppData\\Local\\Programs\\Python\\Python39\\lib\\site-packages\\pandas\\core\\series.py:4771\u001b[0m, in \u001b[0;36mSeries.apply\u001b[1;34m(self, func, convert_dtype, args, **kwargs)\u001b[0m\n\u001b[0;32m   4661\u001b[0m \u001b[39mdef\u001b[39;00m \u001b[39mapply\u001b[39m(\n\u001b[0;32m   4662\u001b[0m     \u001b[39mself\u001b[39m,\n\u001b[0;32m   4663\u001b[0m     func: AggFuncType,\n\u001b[1;32m   (...)\u001b[0m\n\u001b[0;32m   4666\u001b[0m     \u001b[39m*\u001b[39m\u001b[39m*\u001b[39mkwargs,\n\u001b[0;32m   4667\u001b[0m ) \u001b[39m-\u001b[39m\u001b[39m>\u001b[39m DataFrame \u001b[39m|\u001b[39m Series:\n\u001b[0;32m   4668\u001b[0m \u001b[39m    \u001b[39m\u001b[39m\"\"\"\u001b[39;00m\n\u001b[0;32m   4669\u001b[0m \u001b[39m    Invoke function on values of Series.\u001b[39;00m\n\u001b[0;32m   4670\u001b[0m \n\u001b[1;32m   (...)\u001b[0m\n\u001b[0;32m   4769\u001b[0m \u001b[39m    dtype: float64\u001b[39;00m\n\u001b[0;32m   4770\u001b[0m \u001b[39m    \"\"\"\u001b[39;00m\n\u001b[1;32m-> 4771\u001b[0m     \u001b[39mreturn\u001b[39;00m SeriesApply(\u001b[39mself\u001b[39;49m, func, convert_dtype, args, kwargs)\u001b[39m.\u001b[39;49mapply()\n",
      "File \u001b[1;32mc:\\Users\\luisa\\AppData\\Local\\Programs\\Python\\Python39\\lib\\site-packages\\pandas\\core\\apply.py:1123\u001b[0m, in \u001b[0;36mSeriesApply.apply\u001b[1;34m(self)\u001b[0m\n\u001b[0;32m   1120\u001b[0m     \u001b[39mreturn\u001b[39;00m \u001b[39mself\u001b[39m\u001b[39m.\u001b[39mapply_str()\n\u001b[0;32m   1122\u001b[0m \u001b[39m# self.f is Callable\u001b[39;00m\n\u001b[1;32m-> 1123\u001b[0m \u001b[39mreturn\u001b[39;00m \u001b[39mself\u001b[39;49m\u001b[39m.\u001b[39;49mapply_standard()\n",
      "File \u001b[1;32mc:\\Users\\luisa\\AppData\\Local\\Programs\\Python\\Python39\\lib\\site-packages\\pandas\\core\\apply.py:1174\u001b[0m, in \u001b[0;36mSeriesApply.apply_standard\u001b[1;34m(self)\u001b[0m\n\u001b[0;32m   1172\u001b[0m     \u001b[39melse\u001b[39;00m:\n\u001b[0;32m   1173\u001b[0m         values \u001b[39m=\u001b[39m obj\u001b[39m.\u001b[39mastype(\u001b[39mobject\u001b[39m)\u001b[39m.\u001b[39m_values\n\u001b[1;32m-> 1174\u001b[0m         mapped \u001b[39m=\u001b[39m lib\u001b[39m.\u001b[39;49mmap_infer(\n\u001b[0;32m   1175\u001b[0m             values,\n\u001b[0;32m   1176\u001b[0m             f,\n\u001b[0;32m   1177\u001b[0m             convert\u001b[39m=\u001b[39;49m\u001b[39mself\u001b[39;49m\u001b[39m.\u001b[39;49mconvert_dtype,\n\u001b[0;32m   1178\u001b[0m         )\n\u001b[0;32m   1180\u001b[0m \u001b[39mif\u001b[39;00m \u001b[39mlen\u001b[39m(mapped) \u001b[39mand\u001b[39;00m \u001b[39misinstance\u001b[39m(mapped[\u001b[39m0\u001b[39m], ABCSeries):\n\u001b[0;32m   1181\u001b[0m     \u001b[39m# GH#43986 Need to do list(mapped) in order to get treated as nested\u001b[39;00m\n\u001b[0;32m   1182\u001b[0m     \u001b[39m#  See also GH#25959 regarding EA support\u001b[39;00m\n\u001b[0;32m   1183\u001b[0m     \u001b[39mreturn\u001b[39;00m obj\u001b[39m.\u001b[39m_constructor_expanddim(\u001b[39mlist\u001b[39m(mapped), index\u001b[39m=\u001b[39mobj\u001b[39m.\u001b[39mindex)\n",
      "File \u001b[1;32mc:\\Users\\luisa\\AppData\\Local\\Programs\\Python\\Python39\\lib\\site-packages\\pandas\\_libs\\lib.pyx:2924\u001b[0m, in \u001b[0;36mpandas._libs.lib.map_infer\u001b[1;34m()\u001b[0m\n",
      "Cell \u001b[1;32mIn[17], line 12\u001b[0m, in \u001b[0;36m<lambda>\u001b[1;34m(x)\u001b[0m\n\u001b[0;32m      6\u001b[0m df_sigmoid_bin[\u001b[39m'\u001b[39m\u001b[39msigmoid\u001b[39m\u001b[39m'\u001b[39m] \u001b[39m=\u001b[39m (df_sigmoid[\u001b[39m'\u001b[39m\u001b[39msig_norm\u001b[39m\u001b[39m'\u001b[39m])\n\u001b[0;32m      8\u001b[0m \u001b[39m#AQUI QUE O 'PONTO FIXO' DEVE COMEÇAR\u001b[39;00m\n\u001b[0;32m      9\u001b[0m \u001b[39m# https://www.google.com/search?q=python+real+number+to+binary&oq=python+real+number+to+bin&aqs=chrome.1.69i57j0i22i30.8856j1j1&sourceid=chrome&ie=UTF-8\u001b[39;00m\n\u001b[0;32m     10\u001b[0m \u001b[39m# https://stackoverflow.com/questions/51843297/convert-real-numbers-to-binary-and-vice-versa-in-python\u001b[39;00m\n\u001b[0;32m     11\u001b[0m \u001b[39m# https://pythonhosted.org/bitstring/\u001b[39;00m\n\u001b[1;32m---> 12\u001b[0m df_sigmoid_bin[\u001b[39m'\u001b[39m\u001b[39maddress_bin\u001b[39m\u001b[39m'\u001b[39m] \u001b[39m=\u001b[39m (df_sigmoid[\u001b[39m'\u001b[39m\u001b[39mn\u001b[39m\u001b[39m'\u001b[39m]\u001b[39m.\u001b[39mapply(\u001b[39mlambda\u001b[39;00m x: float_to_binary(x ,m_bin,n_bin_sigmoid,is_signed)))\n\u001b[0;32m     13\u001b[0m df_sigmoid_bin[\u001b[39m'\u001b[39m\u001b[39maddress_zeros\u001b[39m\u001b[39m'\u001b[39m] \u001b[39m=\u001b[39m (df_sigmoid[\u001b[39m'\u001b[39m\u001b[39mn_zeros\u001b[39m\u001b[39m'\u001b[39m]\u001b[39m.\u001b[39mapply(\u001b[39mlambda\u001b[39;00m x: float_to_binary(x ,m_bin,n_bin_sigmoid,is_signed)))\n\u001b[0;32m     15\u001b[0m \u001b[39m# df_sigmoid_bin['n_bin'] = (df_sigmoid['n'].apply(lambda x: float_to_binary(x ,m_bin,n_bin_sigmoid)))\u001b[39;00m\n",
      "\u001b[1;31mNameError\u001b[0m: name 'float_to_binary' is not defined"
     ]
    }
   ],
   "source": [
    "#SIGMOID MEMORY\n",
    "df_sigmoid_bin = pd.DataFrame()\n",
    "\n",
    "#verification\n",
    "df_sigmoid_bin['address'] = (df_sigmoid['n'])\n",
    "df_sigmoid_bin['sigmoid'] = (df_sigmoid['sig_norm'])\n",
    "\n",
    "#AQUI QUE O 'PONTO FIXO' DEVE COMEÇAR\n",
    "# https://www.google.com/search?q=python+real+number+to+binary&oq=python+real+number+to+bin&aqs=chrome.1.69i57j0i22i30.8856j1j1&sourceid=chrome&ie=UTF-8\n",
    "# https://stackoverflow.com/questions/51843297/convert-real-numbers-to-binary-and-vice-versa-in-python\n",
    "# https://pythonhosted.org/bitstring/\n",
    "df_sigmoid_bin['address_bin'] = (df_sigmoid['n'].apply(lambda x: float_to_binary(x ,m_bin,n_bin_sigmoid,is_signed)))\n",
    "df_sigmoid_bin['address_zeros'] = (df_sigmoid['n_zeros'].apply(lambda x: float_to_binary(x ,m_bin,n_bin_sigmoid,is_signed)))\n",
    "\n",
    "# df_sigmoid_bin['n_bin'] = (df_sigmoid['n'].apply(lambda x: float_to_binary(x ,m_bin,n_bin_sigmoid)))\n",
    "\n",
    "df_sigmoid_bin['sigmoid_bin'] = (df_sigmoid['sig_norm'].apply(lambda x: float_to_binary(x ,m_bin,n_bin_sigmoid,is_sigmoid_signed)))\n",
    "# df_sigmoid_bin.head()\n",
    "df_sigmoid_bin"
   ]
  },
  {
   "cell_type": "code",
   "execution_count": null,
   "metadata": {},
   "outputs": [],
   "source": [
    "# address_bin_converted = binary_to_float(df_sigmoid_bin['address_bin'], str(m_bin), str(n_bin_sigmoid))\n",
    "address_bin_converted = df_sigmoid_bin['address_bin'].apply(lambda x: binary_to_float(x ,m_bin,n_bin_sigmoid,is_signed))\n",
    "# address_bin_converted"
   ]
  },
  {
   "cell_type": "code",
   "execution_count": null,
   "metadata": {},
   "outputs": [],
   "source": [
    "# (pd.Series(sigmoid_dx)).plot()\n",
    "(pd.Series(address_bin_converted)).plot()"
   ]
  },
  {
   "cell_type": "code",
   "execution_count": null,
   "metadata": {},
   "outputs": [],
   "source": [
    "#conferir quantas linhas de endereço duplicadas tem\n",
    "len(df_sigmoid_bin['address_bin'])-len(df_sigmoid_bin['address_bin'].drop_duplicates())"
   ]
  },
  {
   "cell_type": "code",
   "execution_count": null,
   "metadata": {},
   "outputs": [],
   "source": [
    "len(df_sigmoid_bin['address_bin'])"
   ]
  },
  {
   "cell_type": "code",
   "execution_count": null,
   "metadata": {},
   "outputs": [],
   "source": [
    "duplicated_addr_bin = pd.DataFrame(df_sigmoid_bin['address_bin'].duplicated())"
   ]
  },
  {
   "cell_type": "code",
   "execution_count": null,
   "metadata": {},
   "outputs": [],
   "source": [
    "duplicated_addr_bin.head()"
   ]
  },
  {
   "cell_type": "code",
   "execution_count": null,
   "metadata": {},
   "outputs": [],
   "source": [
    "duplicated_addr_bin = duplicated_addr_bin[duplicated_addr_bin['address_bin'] == True]  # df will have only rows with True in c3"
   ]
  },
  {
   "attachments": {},
   "cell_type": "markdown",
   "metadata": {},
   "source": [
    "## Substitui máximos df_Sigmoid"
   ]
  },
  {
   "cell_type": "code",
   "execution_count": null,
   "metadata": {},
   "outputs": [],
   "source": [
    "zeros_aux = str(np.zeros(m_bin+n_bin_sigmoid-1))\n",
    "zeros_aux= zeros_aux.replace(\".\", \"\");\n",
    "zeros_aux= zeros_aux.replace(\"[\", \"\");\n",
    "zeros_aux= zeros_aux.replace(\"]\", \"\");\n",
    "zeros_aux= zeros_aux.replace(\" \", \"\");\n",
    "\n",
    "ones_aux = str(np.ones(m_bin+n_bin_sigmoid-1))\n",
    "ones_aux= ones_aux.replace(\".\", \"\");\n",
    "ones_aux= ones_aux.replace(\"[\", \"\");\n",
    "ones_aux= ones_aux.replace(\"]\", \"\");\n",
    "ones_aux= ones_aux.replace(\" \", \"\");"
   ]
  },
  {
   "cell_type": "code",
   "execution_count": null,
   "metadata": {},
   "outputs": [],
   "source": [
    "##------------CORREÇÃO DE MÁXIMOS e MÍNIMOS BINÁRIOS------------##\n",
    "\n",
    "#Substituindo erros de conversão float -> bin_2complement\n",
    "#valores acima de valor x, estavam sendo convertidos com por ex, 100 sendo que\n",
    "#o máximo seria 011 (apenas exemplo)\n",
    "\n",
    "#--------------Address--------------# (signed)\n",
    "df_sigmoid_bin['address_bin'].iloc[int(len(df_sigmoid_bin)/2):].replace(\n",
    "    to_replace=['1' + zeros_aux],\n",
    "    value='0' + ones_aux,\n",
    "inplace=True)\n",
    "\n",
    "if (is_sigmoid_signed == 0):\n",
    "\n",
    "  #--------------Sigmoid--------------# (unsigned)\n",
    "  df_sigmoid_bin['sigmoid_bin'].replace(to_replace=['10' + zeros_aux],\n",
    "      value= '1' + ones_aux,\n",
    "  inplace=True)\n",
    "\n",
    "#============================================================================#\n",
    "else:\n",
    "\n",
    "    #--------------Sigmoid--------------# (signed)\n",
    "  df_sigmoid_bin['sigmoid_bin'].replace(to_replace=['1' + zeros_aux],\n",
    "      value= '0' + ones_aux,\n",
    "  inplace=True)\n",
    "\n",
    "df_sigmoid_bin"
   ]
  },
  {
   "cell_type": "code",
   "execution_count": null,
   "metadata": {},
   "outputs": [],
   "source": [
    "#tirar linhas que contém valores binários com mais bits que o permitido\n",
    "df_sigmoid_bin.drop(df_sigmoid_bin.tail(1).index,inplace=True) # drop last n rows\n",
    "# df_sigmoid_bin.drop(df_sigmoid_bin.head(1).index,inplace=True) # drop first n rows    "
   ]
  },
  {
   "attachments": {},
   "cell_type": "markdown",
   "metadata": {},
   "source": [
    "# Graphs"
   ]
  },
  {
   "cell_type": "code",
   "execution_count": null,
   "metadata": {},
   "outputs": [],
   "source": [
    "import matplotlib.pyplot as plt\n",
    "import numpy as np\n",
    "import pandas as pd\n",
    "import seaborn as sns\n",
    "import matplotlib.pyplot as plt\n",
    "import plotly.graph_objects as go\n",
    "import plotly.offline as py"
   ]
  },
  {
   "cell_type": "code",
   "execution_count": null,
   "metadata": {},
   "outputs": [],
   "source": [
    "pacitydef = 0.8\n",
    "# teste = go.Scatter(\n",
    "#     # x=dftf.xs('Date', level='Stock info', axis=1)[tickers[k]],\n",
    "#     x= dftf.index,\n",
    "#     y=y_test,\n",
    "#     name=\"teste\",\n",
    "#     line= dict(color='#0080FF'),\n",
    "#     opacity = opacitydef,\n",
    "#     line_shape='spline'\n",
    "#     )\n",
    "\n",
    "sigmoid = go.Scatter(\n",
    "    # x=dftf.xs('Date', level='Stock info', axis=1)[tickers[k]],\n",
    "    x= df_sigmoid_bin['address'],\n",
    "    y=df_sigmoid_bin['sigmoid'],\n",
    "    name=\"sigmoid\",\n",
    "    line= dict(color='#FF8000'),\n",
    "    opacity = 0.8,\n",
    "    line_shape='spline')\n",
    "\n",
    "dadospred = ([sigmoid])#, pred])\n",
    "figpred = go.Figure(data=dadospred)#, layout=layout)\n",
    "py.iplot(figpred)"
   ]
  },
  {
   "cell_type": "code",
   "execution_count": null,
   "metadata": {},
   "outputs": [],
   "source": [
    "#https://stackoverflow.com/questions/35067304/pandas-dataframe-step-plot-where-post\n",
    "# df_sigmoid_bin.plot(drawstyle=\"steps\", linewidth=2, data='sigmoid')\n",
    "plt.plot('address','sigmoid', drawstyle=\"steps\", linewidth=2, data=df_sigmoid_bin, color ='orange')\n",
    "# df_sigmoid_bin.plot(drawstyle=\"steps-post\", linewidth=2)"
   ]
  },
  {
   "cell_type": "code",
   "execution_count": null,
   "metadata": {},
   "outputs": [],
   "source": [
    "plt.plot( 'address', 'sigmoid', data=df_sigmoid_bin, linestyle='-', marker='o')"
   ]
  },
  {
   "cell_type": "code",
   "execution_count": null,
   "metadata": {},
   "outputs": [],
   "source": [
    "df_sigmoid_first= float(df_sigmoid['n'].iloc[:1])"
   ]
  },
  {
   "cell_type": "code",
   "execution_count": null,
   "metadata": {},
   "outputs": [],
   "source": [
    "#colocando na memória com o Index\n",
    "i= 0\n",
    "text = str('')\n",
    "text_zeros = str('')\n",
    "text_rom_to_asic = str('--\"bin_address\" => \"bin_data\",- address(sum) || f(x) \\n') # -1 a 1\n",
    "#texto para fazer lógica 'signed' funcionar no std_logic_vector\n",
    "text_rom_to_asic_2 = str('--\"bin_data\",-- address(sum) || f(x) \\n')# 0 a 1 e -1 a 0\n",
    "\n",
    "#------------------------------- ROM ASIC -------------------------------#\n",
    "#texto rom -> vhd (asic) || índice por 'n'\n",
    "for i in range(int(len(df_sigmoid_bin)/2), len(df_sigmoid_bin)): \n",
    "    text_rom_to_asic_2 = (\n",
    "        text_rom_to_asic_2+'\"' \n",
    "             +str(df_sigmoid_bin['sigmoid_bin'][i])+  '\",-- '\n",
    "             +'('+df_sigmoid_bin['address_bin'][i]+')'\n",
    "             + str(offset_df_memory +df_sigmoid_first+(i*dx_sigmoid*mult_factor))\n",
    "             +' || '+str(df_sigmoid['sig_norm'][i]) +'\\n')\n",
    "\n",
    "for i in range(0, int(len(df_sigmoid_bin)/2) ): \n",
    "    text_rom_to_asic_2 = (\n",
    "        text_rom_to_asic_2+'\"' #pega o q já tem de texto\n",
    "             +str(df_sigmoid_bin['sigmoid_bin'][i])+  '\",-- ' #pega elemento i da sigmoide\n",
    "             +'('+df_sigmoid_bin['address_bin'][i]+')'\n",
    "             +str(offset_df_memory +df_sigmoid_first+((i)*dx_sigmoid*mult_factor))\n",
    "             +' || '+str(df_sigmoid['sig_norm'][i]) +'\\n')\n",
    "    \n",
    "\n",
    "#------------------------------- ROM .mif -------------------------------#\n",
    "#define se o endereço será com 'n' ou 'address'\n",
    "if (memory_address_type == False): # 0= int(n)\n",
    "  for i in range(0, len(df_sigmoid_bin)): #caso seja por 'n'\n",
    "    text = (text+''+ str(df_sigmoid_bin.index[i]) + ':' + str(df_sigmoid_bin['sigmoid_bin'][i])+  ';-- '+str(offset_df_memory +df_sigmoid_first+(i*dx_sigmoid*mult_factor))+' || '+str(df_sigmoid['sig_norm'][i]) +'\\n')\n",
    "    # )\n",
    "else: #1= float(address)\n",
    "  for i in range(0, len(df_sigmoid_bin)):\n",
    "    text = (text+''+ str(df_sigmoid_bin['address_bin'][i]) + ':' +str(df_sigmoid_bin['sigmoid_bin'][i])+  ';-- '+str(offset_df_memory +df_sigmoid_first+(i*dx_sigmoid*mult_factor))+' || '+str(df_sigmoid['sig_norm'][i]) +'\\n')\n",
    "   \n",
    "   #essa não funciona pra compilar \n",
    "   # text_rom_to_asic = (text_rom_to_asic+'\"'+ str(df_sigmoid_bin['address_bin'][i]) + '\" => \"' +str(df_sigmoid_bin['sigmoid_bin'][i])+  '\";-- '+str(offset_df_memory +df_sigmoid_first+(i*dx_sigmoid*mult_factor))+' || '+str(df_sigmoid['sig_norm'][i]) +'\\n')\n",
    "    # )\n",
    "    # text_zeros = (text_zeros+''+ str(df_sigmoid_bin['address_zeros'][i]) + ':' +zeros_memory+  ';-- '+str(df_sigmoid['n_zeros'][i])+' || zero \\n')"
   ]
  },
  {
   "attachments": {},
   "cell_type": "markdown",
   "metadata": {},
   "source": [
    "## ROM Definitions"
   ]
  },
  {
   "cell_type": "code",
   "execution_count": null,
   "metadata": {},
   "outputs": [],
   "source": [
    "rom_clk = 0   #1= rom com clock || 0= sem clock\n",
    "\n",
    "# nome_rom = \"rom_fx_addwidth\"+str(memory_depth)+\"_addbit\"+str(int(math.log2(memory_depth)))+\"_datawidth\"+str(memory_width)\n",
    "nome_rom = \"ROM_fixedpoint_8bit\"\n",
    "memory_address_type = True               # 0= int(n) ; 1= float(address)|| indice da memoria int ou float\n"
   ]
  },
  {
   "cell_type": "code",
   "execution_count": null,
   "metadata": {},
   "outputs": [],
   "source": [
    "memory_width= m_bin + n_bin_sigmoid\n",
    "if memory_address_type == False : # 0= int(n)\n",
    "  memory_depth = len(df_sigmoid_bin)\n",
    "  memory_value_type = 'DEC' #Enter BIN, DEC, HEX, OCT, or UNS; #because memory is with (signed/unsigned) bin address\n",
    "else: #1= float(address)\n",
    "  memory_depth = len(df_sigmoid_bin)\n",
    "  memory_value_type = 'BIN' #Enter BIN, DEC, HEX, OCT, or UNS; #because memory is with (signed/unsigned) bin address\n",
    "\n",
    "memory_depth"
   ]
  },
  {
   "cell_type": "code",
   "execution_count": null,
   "metadata": {},
   "outputs": [],
   "source": [
    "if rom_clk:\n",
    "\trom_text_asic = ( \n",
    "f'''--https://stackoverflow.com/questions/17579716/implementing-rom-in-xilinx-vhdl\n",
    "LIBRARY ieee ;\n",
    "USE ieee.std_logic_1164.all ;\n",
    "use ieee.numeric_std.all;\n",
    "\n",
    "----------------\n",
    "\n",
    "entity {nome_rom} is\n",
    "generic(addr_width : integer := {str(memory_depth)}; -- store {str(memory_depth)} elements\n",
    "        addr_bits  : integer := {str(int(math.log2(memory_depth)))}; -- required bits to store {str(memory_depth)} elements\n",
    "        data_width : integer := {str(memory_width)}  -- each element has {str(memory_width)}-bits\n",
    "\t\t\t\t);\n",
    "\t\t\t\n",
    "port ( clk : in std_logic ;\n",
    "\t\taddress : in std_logic_vector(addr_bits-1 downto 0);\n",
    "\t\tdata_out : out std_logic_vector(data_width-1 downto 0)\n",
    "\t\t) ;\n",
    "end entity ;\n",
    "\n",
    "------------------\n",
    "architecture arch of {nome_rom} is\n",
    "\n",
    "\tsignal reg_address: std_logic_vector(addr_bits-1 downto 0);\n",
    "\ttype memory is array ( 0 to addr_width-1 ) of std_logic_vector(data_width-1 downto 0 ) ;\n",
    "\tconstant myrom : memory := (\n",
    "\t\n",
    "{text_rom_to_asic_2}\n",
    "\t\n",
    "--\t2 => \"11111111\" , --255\n",
    "--\t3 => \"11010101\" ,  \n",
    "others => \"00000000000\" \n",
    ") ;\n",
    "\n",
    "begin \n",
    "\tprocess(clk)\n",
    "\t\tbegin \n",
    "\t\tif( clk'event and clk = '1' ) then\n",
    "\t\t\treg_address <= address ;\n",
    "\t\tend if ;\n",
    "\tend process ;\n",
    "---------------\n",
    "data_out <= myrom(to_integer(unsigned(reg_address))) ;\n",
    "end architecture ;\n",
    "\n",
    "''')\n",
    "\n",
    "else:\n",
    "\trom_text_asic = ( f'''\n",
    "\n",
    "--https://stackoverflow.com/questions/17579716/implementing-rom-in-xilinx-vhdl\n",
    "LIBRARY ieee ;\n",
    "USE ieee.std_logic_1164.all ;\n",
    "use ieee.numeric_std.all;\n",
    "\n",
    "----------------\n",
    "\n",
    "ENTITY {nome_rom} is\n",
    "generic(addr_width : integer := {str(memory_depth)}; -- store {str(memory_depth)} elements\n",
    "\t\t\t\taddr_bits  : integer := {str(int(math.log2(memory_depth)))}; -- required bits to store {str(memory_depth)} elements\n",
    "\t\t\t\tdata_width : integer := {str(memory_width)}  -- each element has {str(memory_width)}-bits\n",
    "\t\t\t\t);\n",
    "\t\t\t\n",
    "  PORT (\n",
    "    address : IN STD_LOGIC_VECTOR(addr_bits - 1 DOWNTO 0);\n",
    "    data_out : OUT STD_LOGIC_VECTOR(data_width - 1 DOWNTO 0)\n",
    "  );\n",
    "END ENTITY;\n",
    "\n",
    "------------------\n",
    "architecture arch of {nome_rom} is\n",
    "\n",
    "\ttype memory is array ( 0 to addr_width-1 ) of std_logic_vector(data_width-1 downto 0 ) ;\n",
    "\tconstant myrom : memory := (\n",
    "\t\n",
    "{text_rom_to_asic_2}\n",
    "\t\n",
    "--\t2 => \"11111111\" , --255\n",
    "--\t3 => \"11010101\" ,  \n",
    "others => \"00000000000\" \n",
    ") ;\n",
    "\n",
    "begin \n",
    "---------------\n",
    "data_out <= myrom(to_integer(unsigned(address))) ;\n",
    "end architecture ;\n",
    "\n",
    "''')\n",
    "\n",
    "\n",
    "print(rom_text_asic)"
   ]
  },
  {
   "cell_type": "code",
   "execution_count": null,
   "metadata": {},
   "outputs": [],
   "source": [
    "text_file = open(\"rom_fx_addwidth\"+str(memory_depth)+\"_addbit\"+str(int(math.log2(memory_depth)))+\"_datawidth\"+str(memory_width)+\".vhd\", \"w\")\n",
    "text_file.write(rom_text_asic)\n",
    "text_file.close()"
   ]
  }
 ],
 "metadata": {
  "kernelspec": {
   "display_name": "Python 3",
   "language": "python",
   "name": "python3"
  },
  "language_info": {
   "codemirror_mode": {
    "name": "ipython",
    "version": 3
   },
   "file_extension": ".py",
   "mimetype": "text/x-python",
   "name": "python",
   "nbconvert_exporter": "python",
   "pygments_lexer": "ipython3",
   "version": "3.9.5"
  },
  "orig_nbformat": 4,
  "vscode": {
   "interpreter": {
    "hash": "d1b75f63a51ab1e44c10e89cf3b718812d9c5e2447d39cb402b946ba7653bfcd"
   }
  }
 },
 "nbformat": 4,
 "nbformat_minor": 2
}

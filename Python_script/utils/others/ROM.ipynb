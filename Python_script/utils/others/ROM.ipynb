{
 "cells": [
  {
   "cell_type": "code",
   "execution_count": null,
   "metadata": {},
   "outputs": [],
   "source": [
    "import pandas as pd\n",
    "import numpy as np\n",
    "# from google.colab import files"
   ]
  },
  {
   "cell_type": "code",
   "execution_count": null,
   "metadata": {},
   "outputs": [],
   "source": [
    "#defining bias and input values\n",
    "n_bits = int(8)\n",
    "n_bits_input = n_bits\n",
    "num_inputs = 4           \n",
    "is_signed = 1           #1= signed || 0= unsigned\n",
    "is_sigmoid_signed = 1   #1= signed || 0= unsigned\n",
    "weights_on_memory = 1   #1: on memory || 0: weights = inputs\n",
    "\n",
    "m_bin = 0 # 'm' binary digits are the integer part\n",
    "n_bin = n_bits - m_bin    # 'n' binary digits are the fractional part of `x`;\n",
    "n_bin_sigmoid = n_bin #+ 3 #número de casas decimais sigmoide memória\n",
    "\n",
    "download_files = 0      #1= para baixar || 0= não baixar"
   ]
  },
  {
   "cell_type": "code",
   "execution_count": null,
   "metadata": {},
   "outputs": [],
   "source": [
    "# atenuacao_rescale = 0.95\n",
    "atenuacao_rescale = 1"
   ]
  },
  {
   "cell_type": "code",
   "execution_count": null,
   "metadata": {},
   "outputs": [],
   "source": [
    "range_tb_df = (2**m_bin)              #tamanho do dataframe do tb\n",
    "#DX SIGMOID\n",
    "is_signed = True           #1= signed || 0= unsigned\n",
    "if is_signed:\n",
    "  unsigned_offset = 0\n",
    "  offset_df_memory = 0\n",
    "  # norm_y = (2**(m_bin-1))                   # normalização em y: 256(8bits)\n",
    "  norm_y = 1\n",
    "  dx_sigmoid_final = 1/(2**(n_bin_sigmoid-1))     #dx da sigmoid na memória -> depende das casas .fixo com adicional para resolução de dx_input\n",
    "  \n",
    "else:\n",
    "  unsigned_offset = int((2**m_bin)/2)  # 128\n",
    "  offset_df_memory = unsigned_offset - ((sigmoid_range/2)*mult_factor)\n",
    "  norm_y = (2**(m_bin))                   # normalização em y: 256(8bits)\n",
    "  dx_sigmoid_final = 1/(2**(n_bin_sigmoid))     #dx da sigmoid na memória -> depende das casas .fixo com adicional para resolução de dx_input\n",
    "\n",
    "\n",
    "dx_sigmoid = dx_sigmoid_final/mult_factor   #dx necessário antes da expansão\n",
    "\n",
    "if (dx_sigmoid == 1):\n",
    "  total_dx = range_tb_df+1\n",
    "else:\n",
    "  \n",
    "  total_dx = (1/dx_sigmoid)*sigmoid_range +1"
   ]
  },
  {
   "cell_type": "code",
   "execution_count": null,
   "metadata": {},
   "outputs": [],
   "source": [
    "range_tb_df"
   ]
  },
  {
   "cell_type": "code",
   "execution_count": null,
   "metadata": {},
   "outputs": [],
   "source": [
    "sigmoid_range"
   ]
  },
  {
   "cell_type": "code",
   "execution_count": null,
   "metadata": {},
   "outputs": [],
   "source": [
    "# range_tb_df\n",
    "sigmoid_dx_list = np.linspace(-(sigmoid_range/2),(sigmoid_range/2),int(total_dx)) #vai de -128 a 127, dividido em 256 pontos (8 bits)\n",
    "# sigmoid_dx_list"
   ]
  },
  {
   "cell_type": "code",
   "execution_count": null,
   "metadata": {},
   "outputs": [],
   "source": [
    "# df_sigmoid = pd.DataFrame((range(-int(range_tb_df/2),int(range_tb_df/2)+1,1))) #start, end, step\n",
    "df_sigmoid = pd.DataFrame(np.linspace(-(sigmoid_range/2),(sigmoid_range/2),int(total_dx))) #start, end, step\n",
    "df_sigmoid.columns = ['n'] # INPUTS_df\n",
    "# df_sigmoid['dx'] = sigmoid_dx_list\n",
    "df_sigmoid = df_sigmoid*atenuacao_rescale\n",
    "df_sigmoid.head()"
   ]
  },
  {
   "cell_type": "code",
   "execution_count": null,
   "metadata": {},
   "outputs": [],
   "source": [
    "# ((1/(1+(exp(-1*(testes_x1))))).astype(float)).tolist()\n",
    "# df[0].apply(lambda x: float(x))\n",
    "sigmoide_rescale = (8/(sigmoid_range/2))*0.8\n",
    "multiplied_list = [(1/(1+(exp(-1*(element*sigmoide_rescale))))) for element in sigmoid_dx_list]\n",
    "# multiplied_list\n",
    "df_sigmoid['sigmoid']= multiplied_list\n",
    "df_sigmoid.head()\n",
    "# df_sigmoid"
   ]
  },
  {
   "cell_type": "code",
   "execution_count": null,
   "metadata": {},
   "outputs": [],
   "source": [
    "unsigned_offset"
   ]
  },
  {
   "attachments": {},
   "cell_type": "markdown",
   "metadata": {},
   "source": [
    "## Sigmoid expansion (change 'x' rescale)"
   ]
  },
  {
   "cell_type": "code",
   "execution_count": null,
   "metadata": {},
   "outputs": [],
   "source": [
    "# n_re_scale = (df_sigmoid['n'])*mult_factor\n",
    "n_re_scale = (df_sigmoid['n'])*mult_factor\n",
    "n_re_scale"
   ]
  },
  {
   "cell_type": "code",
   "execution_count": null,
   "metadata": {},
   "outputs": [],
   "source": [
    "# df_sigmoid['n'] = (df_sigmoid['n'] + (unsigned_offset/2))*mult_factor\n",
    "df_sigmoid['n'] = n_re_scale\n",
    "\n",
    "df_sigmoid['n_zeros'] = (df_sigmoid['n'] + dx_sigmoid) #zeros para serem salvos na memória"
   ]
  },
  {
   "cell_type": "code",
   "execution_count": null,
   "metadata": {},
   "outputs": [],
   "source": [
    "df_sigmoid"
   ]
  },
  {
   "cell_type": "code",
   "execution_count": null,
   "metadata": {},
   "outputs": [],
   "source": [
    "# (pd.Series(sigmoid_dx)).plot()\n",
    "(pd.Series(multiplied_list)).plot()"
   ]
  },
  {
   "cell_type": "code",
   "execution_count": null,
   "metadata": {},
   "outputs": [],
   "source": [
    "df_sigmoid['sig_norm']= df_sigmoid['sigmoid']*norm_y\n",
    "df_sigmoid"
   ]
  },
  {
   "attachments": {},
   "cell_type": "markdown",
   "metadata": {},
   "source": [
    "## df_sigmoid_bin"
   ]
  },
  {
   "cell_type": "code",
   "execution_count": null,
   "metadata": {},
   "outputs": [],
   "source": [
    "#SIGMOID MEMORY\n",
    "df_sigmoid_bin = pd.DataFrame()\n",
    "\n",
    "#verification\n",
    "df_sigmoid_bin['address'] = (df_sigmoid['n'])\n",
    "df_sigmoid_bin['sigmoid'] = (df_sigmoid['sig_norm'])\n",
    "\n",
    "#AQUI QUE O 'PONTO FIXO' DEVE COMEÇAR\n",
    "# https://www.google.com/search?q=python+real+number+to+binary&oq=python+real+number+to+bin&aqs=chrome.1.69i57j0i22i30.8856j1j1&sourceid=chrome&ie=UTF-8\n",
    "# https://stackoverflow.com/questions/51843297/convert-real-numbers-to-binary-and-vice-versa-in-python\n",
    "# https://pythonhosted.org/bitstring/\n",
    "df_sigmoid_bin['address_bin'] = (df_sigmoid['n'].apply(lambda x: float_to_binary(x ,m_bin,n_bin_sigmoid,is_signed)))\n",
    "df_sigmoid_bin['address_zeros'] = (df_sigmoid['n_zeros'].apply(lambda x: float_to_binary(x ,m_bin,n_bin_sigmoid,is_signed)))\n",
    "\n",
    "# df_sigmoid_bin['n_bin'] = (df_sigmoid['n'].apply(lambda x: float_to_binary(x ,m_bin,n_bin_sigmoid)))\n",
    "\n",
    "df_sigmoid_bin['sigmoid_bin'] = (df_sigmoid['sig_norm'].apply(lambda x: float_to_binary(x ,m_bin,n_bin_sigmoid,is_sigmoid_signed)))\n",
    "# df_sigmoid_bin.head()\n",
    "df_sigmoid_bin"
   ]
  },
  {
   "cell_type": "code",
   "execution_count": null,
   "metadata": {},
   "outputs": [],
   "source": [
    "# address_bin_converted = binary_to_float(df_sigmoid_bin['address_bin'], str(m_bin), str(n_bin_sigmoid))\n",
    "address_bin_converted = df_sigmoid_bin['address_bin'].apply(lambda x: binary_to_float(x ,m_bin,n_bin_sigmoid,is_signed))\n",
    "# address_bin_converted"
   ]
  },
  {
   "cell_type": "code",
   "execution_count": null,
   "metadata": {},
   "outputs": [],
   "source": [
    "# (pd.Series(sigmoid_dx)).plot()\n",
    "(pd.Series(address_bin_converted)).plot()"
   ]
  },
  {
   "cell_type": "code",
   "execution_count": null,
   "metadata": {},
   "outputs": [],
   "source": [
    "#conferir quantas linhas de endereço duplicadas tem\n",
    "len(df_sigmoid_bin['address_bin'])-len(df_sigmoid_bin['address_bin'].drop_duplicates())"
   ]
  },
  {
   "cell_type": "code",
   "execution_count": null,
   "metadata": {},
   "outputs": [],
   "source": [
    "len(df_sigmoid_bin['address_bin'])"
   ]
  },
  {
   "cell_type": "code",
   "execution_count": null,
   "metadata": {},
   "outputs": [],
   "source": [
    "duplicated_addr_bin = pd.DataFrame(df_sigmoid_bin['address_bin'].duplicated())"
   ]
  },
  {
   "cell_type": "code",
   "execution_count": null,
   "metadata": {},
   "outputs": [],
   "source": [
    "duplicated_addr_bin.head()"
   ]
  },
  {
   "cell_type": "code",
   "execution_count": null,
   "metadata": {},
   "outputs": [],
   "source": [
    "duplicated_addr_bin = duplicated_addr_bin[duplicated_addr_bin['address_bin'] == True]  # df will have only rows with True in c3"
   ]
  },
  {
   "attachments": {},
   "cell_type": "markdown",
   "metadata": {},
   "source": [
    "## Substitui máximos df_Sigmoid"
   ]
  },
  {
   "cell_type": "code",
   "execution_count": null,
   "metadata": {},
   "outputs": [],
   "source": [
    "zeros_aux = str(np.zeros(m_bin+n_bin_sigmoid-1))\n",
    "zeros_aux= zeros_aux.replace(\".\", \"\");\n",
    "zeros_aux= zeros_aux.replace(\"[\", \"\");\n",
    "zeros_aux= zeros_aux.replace(\"]\", \"\");\n",
    "zeros_aux= zeros_aux.replace(\" \", \"\");\n",
    "\n",
    "ones_aux = str(np.ones(m_bin+n_bin_sigmoid-1))\n",
    "ones_aux= ones_aux.replace(\".\", \"\");\n",
    "ones_aux= ones_aux.replace(\"[\", \"\");\n",
    "ones_aux= ones_aux.replace(\"]\", \"\");\n",
    "ones_aux= ones_aux.replace(\" \", \"\");"
   ]
  },
  {
   "cell_type": "code",
   "execution_count": null,
   "metadata": {},
   "outputs": [],
   "source": [
    "##------------CORREÇÃO DE MÁXIMOS e MÍNIMOS BINÁRIOS------------##\n",
    "\n",
    "#Substituindo erros de conversão float -> bin_2complement\n",
    "#valores acima de valor x, estavam sendo convertidos com por ex, 100 sendo que\n",
    "#o máximo seria 011 (apenas exemplo)\n",
    "\n",
    "#--------------Address--------------# (signed)\n",
    "df_sigmoid_bin['address_bin'].iloc[int(len(df_sigmoid_bin)/2):].replace(\n",
    "    to_replace=['1' + zeros_aux],\n",
    "    value='0' + ones_aux,\n",
    "inplace=True)\n",
    "\n",
    "if (is_sigmoid_signed == 0):\n",
    "\n",
    "  #--------------Sigmoid--------------# (unsigned)\n",
    "  df_sigmoid_bin['sigmoid_bin'].replace(to_replace=['10' + zeros_aux],\n",
    "      value= '1' + ones_aux,\n",
    "  inplace=True)\n",
    "\n",
    "#============================================================================#\n",
    "else:\n",
    "\n",
    "    #--------------Sigmoid--------------# (signed)\n",
    "  df_sigmoid_bin['sigmoid_bin'].replace(to_replace=['1' + zeros_aux],\n",
    "      value= '0' + ones_aux,\n",
    "  inplace=True)\n",
    "\n",
    "df_sigmoid_bin"
   ]
  },
  {
   "cell_type": "code",
   "execution_count": null,
   "metadata": {},
   "outputs": [],
   "source": [
    "#tirar linhas que contém valores binários com mais bits que o permitido\n",
    "df_sigmoid_bin.drop(df_sigmoid_bin.tail(1).index,inplace=True) # drop last n rows\n",
    "# df_sigmoid_bin.drop(df_sigmoid_bin.head(1).index,inplace=True) # drop first n rows    "
   ]
  },
  {
   "attachments": {},
   "cell_type": "markdown",
   "metadata": {},
   "source": [
    "# Graphs"
   ]
  },
  {
   "cell_type": "code",
   "execution_count": null,
   "metadata": {},
   "outputs": [],
   "source": [
    "import matplotlib.pyplot as plt\n",
    "import numpy as np\n",
    "import pandas as pd\n",
    "import seaborn as sns\n",
    "import matplotlib.pyplot as plt\n",
    "import plotly.graph_objects as go\n",
    "import plotly.offline as py"
   ]
  },
  {
   "cell_type": "code",
   "execution_count": null,
   "metadata": {},
   "outputs": [],
   "source": [
    "pacitydef = 0.8\n",
    "# teste = go.Scatter(\n",
    "#     # x=dftf.xs('Date', level='Stock info', axis=1)[tickers[k]],\n",
    "#     x= dftf.index,\n",
    "#     y=y_test,\n",
    "#     name=\"teste\",\n",
    "#     line= dict(color='#0080FF'),\n",
    "#     opacity = opacitydef,\n",
    "#     line_shape='spline'\n",
    "#     )\n",
    "\n",
    "sigmoid = go.Scatter(\n",
    "    # x=dftf.xs('Date', level='Stock info', axis=1)[tickers[k]],\n",
    "    x= df_sigmoid_bin['address'],\n",
    "    y=df_sigmoid_bin['sigmoid'],\n",
    "    name=\"sigmoid\",\n",
    "    line= dict(color='#FF8000'),\n",
    "    opacity = 0.8,\n",
    "    line_shape='spline')\n",
    "\n",
    "dadospred = ([sigmoid])#, pred])\n",
    "figpred = go.Figure(data=dadospred)#, layout=layout)\n",
    "py.iplot(figpred)"
   ]
  },
  {
   "cell_type": "code",
   "execution_count": null,
   "metadata": {},
   "outputs": [],
   "source": [
    "#https://stackoverflow.com/questions/35067304/pandas-dataframe-step-plot-where-post\n",
    "# df_sigmoid_bin.plot(drawstyle=\"steps\", linewidth=2, data='sigmoid')\n",
    "plt.plot('address','sigmoid', drawstyle=\"steps\", linewidth=2, data=df_sigmoid_bin, color ='orange')\n",
    "# df_sigmoid_bin.plot(drawstyle=\"steps-post\", linewidth=2)"
   ]
  },
  {
   "cell_type": "code",
   "execution_count": null,
   "metadata": {},
   "outputs": [],
   "source": [
    "plt.plot( 'address', 'sigmoid', data=df_sigmoid_bin, linestyle='-', marker='o')"
   ]
  }
 ],
 "metadata": {
  "kernelspec": {
   "display_name": "Python 3",
   "language": "python",
   "name": "python3"
  },
  "language_info": {
   "name": "python",
   "version": "3.9.5"
  },
  "orig_nbformat": 4,
  "vscode": {
   "interpreter": {
    "hash": "d1b75f63a51ab1e44c10e89cf3b718812d9c5e2447d39cb402b946ba7653bfcd"
   }
  }
 },
 "nbformat": 4,
 "nbformat_minor": 2
}

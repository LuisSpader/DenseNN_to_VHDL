{
 "cells": [
  {
   "cell_type": "code",
   "execution_count": 1,
   "metadata": {},
   "outputs": [],
   "source": [
    "import pandas as pd\n",
    "import numpy as np\n",
    "# from google.colab import files"
   ]
  },
  {
   "cell_type": "code",
   "execution_count": 2,
   "metadata": {},
   "outputs": [],
   "source": [
    "#defining bias and input values\n",
    "BIT_WIDTH = int(8)\n",
    "num_inputs = 4           \n",
    "is_signed = True           #1= signed || 0= unsigned\n",
    "is_sigmoid_signed = 1   #1= signed || 0= unsigned\n",
    "weights_on_memory = 1   #1: on memory || 0: weights = inputs\n",
    "\n",
    "n_integer = 0 # 'm' binary digits are the integer part\n",
    "n_mantissa = BIT_WIDTH - n_integer    # 'n' binary digits are the fractional part of `x`;\n",
    "n_mantissa_sigmoid = n_mantissa #+ 3 #número de casas decimais sigmoide memória\n",
    "\n",
    "download_files = 0      #1= para baixar || 0= não baixar\n",
    "memory_address_type = True               # 0= int(n) ; 1= float(address)|| indice da memoria int ou float\n"
   ]
  },
  {
   "cell_type": "code",
   "execution_count": 3,
   "metadata": {},
   "outputs": [],
   "source": [
    "# atenuacao_rescale = 0.95\n",
    "atenuacao_rescale = 1\n",
    "sigmoid_range = 2                    #tamanho eixo x, sigmoide antes tratamento\n",
    "range_tb_df = (2**n_integer)              #tamanho do dataframe do tb\n",
    "mult_factor = 1                     # expande sigmoide\n"
   ]
  },
  {
   "cell_type": "code",
   "execution_count": 4,
   "metadata": {},
   "outputs": [
    {
     "data": {
      "text/plain": [
       "0"
      ]
     },
     "execution_count": 4,
     "metadata": {},
     "output_type": "execute_result"
    }
   ],
   "source": [
    "n_integer"
   ]
  },
  {
   "cell_type": "code",
   "execution_count": 5,
   "metadata": {},
   "outputs": [
    {
     "data": {
      "text/plain": [
       "8"
      ]
     },
     "execution_count": 5,
     "metadata": {},
     "output_type": "execute_result"
    }
   ],
   "source": [
    "n_mantissa"
   ]
  },
  {
   "cell_type": "code",
   "execution_count": 6,
   "metadata": {},
   "outputs": [
    {
     "data": {
      "text/plain": [
       "0.5"
      ]
     },
     "execution_count": 6,
     "metadata": {},
     "output_type": "execute_result"
    }
   ],
   "source": [
    "2**(n_integer-1)"
   ]
  },
  {
   "cell_type": "code",
   "execution_count": 7,
   "metadata": {},
   "outputs": [],
   "source": [
    "range_tb_df = (2**n_integer)              #tamanho do dataframe do tb\n",
    "#DX SIGMOID\n",
    "is_signed = True           #1= signed || 0= unsigned\n",
    "if is_signed:\n",
    "  unsigned_offset = 0\n",
    "  offset_df_memory = 0\n",
    "  # norm_y = (2**(n_integer-1))                   # normalização em y: 256(8bits)\n",
    "  norm_y = 1\n",
    "  dx_sigmoid_final = 1/(2**(n_mantissa_sigmoid-1))     #dx da sigmoid na memória -> depende das casas .fixo com adicional para resolução de dx_input\n",
    "  \n",
    "else:\n",
    "  unsigned_offset = int((2**n_integer)/2)  # 128\n",
    "  offset_df_memory = unsigned_offset - ((sigmoid_range/2)*mult_factor)\n",
    "  norm_y = (2**(n_integer))                   # normalização em y: 256(8bits)\n",
    "  dx_sigmoid_final = 1/(2**(n_mantissa_sigmoid))     #dx da sigmoid na memória -> depende das casas .fixo com adicional para resolução de dx_input\n",
    "\n",
    "\n",
    "dx_sigmoid = dx_sigmoid_final/mult_factor   #dx necessário antes da expansão\n",
    "\n",
    "if (dx_sigmoid == 1):\n",
    "  total_dx = range_tb_df+1\n",
    "else:\n",
    "  \n",
    "  total_dx = (1/dx_sigmoid)*sigmoid_range +1\n",
    "\n"
   ]
  },
  {
   "cell_type": "code",
   "execution_count": 8,
   "metadata": {},
   "outputs": [],
   "source": [
    "sigmoid_dx_list = np.linspace(-(sigmoid_range/2),(sigmoid_range/2),int(total_dx)) #vai de -128 a 127, dividido em 256 pontos (8 bits)\n"
   ]
  },
  {
   "cell_type": "code",
   "execution_count": 9,
   "metadata": {},
   "outputs": [
    {
     "data": {
      "text/plain": [
       "1"
      ]
     },
     "execution_count": 9,
     "metadata": {},
     "output_type": "execute_result"
    }
   ],
   "source": [
    "range_tb_df"
   ]
  },
  {
   "cell_type": "code",
   "execution_count": 10,
   "metadata": {},
   "outputs": [
    {
     "data": {
      "text/plain": [
       "2"
      ]
     },
     "execution_count": 10,
     "metadata": {},
     "output_type": "execute_result"
    }
   ],
   "source": [
    "sigmoid_range"
   ]
  },
  {
   "cell_type": "code",
   "execution_count": 11,
   "metadata": {},
   "outputs": [],
   "source": [
    "# range_tb_df\n",
    "sigmoid_dx_list = np.linspace(-(sigmoid_range/2),(sigmoid_range/2),int(total_dx)) #vai de -128 a 127, dividido em 256 pontos (8 bits)\n",
    "# sigmoid_dx_list"
   ]
  },
  {
   "cell_type": "code",
   "execution_count": 12,
   "metadata": {},
   "outputs": [
    {
     "data": {
      "text/html": [
       "<div>\n",
       "<style scoped>\n",
       "    .dataframe tbody tr th:only-of-type {\n",
       "        vertical-align: middle;\n",
       "    }\n",
       "\n",
       "    .dataframe tbody tr th {\n",
       "        vertical-align: top;\n",
       "    }\n",
       "\n",
       "    .dataframe thead th {\n",
       "        text-align: right;\n",
       "    }\n",
       "</style>\n",
       "<table border=\"1\" class=\"dataframe\">\n",
       "  <thead>\n",
       "    <tr style=\"text-align: right;\">\n",
       "      <th></th>\n",
       "      <th>n</th>\n",
       "    </tr>\n",
       "  </thead>\n",
       "  <tbody>\n",
       "    <tr>\n",
       "      <th>0</th>\n",
       "      <td>-1.000000</td>\n",
       "    </tr>\n",
       "    <tr>\n",
       "      <th>1</th>\n",
       "      <td>-0.992188</td>\n",
       "    </tr>\n",
       "    <tr>\n",
       "      <th>2</th>\n",
       "      <td>-0.984375</td>\n",
       "    </tr>\n",
       "    <tr>\n",
       "      <th>3</th>\n",
       "      <td>-0.976562</td>\n",
       "    </tr>\n",
       "    <tr>\n",
       "      <th>4</th>\n",
       "      <td>-0.968750</td>\n",
       "    </tr>\n",
       "  </tbody>\n",
       "</table>\n",
       "</div>"
      ],
      "text/plain": [
       "          n\n",
       "0 -1.000000\n",
       "1 -0.992188\n",
       "2 -0.984375\n",
       "3 -0.976562\n",
       "4 -0.968750"
      ]
     },
     "execution_count": 12,
     "metadata": {},
     "output_type": "execute_result"
    }
   ],
   "source": [
    "# df_sigmoid = pd.DataFrame((range(-int(range_tb_df/2),int(range_tb_df/2)+1,1))) #start, end, step\n",
    "df_sigmoid = pd.DataFrame(np.linspace(-(sigmoid_range/2),(sigmoid_range/2),int(total_dx))) #start, end, step\n",
    "df_sigmoid.columns = ['n'] # INPUTS_df\n",
    "# df_sigmoid['dx'] = sigmoid_dx_list\n",
    "df_sigmoid = df_sigmoid*atenuacao_rescale\n",
    "df_sigmoid.head()"
   ]
  },
  {
   "cell_type": "code",
   "execution_count": 13,
   "metadata": {},
   "outputs": [],
   "source": [
    "import math\n",
    "exp = math.exp"
   ]
  },
  {
   "cell_type": "code",
   "execution_count": 14,
   "metadata": {},
   "outputs": [
    {
     "data": {
      "text/html": [
       "<div>\n",
       "<style scoped>\n",
       "    .dataframe tbody tr th:only-of-type {\n",
       "        vertical-align: middle;\n",
       "    }\n",
       "\n",
       "    .dataframe tbody tr th {\n",
       "        vertical-align: top;\n",
       "    }\n",
       "\n",
       "    .dataframe thead th {\n",
       "        text-align: right;\n",
       "    }\n",
       "</style>\n",
       "<table border=\"1\" class=\"dataframe\">\n",
       "  <thead>\n",
       "    <tr style=\"text-align: right;\">\n",
       "      <th></th>\n",
       "      <th>n</th>\n",
       "      <th>sigmoid</th>\n",
       "    </tr>\n",
       "  </thead>\n",
       "  <tbody>\n",
       "    <tr>\n",
       "      <th>0</th>\n",
       "      <td>-1.000000</td>\n",
       "      <td>0.001659</td>\n",
       "    </tr>\n",
       "    <tr>\n",
       "      <th>1</th>\n",
       "      <td>-0.992188</td>\n",
       "      <td>0.001744</td>\n",
       "    </tr>\n",
       "    <tr>\n",
       "      <th>2</th>\n",
       "      <td>-0.984375</td>\n",
       "      <td>0.001833</td>\n",
       "    </tr>\n",
       "    <tr>\n",
       "      <th>3</th>\n",
       "      <td>-0.976562</td>\n",
       "      <td>0.001927</td>\n",
       "    </tr>\n",
       "    <tr>\n",
       "      <th>4</th>\n",
       "      <td>-0.968750</td>\n",
       "      <td>0.002025</td>\n",
       "    </tr>\n",
       "  </tbody>\n",
       "</table>\n",
       "</div>"
      ],
      "text/plain": [
       "          n   sigmoid\n",
       "0 -1.000000  0.001659\n",
       "1 -0.992188  0.001744\n",
       "2 -0.984375  0.001833\n",
       "3 -0.976562  0.001927\n",
       "4 -0.968750  0.002025"
      ]
     },
     "execution_count": 14,
     "metadata": {},
     "output_type": "execute_result"
    }
   ],
   "source": [
    "# ((1/(1+(exp(-1*(testes_x1))))).astype(float)).tolist()\n",
    "# df[0].apply(lambda x: float(x))\n",
    "sigmoide_rescale = (8/(sigmoid_range/2))*0.8\n",
    "multiplied_list = [(1/(1+(exp(-1*(element*sigmoide_rescale))))) for element in sigmoid_dx_list]\n",
    "# multiplied_list\n",
    "df_sigmoid['sigmoid']= multiplied_list\n",
    "df_sigmoid.head()\n",
    "# df_sigmoid"
   ]
  },
  {
   "cell_type": "code",
   "execution_count": 15,
   "metadata": {},
   "outputs": [
    {
     "data": {
      "text/plain": [
       "0"
      ]
     },
     "execution_count": 15,
     "metadata": {},
     "output_type": "execute_result"
    }
   ],
   "source": [
    "unsigned_offset"
   ]
  },
  {
   "attachments": {},
   "cell_type": "markdown",
   "metadata": {},
   "source": [
    "## Sigmoid expansion (change 'x' rescale)"
   ]
  },
  {
   "cell_type": "code",
   "execution_count": 16,
   "metadata": {},
   "outputs": [
    {
     "data": {
      "text/plain": [
       "0     -1.000000\n",
       "1     -0.992188\n",
       "2     -0.984375\n",
       "3     -0.976562\n",
       "4     -0.968750\n",
       "         ...   \n",
       "252    0.968750\n",
       "253    0.976562\n",
       "254    0.984375\n",
       "255    0.992188\n",
       "256    1.000000\n",
       "Name: n, Length: 257, dtype: float64"
      ]
     },
     "execution_count": 16,
     "metadata": {},
     "output_type": "execute_result"
    }
   ],
   "source": [
    "# n_re_scale = (df_sigmoid['n'])*mult_factor\n",
    "n_re_scale = (df_sigmoid['n'])*mult_factor\n",
    "n_re_scale"
   ]
  },
  {
   "cell_type": "code",
   "execution_count": 17,
   "metadata": {},
   "outputs": [],
   "source": [
    "# df_sigmoid['n'] = (df_sigmoid['n'] + (unsigned_offset/2))*mult_factor\n",
    "df_sigmoid['n'] = n_re_scale\n",
    "\n",
    "df_sigmoid['n_zeros'] = (df_sigmoid['n'] + dx_sigmoid) #zeros para serem salvos na memória"
   ]
  },
  {
   "cell_type": "code",
   "execution_count": 18,
   "metadata": {},
   "outputs": [
    {
     "data": {
      "text/html": [
       "<div>\n",
       "<style scoped>\n",
       "    .dataframe tbody tr th:only-of-type {\n",
       "        vertical-align: middle;\n",
       "    }\n",
       "\n",
       "    .dataframe tbody tr th {\n",
       "        vertical-align: top;\n",
       "    }\n",
       "\n",
       "    .dataframe thead th {\n",
       "        text-align: right;\n",
       "    }\n",
       "</style>\n",
       "<table border=\"1\" class=\"dataframe\">\n",
       "  <thead>\n",
       "    <tr style=\"text-align: right;\">\n",
       "      <th></th>\n",
       "      <th>n</th>\n",
       "      <th>sigmoid</th>\n",
       "      <th>n_zeros</th>\n",
       "    </tr>\n",
       "  </thead>\n",
       "  <tbody>\n",
       "    <tr>\n",
       "      <th>0</th>\n",
       "      <td>-1.000000</td>\n",
       "      <td>0.001659</td>\n",
       "      <td>-0.992188</td>\n",
       "    </tr>\n",
       "    <tr>\n",
       "      <th>1</th>\n",
       "      <td>-0.992188</td>\n",
       "      <td>0.001744</td>\n",
       "      <td>-0.984375</td>\n",
       "    </tr>\n",
       "    <tr>\n",
       "      <th>2</th>\n",
       "      <td>-0.984375</td>\n",
       "      <td>0.001833</td>\n",
       "      <td>-0.976562</td>\n",
       "    </tr>\n",
       "    <tr>\n",
       "      <th>3</th>\n",
       "      <td>-0.976562</td>\n",
       "      <td>0.001927</td>\n",
       "      <td>-0.968750</td>\n",
       "    </tr>\n",
       "    <tr>\n",
       "      <th>4</th>\n",
       "      <td>-0.968750</td>\n",
       "      <td>0.002025</td>\n",
       "      <td>-0.960938</td>\n",
       "    </tr>\n",
       "    <tr>\n",
       "      <th>...</th>\n",
       "      <td>...</td>\n",
       "      <td>...</td>\n",
       "      <td>...</td>\n",
       "    </tr>\n",
       "    <tr>\n",
       "      <th>252</th>\n",
       "      <td>0.968750</td>\n",
       "      <td>0.997975</td>\n",
       "      <td>0.976562</td>\n",
       "    </tr>\n",
       "    <tr>\n",
       "      <th>253</th>\n",
       "      <td>0.976562</td>\n",
       "      <td>0.998073</td>\n",
       "      <td>0.984375</td>\n",
       "    </tr>\n",
       "    <tr>\n",
       "      <th>254</th>\n",
       "      <td>0.984375</td>\n",
       "      <td>0.998167</td>\n",
       "      <td>0.992188</td>\n",
       "    </tr>\n",
       "    <tr>\n",
       "      <th>255</th>\n",
       "      <td>0.992188</td>\n",
       "      <td>0.998256</td>\n",
       "      <td>1.000000</td>\n",
       "    </tr>\n",
       "    <tr>\n",
       "      <th>256</th>\n",
       "      <td>1.000000</td>\n",
       "      <td>0.998341</td>\n",
       "      <td>1.007812</td>\n",
       "    </tr>\n",
       "  </tbody>\n",
       "</table>\n",
       "<p>257 rows × 3 columns</p>\n",
       "</div>"
      ],
      "text/plain": [
       "            n   sigmoid   n_zeros\n",
       "0   -1.000000  0.001659 -0.992188\n",
       "1   -0.992188  0.001744 -0.984375\n",
       "2   -0.984375  0.001833 -0.976562\n",
       "3   -0.976562  0.001927 -0.968750\n",
       "4   -0.968750  0.002025 -0.960938\n",
       "..        ...       ...       ...\n",
       "252  0.968750  0.997975  0.976562\n",
       "253  0.976562  0.998073  0.984375\n",
       "254  0.984375  0.998167  0.992188\n",
       "255  0.992188  0.998256  1.000000\n",
       "256  1.000000  0.998341  1.007812\n",
       "\n",
       "[257 rows x 3 columns]"
      ]
     },
     "execution_count": 18,
     "metadata": {},
     "output_type": "execute_result"
    }
   ],
   "source": [
    "df_sigmoid"
   ]
  },
  {
   "cell_type": "code",
   "execution_count": 19,
   "metadata": {},
   "outputs": [
    {
     "data": {
      "text/plain": [
       "<Axes: >"
      ]
     },
     "execution_count": 19,
     "metadata": {},
     "output_type": "execute_result"
    },
    {
     "data": {
      "image/png": "[encoded data removed]",
      "text/plain": [
       "<Figure size 640x480 with 1 Axes>"
      ]
     },
     "metadata": {},
     "output_type": "display_data"
    }
   ],
   "source": [
    "import matplotlib.pyplot as plt\n",
    "# plt.close(\"all\")\n",
    "# (pd.Series(sigmoid_dx)).plot()\n",
    "(pd.Series(multiplied_list)).plot()"
   ]
  },
  {
   "cell_type": "code",
   "execution_count": 20,
   "metadata": {},
   "outputs": [
    {
     "data": {
      "text/html": [
       "<div>\n",
       "<style scoped>\n",
       "    .dataframe tbody tr th:only-of-type {\n",
       "        vertical-align: middle;\n",
       "    }\n",
       "\n",
       "    .dataframe tbody tr th {\n",
       "        vertical-align: top;\n",
       "    }\n",
       "\n",
       "    .dataframe thead th {\n",
       "        text-align: right;\n",
       "    }\n",
       "</style>\n",
       "<table border=\"1\" class=\"dataframe\">\n",
       "  <thead>\n",
       "    <tr style=\"text-align: right;\">\n",
       "      <th></th>\n",
       "      <th>n</th>\n",
       "      <th>sigmoid</th>\n",
       "      <th>n_zeros</th>\n",
       "      <th>sig_norm</th>\n",
       "    </tr>\n",
       "  </thead>\n",
       "  <tbody>\n",
       "    <tr>\n",
       "      <th>0</th>\n",
       "      <td>-1.000000</td>\n",
       "      <td>0.001659</td>\n",
       "      <td>-0.992188</td>\n",
       "      <td>0.001659</td>\n",
       "    </tr>\n",
       "    <tr>\n",
       "      <th>1</th>\n",
       "      <td>-0.992188</td>\n",
       "      <td>0.001744</td>\n",
       "      <td>-0.984375</td>\n",
       "      <td>0.001744</td>\n",
       "    </tr>\n",
       "    <tr>\n",
       "      <th>2</th>\n",
       "      <td>-0.984375</td>\n",
       "      <td>0.001833</td>\n",
       "      <td>-0.976562</td>\n",
       "      <td>0.001833</td>\n",
       "    </tr>\n",
       "    <tr>\n",
       "      <th>3</th>\n",
       "      <td>-0.976562</td>\n",
       "      <td>0.001927</td>\n",
       "      <td>-0.968750</td>\n",
       "      <td>0.001927</td>\n",
       "    </tr>\n",
       "    <tr>\n",
       "      <th>4</th>\n",
       "      <td>-0.968750</td>\n",
       "      <td>0.002025</td>\n",
       "      <td>-0.960938</td>\n",
       "      <td>0.002025</td>\n",
       "    </tr>\n",
       "    <tr>\n",
       "      <th>...</th>\n",
       "      <td>...</td>\n",
       "      <td>...</td>\n",
       "      <td>...</td>\n",
       "      <td>...</td>\n",
       "    </tr>\n",
       "    <tr>\n",
       "      <th>252</th>\n",
       "      <td>0.968750</td>\n",
       "      <td>0.997975</td>\n",
       "      <td>0.976562</td>\n",
       "      <td>0.997975</td>\n",
       "    </tr>\n",
       "    <tr>\n",
       "      <th>253</th>\n",
       "      <td>0.976562</td>\n",
       "      <td>0.998073</td>\n",
       "      <td>0.984375</td>\n",
       "      <td>0.998073</td>\n",
       "    </tr>\n",
       "    <tr>\n",
       "      <th>254</th>\n",
       "      <td>0.984375</td>\n",
       "      <td>0.998167</td>\n",
       "      <td>0.992188</td>\n",
       "      <td>0.998167</td>\n",
       "    </tr>\n",
       "    <tr>\n",
       "      <th>255</th>\n",
       "      <td>0.992188</td>\n",
       "      <td>0.998256</td>\n",
       "      <td>1.000000</td>\n",
       "      <td>0.998256</td>\n",
       "    </tr>\n",
       "    <tr>\n",
       "      <th>256</th>\n",
       "      <td>1.000000</td>\n",
       "      <td>0.998341</td>\n",
       "      <td>1.007812</td>\n",
       "      <td>0.998341</td>\n",
       "    </tr>\n",
       "  </tbody>\n",
       "</table>\n",
       "<p>257 rows × 4 columns</p>\n",
       "</div>"
      ],
      "text/plain": [
       "            n   sigmoid   n_zeros  sig_norm\n",
       "0   -1.000000  0.001659 -0.992188  0.001659\n",
       "1   -0.992188  0.001744 -0.984375  0.001744\n",
       "2   -0.984375  0.001833 -0.976562  0.001833\n",
       "3   -0.976562  0.001927 -0.968750  0.001927\n",
       "4   -0.968750  0.002025 -0.960938  0.002025\n",
       "..        ...       ...       ...       ...\n",
       "252  0.968750  0.997975  0.976562  0.997975\n",
       "253  0.976562  0.998073  0.984375  0.998073\n",
       "254  0.984375  0.998167  0.992188  0.998167\n",
       "255  0.992188  0.998256  1.000000  0.998256\n",
       "256  1.000000  0.998341  1.007812  0.998341\n",
       "\n",
       "[257 rows x 4 columns]"
      ]
     },
     "execution_count": 20,
     "metadata": {},
     "output_type": "execute_result"
    }
   ],
   "source": [
    "df_sigmoid['sig_norm']= df_sigmoid['sigmoid']*norm_y\n",
    "df_sigmoid"
   ]
  },
  {
   "attachments": {},
   "cell_type": "markdown",
   "metadata": {},
   "source": [
    "## df_sigmoid_bin"
   ]
  },
  {
   "cell_type": "code",
   "execution_count": 21,
   "metadata": {},
   "outputs": [],
   "source": [
    "# PEGAR FUNÇÕES FXP_MATH PARA CONVERSÃO FLOAT BIN"
   ]
  },
  {
   "cell_type": "code",
   "execution_count": 22,
   "metadata": {},
   "outputs": [],
   "source": [
    "# # AJUSTANTO DATAFRAME CONFORME LIMITES DE REPRESENTAÇÃO\n",
    "# df_MV.loc[df_MV.X > upper_limit, 'X'] = upper_limit # substituindo valores maiores que o limite superior, pelo próprio limite superior\n",
    "# df_MV.loc[df_MV.X < low_limit, 'X'] = low_limit # substituindo valores maiores que o limite superior, pelo próprio limite superior\n",
    "\n",
    "# df_MV.loc[df_MV.Y > upper_limit, 'Y'] = upper_limit # substituindo valores maiores que o limite superior, pelo próprio limite superior\n",
    "# df_MV.loc[df_MV.Y < low_limit, 'Y'] = low_limit # substituindo valores maiores que o limite superior, pelo próprio limite superior\n",
    "# df_MV"
   ]
  },
  {
   "cell_type": "code",
   "execution_count": 23,
   "metadata": {},
   "outputs": [
    {
     "data": {
      "text/html": [
       "<div>\n",
       "<style scoped>\n",
       "    .dataframe tbody tr th:only-of-type {\n",
       "        vertical-align: middle;\n",
       "    }\n",
       "\n",
       "    .dataframe tbody tr th {\n",
       "        vertical-align: top;\n",
       "    }\n",
       "\n",
       "    .dataframe thead th {\n",
       "        text-align: right;\n",
       "    }\n",
       "</style>\n",
       "<table border=\"1\" class=\"dataframe\">\n",
       "  <thead>\n",
       "    <tr style=\"text-align: right;\">\n",
       "      <th></th>\n",
       "      <th>n</th>\n",
       "      <th>sigmoid</th>\n",
       "      <th>n_zeros</th>\n",
       "      <th>sig_norm</th>\n",
       "    </tr>\n",
       "  </thead>\n",
       "  <tbody>\n",
       "    <tr>\n",
       "      <th>0</th>\n",
       "      <td>-1.000000</td>\n",
       "      <td>0.001659</td>\n",
       "      <td>-0.992188</td>\n",
       "      <td>0.001659</td>\n",
       "    </tr>\n",
       "    <tr>\n",
       "      <th>1</th>\n",
       "      <td>-0.992188</td>\n",
       "      <td>0.001744</td>\n",
       "      <td>-0.984375</td>\n",
       "      <td>0.001744</td>\n",
       "    </tr>\n",
       "    <tr>\n",
       "      <th>2</th>\n",
       "      <td>-0.984375</td>\n",
       "      <td>0.001833</td>\n",
       "      <td>-0.976562</td>\n",
       "      <td>0.001833</td>\n",
       "    </tr>\n",
       "    <tr>\n",
       "      <th>3</th>\n",
       "      <td>-0.976562</td>\n",
       "      <td>0.001927</td>\n",
       "      <td>-0.968750</td>\n",
       "      <td>0.001927</td>\n",
       "    </tr>\n",
       "    <tr>\n",
       "      <th>4</th>\n",
       "      <td>-0.968750</td>\n",
       "      <td>0.002025</td>\n",
       "      <td>-0.960938</td>\n",
       "      <td>0.002025</td>\n",
       "    </tr>\n",
       "    <tr>\n",
       "      <th>...</th>\n",
       "      <td>...</td>\n",
       "      <td>...</td>\n",
       "      <td>...</td>\n",
       "      <td>...</td>\n",
       "    </tr>\n",
       "    <tr>\n",
       "      <th>252</th>\n",
       "      <td>0.968750</td>\n",
       "      <td>0.997975</td>\n",
       "      <td>0.976562</td>\n",
       "      <td>0.997975</td>\n",
       "    </tr>\n",
       "    <tr>\n",
       "      <th>253</th>\n",
       "      <td>0.976562</td>\n",
       "      <td>0.998073</td>\n",
       "      <td>0.984375</td>\n",
       "      <td>0.998073</td>\n",
       "    </tr>\n",
       "    <tr>\n",
       "      <th>254</th>\n",
       "      <td>0.984375</td>\n",
       "      <td>0.998167</td>\n",
       "      <td>0.992188</td>\n",
       "      <td>0.998167</td>\n",
       "    </tr>\n",
       "    <tr>\n",
       "      <th>255</th>\n",
       "      <td>0.992188</td>\n",
       "      <td>0.998256</td>\n",
       "      <td>1.000000</td>\n",
       "      <td>0.998256</td>\n",
       "    </tr>\n",
       "    <tr>\n",
       "      <th>256</th>\n",
       "      <td>1.000000</td>\n",
       "      <td>0.998341</td>\n",
       "      <td>1.007812</td>\n",
       "      <td>0.998341</td>\n",
       "    </tr>\n",
       "  </tbody>\n",
       "</table>\n",
       "<p>257 rows × 4 columns</p>\n",
       "</div>"
      ],
      "text/plain": [
       "            n   sigmoid   n_zeros  sig_norm\n",
       "0   -1.000000  0.001659 -0.992188  0.001659\n",
       "1   -0.992188  0.001744 -0.984375  0.001744\n",
       "2   -0.984375  0.001833 -0.976562  0.001833\n",
       "3   -0.976562  0.001927 -0.968750  0.001927\n",
       "4   -0.968750  0.002025 -0.960938  0.002025\n",
       "..        ...       ...       ...       ...\n",
       "252  0.968750  0.997975  0.976562  0.997975\n",
       "253  0.976562  0.998073  0.984375  0.998073\n",
       "254  0.984375  0.998167  0.992188  0.998167\n",
       "255  0.992188  0.998256  1.000000  0.998256\n",
       "256  1.000000  0.998341  1.007812  0.998341\n",
       "\n",
       "[257 rows x 4 columns]"
      ]
     },
     "execution_count": 23,
     "metadata": {},
     "output_type": "execute_result"
    }
   ],
   "source": [
    "df_sigmoid"
   ]
  },
  {
   "cell_type": "code",
   "execution_count": 48,
   "metadata": {},
   "outputs": [
    {
     "data": {
      "text/plain": [
       "8"
      ]
     },
     "execution_count": 48,
     "metadata": {},
     "output_type": "execute_result"
    }
   ],
   "source": [
    "n_mantissa"
   ]
  },
  {
   "cell_type": "code",
   "execution_count": 60,
   "metadata": {},
   "outputs": [
    {
     "name": "stdout",
     "output_type": "stream",
     "text": [
      "127.0 -128.0\n"
     ]
    },
    {
     "name": "stderr",
     "output_type": "stream",
     "text": [
      "C:\\Users\\luisa\\AppData\\Local\\Temp\\ipykernel_4288\\4154163444.py:26: SettingWithCopyWarning:\n",
      "\n",
      "\n",
      "A value is trying to be set on a copy of a slice from a DataFrame\n",
      "\n",
      "See the caveats in the documentation: https://pandas.pydata.org/pandas-docs/stable/user_guide/indexing.html#returning-a-view-versus-a-copy\n",
      "\n",
      "C:\\Users\\luisa\\AppData\\Local\\Temp\\ipykernel_4288\\4154163444.py:27: SettingWithCopyWarning:\n",
      "\n",
      "\n",
      "A value is trying to be set on a copy of a slice from a DataFrame\n",
      "\n",
      "See the caveats in the documentation: https://pandas.pydata.org/pandas-docs/stable/user_guide/indexing.html#returning-a-view-versus-a-copy\n",
      "\n"
     ]
    },
    {
     "data": {
      "text/html": [
       "<div>\n",
       "<style scoped>\n",
       "    .dataframe tbody tr th:only-of-type {\n",
       "        vertical-align: middle;\n",
       "    }\n",
       "\n",
       "    .dataframe tbody tr th {\n",
       "        vertical-align: top;\n",
       "    }\n",
       "\n",
       "    .dataframe thead th {\n",
       "        text-align: right;\n",
       "    }\n",
       "</style>\n",
       "<table border=\"1\" class=\"dataframe\">\n",
       "  <thead>\n",
       "    <tr style=\"text-align: right;\">\n",
       "      <th></th>\n",
       "      <th>address</th>\n",
       "      <th>sigmoid</th>\n",
       "      <th>address_bin</th>\n",
       "      <th>address_zeros</th>\n",
       "      <th>sigmoid_bin</th>\n",
       "      <th>address_bin_conv</th>\n",
       "      <th>sigmoid_bin_conv</th>\n",
       "    </tr>\n",
       "  </thead>\n",
       "  <tbody>\n",
       "    <tr>\n",
       "      <th>0</th>\n",
       "      <td>-128.0</td>\n",
       "      <td>0.212327</td>\n",
       "      <td>10000000</td>\n",
       "      <td>10000000</td>\n",
       "      <td>00000000</td>\n",
       "      <td>-128.0</td>\n",
       "      <td>0.0</td>\n",
       "    </tr>\n",
       "    <tr>\n",
       "      <th>1</th>\n",
       "      <td>-127.0</td>\n",
       "      <td>0.223194</td>\n",
       "      <td>10000000</td>\n",
       "      <td>10000000</td>\n",
       "      <td>00000000</td>\n",
       "      <td>-128.0</td>\n",
       "      <td>0.0</td>\n",
       "    </tr>\n",
       "    <tr>\n",
       "      <th>2</th>\n",
       "      <td>-126.0</td>\n",
       "      <td>0.234616</td>\n",
       "      <td>10000000</td>\n",
       "      <td>10000000</td>\n",
       "      <td>00000000</td>\n",
       "      <td>-128.0</td>\n",
       "      <td>0.0</td>\n",
       "    </tr>\n",
       "    <tr>\n",
       "      <th>3</th>\n",
       "      <td>-125.0</td>\n",
       "      <td>0.246622</td>\n",
       "      <td>10000000</td>\n",
       "      <td>10000000</td>\n",
       "      <td>00000000</td>\n",
       "      <td>-128.0</td>\n",
       "      <td>0.0</td>\n",
       "    </tr>\n",
       "    <tr>\n",
       "      <th>4</th>\n",
       "      <td>-124.0</td>\n",
       "      <td>0.259241</td>\n",
       "      <td>10000000</td>\n",
       "      <td>10000000</td>\n",
       "      <td>00000000</td>\n",
       "      <td>-128.0</td>\n",
       "      <td>0.0</td>\n",
       "    </tr>\n",
       "    <tr>\n",
       "      <th>...</th>\n",
       "      <td>...</td>\n",
       "      <td>...</td>\n",
       "      <td>...</td>\n",
       "      <td>...</td>\n",
       "      <td>...</td>\n",
       "      <td>...</td>\n",
       "      <td>...</td>\n",
       "    </tr>\n",
       "    <tr>\n",
       "      <th>251</th>\n",
       "      <td>123.0</td>\n",
       "      <td>127.000000</td>\n",
       "      <td>01111111</td>\n",
       "      <td>01111111</td>\n",
       "      <td>01111111</td>\n",
       "      <td>127.0</td>\n",
       "      <td>127.0</td>\n",
       "    </tr>\n",
       "    <tr>\n",
       "      <th>252</th>\n",
       "      <td>124.0</td>\n",
       "      <td>127.000000</td>\n",
       "      <td>01111111</td>\n",
       "      <td>01111111</td>\n",
       "      <td>01111111</td>\n",
       "      <td>127.0</td>\n",
       "      <td>127.0</td>\n",
       "    </tr>\n",
       "    <tr>\n",
       "      <th>253</th>\n",
       "      <td>125.0</td>\n",
       "      <td>127.000000</td>\n",
       "      <td>01111111</td>\n",
       "      <td>01111111</td>\n",
       "      <td>01111111</td>\n",
       "      <td>127.0</td>\n",
       "      <td>127.0</td>\n",
       "    </tr>\n",
       "    <tr>\n",
       "      <th>254</th>\n",
       "      <td>126.0</td>\n",
       "      <td>127.000000</td>\n",
       "      <td>01111111</td>\n",
       "      <td>01111111</td>\n",
       "      <td>01111111</td>\n",
       "      <td>127.0</td>\n",
       "      <td>127.0</td>\n",
       "    </tr>\n",
       "    <tr>\n",
       "      <th>255</th>\n",
       "      <td>127.0</td>\n",
       "      <td>127.000000</td>\n",
       "      <td>01111111</td>\n",
       "      <td>01111111</td>\n",
       "      <td>01111111</td>\n",
       "      <td>127.0</td>\n",
       "      <td>127.0</td>\n",
       "    </tr>\n",
       "  </tbody>\n",
       "</table>\n",
       "<p>256 rows × 7 columns</p>\n",
       "</div>"
      ],
      "text/plain": [
       "     address     sigmoid address_bin address_zeros sigmoid_bin  \\\n",
       "0     -128.0    0.212327    10000000      10000000    00000000   \n",
       "1     -127.0    0.223194    10000000      10000000    00000000   \n",
       "2     -126.0    0.234616    10000000      10000000    00000000   \n",
       "3     -125.0    0.246622    10000000      10000000    00000000   \n",
       "4     -124.0    0.259241    10000000      10000000    00000000   \n",
       "..       ...         ...         ...           ...         ...   \n",
       "251    123.0  127.000000    01111111      01111111    01111111   \n",
       "252    124.0  127.000000    01111111      01111111    01111111   \n",
       "253    125.0  127.000000    01111111      01111111    01111111   \n",
       "254    126.0  127.000000    01111111      01111111    01111111   \n",
       "255    127.0  127.000000    01111111      01111111    01111111   \n",
       "\n",
       "     address_bin_conv  sigmoid_bin_conv  \n",
       "0              -128.0               0.0  \n",
       "1              -128.0               0.0  \n",
       "2              -128.0               0.0  \n",
       "3              -128.0               0.0  \n",
       "4              -128.0               0.0  \n",
       "..                ...               ...  \n",
       "251             127.0             127.0  \n",
       "252             127.0             127.0  \n",
       "253             127.0             127.0  \n",
       "254             127.0             127.0  \n",
       "255             127.0             127.0  \n",
       "\n",
       "[256 rows x 7 columns]"
      ]
     },
     "execution_count": 60,
     "metadata": {},
     "output_type": "execute_result"
    }
   ],
   "source": [
    "from fxpmath import Fxp\n",
    "#SIGMOID MEMORY\n",
    "df_sigmoid_bin = pd.DataFrame()\n",
    "\n",
    "#verification\n",
    "df_sigmoid_bin['address'] = (df_sigmoid['n']) *(2**(BIT_WIDTH - 1))\n",
    "df_sigmoid_bin['sigmoid'] = (df_sigmoid['sig_norm']) *(2**(BIT_WIDTH - 1))\n",
    "n_mantissa_sigmoid = BIT_WIDTH-1\n",
    "df_sigmoid_bin['address_bin'] = (df_sigmoid['n'].apply(lambda x:  Fxp(x, signed=is_signed, n_word= BIT_WIDTH, n_frac= n_mantissa).bin() ) )\n",
    "df_sigmoid_bin['address_zeros'] = (df_sigmoid['n_zeros'].apply(lambda x:  Fxp(x, signed=is_signed, n_word= BIT_WIDTH, n_frac= n_mantissa).bin() ) )\n",
    "df_sigmoid_bin['sigmoid_bin'] = (df_sigmoid['sig_norm'].apply(lambda x:  Fxp(x, signed=is_signed, n_word= BIT_WIDTH, n_frac= n_mantissa_sigmoid).bin() ) )\n",
    "# df_sigmoid_bin['sigmoid_bin'] = (df_sigmoid['sig_norm'].apply(lambda x:  Fxp(x, signed=is_signed, n_word= BIT_WIDTH, n_frac= 0).bin() ) )\n",
    "\n",
    "# scale_ = 1/(2**BIT_WIDTH)\n",
    "# df_sigmoid_bin['address_bin'] = (df_sigmoid['n'].apply(lambda x:  Fxp(x, signed=is_signed, n_word= BIT_WIDTH, n_frac= 0, scale=scale_).bin() ) )\n",
    "# df_sigmoid_bin['address_zeros'] = (df_sigmoid['n_zeros'].apply(lambda x:  Fxp(x, signed=is_signed, n_word= BIT_WIDTH, n_frac= 0, scale=scale_).bin() ) )\n",
    "# df_sigmoid_bin['sigmoid_bin'] = (df_sigmoid['sig_norm'].apply(lambda x:  Fxp(x, signed=is_signed, n_word= BIT_WIDTH, n_frac= 0, scale=scale_).bin() ) )\n",
    "\n",
    "# AJUSTANTO DATAFRAME CONFORME LIMITES DE REPRESENTAÇÃO\n",
    "# upper_limit = (2**(n_integer-1)) - (2**-n_mantissa)\n",
    "# low_limit = -(2**(n_integer-1))\n",
    "upper_limit = (sigmoid_range/2 - (1/2**(BIT_WIDTH-1))) * (2**(BIT_WIDTH-1))\n",
    "low_limit = -(sigmoid_range/2) * (2**(BIT_WIDTH-1))\n",
    "print(upper_limit,low_limit)\n",
    "\n",
    "df_sigmoid_bin['sigmoid'].loc[df_sigmoid_bin['sigmoid'] > upper_limit] = upper_limit # substituindo valores maiores que o limite superior, pelo próprio limite superior\n",
    "df_sigmoid_bin['address'].loc[df_sigmoid_bin['address'] > upper_limit] = upper_limit # substituindo valores maiores que o limite superior, pelo próprio limite superior\n",
    "\n",
    "address_bin_converted = df_sigmoid_bin['address_bin'].apply(lambda x:  Fxp(f\"0b{x}\", signed=is_signed, n_word= BIT_WIDTH, n_frac= 0).astype(float) ) \n",
    "df_sigmoid_bin['address_bin_conv'] = address_bin_converted\n",
    "df_sigmoid_bin['sigmoid_bin_conv'] = df_sigmoid_bin['sigmoid_bin'].apply(lambda x:  Fxp(f\"0b{x}\", signed=is_signed, n_word= BIT_WIDTH, n_frac= 0).astype(float) ) \n",
    "\n",
    "df_sigmoid_bin.drop(df_sigmoid_bin.tail(1).index,inplace=True) # drop last n rows\n",
    "df_sigmoid_bin"
   ]
  },
  {
   "cell_type": "code",
   "execution_count": 64,
   "metadata": {},
   "outputs": [
    {
     "data": {
      "application/vnd.plotly.v1+json": {
       "config": {
        "plotlyServerURL": "https://plot.ly"
       },
       "data": [
        {
         "mode": "lines",
         "type": "scatter",
         "y": [
          0,
          0,
          0,
          0,
          0,
          0,
          0,
          0,
          0,
          0,
          0,
          0,
          0,
          0,
          0,
          0,
          0,
          0,
          0,
          0,
          0,
          0,
          0,
          0,
          0,
          0,
          0,
          0,
          0,
          0,
          0,
          0,
          1,
          1,
          1,
          1,
          1,
          1,
          1,
          1,
          1,
          1,
          1,
          1,
          1,
          1,
          2,
          2,
          2,
          2,
          2,
          2,
          2,
          2,
          3,
          3,
          3,
          3,
          3,
          3,
          4,
          4,
          4,
          4,
          5,
          5,
          5,
          5,
          6,
          6,
          6,
          6,
          7,
          7,
          8,
          8,
          8,
          9,
          9,
          10,
          10,
          11,
          11,
          12,
          12,
          13,
          13,
          14,
          15,
          15,
          16,
          17,
          18,
          18,
          19,
          20,
          21,
          22,
          23,
          24,
          25,
          26,
          27,
          28,
          29,
          30,
          31,
          33,
          34,
          35,
          36,
          38,
          39,
          41,
          42,
          43,
          45,
          46,
          48,
          49,
          51,
          52,
          54,
          56,
          57,
          59,
          60,
          62,
          64,
          65,
          67,
          68,
          70,
          71,
          73,
          75,
          76,
          78,
          79,
          81,
          82,
          84,
          85,
          86,
          88,
          89,
          91,
          92,
          93,
          94,
          96,
          97,
          98,
          99,
          100,
          101,
          102,
          103,
          104,
          105,
          106,
          107,
          108,
          109,
          109,
          110,
          111,
          112,
          112,
          113,
          114,
          114,
          115,
          115,
          116,
          116,
          117,
          117,
          118,
          118,
          119,
          119,
          119,
          120,
          120,
          121,
          121,
          121,
          121,
          122,
          122,
          122,
          122,
          123,
          123,
          123,
          123,
          124,
          124,
          124,
          124,
          124,
          124,
          125,
          125,
          125,
          125,
          125,
          125,
          125,
          125,
          126,
          126,
          126,
          126,
          126,
          126,
          126,
          126,
          126,
          126,
          126,
          126,
          126,
          126,
          127,
          127,
          127,
          127,
          127,
          127,
          127,
          127,
          127,
          127,
          127,
          127,
          127,
          127,
          127,
          127,
          127,
          127,
          127,
          127,
          127,
          127,
          127,
          127,
          127,
          127,
          127,
          127,
          127,
          127,
          127
         ]
        }
       ],
       "layout": {
        "template": {
         "data": {
          "bar": [
           {
            "error_x": {
             "color": "#2a3f5f"
            },
            "error_y": {
             "color": "#2a3f5f"
            },
            "marker": {
             "line": {
              "color": "#E5ECF6",
              "width": 0.5
             },
             "pattern": {
              "fillmode": "overlay",
              "size": 10,
              "solidity": 0.2
             }
            },
            "type": "bar"
           }
          ],
          "barpolar": [
           {
            "marker": {
             "line": {
              "color": "#E5ECF6",
              "width": 0.5
             },
             "pattern": {
              "fillmode": "overlay",
              "size": 10,
              "solidity": 0.2
             }
            },
            "type": "barpolar"
           }
          ],
          "carpet": [
           {
            "aaxis": {
             "endlinecolor": "#2a3f5f",
             "gridcolor": "white",
             "linecolor": "white",
             "minorgridcolor": "white",
             "startlinecolor": "#2a3f5f"
            },
            "baxis": {
             "endlinecolor": "#2a3f5f",
             "gridcolor": "white",
             "linecolor": "white",
             "minorgridcolor": "white",
             "startlinecolor": "#2a3f5f"
            },
            "type": "carpet"
           }
          ],
          "choropleth": [
           {
            "colorbar": {
             "outlinewidth": 0,
             "ticks": ""
            },
            "type": "choropleth"
           }
          ],
          "contour": [
           {
            "colorbar": {
             "outlinewidth": 0,
             "ticks": ""
            },
            "colorscale": [
             [
              0,
              "#0d0887"
             ],
             [
              0.1111111111111111,
              "#46039f"
             ],
             [
              0.2222222222222222,
              "#7201a8"
             ],
             [
              0.3333333333333333,
              "#9c179e"
             ],
             [
              0.4444444444444444,
              "#bd3786"
             ],
             [
              0.5555555555555556,
              "#d8576b"
             ],
             [
              0.6666666666666666,
              "#ed7953"
             ],
             [
              0.7777777777777778,
              "#fb9f3a"
             ],
             [
              0.8888888888888888,
              "#fdca26"
             ],
             [
              1,
              "#f0f921"
             ]
            ],
            "type": "contour"
           }
          ],
          "contourcarpet": [
           {
            "colorbar": {
             "outlinewidth": 0,
             "ticks": ""
            },
            "type": "contourcarpet"
           }
          ],
          "heatmap": [
           {
            "colorbar": {
             "outlinewidth": 0,
             "ticks": ""
            },
            "colorscale": [
             [
              0,
              "#0d0887"
             ],
             [
              0.1111111111111111,
              "#46039f"
             ],
             [
              0.2222222222222222,
              "#7201a8"
             ],
             [
              0.3333333333333333,
              "#9c179e"
             ],
             [
              0.4444444444444444,
              "#bd3786"
             ],
             [
              0.5555555555555556,
              "#d8576b"
             ],
             [
              0.6666666666666666,
              "#ed7953"
             ],
             [
              0.7777777777777778,
              "#fb9f3a"
             ],
             [
              0.8888888888888888,
              "#fdca26"
             ],
             [
              1,
              "#f0f921"
             ]
            ],
            "type": "heatmap"
           }
          ],
          "heatmapgl": [
           {
            "colorbar": {
             "outlinewidth": 0,
             "ticks": ""
            },
            "colorscale": [
             [
              0,
              "#0d0887"
             ],
             [
              0.1111111111111111,
              "#46039f"
             ],
             [
              0.2222222222222222,
              "#7201a8"
             ],
             [
              0.3333333333333333,
              "#9c179e"
             ],
             [
              0.4444444444444444,
              "#bd3786"
             ],
             [
              0.5555555555555556,
              "#d8576b"
             ],
             [
              0.6666666666666666,
              "#ed7953"
             ],
             [
              0.7777777777777778,
              "#fb9f3a"
             ],
             [
              0.8888888888888888,
              "#fdca26"
             ],
             [
              1,
              "#f0f921"
             ]
            ],
            "type": "heatmapgl"
           }
          ],
          "histogram": [
           {
            "marker": {
             "pattern": {
              "fillmode": "overlay",
              "size": 10,
              "solidity": 0.2
             }
            },
            "type": "histogram"
           }
          ],
          "histogram2d": [
           {
            "colorbar": {
             "outlinewidth": 0,
             "ticks": ""
            },
            "colorscale": [
             [
              0,
              "#0d0887"
             ],
             [
              0.1111111111111111,
              "#46039f"
             ],
             [
              0.2222222222222222,
              "#7201a8"
             ],
             [
              0.3333333333333333,
              "#9c179e"
             ],
             [
              0.4444444444444444,
              "#bd3786"
             ],
             [
              0.5555555555555556,
              "#d8576b"
             ],
             [
              0.6666666666666666,
              "#ed7953"
             ],
             [
              0.7777777777777778,
              "#fb9f3a"
             ],
             [
              0.8888888888888888,
              "#fdca26"
             ],
             [
              1,
              "#f0f921"
             ]
            ],
            "type": "histogram2d"
           }
          ],
          "histogram2dcontour": [
           {
            "colorbar": {
             "outlinewidth": 0,
             "ticks": ""
            },
            "colorscale": [
             [
              0,
              "#0d0887"
             ],
             [
              0.1111111111111111,
              "#46039f"
             ],
             [
              0.2222222222222222,
              "#7201a8"
             ],
             [
              0.3333333333333333,
              "#9c179e"
             ],
             [
              0.4444444444444444,
              "#bd3786"
             ],
             [
              0.5555555555555556,
              "#d8576b"
             ],
             [
              0.6666666666666666,
              "#ed7953"
             ],
             [
              0.7777777777777778,
              "#fb9f3a"
             ],
             [
              0.8888888888888888,
              "#fdca26"
             ],
             [
              1,
              "#f0f921"
             ]
            ],
            "type": "histogram2dcontour"
           }
          ],
          "mesh3d": [
           {
            "colorbar": {
             "outlinewidth": 0,
             "ticks": ""
            },
            "type": "mesh3d"
           }
          ],
          "parcoords": [
           {
            "line": {
             "colorbar": {
              "outlinewidth": 0,
              "ticks": ""
             }
            },
            "type": "parcoords"
           }
          ],
          "pie": [
           {
            "automargin": true,
            "type": "pie"
           }
          ],
          "scatter": [
           {
            "fillpattern": {
             "fillmode": "overlay",
             "size": 10,
             "solidity": 0.2
            },
            "type": "scatter"
           }
          ],
          "scatter3d": [
           {
            "line": {
             "colorbar": {
              "outlinewidth": 0,
              "ticks": ""
             }
            },
            "marker": {
             "colorbar": {
              "outlinewidth": 0,
              "ticks": ""
             }
            },
            "type": "scatter3d"
           }
          ],
          "scattercarpet": [
           {
            "marker": {
             "colorbar": {
              "outlinewidth": 0,
              "ticks": ""
             }
            },
            "type": "scattercarpet"
           }
          ],
          "scattergeo": [
           {
            "marker": {
             "colorbar": {
              "outlinewidth": 0,
              "ticks": ""
             }
            },
            "type": "scattergeo"
           }
          ],
          "scattergl": [
           {
            "marker": {
             "colorbar": {
              "outlinewidth": 0,
              "ticks": ""
             }
            },
            "type": "scattergl"
           }
          ],
          "scattermapbox": [
           {
            "marker": {
             "colorbar": {
              "outlinewidth": 0,
              "ticks": ""
             }
            },
            "type": "scattermapbox"
           }
          ],
          "scatterpolar": [
           {
            "marker": {
             "colorbar": {
              "outlinewidth": 0,
              "ticks": ""
             }
            },
            "type": "scatterpolar"
           }
          ],
          "scatterpolargl": [
           {
            "marker": {
             "colorbar": {
              "outlinewidth": 0,
              "ticks": ""
             }
            },
            "type": "scatterpolargl"
           }
          ],
          "scatterternary": [
           {
            "marker": {
             "colorbar": {
              "outlinewidth": 0,
              "ticks": ""
             }
            },
            "type": "scatterternary"
           }
          ],
          "surface": [
           {
            "colorbar": {
             "outlinewidth": 0,
             "ticks": ""
            },
            "colorscale": [
             [
              0,
              "#0d0887"
             ],
             [
              0.1111111111111111,
              "#46039f"
             ],
             [
              0.2222222222222222,
              "#7201a8"
             ],
             [
              0.3333333333333333,
              "#9c179e"
             ],
             [
              0.4444444444444444,
              "#bd3786"
             ],
             [
              0.5555555555555556,
              "#d8576b"
             ],
             [
              0.6666666666666666,
              "#ed7953"
             ],
             [
              0.7777777777777778,
              "#fb9f3a"
             ],
             [
              0.8888888888888888,
              "#fdca26"
             ],
             [
              1,
              "#f0f921"
             ]
            ],
            "type": "surface"
           }
          ],
          "table": [
           {
            "cells": {
             "fill": {
              "color": "#EBF0F8"
             },
             "line": {
              "color": "white"
             }
            },
            "header": {
             "fill": {
              "color": "#C8D4E3"
             },
             "line": {
              "color": "white"
             }
            },
            "type": "table"
           }
          ]
         },
         "layout": {
          "annotationdefaults": {
           "arrowcolor": "#2a3f5f",
           "arrowhead": 0,
           "arrowwidth": 1
          },
          "autotypenumbers": "strict",
          "coloraxis": {
           "colorbar": {
            "outlinewidth": 0,
            "ticks": ""
           }
          },
          "colorscale": {
           "diverging": [
            [
             0,
             "#8e0152"
            ],
            [
             0.1,
             "#c51b7d"
            ],
            [
             0.2,
             "#de77ae"
            ],
            [
             0.3,
             "#f1b6da"
            ],
            [
             0.4,
             "#fde0ef"
            ],
            [
             0.5,
             "#f7f7f7"
            ],
            [
             0.6,
             "#e6f5d0"
            ],
            [
             0.7,
             "#b8e186"
            ],
            [
             0.8,
             "#7fbc41"
            ],
            [
             0.9,
             "#4d9221"
            ],
            [
             1,
             "#276419"
            ]
           ],
           "sequential": [
            [
             0,
             "#0d0887"
            ],
            [
             0.1111111111111111,
             "#46039f"
            ],
            [
             0.2222222222222222,
             "#7201a8"
            ],
            [
             0.3333333333333333,
             "#9c179e"
            ],
            [
             0.4444444444444444,
             "#bd3786"
            ],
            [
             0.5555555555555556,
             "#d8576b"
            ],
            [
             0.6666666666666666,
             "#ed7953"
            ],
            [
             0.7777777777777778,
             "#fb9f3a"
            ],
            [
             0.8888888888888888,
             "#fdca26"
            ],
            [
             1,
             "#f0f921"
            ]
           ],
           "sequentialminus": [
            [
             0,
             "#0d0887"
            ],
            [
             0.1111111111111111,
             "#46039f"
            ],
            [
             0.2222222222222222,
             "#7201a8"
            ],
            [
             0.3333333333333333,
             "#9c179e"
            ],
            [
             0.4444444444444444,
             "#bd3786"
            ],
            [
             0.5555555555555556,
             "#d8576b"
            ],
            [
             0.6666666666666666,
             "#ed7953"
            ],
            [
             0.7777777777777778,
             "#fb9f3a"
            ],
            [
             0.8888888888888888,
             "#fdca26"
            ],
            [
             1,
             "#f0f921"
            ]
           ]
          },
          "colorway": [
           "#636efa",
           "#EF553B",
           "#00cc96",
           "#ab63fa",
           "#FFA15A",
           "#19d3f3",
           "#FF6692",
           "#B6E880",
           "#FF97FF",
           "#FECB52"
          ],
          "font": {
           "color": "#2a3f5f"
          },
          "geo": {
           "bgcolor": "white",
           "lakecolor": "white",
           "landcolor": "#E5ECF6",
           "showlakes": true,
           "showland": true,
           "subunitcolor": "white"
          },
          "hoverlabel": {
           "align": "left"
          },
          "hovermode": "closest",
          "mapbox": {
           "style": "light"
          },
          "paper_bgcolor": "white",
          "plot_bgcolor": "#E5ECF6",
          "polar": {
           "angularaxis": {
            "gridcolor": "white",
            "linecolor": "white",
            "ticks": ""
           },
           "bgcolor": "#E5ECF6",
           "radialaxis": {
            "gridcolor": "white",
            "linecolor": "white",
            "ticks": ""
           }
          },
          "scene": {
           "xaxis": {
            "backgroundcolor": "#E5ECF6",
            "gridcolor": "white",
            "gridwidth": 2,
            "linecolor": "white",
            "showbackground": true,
            "ticks": "",
            "zerolinecolor": "white"
           },
           "yaxis": {
            "backgroundcolor": "#E5ECF6",
            "gridcolor": "white",
            "gridwidth": 2,
            "linecolor": "white",
            "showbackground": true,
            "ticks": "",
            "zerolinecolor": "white"
           },
           "zaxis": {
            "backgroundcolor": "#E5ECF6",
            "gridcolor": "white",
            "gridwidth": 2,
            "linecolor": "white",
            "showbackground": true,
            "ticks": "",
            "zerolinecolor": "white"
           }
          },
          "shapedefaults": {
           "line": {
            "color": "#2a3f5f"
           }
          },
          "ternary": {
           "aaxis": {
            "gridcolor": "white",
            "linecolor": "white",
            "ticks": ""
           },
           "baxis": {
            "gridcolor": "white",
            "linecolor": "white",
            "ticks": ""
           },
           "bgcolor": "#E5ECF6",
           "caxis": {
            "gridcolor": "white",
            "linecolor": "white",
            "ticks": ""
           }
          },
          "title": {
           "x": 0.05
          },
          "xaxis": {
           "automargin": true,
           "gridcolor": "white",
           "linecolor": "white",
           "ticks": "",
           "title": {
            "standoff": 15
           },
           "zerolinecolor": "white",
           "zerolinewidth": 2
          },
          "yaxis": {
           "automargin": true,
           "gridcolor": "white",
           "linecolor": "white",
           "ticks": "",
           "title": {
            "standoff": 15
           },
           "zerolinecolor": "white",
           "zerolinewidth": 2
          }
         }
        },
        "title": {
         "text": "Sample Plot"
        },
        "xaxis": {
         "title": {
          "text": "Index"
         }
        },
        "yaxis": {
         "title": {
          "text": "Values"
         }
        }
       }
      }
     },
     "metadata": {},
     "output_type": "display_data"
    }
   ],
   "source": []
  },
  {
   "cell_type": "code",
   "execution_count": 29,
   "metadata": {},
   "outputs": [
    {
     "data": {
      "text/plain": [
       "128"
      ]
     },
     "execution_count": 29,
     "metadata": {},
     "output_type": "execute_result"
    }
   ],
   "source": [
    "#conferir quantas linhas de endereço duplicadas tem\n",
    "len(df_sigmoid_bin['address_bin'])-len(df_sigmoid_bin['address_bin'].drop_duplicates())"
   ]
  },
  {
   "cell_type": "code",
   "execution_count": 30,
   "metadata": {},
   "outputs": [
    {
     "data": {
      "text/plain": [
       "257"
      ]
     },
     "execution_count": 30,
     "metadata": {},
     "output_type": "execute_result"
    }
   ],
   "source": [
    "len(df_sigmoid_bin['address_bin'])"
   ]
  },
  {
   "cell_type": "code",
   "execution_count": 31,
   "metadata": {},
   "outputs": [],
   "source": [
    "duplicated_addr_bin = pd.DataFrame(df_sigmoid_bin['address_bin'].duplicated())"
   ]
  },
  {
   "cell_type": "code",
   "execution_count": 32,
   "metadata": {},
   "outputs": [
    {
     "data": {
      "text/html": [
       "<div>\n",
       "<style scoped>\n",
       "    .dataframe tbody tr th:only-of-type {\n",
       "        vertical-align: middle;\n",
       "    }\n",
       "\n",
       "    .dataframe tbody tr th {\n",
       "        vertical-align: top;\n",
       "    }\n",
       "\n",
       "    .dataframe thead th {\n",
       "        text-align: right;\n",
       "    }\n",
       "</style>\n",
       "<table border=\"1\" class=\"dataframe\">\n",
       "  <thead>\n",
       "    <tr style=\"text-align: right;\">\n",
       "      <th></th>\n",
       "      <th>address_bin</th>\n",
       "    </tr>\n",
       "  </thead>\n",
       "  <tbody>\n",
       "    <tr>\n",
       "      <th>0</th>\n",
       "      <td>False</td>\n",
       "    </tr>\n",
       "    <tr>\n",
       "      <th>1</th>\n",
       "      <td>True</td>\n",
       "    </tr>\n",
       "    <tr>\n",
       "      <th>2</th>\n",
       "      <td>True</td>\n",
       "    </tr>\n",
       "    <tr>\n",
       "      <th>3</th>\n",
       "      <td>True</td>\n",
       "    </tr>\n",
       "    <tr>\n",
       "      <th>4</th>\n",
       "      <td>True</td>\n",
       "    </tr>\n",
       "  </tbody>\n",
       "</table>\n",
       "</div>"
      ],
      "text/plain": [
       "   address_bin\n",
       "0        False\n",
       "1         True\n",
       "2         True\n",
       "3         True\n",
       "4         True"
      ]
     },
     "execution_count": 32,
     "metadata": {},
     "output_type": "execute_result"
    }
   ],
   "source": [
    "duplicated_addr_bin.head()"
   ]
  },
  {
   "cell_type": "code",
   "execution_count": 33,
   "metadata": {},
   "outputs": [],
   "source": [
    "duplicated_addr_bin = duplicated_addr_bin[duplicated_addr_bin['address_bin'] == True]  # df will have only rows with True in c3"
   ]
  },
  {
   "attachments": {},
   "cell_type": "markdown",
   "metadata": {},
   "source": [
    "## Substitui máximos df_Sigmoid"
   ]
  },
  {
   "cell_type": "code",
   "execution_count": 34,
   "metadata": {},
   "outputs": [],
   "source": [
    "# zeros_aux = str(np.zeros(n_integer+n_mantissa_sigmoid-1))\n",
    "# zeros_aux= zeros_aux.replace(\".\", \"\");\n",
    "# zeros_aux= zeros_aux.replace(\"[\", \"\");\n",
    "# zeros_aux= zeros_aux.replace(\"]\", \"\");\n",
    "# zeros_aux= zeros_aux.replace(\" \", \"\");\n",
    "\n",
    "# ones_aux = str(np.ones(n_integer+n_mantissa_sigmoid-1))\n",
    "# ones_aux= ones_aux.replace(\".\", \"\");\n",
    "# ones_aux= ones_aux.replace(\"[\", \"\");\n",
    "# ones_aux= ones_aux.replace(\"]\", \"\");\n",
    "# ones_aux= ones_aux.replace(\" \", \"\");"
   ]
  },
  {
   "cell_type": "code",
   "execution_count": 65,
   "metadata": {},
   "outputs": [],
   "source": [
    "# ##------------CORREÇÃO DE MÁXIMOS e MÍNIMOS BINÁRIOS------------##\n",
    "\n",
    "# #Substituindo erros de conversão float -> bin_2complement\n",
    "# #valores acima de valor x, estavam sendo convertidos com por ex, 100 sendo que\n",
    "# #o máximo seria 011 (apenas exemplo)\n",
    "\n",
    "# #--------------Address--------------# (signed)\n",
    "# df_sigmoid_bin['address_bin'].iloc[int(len(df_sigmoid_bin)/2):].replace(\n",
    "#     to_replace=['1' + zeros_aux],\n",
    "#     value='0' + ones_aux,\n",
    "# inplace=True)\n",
    "\n",
    "# if (is_sigmoid_signed == 0):\n",
    "\n",
    "#   #--------------Sigmoid--------------# (unsigned)\n",
    "#   df_sigmoid_bin['sigmoid_bin'].replace(to_replace=['10' + zeros_aux],\n",
    "#       value= '1' + ones_aux,\n",
    "#   inplace=True)\n",
    "\n",
    "# #============================================================================#\n",
    "# else:\n",
    "\n",
    "#     #--------------Sigmoid--------------# (signed)\n",
    "#   df_sigmoid_bin['sigmoid_bin'].replace(to_replace=['1' + zeros_aux],\n",
    "#       value= '0' + ones_aux,\n",
    "#   inplace=True)\n",
    "\n",
    "# df_sigmoid_bin"
   ]
  },
  {
   "attachments": {},
   "cell_type": "markdown",
   "metadata": {},
   "source": [
    "# Graphs"
   ]
  },
  {
   "cell_type": "code",
   "execution_count": 66,
   "metadata": {},
   "outputs": [],
   "source": [
    "import matplotlib.pyplot as plt\n",
    "import numpy as np\n",
    "import pandas as pd\n",
    "import seaborn as sns\n",
    "import matplotlib.pyplot as plt\n",
    "import plotly.graph_objects as go\n",
    "import plotly.offline as py"
   ]
  },
  {
   "cell_type": "code",
   "execution_count": 73,
   "metadata": {},
   "outputs": [
    {
     "data": {
      "application/vnd.plotly.v1+json": {
       "config": {
        "linkText": "Export to plot.ly",
        "plotlyServerURL": "https://plot.ly",
        "showLink": false
       },
       "data": [
        {
         "line": {
          "shape": "spline"
         },
         "name": "sigmoid",
         "opacity": 0.8,
         "type": "scatter",
         "x": [
          -128,
          -127,
          -126,
          -125,
          -124,
          -123,
          -122,
          -121,
          -120,
          -119,
          -118,
          -117,
          -116,
          -115,
          -114,
          -113,
          -112,
          -111,
          -110,
          -109,
          -108,
          -107,
          -106,
          -105,
          -104,
          -103,
          -102,
          -101,
          -100,
          -99,
          -98,
          -97,
          -96,
          -95,
          -94,
          -93,
          -92,
          -91,
          -90,
          -89,
          -88,
          -87,
          -86,
          -85,
          -84,
          -83,
          -82,
          -81,
          -80,
          -79,
          -78,
          -77,
          -76,
          -75,
          -74,
          -73,
          -72,
          -71,
          -70,
          -69,
          -68,
          -67,
          -66,
          -65,
          -64,
          -63,
          -62,
          -61,
          -60,
          -59,
          -58,
          -57,
          -56,
          -55,
          -54,
          -53,
          -52,
          -51,
          -50,
          -49,
          -48,
          -47,
          -46,
          -45,
          -44,
          -43,
          -42,
          -41,
          -40,
          -39,
          -38,
          -37,
          -36,
          -35,
          -34,
          -33,
          -32,
          -31,
          -30,
          -29,
          -28,
          -27,
          -26,
          -25,
          -24,
          -23,
          -22,
          -21,
          -20,
          -19,
          -18,
          -17,
          -16,
          -15,
          -14,
          -13,
          -12,
          -11,
          -10,
          -9,
          -8,
          -7,
          -6,
          -5,
          -4,
          -3,
          -2,
          -1,
          0,
          1,
          2,
          3,
          4,
          5,
          6,
          7,
          8,
          9,
          10,
          11,
          12,
          13,
          14,
          15,
          16,
          17,
          18,
          19,
          20,
          21,
          22,
          23,
          24,
          25,
          26,
          27,
          28,
          29,
          30,
          31,
          32,
          33,
          34,
          35,
          36,
          37,
          38,
          39,
          40,
          41,
          42,
          43,
          44,
          45,
          46,
          47,
          48,
          49,
          50,
          51,
          52,
          53,
          54,
          55,
          56,
          57,
          58,
          59,
          60,
          61,
          62,
          63,
          64,
          65,
          66,
          67,
          68,
          69,
          70,
          71,
          72,
          73,
          74,
          75,
          76,
          77,
          78,
          79,
          80,
          81,
          82,
          83,
          84,
          85,
          86,
          87,
          88,
          89,
          90,
          91,
          92,
          93,
          94,
          95,
          96,
          97,
          98,
          99,
          100,
          101,
          102,
          103,
          104,
          105,
          106,
          107,
          108,
          109,
          110,
          111,
          112,
          113,
          114,
          115,
          116,
          117,
          118,
          119,
          120,
          121,
          122,
          123,
          124,
          125,
          126,
          127
         ],
         "y": [
          0.21232653826232595,
          0.22319377036221158,
          0.23461618463907885,
          0.24662203690591689,
          0.2592410097983849,
          0.2725042836434162,
          0.28644461072337046,
          0.30109639308520264,
          0.3164957640492511,
          0.3326806735773884,
          0.34969097766541557,
          0.3675685319296509,
          0.38635728956267795,
          0.4061034038381042,
          0.42685533534890807,
          0.44866396416849125,
          0.4715827071278062,
          0.4956676404058916,
          0.5209776276347043,
          0.5475744537222366,
          0.5755229646004708,
          0.6048912131066212,
          0.6357506112072905,
          0.6681760887754749,
          0.7022462591296517,
          0.7380435915423876,
          0.7756545909227661,
          0.8151699848723893,
          0.8566849183084615,
          0.9002991558393806,
          0.9461172920680923,
          0.9942489699859197,
          1.0448091076044659,
          1.097918132955134,
          1.1537022275645212,
          1.2122935784891018,
          1.2738306389637526,
          1.3384583976855131,
          1.406328656715927,
          1.477600317942053,
          1.5524396779871024,
          1.6310207314062843,
          1.7135254819410917,
          1.8001442615354208,
          1.891076056738951,
          1.9865288420363374,
          2.0867199195444393,
          2.19187626441315,
          2.3022348751477195,
          2.418043127940998,
          2.5395591339619203,
          2.6670520983910944,
          2.8008026798246997,
          2.9411033484832787,
          3.088258741461657,
          3.2425860130395803,
          3.4044151778388296,
          3.574089444361346,
          3.751965536173609,
          3.938413997714945,
          4.133819481401663,
          4.338581012374802,
          4.553112226897429,
          4.7778415800485705,
          5.013212517985838,
          5.259683609659519,
          5.517728632459023,
          5.7878366058607975,
          6.070511766728548,
          6.36627347949526,
          6.675656074037468,
          6.999208603640417,
          7.337494515055197,
          7.691091222272976,
          8.06058957529555,
          8.446593214876001,
          8.849717803948392,
          9.270590126274264,
          9.709847042719174,
          10.16813429554923,
          10.646105151222061,
          11.14441887235472,
          11.663739009901583,
          12.204731507086015,
          12.768062607319697,
          13.354396559232168,
          13.964393113038456,
          14.598704803813227,
          15.257974018831046,
          15.942829847989298,
          16.653884718463722,
          17.391730817164067,
          18.156936307262434,
          18.950041348056253,
          19.771553930692438,
          20.62194554580291,
          21.501646702857666,
          22.411042324997094,
          23.350467047213613,
          24.320200449960055,
          25.320462264501533,
          26.35140759052126,
          27.413122170552498,
          28.50561776963953,
          29.628827712125737,
          30.782602630513775,
          31.96670648382494,
          33.18081290468429,
          34.42450193535937,
          35.69725721307352,
          36.99846366399949,
          38.32740576333146,
          39.68326641566561,
          41.0651265055497,
          42.47196516247474,
          43.90266077779215,
          45.35599280309818,
          46.83064435061752,
          48.32520560616261,
          49.838178054499586,
          51.367979505606144,
          52.91294989858176,
          54.47135784810765,
          56.04140788661785,
          57.62124834400284,
          59.20897979600006,
          60.80266400269568,
          62.40033325002107,
          64,
          65.59966674997892,
          67.19733599730432,
          68.79102020399995,
          70.37875165599718,
          71.95859211338215,
          73.52864215189236,
          75.08705010141826,
          76.63202049439386,
          78.16182194550042,
          79.67479439383739,
          81.1693556493825,
          82.64400719690181,
          84.09733922220785,
          85.52803483752527,
          86.9348734944503,
          88.3167335843344,
          89.67259423666854,
          91.0015363360005,
          92.30274278692647,
          93.57549806464063,
          94.81918709531571,
          96.03329351617506,
          97.2173973694862,
          98.37117228787427,
          99.49438223036046,
          100.5868778294475,
          101.64859240947875,
          102.67953773549847,
          103.67979955003995,
          104.64953295278639,
          105.5889576750029,
          106.49835329714233,
          107.37805445419708,
          108.22844606930755,
          109.04995865194375,
          109.84306369273757,
          110.60826918283594,
          111.34611528153627,
          112.0571701520107,
          112.74202598116894,
          113.40129519618677,
          114.03560688696155,
          114.64560344076783,
          115.2319373926803,
          115.79526849291399,
          116.33626099009841,
          116.85558112764527,
          117.35389484877794,
          117.83186570445076,
          118.29015295728084,
          118.72940987372573,
          119.15028219605162,
          119.553406785124,
          119.93941042470445,
          120.30890877772703,
          120.6625054849448,
          121.00079139635957,
          121.32434392596254,
          121.63372652050475,
          121.92948823327147,
          122.2121633941392,
          122.48227136754097,
          122.74031639034048,
          122.98678748201417,
          123.22215841995144,
          123.44688777310257,
          123.6614189876252,
          123.86618051859834,
          124.06158600228505,
          124.24803446382639,
          124.42591055563867,
          124.59558482216116,
          124.75741398696043,
          124.91174125853834,
          125.05889665151672,
          125.19919732017529,
          125.3329479016089,
          125.46044086603808,
          125.581956872059,
          125.69776512485228,
          125.80812373558686,
          125.91328008045556,
          126.01347115796366,
          126.10892394326105,
          126.19985573846456,
          126.2864745180589,
          126.36897926859372,
          126.44756032201289,
          126.52239968205795,
          126.59367134328407,
          126.66154160231447,
          126.72616936103626,
          126.78770642151089,
          126.84629777243546,
          126.90208186704487,
          126.95519089239554,
          127,
          127,
          127,
          127,
          127,
          127,
          127,
          127,
          127,
          127,
          127,
          127,
          127,
          127,
          127,
          127,
          127,
          127,
          127,
          127,
          127,
          127,
          127,
          127,
          127,
          127,
          127,
          127,
          127,
          127,
          127
         ]
        },
        {
         "line": {
          "color": "#FF8000",
          "shape": "spline"
         },
         "name": "sigmoid_bin",
         "opacity": 0.8,
         "type": "scatter",
         "x": [
          -128,
          -127,
          -126,
          -125,
          -124,
          -123,
          -122,
          -121,
          -120,
          -119,
          -118,
          -117,
          -116,
          -115,
          -114,
          -113,
          -112,
          -111,
          -110,
          -109,
          -108,
          -107,
          -106,
          -105,
          -104,
          -103,
          -102,
          -101,
          -100,
          -99,
          -98,
          -97,
          -96,
          -95,
          -94,
          -93,
          -92,
          -91,
          -90,
          -89,
          -88,
          -87,
          -86,
          -85,
          -84,
          -83,
          -82,
          -81,
          -80,
          -79,
          -78,
          -77,
          -76,
          -75,
          -74,
          -73,
          -72,
          -71,
          -70,
          -69,
          -68,
          -67,
          -66,
          -65,
          -64,
          -63,
          -62,
          -61,
          -60,
          -59,
          -58,
          -57,
          -56,
          -55,
          -54,
          -53,
          -52,
          -51,
          -50,
          -49,
          -48,
          -47,
          -46,
          -45,
          -44,
          -43,
          -42,
          -41,
          -40,
          -39,
          -38,
          -37,
          -36,
          -35,
          -34,
          -33,
          -32,
          -31,
          -30,
          -29,
          -28,
          -27,
          -26,
          -25,
          -24,
          -23,
          -22,
          -21,
          -20,
          -19,
          -18,
          -17,
          -16,
          -15,
          -14,
          -13,
          -12,
          -11,
          -10,
          -9,
          -8,
          -7,
          -6,
          -5,
          -4,
          -3,
          -2,
          -1,
          0,
          1,
          2,
          3,
          4,
          5,
          6,
          7,
          8,
          9,
          10,
          11,
          12,
          13,
          14,
          15,
          16,
          17,
          18,
          19,
          20,
          21,
          22,
          23,
          24,
          25,
          26,
          27,
          28,
          29,
          30,
          31,
          32,
          33,
          34,
          35,
          36,
          37,
          38,
          39,
          40,
          41,
          42,
          43,
          44,
          45,
          46,
          47,
          48,
          49,
          50,
          51,
          52,
          53,
          54,
          55,
          56,
          57,
          58,
          59,
          60,
          61,
          62,
          63,
          64,
          65,
          66,
          67,
          68,
          69,
          70,
          71,
          72,
          73,
          74,
          75,
          76,
          77,
          78,
          79,
          80,
          81,
          82,
          83,
          84,
          85,
          86,
          87,
          88,
          89,
          90,
          91,
          92,
          93,
          94,
          95,
          96,
          97,
          98,
          99,
          100,
          101,
          102,
          103,
          104,
          105,
          106,
          107,
          108,
          109,
          110,
          111,
          112,
          113,
          114,
          115,
          116,
          117,
          118,
          119,
          120,
          121,
          122,
          123,
          124,
          125,
          126,
          127
         ],
         "y": [
          0,
          0,
          0,
          0,
          0,
          0,
          0,
          0,
          0,
          0,
          0,
          0,
          0,
          0,
          0,
          0,
          0,
          0,
          0,
          0,
          0,
          0,
          0,
          0,
          0,
          0,
          0,
          0,
          0,
          0,
          0,
          0,
          1,
          1,
          1,
          1,
          1,
          1,
          1,
          1,
          1,
          1,
          1,
          1,
          1,
          1,
          2,
          2,
          2,
          2,
          2,
          2,
          2,
          2,
          3,
          3,
          3,
          3,
          3,
          3,
          4,
          4,
          4,
          4,
          5,
          5,
          5,
          5,
          6,
          6,
          6,
          6,
          7,
          7,
          8,
          8,
          8,
          9,
          9,
          10,
          10,
          11,
          11,
          12,
          12,
          13,
          13,
          14,
          15,
          15,
          16,
          17,
          18,
          18,
          19,
          20,
          21,
          22,
          23,
          24,
          25,
          26,
          27,
          28,
          29,
          30,
          31,
          33,
          34,
          35,
          36,
          38,
          39,
          41,
          42,
          43,
          45,
          46,
          48,
          49,
          51,
          52,
          54,
          56,
          57,
          59,
          60,
          62,
          64,
          65,
          67,
          68,
          70,
          71,
          73,
          75,
          76,
          78,
          79,
          81,
          82,
          84,
          85,
          86,
          88,
          89,
          91,
          92,
          93,
          94,
          96,
          97,
          98,
          99,
          100,
          101,
          102,
          103,
          104,
          105,
          106,
          107,
          108,
          109,
          109,
          110,
          111,
          112,
          112,
          113,
          114,
          114,
          115,
          115,
          116,
          116,
          117,
          117,
          118,
          118,
          119,
          119,
          119,
          120,
          120,
          121,
          121,
          121,
          121,
          122,
          122,
          122,
          122,
          123,
          123,
          123,
          123,
          124,
          124,
          124,
          124,
          124,
          124,
          125,
          125,
          125,
          125,
          125,
          125,
          125,
          125,
          126,
          126,
          126,
          126,
          126,
          126,
          126,
          126,
          126,
          126,
          126,
          126,
          126,
          126,
          127,
          127,
          127,
          127,
          127,
          127,
          127,
          127,
          127,
          127,
          127,
          127,
          127,
          127,
          127,
          127,
          127,
          127,
          127,
          127,
          127,
          127,
          127,
          127,
          127,
          127,
          127,
          127,
          127,
          127,
          127
         ]
        }
       ],
       "layout": {
        "template": {
         "data": {
          "bar": [
           {
            "error_x": {
             "color": "#2a3f5f"
            },
            "error_y": {
             "color": "#2a3f5f"
            },
            "marker": {
             "line": {
              "color": "#E5ECF6",
              "width": 0.5
             },
             "pattern": {
              "fillmode": "overlay",
              "size": 10,
              "solidity": 0.2
             }
            },
            "type": "bar"
           }
          ],
          "barpolar": [
           {
            "marker": {
             "line": {
              "color": "#E5ECF6",
              "width": 0.5
             },
             "pattern": {
              "fillmode": "overlay",
              "size": 10,
              "solidity": 0.2
             }
            },
            "type": "barpolar"
           }
          ],
          "carpet": [
           {
            "aaxis": {
             "endlinecolor": "#2a3f5f",
             "gridcolor": "white",
             "linecolor": "white",
             "minorgridcolor": "white",
             "startlinecolor": "#2a3f5f"
            },
            "baxis": {
             "endlinecolor": "#2a3f5f",
             "gridcolor": "white",
             "linecolor": "white",
             "minorgridcolor": "white",
             "startlinecolor": "#2a3f5f"
            },
            "type": "carpet"
           }
          ],
          "choropleth": [
           {
            "colorbar": {
             "outlinewidth": 0,
             "ticks": ""
            },
            "type": "choropleth"
           }
          ],
          "contour": [
           {
            "colorbar": {
             "outlinewidth": 0,
             "ticks": ""
            },
            "colorscale": [
             [
              0,
              "#0d0887"
             ],
             [
              0.1111111111111111,
              "#46039f"
             ],
             [
              0.2222222222222222,
              "#7201a8"
             ],
             [
              0.3333333333333333,
              "#9c179e"
             ],
             [
              0.4444444444444444,
              "#bd3786"
             ],
             [
              0.5555555555555556,
              "#d8576b"
             ],
             [
              0.6666666666666666,
              "#ed7953"
             ],
             [
              0.7777777777777778,
              "#fb9f3a"
             ],
             [
              0.8888888888888888,
              "#fdca26"
             ],
             [
              1,
              "#f0f921"
             ]
            ],
            "type": "contour"
           }
          ],
          "contourcarpet": [
           {
            "colorbar": {
             "outlinewidth": 0,
             "ticks": ""
            },
            "type": "contourcarpet"
           }
          ],
          "heatmap": [
           {
            "colorbar": {
             "outlinewidth": 0,
             "ticks": ""
            },
            "colorscale": [
             [
              0,
              "#0d0887"
             ],
             [
              0.1111111111111111,
              "#46039f"
             ],
             [
              0.2222222222222222,
              "#7201a8"
             ],
             [
              0.3333333333333333,
              "#9c179e"
             ],
             [
              0.4444444444444444,
              "#bd3786"
             ],
             [
              0.5555555555555556,
              "#d8576b"
             ],
             [
              0.6666666666666666,
              "#ed7953"
             ],
             [
              0.7777777777777778,
              "#fb9f3a"
             ],
             [
              0.8888888888888888,
              "#fdca26"
             ],
             [
              1,
              "#f0f921"
             ]
            ],
            "type": "heatmap"
           }
          ],
          "heatmapgl": [
           {
            "colorbar": {
             "outlinewidth": 0,
             "ticks": ""
            },
            "colorscale": [
             [
              0,
              "#0d0887"
             ],
             [
              0.1111111111111111,
              "#46039f"
             ],
             [
              0.2222222222222222,
              "#7201a8"
             ],
             [
              0.3333333333333333,
              "#9c179e"
             ],
             [
              0.4444444444444444,
              "#bd3786"
             ],
             [
              0.5555555555555556,
              "#d8576b"
             ],
             [
              0.6666666666666666,
              "#ed7953"
             ],
             [
              0.7777777777777778,
              "#fb9f3a"
             ],
             [
              0.8888888888888888,
              "#fdca26"
             ],
             [
              1,
              "#f0f921"
             ]
            ],
            "type": "heatmapgl"
           }
          ],
          "histogram": [
           {
            "marker": {
             "pattern": {
              "fillmode": "overlay",
              "size": 10,
              "solidity": 0.2
             }
            },
            "type": "histogram"
           }
          ],
          "histogram2d": [
           {
            "colorbar": {
             "outlinewidth": 0,
             "ticks": ""
            },
            "colorscale": [
             [
              0,
              "#0d0887"
             ],
             [
              0.1111111111111111,
              "#46039f"
             ],
             [
              0.2222222222222222,
              "#7201a8"
             ],
             [
              0.3333333333333333,
              "#9c179e"
             ],
             [
              0.4444444444444444,
              "#bd3786"
             ],
             [
              0.5555555555555556,
              "#d8576b"
             ],
             [
              0.6666666666666666,
              "#ed7953"
             ],
             [
              0.7777777777777778,
              "#fb9f3a"
             ],
             [
              0.8888888888888888,
              "#fdca26"
             ],
             [
              1,
              "#f0f921"
             ]
            ],
            "type": "histogram2d"
           }
          ],
          "histogram2dcontour": [
           {
            "colorbar": {
             "outlinewidth": 0,
             "ticks": ""
            },
            "colorscale": [
             [
              0,
              "#0d0887"
             ],
             [
              0.1111111111111111,
              "#46039f"
             ],
             [
              0.2222222222222222,
              "#7201a8"
             ],
             [
              0.3333333333333333,
              "#9c179e"
             ],
             [
              0.4444444444444444,
              "#bd3786"
             ],
             [
              0.5555555555555556,
              "#d8576b"
             ],
             [
              0.6666666666666666,
              "#ed7953"
             ],
             [
              0.7777777777777778,
              "#fb9f3a"
             ],
             [
              0.8888888888888888,
              "#fdca26"
             ],
             [
              1,
              "#f0f921"
             ]
            ],
            "type": "histogram2dcontour"
           }
          ],
          "mesh3d": [
           {
            "colorbar": {
             "outlinewidth": 0,
             "ticks": ""
            },
            "type": "mesh3d"
           }
          ],
          "parcoords": [
           {
            "line": {
             "colorbar": {
              "outlinewidth": 0,
              "ticks": ""
             }
            },
            "type": "parcoords"
           }
          ],
          "pie": [
           {
            "automargin": true,
            "type": "pie"
           }
          ],
          "scatter": [
           {
            "fillpattern": {
             "fillmode": "overlay",
             "size": 10,
             "solidity": 0.2
            },
            "type": "scatter"
           }
          ],
          "scatter3d": [
           {
            "line": {
             "colorbar": {
              "outlinewidth": 0,
              "ticks": ""
             }
            },
            "marker": {
             "colorbar": {
              "outlinewidth": 0,
              "ticks": ""
             }
            },
            "type": "scatter3d"
           }
          ],
          "scattercarpet": [
           {
            "marker": {
             "colorbar": {
              "outlinewidth": 0,
              "ticks": ""
             }
            },
            "type": "scattercarpet"
           }
          ],
          "scattergeo": [
           {
            "marker": {
             "colorbar": {
              "outlinewidth": 0,
              "ticks": ""
             }
            },
            "type": "scattergeo"
           }
          ],
          "scattergl": [
           {
            "marker": {
             "colorbar": {
              "outlinewidth": 0,
              "ticks": ""
             }
            },
            "type": "scattergl"
           }
          ],
          "scattermapbox": [
           {
            "marker": {
             "colorbar": {
              "outlinewidth": 0,
              "ticks": ""
             }
            },
            "type": "scattermapbox"
           }
          ],
          "scatterpolar": [
           {
            "marker": {
             "colorbar": {
              "outlinewidth": 0,
              "ticks": ""
             }
            },
            "type": "scatterpolar"
           }
          ],
          "scatterpolargl": [
           {
            "marker": {
             "colorbar": {
              "outlinewidth": 0,
              "ticks": ""
             }
            },
            "type": "scatterpolargl"
           }
          ],
          "scatterternary": [
           {
            "marker": {
             "colorbar": {
              "outlinewidth": 0,
              "ticks": ""
             }
            },
            "type": "scatterternary"
           }
          ],
          "surface": [
           {
            "colorbar": {
             "outlinewidth": 0,
             "ticks": ""
            },
            "colorscale": [
             [
              0,
              "#0d0887"
             ],
             [
              0.1111111111111111,
              "#46039f"
             ],
             [
              0.2222222222222222,
              "#7201a8"
             ],
             [
              0.3333333333333333,
              "#9c179e"
             ],
             [
              0.4444444444444444,
              "#bd3786"
             ],
             [
              0.5555555555555556,
              "#d8576b"
             ],
             [
              0.6666666666666666,
              "#ed7953"
             ],
             [
              0.7777777777777778,
              "#fb9f3a"
             ],
             [
              0.8888888888888888,
              "#fdca26"
             ],
             [
              1,
              "#f0f921"
             ]
            ],
            "type": "surface"
           }
          ],
          "table": [
           {
            "cells": {
             "fill": {
              "color": "#EBF0F8"
             },
             "line": {
              "color": "white"
             }
            },
            "header": {
             "fill": {
              "color": "#C8D4E3"
             },
             "line": {
              "color": "white"
             }
            },
            "type": "table"
           }
          ]
         },
         "layout": {
          "annotationdefaults": {
           "arrowcolor": "#2a3f5f",
           "arrowhead": 0,
           "arrowwidth": 1
          },
          "autotypenumbers": "strict",
          "coloraxis": {
           "colorbar": {
            "outlinewidth": 0,
            "ticks": ""
           }
          },
          "colorscale": {
           "diverging": [
            [
             0,
             "#8e0152"
            ],
            [
             0.1,
             "#c51b7d"
            ],
            [
             0.2,
             "#de77ae"
            ],
            [
             0.3,
             "#f1b6da"
            ],
            [
             0.4,
             "#fde0ef"
            ],
            [
             0.5,
             "#f7f7f7"
            ],
            [
             0.6,
             "#e6f5d0"
            ],
            [
             0.7,
             "#b8e186"
            ],
            [
             0.8,
             "#7fbc41"
            ],
            [
             0.9,
             "#4d9221"
            ],
            [
             1,
             "#276419"
            ]
           ],
           "sequential": [
            [
             0,
             "#0d0887"
            ],
            [
             0.1111111111111111,
             "#46039f"
            ],
            [
             0.2222222222222222,
             "#7201a8"
            ],
            [
             0.3333333333333333,
             "#9c179e"
            ],
            [
             0.4444444444444444,
             "#bd3786"
            ],
            [
             0.5555555555555556,
             "#d8576b"
            ],
            [
             0.6666666666666666,
             "#ed7953"
            ],
            [
             0.7777777777777778,
             "#fb9f3a"
            ],
            [
             0.8888888888888888,
             "#fdca26"
            ],
            [
             1,
             "#f0f921"
            ]
           ],
           "sequentialminus": [
            [
             0,
             "#0d0887"
            ],
            [
             0.1111111111111111,
             "#46039f"
            ],
            [
             0.2222222222222222,
             "#7201a8"
            ],
            [
             0.3333333333333333,
             "#9c179e"
            ],
            [
             0.4444444444444444,
             "#bd3786"
            ],
            [
             0.5555555555555556,
             "#d8576b"
            ],
            [
             0.6666666666666666,
             "#ed7953"
            ],
            [
             0.7777777777777778,
             "#fb9f3a"
            ],
            [
             0.8888888888888888,
             "#fdca26"
            ],
            [
             1,
             "#f0f921"
            ]
           ]
          },
          "colorway": [
           "#636efa",
           "#EF553B",
           "#00cc96",
           "#ab63fa",
           "#FFA15A",
           "#19d3f3",
           "#FF6692",
           "#B6E880",
           "#FF97FF",
           "#FECB52"
          ],
          "font": {
           "color": "#2a3f5f"
          },
          "geo": {
           "bgcolor": "white",
           "lakecolor": "white",
           "landcolor": "#E5ECF6",
           "showlakes": true,
           "showland": true,
           "subunitcolor": "white"
          },
          "hoverlabel": {
           "align": "left"
          },
          "hovermode": "closest",
          "mapbox": {
           "style": "light"
          },
          "paper_bgcolor": "white",
          "plot_bgcolor": "#E5ECF6",
          "polar": {
           "angularaxis": {
            "gridcolor": "white",
            "linecolor": "white",
            "ticks": ""
           },
           "bgcolor": "#E5ECF6",
           "radialaxis": {
            "gridcolor": "white",
            "linecolor": "white",
            "ticks": ""
           }
          },
          "scene": {
           "xaxis": {
            "backgroundcolor": "#E5ECF6",
            "gridcolor": "white",
            "gridwidth": 2,
            "linecolor": "white",
            "showbackground": true,
            "ticks": "",
            "zerolinecolor": "white"
           },
           "yaxis": {
            "backgroundcolor": "#E5ECF6",
            "gridcolor": "white",
            "gridwidth": 2,
            "linecolor": "white",
            "showbackground": true,
            "ticks": "",
            "zerolinecolor": "white"
           },
           "zaxis": {
            "backgroundcolor": "#E5ECF6",
            "gridcolor": "white",
            "gridwidth": 2,
            "linecolor": "white",
            "showbackground": true,
            "ticks": "",
            "zerolinecolor": "white"
           }
          },
          "shapedefaults": {
           "line": {
            "color": "#2a3f5f"
           }
          },
          "ternary": {
           "aaxis": {
            "gridcolor": "white",
            "linecolor": "white",
            "ticks": ""
           },
           "baxis": {
            "gridcolor": "white",
            "linecolor": "white",
            "ticks": ""
           },
           "bgcolor": "#E5ECF6",
           "caxis": {
            "gridcolor": "white",
            "linecolor": "white",
            "ticks": ""
           }
          },
          "title": {
           "x": 0.05
          },
          "xaxis": {
           "automargin": true,
           "gridcolor": "white",
           "linecolor": "white",
           "ticks": "",
           "title": {
            "standoff": 15
           },
           "zerolinecolor": "white",
           "zerolinewidth": 2
          },
          "yaxis": {
           "automargin": true,
           "gridcolor": "white",
           "linecolor": "white",
           "ticks": "",
           "title": {
            "standoff": 15
           },
           "zerolinecolor": "white",
           "zerolinewidth": 2
          }
         }
        }
       }
      }
     },
     "metadata": {},
     "output_type": "display_data"
    }
   ],
   "source": [
    "x_axis = df_sigmoid_bin['address']\n",
    "y_axis = df_sigmoid_bin['sigmoid_bin_conv']\n",
    "pacitydef = 0.8\n",
    "\n",
    "sigmoid = go.Scatter(\n",
    "    x= x_axis,\n",
    "    y=df_sigmoid_bin['sigmoid'],\n",
    "    name=\"sigmoid\",\n",
    "    # line= dict(color='#FF8000'),\n",
    "    opacity = 0.8,\n",
    "    line_shape='spline')\n",
    "\n",
    "sigmoid_bin = go.Scatter(\n",
    "    x= x_axis,\n",
    "    y= y_axis,\n",
    "    name=\"sigmoid_bin\",\n",
    "    line= dict(color='#FF8000'),\n",
    "    opacity = 0.8,\n",
    "    line_shape='spline')\n",
    "\n",
    "dadospred = ([sigmoid,sigmoid_bin])\n",
    "figpred = go.Figure(data=dadospred)#, layout=layout)\n",
    "py.iplot(figpred)"
   ]
  },
  {
   "cell_type": "code",
   "execution_count": 268,
   "metadata": {},
   "outputs": [],
   "source": [
    "#colocando na memória com o Index\n",
    "df_sigmoid_first= float(df_sigmoid['n'].iloc[:1])\n",
    "i= 0\n",
    "text = str('')\n",
    "text_zeros = str('')\n",
    "text_rom_to_asic = str('--\"bin_address\" => \"bin_data\",- address(MAC_result) || f(x) \\n') # -1 a 1\n",
    "#texto para fazer lógica 'signed' funcionar no std_logic_vector\n",
    "text_rom_to_asic_2 = str('--\"bin_data\",--(address)MAC     =integer_MAC|| f(x)               = integer_f_x \\n')# 0 a 1 e -1 a 0\n",
    "\n",
    "#------------------------------- ROM ASIC -------------------------------#\n",
    "#texto rom -> vhd (asic) || índice por 'n'\n",
    "for i in range(int(len(df_sigmoid_bin)/2), len(df_sigmoid_bin)): \n",
    "    text_rom_to_asic_2 = (\n",
    "        text_rom_to_asic_2+'\"' \n",
    "             +str(df_sigmoid_bin['sigmoid_bin'][i])+  '\",-- '\n",
    "             +f\"({(df_sigmoid_bin['address_bin'][i])})\"\n",
    "             + str(offset_df_memory +df_sigmoid_first+(i*dx_sigmoid*mult_factor)).ljust(10, ' ')\n",
    "             +f\" = {str(df_sigmoid_bin['address_bin_conv'][i]).ljust(6, ' ')}\"\n",
    "             +f\" || {str(df_sigmoid['sig_norm'][i]).ljust(18, ' ')} = {str(df_sigmoid_bin['sigmoid_bin_conv'][i])}\\n\")\n",
    "\n",
    "for i in range(0, int(len(df_sigmoid_bin)/2) ): \n",
    "    text_rom_to_asic_2 = (\n",
    "        text_rom_to_asic_2+'\"' #pega o q já tem de texto\n",
    "             +str(df_sigmoid_bin['sigmoid_bin'][i])+  '\",-- ' #pega elemento i da sigmoide\n",
    "             +f\"({df_sigmoid_bin['address_bin'][i]})\"\n",
    "             + str(offset_df_memory +df_sigmoid_first+(i*dx_sigmoid*mult_factor)).ljust(10, ' ')\n",
    "             +f\" = {str(df_sigmoid_bin['address_bin_conv'][i]).ljust(6, ' ')}\"\n",
    "             +f\" || {str(df_sigmoid['sig_norm'][i]).ljust(18, ' ')} = {str(df_sigmoid_bin['sigmoid_bin_conv'][i])}\\n\")\n",
    "    \n",
    "\n",
    "#------------------------------- ROM .mif -------------------------------#\n",
    "#define se o endereço será com 'n' ou 'address'\n",
    "if (memory_address_type == False): # 0= int(n)\n",
    "  for i in range(0, len(df_sigmoid_bin)): #caso seja por 'n'\n",
    "    text = (text+''+ str(df_sigmoid_bin.index[i]) + ':' + str(df_sigmoid_bin['sigmoid_bin'][i])+  ';-- '+str(offset_df_memory +df_sigmoid_first+(i*dx_sigmoid*mult_factor))+' || '+str(df_sigmoid['sig_norm'][i]) +'\\n')\n",
    "    # )\n",
    "else: #1= float(address)\n",
    "  for i in range(0, len(df_sigmoid_bin)):\n",
    "    text = (text+''+ str(df_sigmoid_bin['address_bin'][i]) + ':' +str(df_sigmoid_bin['sigmoid_bin'][i])+  ';-- '+str(offset_df_memory +df_sigmoid_first+(i*dx_sigmoid*mult_factor))+' || '+str(df_sigmoid['sig_norm'][i]) +'\\n')\n",
    "   \n",
    "   #essa não funciona pra compilar \n",
    "   # text_rom_to_asic = (text_rom_to_asic+'\"'+ str(df_sigmoid_bin['address_bin'][i]) + '\" => \"' +str(df_sigmoid_bin['sigmoid_bin'][i])+  '\";-- '+str(offset_df_memory +df_sigmoid_first+(i*dx_sigmoid*mult_factor))+' || '+str(df_sigmoid['sig_norm'][i]) +'\\n')\n",
    "    # )\n",
    "    # text_zeros = (text_zeros+''+ str(df_sigmoid_bin['address_zeros'][i]) + ':' +zeros_memory+  ';-- '+str(df_sigmoid['n_zeros'][i])+' || zero \\n')"
   ]
  },
  {
   "attachments": {},
   "cell_type": "markdown",
   "metadata": {},
   "source": [
    "## ROM Definitions"
   ]
  },
  {
   "cell_type": "code",
   "execution_count": 269,
   "metadata": {},
   "outputs": [],
   "source": [
    "rom_clk = 0   #1= rom com clock || 0= sem clock\n",
    "\n",
    "# ROM_name = \"rom_fx_addwidth\"+str(memory_depth)+\"_addbit\"+str(int(math.log2(memory_depth)))+\"_datawidth\"+str(memory_width)\n",
    "ROM_name = f\"ROM_fixedpoint_{BIT_WIDTH}bit\"\n"
   ]
  },
  {
   "cell_type": "code",
   "execution_count": 270,
   "metadata": {},
   "outputs": [
    {
     "data": {
      "text/plain": [
       "256"
      ]
     },
     "execution_count": 270,
     "metadata": {},
     "output_type": "execute_result"
    }
   ],
   "source": [
    "memory_width= n_integer + n_mantissa_sigmoid\n",
    "if memory_address_type == False : # 0= int(n)\n",
    "  memory_depth = len(df_sigmoid_bin)\n",
    "  memory_value_type = 'DEC' #Enter BIN, DEC, HEX, OCT, or UNS; #because memory is with (signed/unsigned) bin address\n",
    "else: #1= float(address)\n",
    "  memory_depth = len(df_sigmoid_bin)\n",
    "  memory_value_type = 'BIN' #Enter BIN, DEC, HEX, OCT, or UNS; #because memory is with (signed/unsigned) bin address\n",
    "\n",
    "memory_depth"
   ]
  },
  {
   "cell_type": "code",
   "execution_count": 271,
   "metadata": {},
   "outputs": [
    {
     "name": "stdout",
     "output_type": "stream",
     "text": [
      "\n",
      "\n",
      "--https://stackoverflow.com/questions/17579716/implementing-rom-in-xilinx-vhdl\n",
      "LIBRARY ieee ;\n",
      "USE ieee.std_logic_1164.all ;\n",
      "use ieee.numeric_std.all;\n",
      "\n",
      "----------------\n",
      "\n",
      "ENTITY ROM_fixedpoint_8bit is\n",
      "generic(addr_width : integer := 256; -- store 256 elements\n",
      "\t\t\t\taddr_bits  : integer := 8; -- required bits to store 256 elements\n",
      "\t\t\t\tdata_width : integer := 7  -- each element has 7-bits\n",
      "\t\t\t\t);\n",
      "\t\t\t\n",
      "  PORT (\n",
      "    address : IN STD_LOGIC_VECTOR(addr_bits - 1 DOWNTO 0);\n",
      "    data_out : OUT STD_LOGIC_VECTOR(data_width - 1 DOWNTO 0)\n",
      "  );\n",
      "END ENTITY;\n",
      "\n",
      "------------------\n",
      "architecture arch of ROM_fixedpoint_8bit is\n",
      "\n",
      "\ttype memory is array ( 0 to addr_width-1 ) of std_logic_vector(data_width-1 downto 0 ) ;\n",
      "\tconstant myrom : memory := (\n",
      "\t\n",
      "--\"bin_data\",--(address)MAC     =integer_MAC|| f(x)               = integer_f_x \n",
      "\"01000000\",-- (00000000)0.0        = 0.0    || 0.5                = 64.0\n",
      "\"01000001\",-- (00000010)0.0078125  = 2.0    || 0.5124973964842103 = 65.0\n",
      "\"01000011\",-- (00000100)0.015625   = 4.0    || 0.52497918747894   = 67.0\n",
      "\"01000100\",-- (00000110)0.0234375  = 6.0    || 0.5374298453437496 = 68.0\n",
      "\"01000110\",-- (00001000)0.03125    = 8.0    || 0.549833997312478  = 70.0\n",
      "\"01000111\",-- (00001010)0.0390625  = 10.0   || 0.5621765008857981 = 71.0\n",
      "\"01001001\",-- (00001100)0.046875   = 12.0   || 0.574442516811659  = 73.0\n",
      "\"01001011\",-- (00001110)0.0546875  = 14.0   || 0.5866175789173301 = 75.0\n",
      "\"01001100\",-- (00010000)0.0625     = 16.0   || 0.598687660112452  = 76.0\n",
      "\"01001110\",-- (00010010)0.0703125  = 18.0   || 0.610639233949222  = 78.0\n",
      "\"01001111\",-- (00010100)0.078125   = 20.0   || 0.6224593312018546 = 79.0\n",
      "\"01010001\",-- (00010110)0.0859375  = 22.0   || 0.6341355910108007 = 81.0\n",
      "\"01010010\",-- (00011000)0.09375    = 24.0   || 0.6456563062257954 = 82.0\n",
      "\"01010100\",-- (00011010)0.1015625  = 26.0   || 0.6570104626734988 = 84.0\n",
      "\"01010101\",-- (00011100)0.109375   = 28.0   || 0.6681877721681662 = 85.0\n",
      "\"01010110\",-- (00011110)0.1171875  = 30.0   || 0.679178699175393  = 86.0\n",
      "\"01011000\",-- (00100000)0.125      = 32.0   || 0.6899744811276125 = 88.0\n",
      "\"01011001\",-- (00100010)0.1328125  = 34.0   || 0.700567142473973  = 89.0\n",
      "\"01011011\",-- (00100100)0.140625   = 36.0   || 0.7109495026250039 = 91.0\n",
      "\"01011100\",-- (00100110)0.1484375  = 38.0   || 0.7211151780228631 = 92.0\n",
      "\"01011101\",-- (00101000)0.15625    = 40.0   || 0.7310585786300049 = 93.0\n",
      "\"01011110\",-- (00101010)0.1640625  = 42.0   || 0.740774899182154  = 94.0\n",
      "\"01100000\",-- (00101100)0.171875   = 44.0   || 0.7502601055951177 = 96.0\n",
      "\"01100001\",-- (00101110)0.1796875  = 46.0   || 0.759510916949111  = 97.0\n",
      "\"01100010\",-- (00110000)0.1875     = 48.0   || 0.7685247834990178 = 98.0\n",
      "\"01100011\",-- (00110010)0.1953125  = 50.0   || 0.7772998611746911 = 99.0\n",
      "\"01100100\",-- (00110100)0.203125   = 52.0   || 0.7858349830425586 = 100.0\n",
      "\"01100101\",-- (00110110)0.2109375  = 54.0   || 0.7941296281990528 = 101.0\n",
      "\"01100110\",-- (00111000)0.21875    = 56.0   || 0.8021838885585818 = 102.0\n",
      "\"01100111\",-- (00111010)0.2265625  = 58.0   || 0.8099984339846871 = 103.0\n",
      "\"01101000\",-- (00111100)0.234375   = 60.0   || 0.8175744761936437 = 104.0\n",
      "\"01101001\",-- (00111110)0.2421875  = 62.0   || 0.8249137318359602 = 105.0\n",
      "\"01101010\",-- (01000000)0.25       = 64.0   || 0.8320183851339245 = 106.0\n",
      "\"01101011\",-- (01000010)0.2578125  = 66.0   || 0.8388910504234147 = 107.0\n",
      "\"01101100\",-- (01000100)0.265625   = 68.0   || 0.8455347349164652 = 108.0\n",
      "\"01101101\",-- (01000110)0.2734375  = 70.0   || 0.8519528019683106 = 109.0\n",
      "\"01101101\",-- (01001000)0.28125    = 72.0   || 0.8581489350995123 = 109.0\n",
      "\"01101110\",-- (01001010)0.2890625  = 74.0   || 0.8641271029909058 = 110.0\n",
      "\"01101111\",-- (01001100)0.296875   = 76.0   || 0.8698915256370021 = 111.0\n",
      "\"01110000\",-- (01001110)0.3046875  = 78.0   || 0.8754466418125836 = 112.0\n",
      "\"01110000\",-- (01010000)0.3125     = 80.0   || 0.8807970779778823 = 112.0\n",
      "\"01110001\",-- (01010010)0.3203125  = 82.0   || 0.8859476187202091 = 113.0\n",
      "\"01110010\",-- (01010100)0.328125   = 84.0   || 0.8909031788043871 = 114.0\n",
      "\"01110010\",-- (01010110)0.3359375  = 86.0   || 0.8956687768809987 = 114.0\n",
      "\"01110011\",-- (01011000)0.34375    = 88.0   || 0.9002495108803148 = 115.0\n",
      "\"01110011\",-- (01011010)0.3515625  = 90.0   || 0.9046505351008906 = 115.0\n",
      "\"01110100\",-- (01011100)0.359375   = 92.0   || 0.9088770389851438 = 116.0\n",
      "\"01110100\",-- (01011110)0.3671875  = 94.0   || 0.9129342275597286 = 116.0\n",
      "\"01110101\",-- (01100000)0.375      = 96.0   || 0.9168273035060777 = 117.0\n",
      "\"01110101\",-- (01100010)0.3828125  = 98.0   || 0.9205614508160216 = 117.0\n",
      "\"01110110\",-- (01100100)0.390625   = 100.0  || 0.9241418199787566 = 118.0\n",
      "\"01110110\",-- (01100110)0.3984375  = 102.0  || 0.9275735146384823 = 118.0\n",
      "\"01110111\",-- (01101000)0.40625    = 104.0  || 0.9308615796566533 = 119.0\n",
      "\"01110111\",-- (01101010)0.4140625  = 106.0  || 0.9340109905087812 = 119.0\n",
      "\"01110111\",-- (01101100)0.421875   = 108.0  || 0.9370266439430035 = 119.0\n",
      "\"01111000\",-- (01101110)0.4296875  = 110.0  || 0.9399133498259924 = 120.0\n",
      "\"01111000\",-- (01110000)0.4375     = 112.0  || 0.9426758241011313 = 120.0\n",
      "\"01111001\",-- (01110010)0.4453125  = 114.0  || 0.9453186827840592 = 121.0\n",
      "\"01111001\",-- (01110100)0.453125   = 116.0  || 0.9478464369215823 = 121.0\n",
      "\"01111001\",-- (01110110)0.4609375  = 118.0  || 0.9502634884414434 = 121.0\n",
      "\"01111001\",-- (01111000)0.46875    = 120.0  || 0.9525741268224334 = 121.0\n",
      "\"01111010\",-- (01111010)0.4765625  = 122.0  || 0.9547825265167125 = 122.0\n",
      "\"01111010\",-- (01111100)0.484375   = 124.0  || 0.9568927450589139 = 122.0\n",
      "\"01111010\",-- (01111110)0.4921875  = 126.0  || 0.958908721799535  = 122.0\n",
      "\"01111010\",-- (01111111)0.5        = 127.0  || 0.9608342772032357 = 122.0\n",
      "\"01111011\",-- (01111111)0.5078125  = 127.0  || 0.9626731126558706 = 123.0\n",
      "\"01111011\",-- (01111111)0.515625   = 127.0  || 0.9644288107273639 = 123.0\n",
      "\"01111011\",-- (01111111)0.5234375  = 127.0  || 0.9661048358408219 = 123.0\n",
      "\"01111011\",-- (01111111)0.53125    = 127.0  || 0.9677045353015495 = 123.0\n",
      "\"01111100\",-- (01111111)0.5390625  = 127.0  || 0.969231140642852  = 124.0\n",
      "\"01111100\",-- (01111111)0.546875   = 127.0  || 0.9706877692486436 = 124.0\n",
      "\"01111100\",-- (01111111)0.5546875  = 127.0  || 0.9720774262159271 = 124.0\n",
      "\"01111100\",-- (01111111)0.5625     = 127.0  || 0.973403006423134  = 124.0\n",
      "\"01111100\",-- (01111111)0.5703125  = 127.0  || 0.9746672967731284 = 124.0\n",
      "\"01111100\",-- (01111111)0.578125   = 127.0  || 0.9758729785823308 = 124.0\n",
      "\"01111101\",-- (01111111)0.5859375  = 127.0  || 0.9770226300899744 = 125.0\n",
      "\"01111101\",-- (01111111)0.59375    = 127.0  || 0.9781187290638694 = 125.0\n",
      "\"01111101\",-- (01111111)0.6015625  = 127.0  || 0.9791636554813196 = 125.0\n",
      "\"01111101\",-- (01111111)0.609375   = 127.0  || 0.9801596942659225 = 125.0\n",
      "\"01111101\",-- (01111111)0.6171875  = 127.0  || 0.9811090380629609 = 125.0\n",
      "\"01111101\",-- (01111111)0.625      = 127.0  || 0.9820137900379085 = 125.0\n",
      "\"01111101\",-- (01111111)0.6328125  = 127.0  || 0.9828759666842724 = 125.0\n",
      "\"01111101\",-- (01111111)0.640625   = 127.0  || 0.9836975006285591 = 125.0\n",
      "\"01111110\",-- (01111111)0.6484375  = 127.0  || 0.9844802434215911 = 126.0\n",
      "\"01111110\",-- (01111111)0.65625    = 127.0  || 0.9852259683067269 = 126.0\n",
      "\"01111110\",-- (01111111)0.6640625  = 127.0  || 0.9859363729567544 = 126.0\n",
      "\"01111110\",-- (01111111)0.671875   = 127.0  || 0.9866130821723351 = 126.0\n",
      "\"01111110\",-- (01111111)0.6796875  = 127.0  || 0.9872576505358884 = 126.0\n",
      "\"01111110\",-- (01111111)0.6875     = 127.0  || 0.9878715650157257 = 126.0\n",
      "\"01111110\",-- (01111111)0.6953125  = 127.0  || 0.9884562475160777 = 126.0\n",
      "\"01111110\",-- (01111111)0.703125   = 127.0  || 0.9890130573694068 = 126.0\n",
      "\"01111110\",-- (01111111)0.7109375  = 127.0  || 0.9895432937680818 = 126.0\n",
      "\"01111110\",-- (01111111)0.71875    = 127.0  || 0.9900481981330957 = 126.0\n",
      "\"01111110\",-- (01111111)0.7265625  = 127.0  || 0.9905289564180538 = 126.0\n",
      "\"01111110\",-- (01111111)0.734375   = 127.0  || 0.990986701347152  = 126.0\n",
      "\"01111110\",-- (01111111)0.7421875  = 127.0  || 0.991422514586288  = 126.0\n",
      "\"01111110\",-- (01111111)0.75       = 127.0  || 0.9918374288468401 = 126.0\n",
      "\"01111111\",-- (01111111)0.7578125  = 127.0  || 0.9922324299219849 = 127.0\n",
      "\"01111111\",-- (01111111)0.765625   = 127.0  || 0.9926084586557181 = 127.0\n",
      "\"01111111\",-- (01111111)0.7734375  = 127.0  || 0.9929664128450049 = 127.0\n",
      "\"01111111\",-- (01111111)0.78125    = 127.0  || 0.9933071490757153 = 127.0\n",
      "\"01111111\",-- (01111111)0.7890625  = 127.0  || 0.9936314844931846 = 127.0\n",
      "\"01111111\",-- (01111111)0.796875   = 127.0  || 0.9939401985084158 = 127.0\n",
      "\"01111111\",-- (01111111)0.8046875  = 127.0  || 0.994234034441075  = 127.0\n",
      "\"01111111\",-- (01111111)0.8125     = 127.0  || 0.9945137011005495 = 127.0\n",
      "\"01111111\",-- (01111111)0.8203125  = 127.0  || 0.9947798743064417 = 127.0\n",
      "\"01111111\",-- (01111111)0.828125   = 127.0  || 0.995033198349943  = 127.0\n",
      "\"01111111\",-- (01111111)0.8359375  = 127.0  || 0.9952742873976046 = 127.0\n",
      "\"01111111\",-- (01111111)0.84375    = 127.0  || 0.9955037268390589 = 127.0\n",
      "\"01111111\",-- (01111111)0.8515625  = 127.0  || 0.9957220745802952 = 127.0\n",
      "\"01111111\",-- (01111111)0.859375   = 127.0  || 0.995929862284104  = 127.0\n",
      "\"01111111\",-- (01111111)0.8671875  = 127.0  || 0.9961275965593289 = 127.0\n",
      "\"01111111\",-- (01111111)0.875      = 127.0  || 0.9963157601005641 = 127.0\n",
      "\"01111111\",-- (01111111)0.8828125  = 127.0  || 0.9964948127799336 = 127.0\n",
      "\"01111111\",-- (01111111)0.890625   = 127.0  || 0.9966651926925867 = 127.0\n",
      "\"01111111\",-- (01111111)0.8984375  = 127.0  || 0.9968273171575148 = 127.0\n",
      "\"01111111\",-- (01111111)0.90625    = 127.0  || 0.9969815836752917 = 127.0\n",
      "\"01111111\",-- (01111111)0.9140625  = 127.0  || 0.9971283708442995 = 127.0\n",
      "\"01111111\",-- (01111111)0.921875   = 127.0  || 0.997268039236989  = 127.0\n",
      "\"01111111\",-- (01111111)0.9296875  = 127.0  || 0.9974009322376768 = 127.0\n",
      "\"01111111\",-- (01111111)0.9375     = 127.0  || 0.9975273768433653 = 127.0\n",
      "\"01111111\",-- (01111111)0.9453125  = 127.0  || 0.997647684429022  = 127.0\n",
      "\"01111111\",-- (01111111)0.953125   = 127.0  || 0.9977621514787236 = 127.0\n",
      "\"01111111\",-- (01111111)0.9609375  = 127.0  || 0.9978710602840357 = 127.0\n",
      "\"01111111\",-- (01111111)0.96875    = 127.0  || 0.9979746796109501 = 127.0\n",
      "\"01111111\",-- (01111111)0.9765625  = 127.0  || 0.9980732653366725 = 127.0\n",
      "\"01111111\",-- (01111111)0.984375   = 127.0  || 0.9981670610575072 = 127.0\n",
      "\"01111111\",-- (01111111)0.9921875  = 127.0  || 0.9982562986690452 = 127.0\n",
      "\"00000000\",-- (10000000)-1.0       = -128.0 || 0.0016588010801744215 = 0.0\n",
      "\"00000000\",-- (10000000)-0.9921875 = -128.0 || 0.001743701330954778 = 0.0\n",
      "\"00000000\",-- (10000000)-0.984375  = -128.0 || 0.0018329389424928035 = 0.0\n",
      "\"00000000\",-- (10000000)-0.9765625 = -128.0 || 0.0019267346633274757 = 0.0\n",
      "\"00000000\",-- (10000000)-0.96875   = -128.0 || 0.002025320389049882 = 0.0\n",
      "\"00000000\",-- (10000000)-0.9609375 = -128.0 || 0.0021289397159641892 = 0.0\n",
      "\"00000000\",-- (10000000)-0.953125  = -128.0 || 0.0022378485212763317 = 0.0\n",
      "\"00000000\",-- (10000000)-0.9453125 = -128.0 || 0.0023523155709781456 = 0.0\n",
      "\"00000000\",-- (10000000)-0.9375    = -128.0 || 0.0024726231566347743 = 0.0\n",
      "\"00000000\",-- (10000000)-0.9296875 = -128.0 || 0.002599067762323347 = 0.0\n",
      "\"00000000\",-- (10000000)-0.921875  = -128.0 || 0.002731960763011059 = 0.0\n",
      "\"00000000\",-- (10000000)-0.9140625 = -128.0 || 0.0028716291557003976 = 0.0\n",
      "\"00000000\",-- (10000000)-0.90625   = -128.0 || 0.0030184163247084215 = 0.0\n",
      "\"00000000\",-- (10000000)-0.8984375 = -128.0 || 0.0031726828424851893 = 0.0\n",
      "\"00000000\",-- (10000000)-0.890625  = -128.0 || 0.0033348073074133443 = 0.0\n",
      "\"00000000\",-- (10000000)-0.8828125 = -128.0 || 0.003505187220066338 = 0.0\n",
      "\"00000000\",-- (10000000)-0.875     = -128.0 || 0.003684239899435986 = 0.0\n",
      "\"00000000\",-- (10000000)-0.8671875 = -128.0 || 0.0038724034406710283 = 0.0\n",
      "\"00000000\",-- (10000000)-0.859375  = -128.0 || 0.004070137715896128 = 0.0\n",
      "\"00000000\",-- (10000000)-0.8515625 = -128.0 || 0.004277925419704973 = 0.0\n",
      "\"00000000\",-- (10000000)-0.84375   = -128.0 || 0.004496273160941178 = 0.0\n",
      "\"00000000\",-- (10000000)-0.8359375 = -128.0 || 0.004725712602395478 = 0.0\n",
      "\"00000000\",-- (10000000)-0.828125  = -128.0 || 0.004966801650056957 = 0.0\n",
      "\"00000000\",-- (10000000)-0.8203125 = -128.0 || 0.005220125693558397 = 0.0\n",
      "\"00000000\",-- (10000000)-0.8125    = -128.0 || 0.005486298899450404 = 0.0\n",
      "\"00000000\",-- (10000000)-0.8046875 = -128.0 || 0.005765965558924903 = 0.0\n",
      "\"00000000\",-- (10000000)-0.796875  = -128.0 || 0.00605980149158411 = 0.0\n",
      "\"00000000\",-- (10000000)-0.7890625 = -128.0 || 0.006368515506815542 = 0.0\n",
      "\"00000000\",-- (10000000)-0.78125   = -128.0 || 0.0066928509242848554 = 0.0\n",
      "\"00000000\",-- (10000000)-0.7734375 = -128.0 || 0.007033587154995161 = 0.0\n",
      "\"00000000\",-- (10000000)-0.765625  = -128.0 || 0.007391541344281971 = 0.0\n",
      "\"00000000\",-- (10000000)-0.7578125 = -128.0 || 0.007767570078014998 = 0.0\n",
      "\"00000001\",-- (10000000)-0.75      = -128.0 || 0.00816257115315989 = 1.0\n",
      "\"00000001\",-- (10000000)-0.7421875 = -128.0 || 0.008577485413711984 = 1.0\n",
      "\"00000001\",-- (10000000)-0.734375  = -128.0 || 0.009013298652847822 = 1.0\n",
      "\"00000001\",-- (10000000)-0.7265625 = -128.0 || 0.009471043581946108 = 1.0\n",
      "\"00000001\",-- (10000000)-0.71875   = -128.0 || 0.009951801866904317 = 1.0\n",
      "\"00000001\",-- (10000000)-0.7109375 = -128.0 || 0.010456706231918071 = 1.0\n",
      "\"00000001\",-- (10000000)-0.703125  = -128.0 || 0.01098694263059318 = 1.0\n",
      "\"00000001\",-- (10000000)-0.6953125 = -128.0 || 0.011543752483922289 = 1.0\n",
      "\"00000001\",-- (10000000)-0.6875    = -128.0 || 0.012128434984274237 = 1.0\n",
      "\"00000001\",-- (10000000)-0.6796875 = -128.0 || 0.012742349464111596 = 1.0\n",
      "\"00000001\",-- (10000000)-0.671875  = -128.0 || 0.013386917827664779 = 1.0\n",
      "\"00000001\",-- (10000000)-0.6640625 = -128.0 || 0.014063627043245475 = 1.0\n",
      "\"00000001\",-- (10000000)-0.65625   = -128.0 || 0.014774031693273055 = 1.0\n",
      "\"00000001\",-- (10000000)-0.6484375 = -128.0 || 0.015519756578408886 = 1.0\n",
      "\"00000010\",-- (10000000)-0.640625  = -128.0 || 0.01630249937144093 = 2.0\n",
      "\"00000010\",-- (10000000)-0.6328125 = -128.0 || 0.017124033315727736 = 2.0\n",
      "\"00000010\",-- (10000000)-0.625     = -128.0 || 0.01798620996209156 = 2.0\n",
      "\"00000010\",-- (10000000)-0.6171875 = -128.0 || 0.01889096193703905 = 2.0\n",
      "\"00000010\",-- (10000000)-0.609375  = -128.0 || 0.019840305734077503 = 2.0\n",
      "\"00000010\",-- (10000000)-0.6015625 = -128.0 || 0.020836344518680425 = 2.0\n",
      "\"00000010\",-- (10000000)-0.59375   = -128.0 || 0.021881270936130466 = 2.0\n",
      "\"00000010\",-- (10000000)-0.5859375 = -128.0 || 0.022977369910025615 = 2.0\n",
      "\"00000011\",-- (10000000)-0.578125  = -128.0 || 0.024127021417669196 = 3.0\n",
      "\"00000011\",-- (10000000)-0.5703125 = -128.0 || 0.02533270322687172 = 3.0\n",
      "\"00000011\",-- (10000000)-0.5625    = -128.0 || 0.026596993576865856 = 3.0\n",
      "\"00000011\",-- (10000000)-0.5546875 = -128.0 || 0.027922573784073014 = 3.0\n",
      "\"00000011\",-- (10000000)-0.546875  = -128.0 || 0.02931223075135632 = 3.0\n",
      "\"00000011\",-- (10000000)-0.5390625 = -128.0 || 0.030768859357148008 = 3.0\n",
      "\"00000100\",-- (10000000)-0.53125   = -128.0 || 0.032295464698450495 = 4.0\n",
      "\"00000100\",-- (10000000)-0.5234375 = -128.0 || 0.03389516415917814 = 4.0\n",
      "\"00000100\",-- (10000000)-0.515625  = -128.0 || 0.03557118927263617 = 4.0\n",
      "\"00000100\",-- (10000000)-0.5078125 = -128.0 || 0.03732688734412946 = 4.0\n",
      "\"00000101\",-- (10000000)-0.5       = -128.0 || 0.039165722796764356 = 5.0\n",
      "\"00000101\",-- (10000010)-0.4921875 = -126.0 || 0.041091278200464994 = 5.0\n",
      "\"00000101\",-- (10000100)-0.484375  = -124.0 || 0.043107254941086116 = 5.0\n",
      "\"00000101\",-- (10000110)-0.4765625 = -122.0 || 0.04521747348328748 = 5.0\n",
      "\"00000110\",-- (10001000)-0.46875   = -120.0 || 0.04742587317756678 = 6.0\n",
      "\"00000110\",-- (10001010)-0.4609375 = -118.0 || 0.04973651155855672 = 6.0\n",
      "\"00000110\",-- (10001100)-0.453125  = -116.0 || 0.05215356307841772 = 6.0\n",
      "\"00000110\",-- (10001110)-0.4453125 = -114.0 || 0.05468131721594076 = 6.0\n",
      "\"00000111\",-- (10010000)-0.4375    = -112.0 || 0.05732417589886873 = 7.0\n",
      "\"00000111\",-- (10010010)-0.4296875 = -110.0 || 0.060086650174007626 = 7.0\n",
      "\"00001000\",-- (10010100)-0.421875  = -108.0 || 0.06297335605699649 = 8.0\n",
      "\"00001000\",-- (10010110)-0.4140625 = -106.0 || 0.06598900949121876 = 8.0\n",
      "\"00001000\",-- (10011000)-0.40625   = -104.0 || 0.06913842034334682 = 8.0\n",
      "\"00001001\",-- (10011010)-0.3984375 = -102.0 || 0.07242648536151769 = 9.0\n",
      "\"00001001\",-- (10011100)-0.390625  = -100.0 || 0.07585818002124355 = 9.0\n",
      "\"00001010\",-- (10011110)-0.3828125 = -98.0  || 0.07943854918397836 = 10.0\n",
      "\"00001010\",-- (10100000)-0.375     = -96.0  || 0.08317269649392235 = 10.0\n",
      "\"00001011\",-- (10100010)-0.3671875 = -94.0  || 0.08706577244027125 = 11.0\n",
      "\"00001011\",-- (10100100)-0.359375  = -92.0  || 0.09112296101485612 = 11.0\n",
      "\"00001100\",-- (10100110)-0.3515625 = -90.0  || 0.09534946489910949 = 12.0\n",
      "\"00001100\",-- (10101000)-0.34375   = -88.0  || 0.09975048911968513 = 12.0\n",
      "\"00001101\",-- (10101010)-0.3359375 = -86.0  || 0.10433122311900131 = 13.0\n",
      "\"00001101\",-- (10101100)-0.328125  = -84.0  || 0.10909682119561294 = 13.0\n",
      "\"00001110\",-- (10101110)-0.3203125 = -82.0  || 0.11405238127979084 = 14.0\n",
      "\"00001111\",-- (10110000)-0.3125    = -80.0  || 0.11920292202211755 = 15.0\n",
      "\"00001111\",-- (10110010)-0.3046875 = -78.0  || 0.12455335818741639 = 15.0\n",
      "\"00010000\",-- (10110100)-0.296875  = -76.0  || 0.13010847436299783 = 16.0\n",
      "\"00010001\",-- (10110110)-0.2890625 = -74.0  || 0.13587289700909427 = 17.0\n",
      "\"00010010\",-- (10111000)-0.28125   = -72.0  || 0.14185106490048777 = 18.0\n",
      "\"00010010\",-- (10111010)-0.2734375 = -70.0  || 0.14804719803168948 = 18.0\n",
      "\"00010011\",-- (10111100)-0.265625  = -68.0  || 0.15446526508353467 = 19.0\n",
      "\"00010100\",-- (10111110)-0.2578125 = -66.0  || 0.16110894957658523 = 20.0\n",
      "\"00010101\",-- (11000000)-0.25      = -64.0  || 0.16798161486607552 = 21.0\n",
      "\"00010110\",-- (11000010)-0.2421875 = -62.0  || 0.1750862681640398 = 22.0\n",
      "\"00010111\",-- (11000100)-0.234375  = -60.0  || 0.18242552380635635 = 23.0\n",
      "\"00011000\",-- (11000110)-0.2265625 = -58.0  || 0.19000156601531293 = 24.0\n",
      "\"00011001\",-- (11001000)-0.21875   = -56.0  || 0.19781611144141822 = 25.0\n",
      "\"00011010\",-- (11001010)-0.2109375 = -54.0  || 0.20587037180094733 = 26.0\n",
      "\"00011011\",-- (11001100)-0.203125  = -52.0  || 0.2141650169574414 = 27.0\n",
      "\"00011100\",-- (11001110)-0.1953125 = -50.0  || 0.22270013882530884 = 28.0\n",
      "\"00011101\",-- (11010000)-0.1875    = -48.0  || 0.23147521650098232 = 29.0\n",
      "\"00011110\",-- (11010010)-0.1796875 = -46.0  || 0.24048908305088887 = 30.0\n",
      "\"00011111\",-- (11010100)-0.171875  = -44.0  || 0.24973989440488234 = 31.0\n",
      "\"00100001\",-- (11010110)-0.1640625 = -42.0  || 0.259225100817846  = 33.0\n",
      "\"00100010\",-- (11011000)-0.15625   = -40.0  || 0.2689414213699951 = 34.0\n",
      "\"00100011\",-- (11011010)-0.1484375 = -38.0  || 0.2788848219771369 = 35.0\n",
      "\"00100100\",-- (11011100)-0.140625  = -36.0  || 0.289050497374996  = 36.0\n",
      "\"00100110\",-- (11011110)-0.1328125 = -34.0  || 0.29943285752602705 = 38.0\n",
      "\"00100111\",-- (11100000)-0.125     = -32.0  || 0.31002551887238755 = 39.0\n",
      "\"00101001\",-- (11100010)-0.1171875 = -30.0  || 0.320821300824607  = 41.0\n",
      "\"00101010\",-- (11100100)-0.109375  = -28.0  || 0.3318122278318339 = 42.0\n",
      "\"00101011\",-- (11100110)-0.1015625 = -26.0  || 0.34298953732650117 = 43.0\n",
      "\"00101101\",-- (11101000)-0.09375   = -24.0  || 0.35434369377420455 = 45.0\n",
      "\"00101110\",-- (11101010)-0.0859375 = -22.0  || 0.36586440898919936 = 46.0\n",
      "\"00110000\",-- (11101100)-0.078125  = -20.0  || 0.3775406687981454 = 48.0\n",
      "\"00110001\",-- (11101110)-0.0703125 = -18.0  || 0.389360766050778  = 49.0\n",
      "\"00110011\",-- (11110000)-0.0625    = -16.0  || 0.401312339887548  = 51.0\n",
      "\"00110100\",-- (11110010)-0.0546875 = -14.0  || 0.41338242108267   = 52.0\n",
      "\"00110110\",-- (11110100)-0.046875  = -12.0  || 0.425557483188341  = 54.0\n",
      "\"00111000\",-- (11110110)-0.0390625 = -10.0  || 0.43782349911420193 = 56.0\n",
      "\"00111001\",-- (11111000)-0.03125   = -8.0   || 0.45016600268752216 = 57.0\n",
      "\"00111011\",-- (11111010)-0.0234375 = -6.0   || 0.46257015465625045 = 59.0\n",
      "\"00111100\",-- (11111100)-0.015625  = -4.0   || 0.47502081252106   = 60.0\n",
      "\"00111110\",-- (11111110)-0.0078125 = -2.0   || 0.4875026035157896 = 62.0\n",
      "\n",
      "\t\n",
      "--\t2 => \"11111111\" , --255\n",
      "--\t3 => \"11010101\" ,  \n",
      "others => \"00000000000\" \n",
      ") ;\n",
      "\n",
      "begin \n",
      "---------------\n",
      "data_out <= myrom(to_integer(unsigned(address))) ;\n",
      "end architecture ;\n",
      "\n",
      "\n"
     ]
    }
   ],
   "source": [
    "if rom_clk:\n",
    "\trom_text_asic = ( \n",
    "f'''--https://stackoverflow.com/questions/17579716/implementing-rom-in-xilinx-vhdl\n",
    "LIBRARY ieee ;\n",
    "USE ieee.std_logic_1164.all ;\n",
    "use ieee.numeric_std.all;\n",
    "\n",
    "----------------\n",
    "\n",
    "entity {ROM_name} is\n",
    "generic(addr_width : integer := {str(memory_depth)}; -- store {str(memory_depth)} elements\n",
    "        addr_bits  : integer := {str(int(math.log2(memory_depth)))}; -- required bits to store {str(memory_depth)} elements\n",
    "        data_width : integer := {str(memory_width)}  -- each element has {str(memory_width)}-bits\n",
    "\t\t\t\t);\n",
    "\t\t\t\n",
    "port ( clk : in std_logic ;\n",
    "\t\taddress : in std_logic_vector(addr_bits-1 downto 0);\n",
    "\t\tdata_out : out std_logic_vector(data_width-1 downto 0)\n",
    "\t\t) ;\n",
    "end entity ;\n",
    "\n",
    "------------------\n",
    "architecture arch of {ROM_name} is\n",
    "\n",
    "\tsignal reg_address: std_logic_vector(addr_bits-1 downto 0);\n",
    "\ttype memory is array ( 0 to addr_width-1 ) of std_logic_vector(data_width-1 downto 0 ) ;\n",
    "\tconstant myrom : memory := (\n",
    "\t\n",
    "{text_rom_to_asic_2}\n",
    "\t\n",
    "--\t2 => \"11111111\" , --255\n",
    "--\t3 => \"11010101\" ,  \n",
    "others => \"00000000000\" \n",
    ") ;\n",
    "\n",
    "begin \n",
    "\tprocess(clk)\n",
    "\t\tbegin \n",
    "\t\tif( clk'event and clk = '1' ) then\n",
    "\t\t\treg_address <= address ;\n",
    "\t\tend if ;\n",
    "\tend process ;\n",
    "---------------\n",
    "data_out <= myrom(to_integer(unsigned(reg_address))) ;\n",
    "end architecture ;\n",
    "\n",
    "''')\n",
    "\n",
    "else:\n",
    "\trom_text_asic = ( f'''\n",
    "\n",
    "--https://stackoverflow.com/questions/17579716/implementing-rom-in-xilinx-vhdl\n",
    "LIBRARY ieee ;\n",
    "USE ieee.std_logic_1164.all ;\n",
    "use ieee.numeric_std.all;\n",
    "\n",
    "----------------\n",
    "\n",
    "ENTITY {ROM_name} is\n",
    "generic(addr_width : integer := {str(memory_depth)}; -- store {str(memory_depth)} elements\n",
    "\t\t\t\taddr_bits  : integer := {str(int(math.log2(memory_depth)))}; -- required bits to store {str(memory_depth)} elements\n",
    "\t\t\t\tdata_width : integer := {str(memory_width)}  -- each element has {str(memory_width)}-bits\n",
    "\t\t\t\t);\n",
    "\t\t\t\n",
    "  PORT (\n",
    "    address : IN STD_LOGIC_VECTOR(addr_bits - 1 DOWNTO 0);\n",
    "    data_out : OUT STD_LOGIC_VECTOR(data_width - 1 DOWNTO 0)\n",
    "  );\n",
    "END ENTITY;\n",
    "\n",
    "------------------\n",
    "architecture arch of {ROM_name} is\n",
    "\n",
    "\ttype memory is array ( 0 to addr_width-1 ) of std_logic_vector(data_width-1 downto 0 ) ;\n",
    "\tconstant myrom : memory := (\n",
    "\t\n",
    "{text_rom_to_asic_2}\n",
    "\t\n",
    "--\t2 => \"11111111\" , --255\n",
    "--\t3 => \"11010101\" ,  \n",
    "others => \"00000000000\" \n",
    ") ;\n",
    "\n",
    "begin \n",
    "---------------\n",
    "data_out <= myrom(to_integer(unsigned(address))) ;\n",
    "end architecture ;\n",
    "\n",
    "''')\n",
    "\n",
    "\n",
    "print(rom_text_asic)"
   ]
  },
  {
   "cell_type": "code",
   "execution_count": 272,
   "metadata": {},
   "outputs": [],
   "source": [
    "text_file = open(f\"{ROM_name}.vhd\", \"w\")\n",
    "text_file.write(rom_text_asic)\n",
    "text_file.close()"
   ]
  },
  {
   "cell_type": "code",
   "execution_count": null,
   "metadata": {},
   "outputs": [],
   "source": []
  }
 ],
 "metadata": {
  "kernelspec": {
   "display_name": "Python 3",
   "language": "python",
   "name": "python3"
  },
  "language_info": {
   "codemirror_mode": {
    "name": "ipython",
    "version": 3
   },
   "file_extension": ".py",
   "mimetype": "text/x-python",
   "name": "python",
   "nbconvert_exporter": "python",
   "pygments_lexer": "ipython3",
   "version": "3.9.5"
  },
  "orig_nbformat": 4,
  "vscode": {
   "interpreter": {
    "hash": "d1b75f63a51ab1e44c10e89cf3b718812d9c5e2447d39cb402b946ba7653bfcd"
   }
  }
 },
 "nbformat": 4,
 "nbformat_minor": 2
}
